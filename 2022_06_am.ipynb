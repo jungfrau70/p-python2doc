{
 "cells": [
  {
   "cell_type": "code",
   "execution_count": 1,
   "id": "4dbf69b8-cac6-4f5d-a4c2-9039337f2569",
   "metadata": {},
   "outputs": [],
   "source": [
    "from chart import *"
   ]
  },
  {
   "cell_type": "markdown",
   "id": "d6ea6c14-9d17-46d6-a757-08cd925f8500",
   "metadata": {},
   "source": [
    "# 변경관리"
   ]
  },
  {
   "cell_type": "markdown",
   "id": "8049f0f7-f60c-45c4-92c4-256506f72b03",
   "metadata": {
    "tags": []
   },
   "source": [
    "## Data Loading"
   ]
  },
  {
   "cell_type": "code",
   "execution_count": 2,
   "id": "b82d9ed6-049a-42fa-b6d7-116bbf6440b1",
   "metadata": {},
   "outputs": [],
   "source": [
    "base_path = r\"./data/202206_자산관리DB_0715_01.ods\"\n",
    "sheet = '6월집계'\n",
    "\n",
    "df = read_ods(base_path, sheet, headers=True)"
   ]
  },
  {
   "cell_type": "code",
   "execution_count": 3,
   "id": "bfb9ee98-7af4-4b78-a735-c9755632c274",
   "metadata": {},
   "outputs": [
    {
     "data": {
      "text/html": [
       "<div>\n",
       "<style scoped>\n",
       "    .dataframe tbody tr th:only-of-type {\n",
       "        vertical-align: middle;\n",
       "    }\n",
       "\n",
       "    .dataframe tbody tr th {\n",
       "        vertical-align: top;\n",
       "    }\n",
       "\n",
       "    .dataframe thead th {\n",
       "        text-align: right;\n",
       "    }\n",
       "</style>\n",
       "<table border=\"1\" class=\"dataframe\">\n",
       "  <thead>\n",
       "    <tr style=\"text-align: right;\">\n",
       "      <th></th>\n",
       "      <th>년도</th>\n",
       "      <th>월</th>\n",
       "      <th>리전</th>\n",
       "      <th>AZ</th>\n",
       "      <th>테넌트</th>\n",
       "      <th>DBMS</th>\n",
       "      <th>count</th>\n",
       "    </tr>\n",
       "  </thead>\n",
       "  <tbody>\n",
       "    <tr>\n",
       "      <th>0</th>\n",
       "      <td>22년</td>\n",
       "      <td>1월</td>\n",
       "      <td>KR</td>\n",
       "      <td>1센터</td>\n",
       "      <td>PRD</td>\n",
       "      <td>PostgreSQL</td>\n",
       "      <td>110.0</td>\n",
       "    </tr>\n",
       "    <tr>\n",
       "      <th>1</th>\n",
       "      <td>22년</td>\n",
       "      <td>1월</td>\n",
       "      <td>KR</td>\n",
       "      <td>1센터</td>\n",
       "      <td>PRD</td>\n",
       "      <td>Tibero</td>\n",
       "      <td>28.0</td>\n",
       "    </tr>\n",
       "    <tr>\n",
       "      <th>2</th>\n",
       "      <td>22년</td>\n",
       "      <td>1월</td>\n",
       "      <td>KR</td>\n",
       "      <td>1센터</td>\n",
       "      <td>PRD</td>\n",
       "      <td>Maria</td>\n",
       "      <td>32.0</td>\n",
       "    </tr>\n",
       "    <tr>\n",
       "      <th>3</th>\n",
       "      <td>22년</td>\n",
       "      <td>1월</td>\n",
       "      <td>KR</td>\n",
       "      <td>1센터</td>\n",
       "      <td>PRD</td>\n",
       "      <td>Redis</td>\n",
       "      <td>97.0</td>\n",
       "    </tr>\n",
       "    <tr>\n",
       "      <th>4</th>\n",
       "      <td>22년</td>\n",
       "      <td>1월</td>\n",
       "      <td>KR</td>\n",
       "      <td>1센터</td>\n",
       "      <td>PRD</td>\n",
       "      <td>Mongo</td>\n",
       "      <td>84.0</td>\n",
       "    </tr>\n",
       "    <tr>\n",
       "      <th>...</th>\n",
       "      <td>...</td>\n",
       "      <td>...</td>\n",
       "      <td>...</td>\n",
       "      <td>...</td>\n",
       "      <td>...</td>\n",
       "      <td>...</td>\n",
       "      <td>...</td>\n",
       "    </tr>\n",
       "    <tr>\n",
       "      <th>625</th>\n",
       "      <td>22년</td>\n",
       "      <td>6월</td>\n",
       "      <td>SG</td>\n",
       "      <td>1센터</td>\n",
       "      <td>DEV</td>\n",
       "      <td>PostgreSQL</td>\n",
       "      <td>0.0</td>\n",
       "    </tr>\n",
       "    <tr>\n",
       "      <th>626</th>\n",
       "      <td>22년</td>\n",
       "      <td>6월</td>\n",
       "      <td>SG</td>\n",
       "      <td>1센터</td>\n",
       "      <td>DEV</td>\n",
       "      <td>Tibero</td>\n",
       "      <td>0.0</td>\n",
       "    </tr>\n",
       "    <tr>\n",
       "      <th>627</th>\n",
       "      <td>22년</td>\n",
       "      <td>6월</td>\n",
       "      <td>SG</td>\n",
       "      <td>1센터</td>\n",
       "      <td>DEV</td>\n",
       "      <td>Maria</td>\n",
       "      <td>0.0</td>\n",
       "    </tr>\n",
       "    <tr>\n",
       "      <th>628</th>\n",
       "      <td>22년</td>\n",
       "      <td>6월</td>\n",
       "      <td>SG</td>\n",
       "      <td>1센터</td>\n",
       "      <td>DEV</td>\n",
       "      <td>Redis</td>\n",
       "      <td>0.0</td>\n",
       "    </tr>\n",
       "    <tr>\n",
       "      <th>629</th>\n",
       "      <td>22년</td>\n",
       "      <td>6월</td>\n",
       "      <td>SG</td>\n",
       "      <td>1센터</td>\n",
       "      <td>DEV</td>\n",
       "      <td>Mongo</td>\n",
       "      <td>0.0</td>\n",
       "    </tr>\n",
       "  </tbody>\n",
       "</table>\n",
       "<p>630 rows × 7 columns</p>\n",
       "</div>"
      ],
      "text/plain": [
       "      년도   월  리전   AZ  테넌트        DBMS  count\n",
       "0    22년  1월  KR  1센터  PRD  PostgreSQL  110.0\n",
       "1    22년  1월  KR  1센터  PRD      Tibero   28.0\n",
       "2    22년  1월  KR  1센터  PRD       Maria   32.0\n",
       "3    22년  1월  KR  1센터  PRD       Redis   97.0\n",
       "4    22년  1월  KR  1센터  PRD       Mongo   84.0\n",
       "..   ...  ..  ..  ...  ...         ...    ...\n",
       "625  22년  6월  SG  1센터  DEV  PostgreSQL    0.0\n",
       "626  22년  6월  SG  1센터  DEV      Tibero    0.0\n",
       "627  22년  6월  SG  1센터  DEV       Maria    0.0\n",
       "628  22년  6월  SG  1센터  DEV       Redis    0.0\n",
       "629  22년  6월  SG  1센터  DEV       Mongo    0.0\n",
       "\n",
       "[630 rows x 7 columns]"
      ]
     },
     "execution_count": 3,
     "metadata": {},
     "output_type": "execute_result"
    }
   ],
   "source": [
    "df"
   ]
  },
  {
   "cell_type": "markdown",
   "id": "0cedeb7c-b561-4f14-983e-b6a7f6264640",
   "metadata": {},
   "source": [
    "## 비중 :: Piot Table"
   ]
  },
  {
   "cell_type": "code",
   "execution_count": 4,
   "id": "68de0037-3dc5-42bb-91cc-87cb924cc53b",
   "metadata": {},
   "outputs": [],
   "source": [
    "pTable = get_pivotTable_am(df)"
   ]
  },
  {
   "cell_type": "code",
   "execution_count": 5,
   "id": "f6bcd815-00f6-4b8b-9b16-a272d824ccfb",
   "metadata": {},
   "outputs": [
    {
     "data": {
      "text/html": [
       "\n",
       "<div id=\"altair-viz-864ee8a4822b43df9ab04e8dd09c5c19\"></div>\n",
       "<script type=\"text/javascript\">\n",
       "  var VEGA_DEBUG = (typeof VEGA_DEBUG == \"undefined\") ? {} : VEGA_DEBUG;\n",
       "  (function(spec, embedOpt){\n",
       "    let outputDiv = document.currentScript.previousElementSibling;\n",
       "    if (outputDiv.id !== \"altair-viz-864ee8a4822b43df9ab04e8dd09c5c19\") {\n",
       "      outputDiv = document.getElementById(\"altair-viz-864ee8a4822b43df9ab04e8dd09c5c19\");\n",
       "    }\n",
       "    const paths = {\n",
       "      \"vega\": \"https://cdn.jsdelivr.net/npm//vega@5?noext\",\n",
       "      \"vega-lib\": \"https://cdn.jsdelivr.net/npm//vega-lib?noext\",\n",
       "      \"vega-lite\": \"https://cdn.jsdelivr.net/npm//vega-lite@4.17.0?noext\",\n",
       "      \"vega-embed\": \"https://cdn.jsdelivr.net/npm//vega-embed@6?noext\",\n",
       "    };\n",
       "\n",
       "    function maybeLoadScript(lib, version) {\n",
       "      var key = `${lib.replace(\"-\", \"\")}_version`;\n",
       "      return (VEGA_DEBUG[key] == version) ?\n",
       "        Promise.resolve(paths[lib]) :\n",
       "        new Promise(function(resolve, reject) {\n",
       "          var s = document.createElement('script');\n",
       "          document.getElementsByTagName(\"head\")[0].appendChild(s);\n",
       "          s.async = true;\n",
       "          s.onload = () => {\n",
       "            VEGA_DEBUG[key] = version;\n",
       "            return resolve(paths[lib]);\n",
       "          };\n",
       "          s.onerror = () => reject(`Error loading script: ${paths[lib]}`);\n",
       "          s.src = paths[lib];\n",
       "        });\n",
       "    }\n",
       "\n",
       "    function showError(err) {\n",
       "      outputDiv.innerHTML = `<div class=\"error\" style=\"color:red;\">${err}</div>`;\n",
       "      throw err;\n",
       "    }\n",
       "\n",
       "    function displayChart(vegaEmbed) {\n",
       "      vegaEmbed(outputDiv, spec, embedOpt)\n",
       "        .catch(err => showError(`Javascript Error: ${err.message}<br>This usually means there's a typo in your chart specification. See the javascript console for the full traceback.`));\n",
       "    }\n",
       "\n",
       "    if(typeof define === \"function\" && define.amd) {\n",
       "      requirejs.config({paths});\n",
       "      require([\"vega-embed\"], displayChart, err => showError(`Error loading script: ${err.message}`));\n",
       "    } else {\n",
       "      maybeLoadScript(\"vega\", \"5\")\n",
       "        .then(() => maybeLoadScript(\"vega-lite\", \"4.17.0\"))\n",
       "        .then(() => maybeLoadScript(\"vega-embed\", \"6\"))\n",
       "        .catch(showError)\n",
       "        .then(() => displayChart(vegaEmbed));\n",
       "    }\n",
       "  })({\"config\": {\"view\": {\"continuousWidth\": 400, \"continuousHeight\": 300}}, \"layer\": [{\"mark\": {\"type\": \"arc\", \"outerRadius\": 120}, \"encoding\": {\"color\": {\"field\": \"\\ub9ac\\uc804\", \"legend\": null, \"type\": \"nominal\"}, \"theta\": {\"field\": \"\\ud569\\uacc4\", \"stack\": true, \"type\": \"quantitative\"}}}, {\"mark\": {\"type\": \"text\", \"color\": \"black\", \"radius\": 160, \"size\": 12}, \"encoding\": {\"color\": {\"field\": \"\\ub9ac\\uc804\", \"legend\": null, \"type\": \"nominal\"}, \"text\": {\"field\": \"label\", \"type\": \"nominal\"}, \"theta\": {\"field\": \"\\ud569\\uacc4\", \"stack\": true, \"type\": \"quantitative\"}}, \"transform\": [{\"calculate\": \"(((((datum.\\ub9ac\\uc804 + ': ') + datum.\\ud569\\uacc4) + ', ') + datum.\\ube44\\uc911) + '%')\", \"as\": \"label\"}]}], \"data\": {\"name\": \"data-a42e2bfd6db17e2a7d8e9c7dd234348a\"}, \"height\": 400, \"width\": 400, \"$schema\": \"https://vega.github.io/schema/vega-lite/v4.17.0.json\", \"datasets\": {\"data-a42e2bfd6db17e2a7d8e9c7dd234348a\": [{\"\\ub9ac\\uc804\": \"KR\", \"\\ud569\\uacc4\": 407.0, \"\\ube44\\uc911\": 67.4}, {\"\\ub9ac\\uc804\": \"SG\", \"\\ud569\\uacc4\": 57.0, \"\\ube44\\uc911\": 9.4}, {\"\\ub9ac\\uc804\": \"EU\", \"\\ud569\\uacc4\": 48.0, \"\\ube44\\uc911\": 7.9}, {\"\\ub9ac\\uc804\": \"CN\", \"\\ud569\\uacc4\": 43.0, \"\\ube44\\uc911\": 7.1}, {\"\\ub9ac\\uc804\": \"NA\", \"\\ud569\\uacc4\": 41.0, \"\\ube44\\uc911\": 6.8}, {\"\\ub9ac\\uc804\": \"RU\", \"\\ud569\\uacc4\": 8.0, \"\\ube44\\uc911\": 1.3}]}}, {\"mode\": \"vega-lite\"});\n",
       "</script>"
      ],
      "text/plain": [
       "alt.LayerChart(...)"
      ]
     },
     "execution_count": 5,
     "metadata": {},
     "output_type": "execute_result"
    }
   ],
   "source": [
    "source = pTable\n",
    "chart = get_pieChart(source)\n",
    "chart"
   ]
  },
  {
   "cell_type": "code",
   "execution_count": 6,
   "id": "fbbd98c1-4e23-4f18-81f3-ff8f3632c559",
   "metadata": {},
   "outputs": [
    {
     "name": "stderr",
     "output_type": "stream",
     "text": [
      "npm WARN config global `--global`, `--local` are deprecated. Use `--location=global` instead.\n",
      "npm WARN config global `--global`, `--local` are deprecated. Use `--location=global` instead.\n",
      "npm WARN config global `--global`, `--local` are deprecated. Use `--location=global` instead.\n"
     ]
    }
   ],
   "source": [
    "chart.save('charts/1.png')"
   ]
  },
  {
   "cell_type": "code",
   "execution_count": 7,
   "id": "719e6aa8-c2c8-4dd3-a31a-223490aeeb35",
   "metadata": {},
   "outputs": [
    {
     "data": {
      "text/plain": [
       "<docx.shape.InlineShape at 0x1b24c659820>"
      ]
     },
     "execution_count": 7,
     "metadata": {},
     "output_type": "execute_result"
    }
   ],
   "source": [
    "document.add_heading('자산관리 - DB', 0)\n",
    "document.add_heading('리전별 비중', level=1)\n",
    "document.add_paragraph('KR', style='Intense Quote')\n",
    "\n",
    "document.add_paragraph(\n",
    "    'KR-2 서비스 오픈', style='List Bullet'\n",
    ")\n",
    "document.add_paragraph(\n",
    "    'SG 서비스 오픈', style='List Number'\n",
    ")\n",
    "document.add_picture('charts/1.png')"
   ]
  },
  {
   "cell_type": "markdown",
   "id": "b79972e4-1129-4ac1-baeb-5bf1b799297c",
   "metadata": {},
   "source": [
    "## 시계열 :: LineChart"
   ]
  },
  {
   "cell_type": "code",
   "execution_count": 8,
   "id": "cdd8d695-fb16-4381-90c9-8123736e2da9",
   "metadata": {},
   "outputs": [
    {
     "data": {
      "text/html": [
       "<div>\n",
       "<style scoped>\n",
       "    .dataframe tbody tr th:only-of-type {\n",
       "        vertical-align: middle;\n",
       "    }\n",
       "\n",
       "    .dataframe tbody tr th {\n",
       "        vertical-align: top;\n",
       "    }\n",
       "\n",
       "    .dataframe thead th {\n",
       "        text-align: right;\n",
       "    }\n",
       "</style>\n",
       "<table border=\"1\" class=\"dataframe\">\n",
       "  <thead>\n",
       "    <tr style=\"text-align: right;\">\n",
       "      <th></th>\n",
       "      <th>리전</th>\n",
       "      <th>합계</th>\n",
       "      <th>비중</th>\n",
       "    </tr>\n",
       "  </thead>\n",
       "  <tbody>\n",
       "    <tr>\n",
       "      <th>0</th>\n",
       "      <td>KR</td>\n",
       "      <td>407.0</td>\n",
       "      <td>67.4</td>\n",
       "    </tr>\n",
       "    <tr>\n",
       "      <th>1</th>\n",
       "      <td>SG</td>\n",
       "      <td>57.0</td>\n",
       "      <td>9.4</td>\n",
       "    </tr>\n",
       "    <tr>\n",
       "      <th>2</th>\n",
       "      <td>EU</td>\n",
       "      <td>48.0</td>\n",
       "      <td>7.9</td>\n",
       "    </tr>\n",
       "    <tr>\n",
       "      <th>3</th>\n",
       "      <td>CN</td>\n",
       "      <td>43.0</td>\n",
       "      <td>7.1</td>\n",
       "    </tr>\n",
       "    <tr>\n",
       "      <th>4</th>\n",
       "      <td>NA</td>\n",
       "      <td>41.0</td>\n",
       "      <td>6.8</td>\n",
       "    </tr>\n",
       "    <tr>\n",
       "      <th>5</th>\n",
       "      <td>RU</td>\n",
       "      <td>8.0</td>\n",
       "      <td>1.3</td>\n",
       "    </tr>\n",
       "  </tbody>\n",
       "</table>\n",
       "</div>"
      ],
      "text/plain": [
       "   리전     합계    비중\n",
       "0  KR  407.0  67.4\n",
       "1  SG   57.0   9.4\n",
       "2  EU   48.0   7.9\n",
       "3  CN   43.0   7.1\n",
       "4  NA   41.0   6.8\n",
       "5  RU    8.0   1.3"
      ]
     },
     "execution_count": 8,
     "metadata": {},
     "output_type": "execute_result"
    }
   ],
   "source": [
    "pTable"
   ]
  },
  {
   "cell_type": "code",
   "execution_count": 9,
   "id": "409f924d-b65d-4432-a91a-b54a4ff760da",
   "metadata": {},
   "outputs": [
    {
     "data": {
      "text/html": [
       "<div>\n",
       "<style scoped>\n",
       "    .dataframe tbody tr th:only-of-type {\n",
       "        vertical-align: middle;\n",
       "    }\n",
       "\n",
       "    .dataframe tbody tr th {\n",
       "        vertical-align: top;\n",
       "    }\n",
       "\n",
       "    .dataframe thead th {\n",
       "        text-align: right;\n",
       "    }\n",
       "</style>\n",
       "<table border=\"1\" class=\"dataframe\">\n",
       "  <thead>\n",
       "    <tr style=\"text-align: right;\">\n",
       "      <th></th>\n",
       "      <th>년도</th>\n",
       "      <th>월</th>\n",
       "      <th>리전</th>\n",
       "      <th>AZ</th>\n",
       "      <th>테넌트</th>\n",
       "      <th>DBMS</th>\n",
       "      <th>count</th>\n",
       "    </tr>\n",
       "  </thead>\n",
       "  <tbody>\n",
       "    <tr>\n",
       "      <th>0</th>\n",
       "      <td>22년</td>\n",
       "      <td>1월</td>\n",
       "      <td>KR</td>\n",
       "      <td>1센터</td>\n",
       "      <td>PRD</td>\n",
       "      <td>PostgreSQL</td>\n",
       "      <td>110.0</td>\n",
       "    </tr>\n",
       "    <tr>\n",
       "      <th>1</th>\n",
       "      <td>22년</td>\n",
       "      <td>1월</td>\n",
       "      <td>KR</td>\n",
       "      <td>1센터</td>\n",
       "      <td>PRD</td>\n",
       "      <td>Tibero</td>\n",
       "      <td>28.0</td>\n",
       "    </tr>\n",
       "    <tr>\n",
       "      <th>2</th>\n",
       "      <td>22년</td>\n",
       "      <td>1월</td>\n",
       "      <td>KR</td>\n",
       "      <td>1센터</td>\n",
       "      <td>PRD</td>\n",
       "      <td>Maria</td>\n",
       "      <td>32.0</td>\n",
       "    </tr>\n",
       "    <tr>\n",
       "      <th>3</th>\n",
       "      <td>22년</td>\n",
       "      <td>1월</td>\n",
       "      <td>KR</td>\n",
       "      <td>1센터</td>\n",
       "      <td>PRD</td>\n",
       "      <td>Redis</td>\n",
       "      <td>97.0</td>\n",
       "    </tr>\n",
       "    <tr>\n",
       "      <th>4</th>\n",
       "      <td>22년</td>\n",
       "      <td>1월</td>\n",
       "      <td>KR</td>\n",
       "      <td>1센터</td>\n",
       "      <td>PRD</td>\n",
       "      <td>Mongo</td>\n",
       "      <td>84.0</td>\n",
       "    </tr>\n",
       "    <tr>\n",
       "      <th>...</th>\n",
       "      <td>...</td>\n",
       "      <td>...</td>\n",
       "      <td>...</td>\n",
       "      <td>...</td>\n",
       "      <td>...</td>\n",
       "      <td>...</td>\n",
       "      <td>...</td>\n",
       "    </tr>\n",
       "    <tr>\n",
       "      <th>615</th>\n",
       "      <td>22년</td>\n",
       "      <td>6월</td>\n",
       "      <td>SG</td>\n",
       "      <td>1센터</td>\n",
       "      <td>PRD</td>\n",
       "      <td>PostgreSQL</td>\n",
       "      <td>24.0</td>\n",
       "    </tr>\n",
       "    <tr>\n",
       "      <th>616</th>\n",
       "      <td>22년</td>\n",
       "      <td>6월</td>\n",
       "      <td>SG</td>\n",
       "      <td>1센터</td>\n",
       "      <td>PRD</td>\n",
       "      <td>Tibero</td>\n",
       "      <td>0.0</td>\n",
       "    </tr>\n",
       "    <tr>\n",
       "      <th>617</th>\n",
       "      <td>22년</td>\n",
       "      <td>6월</td>\n",
       "      <td>SG</td>\n",
       "      <td>1센터</td>\n",
       "      <td>PRD</td>\n",
       "      <td>Maria</td>\n",
       "      <td>0.0</td>\n",
       "    </tr>\n",
       "    <tr>\n",
       "      <th>618</th>\n",
       "      <td>22년</td>\n",
       "      <td>6월</td>\n",
       "      <td>SG</td>\n",
       "      <td>1센터</td>\n",
       "      <td>PRD</td>\n",
       "      <td>Redis</td>\n",
       "      <td>26.0</td>\n",
       "    </tr>\n",
       "    <tr>\n",
       "      <th>619</th>\n",
       "      <td>22년</td>\n",
       "      <td>6월</td>\n",
       "      <td>SG</td>\n",
       "      <td>1센터</td>\n",
       "      <td>PRD</td>\n",
       "      <td>Mongo</td>\n",
       "      <td>7.0</td>\n",
       "    </tr>\n",
       "  </tbody>\n",
       "</table>\n",
       "<p>210 rows × 7 columns</p>\n",
       "</div>"
      ],
      "text/plain": [
       "      년도   월  리전   AZ  테넌트        DBMS  count\n",
       "0    22년  1월  KR  1센터  PRD  PostgreSQL  110.0\n",
       "1    22년  1월  KR  1센터  PRD      Tibero   28.0\n",
       "2    22년  1월  KR  1센터  PRD       Maria   32.0\n",
       "3    22년  1월  KR  1센터  PRD       Redis   97.0\n",
       "4    22년  1월  KR  1센터  PRD       Mongo   84.0\n",
       "..   ...  ..  ..  ...  ...         ...    ...\n",
       "615  22년  6월  SG  1센터  PRD  PostgreSQL   24.0\n",
       "616  22년  6월  SG  1센터  PRD      Tibero    0.0\n",
       "617  22년  6월  SG  1센터  PRD       Maria    0.0\n",
       "618  22년  6월  SG  1센터  PRD       Redis   26.0\n",
       "619  22년  6월  SG  1센터  PRD       Mongo    7.0\n",
       "\n",
       "[210 rows x 7 columns]"
      ]
     },
     "execution_count": 9,
     "metadata": {},
     "output_type": "execute_result"
    }
   ],
   "source": [
    "regex = '^(KR|CN|NA|EU|SG|RU|Global)'\n",
    "df_filtered = df[df['리전'].apply(lambda x: True if re.search(regex, x) else False) & (df['테넌트']== 'PRD')]\n",
    "source = df_filtered\n",
    "source"
   ]
  },
  {
   "cell_type": "code",
   "execution_count": 10,
   "id": "ebc1269e-4e6a-45ba-8a16-9d2a20da0b6a",
   "metadata": {},
   "outputs": [
    {
     "data": {
      "text/html": [
       "\n",
       "<div id=\"altair-viz-fb48ede05d684fe7bdff76eab0d27749\"></div>\n",
       "<script type=\"text/javascript\">\n",
       "  var VEGA_DEBUG = (typeof VEGA_DEBUG == \"undefined\") ? {} : VEGA_DEBUG;\n",
       "  (function(spec, embedOpt){\n",
       "    let outputDiv = document.currentScript.previousElementSibling;\n",
       "    if (outputDiv.id !== \"altair-viz-fb48ede05d684fe7bdff76eab0d27749\") {\n",
       "      outputDiv = document.getElementById(\"altair-viz-fb48ede05d684fe7bdff76eab0d27749\");\n",
       "    }\n",
       "    const paths = {\n",
       "      \"vega\": \"https://cdn.jsdelivr.net/npm//vega@5?noext\",\n",
       "      \"vega-lib\": \"https://cdn.jsdelivr.net/npm//vega-lib?noext\",\n",
       "      \"vega-lite\": \"https://cdn.jsdelivr.net/npm//vega-lite@4.17.0?noext\",\n",
       "      \"vega-embed\": \"https://cdn.jsdelivr.net/npm//vega-embed@6?noext\",\n",
       "    };\n",
       "\n",
       "    function maybeLoadScript(lib, version) {\n",
       "      var key = `${lib.replace(\"-\", \"\")}_version`;\n",
       "      return (VEGA_DEBUG[key] == version) ?\n",
       "        Promise.resolve(paths[lib]) :\n",
       "        new Promise(function(resolve, reject) {\n",
       "          var s = document.createElement('script');\n",
       "          document.getElementsByTagName(\"head\")[0].appendChild(s);\n",
       "          s.async = true;\n",
       "          s.onload = () => {\n",
       "            VEGA_DEBUG[key] = version;\n",
       "            return resolve(paths[lib]);\n",
       "          };\n",
       "          s.onerror = () => reject(`Error loading script: ${paths[lib]}`);\n",
       "          s.src = paths[lib];\n",
       "        });\n",
       "    }\n",
       "\n",
       "    function showError(err) {\n",
       "      outputDiv.innerHTML = `<div class=\"error\" style=\"color:red;\">${err}</div>`;\n",
       "      throw err;\n",
       "    }\n",
       "\n",
       "    function displayChart(vegaEmbed) {\n",
       "      vegaEmbed(outputDiv, spec, embedOpt)\n",
       "        .catch(err => showError(`Javascript Error: ${err.message}<br>This usually means there's a typo in your chart specification. See the javascript console for the full traceback.`));\n",
       "    }\n",
       "\n",
       "    if(typeof define === \"function\" && define.amd) {\n",
       "      requirejs.config({paths});\n",
       "      require([\"vega-embed\"], displayChart, err => showError(`Error loading script: ${err.message}`));\n",
       "    } else {\n",
       "      maybeLoadScript(\"vega\", \"5\")\n",
       "        .then(() => maybeLoadScript(\"vega-lite\", \"4.17.0\"))\n",
       "        .then(() => maybeLoadScript(\"vega-embed\", \"6\"))\n",
       "        .catch(showError)\n",
       "        .then(() => displayChart(vegaEmbed));\n",
       "    }\n",
       "  })({\"config\": {\"view\": {\"continuousWidth\": 400, \"continuousHeight\": 300}}, \"layer\": [{\"mark\": \"point\", \"encoding\": {\"x\": {\"field\": \"\\uc6d4\", \"type\": \"nominal\"}, \"y\": {\"aggregate\": \"sum\", \"field\": \"count\", \"type\": \"quantitative\"}}}, {\"mark\": {\"type\": \"line\", \"color\": \"red\"}, \"encoding\": {\"x\": {\"field\": \"\\uc6d4\", \"type\": \"nominal\"}, \"y\": {\"aggregate\": \"sum\", \"field\": \"count\", \"title\": \"\", \"type\": \"quantitative\"}}}, {\"mark\": {\"type\": \"text\", \"align\": \"center\", \"baseline\": \"line-top\", \"color\": \"black\", \"dy\": -20, \"fontSize\": 12, \"size\": 12}, \"encoding\": {\"text\": {\"aggregate\": \"sum\", \"field\": \"count\", \"type\": \"quantitative\"}, \"x\": {\"field\": \"\\uc6d4\", \"type\": \"nominal\"}, \"y\": {\"aggregate\": \"sum\", \"field\": \"count\", \"type\": \"quantitative\"}}}], \"data\": {\"name\": \"data-c4a0f9fc4690b2367ba95761fa20d61e\"}, \"height\": 200, \"width\": 400, \"$schema\": \"https://vega.github.io/schema/vega-lite/v4.17.0.json\", \"datasets\": {\"data-c4a0f9fc4690b2367ba95761fa20d61e\": [{\"\\ub144\\ub3c4\": \"22\\ub144\", \"\\uc6d4\": \"1\\uc6d4\", \"\\ub9ac\\uc804\": \"KR\", \"AZ\": \"1\\uc13c\\ud130\", \"\\ud14c\\ub10c\\ud2b8\": \"PRD\", \"DBMS\": \"PostgreSQL\", \"count\": 110.0}, {\"\\ub144\\ub3c4\": \"22\\ub144\", \"\\uc6d4\": \"1\\uc6d4\", \"\\ub9ac\\uc804\": \"KR\", \"AZ\": \"1\\uc13c\\ud130\", \"\\ud14c\\ub10c\\ud2b8\": \"PRD\", \"DBMS\": \"Tibero\", \"count\": 28.0}, {\"\\ub144\\ub3c4\": \"22\\ub144\", \"\\uc6d4\": \"1\\uc6d4\", \"\\ub9ac\\uc804\": \"KR\", \"AZ\": \"1\\uc13c\\ud130\", \"\\ud14c\\ub10c\\ud2b8\": \"PRD\", \"DBMS\": \"Maria\", \"count\": 32.0}, {\"\\ub144\\ub3c4\": \"22\\ub144\", \"\\uc6d4\": \"1\\uc6d4\", \"\\ub9ac\\uc804\": \"KR\", \"AZ\": \"1\\uc13c\\ud130\", \"\\ud14c\\ub10c\\ud2b8\": \"PRD\", \"DBMS\": \"Redis\", \"count\": 97.0}, {\"\\ub144\\ub3c4\": \"22\\ub144\", \"\\uc6d4\": \"1\\uc6d4\", \"\\ub9ac\\uc804\": \"KR\", \"AZ\": \"1\\uc13c\\ud130\", \"\\ud14c\\ub10c\\ud2b8\": \"PRD\", \"DBMS\": \"Mongo\", \"count\": 84.0}, {\"\\ub144\\ub3c4\": \"22\\ub144\", \"\\uc6d4\": \"1\\uc6d4\", \"\\ub9ac\\uc804\": \"KR\", \"AZ\": \"2\\uc13c\\ud130\", \"\\ud14c\\ub10c\\ud2b8\": \"PRD\", \"DBMS\": \"PostgreSQL\", \"count\": 0.0}, {\"\\ub144\\ub3c4\": \"22\\ub144\", \"\\uc6d4\": \"1\\uc6d4\", \"\\ub9ac\\uc804\": \"KR\", \"AZ\": \"2\\uc13c\\ud130\", \"\\ud14c\\ub10c\\ud2b8\": \"PRD\", \"DBMS\": \"Tibero\", \"count\": 0.0}, {\"\\ub144\\ub3c4\": \"22\\ub144\", \"\\uc6d4\": \"1\\uc6d4\", \"\\ub9ac\\uc804\": \"KR\", \"AZ\": \"2\\uc13c\\ud130\", \"\\ud14c\\ub10c\\ud2b8\": \"PRD\", \"DBMS\": \"Maria\", \"count\": 0.0}, {\"\\ub144\\ub3c4\": \"22\\ub144\", \"\\uc6d4\": \"1\\uc6d4\", \"\\ub9ac\\uc804\": \"KR\", \"AZ\": \"2\\uc13c\\ud130\", \"\\ud14c\\ub10c\\ud2b8\": \"PRD\", \"DBMS\": \"Redis\", \"count\": 0.0}, {\"\\ub144\\ub3c4\": \"22\\ub144\", \"\\uc6d4\": \"1\\uc6d4\", \"\\ub9ac\\uc804\": \"KR\", \"AZ\": \"2\\uc13c\\ud130\", \"\\ud14c\\ub10c\\ud2b8\": \"PRD\", \"DBMS\": \"Mongo\", \"count\": 0.0}, {\"\\ub144\\ub3c4\": \"22\\ub144\", \"\\uc6d4\": \"1\\uc6d4\", \"\\ub9ac\\uc804\": \"EU\", \"AZ\": \"1\\uc13c\\ud130\", \"\\ud14c\\ub10c\\ud2b8\": \"PRD\", \"DBMS\": \"PostgreSQL\", \"count\": 17.0}, {\"\\ub144\\ub3c4\": \"22\\ub144\", \"\\uc6d4\": \"1\\uc6d4\", \"\\ub9ac\\uc804\": \"EU\", \"AZ\": \"1\\uc13c\\ud130\", \"\\ud14c\\ub10c\\ud2b8\": \"PRD\", \"DBMS\": \"Tibero\", \"count\": 1.0}, {\"\\ub144\\ub3c4\": \"22\\ub144\", \"\\uc6d4\": \"1\\uc6d4\", \"\\ub9ac\\uc804\": \"EU\", \"AZ\": \"1\\uc13c\\ud130\", \"\\ud14c\\ub10c\\ud2b8\": \"PRD\", \"DBMS\": \"Maria\", \"count\": 0.0}, {\"\\ub144\\ub3c4\": \"22\\ub144\", \"\\uc6d4\": \"1\\uc6d4\", \"\\ub9ac\\uc804\": \"EU\", \"AZ\": \"1\\uc13c\\ud130\", \"\\ud14c\\ub10c\\ud2b8\": \"PRD\", \"DBMS\": \"Redis\", \"count\": 20.0}, {\"\\ub144\\ub3c4\": \"22\\ub144\", \"\\uc6d4\": \"1\\uc6d4\", \"\\ub9ac\\uc804\": \"EU\", \"AZ\": \"1\\uc13c\\ud130\", \"\\ud14c\\ub10c\\ud2b8\": \"PRD\", \"DBMS\": \"Mongo\", \"count\": 1.0}, {\"\\ub144\\ub3c4\": \"22\\ub144\", \"\\uc6d4\": \"1\\uc6d4\", \"\\ub9ac\\uc804\": \"NA\", \"AZ\": \"1\\uc13c\\ud130\", \"\\ud14c\\ub10c\\ud2b8\": \"PRD\", \"DBMS\": \"PostgreSQL\", \"count\": 4.0}, {\"\\ub144\\ub3c4\": \"22\\ub144\", \"\\uc6d4\": \"1\\uc6d4\", \"\\ub9ac\\uc804\": \"NA\", \"AZ\": \"1\\uc13c\\ud130\", \"\\ud14c\\ub10c\\ud2b8\": \"PRD\", \"DBMS\": \"Tibero\", \"count\": 12.0}, {\"\\ub144\\ub3c4\": \"22\\ub144\", \"\\uc6d4\": \"1\\uc6d4\", \"\\ub9ac\\uc804\": \"NA\", \"AZ\": \"1\\uc13c\\ud130\", \"\\ud14c\\ub10c\\ud2b8\": \"PRD\", \"DBMS\": \"Maria\", \"count\": 0.0}, {\"\\ub144\\ub3c4\": \"22\\ub144\", \"\\uc6d4\": \"1\\uc6d4\", \"\\ub9ac\\uc804\": \"NA\", \"AZ\": \"1\\uc13c\\ud130\", \"\\ud14c\\ub10c\\ud2b8\": \"PRD\", \"DBMS\": \"Redis\", \"count\": 3.0}, {\"\\ub144\\ub3c4\": \"22\\ub144\", \"\\uc6d4\": \"1\\uc6d4\", \"\\ub9ac\\uc804\": \"NA\", \"AZ\": \"1\\uc13c\\ud130\", \"\\ud14c\\ub10c\\ud2b8\": \"PRD\", \"DBMS\": \"Mongo\", \"count\": 3.0}, {\"\\ub144\\ub3c4\": \"22\\ub144\", \"\\uc6d4\": \"1\\uc6d4\", \"\\ub9ac\\uc804\": \"CN\", \"AZ\": \"1\\uc13c\\ud130\", \"\\ud14c\\ub10c\\ud2b8\": \"PRD\", \"DBMS\": \"PostgreSQL\", \"count\": 9.0}, {\"\\ub144\\ub3c4\": \"22\\ub144\", \"\\uc6d4\": \"1\\uc6d4\", \"\\ub9ac\\uc804\": \"CN\", \"AZ\": \"1\\uc13c\\ud130\", \"\\ud14c\\ub10c\\ud2b8\": \"PRD\", \"DBMS\": \"Tibero\", \"count\": 12.0}, {\"\\ub144\\ub3c4\": \"22\\ub144\", \"\\uc6d4\": \"1\\uc6d4\", \"\\ub9ac\\uc804\": \"CN\", \"AZ\": \"1\\uc13c\\ud130\", \"\\ud14c\\ub10c\\ud2b8\": \"PRD\", \"DBMS\": \"Maria\", \"count\": 0.0}, {\"\\ub144\\ub3c4\": \"22\\ub144\", \"\\uc6d4\": \"1\\uc6d4\", \"\\ub9ac\\uc804\": \"CN\", \"AZ\": \"1\\uc13c\\ud130\", \"\\ud14c\\ub10c\\ud2b8\": \"PRD\", \"DBMS\": \"Redis\", \"count\": 12.0}, {\"\\ub144\\ub3c4\": \"22\\ub144\", \"\\uc6d4\": \"1\\uc6d4\", \"\\ub9ac\\uc804\": \"CN\", \"AZ\": \"1\\uc13c\\ud130\", \"\\ud14c\\ub10c\\ud2b8\": \"PRD\", \"DBMS\": \"Mongo\", \"count\": 4.0}, {\"\\ub144\\ub3c4\": \"22\\ub144\", \"\\uc6d4\": \"1\\uc6d4\", \"\\ub9ac\\uc804\": \"RU\", \"AZ\": \"1\\uc13c\\ud130\", \"\\ud14c\\ub10c\\ud2b8\": \"PRD\", \"DBMS\": \"PostgreSQL\", \"count\": 10.0}, {\"\\ub144\\ub3c4\": \"22\\ub144\", \"\\uc6d4\": \"1\\uc6d4\", \"\\ub9ac\\uc804\": \"RU\", \"AZ\": \"1\\uc13c\\ud130\", \"\\ud14c\\ub10c\\ud2b8\": \"PRD\", \"DBMS\": \"Tibero\", \"count\": 0.0}, {\"\\ub144\\ub3c4\": \"22\\ub144\", \"\\uc6d4\": \"1\\uc6d4\", \"\\ub9ac\\uc804\": \"RU\", \"AZ\": \"1\\uc13c\\ud130\", \"\\ud14c\\ub10c\\ud2b8\": \"PRD\", \"DBMS\": \"Maria\", \"count\": 0.0}, {\"\\ub144\\ub3c4\": \"22\\ub144\", \"\\uc6d4\": \"1\\uc6d4\", \"\\ub9ac\\uc804\": \"RU\", \"AZ\": \"1\\uc13c\\ud130\", \"\\ud14c\\ub10c\\ud2b8\": \"PRD\", \"DBMS\": \"Redis\", \"count\": 3.0}, {\"\\ub144\\ub3c4\": \"22\\ub144\", \"\\uc6d4\": \"1\\uc6d4\", \"\\ub9ac\\uc804\": \"RU\", \"AZ\": \"1\\uc13c\\ud130\", \"\\ud14c\\ub10c\\ud2b8\": \"PRD\", \"DBMS\": \"Mongo\", \"count\": 0.0}, {\"\\ub144\\ub3c4\": \"22\\ub144\", \"\\uc6d4\": \"1\\uc6d4\", \"\\ub9ac\\uc804\": \"SG\", \"AZ\": \"1\\uc13c\\ud130\", \"\\ud14c\\ub10c\\ud2b8\": \"PRD\", \"DBMS\": \"PostgreSQL\", \"count\": 20.0}, {\"\\ub144\\ub3c4\": \"22\\ub144\", \"\\uc6d4\": \"1\\uc6d4\", \"\\ub9ac\\uc804\": \"SG\", \"AZ\": \"1\\uc13c\\ud130\", \"\\ud14c\\ub10c\\ud2b8\": \"PRD\", \"DBMS\": \"Tibero\", \"count\": 0.0}, {\"\\ub144\\ub3c4\": \"22\\ub144\", \"\\uc6d4\": \"1\\uc6d4\", \"\\ub9ac\\uc804\": \"SG\", \"AZ\": \"1\\uc13c\\ud130\", \"\\ud14c\\ub10c\\ud2b8\": \"PRD\", \"DBMS\": \"Maria\", \"count\": 0.0}, {\"\\ub144\\ub3c4\": \"22\\ub144\", \"\\uc6d4\": \"1\\uc6d4\", \"\\ub9ac\\uc804\": \"SG\", \"AZ\": \"1\\uc13c\\ud130\", \"\\ud14c\\ub10c\\ud2b8\": \"PRD\", \"DBMS\": \"Redis\", \"count\": 18.0}, {\"\\ub144\\ub3c4\": \"22\\ub144\", \"\\uc6d4\": \"1\\uc6d4\", \"\\ub9ac\\uc804\": \"SG\", \"AZ\": \"1\\uc13c\\ud130\", \"\\ud14c\\ub10c\\ud2b8\": \"PRD\", \"DBMS\": \"Mongo\", \"count\": 4.0}, {\"\\ub144\\ub3c4\": \"22\\ub144\", \"\\uc6d4\": \"2\\uc6d4\", \"\\ub9ac\\uc804\": \"KR\", \"AZ\": \"1\\uc13c\\ud130\", \"\\ud14c\\ub10c\\ud2b8\": \"PRD\", \"DBMS\": \"PostgreSQL\", \"count\": 106.0}, {\"\\ub144\\ub3c4\": \"22\\ub144\", \"\\uc6d4\": \"2\\uc6d4\", \"\\ub9ac\\uc804\": \"KR\", \"AZ\": \"1\\uc13c\\ud130\", \"\\ud14c\\ub10c\\ud2b8\": \"PRD\", \"DBMS\": \"Tibero\", \"count\": 28.0}, {\"\\ub144\\ub3c4\": \"22\\ub144\", \"\\uc6d4\": \"2\\uc6d4\", \"\\ub9ac\\uc804\": \"KR\", \"AZ\": \"1\\uc13c\\ud130\", \"\\ud14c\\ub10c\\ud2b8\": \"PRD\", \"DBMS\": \"Maria\", \"count\": 29.0}, {\"\\ub144\\ub3c4\": \"22\\ub144\", \"\\uc6d4\": \"2\\uc6d4\", \"\\ub9ac\\uc804\": \"KR\", \"AZ\": \"1\\uc13c\\ud130\", \"\\ud14c\\ub10c\\ud2b8\": \"PRD\", \"DBMS\": \"Redis\", \"count\": 89.0}, {\"\\ub144\\ub3c4\": \"22\\ub144\", \"\\uc6d4\": \"2\\uc6d4\", \"\\ub9ac\\uc804\": \"KR\", \"AZ\": \"1\\uc13c\\ud130\", \"\\ud14c\\ub10c\\ud2b8\": \"PRD\", \"DBMS\": \"Mongo\", \"count\": 75.0}, {\"\\ub144\\ub3c4\": \"22\\ub144\", \"\\uc6d4\": \"2\\uc6d4\", \"\\ub9ac\\uc804\": \"KR\", \"AZ\": \"2\\uc13c\\ud130\", \"\\ud14c\\ub10c\\ud2b8\": \"PRD\", \"DBMS\": \"PostgreSQL\", \"count\": 0.0}, {\"\\ub144\\ub3c4\": \"22\\ub144\", \"\\uc6d4\": \"2\\uc6d4\", \"\\ub9ac\\uc804\": \"KR\", \"AZ\": \"2\\uc13c\\ud130\", \"\\ud14c\\ub10c\\ud2b8\": \"PRD\", \"DBMS\": \"Tibero\", \"count\": 0.0}, {\"\\ub144\\ub3c4\": \"22\\ub144\", \"\\uc6d4\": \"2\\uc6d4\", \"\\ub9ac\\uc804\": \"KR\", \"AZ\": \"2\\uc13c\\ud130\", \"\\ud14c\\ub10c\\ud2b8\": \"PRD\", \"DBMS\": \"Maria\", \"count\": 0.0}, {\"\\ub144\\ub3c4\": \"22\\ub144\", \"\\uc6d4\": \"2\\uc6d4\", \"\\ub9ac\\uc804\": \"KR\", \"AZ\": \"2\\uc13c\\ud130\", \"\\ud14c\\ub10c\\ud2b8\": \"PRD\", \"DBMS\": \"Redis\", \"count\": 0.0}, {\"\\ub144\\ub3c4\": \"22\\ub144\", \"\\uc6d4\": \"2\\uc6d4\", \"\\ub9ac\\uc804\": \"KR\", \"AZ\": \"2\\uc13c\\ud130\", \"\\ud14c\\ub10c\\ud2b8\": \"PRD\", \"DBMS\": \"Mongo\", \"count\": 0.0}, {\"\\ub144\\ub3c4\": \"22\\ub144\", \"\\uc6d4\": \"2\\uc6d4\", \"\\ub9ac\\uc804\": \"EU\", \"AZ\": \"1\\uc13c\\ud130\", \"\\ud14c\\ub10c\\ud2b8\": \"PRD\", \"DBMS\": \"PostgreSQL\", \"count\": 17.0}, {\"\\ub144\\ub3c4\": \"22\\ub144\", \"\\uc6d4\": \"2\\uc6d4\", \"\\ub9ac\\uc804\": \"EU\", \"AZ\": \"1\\uc13c\\ud130\", \"\\ud14c\\ub10c\\ud2b8\": \"PRD\", \"DBMS\": \"Tibero\", \"count\": 1.0}, {\"\\ub144\\ub3c4\": \"22\\ub144\", \"\\uc6d4\": \"2\\uc6d4\", \"\\ub9ac\\uc804\": \"EU\", \"AZ\": \"1\\uc13c\\ud130\", \"\\ud14c\\ub10c\\ud2b8\": \"PRD\", \"DBMS\": \"Maria\", \"count\": 0.0}, {\"\\ub144\\ub3c4\": \"22\\ub144\", \"\\uc6d4\": \"2\\uc6d4\", \"\\ub9ac\\uc804\": \"EU\", \"AZ\": \"1\\uc13c\\ud130\", \"\\ud14c\\ub10c\\ud2b8\": \"PRD\", \"DBMS\": \"Redis\", \"count\": 20.0}, {\"\\ub144\\ub3c4\": \"22\\ub144\", \"\\uc6d4\": \"2\\uc6d4\", \"\\ub9ac\\uc804\": \"EU\", \"AZ\": \"1\\uc13c\\ud130\", \"\\ud14c\\ub10c\\ud2b8\": \"PRD\", \"DBMS\": \"Mongo\", \"count\": 1.0}, {\"\\ub144\\ub3c4\": \"22\\ub144\", \"\\uc6d4\": \"2\\uc6d4\", \"\\ub9ac\\uc804\": \"NA\", \"AZ\": \"1\\uc13c\\ud130\", \"\\ud14c\\ub10c\\ud2b8\": \"PRD\", \"DBMS\": \"PostgreSQL\", \"count\": 4.0}, {\"\\ub144\\ub3c4\": \"22\\ub144\", \"\\uc6d4\": \"2\\uc6d4\", \"\\ub9ac\\uc804\": \"NA\", \"AZ\": \"1\\uc13c\\ud130\", \"\\ud14c\\ub10c\\ud2b8\": \"PRD\", \"DBMS\": \"Tibero\", \"count\": 12.0}, {\"\\ub144\\ub3c4\": \"22\\ub144\", \"\\uc6d4\": \"2\\uc6d4\", \"\\ub9ac\\uc804\": \"NA\", \"AZ\": \"1\\uc13c\\ud130\", \"\\ud14c\\ub10c\\ud2b8\": \"PRD\", \"DBMS\": \"Maria\", \"count\": 0.0}, {\"\\ub144\\ub3c4\": \"22\\ub144\", \"\\uc6d4\": \"2\\uc6d4\", \"\\ub9ac\\uc804\": \"NA\", \"AZ\": \"1\\uc13c\\ud130\", \"\\ud14c\\ub10c\\ud2b8\": \"PRD\", \"DBMS\": \"Redis\", \"count\": 3.0}, {\"\\ub144\\ub3c4\": \"22\\ub144\", \"\\uc6d4\": \"2\\uc6d4\", \"\\ub9ac\\uc804\": \"NA\", \"AZ\": \"1\\uc13c\\ud130\", \"\\ud14c\\ub10c\\ud2b8\": \"PRD\", \"DBMS\": \"Mongo\", \"count\": 3.0}, {\"\\ub144\\ub3c4\": \"22\\ub144\", \"\\uc6d4\": \"2\\uc6d4\", \"\\ub9ac\\uc804\": \"CN\", \"AZ\": \"1\\uc13c\\ud130\", \"\\ud14c\\ub10c\\ud2b8\": \"PRD\", \"DBMS\": \"PostgreSQL\", \"count\": 9.0}, {\"\\ub144\\ub3c4\": \"22\\ub144\", \"\\uc6d4\": \"2\\uc6d4\", \"\\ub9ac\\uc804\": \"CN\", \"AZ\": \"1\\uc13c\\ud130\", \"\\ud14c\\ub10c\\ud2b8\": \"PRD\", \"DBMS\": \"Tibero\", \"count\": 12.0}, {\"\\ub144\\ub3c4\": \"22\\ub144\", \"\\uc6d4\": \"2\\uc6d4\", \"\\ub9ac\\uc804\": \"CN\", \"AZ\": \"1\\uc13c\\ud130\", \"\\ud14c\\ub10c\\ud2b8\": \"PRD\", \"DBMS\": \"Maria\", \"count\": 0.0}, {\"\\ub144\\ub3c4\": \"22\\ub144\", \"\\uc6d4\": \"2\\uc6d4\", \"\\ub9ac\\uc804\": \"CN\", \"AZ\": \"1\\uc13c\\ud130\", \"\\ud14c\\ub10c\\ud2b8\": \"PRD\", \"DBMS\": \"Redis\", \"count\": 12.0}, {\"\\ub144\\ub3c4\": \"22\\ub144\", \"\\uc6d4\": \"2\\uc6d4\", \"\\ub9ac\\uc804\": \"CN\", \"AZ\": \"1\\uc13c\\ud130\", \"\\ud14c\\ub10c\\ud2b8\": \"PRD\", \"DBMS\": \"Mongo\", \"count\": 4.0}, {\"\\ub144\\ub3c4\": \"22\\ub144\", \"\\uc6d4\": \"2\\uc6d4\", \"\\ub9ac\\uc804\": \"RU\", \"AZ\": \"1\\uc13c\\ud130\", \"\\ud14c\\ub10c\\ud2b8\": \"PRD\", \"DBMS\": \"PostgreSQL\", \"count\": 10.0}, {\"\\ub144\\ub3c4\": \"22\\ub144\", \"\\uc6d4\": \"2\\uc6d4\", \"\\ub9ac\\uc804\": \"RU\", \"AZ\": \"1\\uc13c\\ud130\", \"\\ud14c\\ub10c\\ud2b8\": \"PRD\", \"DBMS\": \"Tibero\", \"count\": 0.0}, {\"\\ub144\\ub3c4\": \"22\\ub144\", \"\\uc6d4\": \"2\\uc6d4\", \"\\ub9ac\\uc804\": \"RU\", \"AZ\": \"1\\uc13c\\ud130\", \"\\ud14c\\ub10c\\ud2b8\": \"PRD\", \"DBMS\": \"Maria\", \"count\": 0.0}, {\"\\ub144\\ub3c4\": \"22\\ub144\", \"\\uc6d4\": \"2\\uc6d4\", \"\\ub9ac\\uc804\": \"RU\", \"AZ\": \"1\\uc13c\\ud130\", \"\\ud14c\\ub10c\\ud2b8\": \"PRD\", \"DBMS\": \"Redis\", \"count\": 3.0}, {\"\\ub144\\ub3c4\": \"22\\ub144\", \"\\uc6d4\": \"2\\uc6d4\", \"\\ub9ac\\uc804\": \"RU\", \"AZ\": \"1\\uc13c\\ud130\", \"\\ud14c\\ub10c\\ud2b8\": \"PRD\", \"DBMS\": \"Mongo\", \"count\": 0.0}, {\"\\ub144\\ub3c4\": \"22\\ub144\", \"\\uc6d4\": \"2\\uc6d4\", \"\\ub9ac\\uc804\": \"SG\", \"AZ\": \"1\\uc13c\\ud130\", \"\\ud14c\\ub10c\\ud2b8\": \"PRD\", \"DBMS\": \"PostgreSQL\", \"count\": 24.0}, {\"\\ub144\\ub3c4\": \"22\\ub144\", \"\\uc6d4\": \"2\\uc6d4\", \"\\ub9ac\\uc804\": \"SG\", \"AZ\": \"1\\uc13c\\ud130\", \"\\ud14c\\ub10c\\ud2b8\": \"PRD\", \"DBMS\": \"Tibero\", \"count\": 0.0}, {\"\\ub144\\ub3c4\": \"22\\ub144\", \"\\uc6d4\": \"2\\uc6d4\", \"\\ub9ac\\uc804\": \"SG\", \"AZ\": \"1\\uc13c\\ud130\", \"\\ud14c\\ub10c\\ud2b8\": \"PRD\", \"DBMS\": \"Maria\", \"count\": 0.0}, {\"\\ub144\\ub3c4\": \"22\\ub144\", \"\\uc6d4\": \"2\\uc6d4\", \"\\ub9ac\\uc804\": \"SG\", \"AZ\": \"1\\uc13c\\ud130\", \"\\ud14c\\ub10c\\ud2b8\": \"PRD\", \"DBMS\": \"Redis\", \"count\": 18.0}, {\"\\ub144\\ub3c4\": \"22\\ub144\", \"\\uc6d4\": \"2\\uc6d4\", \"\\ub9ac\\uc804\": \"SG\", \"AZ\": \"1\\uc13c\\ud130\", \"\\ud14c\\ub10c\\ud2b8\": \"PRD\", \"DBMS\": \"Mongo\", \"count\": 4.0}, {\"\\ub144\\ub3c4\": \"22\\ub144\", \"\\uc6d4\": \"3\\uc6d4\", \"\\ub9ac\\uc804\": \"KR\", \"AZ\": \"1\\uc13c\\ud130\", \"\\ud14c\\ub10c\\ud2b8\": \"PRD\", \"DBMS\": \"PostgreSQL\", \"count\": 108.0}, {\"\\ub144\\ub3c4\": \"22\\ub144\", \"\\uc6d4\": \"3\\uc6d4\", \"\\ub9ac\\uc804\": \"KR\", \"AZ\": \"1\\uc13c\\ud130\", \"\\ud14c\\ub10c\\ud2b8\": \"PRD\", \"DBMS\": \"Tibero\", \"count\": 28.0}, {\"\\ub144\\ub3c4\": \"22\\ub144\", \"\\uc6d4\": \"3\\uc6d4\", \"\\ub9ac\\uc804\": \"KR\", \"AZ\": \"1\\uc13c\\ud130\", \"\\ud14c\\ub10c\\ud2b8\": \"PRD\", \"DBMS\": \"Maria\", \"count\": 29.0}, {\"\\ub144\\ub3c4\": \"22\\ub144\", \"\\uc6d4\": \"3\\uc6d4\", \"\\ub9ac\\uc804\": \"KR\", \"AZ\": \"1\\uc13c\\ud130\", \"\\ud14c\\ub10c\\ud2b8\": \"PRD\", \"DBMS\": \"Redis\", \"count\": 89.0}, {\"\\ub144\\ub3c4\": \"22\\ub144\", \"\\uc6d4\": \"3\\uc6d4\", \"\\ub9ac\\uc804\": \"KR\", \"AZ\": \"1\\uc13c\\ud130\", \"\\ud14c\\ub10c\\ud2b8\": \"PRD\", \"DBMS\": \"Mongo\", \"count\": 79.0}, {\"\\ub144\\ub3c4\": \"22\\ub144\", \"\\uc6d4\": \"3\\uc6d4\", \"\\ub9ac\\uc804\": \"KR\", \"AZ\": \"2\\uc13c\\ud130\", \"\\ud14c\\ub10c\\ud2b8\": \"PRD\", \"DBMS\": \"PostgreSQL\", \"count\": 0.0}, {\"\\ub144\\ub3c4\": \"22\\ub144\", \"\\uc6d4\": \"3\\uc6d4\", \"\\ub9ac\\uc804\": \"KR\", \"AZ\": \"2\\uc13c\\ud130\", \"\\ud14c\\ub10c\\ud2b8\": \"PRD\", \"DBMS\": \"Tibero\", \"count\": 0.0}, {\"\\ub144\\ub3c4\": \"22\\ub144\", \"\\uc6d4\": \"3\\uc6d4\", \"\\ub9ac\\uc804\": \"KR\", \"AZ\": \"2\\uc13c\\ud130\", \"\\ud14c\\ub10c\\ud2b8\": \"PRD\", \"DBMS\": \"Maria\", \"count\": 0.0}, {\"\\ub144\\ub3c4\": \"22\\ub144\", \"\\uc6d4\": \"3\\uc6d4\", \"\\ub9ac\\uc804\": \"KR\", \"AZ\": \"2\\uc13c\\ud130\", \"\\ud14c\\ub10c\\ud2b8\": \"PRD\", \"DBMS\": \"Redis\", \"count\": 0.0}, {\"\\ub144\\ub3c4\": \"22\\ub144\", \"\\uc6d4\": \"3\\uc6d4\", \"\\ub9ac\\uc804\": \"KR\", \"AZ\": \"2\\uc13c\\ud130\", \"\\ud14c\\ub10c\\ud2b8\": \"PRD\", \"DBMS\": \"Mongo\", \"count\": 0.0}, {\"\\ub144\\ub3c4\": \"22\\ub144\", \"\\uc6d4\": \"3\\uc6d4\", \"\\ub9ac\\uc804\": \"EU\", \"AZ\": \"1\\uc13c\\ud130\", \"\\ud14c\\ub10c\\ud2b8\": \"PRD\", \"DBMS\": \"PostgreSQL\", \"count\": 17.0}, {\"\\ub144\\ub3c4\": \"22\\ub144\", \"\\uc6d4\": \"3\\uc6d4\", \"\\ub9ac\\uc804\": \"EU\", \"AZ\": \"1\\uc13c\\ud130\", \"\\ud14c\\ub10c\\ud2b8\": \"PRD\", \"DBMS\": \"Tibero\", \"count\": 1.0}, {\"\\ub144\\ub3c4\": \"22\\ub144\", \"\\uc6d4\": \"3\\uc6d4\", \"\\ub9ac\\uc804\": \"EU\", \"AZ\": \"1\\uc13c\\ud130\", \"\\ud14c\\ub10c\\ud2b8\": \"PRD\", \"DBMS\": \"Maria\", \"count\": 0.0}, {\"\\ub144\\ub3c4\": \"22\\ub144\", \"\\uc6d4\": \"3\\uc6d4\", \"\\ub9ac\\uc804\": \"EU\", \"AZ\": \"1\\uc13c\\ud130\", \"\\ud14c\\ub10c\\ud2b8\": \"PRD\", \"DBMS\": \"Redis\", \"count\": 20.0}, {\"\\ub144\\ub3c4\": \"22\\ub144\", \"\\uc6d4\": \"3\\uc6d4\", \"\\ub9ac\\uc804\": \"EU\", \"AZ\": \"1\\uc13c\\ud130\", \"\\ud14c\\ub10c\\ud2b8\": \"PRD\", \"DBMS\": \"Mongo\", \"count\": 4.0}, {\"\\ub144\\ub3c4\": \"22\\ub144\", \"\\uc6d4\": \"3\\uc6d4\", \"\\ub9ac\\uc804\": \"NA\", \"AZ\": \"1\\uc13c\\ud130\", \"\\ud14c\\ub10c\\ud2b8\": \"PRD\", \"DBMS\": \"PostgreSQL\", \"count\": 4.0}, {\"\\ub144\\ub3c4\": \"22\\ub144\", \"\\uc6d4\": \"3\\uc6d4\", \"\\ub9ac\\uc804\": \"NA\", \"AZ\": \"1\\uc13c\\ud130\", \"\\ud14c\\ub10c\\ud2b8\": \"PRD\", \"DBMS\": \"Tibero\", \"count\": 12.0}, {\"\\ub144\\ub3c4\": \"22\\ub144\", \"\\uc6d4\": \"3\\uc6d4\", \"\\ub9ac\\uc804\": \"NA\", \"AZ\": \"1\\uc13c\\ud130\", \"\\ud14c\\ub10c\\ud2b8\": \"PRD\", \"DBMS\": \"Maria\", \"count\": 0.0}, {\"\\ub144\\ub3c4\": \"22\\ub144\", \"\\uc6d4\": \"3\\uc6d4\", \"\\ub9ac\\uc804\": \"NA\", \"AZ\": \"1\\uc13c\\ud130\", \"\\ud14c\\ub10c\\ud2b8\": \"PRD\", \"DBMS\": \"Redis\", \"count\": 6.0}, {\"\\ub144\\ub3c4\": \"22\\ub144\", \"\\uc6d4\": \"3\\uc6d4\", \"\\ub9ac\\uc804\": \"NA\", \"AZ\": \"1\\uc13c\\ud130\", \"\\ud14c\\ub10c\\ud2b8\": \"PRD\", \"DBMS\": \"Mongo\", \"count\": 3.0}, {\"\\ub144\\ub3c4\": \"22\\ub144\", \"\\uc6d4\": \"3\\uc6d4\", \"\\ub9ac\\uc804\": \"CN\", \"AZ\": \"1\\uc13c\\ud130\", \"\\ud14c\\ub10c\\ud2b8\": \"PRD\", \"DBMS\": \"PostgreSQL\", \"count\": 9.0}, {\"\\ub144\\ub3c4\": \"22\\ub144\", \"\\uc6d4\": \"3\\uc6d4\", \"\\ub9ac\\uc804\": \"CN\", \"AZ\": \"1\\uc13c\\ud130\", \"\\ud14c\\ub10c\\ud2b8\": \"PRD\", \"DBMS\": \"Tibero\", \"count\": 14.0}, {\"\\ub144\\ub3c4\": \"22\\ub144\", \"\\uc6d4\": \"3\\uc6d4\", \"\\ub9ac\\uc804\": \"CN\", \"AZ\": \"1\\uc13c\\ud130\", \"\\ud14c\\ub10c\\ud2b8\": \"PRD\", \"DBMS\": \"Maria\", \"count\": 0.0}, {\"\\ub144\\ub3c4\": \"22\\ub144\", \"\\uc6d4\": \"3\\uc6d4\", \"\\ub9ac\\uc804\": \"CN\", \"AZ\": \"1\\uc13c\\ud130\", \"\\ud14c\\ub10c\\ud2b8\": \"PRD\", \"DBMS\": \"Redis\", \"count\": 12.0}, {\"\\ub144\\ub3c4\": \"22\\ub144\", \"\\uc6d4\": \"3\\uc6d4\", \"\\ub9ac\\uc804\": \"CN\", \"AZ\": \"1\\uc13c\\ud130\", \"\\ud14c\\ub10c\\ud2b8\": \"PRD\", \"DBMS\": \"Mongo\", \"count\": 5.0}, {\"\\ub144\\ub3c4\": \"22\\ub144\", \"\\uc6d4\": \"3\\uc6d4\", \"\\ub9ac\\uc804\": \"RU\", \"AZ\": \"1\\uc13c\\ud130\", \"\\ud14c\\ub10c\\ud2b8\": \"PRD\", \"DBMS\": \"PostgreSQL\", \"count\": 10.0}, {\"\\ub144\\ub3c4\": \"22\\ub144\", \"\\uc6d4\": \"3\\uc6d4\", \"\\ub9ac\\uc804\": \"RU\", \"AZ\": \"1\\uc13c\\ud130\", \"\\ud14c\\ub10c\\ud2b8\": \"PRD\", \"DBMS\": \"Tibero\", \"count\": 0.0}, {\"\\ub144\\ub3c4\": \"22\\ub144\", \"\\uc6d4\": \"3\\uc6d4\", \"\\ub9ac\\uc804\": \"RU\", \"AZ\": \"1\\uc13c\\ud130\", \"\\ud14c\\ub10c\\ud2b8\": \"PRD\", \"DBMS\": \"Maria\", \"count\": 0.0}, {\"\\ub144\\ub3c4\": \"22\\ub144\", \"\\uc6d4\": \"3\\uc6d4\", \"\\ub9ac\\uc804\": \"RU\", \"AZ\": \"1\\uc13c\\ud130\", \"\\ud14c\\ub10c\\ud2b8\": \"PRD\", \"DBMS\": \"Redis\", \"count\": 3.0}, {\"\\ub144\\ub3c4\": \"22\\ub144\", \"\\uc6d4\": \"3\\uc6d4\", \"\\ub9ac\\uc804\": \"RU\", \"AZ\": \"1\\uc13c\\ud130\", \"\\ud14c\\ub10c\\ud2b8\": \"PRD\", \"DBMS\": \"Mongo\", \"count\": 1.0}, {\"\\ub144\\ub3c4\": \"22\\ub144\", \"\\uc6d4\": \"3\\uc6d4\", \"\\ub9ac\\uc804\": \"SG\", \"AZ\": \"1\\uc13c\\ud130\", \"\\ud14c\\ub10c\\ud2b8\": \"PRD\", \"DBMS\": \"PostgreSQL\", \"count\": 24.0}, {\"\\ub144\\ub3c4\": \"22\\ub144\", \"\\uc6d4\": \"3\\uc6d4\", \"\\ub9ac\\uc804\": \"SG\", \"AZ\": \"1\\uc13c\\ud130\", \"\\ud14c\\ub10c\\ud2b8\": \"PRD\", \"DBMS\": \"Tibero\", \"count\": 0.0}, {\"\\ub144\\ub3c4\": \"22\\ub144\", \"\\uc6d4\": \"3\\uc6d4\", \"\\ub9ac\\uc804\": \"SG\", \"AZ\": \"1\\uc13c\\ud130\", \"\\ud14c\\ub10c\\ud2b8\": \"PRD\", \"DBMS\": \"Maria\", \"count\": 0.0}, {\"\\ub144\\ub3c4\": \"22\\ub144\", \"\\uc6d4\": \"3\\uc6d4\", \"\\ub9ac\\uc804\": \"SG\", \"AZ\": \"1\\uc13c\\ud130\", \"\\ud14c\\ub10c\\ud2b8\": \"PRD\", \"DBMS\": \"Redis\", \"count\": 24.0}, {\"\\ub144\\ub3c4\": \"22\\ub144\", \"\\uc6d4\": \"3\\uc6d4\", \"\\ub9ac\\uc804\": \"SG\", \"AZ\": \"1\\uc13c\\ud130\", \"\\ud14c\\ub10c\\ud2b8\": \"PRD\", \"DBMS\": \"Mongo\", \"count\": 7.0}, {\"\\ub144\\ub3c4\": \"22\\ub144\", \"\\uc6d4\": \"4\\uc6d4\", \"\\ub9ac\\uc804\": \"KR\", \"AZ\": \"1\\uc13c\\ud130\", \"\\ud14c\\ub10c\\ud2b8\": \"PRD\", \"DBMS\": \"PostgreSQL\", \"count\": 120.0}, {\"\\ub144\\ub3c4\": \"22\\ub144\", \"\\uc6d4\": \"4\\uc6d4\", \"\\ub9ac\\uc804\": \"KR\", \"AZ\": \"1\\uc13c\\ud130\", \"\\ud14c\\ub10c\\ud2b8\": \"PRD\", \"DBMS\": \"Tibero\", \"count\": 28.0}, {\"\\ub144\\ub3c4\": \"22\\ub144\", \"\\uc6d4\": \"4\\uc6d4\", \"\\ub9ac\\uc804\": \"KR\", \"AZ\": \"1\\uc13c\\ud130\", \"\\ud14c\\ub10c\\ud2b8\": \"PRD\", \"DBMS\": \"Maria\", \"count\": 25.0}, {\"\\ub144\\ub3c4\": \"22\\ub144\", \"\\uc6d4\": \"4\\uc6d4\", \"\\ub9ac\\uc804\": \"KR\", \"AZ\": \"1\\uc13c\\ud130\", \"\\ud14c\\ub10c\\ud2b8\": \"PRD\", \"DBMS\": \"Redis\", \"count\": 94.0}, {\"\\ub144\\ub3c4\": \"22\\ub144\", \"\\uc6d4\": \"4\\uc6d4\", \"\\ub9ac\\uc804\": \"KR\", \"AZ\": \"1\\uc13c\\ud130\", \"\\ud14c\\ub10c\\ud2b8\": \"PRD\", \"DBMS\": \"Mongo\", \"count\": 76.0}, {\"\\ub144\\ub3c4\": \"22\\ub144\", \"\\uc6d4\": \"4\\uc6d4\", \"\\ub9ac\\uc804\": \"KR\", \"AZ\": \"2\\uc13c\\ud130\", \"\\ud14c\\ub10c\\ud2b8\": \"PRD\", \"DBMS\": \"PostgreSQL\", \"count\": 0.0}, {\"\\ub144\\ub3c4\": \"22\\ub144\", \"\\uc6d4\": \"4\\uc6d4\", \"\\ub9ac\\uc804\": \"KR\", \"AZ\": \"2\\uc13c\\ud130\", \"\\ud14c\\ub10c\\ud2b8\": \"PRD\", \"DBMS\": \"Tibero\", \"count\": 0.0}, {\"\\ub144\\ub3c4\": \"22\\ub144\", \"\\uc6d4\": \"4\\uc6d4\", \"\\ub9ac\\uc804\": \"KR\", \"AZ\": \"2\\uc13c\\ud130\", \"\\ud14c\\ub10c\\ud2b8\": \"PRD\", \"DBMS\": \"Maria\", \"count\": 0.0}, {\"\\ub144\\ub3c4\": \"22\\ub144\", \"\\uc6d4\": \"4\\uc6d4\", \"\\ub9ac\\uc804\": \"KR\", \"AZ\": \"2\\uc13c\\ud130\", \"\\ud14c\\ub10c\\ud2b8\": \"PRD\", \"DBMS\": \"Redis\", \"count\": 0.0}, {\"\\ub144\\ub3c4\": \"22\\ub144\", \"\\uc6d4\": \"4\\uc6d4\", \"\\ub9ac\\uc804\": \"KR\", \"AZ\": \"2\\uc13c\\ud130\", \"\\ud14c\\ub10c\\ud2b8\": \"PRD\", \"DBMS\": \"Mongo\", \"count\": 0.0}, {\"\\ub144\\ub3c4\": \"22\\ub144\", \"\\uc6d4\": \"4\\uc6d4\", \"\\ub9ac\\uc804\": \"EU\", \"AZ\": \"1\\uc13c\\ud130\", \"\\ud14c\\ub10c\\ud2b8\": \"PRD\", \"DBMS\": \"PostgreSQL\", \"count\": 19.0}, {\"\\ub144\\ub3c4\": \"22\\ub144\", \"\\uc6d4\": \"4\\uc6d4\", \"\\ub9ac\\uc804\": \"EU\", \"AZ\": \"1\\uc13c\\ud130\", \"\\ud14c\\ub10c\\ud2b8\": \"PRD\", \"DBMS\": \"Tibero\", \"count\": 1.0}, {\"\\ub144\\ub3c4\": \"22\\ub144\", \"\\uc6d4\": \"4\\uc6d4\", \"\\ub9ac\\uc804\": \"EU\", \"AZ\": \"1\\uc13c\\ud130\", \"\\ud14c\\ub10c\\ud2b8\": \"PRD\", \"DBMS\": \"Maria\", \"count\": 0.0}, {\"\\ub144\\ub3c4\": \"22\\ub144\", \"\\uc6d4\": \"4\\uc6d4\", \"\\ub9ac\\uc804\": \"EU\", \"AZ\": \"1\\uc13c\\ud130\", \"\\ud14c\\ub10c\\ud2b8\": \"PRD\", \"DBMS\": \"Redis\", \"count\": 22.0}, {\"\\ub144\\ub3c4\": \"22\\ub144\", \"\\uc6d4\": \"4\\uc6d4\", \"\\ub9ac\\uc804\": \"EU\", \"AZ\": \"1\\uc13c\\ud130\", \"\\ud14c\\ub10c\\ud2b8\": \"PRD\", \"DBMS\": \"Mongo\", \"count\": 4.0}, {\"\\ub144\\ub3c4\": \"22\\ub144\", \"\\uc6d4\": \"4\\uc6d4\", \"\\ub9ac\\uc804\": \"NA\", \"AZ\": \"1\\uc13c\\ud130\", \"\\ud14c\\ub10c\\ud2b8\": \"PRD\", \"DBMS\": \"PostgreSQL\", \"count\": 5.0}, {\"\\ub144\\ub3c4\": \"22\\ub144\", \"\\uc6d4\": \"4\\uc6d4\", \"\\ub9ac\\uc804\": \"NA\", \"AZ\": \"1\\uc13c\\ud130\", \"\\ud14c\\ub10c\\ud2b8\": \"PRD\", \"DBMS\": \"Tibero\", \"count\": 13.0}, {\"\\ub144\\ub3c4\": \"22\\ub144\", \"\\uc6d4\": \"4\\uc6d4\", \"\\ub9ac\\uc804\": \"NA\", \"AZ\": \"1\\uc13c\\ud130\", \"\\ud14c\\ub10c\\ud2b8\": \"PRD\", \"DBMS\": \"Maria\", \"count\": 0.0}, {\"\\ub144\\ub3c4\": \"22\\ub144\", \"\\uc6d4\": \"4\\uc6d4\", \"\\ub9ac\\uc804\": \"NA\", \"AZ\": \"1\\uc13c\\ud130\", \"\\ud14c\\ub10c\\ud2b8\": \"PRD\", \"DBMS\": \"Redis\", \"count\": 10.0}, {\"\\ub144\\ub3c4\": \"22\\ub144\", \"\\uc6d4\": \"4\\uc6d4\", \"\\ub9ac\\uc804\": \"NA\", \"AZ\": \"1\\uc13c\\ud130\", \"\\ud14c\\ub10c\\ud2b8\": \"PRD\", \"DBMS\": \"Mongo\", \"count\": 6.0}, {\"\\ub144\\ub3c4\": \"22\\ub144\", \"\\uc6d4\": \"4\\uc6d4\", \"\\ub9ac\\uc804\": \"CN\", \"AZ\": \"1\\uc13c\\ud130\", \"\\ud14c\\ub10c\\ud2b8\": \"PRD\", \"DBMS\": \"PostgreSQL\", \"count\": 10.0}, {\"\\ub144\\ub3c4\": \"22\\ub144\", \"\\uc6d4\": \"4\\uc6d4\", \"\\ub9ac\\uc804\": \"CN\", \"AZ\": \"1\\uc13c\\ud130\", \"\\ud14c\\ub10c\\ud2b8\": \"PRD\", \"DBMS\": \"Tibero\", \"count\": 14.0}, {\"\\ub144\\ub3c4\": \"22\\ub144\", \"\\uc6d4\": \"4\\uc6d4\", \"\\ub9ac\\uc804\": \"CN\", \"AZ\": \"1\\uc13c\\ud130\", \"\\ud14c\\ub10c\\ud2b8\": \"PRD\", \"DBMS\": \"Maria\", \"count\": 0.0}, {\"\\ub144\\ub3c4\": \"22\\ub144\", \"\\uc6d4\": \"4\\uc6d4\", \"\\ub9ac\\uc804\": \"CN\", \"AZ\": \"1\\uc13c\\ud130\", \"\\ud14c\\ub10c\\ud2b8\": \"PRD\", \"DBMS\": \"Redis\", \"count\": 14.0}, {\"\\ub144\\ub3c4\": \"22\\ub144\", \"\\uc6d4\": \"4\\uc6d4\", \"\\ub9ac\\uc804\": \"CN\", \"AZ\": \"1\\uc13c\\ud130\", \"\\ud14c\\ub10c\\ud2b8\": \"PRD\", \"DBMS\": \"Mongo\", \"count\": 5.0}, {\"\\ub144\\ub3c4\": \"22\\ub144\", \"\\uc6d4\": \"4\\uc6d4\", \"\\ub9ac\\uc804\": \"RU\", \"AZ\": \"1\\uc13c\\ud130\", \"\\ud14c\\ub10c\\ud2b8\": \"PRD\", \"DBMS\": \"PostgreSQL\", \"count\": 10.0}, {\"\\ub144\\ub3c4\": \"22\\ub144\", \"\\uc6d4\": \"4\\uc6d4\", \"\\ub9ac\\uc804\": \"RU\", \"AZ\": \"1\\uc13c\\ud130\", \"\\ud14c\\ub10c\\ud2b8\": \"PRD\", \"DBMS\": \"Tibero\", \"count\": 0.0}, {\"\\ub144\\ub3c4\": \"22\\ub144\", \"\\uc6d4\": \"4\\uc6d4\", \"\\ub9ac\\uc804\": \"RU\", \"AZ\": \"1\\uc13c\\ud130\", \"\\ud14c\\ub10c\\ud2b8\": \"PRD\", \"DBMS\": \"Maria\", \"count\": 0.0}, {\"\\ub144\\ub3c4\": \"22\\ub144\", \"\\uc6d4\": \"4\\uc6d4\", \"\\ub9ac\\uc804\": \"RU\", \"AZ\": \"1\\uc13c\\ud130\", \"\\ud14c\\ub10c\\ud2b8\": \"PRD\", \"DBMS\": \"Redis\", \"count\": 3.0}, {\"\\ub144\\ub3c4\": \"22\\ub144\", \"\\uc6d4\": \"4\\uc6d4\", \"\\ub9ac\\uc804\": \"RU\", \"AZ\": \"1\\uc13c\\ud130\", \"\\ud14c\\ub10c\\ud2b8\": \"PRD\", \"DBMS\": \"Mongo\", \"count\": 1.0}, {\"\\ub144\\ub3c4\": \"22\\ub144\", \"\\uc6d4\": \"4\\uc6d4\", \"\\ub9ac\\uc804\": \"SG\", \"AZ\": \"1\\uc13c\\ud130\", \"\\ud14c\\ub10c\\ud2b8\": \"PRD\", \"DBMS\": \"PostgreSQL\", \"count\": 24.0}, {\"\\ub144\\ub3c4\": \"22\\ub144\", \"\\uc6d4\": \"4\\uc6d4\", \"\\ub9ac\\uc804\": \"SG\", \"AZ\": \"1\\uc13c\\ud130\", \"\\ud14c\\ub10c\\ud2b8\": \"PRD\", \"DBMS\": \"Tibero\", \"count\": 0.0}, {\"\\ub144\\ub3c4\": \"22\\ub144\", \"\\uc6d4\": \"4\\uc6d4\", \"\\ub9ac\\uc804\": \"SG\", \"AZ\": \"1\\uc13c\\ud130\", \"\\ud14c\\ub10c\\ud2b8\": \"PRD\", \"DBMS\": \"Maria\", \"count\": 0.0}, {\"\\ub144\\ub3c4\": \"22\\ub144\", \"\\uc6d4\": \"4\\uc6d4\", \"\\ub9ac\\uc804\": \"SG\", \"AZ\": \"1\\uc13c\\ud130\", \"\\ud14c\\ub10c\\ud2b8\": \"PRD\", \"DBMS\": \"Redis\", \"count\": 26.0}, {\"\\ub144\\ub3c4\": \"22\\ub144\", \"\\uc6d4\": \"4\\uc6d4\", \"\\ub9ac\\uc804\": \"SG\", \"AZ\": \"1\\uc13c\\ud130\", \"\\ud14c\\ub10c\\ud2b8\": \"PRD\", \"DBMS\": \"Mongo\", \"count\": 7.0}, {\"\\ub144\\ub3c4\": \"22\\ub144\", \"\\uc6d4\": \"5\\uc6d4\", \"\\ub9ac\\uc804\": \"KR\", \"AZ\": \"1\\uc13c\\ud130\", \"\\ud14c\\ub10c\\ud2b8\": \"PRD\", \"DBMS\": \"PostgreSQL\", \"count\": 120.0}, {\"\\ub144\\ub3c4\": \"22\\ub144\", \"\\uc6d4\": \"5\\uc6d4\", \"\\ub9ac\\uc804\": \"KR\", \"AZ\": \"1\\uc13c\\ud130\", \"\\ud14c\\ub10c\\ud2b8\": \"PRD\", \"DBMS\": \"Tibero\", \"count\": 30.0}, {\"\\ub144\\ub3c4\": \"22\\ub144\", \"\\uc6d4\": \"5\\uc6d4\", \"\\ub9ac\\uc804\": \"KR\", \"AZ\": \"1\\uc13c\\ud130\", \"\\ud14c\\ub10c\\ud2b8\": \"PRD\", \"DBMS\": \"Maria\", \"count\": 25.0}, {\"\\ub144\\ub3c4\": \"22\\ub144\", \"\\uc6d4\": \"5\\uc6d4\", \"\\ub9ac\\uc804\": \"KR\", \"AZ\": \"1\\uc13c\\ud130\", \"\\ud14c\\ub10c\\ud2b8\": \"PRD\", \"DBMS\": \"Redis\", \"count\": 96.0}, {\"\\ub144\\ub3c4\": \"22\\ub144\", \"\\uc6d4\": \"5\\uc6d4\", \"\\ub9ac\\uc804\": \"KR\", \"AZ\": \"1\\uc13c\\ud130\", \"\\ud14c\\ub10c\\ud2b8\": \"PRD\", \"DBMS\": \"Mongo\", \"count\": 76.0}, {\"\\ub144\\ub3c4\": \"22\\ub144\", \"\\uc6d4\": \"5\\uc6d4\", \"\\ub9ac\\uc804\": \"KR\", \"AZ\": \"2\\uc13c\\ud130\", \"\\ud14c\\ub10c\\ud2b8\": \"PRD\", \"DBMS\": \"PostgreSQL\", \"count\": 4.0}, {\"\\ub144\\ub3c4\": \"22\\ub144\", \"\\uc6d4\": \"5\\uc6d4\", \"\\ub9ac\\uc804\": \"KR\", \"AZ\": \"2\\uc13c\\ud130\", \"\\ud14c\\ub10c\\ud2b8\": \"PRD\", \"DBMS\": \"Tibero\", \"count\": 0.0}, {\"\\ub144\\ub3c4\": \"22\\ub144\", \"\\uc6d4\": \"5\\uc6d4\", \"\\ub9ac\\uc804\": \"KR\", \"AZ\": \"2\\uc13c\\ud130\", \"\\ud14c\\ub10c\\ud2b8\": \"PRD\", \"DBMS\": \"Maria\", \"count\": 3.0}, {\"\\ub144\\ub3c4\": \"22\\ub144\", \"\\uc6d4\": \"5\\uc6d4\", \"\\ub9ac\\uc804\": \"KR\", \"AZ\": \"2\\uc13c\\ud130\", \"\\ud14c\\ub10c\\ud2b8\": \"PRD\", \"DBMS\": \"Redis\", \"count\": 37.0}, {\"\\ub144\\ub3c4\": \"22\\ub144\", \"\\uc6d4\": \"5\\uc6d4\", \"\\ub9ac\\uc804\": \"KR\", \"AZ\": \"2\\uc13c\\ud130\", \"\\ud14c\\ub10c\\ud2b8\": \"PRD\", \"DBMS\": \"Mongo\", \"count\": 3.0}, {\"\\ub144\\ub3c4\": \"22\\ub144\", \"\\uc6d4\": \"5\\uc6d4\", \"\\ub9ac\\uc804\": \"EU\", \"AZ\": \"1\\uc13c\\ud130\", \"\\ud14c\\ub10c\\ud2b8\": \"PRD\", \"DBMS\": \"PostgreSQL\", \"count\": 19.0}, {\"\\ub144\\ub3c4\": \"22\\ub144\", \"\\uc6d4\": \"5\\uc6d4\", \"\\ub9ac\\uc804\": \"EU\", \"AZ\": \"1\\uc13c\\ud130\", \"\\ud14c\\ub10c\\ud2b8\": \"PRD\", \"DBMS\": \"Tibero\", \"count\": 1.0}, {\"\\ub144\\ub3c4\": \"22\\ub144\", \"\\uc6d4\": \"5\\uc6d4\", \"\\ub9ac\\uc804\": \"EU\", \"AZ\": \"1\\uc13c\\ud130\", \"\\ud14c\\ub10c\\ud2b8\": \"PRD\", \"DBMS\": \"Maria\", \"count\": 0.0}, {\"\\ub144\\ub3c4\": \"22\\ub144\", \"\\uc6d4\": \"5\\uc6d4\", \"\\ub9ac\\uc804\": \"EU\", \"AZ\": \"1\\uc13c\\ud130\", \"\\ud14c\\ub10c\\ud2b8\": \"PRD\", \"DBMS\": \"Redis\", \"count\": 22.0}, {\"\\ub144\\ub3c4\": \"22\\ub144\", \"\\uc6d4\": \"5\\uc6d4\", \"\\ub9ac\\uc804\": \"EU\", \"AZ\": \"1\\uc13c\\ud130\", \"\\ud14c\\ub10c\\ud2b8\": \"PRD\", \"DBMS\": \"Mongo\", \"count\": 4.0}, {\"\\ub144\\ub3c4\": \"22\\ub144\", \"\\uc6d4\": \"5\\uc6d4\", \"\\ub9ac\\uc804\": \"NA\", \"AZ\": \"1\\uc13c\\ud130\", \"\\ud14c\\ub10c\\ud2b8\": \"PRD\", \"DBMS\": \"PostgreSQL\", \"count\": 7.0}, {\"\\ub144\\ub3c4\": \"22\\ub144\", \"\\uc6d4\": \"5\\uc6d4\", \"\\ub9ac\\uc804\": \"NA\", \"AZ\": \"1\\uc13c\\ud130\", \"\\ud14c\\ub10c\\ud2b8\": \"PRD\", \"DBMS\": \"Tibero\", \"count\": 14.0}, {\"\\ub144\\ub3c4\": \"22\\ub144\", \"\\uc6d4\": \"5\\uc6d4\", \"\\ub9ac\\uc804\": \"NA\", \"AZ\": \"1\\uc13c\\ud130\", \"\\ud14c\\ub10c\\ud2b8\": \"PRD\", \"DBMS\": \"Maria\", \"count\": 0.0}, {\"\\ub144\\ub3c4\": \"22\\ub144\", \"\\uc6d4\": \"5\\uc6d4\", \"\\ub9ac\\uc804\": \"NA\", \"AZ\": \"1\\uc13c\\ud130\", \"\\ud14c\\ub10c\\ud2b8\": \"PRD\", \"DBMS\": \"Redis\", \"count\": 10.0}, {\"\\ub144\\ub3c4\": \"22\\ub144\", \"\\uc6d4\": \"5\\uc6d4\", \"\\ub9ac\\uc804\": \"NA\", \"AZ\": \"1\\uc13c\\ud130\", \"\\ud14c\\ub10c\\ud2b8\": \"PRD\", \"DBMS\": \"Mongo\", \"count\": 6.0}, {\"\\ub144\\ub3c4\": \"22\\ub144\", \"\\uc6d4\": \"5\\uc6d4\", \"\\ub9ac\\uc804\": \"CN\", \"AZ\": \"1\\uc13c\\ud130\", \"\\ud14c\\ub10c\\ud2b8\": \"PRD\", \"DBMS\": \"PostgreSQL\", \"count\": 10.0}, {\"\\ub144\\ub3c4\": \"22\\ub144\", \"\\uc6d4\": \"5\\uc6d4\", \"\\ub9ac\\uc804\": \"CN\", \"AZ\": \"1\\uc13c\\ud130\", \"\\ud14c\\ub10c\\ud2b8\": \"PRD\", \"DBMS\": \"Tibero\", \"count\": 15.0}, {\"\\ub144\\ub3c4\": \"22\\ub144\", \"\\uc6d4\": \"5\\uc6d4\", \"\\ub9ac\\uc804\": \"CN\", \"AZ\": \"1\\uc13c\\ud130\", \"\\ud14c\\ub10c\\ud2b8\": \"PRD\", \"DBMS\": \"Maria\", \"count\": 0.0}, {\"\\ub144\\ub3c4\": \"22\\ub144\", \"\\uc6d4\": \"5\\uc6d4\", \"\\ub9ac\\uc804\": \"CN\", \"AZ\": \"1\\uc13c\\ud130\", \"\\ud14c\\ub10c\\ud2b8\": \"PRD\", \"DBMS\": \"Redis\", \"count\": 14.0}, {\"\\ub144\\ub3c4\": \"22\\ub144\", \"\\uc6d4\": \"5\\uc6d4\", \"\\ub9ac\\uc804\": \"CN\", \"AZ\": \"1\\uc13c\\ud130\", \"\\ud14c\\ub10c\\ud2b8\": \"PRD\", \"DBMS\": \"Mongo\", \"count\": 5.0}, {\"\\ub144\\ub3c4\": \"22\\ub144\", \"\\uc6d4\": \"5\\uc6d4\", \"\\ub9ac\\uc804\": \"RU\", \"AZ\": \"1\\uc13c\\ud130\", \"\\ud14c\\ub10c\\ud2b8\": \"PRD\", \"DBMS\": \"PostgreSQL\", \"count\": 10.0}, {\"\\ub144\\ub3c4\": \"22\\ub144\", \"\\uc6d4\": \"5\\uc6d4\", \"\\ub9ac\\uc804\": \"RU\", \"AZ\": \"1\\uc13c\\ud130\", \"\\ud14c\\ub10c\\ud2b8\": \"PRD\", \"DBMS\": \"Tibero\", \"count\": 0.0}, {\"\\ub144\\ub3c4\": \"22\\ub144\", \"\\uc6d4\": \"5\\uc6d4\", \"\\ub9ac\\uc804\": \"RU\", \"AZ\": \"1\\uc13c\\ud130\", \"\\ud14c\\ub10c\\ud2b8\": \"PRD\", \"DBMS\": \"Maria\", \"count\": 0.0}, {\"\\ub144\\ub3c4\": \"22\\ub144\", \"\\uc6d4\": \"5\\uc6d4\", \"\\ub9ac\\uc804\": \"RU\", \"AZ\": \"1\\uc13c\\ud130\", \"\\ud14c\\ub10c\\ud2b8\": \"PRD\", \"DBMS\": \"Redis\", \"count\": 3.0}, {\"\\ub144\\ub3c4\": \"22\\ub144\", \"\\uc6d4\": \"5\\uc6d4\", \"\\ub9ac\\uc804\": \"RU\", \"AZ\": \"1\\uc13c\\ud130\", \"\\ud14c\\ub10c\\ud2b8\": \"PRD\", \"DBMS\": \"Mongo\", \"count\": 1.0}, {\"\\ub144\\ub3c4\": \"22\\ub144\", \"\\uc6d4\": \"5\\uc6d4\", \"\\ub9ac\\uc804\": \"SG\", \"AZ\": \"1\\uc13c\\ud130\", \"\\ud14c\\ub10c\\ud2b8\": \"PRD\", \"DBMS\": \"PostgreSQL\", \"count\": 24.0}, {\"\\ub144\\ub3c4\": \"22\\ub144\", \"\\uc6d4\": \"5\\uc6d4\", \"\\ub9ac\\uc804\": \"SG\", \"AZ\": \"1\\uc13c\\ud130\", \"\\ud14c\\ub10c\\ud2b8\": \"PRD\", \"DBMS\": \"Tibero\", \"count\": 0.0}, {\"\\ub144\\ub3c4\": \"22\\ub144\", \"\\uc6d4\": \"5\\uc6d4\", \"\\ub9ac\\uc804\": \"SG\", \"AZ\": \"1\\uc13c\\ud130\", \"\\ud14c\\ub10c\\ud2b8\": \"PRD\", \"DBMS\": \"Maria\", \"count\": 0.0}, {\"\\ub144\\ub3c4\": \"22\\ub144\", \"\\uc6d4\": \"5\\uc6d4\", \"\\ub9ac\\uc804\": \"SG\", \"AZ\": \"1\\uc13c\\ud130\", \"\\ud14c\\ub10c\\ud2b8\": \"PRD\", \"DBMS\": \"Redis\", \"count\": 26.0}, {\"\\ub144\\ub3c4\": \"22\\ub144\", \"\\uc6d4\": \"5\\uc6d4\", \"\\ub9ac\\uc804\": \"SG\", \"AZ\": \"1\\uc13c\\ud130\", \"\\ud14c\\ub10c\\ud2b8\": \"PRD\", \"DBMS\": \"Mongo\", \"count\": 7.0}, {\"\\ub144\\ub3c4\": \"22\\ub144\", \"\\uc6d4\": \"6\\uc6d4\", \"\\ub9ac\\uc804\": \"KR\", \"AZ\": \"1\\uc13c\\ud130\", \"\\ud14c\\ub10c\\ud2b8\": \"PRD\", \"DBMS\": \"PostgreSQL\", \"count\": 122.0}, {\"\\ub144\\ub3c4\": \"22\\ub144\", \"\\uc6d4\": \"6\\uc6d4\", \"\\ub9ac\\uc804\": \"KR\", \"AZ\": \"1\\uc13c\\ud130\", \"\\ud14c\\ub10c\\ud2b8\": \"PRD\", \"DBMS\": \"Tibero\", \"count\": 26.0}, {\"\\ub144\\ub3c4\": \"22\\ub144\", \"\\uc6d4\": \"6\\uc6d4\", \"\\ub9ac\\uc804\": \"KR\", \"AZ\": \"1\\uc13c\\ud130\", \"\\ud14c\\ub10c\\ud2b8\": \"PRD\", \"DBMS\": \"Maria\", \"count\": 25.0}, {\"\\ub144\\ub3c4\": \"22\\ub144\", \"\\uc6d4\": \"6\\uc6d4\", \"\\ub9ac\\uc804\": \"KR\", \"AZ\": \"1\\uc13c\\ud130\", \"\\ud14c\\ub10c\\ud2b8\": \"PRD\", \"DBMS\": \"Redis\", \"count\": 108.0}, {\"\\ub144\\ub3c4\": \"22\\ub144\", \"\\uc6d4\": \"6\\uc6d4\", \"\\ub9ac\\uc804\": \"KR\", \"AZ\": \"1\\uc13c\\ud130\", \"\\ud14c\\ub10c\\ud2b8\": \"PRD\", \"DBMS\": \"Mongo\", \"count\": 79.0}, {\"\\ub144\\ub3c4\": \"22\\ub144\", \"\\uc6d4\": \"6\\uc6d4\", \"\\ub9ac\\uc804\": \"KR\", \"AZ\": \"2\\uc13c\\ud130\", \"\\ud14c\\ub10c\\ud2b8\": \"PRD\", \"DBMS\": \"PostgreSQL\", \"count\": 4.0}, {\"\\ub144\\ub3c4\": \"22\\ub144\", \"\\uc6d4\": \"6\\uc6d4\", \"\\ub9ac\\uc804\": \"KR\", \"AZ\": \"2\\uc13c\\ud130\", \"\\ud14c\\ub10c\\ud2b8\": \"PRD\", \"DBMS\": \"Tibero\", \"count\": 0.0}, {\"\\ub144\\ub3c4\": \"22\\ub144\", \"\\uc6d4\": \"6\\uc6d4\", \"\\ub9ac\\uc804\": \"KR\", \"AZ\": \"2\\uc13c\\ud130\", \"\\ud14c\\ub10c\\ud2b8\": \"PRD\", \"DBMS\": \"Maria\", \"count\": 3.0}, {\"\\ub144\\ub3c4\": \"22\\ub144\", \"\\uc6d4\": \"6\\uc6d4\", \"\\ub9ac\\uc804\": \"KR\", \"AZ\": \"2\\uc13c\\ud130\", \"\\ud14c\\ub10c\\ud2b8\": \"PRD\", \"DBMS\": \"Redis\", \"count\": 37.0}, {\"\\ub144\\ub3c4\": \"22\\ub144\", \"\\uc6d4\": \"6\\uc6d4\", \"\\ub9ac\\uc804\": \"KR\", \"AZ\": \"2\\uc13c\\ud130\", \"\\ud14c\\ub10c\\ud2b8\": \"PRD\", \"DBMS\": \"Mongo\", \"count\": 3.0}, {\"\\ub144\\ub3c4\": \"22\\ub144\", \"\\uc6d4\": \"6\\uc6d4\", \"\\ub9ac\\uc804\": \"EU\", \"AZ\": \"1\\uc13c\\ud130\", \"\\ud14c\\ub10c\\ud2b8\": \"PRD\", \"DBMS\": \"PostgreSQL\", \"count\": 19.0}, {\"\\ub144\\ub3c4\": \"22\\ub144\", \"\\uc6d4\": \"6\\uc6d4\", \"\\ub9ac\\uc804\": \"EU\", \"AZ\": \"1\\uc13c\\ud130\", \"\\ud14c\\ub10c\\ud2b8\": \"PRD\", \"DBMS\": \"Tibero\", \"count\": 3.0}, {\"\\ub144\\ub3c4\": \"22\\ub144\", \"\\uc6d4\": \"6\\uc6d4\", \"\\ub9ac\\uc804\": \"EU\", \"AZ\": \"1\\uc13c\\ud130\", \"\\ud14c\\ub10c\\ud2b8\": \"PRD\", \"DBMS\": \"Maria\", \"count\": 0.0}, {\"\\ub144\\ub3c4\": \"22\\ub144\", \"\\uc6d4\": \"6\\uc6d4\", \"\\ub9ac\\uc804\": \"EU\", \"AZ\": \"1\\uc13c\\ud130\", \"\\ud14c\\ub10c\\ud2b8\": \"PRD\", \"DBMS\": \"Redis\", \"count\": 22.0}, {\"\\ub144\\ub3c4\": \"22\\ub144\", \"\\uc6d4\": \"6\\uc6d4\", \"\\ub9ac\\uc804\": \"EU\", \"AZ\": \"1\\uc13c\\ud130\", \"\\ud14c\\ub10c\\ud2b8\": \"PRD\", \"DBMS\": \"Mongo\", \"count\": 4.0}, {\"\\ub144\\ub3c4\": \"22\\ub144\", \"\\uc6d4\": \"6\\uc6d4\", \"\\ub9ac\\uc804\": \"NA\", \"AZ\": \"1\\uc13c\\ud130\", \"\\ud14c\\ub10c\\ud2b8\": \"PRD\", \"DBMS\": \"PostgreSQL\", \"count\": 7.0}, {\"\\ub144\\ub3c4\": \"22\\ub144\", \"\\uc6d4\": \"6\\uc6d4\", \"\\ub9ac\\uc804\": \"NA\", \"AZ\": \"1\\uc13c\\ud130\", \"\\ud14c\\ub10c\\ud2b8\": \"PRD\", \"DBMS\": \"Tibero\", \"count\": 18.0}, {\"\\ub144\\ub3c4\": \"22\\ub144\", \"\\uc6d4\": \"6\\uc6d4\", \"\\ub9ac\\uc804\": \"NA\", \"AZ\": \"1\\uc13c\\ud130\", \"\\ud14c\\ub10c\\ud2b8\": \"PRD\", \"DBMS\": \"Maria\", \"count\": 0.0}, {\"\\ub144\\ub3c4\": \"22\\ub144\", \"\\uc6d4\": \"6\\uc6d4\", \"\\ub9ac\\uc804\": \"NA\", \"AZ\": \"1\\uc13c\\ud130\", \"\\ud14c\\ub10c\\ud2b8\": \"PRD\", \"DBMS\": \"Redis\", \"count\": 10.0}, {\"\\ub144\\ub3c4\": \"22\\ub144\", \"\\uc6d4\": \"6\\uc6d4\", \"\\ub9ac\\uc804\": \"NA\", \"AZ\": \"1\\uc13c\\ud130\", \"\\ud14c\\ub10c\\ud2b8\": \"PRD\", \"DBMS\": \"Mongo\", \"count\": 6.0}, {\"\\ub144\\ub3c4\": \"22\\ub144\", \"\\uc6d4\": \"6\\uc6d4\", \"\\ub9ac\\uc804\": \"CN\", \"AZ\": \"1\\uc13c\\ud130\", \"\\ud14c\\ub10c\\ud2b8\": \"PRD\", \"DBMS\": \"PostgreSQL\", \"count\": 10.0}, {\"\\ub144\\ub3c4\": \"22\\ub144\", \"\\uc6d4\": \"6\\uc6d4\", \"\\ub9ac\\uc804\": \"CN\", \"AZ\": \"1\\uc13c\\ud130\", \"\\ud14c\\ub10c\\ud2b8\": \"PRD\", \"DBMS\": \"Tibero\", \"count\": 14.0}, {\"\\ub144\\ub3c4\": \"22\\ub144\", \"\\uc6d4\": \"6\\uc6d4\", \"\\ub9ac\\uc804\": \"CN\", \"AZ\": \"1\\uc13c\\ud130\", \"\\ud14c\\ub10c\\ud2b8\": \"PRD\", \"DBMS\": \"Maria\", \"count\": 0.0}, {\"\\ub144\\ub3c4\": \"22\\ub144\", \"\\uc6d4\": \"6\\uc6d4\", \"\\ub9ac\\uc804\": \"CN\", \"AZ\": \"1\\uc13c\\ud130\", \"\\ud14c\\ub10c\\ud2b8\": \"PRD\", \"DBMS\": \"Redis\", \"count\": 14.0}, {\"\\ub144\\ub3c4\": \"22\\ub144\", \"\\uc6d4\": \"6\\uc6d4\", \"\\ub9ac\\uc804\": \"CN\", \"AZ\": \"1\\uc13c\\ud130\", \"\\ud14c\\ub10c\\ud2b8\": \"PRD\", \"DBMS\": \"Mongo\", \"count\": 5.0}, {\"\\ub144\\ub3c4\": \"22\\ub144\", \"\\uc6d4\": \"6\\uc6d4\", \"\\ub9ac\\uc804\": \"RU\", \"AZ\": \"1\\uc13c\\ud130\", \"\\ud14c\\ub10c\\ud2b8\": \"PRD\", \"DBMS\": \"PostgreSQL\", \"count\": 4.0}, {\"\\ub144\\ub3c4\": \"22\\ub144\", \"\\uc6d4\": \"6\\uc6d4\", \"\\ub9ac\\uc804\": \"RU\", \"AZ\": \"1\\uc13c\\ud130\", \"\\ud14c\\ub10c\\ud2b8\": \"PRD\", \"DBMS\": \"Tibero\", \"count\": 0.0}, {\"\\ub144\\ub3c4\": \"22\\ub144\", \"\\uc6d4\": \"6\\uc6d4\", \"\\ub9ac\\uc804\": \"RU\", \"AZ\": \"1\\uc13c\\ud130\", \"\\ud14c\\ub10c\\ud2b8\": \"PRD\", \"DBMS\": \"Maria\", \"count\": 0.0}, {\"\\ub144\\ub3c4\": \"22\\ub144\", \"\\uc6d4\": \"6\\uc6d4\", \"\\ub9ac\\uc804\": \"RU\", \"AZ\": \"1\\uc13c\\ud130\", \"\\ud14c\\ub10c\\ud2b8\": \"PRD\", \"DBMS\": \"Redis\", \"count\": 3.0}, {\"\\ub144\\ub3c4\": \"22\\ub144\", \"\\uc6d4\": \"6\\uc6d4\", \"\\ub9ac\\uc804\": \"RU\", \"AZ\": \"1\\uc13c\\ud130\", \"\\ud14c\\ub10c\\ud2b8\": \"PRD\", \"DBMS\": \"Mongo\", \"count\": 1.0}, {\"\\ub144\\ub3c4\": \"22\\ub144\", \"\\uc6d4\": \"6\\uc6d4\", \"\\ub9ac\\uc804\": \"SG\", \"AZ\": \"1\\uc13c\\ud130\", \"\\ud14c\\ub10c\\ud2b8\": \"PRD\", \"DBMS\": \"PostgreSQL\", \"count\": 24.0}, {\"\\ub144\\ub3c4\": \"22\\ub144\", \"\\uc6d4\": \"6\\uc6d4\", \"\\ub9ac\\uc804\": \"SG\", \"AZ\": \"1\\uc13c\\ud130\", \"\\ud14c\\ub10c\\ud2b8\": \"PRD\", \"DBMS\": \"Tibero\", \"count\": 0.0}, {\"\\ub144\\ub3c4\": \"22\\ub144\", \"\\uc6d4\": \"6\\uc6d4\", \"\\ub9ac\\uc804\": \"SG\", \"AZ\": \"1\\uc13c\\ud130\", \"\\ud14c\\ub10c\\ud2b8\": \"PRD\", \"DBMS\": \"Maria\", \"count\": 0.0}, {\"\\ub144\\ub3c4\": \"22\\ub144\", \"\\uc6d4\": \"6\\uc6d4\", \"\\ub9ac\\uc804\": \"SG\", \"AZ\": \"1\\uc13c\\ud130\", \"\\ud14c\\ub10c\\ud2b8\": \"PRD\", \"DBMS\": \"Redis\", \"count\": 26.0}, {\"\\ub144\\ub3c4\": \"22\\ub144\", \"\\uc6d4\": \"6\\uc6d4\", \"\\ub9ac\\uc804\": \"SG\", \"AZ\": \"1\\uc13c\\ud130\", \"\\ud14c\\ub10c\\ud2b8\": \"PRD\", \"DBMS\": \"Mongo\", \"count\": 7.0}]}}, {\"mode\": \"vega-lite\"});\n",
       "</script>"
      ],
      "text/plain": [
       "alt.LayerChart(...)"
      ]
     },
     "execution_count": 10,
     "metadata": {},
     "output_type": "execute_result"
    }
   ],
   "source": [
    "chart = get_lineChart_am(source)\n",
    "chart"
   ]
  },
  {
   "cell_type": "code",
   "execution_count": 11,
   "id": "35c2208f-da67-4631-b79c-7f89d462a04c",
   "metadata": {},
   "outputs": [
    {
     "data": {
      "text/plain": [
       "<docx.shape.InlineShape at 0x1b24c63f1f0>"
      ]
     },
     "execution_count": 11,
     "metadata": {},
     "output_type": "execute_result"
    }
   ],
   "source": [
    "chart.save('charts/2.png')\n",
    "document.add_picture('charts/2.png')"
   ]
  },
  {
   "cell_type": "markdown",
   "id": "afc7bbe3-9f78-4efe-8ad4-29739733d135",
   "metadata": {},
   "source": [
    "### 시계열 :: BarChart"
   ]
  },
  {
   "cell_type": "code",
   "execution_count": 12,
   "id": "3d3862f9-115f-4681-b4c8-c7ff91a16c46",
   "metadata": {},
   "outputs": [
    {
     "data": {
      "text/html": [
       "\n",
       "<div id=\"altair-viz-b23aac920ca54f9c8cad9583c0ce6235\"></div>\n",
       "<script type=\"text/javascript\">\n",
       "  var VEGA_DEBUG = (typeof VEGA_DEBUG == \"undefined\") ? {} : VEGA_DEBUG;\n",
       "  (function(spec, embedOpt){\n",
       "    let outputDiv = document.currentScript.previousElementSibling;\n",
       "    if (outputDiv.id !== \"altair-viz-b23aac920ca54f9c8cad9583c0ce6235\") {\n",
       "      outputDiv = document.getElementById(\"altair-viz-b23aac920ca54f9c8cad9583c0ce6235\");\n",
       "    }\n",
       "    const paths = {\n",
       "      \"vega\": \"https://cdn.jsdelivr.net/npm//vega@5?noext\",\n",
       "      \"vega-lib\": \"https://cdn.jsdelivr.net/npm//vega-lib?noext\",\n",
       "      \"vega-lite\": \"https://cdn.jsdelivr.net/npm//vega-lite@4.17.0?noext\",\n",
       "      \"vega-embed\": \"https://cdn.jsdelivr.net/npm//vega-embed@6?noext\",\n",
       "    };\n",
       "\n",
       "    function maybeLoadScript(lib, version) {\n",
       "      var key = `${lib.replace(\"-\", \"\")}_version`;\n",
       "      return (VEGA_DEBUG[key] == version) ?\n",
       "        Promise.resolve(paths[lib]) :\n",
       "        new Promise(function(resolve, reject) {\n",
       "          var s = document.createElement('script');\n",
       "          document.getElementsByTagName(\"head\")[0].appendChild(s);\n",
       "          s.async = true;\n",
       "          s.onload = () => {\n",
       "            VEGA_DEBUG[key] = version;\n",
       "            return resolve(paths[lib]);\n",
       "          };\n",
       "          s.onerror = () => reject(`Error loading script: ${paths[lib]}`);\n",
       "          s.src = paths[lib];\n",
       "        });\n",
       "    }\n",
       "\n",
       "    function showError(err) {\n",
       "      outputDiv.innerHTML = `<div class=\"error\" style=\"color:red;\">${err}</div>`;\n",
       "      throw err;\n",
       "    }\n",
       "\n",
       "    function displayChart(vegaEmbed) {\n",
       "      vegaEmbed(outputDiv, spec, embedOpt)\n",
       "        .catch(err => showError(`Javascript Error: ${err.message}<br>This usually means there's a typo in your chart specification. See the javascript console for the full traceback.`));\n",
       "    }\n",
       "\n",
       "    if(typeof define === \"function\" && define.amd) {\n",
       "      requirejs.config({paths});\n",
       "      require([\"vega-embed\"], displayChart, err => showError(`Error loading script: ${err.message}`));\n",
       "    } else {\n",
       "      maybeLoadScript(\"vega\", \"5\")\n",
       "        .then(() => maybeLoadScript(\"vega-lite\", \"4.17.0\"))\n",
       "        .then(() => maybeLoadScript(\"vega-embed\", \"6\"))\n",
       "        .catch(showError)\n",
       "        .then(() => displayChart(vegaEmbed));\n",
       "    }\n",
       "  })({\"config\": {\"view\": {\"continuousWidth\": 400, \"continuousHeight\": 300}}, \"layer\": [{\"mark\": \"bar\", \"encoding\": {\"x\": {\"field\": \"\\ub9ac\\uc804\", \"type\": \"nominal\"}, \"y\": {\"field\": \"\\ud569\\uacc4\", \"title\": \"\", \"type\": \"quantitative\"}}}, {\"mark\": {\"type\": \"text\", \"color\": \"black\", \"dy\": -10, \"size\": 12}, \"encoding\": {\"text\": {\"field\": \"label\", \"type\": \"nominal\"}, \"x\": {\"field\": \"\\ub9ac\\uc804\", \"type\": \"nominal\"}, \"y\": {\"field\": \"\\ud569\\uacc4\", \"title\": \"\", \"type\": \"quantitative\"}}, \"transform\": [{\"calculate\": \"(((((datum.\\ub9ac\\uc804 + ': ') + datum.\\ud569\\uacc4) + ', ') + datum.\\ube44\\uc911) + '%')\", \"as\": \"label\"}]}], \"data\": {\"name\": \"data-a42e2bfd6db17e2a7d8e9c7dd234348a\"}, \"height\": 200, \"width\": 400, \"$schema\": \"https://vega.github.io/schema/vega-lite/v4.17.0.json\", \"datasets\": {\"data-a42e2bfd6db17e2a7d8e9c7dd234348a\": [{\"\\ub9ac\\uc804\": \"KR\", \"\\ud569\\uacc4\": 407.0, \"\\ube44\\uc911\": 67.4}, {\"\\ub9ac\\uc804\": \"SG\", \"\\ud569\\uacc4\": 57.0, \"\\ube44\\uc911\": 9.4}, {\"\\ub9ac\\uc804\": \"EU\", \"\\ud569\\uacc4\": 48.0, \"\\ube44\\uc911\": 7.9}, {\"\\ub9ac\\uc804\": \"CN\", \"\\ud569\\uacc4\": 43.0, \"\\ube44\\uc911\": 7.1}, {\"\\ub9ac\\uc804\": \"NA\", \"\\ud569\\uacc4\": 41.0, \"\\ube44\\uc911\": 6.8}, {\"\\ub9ac\\uc804\": \"RU\", \"\\ud569\\uacc4\": 8.0, \"\\ube44\\uc911\": 1.3}]}}, {\"mode\": \"vega-lite\"});\n",
       "</script>"
      ],
      "text/plain": [
       "alt.LayerChart(...)"
      ]
     },
     "execution_count": 12,
     "metadata": {},
     "output_type": "execute_result"
    }
   ],
   "source": [
    "source=pTable\n",
    "chart = get_barChart(source)\n",
    "chart"
   ]
  },
  {
   "cell_type": "code",
   "execution_count": 13,
   "id": "1ea95958-638d-40e4-b0e3-385f3eed9164",
   "metadata": {},
   "outputs": [
    {
     "data": {
      "text/plain": [
       "<docx.shape.InlineShape at 0x1b24c6ab910>"
      ]
     },
     "execution_count": 13,
     "metadata": {},
     "output_type": "execute_result"
    }
   ],
   "source": [
    "chart.save('charts/3.png')\n",
    "document.add_picture('charts/3.png')"
   ]
  },
  {
   "cell_type": "markdown",
   "id": "43c1ee57-d583-4146-92f2-5f2ec693fa17",
   "metadata": {},
   "source": [
    "## 시계열 - LineChart or BarChart"
   ]
  },
  {
   "cell_type": "markdown",
   "id": "523b90d6-2adc-4b69-9534-a96a88cfd0a0",
   "metadata": {
    "tags": []
   },
   "source": [
    "### ALL"
   ]
  },
  {
   "cell_type": "code",
   "execution_count": 14,
   "id": "41fbf9ac-e023-44b2-897f-33e42b2f2171",
   "metadata": {},
   "outputs": [
    {
     "data": {
      "text/html": [
       "\n",
       "<div id=\"altair-viz-b523ed859de04e618a4c756b6a9b39f4\"></div>\n",
       "<script type=\"text/javascript\">\n",
       "  var VEGA_DEBUG = (typeof VEGA_DEBUG == \"undefined\") ? {} : VEGA_DEBUG;\n",
       "  (function(spec, embedOpt){\n",
       "    let outputDiv = document.currentScript.previousElementSibling;\n",
       "    if (outputDiv.id !== \"altair-viz-b523ed859de04e618a4c756b6a9b39f4\") {\n",
       "      outputDiv = document.getElementById(\"altair-viz-b523ed859de04e618a4c756b6a9b39f4\");\n",
       "    }\n",
       "    const paths = {\n",
       "      \"vega\": \"https://cdn.jsdelivr.net/npm//vega@5?noext\",\n",
       "      \"vega-lib\": \"https://cdn.jsdelivr.net/npm//vega-lib?noext\",\n",
       "      \"vega-lite\": \"https://cdn.jsdelivr.net/npm//vega-lite@4.17.0?noext\",\n",
       "      \"vega-embed\": \"https://cdn.jsdelivr.net/npm//vega-embed@6?noext\",\n",
       "    };\n",
       "\n",
       "    function maybeLoadScript(lib, version) {\n",
       "      var key = `${lib.replace(\"-\", \"\")}_version`;\n",
       "      return (VEGA_DEBUG[key] == version) ?\n",
       "        Promise.resolve(paths[lib]) :\n",
       "        new Promise(function(resolve, reject) {\n",
       "          var s = document.createElement('script');\n",
       "          document.getElementsByTagName(\"head\")[0].appendChild(s);\n",
       "          s.async = true;\n",
       "          s.onload = () => {\n",
       "            VEGA_DEBUG[key] = version;\n",
       "            return resolve(paths[lib]);\n",
       "          };\n",
       "          s.onerror = () => reject(`Error loading script: ${paths[lib]}`);\n",
       "          s.src = paths[lib];\n",
       "        });\n",
       "    }\n",
       "\n",
       "    function showError(err) {\n",
       "      outputDiv.innerHTML = `<div class=\"error\" style=\"color:red;\">${err}</div>`;\n",
       "      throw err;\n",
       "    }\n",
       "\n",
       "    function displayChart(vegaEmbed) {\n",
       "      vegaEmbed(outputDiv, spec, embedOpt)\n",
       "        .catch(err => showError(`Javascript Error: ${err.message}<br>This usually means there's a typo in your chart specification. See the javascript console for the full traceback.`));\n",
       "    }\n",
       "\n",
       "    if(typeof define === \"function\" && define.amd) {\n",
       "      requirejs.config({paths});\n",
       "      require([\"vega-embed\"], displayChart, err => showError(`Error loading script: ${err.message}`));\n",
       "    } else {\n",
       "      maybeLoadScript(\"vega\", \"5\")\n",
       "        .then(() => maybeLoadScript(\"vega-lite\", \"4.17.0\"))\n",
       "        .then(() => maybeLoadScript(\"vega-embed\", \"6\"))\n",
       "        .catch(showError)\n",
       "        .then(() => displayChart(vegaEmbed));\n",
       "    }\n",
       "  })({\"config\": {\"view\": {\"continuousWidth\": 400, \"continuousHeight\": 300}}, \"layer\": [{\"mark\": \"point\", \"encoding\": {\"x\": {\"field\": \"\\uc6d4\", \"type\": \"nominal\"}, \"y\": {\"aggregate\": \"sum\", \"field\": \"count\", \"type\": \"quantitative\"}}}, {\"mark\": {\"type\": \"line\", \"color\": \"red\"}, \"encoding\": {\"x\": {\"field\": \"\\uc6d4\", \"type\": \"nominal\"}, \"y\": {\"aggregate\": \"sum\", \"field\": \"count\", \"title\": \"\", \"type\": \"quantitative\"}}}, {\"mark\": {\"type\": \"text\", \"align\": \"center\", \"baseline\": \"line-top\", \"color\": \"black\", \"dy\": -20, \"fontSize\": 12, \"size\": 12}, \"encoding\": {\"text\": {\"aggregate\": \"sum\", \"field\": \"count\", \"type\": \"quantitative\"}, \"x\": {\"field\": \"\\uc6d4\", \"type\": \"nominal\"}, \"y\": {\"aggregate\": \"sum\", \"field\": \"count\", \"type\": \"quantitative\"}}}], \"data\": {\"name\": \"data-c4a0f9fc4690b2367ba95761fa20d61e\"}, \"height\": 200, \"width\": 400, \"$schema\": \"https://vega.github.io/schema/vega-lite/v4.17.0.json\", \"datasets\": {\"data-c4a0f9fc4690b2367ba95761fa20d61e\": [{\"\\ub144\\ub3c4\": \"22\\ub144\", \"\\uc6d4\": \"1\\uc6d4\", \"\\ub9ac\\uc804\": \"KR\", \"AZ\": \"1\\uc13c\\ud130\", \"\\ud14c\\ub10c\\ud2b8\": \"PRD\", \"DBMS\": \"PostgreSQL\", \"count\": 110.0}, {\"\\ub144\\ub3c4\": \"22\\ub144\", \"\\uc6d4\": \"1\\uc6d4\", \"\\ub9ac\\uc804\": \"KR\", \"AZ\": \"1\\uc13c\\ud130\", \"\\ud14c\\ub10c\\ud2b8\": \"PRD\", \"DBMS\": \"Tibero\", \"count\": 28.0}, {\"\\ub144\\ub3c4\": \"22\\ub144\", \"\\uc6d4\": \"1\\uc6d4\", \"\\ub9ac\\uc804\": \"KR\", \"AZ\": \"1\\uc13c\\ud130\", \"\\ud14c\\ub10c\\ud2b8\": \"PRD\", \"DBMS\": \"Maria\", \"count\": 32.0}, {\"\\ub144\\ub3c4\": \"22\\ub144\", \"\\uc6d4\": \"1\\uc6d4\", \"\\ub9ac\\uc804\": \"KR\", \"AZ\": \"1\\uc13c\\ud130\", \"\\ud14c\\ub10c\\ud2b8\": \"PRD\", \"DBMS\": \"Redis\", \"count\": 97.0}, {\"\\ub144\\ub3c4\": \"22\\ub144\", \"\\uc6d4\": \"1\\uc6d4\", \"\\ub9ac\\uc804\": \"KR\", \"AZ\": \"1\\uc13c\\ud130\", \"\\ud14c\\ub10c\\ud2b8\": \"PRD\", \"DBMS\": \"Mongo\", \"count\": 84.0}, {\"\\ub144\\ub3c4\": \"22\\ub144\", \"\\uc6d4\": \"1\\uc6d4\", \"\\ub9ac\\uc804\": \"KR\", \"AZ\": \"2\\uc13c\\ud130\", \"\\ud14c\\ub10c\\ud2b8\": \"PRD\", \"DBMS\": \"PostgreSQL\", \"count\": 0.0}, {\"\\ub144\\ub3c4\": \"22\\ub144\", \"\\uc6d4\": \"1\\uc6d4\", \"\\ub9ac\\uc804\": \"KR\", \"AZ\": \"2\\uc13c\\ud130\", \"\\ud14c\\ub10c\\ud2b8\": \"PRD\", \"DBMS\": \"Tibero\", \"count\": 0.0}, {\"\\ub144\\ub3c4\": \"22\\ub144\", \"\\uc6d4\": \"1\\uc6d4\", \"\\ub9ac\\uc804\": \"KR\", \"AZ\": \"2\\uc13c\\ud130\", \"\\ud14c\\ub10c\\ud2b8\": \"PRD\", \"DBMS\": \"Maria\", \"count\": 0.0}, {\"\\ub144\\ub3c4\": \"22\\ub144\", \"\\uc6d4\": \"1\\uc6d4\", \"\\ub9ac\\uc804\": \"KR\", \"AZ\": \"2\\uc13c\\ud130\", \"\\ud14c\\ub10c\\ud2b8\": \"PRD\", \"DBMS\": \"Redis\", \"count\": 0.0}, {\"\\ub144\\ub3c4\": \"22\\ub144\", \"\\uc6d4\": \"1\\uc6d4\", \"\\ub9ac\\uc804\": \"KR\", \"AZ\": \"2\\uc13c\\ud130\", \"\\ud14c\\ub10c\\ud2b8\": \"PRD\", \"DBMS\": \"Mongo\", \"count\": 0.0}, {\"\\ub144\\ub3c4\": \"22\\ub144\", \"\\uc6d4\": \"1\\uc6d4\", \"\\ub9ac\\uc804\": \"EU\", \"AZ\": \"1\\uc13c\\ud130\", \"\\ud14c\\ub10c\\ud2b8\": \"PRD\", \"DBMS\": \"PostgreSQL\", \"count\": 17.0}, {\"\\ub144\\ub3c4\": \"22\\ub144\", \"\\uc6d4\": \"1\\uc6d4\", \"\\ub9ac\\uc804\": \"EU\", \"AZ\": \"1\\uc13c\\ud130\", \"\\ud14c\\ub10c\\ud2b8\": \"PRD\", \"DBMS\": \"Tibero\", \"count\": 1.0}, {\"\\ub144\\ub3c4\": \"22\\ub144\", \"\\uc6d4\": \"1\\uc6d4\", \"\\ub9ac\\uc804\": \"EU\", \"AZ\": \"1\\uc13c\\ud130\", \"\\ud14c\\ub10c\\ud2b8\": \"PRD\", \"DBMS\": \"Maria\", \"count\": 0.0}, {\"\\ub144\\ub3c4\": \"22\\ub144\", \"\\uc6d4\": \"1\\uc6d4\", \"\\ub9ac\\uc804\": \"EU\", \"AZ\": \"1\\uc13c\\ud130\", \"\\ud14c\\ub10c\\ud2b8\": \"PRD\", \"DBMS\": \"Redis\", \"count\": 20.0}, {\"\\ub144\\ub3c4\": \"22\\ub144\", \"\\uc6d4\": \"1\\uc6d4\", \"\\ub9ac\\uc804\": \"EU\", \"AZ\": \"1\\uc13c\\ud130\", \"\\ud14c\\ub10c\\ud2b8\": \"PRD\", \"DBMS\": \"Mongo\", \"count\": 1.0}, {\"\\ub144\\ub3c4\": \"22\\ub144\", \"\\uc6d4\": \"1\\uc6d4\", \"\\ub9ac\\uc804\": \"NA\", \"AZ\": \"1\\uc13c\\ud130\", \"\\ud14c\\ub10c\\ud2b8\": \"PRD\", \"DBMS\": \"PostgreSQL\", \"count\": 4.0}, {\"\\ub144\\ub3c4\": \"22\\ub144\", \"\\uc6d4\": \"1\\uc6d4\", \"\\ub9ac\\uc804\": \"NA\", \"AZ\": \"1\\uc13c\\ud130\", \"\\ud14c\\ub10c\\ud2b8\": \"PRD\", \"DBMS\": \"Tibero\", \"count\": 12.0}, {\"\\ub144\\ub3c4\": \"22\\ub144\", \"\\uc6d4\": \"1\\uc6d4\", \"\\ub9ac\\uc804\": \"NA\", \"AZ\": \"1\\uc13c\\ud130\", \"\\ud14c\\ub10c\\ud2b8\": \"PRD\", \"DBMS\": \"Maria\", \"count\": 0.0}, {\"\\ub144\\ub3c4\": \"22\\ub144\", \"\\uc6d4\": \"1\\uc6d4\", \"\\ub9ac\\uc804\": \"NA\", \"AZ\": \"1\\uc13c\\ud130\", \"\\ud14c\\ub10c\\ud2b8\": \"PRD\", \"DBMS\": \"Redis\", \"count\": 3.0}, {\"\\ub144\\ub3c4\": \"22\\ub144\", \"\\uc6d4\": \"1\\uc6d4\", \"\\ub9ac\\uc804\": \"NA\", \"AZ\": \"1\\uc13c\\ud130\", \"\\ud14c\\ub10c\\ud2b8\": \"PRD\", \"DBMS\": \"Mongo\", \"count\": 3.0}, {\"\\ub144\\ub3c4\": \"22\\ub144\", \"\\uc6d4\": \"1\\uc6d4\", \"\\ub9ac\\uc804\": \"CN\", \"AZ\": \"1\\uc13c\\ud130\", \"\\ud14c\\ub10c\\ud2b8\": \"PRD\", \"DBMS\": \"PostgreSQL\", \"count\": 9.0}, {\"\\ub144\\ub3c4\": \"22\\ub144\", \"\\uc6d4\": \"1\\uc6d4\", \"\\ub9ac\\uc804\": \"CN\", \"AZ\": \"1\\uc13c\\ud130\", \"\\ud14c\\ub10c\\ud2b8\": \"PRD\", \"DBMS\": \"Tibero\", \"count\": 12.0}, {\"\\ub144\\ub3c4\": \"22\\ub144\", \"\\uc6d4\": \"1\\uc6d4\", \"\\ub9ac\\uc804\": \"CN\", \"AZ\": \"1\\uc13c\\ud130\", \"\\ud14c\\ub10c\\ud2b8\": \"PRD\", \"DBMS\": \"Maria\", \"count\": 0.0}, {\"\\ub144\\ub3c4\": \"22\\ub144\", \"\\uc6d4\": \"1\\uc6d4\", \"\\ub9ac\\uc804\": \"CN\", \"AZ\": \"1\\uc13c\\ud130\", \"\\ud14c\\ub10c\\ud2b8\": \"PRD\", \"DBMS\": \"Redis\", \"count\": 12.0}, {\"\\ub144\\ub3c4\": \"22\\ub144\", \"\\uc6d4\": \"1\\uc6d4\", \"\\ub9ac\\uc804\": \"CN\", \"AZ\": \"1\\uc13c\\ud130\", \"\\ud14c\\ub10c\\ud2b8\": \"PRD\", \"DBMS\": \"Mongo\", \"count\": 4.0}, {\"\\ub144\\ub3c4\": \"22\\ub144\", \"\\uc6d4\": \"1\\uc6d4\", \"\\ub9ac\\uc804\": \"RU\", \"AZ\": \"1\\uc13c\\ud130\", \"\\ud14c\\ub10c\\ud2b8\": \"PRD\", \"DBMS\": \"PostgreSQL\", \"count\": 10.0}, {\"\\ub144\\ub3c4\": \"22\\ub144\", \"\\uc6d4\": \"1\\uc6d4\", \"\\ub9ac\\uc804\": \"RU\", \"AZ\": \"1\\uc13c\\ud130\", \"\\ud14c\\ub10c\\ud2b8\": \"PRD\", \"DBMS\": \"Tibero\", \"count\": 0.0}, {\"\\ub144\\ub3c4\": \"22\\ub144\", \"\\uc6d4\": \"1\\uc6d4\", \"\\ub9ac\\uc804\": \"RU\", \"AZ\": \"1\\uc13c\\ud130\", \"\\ud14c\\ub10c\\ud2b8\": \"PRD\", \"DBMS\": \"Maria\", \"count\": 0.0}, {\"\\ub144\\ub3c4\": \"22\\ub144\", \"\\uc6d4\": \"1\\uc6d4\", \"\\ub9ac\\uc804\": \"RU\", \"AZ\": \"1\\uc13c\\ud130\", \"\\ud14c\\ub10c\\ud2b8\": \"PRD\", \"DBMS\": \"Redis\", \"count\": 3.0}, {\"\\ub144\\ub3c4\": \"22\\ub144\", \"\\uc6d4\": \"1\\uc6d4\", \"\\ub9ac\\uc804\": \"RU\", \"AZ\": \"1\\uc13c\\ud130\", \"\\ud14c\\ub10c\\ud2b8\": \"PRD\", \"DBMS\": \"Mongo\", \"count\": 0.0}, {\"\\ub144\\ub3c4\": \"22\\ub144\", \"\\uc6d4\": \"1\\uc6d4\", \"\\ub9ac\\uc804\": \"SG\", \"AZ\": \"1\\uc13c\\ud130\", \"\\ud14c\\ub10c\\ud2b8\": \"PRD\", \"DBMS\": \"PostgreSQL\", \"count\": 20.0}, {\"\\ub144\\ub3c4\": \"22\\ub144\", \"\\uc6d4\": \"1\\uc6d4\", \"\\ub9ac\\uc804\": \"SG\", \"AZ\": \"1\\uc13c\\ud130\", \"\\ud14c\\ub10c\\ud2b8\": \"PRD\", \"DBMS\": \"Tibero\", \"count\": 0.0}, {\"\\ub144\\ub3c4\": \"22\\ub144\", \"\\uc6d4\": \"1\\uc6d4\", \"\\ub9ac\\uc804\": \"SG\", \"AZ\": \"1\\uc13c\\ud130\", \"\\ud14c\\ub10c\\ud2b8\": \"PRD\", \"DBMS\": \"Maria\", \"count\": 0.0}, {\"\\ub144\\ub3c4\": \"22\\ub144\", \"\\uc6d4\": \"1\\uc6d4\", \"\\ub9ac\\uc804\": \"SG\", \"AZ\": \"1\\uc13c\\ud130\", \"\\ud14c\\ub10c\\ud2b8\": \"PRD\", \"DBMS\": \"Redis\", \"count\": 18.0}, {\"\\ub144\\ub3c4\": \"22\\ub144\", \"\\uc6d4\": \"1\\uc6d4\", \"\\ub9ac\\uc804\": \"SG\", \"AZ\": \"1\\uc13c\\ud130\", \"\\ud14c\\ub10c\\ud2b8\": \"PRD\", \"DBMS\": \"Mongo\", \"count\": 4.0}, {\"\\ub144\\ub3c4\": \"22\\ub144\", \"\\uc6d4\": \"2\\uc6d4\", \"\\ub9ac\\uc804\": \"KR\", \"AZ\": \"1\\uc13c\\ud130\", \"\\ud14c\\ub10c\\ud2b8\": \"PRD\", \"DBMS\": \"PostgreSQL\", \"count\": 106.0}, {\"\\ub144\\ub3c4\": \"22\\ub144\", \"\\uc6d4\": \"2\\uc6d4\", \"\\ub9ac\\uc804\": \"KR\", \"AZ\": \"1\\uc13c\\ud130\", \"\\ud14c\\ub10c\\ud2b8\": \"PRD\", \"DBMS\": \"Tibero\", \"count\": 28.0}, {\"\\ub144\\ub3c4\": \"22\\ub144\", \"\\uc6d4\": \"2\\uc6d4\", \"\\ub9ac\\uc804\": \"KR\", \"AZ\": \"1\\uc13c\\ud130\", \"\\ud14c\\ub10c\\ud2b8\": \"PRD\", \"DBMS\": \"Maria\", \"count\": 29.0}, {\"\\ub144\\ub3c4\": \"22\\ub144\", \"\\uc6d4\": \"2\\uc6d4\", \"\\ub9ac\\uc804\": \"KR\", \"AZ\": \"1\\uc13c\\ud130\", \"\\ud14c\\ub10c\\ud2b8\": \"PRD\", \"DBMS\": \"Redis\", \"count\": 89.0}, {\"\\ub144\\ub3c4\": \"22\\ub144\", \"\\uc6d4\": \"2\\uc6d4\", \"\\ub9ac\\uc804\": \"KR\", \"AZ\": \"1\\uc13c\\ud130\", \"\\ud14c\\ub10c\\ud2b8\": \"PRD\", \"DBMS\": \"Mongo\", \"count\": 75.0}, {\"\\ub144\\ub3c4\": \"22\\ub144\", \"\\uc6d4\": \"2\\uc6d4\", \"\\ub9ac\\uc804\": \"KR\", \"AZ\": \"2\\uc13c\\ud130\", \"\\ud14c\\ub10c\\ud2b8\": \"PRD\", \"DBMS\": \"PostgreSQL\", \"count\": 0.0}, {\"\\ub144\\ub3c4\": \"22\\ub144\", \"\\uc6d4\": \"2\\uc6d4\", \"\\ub9ac\\uc804\": \"KR\", \"AZ\": \"2\\uc13c\\ud130\", \"\\ud14c\\ub10c\\ud2b8\": \"PRD\", \"DBMS\": \"Tibero\", \"count\": 0.0}, {\"\\ub144\\ub3c4\": \"22\\ub144\", \"\\uc6d4\": \"2\\uc6d4\", \"\\ub9ac\\uc804\": \"KR\", \"AZ\": \"2\\uc13c\\ud130\", \"\\ud14c\\ub10c\\ud2b8\": \"PRD\", \"DBMS\": \"Maria\", \"count\": 0.0}, {\"\\ub144\\ub3c4\": \"22\\ub144\", \"\\uc6d4\": \"2\\uc6d4\", \"\\ub9ac\\uc804\": \"KR\", \"AZ\": \"2\\uc13c\\ud130\", \"\\ud14c\\ub10c\\ud2b8\": \"PRD\", \"DBMS\": \"Redis\", \"count\": 0.0}, {\"\\ub144\\ub3c4\": \"22\\ub144\", \"\\uc6d4\": \"2\\uc6d4\", \"\\ub9ac\\uc804\": \"KR\", \"AZ\": \"2\\uc13c\\ud130\", \"\\ud14c\\ub10c\\ud2b8\": \"PRD\", \"DBMS\": \"Mongo\", \"count\": 0.0}, {\"\\ub144\\ub3c4\": \"22\\ub144\", \"\\uc6d4\": \"2\\uc6d4\", \"\\ub9ac\\uc804\": \"EU\", \"AZ\": \"1\\uc13c\\ud130\", \"\\ud14c\\ub10c\\ud2b8\": \"PRD\", \"DBMS\": \"PostgreSQL\", \"count\": 17.0}, {\"\\ub144\\ub3c4\": \"22\\ub144\", \"\\uc6d4\": \"2\\uc6d4\", \"\\ub9ac\\uc804\": \"EU\", \"AZ\": \"1\\uc13c\\ud130\", \"\\ud14c\\ub10c\\ud2b8\": \"PRD\", \"DBMS\": \"Tibero\", \"count\": 1.0}, {\"\\ub144\\ub3c4\": \"22\\ub144\", \"\\uc6d4\": \"2\\uc6d4\", \"\\ub9ac\\uc804\": \"EU\", \"AZ\": \"1\\uc13c\\ud130\", \"\\ud14c\\ub10c\\ud2b8\": \"PRD\", \"DBMS\": \"Maria\", \"count\": 0.0}, {\"\\ub144\\ub3c4\": \"22\\ub144\", \"\\uc6d4\": \"2\\uc6d4\", \"\\ub9ac\\uc804\": \"EU\", \"AZ\": \"1\\uc13c\\ud130\", \"\\ud14c\\ub10c\\ud2b8\": \"PRD\", \"DBMS\": \"Redis\", \"count\": 20.0}, {\"\\ub144\\ub3c4\": \"22\\ub144\", \"\\uc6d4\": \"2\\uc6d4\", \"\\ub9ac\\uc804\": \"EU\", \"AZ\": \"1\\uc13c\\ud130\", \"\\ud14c\\ub10c\\ud2b8\": \"PRD\", \"DBMS\": \"Mongo\", \"count\": 1.0}, {\"\\ub144\\ub3c4\": \"22\\ub144\", \"\\uc6d4\": \"2\\uc6d4\", \"\\ub9ac\\uc804\": \"NA\", \"AZ\": \"1\\uc13c\\ud130\", \"\\ud14c\\ub10c\\ud2b8\": \"PRD\", \"DBMS\": \"PostgreSQL\", \"count\": 4.0}, {\"\\ub144\\ub3c4\": \"22\\ub144\", \"\\uc6d4\": \"2\\uc6d4\", \"\\ub9ac\\uc804\": \"NA\", \"AZ\": \"1\\uc13c\\ud130\", \"\\ud14c\\ub10c\\ud2b8\": \"PRD\", \"DBMS\": \"Tibero\", \"count\": 12.0}, {\"\\ub144\\ub3c4\": \"22\\ub144\", \"\\uc6d4\": \"2\\uc6d4\", \"\\ub9ac\\uc804\": \"NA\", \"AZ\": \"1\\uc13c\\ud130\", \"\\ud14c\\ub10c\\ud2b8\": \"PRD\", \"DBMS\": \"Maria\", \"count\": 0.0}, {\"\\ub144\\ub3c4\": \"22\\ub144\", \"\\uc6d4\": \"2\\uc6d4\", \"\\ub9ac\\uc804\": \"NA\", \"AZ\": \"1\\uc13c\\ud130\", \"\\ud14c\\ub10c\\ud2b8\": \"PRD\", \"DBMS\": \"Redis\", \"count\": 3.0}, {\"\\ub144\\ub3c4\": \"22\\ub144\", \"\\uc6d4\": \"2\\uc6d4\", \"\\ub9ac\\uc804\": \"NA\", \"AZ\": \"1\\uc13c\\ud130\", \"\\ud14c\\ub10c\\ud2b8\": \"PRD\", \"DBMS\": \"Mongo\", \"count\": 3.0}, {\"\\ub144\\ub3c4\": \"22\\ub144\", \"\\uc6d4\": \"2\\uc6d4\", \"\\ub9ac\\uc804\": \"CN\", \"AZ\": \"1\\uc13c\\ud130\", \"\\ud14c\\ub10c\\ud2b8\": \"PRD\", \"DBMS\": \"PostgreSQL\", \"count\": 9.0}, {\"\\ub144\\ub3c4\": \"22\\ub144\", \"\\uc6d4\": \"2\\uc6d4\", \"\\ub9ac\\uc804\": \"CN\", \"AZ\": \"1\\uc13c\\ud130\", \"\\ud14c\\ub10c\\ud2b8\": \"PRD\", \"DBMS\": \"Tibero\", \"count\": 12.0}, {\"\\ub144\\ub3c4\": \"22\\ub144\", \"\\uc6d4\": \"2\\uc6d4\", \"\\ub9ac\\uc804\": \"CN\", \"AZ\": \"1\\uc13c\\ud130\", \"\\ud14c\\ub10c\\ud2b8\": \"PRD\", \"DBMS\": \"Maria\", \"count\": 0.0}, {\"\\ub144\\ub3c4\": \"22\\ub144\", \"\\uc6d4\": \"2\\uc6d4\", \"\\ub9ac\\uc804\": \"CN\", \"AZ\": \"1\\uc13c\\ud130\", \"\\ud14c\\ub10c\\ud2b8\": \"PRD\", \"DBMS\": \"Redis\", \"count\": 12.0}, {\"\\ub144\\ub3c4\": \"22\\ub144\", \"\\uc6d4\": \"2\\uc6d4\", \"\\ub9ac\\uc804\": \"CN\", \"AZ\": \"1\\uc13c\\ud130\", \"\\ud14c\\ub10c\\ud2b8\": \"PRD\", \"DBMS\": \"Mongo\", \"count\": 4.0}, {\"\\ub144\\ub3c4\": \"22\\ub144\", \"\\uc6d4\": \"2\\uc6d4\", \"\\ub9ac\\uc804\": \"RU\", \"AZ\": \"1\\uc13c\\ud130\", \"\\ud14c\\ub10c\\ud2b8\": \"PRD\", \"DBMS\": \"PostgreSQL\", \"count\": 10.0}, {\"\\ub144\\ub3c4\": \"22\\ub144\", \"\\uc6d4\": \"2\\uc6d4\", \"\\ub9ac\\uc804\": \"RU\", \"AZ\": \"1\\uc13c\\ud130\", \"\\ud14c\\ub10c\\ud2b8\": \"PRD\", \"DBMS\": \"Tibero\", \"count\": 0.0}, {\"\\ub144\\ub3c4\": \"22\\ub144\", \"\\uc6d4\": \"2\\uc6d4\", \"\\ub9ac\\uc804\": \"RU\", \"AZ\": \"1\\uc13c\\ud130\", \"\\ud14c\\ub10c\\ud2b8\": \"PRD\", \"DBMS\": \"Maria\", \"count\": 0.0}, {\"\\ub144\\ub3c4\": \"22\\ub144\", \"\\uc6d4\": \"2\\uc6d4\", \"\\ub9ac\\uc804\": \"RU\", \"AZ\": \"1\\uc13c\\ud130\", \"\\ud14c\\ub10c\\ud2b8\": \"PRD\", \"DBMS\": \"Redis\", \"count\": 3.0}, {\"\\ub144\\ub3c4\": \"22\\ub144\", \"\\uc6d4\": \"2\\uc6d4\", \"\\ub9ac\\uc804\": \"RU\", \"AZ\": \"1\\uc13c\\ud130\", \"\\ud14c\\ub10c\\ud2b8\": \"PRD\", \"DBMS\": \"Mongo\", \"count\": 0.0}, {\"\\ub144\\ub3c4\": \"22\\ub144\", \"\\uc6d4\": \"2\\uc6d4\", \"\\ub9ac\\uc804\": \"SG\", \"AZ\": \"1\\uc13c\\ud130\", \"\\ud14c\\ub10c\\ud2b8\": \"PRD\", \"DBMS\": \"PostgreSQL\", \"count\": 24.0}, {\"\\ub144\\ub3c4\": \"22\\ub144\", \"\\uc6d4\": \"2\\uc6d4\", \"\\ub9ac\\uc804\": \"SG\", \"AZ\": \"1\\uc13c\\ud130\", \"\\ud14c\\ub10c\\ud2b8\": \"PRD\", \"DBMS\": \"Tibero\", \"count\": 0.0}, {\"\\ub144\\ub3c4\": \"22\\ub144\", \"\\uc6d4\": \"2\\uc6d4\", \"\\ub9ac\\uc804\": \"SG\", \"AZ\": \"1\\uc13c\\ud130\", \"\\ud14c\\ub10c\\ud2b8\": \"PRD\", \"DBMS\": \"Maria\", \"count\": 0.0}, {\"\\ub144\\ub3c4\": \"22\\ub144\", \"\\uc6d4\": \"2\\uc6d4\", \"\\ub9ac\\uc804\": \"SG\", \"AZ\": \"1\\uc13c\\ud130\", \"\\ud14c\\ub10c\\ud2b8\": \"PRD\", \"DBMS\": \"Redis\", \"count\": 18.0}, {\"\\ub144\\ub3c4\": \"22\\ub144\", \"\\uc6d4\": \"2\\uc6d4\", \"\\ub9ac\\uc804\": \"SG\", \"AZ\": \"1\\uc13c\\ud130\", \"\\ud14c\\ub10c\\ud2b8\": \"PRD\", \"DBMS\": \"Mongo\", \"count\": 4.0}, {\"\\ub144\\ub3c4\": \"22\\ub144\", \"\\uc6d4\": \"3\\uc6d4\", \"\\ub9ac\\uc804\": \"KR\", \"AZ\": \"1\\uc13c\\ud130\", \"\\ud14c\\ub10c\\ud2b8\": \"PRD\", \"DBMS\": \"PostgreSQL\", \"count\": 108.0}, {\"\\ub144\\ub3c4\": \"22\\ub144\", \"\\uc6d4\": \"3\\uc6d4\", \"\\ub9ac\\uc804\": \"KR\", \"AZ\": \"1\\uc13c\\ud130\", \"\\ud14c\\ub10c\\ud2b8\": \"PRD\", \"DBMS\": \"Tibero\", \"count\": 28.0}, {\"\\ub144\\ub3c4\": \"22\\ub144\", \"\\uc6d4\": \"3\\uc6d4\", \"\\ub9ac\\uc804\": \"KR\", \"AZ\": \"1\\uc13c\\ud130\", \"\\ud14c\\ub10c\\ud2b8\": \"PRD\", \"DBMS\": \"Maria\", \"count\": 29.0}, {\"\\ub144\\ub3c4\": \"22\\ub144\", \"\\uc6d4\": \"3\\uc6d4\", \"\\ub9ac\\uc804\": \"KR\", \"AZ\": \"1\\uc13c\\ud130\", \"\\ud14c\\ub10c\\ud2b8\": \"PRD\", \"DBMS\": \"Redis\", \"count\": 89.0}, {\"\\ub144\\ub3c4\": \"22\\ub144\", \"\\uc6d4\": \"3\\uc6d4\", \"\\ub9ac\\uc804\": \"KR\", \"AZ\": \"1\\uc13c\\ud130\", \"\\ud14c\\ub10c\\ud2b8\": \"PRD\", \"DBMS\": \"Mongo\", \"count\": 79.0}, {\"\\ub144\\ub3c4\": \"22\\ub144\", \"\\uc6d4\": \"3\\uc6d4\", \"\\ub9ac\\uc804\": \"KR\", \"AZ\": \"2\\uc13c\\ud130\", \"\\ud14c\\ub10c\\ud2b8\": \"PRD\", \"DBMS\": \"PostgreSQL\", \"count\": 0.0}, {\"\\ub144\\ub3c4\": \"22\\ub144\", \"\\uc6d4\": \"3\\uc6d4\", \"\\ub9ac\\uc804\": \"KR\", \"AZ\": \"2\\uc13c\\ud130\", \"\\ud14c\\ub10c\\ud2b8\": \"PRD\", \"DBMS\": \"Tibero\", \"count\": 0.0}, {\"\\ub144\\ub3c4\": \"22\\ub144\", \"\\uc6d4\": \"3\\uc6d4\", \"\\ub9ac\\uc804\": \"KR\", \"AZ\": \"2\\uc13c\\ud130\", \"\\ud14c\\ub10c\\ud2b8\": \"PRD\", \"DBMS\": \"Maria\", \"count\": 0.0}, {\"\\ub144\\ub3c4\": \"22\\ub144\", \"\\uc6d4\": \"3\\uc6d4\", \"\\ub9ac\\uc804\": \"KR\", \"AZ\": \"2\\uc13c\\ud130\", \"\\ud14c\\ub10c\\ud2b8\": \"PRD\", \"DBMS\": \"Redis\", \"count\": 0.0}, {\"\\ub144\\ub3c4\": \"22\\ub144\", \"\\uc6d4\": \"3\\uc6d4\", \"\\ub9ac\\uc804\": \"KR\", \"AZ\": \"2\\uc13c\\ud130\", \"\\ud14c\\ub10c\\ud2b8\": \"PRD\", \"DBMS\": \"Mongo\", \"count\": 0.0}, {\"\\ub144\\ub3c4\": \"22\\ub144\", \"\\uc6d4\": \"3\\uc6d4\", \"\\ub9ac\\uc804\": \"EU\", \"AZ\": \"1\\uc13c\\ud130\", \"\\ud14c\\ub10c\\ud2b8\": \"PRD\", \"DBMS\": \"PostgreSQL\", \"count\": 17.0}, {\"\\ub144\\ub3c4\": \"22\\ub144\", \"\\uc6d4\": \"3\\uc6d4\", \"\\ub9ac\\uc804\": \"EU\", \"AZ\": \"1\\uc13c\\ud130\", \"\\ud14c\\ub10c\\ud2b8\": \"PRD\", \"DBMS\": \"Tibero\", \"count\": 1.0}, {\"\\ub144\\ub3c4\": \"22\\ub144\", \"\\uc6d4\": \"3\\uc6d4\", \"\\ub9ac\\uc804\": \"EU\", \"AZ\": \"1\\uc13c\\ud130\", \"\\ud14c\\ub10c\\ud2b8\": \"PRD\", \"DBMS\": \"Maria\", \"count\": 0.0}, {\"\\ub144\\ub3c4\": \"22\\ub144\", \"\\uc6d4\": \"3\\uc6d4\", \"\\ub9ac\\uc804\": \"EU\", \"AZ\": \"1\\uc13c\\ud130\", \"\\ud14c\\ub10c\\ud2b8\": \"PRD\", \"DBMS\": \"Redis\", \"count\": 20.0}, {\"\\ub144\\ub3c4\": \"22\\ub144\", \"\\uc6d4\": \"3\\uc6d4\", \"\\ub9ac\\uc804\": \"EU\", \"AZ\": \"1\\uc13c\\ud130\", \"\\ud14c\\ub10c\\ud2b8\": \"PRD\", \"DBMS\": \"Mongo\", \"count\": 4.0}, {\"\\ub144\\ub3c4\": \"22\\ub144\", \"\\uc6d4\": \"3\\uc6d4\", \"\\ub9ac\\uc804\": \"NA\", \"AZ\": \"1\\uc13c\\ud130\", \"\\ud14c\\ub10c\\ud2b8\": \"PRD\", \"DBMS\": \"PostgreSQL\", \"count\": 4.0}, {\"\\ub144\\ub3c4\": \"22\\ub144\", \"\\uc6d4\": \"3\\uc6d4\", \"\\ub9ac\\uc804\": \"NA\", \"AZ\": \"1\\uc13c\\ud130\", \"\\ud14c\\ub10c\\ud2b8\": \"PRD\", \"DBMS\": \"Tibero\", \"count\": 12.0}, {\"\\ub144\\ub3c4\": \"22\\ub144\", \"\\uc6d4\": \"3\\uc6d4\", \"\\ub9ac\\uc804\": \"NA\", \"AZ\": \"1\\uc13c\\ud130\", \"\\ud14c\\ub10c\\ud2b8\": \"PRD\", \"DBMS\": \"Maria\", \"count\": 0.0}, {\"\\ub144\\ub3c4\": \"22\\ub144\", \"\\uc6d4\": \"3\\uc6d4\", \"\\ub9ac\\uc804\": \"NA\", \"AZ\": \"1\\uc13c\\ud130\", \"\\ud14c\\ub10c\\ud2b8\": \"PRD\", \"DBMS\": \"Redis\", \"count\": 6.0}, {\"\\ub144\\ub3c4\": \"22\\ub144\", \"\\uc6d4\": \"3\\uc6d4\", \"\\ub9ac\\uc804\": \"NA\", \"AZ\": \"1\\uc13c\\ud130\", \"\\ud14c\\ub10c\\ud2b8\": \"PRD\", \"DBMS\": \"Mongo\", \"count\": 3.0}, {\"\\ub144\\ub3c4\": \"22\\ub144\", \"\\uc6d4\": \"3\\uc6d4\", \"\\ub9ac\\uc804\": \"CN\", \"AZ\": \"1\\uc13c\\ud130\", \"\\ud14c\\ub10c\\ud2b8\": \"PRD\", \"DBMS\": \"PostgreSQL\", \"count\": 9.0}, {\"\\ub144\\ub3c4\": \"22\\ub144\", \"\\uc6d4\": \"3\\uc6d4\", \"\\ub9ac\\uc804\": \"CN\", \"AZ\": \"1\\uc13c\\ud130\", \"\\ud14c\\ub10c\\ud2b8\": \"PRD\", \"DBMS\": \"Tibero\", \"count\": 14.0}, {\"\\ub144\\ub3c4\": \"22\\ub144\", \"\\uc6d4\": \"3\\uc6d4\", \"\\ub9ac\\uc804\": \"CN\", \"AZ\": \"1\\uc13c\\ud130\", \"\\ud14c\\ub10c\\ud2b8\": \"PRD\", \"DBMS\": \"Maria\", \"count\": 0.0}, {\"\\ub144\\ub3c4\": \"22\\ub144\", \"\\uc6d4\": \"3\\uc6d4\", \"\\ub9ac\\uc804\": \"CN\", \"AZ\": \"1\\uc13c\\ud130\", \"\\ud14c\\ub10c\\ud2b8\": \"PRD\", \"DBMS\": \"Redis\", \"count\": 12.0}, {\"\\ub144\\ub3c4\": \"22\\ub144\", \"\\uc6d4\": \"3\\uc6d4\", \"\\ub9ac\\uc804\": \"CN\", \"AZ\": \"1\\uc13c\\ud130\", \"\\ud14c\\ub10c\\ud2b8\": \"PRD\", \"DBMS\": \"Mongo\", \"count\": 5.0}, {\"\\ub144\\ub3c4\": \"22\\ub144\", \"\\uc6d4\": \"3\\uc6d4\", \"\\ub9ac\\uc804\": \"RU\", \"AZ\": \"1\\uc13c\\ud130\", \"\\ud14c\\ub10c\\ud2b8\": \"PRD\", \"DBMS\": \"PostgreSQL\", \"count\": 10.0}, {\"\\ub144\\ub3c4\": \"22\\ub144\", \"\\uc6d4\": \"3\\uc6d4\", \"\\ub9ac\\uc804\": \"RU\", \"AZ\": \"1\\uc13c\\ud130\", \"\\ud14c\\ub10c\\ud2b8\": \"PRD\", \"DBMS\": \"Tibero\", \"count\": 0.0}, {\"\\ub144\\ub3c4\": \"22\\ub144\", \"\\uc6d4\": \"3\\uc6d4\", \"\\ub9ac\\uc804\": \"RU\", \"AZ\": \"1\\uc13c\\ud130\", \"\\ud14c\\ub10c\\ud2b8\": \"PRD\", \"DBMS\": \"Maria\", \"count\": 0.0}, {\"\\ub144\\ub3c4\": \"22\\ub144\", \"\\uc6d4\": \"3\\uc6d4\", \"\\ub9ac\\uc804\": \"RU\", \"AZ\": \"1\\uc13c\\ud130\", \"\\ud14c\\ub10c\\ud2b8\": \"PRD\", \"DBMS\": \"Redis\", \"count\": 3.0}, {\"\\ub144\\ub3c4\": \"22\\ub144\", \"\\uc6d4\": \"3\\uc6d4\", \"\\ub9ac\\uc804\": \"RU\", \"AZ\": \"1\\uc13c\\ud130\", \"\\ud14c\\ub10c\\ud2b8\": \"PRD\", \"DBMS\": \"Mongo\", \"count\": 1.0}, {\"\\ub144\\ub3c4\": \"22\\ub144\", \"\\uc6d4\": \"3\\uc6d4\", \"\\ub9ac\\uc804\": \"SG\", \"AZ\": \"1\\uc13c\\ud130\", \"\\ud14c\\ub10c\\ud2b8\": \"PRD\", \"DBMS\": \"PostgreSQL\", \"count\": 24.0}, {\"\\ub144\\ub3c4\": \"22\\ub144\", \"\\uc6d4\": \"3\\uc6d4\", \"\\ub9ac\\uc804\": \"SG\", \"AZ\": \"1\\uc13c\\ud130\", \"\\ud14c\\ub10c\\ud2b8\": \"PRD\", \"DBMS\": \"Tibero\", \"count\": 0.0}, {\"\\ub144\\ub3c4\": \"22\\ub144\", \"\\uc6d4\": \"3\\uc6d4\", \"\\ub9ac\\uc804\": \"SG\", \"AZ\": \"1\\uc13c\\ud130\", \"\\ud14c\\ub10c\\ud2b8\": \"PRD\", \"DBMS\": \"Maria\", \"count\": 0.0}, {\"\\ub144\\ub3c4\": \"22\\ub144\", \"\\uc6d4\": \"3\\uc6d4\", \"\\ub9ac\\uc804\": \"SG\", \"AZ\": \"1\\uc13c\\ud130\", \"\\ud14c\\ub10c\\ud2b8\": \"PRD\", \"DBMS\": \"Redis\", \"count\": 24.0}, {\"\\ub144\\ub3c4\": \"22\\ub144\", \"\\uc6d4\": \"3\\uc6d4\", \"\\ub9ac\\uc804\": \"SG\", \"AZ\": \"1\\uc13c\\ud130\", \"\\ud14c\\ub10c\\ud2b8\": \"PRD\", \"DBMS\": \"Mongo\", \"count\": 7.0}, {\"\\ub144\\ub3c4\": \"22\\ub144\", \"\\uc6d4\": \"4\\uc6d4\", \"\\ub9ac\\uc804\": \"KR\", \"AZ\": \"1\\uc13c\\ud130\", \"\\ud14c\\ub10c\\ud2b8\": \"PRD\", \"DBMS\": \"PostgreSQL\", \"count\": 120.0}, {\"\\ub144\\ub3c4\": \"22\\ub144\", \"\\uc6d4\": \"4\\uc6d4\", \"\\ub9ac\\uc804\": \"KR\", \"AZ\": \"1\\uc13c\\ud130\", \"\\ud14c\\ub10c\\ud2b8\": \"PRD\", \"DBMS\": \"Tibero\", \"count\": 28.0}, {\"\\ub144\\ub3c4\": \"22\\ub144\", \"\\uc6d4\": \"4\\uc6d4\", \"\\ub9ac\\uc804\": \"KR\", \"AZ\": \"1\\uc13c\\ud130\", \"\\ud14c\\ub10c\\ud2b8\": \"PRD\", \"DBMS\": \"Maria\", \"count\": 25.0}, {\"\\ub144\\ub3c4\": \"22\\ub144\", \"\\uc6d4\": \"4\\uc6d4\", \"\\ub9ac\\uc804\": \"KR\", \"AZ\": \"1\\uc13c\\ud130\", \"\\ud14c\\ub10c\\ud2b8\": \"PRD\", \"DBMS\": \"Redis\", \"count\": 94.0}, {\"\\ub144\\ub3c4\": \"22\\ub144\", \"\\uc6d4\": \"4\\uc6d4\", \"\\ub9ac\\uc804\": \"KR\", \"AZ\": \"1\\uc13c\\ud130\", \"\\ud14c\\ub10c\\ud2b8\": \"PRD\", \"DBMS\": \"Mongo\", \"count\": 76.0}, {\"\\ub144\\ub3c4\": \"22\\ub144\", \"\\uc6d4\": \"4\\uc6d4\", \"\\ub9ac\\uc804\": \"KR\", \"AZ\": \"2\\uc13c\\ud130\", \"\\ud14c\\ub10c\\ud2b8\": \"PRD\", \"DBMS\": \"PostgreSQL\", \"count\": 0.0}, {\"\\ub144\\ub3c4\": \"22\\ub144\", \"\\uc6d4\": \"4\\uc6d4\", \"\\ub9ac\\uc804\": \"KR\", \"AZ\": \"2\\uc13c\\ud130\", \"\\ud14c\\ub10c\\ud2b8\": \"PRD\", \"DBMS\": \"Tibero\", \"count\": 0.0}, {\"\\ub144\\ub3c4\": \"22\\ub144\", \"\\uc6d4\": \"4\\uc6d4\", \"\\ub9ac\\uc804\": \"KR\", \"AZ\": \"2\\uc13c\\ud130\", \"\\ud14c\\ub10c\\ud2b8\": \"PRD\", \"DBMS\": \"Maria\", \"count\": 0.0}, {\"\\ub144\\ub3c4\": \"22\\ub144\", \"\\uc6d4\": \"4\\uc6d4\", \"\\ub9ac\\uc804\": \"KR\", \"AZ\": \"2\\uc13c\\ud130\", \"\\ud14c\\ub10c\\ud2b8\": \"PRD\", \"DBMS\": \"Redis\", \"count\": 0.0}, {\"\\ub144\\ub3c4\": \"22\\ub144\", \"\\uc6d4\": \"4\\uc6d4\", \"\\ub9ac\\uc804\": \"KR\", \"AZ\": \"2\\uc13c\\ud130\", \"\\ud14c\\ub10c\\ud2b8\": \"PRD\", \"DBMS\": \"Mongo\", \"count\": 0.0}, {\"\\ub144\\ub3c4\": \"22\\ub144\", \"\\uc6d4\": \"4\\uc6d4\", \"\\ub9ac\\uc804\": \"EU\", \"AZ\": \"1\\uc13c\\ud130\", \"\\ud14c\\ub10c\\ud2b8\": \"PRD\", \"DBMS\": \"PostgreSQL\", \"count\": 19.0}, {\"\\ub144\\ub3c4\": \"22\\ub144\", \"\\uc6d4\": \"4\\uc6d4\", \"\\ub9ac\\uc804\": \"EU\", \"AZ\": \"1\\uc13c\\ud130\", \"\\ud14c\\ub10c\\ud2b8\": \"PRD\", \"DBMS\": \"Tibero\", \"count\": 1.0}, {\"\\ub144\\ub3c4\": \"22\\ub144\", \"\\uc6d4\": \"4\\uc6d4\", \"\\ub9ac\\uc804\": \"EU\", \"AZ\": \"1\\uc13c\\ud130\", \"\\ud14c\\ub10c\\ud2b8\": \"PRD\", \"DBMS\": \"Maria\", \"count\": 0.0}, {\"\\ub144\\ub3c4\": \"22\\ub144\", \"\\uc6d4\": \"4\\uc6d4\", \"\\ub9ac\\uc804\": \"EU\", \"AZ\": \"1\\uc13c\\ud130\", \"\\ud14c\\ub10c\\ud2b8\": \"PRD\", \"DBMS\": \"Redis\", \"count\": 22.0}, {\"\\ub144\\ub3c4\": \"22\\ub144\", \"\\uc6d4\": \"4\\uc6d4\", \"\\ub9ac\\uc804\": \"EU\", \"AZ\": \"1\\uc13c\\ud130\", \"\\ud14c\\ub10c\\ud2b8\": \"PRD\", \"DBMS\": \"Mongo\", \"count\": 4.0}, {\"\\ub144\\ub3c4\": \"22\\ub144\", \"\\uc6d4\": \"4\\uc6d4\", \"\\ub9ac\\uc804\": \"NA\", \"AZ\": \"1\\uc13c\\ud130\", \"\\ud14c\\ub10c\\ud2b8\": \"PRD\", \"DBMS\": \"PostgreSQL\", \"count\": 5.0}, {\"\\ub144\\ub3c4\": \"22\\ub144\", \"\\uc6d4\": \"4\\uc6d4\", \"\\ub9ac\\uc804\": \"NA\", \"AZ\": \"1\\uc13c\\ud130\", \"\\ud14c\\ub10c\\ud2b8\": \"PRD\", \"DBMS\": \"Tibero\", \"count\": 13.0}, {\"\\ub144\\ub3c4\": \"22\\ub144\", \"\\uc6d4\": \"4\\uc6d4\", \"\\ub9ac\\uc804\": \"NA\", \"AZ\": \"1\\uc13c\\ud130\", \"\\ud14c\\ub10c\\ud2b8\": \"PRD\", \"DBMS\": \"Maria\", \"count\": 0.0}, {\"\\ub144\\ub3c4\": \"22\\ub144\", \"\\uc6d4\": \"4\\uc6d4\", \"\\ub9ac\\uc804\": \"NA\", \"AZ\": \"1\\uc13c\\ud130\", \"\\ud14c\\ub10c\\ud2b8\": \"PRD\", \"DBMS\": \"Redis\", \"count\": 10.0}, {\"\\ub144\\ub3c4\": \"22\\ub144\", \"\\uc6d4\": \"4\\uc6d4\", \"\\ub9ac\\uc804\": \"NA\", \"AZ\": \"1\\uc13c\\ud130\", \"\\ud14c\\ub10c\\ud2b8\": \"PRD\", \"DBMS\": \"Mongo\", \"count\": 6.0}, {\"\\ub144\\ub3c4\": \"22\\ub144\", \"\\uc6d4\": \"4\\uc6d4\", \"\\ub9ac\\uc804\": \"CN\", \"AZ\": \"1\\uc13c\\ud130\", \"\\ud14c\\ub10c\\ud2b8\": \"PRD\", \"DBMS\": \"PostgreSQL\", \"count\": 10.0}, {\"\\ub144\\ub3c4\": \"22\\ub144\", \"\\uc6d4\": \"4\\uc6d4\", \"\\ub9ac\\uc804\": \"CN\", \"AZ\": \"1\\uc13c\\ud130\", \"\\ud14c\\ub10c\\ud2b8\": \"PRD\", \"DBMS\": \"Tibero\", \"count\": 14.0}, {\"\\ub144\\ub3c4\": \"22\\ub144\", \"\\uc6d4\": \"4\\uc6d4\", \"\\ub9ac\\uc804\": \"CN\", \"AZ\": \"1\\uc13c\\ud130\", \"\\ud14c\\ub10c\\ud2b8\": \"PRD\", \"DBMS\": \"Maria\", \"count\": 0.0}, {\"\\ub144\\ub3c4\": \"22\\ub144\", \"\\uc6d4\": \"4\\uc6d4\", \"\\ub9ac\\uc804\": \"CN\", \"AZ\": \"1\\uc13c\\ud130\", \"\\ud14c\\ub10c\\ud2b8\": \"PRD\", \"DBMS\": \"Redis\", \"count\": 14.0}, {\"\\ub144\\ub3c4\": \"22\\ub144\", \"\\uc6d4\": \"4\\uc6d4\", \"\\ub9ac\\uc804\": \"CN\", \"AZ\": \"1\\uc13c\\ud130\", \"\\ud14c\\ub10c\\ud2b8\": \"PRD\", \"DBMS\": \"Mongo\", \"count\": 5.0}, {\"\\ub144\\ub3c4\": \"22\\ub144\", \"\\uc6d4\": \"4\\uc6d4\", \"\\ub9ac\\uc804\": \"RU\", \"AZ\": \"1\\uc13c\\ud130\", \"\\ud14c\\ub10c\\ud2b8\": \"PRD\", \"DBMS\": \"PostgreSQL\", \"count\": 10.0}, {\"\\ub144\\ub3c4\": \"22\\ub144\", \"\\uc6d4\": \"4\\uc6d4\", \"\\ub9ac\\uc804\": \"RU\", \"AZ\": \"1\\uc13c\\ud130\", \"\\ud14c\\ub10c\\ud2b8\": \"PRD\", \"DBMS\": \"Tibero\", \"count\": 0.0}, {\"\\ub144\\ub3c4\": \"22\\ub144\", \"\\uc6d4\": \"4\\uc6d4\", \"\\ub9ac\\uc804\": \"RU\", \"AZ\": \"1\\uc13c\\ud130\", \"\\ud14c\\ub10c\\ud2b8\": \"PRD\", \"DBMS\": \"Maria\", \"count\": 0.0}, {\"\\ub144\\ub3c4\": \"22\\ub144\", \"\\uc6d4\": \"4\\uc6d4\", \"\\ub9ac\\uc804\": \"RU\", \"AZ\": \"1\\uc13c\\ud130\", \"\\ud14c\\ub10c\\ud2b8\": \"PRD\", \"DBMS\": \"Redis\", \"count\": 3.0}, {\"\\ub144\\ub3c4\": \"22\\ub144\", \"\\uc6d4\": \"4\\uc6d4\", \"\\ub9ac\\uc804\": \"RU\", \"AZ\": \"1\\uc13c\\ud130\", \"\\ud14c\\ub10c\\ud2b8\": \"PRD\", \"DBMS\": \"Mongo\", \"count\": 1.0}, {\"\\ub144\\ub3c4\": \"22\\ub144\", \"\\uc6d4\": \"4\\uc6d4\", \"\\ub9ac\\uc804\": \"SG\", \"AZ\": \"1\\uc13c\\ud130\", \"\\ud14c\\ub10c\\ud2b8\": \"PRD\", \"DBMS\": \"PostgreSQL\", \"count\": 24.0}, {\"\\ub144\\ub3c4\": \"22\\ub144\", \"\\uc6d4\": \"4\\uc6d4\", \"\\ub9ac\\uc804\": \"SG\", \"AZ\": \"1\\uc13c\\ud130\", \"\\ud14c\\ub10c\\ud2b8\": \"PRD\", \"DBMS\": \"Tibero\", \"count\": 0.0}, {\"\\ub144\\ub3c4\": \"22\\ub144\", \"\\uc6d4\": \"4\\uc6d4\", \"\\ub9ac\\uc804\": \"SG\", \"AZ\": \"1\\uc13c\\ud130\", \"\\ud14c\\ub10c\\ud2b8\": \"PRD\", \"DBMS\": \"Maria\", \"count\": 0.0}, {\"\\ub144\\ub3c4\": \"22\\ub144\", \"\\uc6d4\": \"4\\uc6d4\", \"\\ub9ac\\uc804\": \"SG\", \"AZ\": \"1\\uc13c\\ud130\", \"\\ud14c\\ub10c\\ud2b8\": \"PRD\", \"DBMS\": \"Redis\", \"count\": 26.0}, {\"\\ub144\\ub3c4\": \"22\\ub144\", \"\\uc6d4\": \"4\\uc6d4\", \"\\ub9ac\\uc804\": \"SG\", \"AZ\": \"1\\uc13c\\ud130\", \"\\ud14c\\ub10c\\ud2b8\": \"PRD\", \"DBMS\": \"Mongo\", \"count\": 7.0}, {\"\\ub144\\ub3c4\": \"22\\ub144\", \"\\uc6d4\": \"5\\uc6d4\", \"\\ub9ac\\uc804\": \"KR\", \"AZ\": \"1\\uc13c\\ud130\", \"\\ud14c\\ub10c\\ud2b8\": \"PRD\", \"DBMS\": \"PostgreSQL\", \"count\": 120.0}, {\"\\ub144\\ub3c4\": \"22\\ub144\", \"\\uc6d4\": \"5\\uc6d4\", \"\\ub9ac\\uc804\": \"KR\", \"AZ\": \"1\\uc13c\\ud130\", \"\\ud14c\\ub10c\\ud2b8\": \"PRD\", \"DBMS\": \"Tibero\", \"count\": 30.0}, {\"\\ub144\\ub3c4\": \"22\\ub144\", \"\\uc6d4\": \"5\\uc6d4\", \"\\ub9ac\\uc804\": \"KR\", \"AZ\": \"1\\uc13c\\ud130\", \"\\ud14c\\ub10c\\ud2b8\": \"PRD\", \"DBMS\": \"Maria\", \"count\": 25.0}, {\"\\ub144\\ub3c4\": \"22\\ub144\", \"\\uc6d4\": \"5\\uc6d4\", \"\\ub9ac\\uc804\": \"KR\", \"AZ\": \"1\\uc13c\\ud130\", \"\\ud14c\\ub10c\\ud2b8\": \"PRD\", \"DBMS\": \"Redis\", \"count\": 96.0}, {\"\\ub144\\ub3c4\": \"22\\ub144\", \"\\uc6d4\": \"5\\uc6d4\", \"\\ub9ac\\uc804\": \"KR\", \"AZ\": \"1\\uc13c\\ud130\", \"\\ud14c\\ub10c\\ud2b8\": \"PRD\", \"DBMS\": \"Mongo\", \"count\": 76.0}, {\"\\ub144\\ub3c4\": \"22\\ub144\", \"\\uc6d4\": \"5\\uc6d4\", \"\\ub9ac\\uc804\": \"KR\", \"AZ\": \"2\\uc13c\\ud130\", \"\\ud14c\\ub10c\\ud2b8\": \"PRD\", \"DBMS\": \"PostgreSQL\", \"count\": 4.0}, {\"\\ub144\\ub3c4\": \"22\\ub144\", \"\\uc6d4\": \"5\\uc6d4\", \"\\ub9ac\\uc804\": \"KR\", \"AZ\": \"2\\uc13c\\ud130\", \"\\ud14c\\ub10c\\ud2b8\": \"PRD\", \"DBMS\": \"Tibero\", \"count\": 0.0}, {\"\\ub144\\ub3c4\": \"22\\ub144\", \"\\uc6d4\": \"5\\uc6d4\", \"\\ub9ac\\uc804\": \"KR\", \"AZ\": \"2\\uc13c\\ud130\", \"\\ud14c\\ub10c\\ud2b8\": \"PRD\", \"DBMS\": \"Maria\", \"count\": 3.0}, {\"\\ub144\\ub3c4\": \"22\\ub144\", \"\\uc6d4\": \"5\\uc6d4\", \"\\ub9ac\\uc804\": \"KR\", \"AZ\": \"2\\uc13c\\ud130\", \"\\ud14c\\ub10c\\ud2b8\": \"PRD\", \"DBMS\": \"Redis\", \"count\": 37.0}, {\"\\ub144\\ub3c4\": \"22\\ub144\", \"\\uc6d4\": \"5\\uc6d4\", \"\\ub9ac\\uc804\": \"KR\", \"AZ\": \"2\\uc13c\\ud130\", \"\\ud14c\\ub10c\\ud2b8\": \"PRD\", \"DBMS\": \"Mongo\", \"count\": 3.0}, {\"\\ub144\\ub3c4\": \"22\\ub144\", \"\\uc6d4\": \"5\\uc6d4\", \"\\ub9ac\\uc804\": \"EU\", \"AZ\": \"1\\uc13c\\ud130\", \"\\ud14c\\ub10c\\ud2b8\": \"PRD\", \"DBMS\": \"PostgreSQL\", \"count\": 19.0}, {\"\\ub144\\ub3c4\": \"22\\ub144\", \"\\uc6d4\": \"5\\uc6d4\", \"\\ub9ac\\uc804\": \"EU\", \"AZ\": \"1\\uc13c\\ud130\", \"\\ud14c\\ub10c\\ud2b8\": \"PRD\", \"DBMS\": \"Tibero\", \"count\": 1.0}, {\"\\ub144\\ub3c4\": \"22\\ub144\", \"\\uc6d4\": \"5\\uc6d4\", \"\\ub9ac\\uc804\": \"EU\", \"AZ\": \"1\\uc13c\\ud130\", \"\\ud14c\\ub10c\\ud2b8\": \"PRD\", \"DBMS\": \"Maria\", \"count\": 0.0}, {\"\\ub144\\ub3c4\": \"22\\ub144\", \"\\uc6d4\": \"5\\uc6d4\", \"\\ub9ac\\uc804\": \"EU\", \"AZ\": \"1\\uc13c\\ud130\", \"\\ud14c\\ub10c\\ud2b8\": \"PRD\", \"DBMS\": \"Redis\", \"count\": 22.0}, {\"\\ub144\\ub3c4\": \"22\\ub144\", \"\\uc6d4\": \"5\\uc6d4\", \"\\ub9ac\\uc804\": \"EU\", \"AZ\": \"1\\uc13c\\ud130\", \"\\ud14c\\ub10c\\ud2b8\": \"PRD\", \"DBMS\": \"Mongo\", \"count\": 4.0}, {\"\\ub144\\ub3c4\": \"22\\ub144\", \"\\uc6d4\": \"5\\uc6d4\", \"\\ub9ac\\uc804\": \"NA\", \"AZ\": \"1\\uc13c\\ud130\", \"\\ud14c\\ub10c\\ud2b8\": \"PRD\", \"DBMS\": \"PostgreSQL\", \"count\": 7.0}, {\"\\ub144\\ub3c4\": \"22\\ub144\", \"\\uc6d4\": \"5\\uc6d4\", \"\\ub9ac\\uc804\": \"NA\", \"AZ\": \"1\\uc13c\\ud130\", \"\\ud14c\\ub10c\\ud2b8\": \"PRD\", \"DBMS\": \"Tibero\", \"count\": 14.0}, {\"\\ub144\\ub3c4\": \"22\\ub144\", \"\\uc6d4\": \"5\\uc6d4\", \"\\ub9ac\\uc804\": \"NA\", \"AZ\": \"1\\uc13c\\ud130\", \"\\ud14c\\ub10c\\ud2b8\": \"PRD\", \"DBMS\": \"Maria\", \"count\": 0.0}, {\"\\ub144\\ub3c4\": \"22\\ub144\", \"\\uc6d4\": \"5\\uc6d4\", \"\\ub9ac\\uc804\": \"NA\", \"AZ\": \"1\\uc13c\\ud130\", \"\\ud14c\\ub10c\\ud2b8\": \"PRD\", \"DBMS\": \"Redis\", \"count\": 10.0}, {\"\\ub144\\ub3c4\": \"22\\ub144\", \"\\uc6d4\": \"5\\uc6d4\", \"\\ub9ac\\uc804\": \"NA\", \"AZ\": \"1\\uc13c\\ud130\", \"\\ud14c\\ub10c\\ud2b8\": \"PRD\", \"DBMS\": \"Mongo\", \"count\": 6.0}, {\"\\ub144\\ub3c4\": \"22\\ub144\", \"\\uc6d4\": \"5\\uc6d4\", \"\\ub9ac\\uc804\": \"CN\", \"AZ\": \"1\\uc13c\\ud130\", \"\\ud14c\\ub10c\\ud2b8\": \"PRD\", \"DBMS\": \"PostgreSQL\", \"count\": 10.0}, {\"\\ub144\\ub3c4\": \"22\\ub144\", \"\\uc6d4\": \"5\\uc6d4\", \"\\ub9ac\\uc804\": \"CN\", \"AZ\": \"1\\uc13c\\ud130\", \"\\ud14c\\ub10c\\ud2b8\": \"PRD\", \"DBMS\": \"Tibero\", \"count\": 15.0}, {\"\\ub144\\ub3c4\": \"22\\ub144\", \"\\uc6d4\": \"5\\uc6d4\", \"\\ub9ac\\uc804\": \"CN\", \"AZ\": \"1\\uc13c\\ud130\", \"\\ud14c\\ub10c\\ud2b8\": \"PRD\", \"DBMS\": \"Maria\", \"count\": 0.0}, {\"\\ub144\\ub3c4\": \"22\\ub144\", \"\\uc6d4\": \"5\\uc6d4\", \"\\ub9ac\\uc804\": \"CN\", \"AZ\": \"1\\uc13c\\ud130\", \"\\ud14c\\ub10c\\ud2b8\": \"PRD\", \"DBMS\": \"Redis\", \"count\": 14.0}, {\"\\ub144\\ub3c4\": \"22\\ub144\", \"\\uc6d4\": \"5\\uc6d4\", \"\\ub9ac\\uc804\": \"CN\", \"AZ\": \"1\\uc13c\\ud130\", \"\\ud14c\\ub10c\\ud2b8\": \"PRD\", \"DBMS\": \"Mongo\", \"count\": 5.0}, {\"\\ub144\\ub3c4\": \"22\\ub144\", \"\\uc6d4\": \"5\\uc6d4\", \"\\ub9ac\\uc804\": \"RU\", \"AZ\": \"1\\uc13c\\ud130\", \"\\ud14c\\ub10c\\ud2b8\": \"PRD\", \"DBMS\": \"PostgreSQL\", \"count\": 10.0}, {\"\\ub144\\ub3c4\": \"22\\ub144\", \"\\uc6d4\": \"5\\uc6d4\", \"\\ub9ac\\uc804\": \"RU\", \"AZ\": \"1\\uc13c\\ud130\", \"\\ud14c\\ub10c\\ud2b8\": \"PRD\", \"DBMS\": \"Tibero\", \"count\": 0.0}, {\"\\ub144\\ub3c4\": \"22\\ub144\", \"\\uc6d4\": \"5\\uc6d4\", \"\\ub9ac\\uc804\": \"RU\", \"AZ\": \"1\\uc13c\\ud130\", \"\\ud14c\\ub10c\\ud2b8\": \"PRD\", \"DBMS\": \"Maria\", \"count\": 0.0}, {\"\\ub144\\ub3c4\": \"22\\ub144\", \"\\uc6d4\": \"5\\uc6d4\", \"\\ub9ac\\uc804\": \"RU\", \"AZ\": \"1\\uc13c\\ud130\", \"\\ud14c\\ub10c\\ud2b8\": \"PRD\", \"DBMS\": \"Redis\", \"count\": 3.0}, {\"\\ub144\\ub3c4\": \"22\\ub144\", \"\\uc6d4\": \"5\\uc6d4\", \"\\ub9ac\\uc804\": \"RU\", \"AZ\": \"1\\uc13c\\ud130\", \"\\ud14c\\ub10c\\ud2b8\": \"PRD\", \"DBMS\": \"Mongo\", \"count\": 1.0}, {\"\\ub144\\ub3c4\": \"22\\ub144\", \"\\uc6d4\": \"5\\uc6d4\", \"\\ub9ac\\uc804\": \"SG\", \"AZ\": \"1\\uc13c\\ud130\", \"\\ud14c\\ub10c\\ud2b8\": \"PRD\", \"DBMS\": \"PostgreSQL\", \"count\": 24.0}, {\"\\ub144\\ub3c4\": \"22\\ub144\", \"\\uc6d4\": \"5\\uc6d4\", \"\\ub9ac\\uc804\": \"SG\", \"AZ\": \"1\\uc13c\\ud130\", \"\\ud14c\\ub10c\\ud2b8\": \"PRD\", \"DBMS\": \"Tibero\", \"count\": 0.0}, {\"\\ub144\\ub3c4\": \"22\\ub144\", \"\\uc6d4\": \"5\\uc6d4\", \"\\ub9ac\\uc804\": \"SG\", \"AZ\": \"1\\uc13c\\ud130\", \"\\ud14c\\ub10c\\ud2b8\": \"PRD\", \"DBMS\": \"Maria\", \"count\": 0.0}, {\"\\ub144\\ub3c4\": \"22\\ub144\", \"\\uc6d4\": \"5\\uc6d4\", \"\\ub9ac\\uc804\": \"SG\", \"AZ\": \"1\\uc13c\\ud130\", \"\\ud14c\\ub10c\\ud2b8\": \"PRD\", \"DBMS\": \"Redis\", \"count\": 26.0}, {\"\\ub144\\ub3c4\": \"22\\ub144\", \"\\uc6d4\": \"5\\uc6d4\", \"\\ub9ac\\uc804\": \"SG\", \"AZ\": \"1\\uc13c\\ud130\", \"\\ud14c\\ub10c\\ud2b8\": \"PRD\", \"DBMS\": \"Mongo\", \"count\": 7.0}, {\"\\ub144\\ub3c4\": \"22\\ub144\", \"\\uc6d4\": \"6\\uc6d4\", \"\\ub9ac\\uc804\": \"KR\", \"AZ\": \"1\\uc13c\\ud130\", \"\\ud14c\\ub10c\\ud2b8\": \"PRD\", \"DBMS\": \"PostgreSQL\", \"count\": 122.0}, {\"\\ub144\\ub3c4\": \"22\\ub144\", \"\\uc6d4\": \"6\\uc6d4\", \"\\ub9ac\\uc804\": \"KR\", \"AZ\": \"1\\uc13c\\ud130\", \"\\ud14c\\ub10c\\ud2b8\": \"PRD\", \"DBMS\": \"Tibero\", \"count\": 26.0}, {\"\\ub144\\ub3c4\": \"22\\ub144\", \"\\uc6d4\": \"6\\uc6d4\", \"\\ub9ac\\uc804\": \"KR\", \"AZ\": \"1\\uc13c\\ud130\", \"\\ud14c\\ub10c\\ud2b8\": \"PRD\", \"DBMS\": \"Maria\", \"count\": 25.0}, {\"\\ub144\\ub3c4\": \"22\\ub144\", \"\\uc6d4\": \"6\\uc6d4\", \"\\ub9ac\\uc804\": \"KR\", \"AZ\": \"1\\uc13c\\ud130\", \"\\ud14c\\ub10c\\ud2b8\": \"PRD\", \"DBMS\": \"Redis\", \"count\": 108.0}, {\"\\ub144\\ub3c4\": \"22\\ub144\", \"\\uc6d4\": \"6\\uc6d4\", \"\\ub9ac\\uc804\": \"KR\", \"AZ\": \"1\\uc13c\\ud130\", \"\\ud14c\\ub10c\\ud2b8\": \"PRD\", \"DBMS\": \"Mongo\", \"count\": 79.0}, {\"\\ub144\\ub3c4\": \"22\\ub144\", \"\\uc6d4\": \"6\\uc6d4\", \"\\ub9ac\\uc804\": \"KR\", \"AZ\": \"2\\uc13c\\ud130\", \"\\ud14c\\ub10c\\ud2b8\": \"PRD\", \"DBMS\": \"PostgreSQL\", \"count\": 4.0}, {\"\\ub144\\ub3c4\": \"22\\ub144\", \"\\uc6d4\": \"6\\uc6d4\", \"\\ub9ac\\uc804\": \"KR\", \"AZ\": \"2\\uc13c\\ud130\", \"\\ud14c\\ub10c\\ud2b8\": \"PRD\", \"DBMS\": \"Tibero\", \"count\": 0.0}, {\"\\ub144\\ub3c4\": \"22\\ub144\", \"\\uc6d4\": \"6\\uc6d4\", \"\\ub9ac\\uc804\": \"KR\", \"AZ\": \"2\\uc13c\\ud130\", \"\\ud14c\\ub10c\\ud2b8\": \"PRD\", \"DBMS\": \"Maria\", \"count\": 3.0}, {\"\\ub144\\ub3c4\": \"22\\ub144\", \"\\uc6d4\": \"6\\uc6d4\", \"\\ub9ac\\uc804\": \"KR\", \"AZ\": \"2\\uc13c\\ud130\", \"\\ud14c\\ub10c\\ud2b8\": \"PRD\", \"DBMS\": \"Redis\", \"count\": 37.0}, {\"\\ub144\\ub3c4\": \"22\\ub144\", \"\\uc6d4\": \"6\\uc6d4\", \"\\ub9ac\\uc804\": \"KR\", \"AZ\": \"2\\uc13c\\ud130\", \"\\ud14c\\ub10c\\ud2b8\": \"PRD\", \"DBMS\": \"Mongo\", \"count\": 3.0}, {\"\\ub144\\ub3c4\": \"22\\ub144\", \"\\uc6d4\": \"6\\uc6d4\", \"\\ub9ac\\uc804\": \"EU\", \"AZ\": \"1\\uc13c\\ud130\", \"\\ud14c\\ub10c\\ud2b8\": \"PRD\", \"DBMS\": \"PostgreSQL\", \"count\": 19.0}, {\"\\ub144\\ub3c4\": \"22\\ub144\", \"\\uc6d4\": \"6\\uc6d4\", \"\\ub9ac\\uc804\": \"EU\", \"AZ\": \"1\\uc13c\\ud130\", \"\\ud14c\\ub10c\\ud2b8\": \"PRD\", \"DBMS\": \"Tibero\", \"count\": 3.0}, {\"\\ub144\\ub3c4\": \"22\\ub144\", \"\\uc6d4\": \"6\\uc6d4\", \"\\ub9ac\\uc804\": \"EU\", \"AZ\": \"1\\uc13c\\ud130\", \"\\ud14c\\ub10c\\ud2b8\": \"PRD\", \"DBMS\": \"Maria\", \"count\": 0.0}, {\"\\ub144\\ub3c4\": \"22\\ub144\", \"\\uc6d4\": \"6\\uc6d4\", \"\\ub9ac\\uc804\": \"EU\", \"AZ\": \"1\\uc13c\\ud130\", \"\\ud14c\\ub10c\\ud2b8\": \"PRD\", \"DBMS\": \"Redis\", \"count\": 22.0}, {\"\\ub144\\ub3c4\": \"22\\ub144\", \"\\uc6d4\": \"6\\uc6d4\", \"\\ub9ac\\uc804\": \"EU\", \"AZ\": \"1\\uc13c\\ud130\", \"\\ud14c\\ub10c\\ud2b8\": \"PRD\", \"DBMS\": \"Mongo\", \"count\": 4.0}, {\"\\ub144\\ub3c4\": \"22\\ub144\", \"\\uc6d4\": \"6\\uc6d4\", \"\\ub9ac\\uc804\": \"NA\", \"AZ\": \"1\\uc13c\\ud130\", \"\\ud14c\\ub10c\\ud2b8\": \"PRD\", \"DBMS\": \"PostgreSQL\", \"count\": 7.0}, {\"\\ub144\\ub3c4\": \"22\\ub144\", \"\\uc6d4\": \"6\\uc6d4\", \"\\ub9ac\\uc804\": \"NA\", \"AZ\": \"1\\uc13c\\ud130\", \"\\ud14c\\ub10c\\ud2b8\": \"PRD\", \"DBMS\": \"Tibero\", \"count\": 18.0}, {\"\\ub144\\ub3c4\": \"22\\ub144\", \"\\uc6d4\": \"6\\uc6d4\", \"\\ub9ac\\uc804\": \"NA\", \"AZ\": \"1\\uc13c\\ud130\", \"\\ud14c\\ub10c\\ud2b8\": \"PRD\", \"DBMS\": \"Maria\", \"count\": 0.0}, {\"\\ub144\\ub3c4\": \"22\\ub144\", \"\\uc6d4\": \"6\\uc6d4\", \"\\ub9ac\\uc804\": \"NA\", \"AZ\": \"1\\uc13c\\ud130\", \"\\ud14c\\ub10c\\ud2b8\": \"PRD\", \"DBMS\": \"Redis\", \"count\": 10.0}, {\"\\ub144\\ub3c4\": \"22\\ub144\", \"\\uc6d4\": \"6\\uc6d4\", \"\\ub9ac\\uc804\": \"NA\", \"AZ\": \"1\\uc13c\\ud130\", \"\\ud14c\\ub10c\\ud2b8\": \"PRD\", \"DBMS\": \"Mongo\", \"count\": 6.0}, {\"\\ub144\\ub3c4\": \"22\\ub144\", \"\\uc6d4\": \"6\\uc6d4\", \"\\ub9ac\\uc804\": \"CN\", \"AZ\": \"1\\uc13c\\ud130\", \"\\ud14c\\ub10c\\ud2b8\": \"PRD\", \"DBMS\": \"PostgreSQL\", \"count\": 10.0}, {\"\\ub144\\ub3c4\": \"22\\ub144\", \"\\uc6d4\": \"6\\uc6d4\", \"\\ub9ac\\uc804\": \"CN\", \"AZ\": \"1\\uc13c\\ud130\", \"\\ud14c\\ub10c\\ud2b8\": \"PRD\", \"DBMS\": \"Tibero\", \"count\": 14.0}, {\"\\ub144\\ub3c4\": \"22\\ub144\", \"\\uc6d4\": \"6\\uc6d4\", \"\\ub9ac\\uc804\": \"CN\", \"AZ\": \"1\\uc13c\\ud130\", \"\\ud14c\\ub10c\\ud2b8\": \"PRD\", \"DBMS\": \"Maria\", \"count\": 0.0}, {\"\\ub144\\ub3c4\": \"22\\ub144\", \"\\uc6d4\": \"6\\uc6d4\", \"\\ub9ac\\uc804\": \"CN\", \"AZ\": \"1\\uc13c\\ud130\", \"\\ud14c\\ub10c\\ud2b8\": \"PRD\", \"DBMS\": \"Redis\", \"count\": 14.0}, {\"\\ub144\\ub3c4\": \"22\\ub144\", \"\\uc6d4\": \"6\\uc6d4\", \"\\ub9ac\\uc804\": \"CN\", \"AZ\": \"1\\uc13c\\ud130\", \"\\ud14c\\ub10c\\ud2b8\": \"PRD\", \"DBMS\": \"Mongo\", \"count\": 5.0}, {\"\\ub144\\ub3c4\": \"22\\ub144\", \"\\uc6d4\": \"6\\uc6d4\", \"\\ub9ac\\uc804\": \"RU\", \"AZ\": \"1\\uc13c\\ud130\", \"\\ud14c\\ub10c\\ud2b8\": \"PRD\", \"DBMS\": \"PostgreSQL\", \"count\": 4.0}, {\"\\ub144\\ub3c4\": \"22\\ub144\", \"\\uc6d4\": \"6\\uc6d4\", \"\\ub9ac\\uc804\": \"RU\", \"AZ\": \"1\\uc13c\\ud130\", \"\\ud14c\\ub10c\\ud2b8\": \"PRD\", \"DBMS\": \"Tibero\", \"count\": 0.0}, {\"\\ub144\\ub3c4\": \"22\\ub144\", \"\\uc6d4\": \"6\\uc6d4\", \"\\ub9ac\\uc804\": \"RU\", \"AZ\": \"1\\uc13c\\ud130\", \"\\ud14c\\ub10c\\ud2b8\": \"PRD\", \"DBMS\": \"Maria\", \"count\": 0.0}, {\"\\ub144\\ub3c4\": \"22\\ub144\", \"\\uc6d4\": \"6\\uc6d4\", \"\\ub9ac\\uc804\": \"RU\", \"AZ\": \"1\\uc13c\\ud130\", \"\\ud14c\\ub10c\\ud2b8\": \"PRD\", \"DBMS\": \"Redis\", \"count\": 3.0}, {\"\\ub144\\ub3c4\": \"22\\ub144\", \"\\uc6d4\": \"6\\uc6d4\", \"\\ub9ac\\uc804\": \"RU\", \"AZ\": \"1\\uc13c\\ud130\", \"\\ud14c\\ub10c\\ud2b8\": \"PRD\", \"DBMS\": \"Mongo\", \"count\": 1.0}, {\"\\ub144\\ub3c4\": \"22\\ub144\", \"\\uc6d4\": \"6\\uc6d4\", \"\\ub9ac\\uc804\": \"SG\", \"AZ\": \"1\\uc13c\\ud130\", \"\\ud14c\\ub10c\\ud2b8\": \"PRD\", \"DBMS\": \"PostgreSQL\", \"count\": 24.0}, {\"\\ub144\\ub3c4\": \"22\\ub144\", \"\\uc6d4\": \"6\\uc6d4\", \"\\ub9ac\\uc804\": \"SG\", \"AZ\": \"1\\uc13c\\ud130\", \"\\ud14c\\ub10c\\ud2b8\": \"PRD\", \"DBMS\": \"Tibero\", \"count\": 0.0}, {\"\\ub144\\ub3c4\": \"22\\ub144\", \"\\uc6d4\": \"6\\uc6d4\", \"\\ub9ac\\uc804\": \"SG\", \"AZ\": \"1\\uc13c\\ud130\", \"\\ud14c\\ub10c\\ud2b8\": \"PRD\", \"DBMS\": \"Maria\", \"count\": 0.0}, {\"\\ub144\\ub3c4\": \"22\\ub144\", \"\\uc6d4\": \"6\\uc6d4\", \"\\ub9ac\\uc804\": \"SG\", \"AZ\": \"1\\uc13c\\ud130\", \"\\ud14c\\ub10c\\ud2b8\": \"PRD\", \"DBMS\": \"Redis\", \"count\": 26.0}, {\"\\ub144\\ub3c4\": \"22\\ub144\", \"\\uc6d4\": \"6\\uc6d4\", \"\\ub9ac\\uc804\": \"SG\", \"AZ\": \"1\\uc13c\\ud130\", \"\\ud14c\\ub10c\\ud2b8\": \"PRD\", \"DBMS\": \"Mongo\", \"count\": 7.0}]}}, {\"mode\": \"vega-lite\"});\n",
       "</script>"
      ],
      "text/plain": [
       "alt.LayerChart(...)"
      ]
     },
     "execution_count": 14,
     "metadata": {},
     "output_type": "execute_result"
    }
   ],
   "source": [
    "regex = '^(KR|CN|NA|EU|SG|RU|Global)'\n",
    "df_filtered = df[df['리전'].apply(lambda x: True if re.search(regex, x) else False) & (df['테넌트']== 'PRD')]\n",
    "source = df_filtered\n",
    "chart = get_lineChart_am(source)\n",
    "chart"
   ]
  },
  {
   "cell_type": "code",
   "execution_count": 15,
   "id": "fe8d80dd-11bf-4712-af8d-6d5b63795e11",
   "metadata": {},
   "outputs": [
    {
     "data": {
      "text/plain": [
       "<docx.shape.InlineShape at 0x1b24c6aba30>"
      ]
     },
     "execution_count": 15,
     "metadata": {},
     "output_type": "execute_result"
    }
   ],
   "source": [
    "chart.save('charts/4.png')\n",
    "document.add_picture('charts/4.png')"
   ]
  },
  {
   "cell_type": "code",
   "execution_count": 16,
   "id": "5dcdf63c-0215-4f27-81d5-32bb73867dcd",
   "metadata": {},
   "outputs": [
    {
     "data": {
      "text/html": [
       "<div>\n",
       "<style scoped>\n",
       "    .dataframe tbody tr th:only-of-type {\n",
       "        vertical-align: middle;\n",
       "    }\n",
       "\n",
       "    .dataframe tbody tr th {\n",
       "        vertical-align: top;\n",
       "    }\n",
       "\n",
       "    .dataframe thead th {\n",
       "        text-align: right;\n",
       "    }\n",
       "</style>\n",
       "<table border=\"1\" class=\"dataframe\">\n",
       "  <thead>\n",
       "    <tr style=\"text-align: right;\">\n",
       "      <th></th>\n",
       "      <th>년도</th>\n",
       "      <th>월</th>\n",
       "      <th>리전</th>\n",
       "      <th>AZ</th>\n",
       "      <th>테넌트</th>\n",
       "      <th>DBMS</th>\n",
       "      <th>count</th>\n",
       "    </tr>\n",
       "  </thead>\n",
       "  <tbody>\n",
       "    <tr>\n",
       "      <th>0</th>\n",
       "      <td>22년</td>\n",
       "      <td>1월</td>\n",
       "      <td>KR</td>\n",
       "      <td>1센터</td>\n",
       "      <td>PRD</td>\n",
       "      <td>PostgreSQL</td>\n",
       "      <td>110.0</td>\n",
       "    </tr>\n",
       "    <tr>\n",
       "      <th>1</th>\n",
       "      <td>22년</td>\n",
       "      <td>1월</td>\n",
       "      <td>KR</td>\n",
       "      <td>1센터</td>\n",
       "      <td>PRD</td>\n",
       "      <td>Tibero</td>\n",
       "      <td>28.0</td>\n",
       "    </tr>\n",
       "    <tr>\n",
       "      <th>2</th>\n",
       "      <td>22년</td>\n",
       "      <td>1월</td>\n",
       "      <td>KR</td>\n",
       "      <td>1센터</td>\n",
       "      <td>PRD</td>\n",
       "      <td>Maria</td>\n",
       "      <td>32.0</td>\n",
       "    </tr>\n",
       "    <tr>\n",
       "      <th>3</th>\n",
       "      <td>22년</td>\n",
       "      <td>1월</td>\n",
       "      <td>KR</td>\n",
       "      <td>1센터</td>\n",
       "      <td>PRD</td>\n",
       "      <td>Redis</td>\n",
       "      <td>97.0</td>\n",
       "    </tr>\n",
       "    <tr>\n",
       "      <th>4</th>\n",
       "      <td>22년</td>\n",
       "      <td>1월</td>\n",
       "      <td>KR</td>\n",
       "      <td>1센터</td>\n",
       "      <td>PRD</td>\n",
       "      <td>Mongo</td>\n",
       "      <td>84.0</td>\n",
       "    </tr>\n",
       "    <tr>\n",
       "      <th>...</th>\n",
       "      <td>...</td>\n",
       "      <td>...</td>\n",
       "      <td>...</td>\n",
       "      <td>...</td>\n",
       "      <td>...</td>\n",
       "      <td>...</td>\n",
       "      <td>...</td>\n",
       "    </tr>\n",
       "    <tr>\n",
       "      <th>615</th>\n",
       "      <td>22년</td>\n",
       "      <td>6월</td>\n",
       "      <td>SG</td>\n",
       "      <td>1센터</td>\n",
       "      <td>PRD</td>\n",
       "      <td>PostgreSQL</td>\n",
       "      <td>24.0</td>\n",
       "    </tr>\n",
       "    <tr>\n",
       "      <th>616</th>\n",
       "      <td>22년</td>\n",
       "      <td>6월</td>\n",
       "      <td>SG</td>\n",
       "      <td>1센터</td>\n",
       "      <td>PRD</td>\n",
       "      <td>Tibero</td>\n",
       "      <td>0.0</td>\n",
       "    </tr>\n",
       "    <tr>\n",
       "      <th>617</th>\n",
       "      <td>22년</td>\n",
       "      <td>6월</td>\n",
       "      <td>SG</td>\n",
       "      <td>1센터</td>\n",
       "      <td>PRD</td>\n",
       "      <td>Maria</td>\n",
       "      <td>0.0</td>\n",
       "    </tr>\n",
       "    <tr>\n",
       "      <th>618</th>\n",
       "      <td>22년</td>\n",
       "      <td>6월</td>\n",
       "      <td>SG</td>\n",
       "      <td>1센터</td>\n",
       "      <td>PRD</td>\n",
       "      <td>Redis</td>\n",
       "      <td>26.0</td>\n",
       "    </tr>\n",
       "    <tr>\n",
       "      <th>619</th>\n",
       "      <td>22년</td>\n",
       "      <td>6월</td>\n",
       "      <td>SG</td>\n",
       "      <td>1센터</td>\n",
       "      <td>PRD</td>\n",
       "      <td>Mongo</td>\n",
       "      <td>7.0</td>\n",
       "    </tr>\n",
       "  </tbody>\n",
       "</table>\n",
       "<p>210 rows × 7 columns</p>\n",
       "</div>"
      ],
      "text/plain": [
       "      년도   월  리전   AZ  테넌트        DBMS  count\n",
       "0    22년  1월  KR  1센터  PRD  PostgreSQL  110.0\n",
       "1    22년  1월  KR  1센터  PRD      Tibero   28.0\n",
       "2    22년  1월  KR  1센터  PRD       Maria   32.0\n",
       "3    22년  1월  KR  1센터  PRD       Redis   97.0\n",
       "4    22년  1월  KR  1센터  PRD       Mongo   84.0\n",
       "..   ...  ..  ..  ...  ...         ...    ...\n",
       "615  22년  6월  SG  1센터  PRD  PostgreSQL   24.0\n",
       "616  22년  6월  SG  1센터  PRD      Tibero    0.0\n",
       "617  22년  6월  SG  1센터  PRD       Maria    0.0\n",
       "618  22년  6월  SG  1센터  PRD       Redis   26.0\n",
       "619  22년  6월  SG  1센터  PRD       Mongo    7.0\n",
       "\n",
       "[210 rows x 7 columns]"
      ]
     },
     "execution_count": 16,
     "metadata": {},
     "output_type": "execute_result"
    }
   ],
   "source": [
    "source"
   ]
  },
  {
   "cell_type": "markdown",
   "id": "c2d28c83-4e9a-4ea4-850f-6ea00022374c",
   "metadata": {
    "tags": []
   },
   "source": [
    "## by Region"
   ]
  },
  {
   "cell_type": "code",
   "execution_count": 17,
   "id": "a92ceb11-9009-45ca-8b57-dd8100e6ce2b",
   "metadata": {},
   "outputs": [
    {
     "name": "stdout",
     "output_type": "stream",
     "text": [
      "KR\n",
      "EU\n",
      "NA\n",
      "CN\n",
      "RU\n",
      "SG\n"
     ]
    }
   ],
   "source": [
    "regions = df['리전'].unique()\n",
    "\n",
    "for region in regions:\n",
    "    print(region)"
   ]
  },
  {
   "cell_type": "markdown",
   "id": "f064117d-4e5d-46c9-a7c3-c96c76322d42",
   "metadata": {
    "tags": []
   },
   "source": [
    "### KR"
   ]
  },
  {
   "cell_type": "code",
   "execution_count": 18,
   "id": "d7e5ca1b-4dc2-44c6-b1f5-9eb514fa50f0",
   "metadata": {},
   "outputs": [
    {
     "data": {
      "text/html": [
       "\n",
       "<div id=\"altair-viz-666f445c5ff24e21b8a83af3da1f8689\"></div>\n",
       "<script type=\"text/javascript\">\n",
       "  var VEGA_DEBUG = (typeof VEGA_DEBUG == \"undefined\") ? {} : VEGA_DEBUG;\n",
       "  (function(spec, embedOpt){\n",
       "    let outputDiv = document.currentScript.previousElementSibling;\n",
       "    if (outputDiv.id !== \"altair-viz-666f445c5ff24e21b8a83af3da1f8689\") {\n",
       "      outputDiv = document.getElementById(\"altair-viz-666f445c5ff24e21b8a83af3da1f8689\");\n",
       "    }\n",
       "    const paths = {\n",
       "      \"vega\": \"https://cdn.jsdelivr.net/npm//vega@5?noext\",\n",
       "      \"vega-lib\": \"https://cdn.jsdelivr.net/npm//vega-lib?noext\",\n",
       "      \"vega-lite\": \"https://cdn.jsdelivr.net/npm//vega-lite@4.17.0?noext\",\n",
       "      \"vega-embed\": \"https://cdn.jsdelivr.net/npm//vega-embed@6?noext\",\n",
       "    };\n",
       "\n",
       "    function maybeLoadScript(lib, version) {\n",
       "      var key = `${lib.replace(\"-\", \"\")}_version`;\n",
       "      return (VEGA_DEBUG[key] == version) ?\n",
       "        Promise.resolve(paths[lib]) :\n",
       "        new Promise(function(resolve, reject) {\n",
       "          var s = document.createElement('script');\n",
       "          document.getElementsByTagName(\"head\")[0].appendChild(s);\n",
       "          s.async = true;\n",
       "          s.onload = () => {\n",
       "            VEGA_DEBUG[key] = version;\n",
       "            return resolve(paths[lib]);\n",
       "          };\n",
       "          s.onerror = () => reject(`Error loading script: ${paths[lib]}`);\n",
       "          s.src = paths[lib];\n",
       "        });\n",
       "    }\n",
       "\n",
       "    function showError(err) {\n",
       "      outputDiv.innerHTML = `<div class=\"error\" style=\"color:red;\">${err}</div>`;\n",
       "      throw err;\n",
       "    }\n",
       "\n",
       "    function displayChart(vegaEmbed) {\n",
       "      vegaEmbed(outputDiv, spec, embedOpt)\n",
       "        .catch(err => showError(`Javascript Error: ${err.message}<br>This usually means there's a typo in your chart specification. See the javascript console for the full traceback.`));\n",
       "    }\n",
       "\n",
       "    if(typeof define === \"function\" && define.amd) {\n",
       "      requirejs.config({paths});\n",
       "      require([\"vega-embed\"], displayChart, err => showError(`Error loading script: ${err.message}`));\n",
       "    } else {\n",
       "      maybeLoadScript(\"vega\", \"5\")\n",
       "        .then(() => maybeLoadScript(\"vega-lite\", \"4.17.0\"))\n",
       "        .then(() => maybeLoadScript(\"vega-embed\", \"6\"))\n",
       "        .catch(showError)\n",
       "        .then(() => displayChart(vegaEmbed));\n",
       "    }\n",
       "  })({\"config\": {\"view\": {\"continuousWidth\": 400, \"continuousHeight\": 300}}, \"layer\": [{\"mark\": \"point\", \"encoding\": {\"x\": {\"field\": \"\\uc6d4\", \"type\": \"nominal\"}, \"y\": {\"aggregate\": \"sum\", \"field\": \"count\", \"type\": \"quantitative\"}}}, {\"mark\": {\"type\": \"line\", \"color\": \"red\"}, \"encoding\": {\"x\": {\"field\": \"\\uc6d4\", \"type\": \"nominal\"}, \"y\": {\"aggregate\": \"sum\", \"field\": \"count\", \"title\": \"\", \"type\": \"quantitative\"}}}, {\"mark\": {\"type\": \"text\", \"align\": \"center\", \"baseline\": \"line-top\", \"color\": \"black\", \"dy\": -20, \"fontSize\": 12, \"size\": 12}, \"encoding\": {\"text\": {\"aggregate\": \"sum\", \"field\": \"count\", \"type\": \"quantitative\"}, \"x\": {\"field\": \"\\uc6d4\", \"type\": \"nominal\"}, \"y\": {\"aggregate\": \"sum\", \"field\": \"count\", \"type\": \"quantitative\"}}}], \"data\": {\"name\": \"data-0cac8c45ce60aa9eded2955a67c8b918\"}, \"height\": 200, \"width\": 400, \"$schema\": \"https://vega.github.io/schema/vega-lite/v4.17.0.json\", \"datasets\": {\"data-0cac8c45ce60aa9eded2955a67c8b918\": [{\"\\ub144\\ub3c4\": \"22\\ub144\", \"\\uc6d4\": \"1\\uc6d4\", \"\\ub9ac\\uc804\": \"KR\", \"AZ\": \"1\\uc13c\\ud130\", \"\\ud14c\\ub10c\\ud2b8\": \"PRD\", \"DBMS\": \"PostgreSQL\", \"count\": 110.0}, {\"\\ub144\\ub3c4\": \"22\\ub144\", \"\\uc6d4\": \"1\\uc6d4\", \"\\ub9ac\\uc804\": \"KR\", \"AZ\": \"1\\uc13c\\ud130\", \"\\ud14c\\ub10c\\ud2b8\": \"PRD\", \"DBMS\": \"Tibero\", \"count\": 28.0}, {\"\\ub144\\ub3c4\": \"22\\ub144\", \"\\uc6d4\": \"1\\uc6d4\", \"\\ub9ac\\uc804\": \"KR\", \"AZ\": \"1\\uc13c\\ud130\", \"\\ud14c\\ub10c\\ud2b8\": \"PRD\", \"DBMS\": \"Maria\", \"count\": 32.0}, {\"\\ub144\\ub3c4\": \"22\\ub144\", \"\\uc6d4\": \"1\\uc6d4\", \"\\ub9ac\\uc804\": \"KR\", \"AZ\": \"1\\uc13c\\ud130\", \"\\ud14c\\ub10c\\ud2b8\": \"PRD\", \"DBMS\": \"Redis\", \"count\": 97.0}, {\"\\ub144\\ub3c4\": \"22\\ub144\", \"\\uc6d4\": \"1\\uc6d4\", \"\\ub9ac\\uc804\": \"KR\", \"AZ\": \"1\\uc13c\\ud130\", \"\\ud14c\\ub10c\\ud2b8\": \"PRD\", \"DBMS\": \"Mongo\", \"count\": 84.0}, {\"\\ub144\\ub3c4\": \"22\\ub144\", \"\\uc6d4\": \"1\\uc6d4\", \"\\ub9ac\\uc804\": \"KR\", \"AZ\": \"2\\uc13c\\ud130\", \"\\ud14c\\ub10c\\ud2b8\": \"PRD\", \"DBMS\": \"PostgreSQL\", \"count\": 0.0}, {\"\\ub144\\ub3c4\": \"22\\ub144\", \"\\uc6d4\": \"1\\uc6d4\", \"\\ub9ac\\uc804\": \"KR\", \"AZ\": \"2\\uc13c\\ud130\", \"\\ud14c\\ub10c\\ud2b8\": \"PRD\", \"DBMS\": \"Tibero\", \"count\": 0.0}, {\"\\ub144\\ub3c4\": \"22\\ub144\", \"\\uc6d4\": \"1\\uc6d4\", \"\\ub9ac\\uc804\": \"KR\", \"AZ\": \"2\\uc13c\\ud130\", \"\\ud14c\\ub10c\\ud2b8\": \"PRD\", \"DBMS\": \"Maria\", \"count\": 0.0}, {\"\\ub144\\ub3c4\": \"22\\ub144\", \"\\uc6d4\": \"1\\uc6d4\", \"\\ub9ac\\uc804\": \"KR\", \"AZ\": \"2\\uc13c\\ud130\", \"\\ud14c\\ub10c\\ud2b8\": \"PRD\", \"DBMS\": \"Redis\", \"count\": 0.0}, {\"\\ub144\\ub3c4\": \"22\\ub144\", \"\\uc6d4\": \"1\\uc6d4\", \"\\ub9ac\\uc804\": \"KR\", \"AZ\": \"2\\uc13c\\ud130\", \"\\ud14c\\ub10c\\ud2b8\": \"PRD\", \"DBMS\": \"Mongo\", \"count\": 0.0}, {\"\\ub144\\ub3c4\": \"22\\ub144\", \"\\uc6d4\": \"2\\uc6d4\", \"\\ub9ac\\uc804\": \"KR\", \"AZ\": \"1\\uc13c\\ud130\", \"\\ud14c\\ub10c\\ud2b8\": \"PRD\", \"DBMS\": \"PostgreSQL\", \"count\": 106.0}, {\"\\ub144\\ub3c4\": \"22\\ub144\", \"\\uc6d4\": \"2\\uc6d4\", \"\\ub9ac\\uc804\": \"KR\", \"AZ\": \"1\\uc13c\\ud130\", \"\\ud14c\\ub10c\\ud2b8\": \"PRD\", \"DBMS\": \"Tibero\", \"count\": 28.0}, {\"\\ub144\\ub3c4\": \"22\\ub144\", \"\\uc6d4\": \"2\\uc6d4\", \"\\ub9ac\\uc804\": \"KR\", \"AZ\": \"1\\uc13c\\ud130\", \"\\ud14c\\ub10c\\ud2b8\": \"PRD\", \"DBMS\": \"Maria\", \"count\": 29.0}, {\"\\ub144\\ub3c4\": \"22\\ub144\", \"\\uc6d4\": \"2\\uc6d4\", \"\\ub9ac\\uc804\": \"KR\", \"AZ\": \"1\\uc13c\\ud130\", \"\\ud14c\\ub10c\\ud2b8\": \"PRD\", \"DBMS\": \"Redis\", \"count\": 89.0}, {\"\\ub144\\ub3c4\": \"22\\ub144\", \"\\uc6d4\": \"2\\uc6d4\", \"\\ub9ac\\uc804\": \"KR\", \"AZ\": \"1\\uc13c\\ud130\", \"\\ud14c\\ub10c\\ud2b8\": \"PRD\", \"DBMS\": \"Mongo\", \"count\": 75.0}, {\"\\ub144\\ub3c4\": \"22\\ub144\", \"\\uc6d4\": \"2\\uc6d4\", \"\\ub9ac\\uc804\": \"KR\", \"AZ\": \"2\\uc13c\\ud130\", \"\\ud14c\\ub10c\\ud2b8\": \"PRD\", \"DBMS\": \"PostgreSQL\", \"count\": 0.0}, {\"\\ub144\\ub3c4\": \"22\\ub144\", \"\\uc6d4\": \"2\\uc6d4\", \"\\ub9ac\\uc804\": \"KR\", \"AZ\": \"2\\uc13c\\ud130\", \"\\ud14c\\ub10c\\ud2b8\": \"PRD\", \"DBMS\": \"Tibero\", \"count\": 0.0}, {\"\\ub144\\ub3c4\": \"22\\ub144\", \"\\uc6d4\": \"2\\uc6d4\", \"\\ub9ac\\uc804\": \"KR\", \"AZ\": \"2\\uc13c\\ud130\", \"\\ud14c\\ub10c\\ud2b8\": \"PRD\", \"DBMS\": \"Maria\", \"count\": 0.0}, {\"\\ub144\\ub3c4\": \"22\\ub144\", \"\\uc6d4\": \"2\\uc6d4\", \"\\ub9ac\\uc804\": \"KR\", \"AZ\": \"2\\uc13c\\ud130\", \"\\ud14c\\ub10c\\ud2b8\": \"PRD\", \"DBMS\": \"Redis\", \"count\": 0.0}, {\"\\ub144\\ub3c4\": \"22\\ub144\", \"\\uc6d4\": \"2\\uc6d4\", \"\\ub9ac\\uc804\": \"KR\", \"AZ\": \"2\\uc13c\\ud130\", \"\\ud14c\\ub10c\\ud2b8\": \"PRD\", \"DBMS\": \"Mongo\", \"count\": 0.0}, {\"\\ub144\\ub3c4\": \"22\\ub144\", \"\\uc6d4\": \"3\\uc6d4\", \"\\ub9ac\\uc804\": \"KR\", \"AZ\": \"1\\uc13c\\ud130\", \"\\ud14c\\ub10c\\ud2b8\": \"PRD\", \"DBMS\": \"PostgreSQL\", \"count\": 108.0}, {\"\\ub144\\ub3c4\": \"22\\ub144\", \"\\uc6d4\": \"3\\uc6d4\", \"\\ub9ac\\uc804\": \"KR\", \"AZ\": \"1\\uc13c\\ud130\", \"\\ud14c\\ub10c\\ud2b8\": \"PRD\", \"DBMS\": \"Tibero\", \"count\": 28.0}, {\"\\ub144\\ub3c4\": \"22\\ub144\", \"\\uc6d4\": \"3\\uc6d4\", \"\\ub9ac\\uc804\": \"KR\", \"AZ\": \"1\\uc13c\\ud130\", \"\\ud14c\\ub10c\\ud2b8\": \"PRD\", \"DBMS\": \"Maria\", \"count\": 29.0}, {\"\\ub144\\ub3c4\": \"22\\ub144\", \"\\uc6d4\": \"3\\uc6d4\", \"\\ub9ac\\uc804\": \"KR\", \"AZ\": \"1\\uc13c\\ud130\", \"\\ud14c\\ub10c\\ud2b8\": \"PRD\", \"DBMS\": \"Redis\", \"count\": 89.0}, {\"\\ub144\\ub3c4\": \"22\\ub144\", \"\\uc6d4\": \"3\\uc6d4\", \"\\ub9ac\\uc804\": \"KR\", \"AZ\": \"1\\uc13c\\ud130\", \"\\ud14c\\ub10c\\ud2b8\": \"PRD\", \"DBMS\": \"Mongo\", \"count\": 79.0}, {\"\\ub144\\ub3c4\": \"22\\ub144\", \"\\uc6d4\": \"3\\uc6d4\", \"\\ub9ac\\uc804\": \"KR\", \"AZ\": \"2\\uc13c\\ud130\", \"\\ud14c\\ub10c\\ud2b8\": \"PRD\", \"DBMS\": \"PostgreSQL\", \"count\": 0.0}, {\"\\ub144\\ub3c4\": \"22\\ub144\", \"\\uc6d4\": \"3\\uc6d4\", \"\\ub9ac\\uc804\": \"KR\", \"AZ\": \"2\\uc13c\\ud130\", \"\\ud14c\\ub10c\\ud2b8\": \"PRD\", \"DBMS\": \"Tibero\", \"count\": 0.0}, {\"\\ub144\\ub3c4\": \"22\\ub144\", \"\\uc6d4\": \"3\\uc6d4\", \"\\ub9ac\\uc804\": \"KR\", \"AZ\": \"2\\uc13c\\ud130\", \"\\ud14c\\ub10c\\ud2b8\": \"PRD\", \"DBMS\": \"Maria\", \"count\": 0.0}, {\"\\ub144\\ub3c4\": \"22\\ub144\", \"\\uc6d4\": \"3\\uc6d4\", \"\\ub9ac\\uc804\": \"KR\", \"AZ\": \"2\\uc13c\\ud130\", \"\\ud14c\\ub10c\\ud2b8\": \"PRD\", \"DBMS\": \"Redis\", \"count\": 0.0}, {\"\\ub144\\ub3c4\": \"22\\ub144\", \"\\uc6d4\": \"3\\uc6d4\", \"\\ub9ac\\uc804\": \"KR\", \"AZ\": \"2\\uc13c\\ud130\", \"\\ud14c\\ub10c\\ud2b8\": \"PRD\", \"DBMS\": \"Mongo\", \"count\": 0.0}, {\"\\ub144\\ub3c4\": \"22\\ub144\", \"\\uc6d4\": \"4\\uc6d4\", \"\\ub9ac\\uc804\": \"KR\", \"AZ\": \"1\\uc13c\\ud130\", \"\\ud14c\\ub10c\\ud2b8\": \"PRD\", \"DBMS\": \"PostgreSQL\", \"count\": 120.0}, {\"\\ub144\\ub3c4\": \"22\\ub144\", \"\\uc6d4\": \"4\\uc6d4\", \"\\ub9ac\\uc804\": \"KR\", \"AZ\": \"1\\uc13c\\ud130\", \"\\ud14c\\ub10c\\ud2b8\": \"PRD\", \"DBMS\": \"Tibero\", \"count\": 28.0}, {\"\\ub144\\ub3c4\": \"22\\ub144\", \"\\uc6d4\": \"4\\uc6d4\", \"\\ub9ac\\uc804\": \"KR\", \"AZ\": \"1\\uc13c\\ud130\", \"\\ud14c\\ub10c\\ud2b8\": \"PRD\", \"DBMS\": \"Maria\", \"count\": 25.0}, {\"\\ub144\\ub3c4\": \"22\\ub144\", \"\\uc6d4\": \"4\\uc6d4\", \"\\ub9ac\\uc804\": \"KR\", \"AZ\": \"1\\uc13c\\ud130\", \"\\ud14c\\ub10c\\ud2b8\": \"PRD\", \"DBMS\": \"Redis\", \"count\": 94.0}, {\"\\ub144\\ub3c4\": \"22\\ub144\", \"\\uc6d4\": \"4\\uc6d4\", \"\\ub9ac\\uc804\": \"KR\", \"AZ\": \"1\\uc13c\\ud130\", \"\\ud14c\\ub10c\\ud2b8\": \"PRD\", \"DBMS\": \"Mongo\", \"count\": 76.0}, {\"\\ub144\\ub3c4\": \"22\\ub144\", \"\\uc6d4\": \"4\\uc6d4\", \"\\ub9ac\\uc804\": \"KR\", \"AZ\": \"2\\uc13c\\ud130\", \"\\ud14c\\ub10c\\ud2b8\": \"PRD\", \"DBMS\": \"PostgreSQL\", \"count\": 0.0}, {\"\\ub144\\ub3c4\": \"22\\ub144\", \"\\uc6d4\": \"4\\uc6d4\", \"\\ub9ac\\uc804\": \"KR\", \"AZ\": \"2\\uc13c\\ud130\", \"\\ud14c\\ub10c\\ud2b8\": \"PRD\", \"DBMS\": \"Tibero\", \"count\": 0.0}, {\"\\ub144\\ub3c4\": \"22\\ub144\", \"\\uc6d4\": \"4\\uc6d4\", \"\\ub9ac\\uc804\": \"KR\", \"AZ\": \"2\\uc13c\\ud130\", \"\\ud14c\\ub10c\\ud2b8\": \"PRD\", \"DBMS\": \"Maria\", \"count\": 0.0}, {\"\\ub144\\ub3c4\": \"22\\ub144\", \"\\uc6d4\": \"4\\uc6d4\", \"\\ub9ac\\uc804\": \"KR\", \"AZ\": \"2\\uc13c\\ud130\", \"\\ud14c\\ub10c\\ud2b8\": \"PRD\", \"DBMS\": \"Redis\", \"count\": 0.0}, {\"\\ub144\\ub3c4\": \"22\\ub144\", \"\\uc6d4\": \"4\\uc6d4\", \"\\ub9ac\\uc804\": \"KR\", \"AZ\": \"2\\uc13c\\ud130\", \"\\ud14c\\ub10c\\ud2b8\": \"PRD\", \"DBMS\": \"Mongo\", \"count\": 0.0}, {\"\\ub144\\ub3c4\": \"22\\ub144\", \"\\uc6d4\": \"5\\uc6d4\", \"\\ub9ac\\uc804\": \"KR\", \"AZ\": \"1\\uc13c\\ud130\", \"\\ud14c\\ub10c\\ud2b8\": \"PRD\", \"DBMS\": \"PostgreSQL\", \"count\": 120.0}, {\"\\ub144\\ub3c4\": \"22\\ub144\", \"\\uc6d4\": \"5\\uc6d4\", \"\\ub9ac\\uc804\": \"KR\", \"AZ\": \"1\\uc13c\\ud130\", \"\\ud14c\\ub10c\\ud2b8\": \"PRD\", \"DBMS\": \"Tibero\", \"count\": 30.0}, {\"\\ub144\\ub3c4\": \"22\\ub144\", \"\\uc6d4\": \"5\\uc6d4\", \"\\ub9ac\\uc804\": \"KR\", \"AZ\": \"1\\uc13c\\ud130\", \"\\ud14c\\ub10c\\ud2b8\": \"PRD\", \"DBMS\": \"Maria\", \"count\": 25.0}, {\"\\ub144\\ub3c4\": \"22\\ub144\", \"\\uc6d4\": \"5\\uc6d4\", \"\\ub9ac\\uc804\": \"KR\", \"AZ\": \"1\\uc13c\\ud130\", \"\\ud14c\\ub10c\\ud2b8\": \"PRD\", \"DBMS\": \"Redis\", \"count\": 96.0}, {\"\\ub144\\ub3c4\": \"22\\ub144\", \"\\uc6d4\": \"5\\uc6d4\", \"\\ub9ac\\uc804\": \"KR\", \"AZ\": \"1\\uc13c\\ud130\", \"\\ud14c\\ub10c\\ud2b8\": \"PRD\", \"DBMS\": \"Mongo\", \"count\": 76.0}, {\"\\ub144\\ub3c4\": \"22\\ub144\", \"\\uc6d4\": \"5\\uc6d4\", \"\\ub9ac\\uc804\": \"KR\", \"AZ\": \"2\\uc13c\\ud130\", \"\\ud14c\\ub10c\\ud2b8\": \"PRD\", \"DBMS\": \"PostgreSQL\", \"count\": 4.0}, {\"\\ub144\\ub3c4\": \"22\\ub144\", \"\\uc6d4\": \"5\\uc6d4\", \"\\ub9ac\\uc804\": \"KR\", \"AZ\": \"2\\uc13c\\ud130\", \"\\ud14c\\ub10c\\ud2b8\": \"PRD\", \"DBMS\": \"Tibero\", \"count\": 0.0}, {\"\\ub144\\ub3c4\": \"22\\ub144\", \"\\uc6d4\": \"5\\uc6d4\", \"\\ub9ac\\uc804\": \"KR\", \"AZ\": \"2\\uc13c\\ud130\", \"\\ud14c\\ub10c\\ud2b8\": \"PRD\", \"DBMS\": \"Maria\", \"count\": 3.0}, {\"\\ub144\\ub3c4\": \"22\\ub144\", \"\\uc6d4\": \"5\\uc6d4\", \"\\ub9ac\\uc804\": \"KR\", \"AZ\": \"2\\uc13c\\ud130\", \"\\ud14c\\ub10c\\ud2b8\": \"PRD\", \"DBMS\": \"Redis\", \"count\": 37.0}, {\"\\ub144\\ub3c4\": \"22\\ub144\", \"\\uc6d4\": \"5\\uc6d4\", \"\\ub9ac\\uc804\": \"KR\", \"AZ\": \"2\\uc13c\\ud130\", \"\\ud14c\\ub10c\\ud2b8\": \"PRD\", \"DBMS\": \"Mongo\", \"count\": 3.0}, {\"\\ub144\\ub3c4\": \"22\\ub144\", \"\\uc6d4\": \"6\\uc6d4\", \"\\ub9ac\\uc804\": \"KR\", \"AZ\": \"1\\uc13c\\ud130\", \"\\ud14c\\ub10c\\ud2b8\": \"PRD\", \"DBMS\": \"PostgreSQL\", \"count\": 122.0}, {\"\\ub144\\ub3c4\": \"22\\ub144\", \"\\uc6d4\": \"6\\uc6d4\", \"\\ub9ac\\uc804\": \"KR\", \"AZ\": \"1\\uc13c\\ud130\", \"\\ud14c\\ub10c\\ud2b8\": \"PRD\", \"DBMS\": \"Tibero\", \"count\": 26.0}, {\"\\ub144\\ub3c4\": \"22\\ub144\", \"\\uc6d4\": \"6\\uc6d4\", \"\\ub9ac\\uc804\": \"KR\", \"AZ\": \"1\\uc13c\\ud130\", \"\\ud14c\\ub10c\\ud2b8\": \"PRD\", \"DBMS\": \"Maria\", \"count\": 25.0}, {\"\\ub144\\ub3c4\": \"22\\ub144\", \"\\uc6d4\": \"6\\uc6d4\", \"\\ub9ac\\uc804\": \"KR\", \"AZ\": \"1\\uc13c\\ud130\", \"\\ud14c\\ub10c\\ud2b8\": \"PRD\", \"DBMS\": \"Redis\", \"count\": 108.0}, {\"\\ub144\\ub3c4\": \"22\\ub144\", \"\\uc6d4\": \"6\\uc6d4\", \"\\ub9ac\\uc804\": \"KR\", \"AZ\": \"1\\uc13c\\ud130\", \"\\ud14c\\ub10c\\ud2b8\": \"PRD\", \"DBMS\": \"Mongo\", \"count\": 79.0}, {\"\\ub144\\ub3c4\": \"22\\ub144\", \"\\uc6d4\": \"6\\uc6d4\", \"\\ub9ac\\uc804\": \"KR\", \"AZ\": \"2\\uc13c\\ud130\", \"\\ud14c\\ub10c\\ud2b8\": \"PRD\", \"DBMS\": \"PostgreSQL\", \"count\": 4.0}, {\"\\ub144\\ub3c4\": \"22\\ub144\", \"\\uc6d4\": \"6\\uc6d4\", \"\\ub9ac\\uc804\": \"KR\", \"AZ\": \"2\\uc13c\\ud130\", \"\\ud14c\\ub10c\\ud2b8\": \"PRD\", \"DBMS\": \"Tibero\", \"count\": 0.0}, {\"\\ub144\\ub3c4\": \"22\\ub144\", \"\\uc6d4\": \"6\\uc6d4\", \"\\ub9ac\\uc804\": \"KR\", \"AZ\": \"2\\uc13c\\ud130\", \"\\ud14c\\ub10c\\ud2b8\": \"PRD\", \"DBMS\": \"Maria\", \"count\": 3.0}, {\"\\ub144\\ub3c4\": \"22\\ub144\", \"\\uc6d4\": \"6\\uc6d4\", \"\\ub9ac\\uc804\": \"KR\", \"AZ\": \"2\\uc13c\\ud130\", \"\\ud14c\\ub10c\\ud2b8\": \"PRD\", \"DBMS\": \"Redis\", \"count\": 37.0}, {\"\\ub144\\ub3c4\": \"22\\ub144\", \"\\uc6d4\": \"6\\uc6d4\", \"\\ub9ac\\uc804\": \"KR\", \"AZ\": \"2\\uc13c\\ud130\", \"\\ud14c\\ub10c\\ud2b8\": \"PRD\", \"DBMS\": \"Mongo\", \"count\": 3.0}]}}, {\"mode\": \"vega-lite\"});\n",
       "</script>"
      ],
      "text/plain": [
       "alt.LayerChart(...)"
      ]
     },
     "execution_count": 18,
     "metadata": {},
     "output_type": "execute_result"
    }
   ],
   "source": [
    "regex = '^(KR|Global)'\n",
    "df_filtered = df[df['리전'].apply(lambda x: True if re.search(regex, x) else False) & (df['테넌트']== 'PRD')]\n",
    "source = df_filtered\n",
    "chart = get_lineChart_am(source)\n",
    "chart"
   ]
  },
  {
   "cell_type": "code",
   "execution_count": 19,
   "id": "41ba6309-08de-49c3-b539-acf453c47cec",
   "metadata": {},
   "outputs": [
    {
     "data": {
      "text/plain": [
       "<docx.shape.InlineShape at 0x1b24c6b8e50>"
      ]
     },
     "execution_count": 19,
     "metadata": {},
     "output_type": "execute_result"
    }
   ],
   "source": [
    "chart.save('charts/5.png')\n",
    "document.add_picture('charts/5.png')"
   ]
  },
  {
   "cell_type": "markdown",
   "id": "9df9df46-11f1-420f-bf19-263dd1382aee",
   "metadata": {
    "tags": []
   },
   "source": [
    "### CN"
   ]
  },
  {
   "cell_type": "code",
   "execution_count": 20,
   "id": "10b765ab-de35-49a6-8d38-2d80b4d2028d",
   "metadata": {},
   "outputs": [
    {
     "data": {
      "text/html": [
       "\n",
       "<div id=\"altair-viz-e985e261d08f464cb133a4cc84c2a2d1\"></div>\n",
       "<script type=\"text/javascript\">\n",
       "  var VEGA_DEBUG = (typeof VEGA_DEBUG == \"undefined\") ? {} : VEGA_DEBUG;\n",
       "  (function(spec, embedOpt){\n",
       "    let outputDiv = document.currentScript.previousElementSibling;\n",
       "    if (outputDiv.id !== \"altair-viz-e985e261d08f464cb133a4cc84c2a2d1\") {\n",
       "      outputDiv = document.getElementById(\"altair-viz-e985e261d08f464cb133a4cc84c2a2d1\");\n",
       "    }\n",
       "    const paths = {\n",
       "      \"vega\": \"https://cdn.jsdelivr.net/npm//vega@5?noext\",\n",
       "      \"vega-lib\": \"https://cdn.jsdelivr.net/npm//vega-lib?noext\",\n",
       "      \"vega-lite\": \"https://cdn.jsdelivr.net/npm//vega-lite@4.17.0?noext\",\n",
       "      \"vega-embed\": \"https://cdn.jsdelivr.net/npm//vega-embed@6?noext\",\n",
       "    };\n",
       "\n",
       "    function maybeLoadScript(lib, version) {\n",
       "      var key = `${lib.replace(\"-\", \"\")}_version`;\n",
       "      return (VEGA_DEBUG[key] == version) ?\n",
       "        Promise.resolve(paths[lib]) :\n",
       "        new Promise(function(resolve, reject) {\n",
       "          var s = document.createElement('script');\n",
       "          document.getElementsByTagName(\"head\")[0].appendChild(s);\n",
       "          s.async = true;\n",
       "          s.onload = () => {\n",
       "            VEGA_DEBUG[key] = version;\n",
       "            return resolve(paths[lib]);\n",
       "          };\n",
       "          s.onerror = () => reject(`Error loading script: ${paths[lib]}`);\n",
       "          s.src = paths[lib];\n",
       "        });\n",
       "    }\n",
       "\n",
       "    function showError(err) {\n",
       "      outputDiv.innerHTML = `<div class=\"error\" style=\"color:red;\">${err}</div>`;\n",
       "      throw err;\n",
       "    }\n",
       "\n",
       "    function displayChart(vegaEmbed) {\n",
       "      vegaEmbed(outputDiv, spec, embedOpt)\n",
       "        .catch(err => showError(`Javascript Error: ${err.message}<br>This usually means there's a typo in your chart specification. See the javascript console for the full traceback.`));\n",
       "    }\n",
       "\n",
       "    if(typeof define === \"function\" && define.amd) {\n",
       "      requirejs.config({paths});\n",
       "      require([\"vega-embed\"], displayChart, err => showError(`Error loading script: ${err.message}`));\n",
       "    } else {\n",
       "      maybeLoadScript(\"vega\", \"5\")\n",
       "        .then(() => maybeLoadScript(\"vega-lite\", \"4.17.0\"))\n",
       "        .then(() => maybeLoadScript(\"vega-embed\", \"6\"))\n",
       "        .catch(showError)\n",
       "        .then(() => displayChart(vegaEmbed));\n",
       "    }\n",
       "  })({\"config\": {\"view\": {\"continuousWidth\": 400, \"continuousHeight\": 300}}, \"layer\": [{\"mark\": \"point\", \"encoding\": {\"x\": {\"field\": \"\\uc6d4\", \"type\": \"nominal\"}, \"y\": {\"aggregate\": \"sum\", \"field\": \"count\", \"type\": \"quantitative\"}}}, {\"mark\": {\"type\": \"line\", \"color\": \"red\"}, \"encoding\": {\"x\": {\"field\": \"\\uc6d4\", \"type\": \"nominal\"}, \"y\": {\"aggregate\": \"sum\", \"field\": \"count\", \"title\": \"\", \"type\": \"quantitative\"}}}, {\"mark\": {\"type\": \"text\", \"align\": \"center\", \"baseline\": \"line-top\", \"color\": \"black\", \"dy\": -20, \"fontSize\": 12, \"size\": 12}, \"encoding\": {\"text\": {\"aggregate\": \"sum\", \"field\": \"count\", \"type\": \"quantitative\"}, \"x\": {\"field\": \"\\uc6d4\", \"type\": \"nominal\"}, \"y\": {\"aggregate\": \"sum\", \"field\": \"count\", \"type\": \"quantitative\"}}}], \"data\": {\"name\": \"data-974d752118c60c03ec9c379cfc20b1e0\"}, \"height\": 200, \"width\": 400, \"$schema\": \"https://vega.github.io/schema/vega-lite/v4.17.0.json\", \"datasets\": {\"data-974d752118c60c03ec9c379cfc20b1e0\": [{\"\\ub144\\ub3c4\": \"22\\ub144\", \"\\uc6d4\": \"1\\uc6d4\", \"\\ub9ac\\uc804\": \"CN\", \"AZ\": \"1\\uc13c\\ud130\", \"\\ud14c\\ub10c\\ud2b8\": \"PRD\", \"DBMS\": \"PostgreSQL\", \"count\": 9.0}, {\"\\ub144\\ub3c4\": \"22\\ub144\", \"\\uc6d4\": \"1\\uc6d4\", \"\\ub9ac\\uc804\": \"CN\", \"AZ\": \"1\\uc13c\\ud130\", \"\\ud14c\\ub10c\\ud2b8\": \"PRD\", \"DBMS\": \"Tibero\", \"count\": 12.0}, {\"\\ub144\\ub3c4\": \"22\\ub144\", \"\\uc6d4\": \"1\\uc6d4\", \"\\ub9ac\\uc804\": \"CN\", \"AZ\": \"1\\uc13c\\ud130\", \"\\ud14c\\ub10c\\ud2b8\": \"PRD\", \"DBMS\": \"Maria\", \"count\": 0.0}, {\"\\ub144\\ub3c4\": \"22\\ub144\", \"\\uc6d4\": \"1\\uc6d4\", \"\\ub9ac\\uc804\": \"CN\", \"AZ\": \"1\\uc13c\\ud130\", \"\\ud14c\\ub10c\\ud2b8\": \"PRD\", \"DBMS\": \"Redis\", \"count\": 12.0}, {\"\\ub144\\ub3c4\": \"22\\ub144\", \"\\uc6d4\": \"1\\uc6d4\", \"\\ub9ac\\uc804\": \"CN\", \"AZ\": \"1\\uc13c\\ud130\", \"\\ud14c\\ub10c\\ud2b8\": \"PRD\", \"DBMS\": \"Mongo\", \"count\": 4.0}, {\"\\ub144\\ub3c4\": \"22\\ub144\", \"\\uc6d4\": \"2\\uc6d4\", \"\\ub9ac\\uc804\": \"CN\", \"AZ\": \"1\\uc13c\\ud130\", \"\\ud14c\\ub10c\\ud2b8\": \"PRD\", \"DBMS\": \"PostgreSQL\", \"count\": 9.0}, {\"\\ub144\\ub3c4\": \"22\\ub144\", \"\\uc6d4\": \"2\\uc6d4\", \"\\ub9ac\\uc804\": \"CN\", \"AZ\": \"1\\uc13c\\ud130\", \"\\ud14c\\ub10c\\ud2b8\": \"PRD\", \"DBMS\": \"Tibero\", \"count\": 12.0}, {\"\\ub144\\ub3c4\": \"22\\ub144\", \"\\uc6d4\": \"2\\uc6d4\", \"\\ub9ac\\uc804\": \"CN\", \"AZ\": \"1\\uc13c\\ud130\", \"\\ud14c\\ub10c\\ud2b8\": \"PRD\", \"DBMS\": \"Maria\", \"count\": 0.0}, {\"\\ub144\\ub3c4\": \"22\\ub144\", \"\\uc6d4\": \"2\\uc6d4\", \"\\ub9ac\\uc804\": \"CN\", \"AZ\": \"1\\uc13c\\ud130\", \"\\ud14c\\ub10c\\ud2b8\": \"PRD\", \"DBMS\": \"Redis\", \"count\": 12.0}, {\"\\ub144\\ub3c4\": \"22\\ub144\", \"\\uc6d4\": \"2\\uc6d4\", \"\\ub9ac\\uc804\": \"CN\", \"AZ\": \"1\\uc13c\\ud130\", \"\\ud14c\\ub10c\\ud2b8\": \"PRD\", \"DBMS\": \"Mongo\", \"count\": 4.0}, {\"\\ub144\\ub3c4\": \"22\\ub144\", \"\\uc6d4\": \"3\\uc6d4\", \"\\ub9ac\\uc804\": \"CN\", \"AZ\": \"1\\uc13c\\ud130\", \"\\ud14c\\ub10c\\ud2b8\": \"PRD\", \"DBMS\": \"PostgreSQL\", \"count\": 9.0}, {\"\\ub144\\ub3c4\": \"22\\ub144\", \"\\uc6d4\": \"3\\uc6d4\", \"\\ub9ac\\uc804\": \"CN\", \"AZ\": \"1\\uc13c\\ud130\", \"\\ud14c\\ub10c\\ud2b8\": \"PRD\", \"DBMS\": \"Tibero\", \"count\": 14.0}, {\"\\ub144\\ub3c4\": \"22\\ub144\", \"\\uc6d4\": \"3\\uc6d4\", \"\\ub9ac\\uc804\": \"CN\", \"AZ\": \"1\\uc13c\\ud130\", \"\\ud14c\\ub10c\\ud2b8\": \"PRD\", \"DBMS\": \"Maria\", \"count\": 0.0}, {\"\\ub144\\ub3c4\": \"22\\ub144\", \"\\uc6d4\": \"3\\uc6d4\", \"\\ub9ac\\uc804\": \"CN\", \"AZ\": \"1\\uc13c\\ud130\", \"\\ud14c\\ub10c\\ud2b8\": \"PRD\", \"DBMS\": \"Redis\", \"count\": 12.0}, {\"\\ub144\\ub3c4\": \"22\\ub144\", \"\\uc6d4\": \"3\\uc6d4\", \"\\ub9ac\\uc804\": \"CN\", \"AZ\": \"1\\uc13c\\ud130\", \"\\ud14c\\ub10c\\ud2b8\": \"PRD\", \"DBMS\": \"Mongo\", \"count\": 5.0}, {\"\\ub144\\ub3c4\": \"22\\ub144\", \"\\uc6d4\": \"4\\uc6d4\", \"\\ub9ac\\uc804\": \"CN\", \"AZ\": \"1\\uc13c\\ud130\", \"\\ud14c\\ub10c\\ud2b8\": \"PRD\", \"DBMS\": \"PostgreSQL\", \"count\": 10.0}, {\"\\ub144\\ub3c4\": \"22\\ub144\", \"\\uc6d4\": \"4\\uc6d4\", \"\\ub9ac\\uc804\": \"CN\", \"AZ\": \"1\\uc13c\\ud130\", \"\\ud14c\\ub10c\\ud2b8\": \"PRD\", \"DBMS\": \"Tibero\", \"count\": 14.0}, {\"\\ub144\\ub3c4\": \"22\\ub144\", \"\\uc6d4\": \"4\\uc6d4\", \"\\ub9ac\\uc804\": \"CN\", \"AZ\": \"1\\uc13c\\ud130\", \"\\ud14c\\ub10c\\ud2b8\": \"PRD\", \"DBMS\": \"Maria\", \"count\": 0.0}, {\"\\ub144\\ub3c4\": \"22\\ub144\", \"\\uc6d4\": \"4\\uc6d4\", \"\\ub9ac\\uc804\": \"CN\", \"AZ\": \"1\\uc13c\\ud130\", \"\\ud14c\\ub10c\\ud2b8\": \"PRD\", \"DBMS\": \"Redis\", \"count\": 14.0}, {\"\\ub144\\ub3c4\": \"22\\ub144\", \"\\uc6d4\": \"4\\uc6d4\", \"\\ub9ac\\uc804\": \"CN\", \"AZ\": \"1\\uc13c\\ud130\", \"\\ud14c\\ub10c\\ud2b8\": \"PRD\", \"DBMS\": \"Mongo\", \"count\": 5.0}, {\"\\ub144\\ub3c4\": \"22\\ub144\", \"\\uc6d4\": \"5\\uc6d4\", \"\\ub9ac\\uc804\": \"CN\", \"AZ\": \"1\\uc13c\\ud130\", \"\\ud14c\\ub10c\\ud2b8\": \"PRD\", \"DBMS\": \"PostgreSQL\", \"count\": 10.0}, {\"\\ub144\\ub3c4\": \"22\\ub144\", \"\\uc6d4\": \"5\\uc6d4\", \"\\ub9ac\\uc804\": \"CN\", \"AZ\": \"1\\uc13c\\ud130\", \"\\ud14c\\ub10c\\ud2b8\": \"PRD\", \"DBMS\": \"Tibero\", \"count\": 15.0}, {\"\\ub144\\ub3c4\": \"22\\ub144\", \"\\uc6d4\": \"5\\uc6d4\", \"\\ub9ac\\uc804\": \"CN\", \"AZ\": \"1\\uc13c\\ud130\", \"\\ud14c\\ub10c\\ud2b8\": \"PRD\", \"DBMS\": \"Maria\", \"count\": 0.0}, {\"\\ub144\\ub3c4\": \"22\\ub144\", \"\\uc6d4\": \"5\\uc6d4\", \"\\ub9ac\\uc804\": \"CN\", \"AZ\": \"1\\uc13c\\ud130\", \"\\ud14c\\ub10c\\ud2b8\": \"PRD\", \"DBMS\": \"Redis\", \"count\": 14.0}, {\"\\ub144\\ub3c4\": \"22\\ub144\", \"\\uc6d4\": \"5\\uc6d4\", \"\\ub9ac\\uc804\": \"CN\", \"AZ\": \"1\\uc13c\\ud130\", \"\\ud14c\\ub10c\\ud2b8\": \"PRD\", \"DBMS\": \"Mongo\", \"count\": 5.0}, {\"\\ub144\\ub3c4\": \"22\\ub144\", \"\\uc6d4\": \"6\\uc6d4\", \"\\ub9ac\\uc804\": \"CN\", \"AZ\": \"1\\uc13c\\ud130\", \"\\ud14c\\ub10c\\ud2b8\": \"PRD\", \"DBMS\": \"PostgreSQL\", \"count\": 10.0}, {\"\\ub144\\ub3c4\": \"22\\ub144\", \"\\uc6d4\": \"6\\uc6d4\", \"\\ub9ac\\uc804\": \"CN\", \"AZ\": \"1\\uc13c\\ud130\", \"\\ud14c\\ub10c\\ud2b8\": \"PRD\", \"DBMS\": \"Tibero\", \"count\": 14.0}, {\"\\ub144\\ub3c4\": \"22\\ub144\", \"\\uc6d4\": \"6\\uc6d4\", \"\\ub9ac\\uc804\": \"CN\", \"AZ\": \"1\\uc13c\\ud130\", \"\\ud14c\\ub10c\\ud2b8\": \"PRD\", \"DBMS\": \"Maria\", \"count\": 0.0}, {\"\\ub144\\ub3c4\": \"22\\ub144\", \"\\uc6d4\": \"6\\uc6d4\", \"\\ub9ac\\uc804\": \"CN\", \"AZ\": \"1\\uc13c\\ud130\", \"\\ud14c\\ub10c\\ud2b8\": \"PRD\", \"DBMS\": \"Redis\", \"count\": 14.0}, {\"\\ub144\\ub3c4\": \"22\\ub144\", \"\\uc6d4\": \"6\\uc6d4\", \"\\ub9ac\\uc804\": \"CN\", \"AZ\": \"1\\uc13c\\ud130\", \"\\ud14c\\ub10c\\ud2b8\": \"PRD\", \"DBMS\": \"Mongo\", \"count\": 5.0}]}}, {\"mode\": \"vega-lite\"});\n",
       "</script>"
      ],
      "text/plain": [
       "alt.LayerChart(...)"
      ]
     },
     "execution_count": 20,
     "metadata": {},
     "output_type": "execute_result"
    }
   ],
   "source": [
    "regex = '^(CN|Global)'\n",
    "df_filtered = df[df['리전'].apply(lambda x: True if re.search(regex, x) else False) & (df['테넌트']== 'PRD')]\n",
    "source = df_filtered\n",
    "chart = get_lineChart_am(source)\n",
    "chart"
   ]
  },
  {
   "cell_type": "code",
   "execution_count": 21,
   "id": "a1ec11a0-263f-4cb1-9dbc-4e7b5b47fa0c",
   "metadata": {},
   "outputs": [
    {
     "data": {
      "text/plain": [
       "<docx.shape.InlineShape at 0x1b24c6d4160>"
      ]
     },
     "execution_count": 21,
     "metadata": {},
     "output_type": "execute_result"
    }
   ],
   "source": [
    "chart.save('charts/6.png')\n",
    "document.add_picture('charts/6.png')"
   ]
  },
  {
   "cell_type": "markdown",
   "id": "abc348c1-c722-4895-bdb0-838a6ea56c32",
   "metadata": {
    "tags": []
   },
   "source": [
    "### NA"
   ]
  },
  {
   "cell_type": "code",
   "execution_count": 22,
   "id": "40342c37-9c29-49dc-a40f-74b2608899b3",
   "metadata": {},
   "outputs": [
    {
     "data": {
      "text/html": [
       "\n",
       "<div id=\"altair-viz-f9ff654e5d464d0d88b079d0d217bded\"></div>\n",
       "<script type=\"text/javascript\">\n",
       "  var VEGA_DEBUG = (typeof VEGA_DEBUG == \"undefined\") ? {} : VEGA_DEBUG;\n",
       "  (function(spec, embedOpt){\n",
       "    let outputDiv = document.currentScript.previousElementSibling;\n",
       "    if (outputDiv.id !== \"altair-viz-f9ff654e5d464d0d88b079d0d217bded\") {\n",
       "      outputDiv = document.getElementById(\"altair-viz-f9ff654e5d464d0d88b079d0d217bded\");\n",
       "    }\n",
       "    const paths = {\n",
       "      \"vega\": \"https://cdn.jsdelivr.net/npm//vega@5?noext\",\n",
       "      \"vega-lib\": \"https://cdn.jsdelivr.net/npm//vega-lib?noext\",\n",
       "      \"vega-lite\": \"https://cdn.jsdelivr.net/npm//vega-lite@4.17.0?noext\",\n",
       "      \"vega-embed\": \"https://cdn.jsdelivr.net/npm//vega-embed@6?noext\",\n",
       "    };\n",
       "\n",
       "    function maybeLoadScript(lib, version) {\n",
       "      var key = `${lib.replace(\"-\", \"\")}_version`;\n",
       "      return (VEGA_DEBUG[key] == version) ?\n",
       "        Promise.resolve(paths[lib]) :\n",
       "        new Promise(function(resolve, reject) {\n",
       "          var s = document.createElement('script');\n",
       "          document.getElementsByTagName(\"head\")[0].appendChild(s);\n",
       "          s.async = true;\n",
       "          s.onload = () => {\n",
       "            VEGA_DEBUG[key] = version;\n",
       "            return resolve(paths[lib]);\n",
       "          };\n",
       "          s.onerror = () => reject(`Error loading script: ${paths[lib]}`);\n",
       "          s.src = paths[lib];\n",
       "        });\n",
       "    }\n",
       "\n",
       "    function showError(err) {\n",
       "      outputDiv.innerHTML = `<div class=\"error\" style=\"color:red;\">${err}</div>`;\n",
       "      throw err;\n",
       "    }\n",
       "\n",
       "    function displayChart(vegaEmbed) {\n",
       "      vegaEmbed(outputDiv, spec, embedOpt)\n",
       "        .catch(err => showError(`Javascript Error: ${err.message}<br>This usually means there's a typo in your chart specification. See the javascript console for the full traceback.`));\n",
       "    }\n",
       "\n",
       "    if(typeof define === \"function\" && define.amd) {\n",
       "      requirejs.config({paths});\n",
       "      require([\"vega-embed\"], displayChart, err => showError(`Error loading script: ${err.message}`));\n",
       "    } else {\n",
       "      maybeLoadScript(\"vega\", \"5\")\n",
       "        .then(() => maybeLoadScript(\"vega-lite\", \"4.17.0\"))\n",
       "        .then(() => maybeLoadScript(\"vega-embed\", \"6\"))\n",
       "        .catch(showError)\n",
       "        .then(() => displayChart(vegaEmbed));\n",
       "    }\n",
       "  })({\"config\": {\"view\": {\"continuousWidth\": 400, \"continuousHeight\": 300}}, \"layer\": [{\"mark\": \"point\", \"encoding\": {\"x\": {\"field\": \"\\uc6d4\", \"type\": \"nominal\"}, \"y\": {\"aggregate\": \"sum\", \"field\": \"count\", \"type\": \"quantitative\"}}}, {\"mark\": {\"type\": \"line\", \"color\": \"red\"}, \"encoding\": {\"x\": {\"field\": \"\\uc6d4\", \"type\": \"nominal\"}, \"y\": {\"aggregate\": \"sum\", \"field\": \"count\", \"title\": \"\", \"type\": \"quantitative\"}}}, {\"mark\": {\"type\": \"text\", \"align\": \"center\", \"baseline\": \"line-top\", \"color\": \"black\", \"dy\": -20, \"fontSize\": 12, \"size\": 12}, \"encoding\": {\"text\": {\"aggregate\": \"sum\", \"field\": \"count\", \"type\": \"quantitative\"}, \"x\": {\"field\": \"\\uc6d4\", \"type\": \"nominal\"}, \"y\": {\"aggregate\": \"sum\", \"field\": \"count\", \"type\": \"quantitative\"}}}], \"data\": {\"name\": \"data-23fbaec80e44e22f5c99c87e488a18e7\"}, \"height\": 200, \"width\": 400, \"$schema\": \"https://vega.github.io/schema/vega-lite/v4.17.0.json\", \"datasets\": {\"data-23fbaec80e44e22f5c99c87e488a18e7\": [{\"\\ub144\\ub3c4\": \"22\\ub144\", \"\\uc6d4\": \"1\\uc6d4\", \"\\ub9ac\\uc804\": \"NA\", \"AZ\": \"1\\uc13c\\ud130\", \"\\ud14c\\ub10c\\ud2b8\": \"PRD\", \"DBMS\": \"PostgreSQL\", \"count\": 4.0}, {\"\\ub144\\ub3c4\": \"22\\ub144\", \"\\uc6d4\": \"1\\uc6d4\", \"\\ub9ac\\uc804\": \"NA\", \"AZ\": \"1\\uc13c\\ud130\", \"\\ud14c\\ub10c\\ud2b8\": \"PRD\", \"DBMS\": \"Tibero\", \"count\": 12.0}, {\"\\ub144\\ub3c4\": \"22\\ub144\", \"\\uc6d4\": \"1\\uc6d4\", \"\\ub9ac\\uc804\": \"NA\", \"AZ\": \"1\\uc13c\\ud130\", \"\\ud14c\\ub10c\\ud2b8\": \"PRD\", \"DBMS\": \"Maria\", \"count\": 0.0}, {\"\\ub144\\ub3c4\": \"22\\ub144\", \"\\uc6d4\": \"1\\uc6d4\", \"\\ub9ac\\uc804\": \"NA\", \"AZ\": \"1\\uc13c\\ud130\", \"\\ud14c\\ub10c\\ud2b8\": \"PRD\", \"DBMS\": \"Redis\", \"count\": 3.0}, {\"\\ub144\\ub3c4\": \"22\\ub144\", \"\\uc6d4\": \"1\\uc6d4\", \"\\ub9ac\\uc804\": \"NA\", \"AZ\": \"1\\uc13c\\ud130\", \"\\ud14c\\ub10c\\ud2b8\": \"PRD\", \"DBMS\": \"Mongo\", \"count\": 3.0}, {\"\\ub144\\ub3c4\": \"22\\ub144\", \"\\uc6d4\": \"2\\uc6d4\", \"\\ub9ac\\uc804\": \"NA\", \"AZ\": \"1\\uc13c\\ud130\", \"\\ud14c\\ub10c\\ud2b8\": \"PRD\", \"DBMS\": \"PostgreSQL\", \"count\": 4.0}, {\"\\ub144\\ub3c4\": \"22\\ub144\", \"\\uc6d4\": \"2\\uc6d4\", \"\\ub9ac\\uc804\": \"NA\", \"AZ\": \"1\\uc13c\\ud130\", \"\\ud14c\\ub10c\\ud2b8\": \"PRD\", \"DBMS\": \"Tibero\", \"count\": 12.0}, {\"\\ub144\\ub3c4\": \"22\\ub144\", \"\\uc6d4\": \"2\\uc6d4\", \"\\ub9ac\\uc804\": \"NA\", \"AZ\": \"1\\uc13c\\ud130\", \"\\ud14c\\ub10c\\ud2b8\": \"PRD\", \"DBMS\": \"Maria\", \"count\": 0.0}, {\"\\ub144\\ub3c4\": \"22\\ub144\", \"\\uc6d4\": \"2\\uc6d4\", \"\\ub9ac\\uc804\": \"NA\", \"AZ\": \"1\\uc13c\\ud130\", \"\\ud14c\\ub10c\\ud2b8\": \"PRD\", \"DBMS\": \"Redis\", \"count\": 3.0}, {\"\\ub144\\ub3c4\": \"22\\ub144\", \"\\uc6d4\": \"2\\uc6d4\", \"\\ub9ac\\uc804\": \"NA\", \"AZ\": \"1\\uc13c\\ud130\", \"\\ud14c\\ub10c\\ud2b8\": \"PRD\", \"DBMS\": \"Mongo\", \"count\": 3.0}, {\"\\ub144\\ub3c4\": \"22\\ub144\", \"\\uc6d4\": \"3\\uc6d4\", \"\\ub9ac\\uc804\": \"NA\", \"AZ\": \"1\\uc13c\\ud130\", \"\\ud14c\\ub10c\\ud2b8\": \"PRD\", \"DBMS\": \"PostgreSQL\", \"count\": 4.0}, {\"\\ub144\\ub3c4\": \"22\\ub144\", \"\\uc6d4\": \"3\\uc6d4\", \"\\ub9ac\\uc804\": \"NA\", \"AZ\": \"1\\uc13c\\ud130\", \"\\ud14c\\ub10c\\ud2b8\": \"PRD\", \"DBMS\": \"Tibero\", \"count\": 12.0}, {\"\\ub144\\ub3c4\": \"22\\ub144\", \"\\uc6d4\": \"3\\uc6d4\", \"\\ub9ac\\uc804\": \"NA\", \"AZ\": \"1\\uc13c\\ud130\", \"\\ud14c\\ub10c\\ud2b8\": \"PRD\", \"DBMS\": \"Maria\", \"count\": 0.0}, {\"\\ub144\\ub3c4\": \"22\\ub144\", \"\\uc6d4\": \"3\\uc6d4\", \"\\ub9ac\\uc804\": \"NA\", \"AZ\": \"1\\uc13c\\ud130\", \"\\ud14c\\ub10c\\ud2b8\": \"PRD\", \"DBMS\": \"Redis\", \"count\": 6.0}, {\"\\ub144\\ub3c4\": \"22\\ub144\", \"\\uc6d4\": \"3\\uc6d4\", \"\\ub9ac\\uc804\": \"NA\", \"AZ\": \"1\\uc13c\\ud130\", \"\\ud14c\\ub10c\\ud2b8\": \"PRD\", \"DBMS\": \"Mongo\", \"count\": 3.0}, {\"\\ub144\\ub3c4\": \"22\\ub144\", \"\\uc6d4\": \"4\\uc6d4\", \"\\ub9ac\\uc804\": \"NA\", \"AZ\": \"1\\uc13c\\ud130\", \"\\ud14c\\ub10c\\ud2b8\": \"PRD\", \"DBMS\": \"PostgreSQL\", \"count\": 5.0}, {\"\\ub144\\ub3c4\": \"22\\ub144\", \"\\uc6d4\": \"4\\uc6d4\", \"\\ub9ac\\uc804\": \"NA\", \"AZ\": \"1\\uc13c\\ud130\", \"\\ud14c\\ub10c\\ud2b8\": \"PRD\", \"DBMS\": \"Tibero\", \"count\": 13.0}, {\"\\ub144\\ub3c4\": \"22\\ub144\", \"\\uc6d4\": \"4\\uc6d4\", \"\\ub9ac\\uc804\": \"NA\", \"AZ\": \"1\\uc13c\\ud130\", \"\\ud14c\\ub10c\\ud2b8\": \"PRD\", \"DBMS\": \"Maria\", \"count\": 0.0}, {\"\\ub144\\ub3c4\": \"22\\ub144\", \"\\uc6d4\": \"4\\uc6d4\", \"\\ub9ac\\uc804\": \"NA\", \"AZ\": \"1\\uc13c\\ud130\", \"\\ud14c\\ub10c\\ud2b8\": \"PRD\", \"DBMS\": \"Redis\", \"count\": 10.0}, {\"\\ub144\\ub3c4\": \"22\\ub144\", \"\\uc6d4\": \"4\\uc6d4\", \"\\ub9ac\\uc804\": \"NA\", \"AZ\": \"1\\uc13c\\ud130\", \"\\ud14c\\ub10c\\ud2b8\": \"PRD\", \"DBMS\": \"Mongo\", \"count\": 6.0}, {\"\\ub144\\ub3c4\": \"22\\ub144\", \"\\uc6d4\": \"5\\uc6d4\", \"\\ub9ac\\uc804\": \"NA\", \"AZ\": \"1\\uc13c\\ud130\", \"\\ud14c\\ub10c\\ud2b8\": \"PRD\", \"DBMS\": \"PostgreSQL\", \"count\": 7.0}, {\"\\ub144\\ub3c4\": \"22\\ub144\", \"\\uc6d4\": \"5\\uc6d4\", \"\\ub9ac\\uc804\": \"NA\", \"AZ\": \"1\\uc13c\\ud130\", \"\\ud14c\\ub10c\\ud2b8\": \"PRD\", \"DBMS\": \"Tibero\", \"count\": 14.0}, {\"\\ub144\\ub3c4\": \"22\\ub144\", \"\\uc6d4\": \"5\\uc6d4\", \"\\ub9ac\\uc804\": \"NA\", \"AZ\": \"1\\uc13c\\ud130\", \"\\ud14c\\ub10c\\ud2b8\": \"PRD\", \"DBMS\": \"Maria\", \"count\": 0.0}, {\"\\ub144\\ub3c4\": \"22\\ub144\", \"\\uc6d4\": \"5\\uc6d4\", \"\\ub9ac\\uc804\": \"NA\", \"AZ\": \"1\\uc13c\\ud130\", \"\\ud14c\\ub10c\\ud2b8\": \"PRD\", \"DBMS\": \"Redis\", \"count\": 10.0}, {\"\\ub144\\ub3c4\": \"22\\ub144\", \"\\uc6d4\": \"5\\uc6d4\", \"\\ub9ac\\uc804\": \"NA\", \"AZ\": \"1\\uc13c\\ud130\", \"\\ud14c\\ub10c\\ud2b8\": \"PRD\", \"DBMS\": \"Mongo\", \"count\": 6.0}, {\"\\ub144\\ub3c4\": \"22\\ub144\", \"\\uc6d4\": \"6\\uc6d4\", \"\\ub9ac\\uc804\": \"NA\", \"AZ\": \"1\\uc13c\\ud130\", \"\\ud14c\\ub10c\\ud2b8\": \"PRD\", \"DBMS\": \"PostgreSQL\", \"count\": 7.0}, {\"\\ub144\\ub3c4\": \"22\\ub144\", \"\\uc6d4\": \"6\\uc6d4\", \"\\ub9ac\\uc804\": \"NA\", \"AZ\": \"1\\uc13c\\ud130\", \"\\ud14c\\ub10c\\ud2b8\": \"PRD\", \"DBMS\": \"Tibero\", \"count\": 18.0}, {\"\\ub144\\ub3c4\": \"22\\ub144\", \"\\uc6d4\": \"6\\uc6d4\", \"\\ub9ac\\uc804\": \"NA\", \"AZ\": \"1\\uc13c\\ud130\", \"\\ud14c\\ub10c\\ud2b8\": \"PRD\", \"DBMS\": \"Maria\", \"count\": 0.0}, {\"\\ub144\\ub3c4\": \"22\\ub144\", \"\\uc6d4\": \"6\\uc6d4\", \"\\ub9ac\\uc804\": \"NA\", \"AZ\": \"1\\uc13c\\ud130\", \"\\ud14c\\ub10c\\ud2b8\": \"PRD\", \"DBMS\": \"Redis\", \"count\": 10.0}, {\"\\ub144\\ub3c4\": \"22\\ub144\", \"\\uc6d4\": \"6\\uc6d4\", \"\\ub9ac\\uc804\": \"NA\", \"AZ\": \"1\\uc13c\\ud130\", \"\\ud14c\\ub10c\\ud2b8\": \"PRD\", \"DBMS\": \"Mongo\", \"count\": 6.0}]}}, {\"mode\": \"vega-lite\"});\n",
       "</script>"
      ],
      "text/plain": [
       "alt.LayerChart(...)"
      ]
     },
     "execution_count": 22,
     "metadata": {},
     "output_type": "execute_result"
    }
   ],
   "source": [
    "regex = '^(NA|Global)'\n",
    "df_filtered = df[df['리전'].apply(lambda x: True if re.search(regex, x) else False) & (df['테넌트']== 'PRD')]\n",
    "source = df_filtered\n",
    "chart = get_lineChart_am(source)\n",
    "chart"
   ]
  },
  {
   "cell_type": "code",
   "execution_count": 23,
   "id": "bf525032-fee4-42dc-bb06-d0440335a530",
   "metadata": {},
   "outputs": [
    {
     "data": {
      "text/plain": [
       "<docx.shape.InlineShape at 0x1b24c6abd60>"
      ]
     },
     "execution_count": 23,
     "metadata": {},
     "output_type": "execute_result"
    }
   ],
   "source": [
    "chart.save('charts/7.png')\n",
    "document.add_picture('charts/7.png')"
   ]
  },
  {
   "cell_type": "markdown",
   "id": "ebc48621-0b9b-4ac7-b5c5-ae2dc1e09760",
   "metadata": {
    "tags": []
   },
   "source": [
    "### EU"
   ]
  },
  {
   "cell_type": "code",
   "execution_count": 24,
   "id": "1ac11050-1fee-4169-a4cb-c23089e8c6e2",
   "metadata": {},
   "outputs": [
    {
     "data": {
      "text/html": [
       "\n",
       "<div id=\"altair-viz-82a0ef1715e345d6bbcdeb6b9b5d90e4\"></div>\n",
       "<script type=\"text/javascript\">\n",
       "  var VEGA_DEBUG = (typeof VEGA_DEBUG == \"undefined\") ? {} : VEGA_DEBUG;\n",
       "  (function(spec, embedOpt){\n",
       "    let outputDiv = document.currentScript.previousElementSibling;\n",
       "    if (outputDiv.id !== \"altair-viz-82a0ef1715e345d6bbcdeb6b9b5d90e4\") {\n",
       "      outputDiv = document.getElementById(\"altair-viz-82a0ef1715e345d6bbcdeb6b9b5d90e4\");\n",
       "    }\n",
       "    const paths = {\n",
       "      \"vega\": \"https://cdn.jsdelivr.net/npm//vega@5?noext\",\n",
       "      \"vega-lib\": \"https://cdn.jsdelivr.net/npm//vega-lib?noext\",\n",
       "      \"vega-lite\": \"https://cdn.jsdelivr.net/npm//vega-lite@4.17.0?noext\",\n",
       "      \"vega-embed\": \"https://cdn.jsdelivr.net/npm//vega-embed@6?noext\",\n",
       "    };\n",
       "\n",
       "    function maybeLoadScript(lib, version) {\n",
       "      var key = `${lib.replace(\"-\", \"\")}_version`;\n",
       "      return (VEGA_DEBUG[key] == version) ?\n",
       "        Promise.resolve(paths[lib]) :\n",
       "        new Promise(function(resolve, reject) {\n",
       "          var s = document.createElement('script');\n",
       "          document.getElementsByTagName(\"head\")[0].appendChild(s);\n",
       "          s.async = true;\n",
       "          s.onload = () => {\n",
       "            VEGA_DEBUG[key] = version;\n",
       "            return resolve(paths[lib]);\n",
       "          };\n",
       "          s.onerror = () => reject(`Error loading script: ${paths[lib]}`);\n",
       "          s.src = paths[lib];\n",
       "        });\n",
       "    }\n",
       "\n",
       "    function showError(err) {\n",
       "      outputDiv.innerHTML = `<div class=\"error\" style=\"color:red;\">${err}</div>`;\n",
       "      throw err;\n",
       "    }\n",
       "\n",
       "    function displayChart(vegaEmbed) {\n",
       "      vegaEmbed(outputDiv, spec, embedOpt)\n",
       "        .catch(err => showError(`Javascript Error: ${err.message}<br>This usually means there's a typo in your chart specification. See the javascript console for the full traceback.`));\n",
       "    }\n",
       "\n",
       "    if(typeof define === \"function\" && define.amd) {\n",
       "      requirejs.config({paths});\n",
       "      require([\"vega-embed\"], displayChart, err => showError(`Error loading script: ${err.message}`));\n",
       "    } else {\n",
       "      maybeLoadScript(\"vega\", \"5\")\n",
       "        .then(() => maybeLoadScript(\"vega-lite\", \"4.17.0\"))\n",
       "        .then(() => maybeLoadScript(\"vega-embed\", \"6\"))\n",
       "        .catch(showError)\n",
       "        .then(() => displayChart(vegaEmbed));\n",
       "    }\n",
       "  })({\"config\": {\"view\": {\"continuousWidth\": 400, \"continuousHeight\": 300}}, \"layer\": [{\"mark\": \"point\", \"encoding\": {\"x\": {\"field\": \"\\uc6d4\", \"type\": \"nominal\"}, \"y\": {\"aggregate\": \"sum\", \"field\": \"count\", \"type\": \"quantitative\"}}}, {\"mark\": {\"type\": \"line\", \"color\": \"red\"}, \"encoding\": {\"x\": {\"field\": \"\\uc6d4\", \"type\": \"nominal\"}, \"y\": {\"aggregate\": \"sum\", \"field\": \"count\", \"title\": \"\", \"type\": \"quantitative\"}}}, {\"mark\": {\"type\": \"text\", \"align\": \"center\", \"baseline\": \"line-top\", \"color\": \"black\", \"dy\": -20, \"fontSize\": 12, \"size\": 12}, \"encoding\": {\"text\": {\"aggregate\": \"sum\", \"field\": \"count\", \"type\": \"quantitative\"}, \"x\": {\"field\": \"\\uc6d4\", \"type\": \"nominal\"}, \"y\": {\"aggregate\": \"sum\", \"field\": \"count\", \"type\": \"quantitative\"}}}], \"data\": {\"name\": \"data-cc06a5f14826abf3fe25552d3e7424a4\"}, \"height\": 200, \"width\": 400, \"$schema\": \"https://vega.github.io/schema/vega-lite/v4.17.0.json\", \"datasets\": {\"data-cc06a5f14826abf3fe25552d3e7424a4\": [{\"\\ub144\\ub3c4\": \"22\\ub144\", \"\\uc6d4\": \"1\\uc6d4\", \"\\ub9ac\\uc804\": \"EU\", \"AZ\": \"1\\uc13c\\ud130\", \"\\ud14c\\ub10c\\ud2b8\": \"PRD\", \"DBMS\": \"PostgreSQL\", \"count\": 17.0}, {\"\\ub144\\ub3c4\": \"22\\ub144\", \"\\uc6d4\": \"1\\uc6d4\", \"\\ub9ac\\uc804\": \"EU\", \"AZ\": \"1\\uc13c\\ud130\", \"\\ud14c\\ub10c\\ud2b8\": \"PRD\", \"DBMS\": \"Tibero\", \"count\": 1.0}, {\"\\ub144\\ub3c4\": \"22\\ub144\", \"\\uc6d4\": \"1\\uc6d4\", \"\\ub9ac\\uc804\": \"EU\", \"AZ\": \"1\\uc13c\\ud130\", \"\\ud14c\\ub10c\\ud2b8\": \"PRD\", \"DBMS\": \"Maria\", \"count\": 0.0}, {\"\\ub144\\ub3c4\": \"22\\ub144\", \"\\uc6d4\": \"1\\uc6d4\", \"\\ub9ac\\uc804\": \"EU\", \"AZ\": \"1\\uc13c\\ud130\", \"\\ud14c\\ub10c\\ud2b8\": \"PRD\", \"DBMS\": \"Redis\", \"count\": 20.0}, {\"\\ub144\\ub3c4\": \"22\\ub144\", \"\\uc6d4\": \"1\\uc6d4\", \"\\ub9ac\\uc804\": \"EU\", \"AZ\": \"1\\uc13c\\ud130\", \"\\ud14c\\ub10c\\ud2b8\": \"PRD\", \"DBMS\": \"Mongo\", \"count\": 1.0}, {\"\\ub144\\ub3c4\": \"22\\ub144\", \"\\uc6d4\": \"2\\uc6d4\", \"\\ub9ac\\uc804\": \"EU\", \"AZ\": \"1\\uc13c\\ud130\", \"\\ud14c\\ub10c\\ud2b8\": \"PRD\", \"DBMS\": \"PostgreSQL\", \"count\": 17.0}, {\"\\ub144\\ub3c4\": \"22\\ub144\", \"\\uc6d4\": \"2\\uc6d4\", \"\\ub9ac\\uc804\": \"EU\", \"AZ\": \"1\\uc13c\\ud130\", \"\\ud14c\\ub10c\\ud2b8\": \"PRD\", \"DBMS\": \"Tibero\", \"count\": 1.0}, {\"\\ub144\\ub3c4\": \"22\\ub144\", \"\\uc6d4\": \"2\\uc6d4\", \"\\ub9ac\\uc804\": \"EU\", \"AZ\": \"1\\uc13c\\ud130\", \"\\ud14c\\ub10c\\ud2b8\": \"PRD\", \"DBMS\": \"Maria\", \"count\": 0.0}, {\"\\ub144\\ub3c4\": \"22\\ub144\", \"\\uc6d4\": \"2\\uc6d4\", \"\\ub9ac\\uc804\": \"EU\", \"AZ\": \"1\\uc13c\\ud130\", \"\\ud14c\\ub10c\\ud2b8\": \"PRD\", \"DBMS\": \"Redis\", \"count\": 20.0}, {\"\\ub144\\ub3c4\": \"22\\ub144\", \"\\uc6d4\": \"2\\uc6d4\", \"\\ub9ac\\uc804\": \"EU\", \"AZ\": \"1\\uc13c\\ud130\", \"\\ud14c\\ub10c\\ud2b8\": \"PRD\", \"DBMS\": \"Mongo\", \"count\": 1.0}, {\"\\ub144\\ub3c4\": \"22\\ub144\", \"\\uc6d4\": \"3\\uc6d4\", \"\\ub9ac\\uc804\": \"EU\", \"AZ\": \"1\\uc13c\\ud130\", \"\\ud14c\\ub10c\\ud2b8\": \"PRD\", \"DBMS\": \"PostgreSQL\", \"count\": 17.0}, {\"\\ub144\\ub3c4\": \"22\\ub144\", \"\\uc6d4\": \"3\\uc6d4\", \"\\ub9ac\\uc804\": \"EU\", \"AZ\": \"1\\uc13c\\ud130\", \"\\ud14c\\ub10c\\ud2b8\": \"PRD\", \"DBMS\": \"Tibero\", \"count\": 1.0}, {\"\\ub144\\ub3c4\": \"22\\ub144\", \"\\uc6d4\": \"3\\uc6d4\", \"\\ub9ac\\uc804\": \"EU\", \"AZ\": \"1\\uc13c\\ud130\", \"\\ud14c\\ub10c\\ud2b8\": \"PRD\", \"DBMS\": \"Maria\", \"count\": 0.0}, {\"\\ub144\\ub3c4\": \"22\\ub144\", \"\\uc6d4\": \"3\\uc6d4\", \"\\ub9ac\\uc804\": \"EU\", \"AZ\": \"1\\uc13c\\ud130\", \"\\ud14c\\ub10c\\ud2b8\": \"PRD\", \"DBMS\": \"Redis\", \"count\": 20.0}, {\"\\ub144\\ub3c4\": \"22\\ub144\", \"\\uc6d4\": \"3\\uc6d4\", \"\\ub9ac\\uc804\": \"EU\", \"AZ\": \"1\\uc13c\\ud130\", \"\\ud14c\\ub10c\\ud2b8\": \"PRD\", \"DBMS\": \"Mongo\", \"count\": 4.0}, {\"\\ub144\\ub3c4\": \"22\\ub144\", \"\\uc6d4\": \"4\\uc6d4\", \"\\ub9ac\\uc804\": \"EU\", \"AZ\": \"1\\uc13c\\ud130\", \"\\ud14c\\ub10c\\ud2b8\": \"PRD\", \"DBMS\": \"PostgreSQL\", \"count\": 19.0}, {\"\\ub144\\ub3c4\": \"22\\ub144\", \"\\uc6d4\": \"4\\uc6d4\", \"\\ub9ac\\uc804\": \"EU\", \"AZ\": \"1\\uc13c\\ud130\", \"\\ud14c\\ub10c\\ud2b8\": \"PRD\", \"DBMS\": \"Tibero\", \"count\": 1.0}, {\"\\ub144\\ub3c4\": \"22\\ub144\", \"\\uc6d4\": \"4\\uc6d4\", \"\\ub9ac\\uc804\": \"EU\", \"AZ\": \"1\\uc13c\\ud130\", \"\\ud14c\\ub10c\\ud2b8\": \"PRD\", \"DBMS\": \"Maria\", \"count\": 0.0}, {\"\\ub144\\ub3c4\": \"22\\ub144\", \"\\uc6d4\": \"4\\uc6d4\", \"\\ub9ac\\uc804\": \"EU\", \"AZ\": \"1\\uc13c\\ud130\", \"\\ud14c\\ub10c\\ud2b8\": \"PRD\", \"DBMS\": \"Redis\", \"count\": 22.0}, {\"\\ub144\\ub3c4\": \"22\\ub144\", \"\\uc6d4\": \"4\\uc6d4\", \"\\ub9ac\\uc804\": \"EU\", \"AZ\": \"1\\uc13c\\ud130\", \"\\ud14c\\ub10c\\ud2b8\": \"PRD\", \"DBMS\": \"Mongo\", \"count\": 4.0}, {\"\\ub144\\ub3c4\": \"22\\ub144\", \"\\uc6d4\": \"5\\uc6d4\", \"\\ub9ac\\uc804\": \"EU\", \"AZ\": \"1\\uc13c\\ud130\", \"\\ud14c\\ub10c\\ud2b8\": \"PRD\", \"DBMS\": \"PostgreSQL\", \"count\": 19.0}, {\"\\ub144\\ub3c4\": \"22\\ub144\", \"\\uc6d4\": \"5\\uc6d4\", \"\\ub9ac\\uc804\": \"EU\", \"AZ\": \"1\\uc13c\\ud130\", \"\\ud14c\\ub10c\\ud2b8\": \"PRD\", \"DBMS\": \"Tibero\", \"count\": 1.0}, {\"\\ub144\\ub3c4\": \"22\\ub144\", \"\\uc6d4\": \"5\\uc6d4\", \"\\ub9ac\\uc804\": \"EU\", \"AZ\": \"1\\uc13c\\ud130\", \"\\ud14c\\ub10c\\ud2b8\": \"PRD\", \"DBMS\": \"Maria\", \"count\": 0.0}, {\"\\ub144\\ub3c4\": \"22\\ub144\", \"\\uc6d4\": \"5\\uc6d4\", \"\\ub9ac\\uc804\": \"EU\", \"AZ\": \"1\\uc13c\\ud130\", \"\\ud14c\\ub10c\\ud2b8\": \"PRD\", \"DBMS\": \"Redis\", \"count\": 22.0}, {\"\\ub144\\ub3c4\": \"22\\ub144\", \"\\uc6d4\": \"5\\uc6d4\", \"\\ub9ac\\uc804\": \"EU\", \"AZ\": \"1\\uc13c\\ud130\", \"\\ud14c\\ub10c\\ud2b8\": \"PRD\", \"DBMS\": \"Mongo\", \"count\": 4.0}, {\"\\ub144\\ub3c4\": \"22\\ub144\", \"\\uc6d4\": \"6\\uc6d4\", \"\\ub9ac\\uc804\": \"EU\", \"AZ\": \"1\\uc13c\\ud130\", \"\\ud14c\\ub10c\\ud2b8\": \"PRD\", \"DBMS\": \"PostgreSQL\", \"count\": 19.0}, {\"\\ub144\\ub3c4\": \"22\\ub144\", \"\\uc6d4\": \"6\\uc6d4\", \"\\ub9ac\\uc804\": \"EU\", \"AZ\": \"1\\uc13c\\ud130\", \"\\ud14c\\ub10c\\ud2b8\": \"PRD\", \"DBMS\": \"Tibero\", \"count\": 3.0}, {\"\\ub144\\ub3c4\": \"22\\ub144\", \"\\uc6d4\": \"6\\uc6d4\", \"\\ub9ac\\uc804\": \"EU\", \"AZ\": \"1\\uc13c\\ud130\", \"\\ud14c\\ub10c\\ud2b8\": \"PRD\", \"DBMS\": \"Maria\", \"count\": 0.0}, {\"\\ub144\\ub3c4\": \"22\\ub144\", \"\\uc6d4\": \"6\\uc6d4\", \"\\ub9ac\\uc804\": \"EU\", \"AZ\": \"1\\uc13c\\ud130\", \"\\ud14c\\ub10c\\ud2b8\": \"PRD\", \"DBMS\": \"Redis\", \"count\": 22.0}, {\"\\ub144\\ub3c4\": \"22\\ub144\", \"\\uc6d4\": \"6\\uc6d4\", \"\\ub9ac\\uc804\": \"EU\", \"AZ\": \"1\\uc13c\\ud130\", \"\\ud14c\\ub10c\\ud2b8\": \"PRD\", \"DBMS\": \"Mongo\", \"count\": 4.0}]}}, {\"mode\": \"vega-lite\"});\n",
       "</script>"
      ],
      "text/plain": [
       "alt.LayerChart(...)"
      ]
     },
     "execution_count": 24,
     "metadata": {},
     "output_type": "execute_result"
    }
   ],
   "source": [
    "regex = '^(EU|Global)'\n",
    "df_filtered = df[df['리전'].apply(lambda x: True if re.search(regex, x) else False) & (df['테넌트']== 'PRD')]\n",
    "source = df_filtered\n",
    "chart = get_lineChart_am(source)\n",
    "chart"
   ]
  },
  {
   "cell_type": "code",
   "execution_count": 25,
   "id": "600690e7-4c56-4fd7-8571-321e6ddcd101",
   "metadata": {},
   "outputs": [
    {
     "data": {
      "text/plain": [
       "<docx.shape.InlineShape at 0x1b24c6edd60>"
      ]
     },
     "execution_count": 25,
     "metadata": {},
     "output_type": "execute_result"
    }
   ],
   "source": [
    "chart.save('charts/8.png')\n",
    "document.add_picture('charts/8.png')"
   ]
  },
  {
   "cell_type": "markdown",
   "id": "757c515d-c9e1-48cf-9a6c-ef33523c2fe0",
   "metadata": {
    "tags": []
   },
   "source": [
    "### SG"
   ]
  },
  {
   "cell_type": "code",
   "execution_count": 26,
   "id": "7cf5aa0f-9e54-439d-b33e-e4fe97f88dc9",
   "metadata": {},
   "outputs": [
    {
     "data": {
      "text/html": [
       "\n",
       "<div id=\"altair-viz-653778ac519646c583065439cc17edd1\"></div>\n",
       "<script type=\"text/javascript\">\n",
       "  var VEGA_DEBUG = (typeof VEGA_DEBUG == \"undefined\") ? {} : VEGA_DEBUG;\n",
       "  (function(spec, embedOpt){\n",
       "    let outputDiv = document.currentScript.previousElementSibling;\n",
       "    if (outputDiv.id !== \"altair-viz-653778ac519646c583065439cc17edd1\") {\n",
       "      outputDiv = document.getElementById(\"altair-viz-653778ac519646c583065439cc17edd1\");\n",
       "    }\n",
       "    const paths = {\n",
       "      \"vega\": \"https://cdn.jsdelivr.net/npm//vega@5?noext\",\n",
       "      \"vega-lib\": \"https://cdn.jsdelivr.net/npm//vega-lib?noext\",\n",
       "      \"vega-lite\": \"https://cdn.jsdelivr.net/npm//vega-lite@4.17.0?noext\",\n",
       "      \"vega-embed\": \"https://cdn.jsdelivr.net/npm//vega-embed@6?noext\",\n",
       "    };\n",
       "\n",
       "    function maybeLoadScript(lib, version) {\n",
       "      var key = `${lib.replace(\"-\", \"\")}_version`;\n",
       "      return (VEGA_DEBUG[key] == version) ?\n",
       "        Promise.resolve(paths[lib]) :\n",
       "        new Promise(function(resolve, reject) {\n",
       "          var s = document.createElement('script');\n",
       "          document.getElementsByTagName(\"head\")[0].appendChild(s);\n",
       "          s.async = true;\n",
       "          s.onload = () => {\n",
       "            VEGA_DEBUG[key] = version;\n",
       "            return resolve(paths[lib]);\n",
       "          };\n",
       "          s.onerror = () => reject(`Error loading script: ${paths[lib]}`);\n",
       "          s.src = paths[lib];\n",
       "        });\n",
       "    }\n",
       "\n",
       "    function showError(err) {\n",
       "      outputDiv.innerHTML = `<div class=\"error\" style=\"color:red;\">${err}</div>`;\n",
       "      throw err;\n",
       "    }\n",
       "\n",
       "    function displayChart(vegaEmbed) {\n",
       "      vegaEmbed(outputDiv, spec, embedOpt)\n",
       "        .catch(err => showError(`Javascript Error: ${err.message}<br>This usually means there's a typo in your chart specification. See the javascript console for the full traceback.`));\n",
       "    }\n",
       "\n",
       "    if(typeof define === \"function\" && define.amd) {\n",
       "      requirejs.config({paths});\n",
       "      require([\"vega-embed\"], displayChart, err => showError(`Error loading script: ${err.message}`));\n",
       "    } else {\n",
       "      maybeLoadScript(\"vega\", \"5\")\n",
       "        .then(() => maybeLoadScript(\"vega-lite\", \"4.17.0\"))\n",
       "        .then(() => maybeLoadScript(\"vega-embed\", \"6\"))\n",
       "        .catch(showError)\n",
       "        .then(() => displayChart(vegaEmbed));\n",
       "    }\n",
       "  })({\"config\": {\"view\": {\"continuousWidth\": 400, \"continuousHeight\": 300}}, \"layer\": [{\"mark\": \"point\", \"encoding\": {\"x\": {\"field\": \"\\uc6d4\", \"type\": \"nominal\"}, \"y\": {\"aggregate\": \"sum\", \"field\": \"count\", \"type\": \"quantitative\"}}}, {\"mark\": {\"type\": \"line\", \"color\": \"red\"}, \"encoding\": {\"x\": {\"field\": \"\\uc6d4\", \"type\": \"nominal\"}, \"y\": {\"aggregate\": \"sum\", \"field\": \"count\", \"title\": \"\", \"type\": \"quantitative\"}}}, {\"mark\": {\"type\": \"text\", \"align\": \"center\", \"baseline\": \"line-top\", \"color\": \"black\", \"dy\": -20, \"fontSize\": 12, \"size\": 12}, \"encoding\": {\"text\": {\"aggregate\": \"sum\", \"field\": \"count\", \"type\": \"quantitative\"}, \"x\": {\"field\": \"\\uc6d4\", \"type\": \"nominal\"}, \"y\": {\"aggregate\": \"sum\", \"field\": \"count\", \"type\": \"quantitative\"}}}], \"data\": {\"name\": \"data-bc81e334b0650e6b4dd3c23e5f0c7d2a\"}, \"height\": 200, \"width\": 400, \"$schema\": \"https://vega.github.io/schema/vega-lite/v4.17.0.json\", \"datasets\": {\"data-bc81e334b0650e6b4dd3c23e5f0c7d2a\": [{\"\\ub144\\ub3c4\": \"22\\ub144\", \"\\uc6d4\": \"1\\uc6d4\", \"\\ub9ac\\uc804\": \"SG\", \"AZ\": \"1\\uc13c\\ud130\", \"\\ud14c\\ub10c\\ud2b8\": \"PRD\", \"DBMS\": \"PostgreSQL\", \"count\": 20.0}, {\"\\ub144\\ub3c4\": \"22\\ub144\", \"\\uc6d4\": \"1\\uc6d4\", \"\\ub9ac\\uc804\": \"SG\", \"AZ\": \"1\\uc13c\\ud130\", \"\\ud14c\\ub10c\\ud2b8\": \"PRD\", \"DBMS\": \"Tibero\", \"count\": 0.0}, {\"\\ub144\\ub3c4\": \"22\\ub144\", \"\\uc6d4\": \"1\\uc6d4\", \"\\ub9ac\\uc804\": \"SG\", \"AZ\": \"1\\uc13c\\ud130\", \"\\ud14c\\ub10c\\ud2b8\": \"PRD\", \"DBMS\": \"Maria\", \"count\": 0.0}, {\"\\ub144\\ub3c4\": \"22\\ub144\", \"\\uc6d4\": \"1\\uc6d4\", \"\\ub9ac\\uc804\": \"SG\", \"AZ\": \"1\\uc13c\\ud130\", \"\\ud14c\\ub10c\\ud2b8\": \"PRD\", \"DBMS\": \"Redis\", \"count\": 18.0}, {\"\\ub144\\ub3c4\": \"22\\ub144\", \"\\uc6d4\": \"1\\uc6d4\", \"\\ub9ac\\uc804\": \"SG\", \"AZ\": \"1\\uc13c\\ud130\", \"\\ud14c\\ub10c\\ud2b8\": \"PRD\", \"DBMS\": \"Mongo\", \"count\": 4.0}, {\"\\ub144\\ub3c4\": \"22\\ub144\", \"\\uc6d4\": \"2\\uc6d4\", \"\\ub9ac\\uc804\": \"SG\", \"AZ\": \"1\\uc13c\\ud130\", \"\\ud14c\\ub10c\\ud2b8\": \"PRD\", \"DBMS\": \"PostgreSQL\", \"count\": 24.0}, {\"\\ub144\\ub3c4\": \"22\\ub144\", \"\\uc6d4\": \"2\\uc6d4\", \"\\ub9ac\\uc804\": \"SG\", \"AZ\": \"1\\uc13c\\ud130\", \"\\ud14c\\ub10c\\ud2b8\": \"PRD\", \"DBMS\": \"Tibero\", \"count\": 0.0}, {\"\\ub144\\ub3c4\": \"22\\ub144\", \"\\uc6d4\": \"2\\uc6d4\", \"\\ub9ac\\uc804\": \"SG\", \"AZ\": \"1\\uc13c\\ud130\", \"\\ud14c\\ub10c\\ud2b8\": \"PRD\", \"DBMS\": \"Maria\", \"count\": 0.0}, {\"\\ub144\\ub3c4\": \"22\\ub144\", \"\\uc6d4\": \"2\\uc6d4\", \"\\ub9ac\\uc804\": \"SG\", \"AZ\": \"1\\uc13c\\ud130\", \"\\ud14c\\ub10c\\ud2b8\": \"PRD\", \"DBMS\": \"Redis\", \"count\": 18.0}, {\"\\ub144\\ub3c4\": \"22\\ub144\", \"\\uc6d4\": \"2\\uc6d4\", \"\\ub9ac\\uc804\": \"SG\", \"AZ\": \"1\\uc13c\\ud130\", \"\\ud14c\\ub10c\\ud2b8\": \"PRD\", \"DBMS\": \"Mongo\", \"count\": 4.0}, {\"\\ub144\\ub3c4\": \"22\\ub144\", \"\\uc6d4\": \"3\\uc6d4\", \"\\ub9ac\\uc804\": \"SG\", \"AZ\": \"1\\uc13c\\ud130\", \"\\ud14c\\ub10c\\ud2b8\": \"PRD\", \"DBMS\": \"PostgreSQL\", \"count\": 24.0}, {\"\\ub144\\ub3c4\": \"22\\ub144\", \"\\uc6d4\": \"3\\uc6d4\", \"\\ub9ac\\uc804\": \"SG\", \"AZ\": \"1\\uc13c\\ud130\", \"\\ud14c\\ub10c\\ud2b8\": \"PRD\", \"DBMS\": \"Tibero\", \"count\": 0.0}, {\"\\ub144\\ub3c4\": \"22\\ub144\", \"\\uc6d4\": \"3\\uc6d4\", \"\\ub9ac\\uc804\": \"SG\", \"AZ\": \"1\\uc13c\\ud130\", \"\\ud14c\\ub10c\\ud2b8\": \"PRD\", \"DBMS\": \"Maria\", \"count\": 0.0}, {\"\\ub144\\ub3c4\": \"22\\ub144\", \"\\uc6d4\": \"3\\uc6d4\", \"\\ub9ac\\uc804\": \"SG\", \"AZ\": \"1\\uc13c\\ud130\", \"\\ud14c\\ub10c\\ud2b8\": \"PRD\", \"DBMS\": \"Redis\", \"count\": 24.0}, {\"\\ub144\\ub3c4\": \"22\\ub144\", \"\\uc6d4\": \"3\\uc6d4\", \"\\ub9ac\\uc804\": \"SG\", \"AZ\": \"1\\uc13c\\ud130\", \"\\ud14c\\ub10c\\ud2b8\": \"PRD\", \"DBMS\": \"Mongo\", \"count\": 7.0}, {\"\\ub144\\ub3c4\": \"22\\ub144\", \"\\uc6d4\": \"4\\uc6d4\", \"\\ub9ac\\uc804\": \"SG\", \"AZ\": \"1\\uc13c\\ud130\", \"\\ud14c\\ub10c\\ud2b8\": \"PRD\", \"DBMS\": \"PostgreSQL\", \"count\": 24.0}, {\"\\ub144\\ub3c4\": \"22\\ub144\", \"\\uc6d4\": \"4\\uc6d4\", \"\\ub9ac\\uc804\": \"SG\", \"AZ\": \"1\\uc13c\\ud130\", \"\\ud14c\\ub10c\\ud2b8\": \"PRD\", \"DBMS\": \"Tibero\", \"count\": 0.0}, {\"\\ub144\\ub3c4\": \"22\\ub144\", \"\\uc6d4\": \"4\\uc6d4\", \"\\ub9ac\\uc804\": \"SG\", \"AZ\": \"1\\uc13c\\ud130\", \"\\ud14c\\ub10c\\ud2b8\": \"PRD\", \"DBMS\": \"Maria\", \"count\": 0.0}, {\"\\ub144\\ub3c4\": \"22\\ub144\", \"\\uc6d4\": \"4\\uc6d4\", \"\\ub9ac\\uc804\": \"SG\", \"AZ\": \"1\\uc13c\\ud130\", \"\\ud14c\\ub10c\\ud2b8\": \"PRD\", \"DBMS\": \"Redis\", \"count\": 26.0}, {\"\\ub144\\ub3c4\": \"22\\ub144\", \"\\uc6d4\": \"4\\uc6d4\", \"\\ub9ac\\uc804\": \"SG\", \"AZ\": \"1\\uc13c\\ud130\", \"\\ud14c\\ub10c\\ud2b8\": \"PRD\", \"DBMS\": \"Mongo\", \"count\": 7.0}, {\"\\ub144\\ub3c4\": \"22\\ub144\", \"\\uc6d4\": \"5\\uc6d4\", \"\\ub9ac\\uc804\": \"SG\", \"AZ\": \"1\\uc13c\\ud130\", \"\\ud14c\\ub10c\\ud2b8\": \"PRD\", \"DBMS\": \"PostgreSQL\", \"count\": 24.0}, {\"\\ub144\\ub3c4\": \"22\\ub144\", \"\\uc6d4\": \"5\\uc6d4\", \"\\ub9ac\\uc804\": \"SG\", \"AZ\": \"1\\uc13c\\ud130\", \"\\ud14c\\ub10c\\ud2b8\": \"PRD\", \"DBMS\": \"Tibero\", \"count\": 0.0}, {\"\\ub144\\ub3c4\": \"22\\ub144\", \"\\uc6d4\": \"5\\uc6d4\", \"\\ub9ac\\uc804\": \"SG\", \"AZ\": \"1\\uc13c\\ud130\", \"\\ud14c\\ub10c\\ud2b8\": \"PRD\", \"DBMS\": \"Maria\", \"count\": 0.0}, {\"\\ub144\\ub3c4\": \"22\\ub144\", \"\\uc6d4\": \"5\\uc6d4\", \"\\ub9ac\\uc804\": \"SG\", \"AZ\": \"1\\uc13c\\ud130\", \"\\ud14c\\ub10c\\ud2b8\": \"PRD\", \"DBMS\": \"Redis\", \"count\": 26.0}, {\"\\ub144\\ub3c4\": \"22\\ub144\", \"\\uc6d4\": \"5\\uc6d4\", \"\\ub9ac\\uc804\": \"SG\", \"AZ\": \"1\\uc13c\\ud130\", \"\\ud14c\\ub10c\\ud2b8\": \"PRD\", \"DBMS\": \"Mongo\", \"count\": 7.0}, {\"\\ub144\\ub3c4\": \"22\\ub144\", \"\\uc6d4\": \"6\\uc6d4\", \"\\ub9ac\\uc804\": \"SG\", \"AZ\": \"1\\uc13c\\ud130\", \"\\ud14c\\ub10c\\ud2b8\": \"PRD\", \"DBMS\": \"PostgreSQL\", \"count\": 24.0}, {\"\\ub144\\ub3c4\": \"22\\ub144\", \"\\uc6d4\": \"6\\uc6d4\", \"\\ub9ac\\uc804\": \"SG\", \"AZ\": \"1\\uc13c\\ud130\", \"\\ud14c\\ub10c\\ud2b8\": \"PRD\", \"DBMS\": \"Tibero\", \"count\": 0.0}, {\"\\ub144\\ub3c4\": \"22\\ub144\", \"\\uc6d4\": \"6\\uc6d4\", \"\\ub9ac\\uc804\": \"SG\", \"AZ\": \"1\\uc13c\\ud130\", \"\\ud14c\\ub10c\\ud2b8\": \"PRD\", \"DBMS\": \"Maria\", \"count\": 0.0}, {\"\\ub144\\ub3c4\": \"22\\ub144\", \"\\uc6d4\": \"6\\uc6d4\", \"\\ub9ac\\uc804\": \"SG\", \"AZ\": \"1\\uc13c\\ud130\", \"\\ud14c\\ub10c\\ud2b8\": \"PRD\", \"DBMS\": \"Redis\", \"count\": 26.0}, {\"\\ub144\\ub3c4\": \"22\\ub144\", \"\\uc6d4\": \"6\\uc6d4\", \"\\ub9ac\\uc804\": \"SG\", \"AZ\": \"1\\uc13c\\ud130\", \"\\ud14c\\ub10c\\ud2b8\": \"PRD\", \"DBMS\": \"Mongo\", \"count\": 7.0}]}}, {\"mode\": \"vega-lite\"});\n",
       "</script>"
      ],
      "text/plain": [
       "alt.LayerChart(...)"
      ]
     },
     "execution_count": 26,
     "metadata": {},
     "output_type": "execute_result"
    }
   ],
   "source": [
    "regex = '^(SG|Global)'\n",
    "df_filtered = df[df['리전'].apply(lambda x: True if re.search(regex, x) else False) & (df['테넌트']== 'PRD')]\n",
    "source = df_filtered\n",
    "chart = get_lineChart_am(source)\n",
    "chart"
   ]
  },
  {
   "cell_type": "code",
   "execution_count": 27,
   "id": "beeec4a1-a44d-41de-a622-0271b9d1c34e",
   "metadata": {},
   "outputs": [
    {
     "data": {
      "text/plain": [
       "<docx.shape.InlineShape at 0x1b24c729070>"
      ]
     },
     "execution_count": 27,
     "metadata": {},
     "output_type": "execute_result"
    }
   ],
   "source": [
    "chart.save('charts/9.png')\n",
    "document.add_picture('charts/9.png')"
   ]
  },
  {
   "cell_type": "markdown",
   "id": "fc048f49-405d-4813-b9fc-10e77323ffa2",
   "metadata": {},
   "source": [
    "### RU"
   ]
  },
  {
   "cell_type": "code",
   "execution_count": 28,
   "id": "d9a254a1-fc27-43bc-975f-3a22b5a66bd2",
   "metadata": {},
   "outputs": [
    {
     "data": {
      "text/html": [
       "\n",
       "<div id=\"altair-viz-4dd2148810994f9394cbb5397daf5f8c\"></div>\n",
       "<script type=\"text/javascript\">\n",
       "  var VEGA_DEBUG = (typeof VEGA_DEBUG == \"undefined\") ? {} : VEGA_DEBUG;\n",
       "  (function(spec, embedOpt){\n",
       "    let outputDiv = document.currentScript.previousElementSibling;\n",
       "    if (outputDiv.id !== \"altair-viz-4dd2148810994f9394cbb5397daf5f8c\") {\n",
       "      outputDiv = document.getElementById(\"altair-viz-4dd2148810994f9394cbb5397daf5f8c\");\n",
       "    }\n",
       "    const paths = {\n",
       "      \"vega\": \"https://cdn.jsdelivr.net/npm//vega@5?noext\",\n",
       "      \"vega-lib\": \"https://cdn.jsdelivr.net/npm//vega-lib?noext\",\n",
       "      \"vega-lite\": \"https://cdn.jsdelivr.net/npm//vega-lite@4.17.0?noext\",\n",
       "      \"vega-embed\": \"https://cdn.jsdelivr.net/npm//vega-embed@6?noext\",\n",
       "    };\n",
       "\n",
       "    function maybeLoadScript(lib, version) {\n",
       "      var key = `${lib.replace(\"-\", \"\")}_version`;\n",
       "      return (VEGA_DEBUG[key] == version) ?\n",
       "        Promise.resolve(paths[lib]) :\n",
       "        new Promise(function(resolve, reject) {\n",
       "          var s = document.createElement('script');\n",
       "          document.getElementsByTagName(\"head\")[0].appendChild(s);\n",
       "          s.async = true;\n",
       "          s.onload = () => {\n",
       "            VEGA_DEBUG[key] = version;\n",
       "            return resolve(paths[lib]);\n",
       "          };\n",
       "          s.onerror = () => reject(`Error loading script: ${paths[lib]}`);\n",
       "          s.src = paths[lib];\n",
       "        });\n",
       "    }\n",
       "\n",
       "    function showError(err) {\n",
       "      outputDiv.innerHTML = `<div class=\"error\" style=\"color:red;\">${err}</div>`;\n",
       "      throw err;\n",
       "    }\n",
       "\n",
       "    function displayChart(vegaEmbed) {\n",
       "      vegaEmbed(outputDiv, spec, embedOpt)\n",
       "        .catch(err => showError(`Javascript Error: ${err.message}<br>This usually means there's a typo in your chart specification. See the javascript console for the full traceback.`));\n",
       "    }\n",
       "\n",
       "    if(typeof define === \"function\" && define.amd) {\n",
       "      requirejs.config({paths});\n",
       "      require([\"vega-embed\"], displayChart, err => showError(`Error loading script: ${err.message}`));\n",
       "    } else {\n",
       "      maybeLoadScript(\"vega\", \"5\")\n",
       "        .then(() => maybeLoadScript(\"vega-lite\", \"4.17.0\"))\n",
       "        .then(() => maybeLoadScript(\"vega-embed\", \"6\"))\n",
       "        .catch(showError)\n",
       "        .then(() => displayChart(vegaEmbed));\n",
       "    }\n",
       "  })({\"config\": {\"view\": {\"continuousWidth\": 400, \"continuousHeight\": 300}}, \"layer\": [{\"mark\": \"point\", \"encoding\": {\"x\": {\"field\": \"\\uc6d4\", \"type\": \"nominal\"}, \"y\": {\"aggregate\": \"sum\", \"field\": \"count\", \"type\": \"quantitative\"}}}, {\"mark\": {\"type\": \"line\", \"color\": \"red\"}, \"encoding\": {\"x\": {\"field\": \"\\uc6d4\", \"type\": \"nominal\"}, \"y\": {\"aggregate\": \"sum\", \"field\": \"count\", \"title\": \"\", \"type\": \"quantitative\"}}}, {\"mark\": {\"type\": \"text\", \"align\": \"center\", \"baseline\": \"line-top\", \"color\": \"black\", \"dy\": -20, \"fontSize\": 12, \"size\": 12}, \"encoding\": {\"text\": {\"aggregate\": \"sum\", \"field\": \"count\", \"type\": \"quantitative\"}, \"x\": {\"field\": \"\\uc6d4\", \"type\": \"nominal\"}, \"y\": {\"aggregate\": \"sum\", \"field\": \"count\", \"type\": \"quantitative\"}}}], \"data\": {\"name\": \"data-0a0e9fce719ad318b105d3a2a9fab2e7\"}, \"height\": 200, \"width\": 400, \"$schema\": \"https://vega.github.io/schema/vega-lite/v4.17.0.json\", \"datasets\": {\"data-0a0e9fce719ad318b105d3a2a9fab2e7\": [{\"\\ub144\\ub3c4\": \"22\\ub144\", \"\\uc6d4\": \"1\\uc6d4\", \"\\ub9ac\\uc804\": \"RU\", \"AZ\": \"1\\uc13c\\ud130\", \"\\ud14c\\ub10c\\ud2b8\": \"PRD\", \"DBMS\": \"PostgreSQL\", \"count\": 10.0}, {\"\\ub144\\ub3c4\": \"22\\ub144\", \"\\uc6d4\": \"1\\uc6d4\", \"\\ub9ac\\uc804\": \"RU\", \"AZ\": \"1\\uc13c\\ud130\", \"\\ud14c\\ub10c\\ud2b8\": \"PRD\", \"DBMS\": \"Tibero\", \"count\": 0.0}, {\"\\ub144\\ub3c4\": \"22\\ub144\", \"\\uc6d4\": \"1\\uc6d4\", \"\\ub9ac\\uc804\": \"RU\", \"AZ\": \"1\\uc13c\\ud130\", \"\\ud14c\\ub10c\\ud2b8\": \"PRD\", \"DBMS\": \"Maria\", \"count\": 0.0}, {\"\\ub144\\ub3c4\": \"22\\ub144\", \"\\uc6d4\": \"1\\uc6d4\", \"\\ub9ac\\uc804\": \"RU\", \"AZ\": \"1\\uc13c\\ud130\", \"\\ud14c\\ub10c\\ud2b8\": \"PRD\", \"DBMS\": \"Redis\", \"count\": 3.0}, {\"\\ub144\\ub3c4\": \"22\\ub144\", \"\\uc6d4\": \"1\\uc6d4\", \"\\ub9ac\\uc804\": \"RU\", \"AZ\": \"1\\uc13c\\ud130\", \"\\ud14c\\ub10c\\ud2b8\": \"PRD\", \"DBMS\": \"Mongo\", \"count\": 0.0}, {\"\\ub144\\ub3c4\": \"22\\ub144\", \"\\uc6d4\": \"2\\uc6d4\", \"\\ub9ac\\uc804\": \"RU\", \"AZ\": \"1\\uc13c\\ud130\", \"\\ud14c\\ub10c\\ud2b8\": \"PRD\", \"DBMS\": \"PostgreSQL\", \"count\": 10.0}, {\"\\ub144\\ub3c4\": \"22\\ub144\", \"\\uc6d4\": \"2\\uc6d4\", \"\\ub9ac\\uc804\": \"RU\", \"AZ\": \"1\\uc13c\\ud130\", \"\\ud14c\\ub10c\\ud2b8\": \"PRD\", \"DBMS\": \"Tibero\", \"count\": 0.0}, {\"\\ub144\\ub3c4\": \"22\\ub144\", \"\\uc6d4\": \"2\\uc6d4\", \"\\ub9ac\\uc804\": \"RU\", \"AZ\": \"1\\uc13c\\ud130\", \"\\ud14c\\ub10c\\ud2b8\": \"PRD\", \"DBMS\": \"Maria\", \"count\": 0.0}, {\"\\ub144\\ub3c4\": \"22\\ub144\", \"\\uc6d4\": \"2\\uc6d4\", \"\\ub9ac\\uc804\": \"RU\", \"AZ\": \"1\\uc13c\\ud130\", \"\\ud14c\\ub10c\\ud2b8\": \"PRD\", \"DBMS\": \"Redis\", \"count\": 3.0}, {\"\\ub144\\ub3c4\": \"22\\ub144\", \"\\uc6d4\": \"2\\uc6d4\", \"\\ub9ac\\uc804\": \"RU\", \"AZ\": \"1\\uc13c\\ud130\", \"\\ud14c\\ub10c\\ud2b8\": \"PRD\", \"DBMS\": \"Mongo\", \"count\": 0.0}, {\"\\ub144\\ub3c4\": \"22\\ub144\", \"\\uc6d4\": \"3\\uc6d4\", \"\\ub9ac\\uc804\": \"RU\", \"AZ\": \"1\\uc13c\\ud130\", \"\\ud14c\\ub10c\\ud2b8\": \"PRD\", \"DBMS\": \"PostgreSQL\", \"count\": 10.0}, {\"\\ub144\\ub3c4\": \"22\\ub144\", \"\\uc6d4\": \"3\\uc6d4\", \"\\ub9ac\\uc804\": \"RU\", \"AZ\": \"1\\uc13c\\ud130\", \"\\ud14c\\ub10c\\ud2b8\": \"PRD\", \"DBMS\": \"Tibero\", \"count\": 0.0}, {\"\\ub144\\ub3c4\": \"22\\ub144\", \"\\uc6d4\": \"3\\uc6d4\", \"\\ub9ac\\uc804\": \"RU\", \"AZ\": \"1\\uc13c\\ud130\", \"\\ud14c\\ub10c\\ud2b8\": \"PRD\", \"DBMS\": \"Maria\", \"count\": 0.0}, {\"\\ub144\\ub3c4\": \"22\\ub144\", \"\\uc6d4\": \"3\\uc6d4\", \"\\ub9ac\\uc804\": \"RU\", \"AZ\": \"1\\uc13c\\ud130\", \"\\ud14c\\ub10c\\ud2b8\": \"PRD\", \"DBMS\": \"Redis\", \"count\": 3.0}, {\"\\ub144\\ub3c4\": \"22\\ub144\", \"\\uc6d4\": \"3\\uc6d4\", \"\\ub9ac\\uc804\": \"RU\", \"AZ\": \"1\\uc13c\\ud130\", \"\\ud14c\\ub10c\\ud2b8\": \"PRD\", \"DBMS\": \"Mongo\", \"count\": 1.0}, {\"\\ub144\\ub3c4\": \"22\\ub144\", \"\\uc6d4\": \"4\\uc6d4\", \"\\ub9ac\\uc804\": \"RU\", \"AZ\": \"1\\uc13c\\ud130\", \"\\ud14c\\ub10c\\ud2b8\": \"PRD\", \"DBMS\": \"PostgreSQL\", \"count\": 10.0}, {\"\\ub144\\ub3c4\": \"22\\ub144\", \"\\uc6d4\": \"4\\uc6d4\", \"\\ub9ac\\uc804\": \"RU\", \"AZ\": \"1\\uc13c\\ud130\", \"\\ud14c\\ub10c\\ud2b8\": \"PRD\", \"DBMS\": \"Tibero\", \"count\": 0.0}, {\"\\ub144\\ub3c4\": \"22\\ub144\", \"\\uc6d4\": \"4\\uc6d4\", \"\\ub9ac\\uc804\": \"RU\", \"AZ\": \"1\\uc13c\\ud130\", \"\\ud14c\\ub10c\\ud2b8\": \"PRD\", \"DBMS\": \"Maria\", \"count\": 0.0}, {\"\\ub144\\ub3c4\": \"22\\ub144\", \"\\uc6d4\": \"4\\uc6d4\", \"\\ub9ac\\uc804\": \"RU\", \"AZ\": \"1\\uc13c\\ud130\", \"\\ud14c\\ub10c\\ud2b8\": \"PRD\", \"DBMS\": \"Redis\", \"count\": 3.0}, {\"\\ub144\\ub3c4\": \"22\\ub144\", \"\\uc6d4\": \"4\\uc6d4\", \"\\ub9ac\\uc804\": \"RU\", \"AZ\": \"1\\uc13c\\ud130\", \"\\ud14c\\ub10c\\ud2b8\": \"PRD\", \"DBMS\": \"Mongo\", \"count\": 1.0}, {\"\\ub144\\ub3c4\": \"22\\ub144\", \"\\uc6d4\": \"5\\uc6d4\", \"\\ub9ac\\uc804\": \"RU\", \"AZ\": \"1\\uc13c\\ud130\", \"\\ud14c\\ub10c\\ud2b8\": \"PRD\", \"DBMS\": \"PostgreSQL\", \"count\": 10.0}, {\"\\ub144\\ub3c4\": \"22\\ub144\", \"\\uc6d4\": \"5\\uc6d4\", \"\\ub9ac\\uc804\": \"RU\", \"AZ\": \"1\\uc13c\\ud130\", \"\\ud14c\\ub10c\\ud2b8\": \"PRD\", \"DBMS\": \"Tibero\", \"count\": 0.0}, {\"\\ub144\\ub3c4\": \"22\\ub144\", \"\\uc6d4\": \"5\\uc6d4\", \"\\ub9ac\\uc804\": \"RU\", \"AZ\": \"1\\uc13c\\ud130\", \"\\ud14c\\ub10c\\ud2b8\": \"PRD\", \"DBMS\": \"Maria\", \"count\": 0.0}, {\"\\ub144\\ub3c4\": \"22\\ub144\", \"\\uc6d4\": \"5\\uc6d4\", \"\\ub9ac\\uc804\": \"RU\", \"AZ\": \"1\\uc13c\\ud130\", \"\\ud14c\\ub10c\\ud2b8\": \"PRD\", \"DBMS\": \"Redis\", \"count\": 3.0}, {\"\\ub144\\ub3c4\": \"22\\ub144\", \"\\uc6d4\": \"5\\uc6d4\", \"\\ub9ac\\uc804\": \"RU\", \"AZ\": \"1\\uc13c\\ud130\", \"\\ud14c\\ub10c\\ud2b8\": \"PRD\", \"DBMS\": \"Mongo\", \"count\": 1.0}, {\"\\ub144\\ub3c4\": \"22\\ub144\", \"\\uc6d4\": \"6\\uc6d4\", \"\\ub9ac\\uc804\": \"RU\", \"AZ\": \"1\\uc13c\\ud130\", \"\\ud14c\\ub10c\\ud2b8\": \"PRD\", \"DBMS\": \"PostgreSQL\", \"count\": 4.0}, {\"\\ub144\\ub3c4\": \"22\\ub144\", \"\\uc6d4\": \"6\\uc6d4\", \"\\ub9ac\\uc804\": \"RU\", \"AZ\": \"1\\uc13c\\ud130\", \"\\ud14c\\ub10c\\ud2b8\": \"PRD\", \"DBMS\": \"Tibero\", \"count\": 0.0}, {\"\\ub144\\ub3c4\": \"22\\ub144\", \"\\uc6d4\": \"6\\uc6d4\", \"\\ub9ac\\uc804\": \"RU\", \"AZ\": \"1\\uc13c\\ud130\", \"\\ud14c\\ub10c\\ud2b8\": \"PRD\", \"DBMS\": \"Maria\", \"count\": 0.0}, {\"\\ub144\\ub3c4\": \"22\\ub144\", \"\\uc6d4\": \"6\\uc6d4\", \"\\ub9ac\\uc804\": \"RU\", \"AZ\": \"1\\uc13c\\ud130\", \"\\ud14c\\ub10c\\ud2b8\": \"PRD\", \"DBMS\": \"Redis\", \"count\": 3.0}, {\"\\ub144\\ub3c4\": \"22\\ub144\", \"\\uc6d4\": \"6\\uc6d4\", \"\\ub9ac\\uc804\": \"RU\", \"AZ\": \"1\\uc13c\\ud130\", \"\\ud14c\\ub10c\\ud2b8\": \"PRD\", \"DBMS\": \"Mongo\", \"count\": 1.0}]}}, {\"mode\": \"vega-lite\"});\n",
       "</script>"
      ],
      "text/plain": [
       "alt.LayerChart(...)"
      ]
     },
     "execution_count": 28,
     "metadata": {},
     "output_type": "execute_result"
    }
   ],
   "source": [
    "regex = '^(RU|Global)'\n",
    "df_filtered = df[df['리전'].apply(lambda x: True if re.search(regex, x) else False) & (df['테넌트']== 'PRD')]\n",
    "source = df_filtered\n",
    "chart = get_lineChart_am(source)\n",
    "chart"
   ]
  },
  {
   "cell_type": "code",
   "execution_count": 29,
   "id": "2c951dc0-a460-4f75-899e-a7e3067ba656",
   "metadata": {},
   "outputs": [
    {
     "data": {
      "text/plain": [
       "<docx.shape.InlineShape at 0x1b24c7294c0>"
      ]
     },
     "execution_count": 29,
     "metadata": {},
     "output_type": "execute_result"
    }
   ],
   "source": [
    "chart.save('charts/10.png')\n",
    "document.add_picture('charts/10.png')"
   ]
  },
  {
   "cell_type": "code",
   "execution_count": 30,
   "id": "91f6dbdd-ff77-4e23-a1ef-732e710f9dc8",
   "metadata": {},
   "outputs": [],
   "source": [
    "document.save('word_db.docx')"
   ]
  },
  {
   "cell_type": "code",
   "execution_count": null,
   "id": "8e83c0f8-95bb-4ac0-b6ae-bfcdee92ce92",
   "metadata": {},
   "outputs": [],
   "source": []
  }
 ],
 "metadata": {
  "kernelspec": {
   "display_name": "Python 3 (ipykernel)",
   "language": "python",
   "name": "python3"
  },
  "language_info": {
   "codemirror_mode": {
    "name": "ipython",
    "version": 3
   },
   "file_extension": ".py",
   "mimetype": "text/x-python",
   "name": "python",
   "nbconvert_exporter": "python",
   "pygments_lexer": "ipython3",
   "version": "3.8.0"
  }
 },
 "nbformat": 4,
 "nbformat_minor": 5
}
