{
 "cells": [
  {
   "cell_type": "code",
   "execution_count": 10,
   "id": "9b91a3bc-079b-4191-b508-6e3619232432",
   "metadata": {},
   "outputs": [
    {
     "name": "stdout",
     "output_type": "stream",
     "text": [
      "Overwriting document.py\n"
     ]
    }
   ],
   "source": [
    "%%writefile document.py\n",
    "\n",
    "import docx\n",
    "import re  \n",
    "\n",
    "from docx import Document\n",
    "from docx.enum.style import WD_STYLE_TYPE\n",
    "from docx.shared import Pt, RGBColor, Inches\n",
    "from docx.oxml.ns import qn\n",
    "from docx.enum.text import WD_PARAGRAPH_ALIGNMENT\n",
    "\n",
    "document = Document()\n",
    "sections = document.sections\n",
    "from docx import Document\n",
    "from docx.shared import Inches\n",
    "\n",
    "document = Document()\n",
    "\n",
    "for section in sections:\n",
    "    section.top_margin = Inches(0.5)\n",
    "    section.bottom_margin = Inches(1)\n",
    "    section.left_margin = Inches(1)\n",
    "    section.right_margin = Inches(1)\n",
    "    \n",
    "section = document.sections[0]\n",
    "\n",
    "sectPr = section._sectPr\n",
    "cols = sectPr.xpath('./w:cols')[0]\n",
    "cols.set(qn('w:num'), '1')\n",
    "\n",
    "#import dataframe_image as dfi\n",
    "\n",
    "def writeTable(df, regex, month):\n",
    "    \n",
    "    df = df[df['리전'].apply(lambda x: True if re.search(regex, x) else False) & (df['테넌트']== 'PRD') & (df['월간']=='O')]\n",
    "\n",
    "    if [ month != '누적' ]:\n",
    "        df = df[df['월'] == month].reset_index()\n",
    "    else:\n",
    "        pass\n",
    "    \n",
    "    table = document.add_table(rows=1, cols=3, style=\"Table Grid\")\n",
    "\n",
    "    hdr_cells = table.rows[0].cells\n",
    "    hdr_cells[0].text = '월'\n",
    "    hdr_cells[1].text = '진행상태'\n",
    "    hdr_cells[2].text = '내용 상세'\n",
    "\n",
    "    for ind in df.index:\n",
    "        row_cells = table.add_row().cells\n",
    "        row_cells[0].text = df['월'][ind]\n",
    "        row_cells[1].text = df['진행상태'][ind]\n",
    "        row_cells[2].text = df['Description'][ind]  \n",
    "        "
   ]
  },
  {
   "cell_type": "code",
   "execution_count": null,
   "id": "d1e046e1-e3d8-4d04-aca7-5af9fb7690b6",
   "metadata": {},
   "outputs": [],
   "source": []
  }
 ],
 "metadata": {
  "kernelspec": {
   "display_name": "Python 3 (ipykernel)",
   "language": "python",
   "name": "python3"
  },
  "language_info": {
   "codemirror_mode": {
    "name": "ipython",
    "version": 3
   },
   "file_extension": ".py",
   "mimetype": "text/x-python",
   "name": "python",
   "nbconvert_exporter": "python",
   "pygments_lexer": "ipython3",
   "version": "3.8.0"
  }
 },
 "nbformat": 4,
 "nbformat_minor": 5
}
