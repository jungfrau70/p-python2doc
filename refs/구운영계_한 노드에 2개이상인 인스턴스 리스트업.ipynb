{
 "cells": [
  {
   "cell_type": "code",
   "execution_count": 1,
   "id": "9580a945-197c-4e47-a40e-7eabf2b5a633",
   "metadata": {},
   "outputs": [],
   "source": [
    "import pandas as pd\n",
    "from pandas_ods_reader import read_ods"
   ]
  },
  {
   "cell_type": "markdown",
   "id": "8049f0f7-f60c-45c4-92c4-256506f72b03",
   "metadata": {
    "tags": []
   },
   "source": [
    "# Data Loading"
   ]
  },
  {
   "cell_type": "code",
   "execution_count": 2,
   "id": "b82d9ed6-049a-42fa-b6d7-116bbf6440b1",
   "metadata": {},
   "outputs": [],
   "source": [
    "base_path = r\"./host_uniq/old_prd_vm.ods\"\n",
    "sheet = 'Sheet1'\n",
    "\n",
    "df = read_ods(base_path, sheet, headers=True)"
   ]
  },
  {
   "cell_type": "code",
   "execution_count": 3,
   "id": "bfb9ee98-7af4-4b78-a735-c9755632c274",
   "metadata": {},
   "outputs": [],
   "source": [
    "df = df[['Name, instance-id, uuid', 'Host']]"
   ]
  },
  {
   "cell_type": "code",
   "execution_count": 4,
   "id": "4f6f4665-c2ec-47f6-8c41-532d05ed8f84",
   "metadata": {},
   "outputs": [],
   "source": [
    "df = df.set_axis([\"instance\", \"host\"], axis=1)"
   ]
  },
  {
   "cell_type": "code",
   "execution_count": 5,
   "id": "80b4da1d-bab1-4371-9be1-a48440f4a6a4",
   "metadata": {},
   "outputs": [],
   "source": [
    "df_no_host = df[df[\"host\"] == 'null']"
   ]
  },
  {
   "cell_type": "code",
   "execution_count": 6,
   "id": "f582f4ad-89b6-4ff3-97ce-95580ebd41d8",
   "metadata": {},
   "outputs": [
    {
     "data": {
      "text/plain": [
       "instance    14\n",
       "host        14\n",
       "dtype: int64"
      ]
     },
     "execution_count": 6,
     "metadata": {},
     "output_type": "execute_result"
    }
   ],
   "source": [
    "df_no_host.count()"
   ]
  },
  {
   "cell_type": "code",
   "execution_count": 7,
   "id": "aa2ec4ee-8446-449a-8b1c-f640bc3c8459",
   "metadata": {},
   "outputs": [],
   "source": [
    "df2 = df[df[\"host\"] != 'null']"
   ]
  },
  {
   "cell_type": "code",
   "execution_count": 10,
   "id": "eddf8ccc-5861-46eb-a7f3-8984ede15438",
   "metadata": {},
   "outputs": [
    {
     "data": {
      "text/plain": [
       "instance    524\n",
       "host        524\n",
       "dtype: int64"
      ]
     },
     "execution_count": 10,
     "metadata": {},
     "output_type": "execute_result"
    }
   ],
   "source": [
    "df2.count()"
   ]
  },
  {
   "cell_type": "code",
   "execution_count": 11,
   "id": "48ab7dee-ba78-4fa2-88ea-aae06a9826a1",
   "metadata": {},
   "outputs": [
    {
     "data": {
      "text/html": [
       "<div>\n",
       "<style scoped>\n",
       "    .dataframe tbody tr th:only-of-type {\n",
       "        vertical-align: middle;\n",
       "    }\n",
       "\n",
       "    .dataframe tbody tr th {\n",
       "        vertical-align: top;\n",
       "    }\n",
       "\n",
       "    .dataframe thead th {\n",
       "        text-align: right;\n",
       "    }\n",
       "</style>\n",
       "<table border=\"1\" class=\"dataframe\">\n",
       "  <thead>\n",
       "    <tr style=\"text-align: right;\">\n",
       "      <th></th>\n",
       "      <th>instance</th>\n",
       "      <th>host</th>\n",
       "    </tr>\n",
       "  </thead>\n",
       "  <tbody>\n",
       "    <tr>\n",
       "      <th>0</th>\n",
       "      <td>ccsblackduckp01</td>\n",
       "      <td>krtmsprdcomd15.krtms</td>\n",
       "    </tr>\n",
       "    <tr>\n",
       "      <th>1</th>\n",
       "      <td>ccsglbkmsp01</td>\n",
       "      <td>krtmsprdcomc05.krtms</td>\n",
       "    </tr>\n",
       "    <tr>\n",
       "      <th>2</th>\n",
       "      <td>ccsglbkmsp02</td>\n",
       "      <td>krtmsprdcomd23.krtms</td>\n",
       "    </tr>\n",
       "    <tr>\n",
       "      <th>3</th>\n",
       "      <td>ccsglbvpkihqdbp01</td>\n",
       "      <td>krtmsprdcomh23.krtms</td>\n",
       "    </tr>\n",
       "    <tr>\n",
       "      <th>4</th>\n",
       "      <td>ccsglbvpkihqdbp02</td>\n",
       "      <td>krtmsprdcomc10.krtms</td>\n",
       "    </tr>\n",
       "  </tbody>\n",
       "</table>\n",
       "</div>"
      ],
      "text/plain": [
       "            instance                  host\n",
       "0    ccsblackduckp01  krtmsprdcomd15.krtms\n",
       "1       ccsglbkmsp01  krtmsprdcomc05.krtms\n",
       "2       ccsglbkmsp02  krtmsprdcomd23.krtms\n",
       "3  ccsglbvpkihqdbp01  krtmsprdcomh23.krtms\n",
       "4  ccsglbvpkihqdbp02  krtmsprdcomc10.krtms"
      ]
     },
     "execution_count": 11,
     "metadata": {},
     "output_type": "execute_result"
    }
   ],
   "source": [
    "df2.head()"
   ]
  },
  {
   "cell_type": "code",
   "execution_count": 12,
   "id": "0f351a2f-3fe1-46f7-88e9-9abc3bf0ac79",
   "metadata": {},
   "outputs": [
    {
     "name": "stderr",
     "output_type": "stream",
     "text": [
      "C:\\Users\\H2105067\\AppData\\Local\\Temp/ipykernel_22216/1665989558.py:1: SettingWithCopyWarning: \n",
      "A value is trying to be set on a copy of a slice from a DataFrame.\n",
      "Try using .loc[row_indexer,col_indexer] = value instead\n",
      "\n",
      "See the caveats in the documentation: https://pandas.pydata.org/pandas-docs/stable/user_guide/indexing.html#returning-a-view-versus-a-copy\n",
      "  df2['host-instance'] = df2.apply(lambda row: row.host + \".\" + row.instance, axis=1)\n"
     ]
    }
   ],
   "source": [
    "df2['host-instance'] = df2.apply(lambda row: row.host + \".\" + row.instance, axis=1)"
   ]
  },
  {
   "cell_type": "code",
   "execution_count": 13,
   "id": "9e48e25c-2f75-47b8-8b82-247780b1db2c",
   "metadata": {},
   "outputs": [
    {
     "data": {
      "text/html": [
       "<div>\n",
       "<style scoped>\n",
       "    .dataframe tbody tr th:only-of-type {\n",
       "        vertical-align: middle;\n",
       "    }\n",
       "\n",
       "    .dataframe tbody tr th {\n",
       "        vertical-align: top;\n",
       "    }\n",
       "\n",
       "    .dataframe thead th {\n",
       "        text-align: right;\n",
       "    }\n",
       "</style>\n",
       "<table border=\"1\" class=\"dataframe\">\n",
       "  <thead>\n",
       "    <tr style=\"text-align: right;\">\n",
       "      <th></th>\n",
       "      <th>instance</th>\n",
       "      <th>host</th>\n",
       "      <th>host-instance</th>\n",
       "    </tr>\n",
       "  </thead>\n",
       "  <tbody>\n",
       "    <tr>\n",
       "      <th>0</th>\n",
       "      <td>ccsblackduckp01</td>\n",
       "      <td>krtmsprdcomd15.krtms</td>\n",
       "      <td>krtmsprdcomd15.krtms.ccsblackduckp01</td>\n",
       "    </tr>\n",
       "    <tr>\n",
       "      <th>1</th>\n",
       "      <td>ccsglbkmsp01</td>\n",
       "      <td>krtmsprdcomc05.krtms</td>\n",
       "      <td>krtmsprdcomc05.krtms.ccsglbkmsp01</td>\n",
       "    </tr>\n",
       "    <tr>\n",
       "      <th>2</th>\n",
       "      <td>ccsglbkmsp02</td>\n",
       "      <td>krtmsprdcomd23.krtms</td>\n",
       "      <td>krtmsprdcomd23.krtms.ccsglbkmsp02</td>\n",
       "    </tr>\n",
       "    <tr>\n",
       "      <th>3</th>\n",
       "      <td>ccsglbvpkihqdbp01</td>\n",
       "      <td>krtmsprdcomh23.krtms</td>\n",
       "      <td>krtmsprdcomh23.krtms.ccsglbvpkihqdbp01</td>\n",
       "    </tr>\n",
       "    <tr>\n",
       "      <th>4</th>\n",
       "      <td>ccsglbvpkihqdbp02</td>\n",
       "      <td>krtmsprdcomc10.krtms</td>\n",
       "      <td>krtmsprdcomc10.krtms.ccsglbvpkihqdbp02</td>\n",
       "    </tr>\n",
       "  </tbody>\n",
       "</table>\n",
       "</div>"
      ],
      "text/plain": [
       "            instance                  host  \\\n",
       "0    ccsblackduckp01  krtmsprdcomd15.krtms   \n",
       "1       ccsglbkmsp01  krtmsprdcomc05.krtms   \n",
       "2       ccsglbkmsp02  krtmsprdcomd23.krtms   \n",
       "3  ccsglbvpkihqdbp01  krtmsprdcomh23.krtms   \n",
       "4  ccsglbvpkihqdbp02  krtmsprdcomc10.krtms   \n",
       "\n",
       "                            host-instance  \n",
       "0    krtmsprdcomd15.krtms.ccsblackduckp01  \n",
       "1       krtmsprdcomc05.krtms.ccsglbkmsp01  \n",
       "2       krtmsprdcomd23.krtms.ccsglbkmsp02  \n",
       "3  krtmsprdcomh23.krtms.ccsglbvpkihqdbp01  \n",
       "4  krtmsprdcomc10.krtms.ccsglbvpkihqdbp02  "
      ]
     },
     "execution_count": 13,
     "metadata": {},
     "output_type": "execute_result"
    }
   ],
   "source": [
    "df2.head()"
   ]
  },
  {
   "cell_type": "code",
   "execution_count": 14,
   "id": "1f779632-f786-4f40-842f-54f51e2677e5",
   "metadata": {},
   "outputs": [
    {
     "name": "stderr",
     "output_type": "stream",
     "text": [
      "C:\\Users\\H2105067\\AppData\\Local\\Temp/ipykernel_22216/965772883.py:1: SettingWithCopyWarning: \n",
      "A value is trying to be set on a copy of a slice from a DataFrame.\n",
      "Try using .loc[row_indexer,col_indexer] = value instead\n",
      "\n",
      "See the caveats in the documentation: https://pandas.pydata.org/pandas-docs/stable/user_guide/indexing.html#returning-a-view-versus-a-copy\n",
      "  df2['host-instance-trim'] = df2.apply(lambda row: row.host + \".\" + row.instance[:-2], axis=1)\n"
     ]
    }
   ],
   "source": [
    "df2['host-instance-trim'] = df2.apply(lambda row: row.host + \".\" + row.instance[:-2], axis=1)"
   ]
  },
  {
   "cell_type": "code",
   "execution_count": 15,
   "id": "96c8d97b-b9ec-4191-9824-9100474f2ae3",
   "metadata": {},
   "outputs": [
    {
     "data": {
      "text/html": [
       "<div>\n",
       "<style scoped>\n",
       "    .dataframe tbody tr th:only-of-type {\n",
       "        vertical-align: middle;\n",
       "    }\n",
       "\n",
       "    .dataframe tbody tr th {\n",
       "        vertical-align: top;\n",
       "    }\n",
       "\n",
       "    .dataframe thead th {\n",
       "        text-align: right;\n",
       "    }\n",
       "</style>\n",
       "<table border=\"1\" class=\"dataframe\">\n",
       "  <thead>\n",
       "    <tr style=\"text-align: right;\">\n",
       "      <th></th>\n",
       "      <th>instance</th>\n",
       "      <th>host</th>\n",
       "      <th>host-instance</th>\n",
       "      <th>host-instance-trim</th>\n",
       "    </tr>\n",
       "  </thead>\n",
       "  <tbody>\n",
       "    <tr>\n",
       "      <th>0</th>\n",
       "      <td>ccsblackduckp01</td>\n",
       "      <td>krtmsprdcomd15.krtms</td>\n",
       "      <td>krtmsprdcomd15.krtms.ccsblackduckp01</td>\n",
       "      <td>krtmsprdcomd15.krtms.ccsblackduckp</td>\n",
       "    </tr>\n",
       "    <tr>\n",
       "      <th>1</th>\n",
       "      <td>ccsglbkmsp01</td>\n",
       "      <td>krtmsprdcomc05.krtms</td>\n",
       "      <td>krtmsprdcomc05.krtms.ccsglbkmsp01</td>\n",
       "      <td>krtmsprdcomc05.krtms.ccsglbkmsp</td>\n",
       "    </tr>\n",
       "    <tr>\n",
       "      <th>2</th>\n",
       "      <td>ccsglbkmsp02</td>\n",
       "      <td>krtmsprdcomd23.krtms</td>\n",
       "      <td>krtmsprdcomd23.krtms.ccsglbkmsp02</td>\n",
       "      <td>krtmsprdcomd23.krtms.ccsglbkmsp</td>\n",
       "    </tr>\n",
       "    <tr>\n",
       "      <th>3</th>\n",
       "      <td>ccsglbvpkihqdbp01</td>\n",
       "      <td>krtmsprdcomh23.krtms</td>\n",
       "      <td>krtmsprdcomh23.krtms.ccsglbvpkihqdbp01</td>\n",
       "      <td>krtmsprdcomh23.krtms.ccsglbvpkihqdbp</td>\n",
       "    </tr>\n",
       "    <tr>\n",
       "      <th>4</th>\n",
       "      <td>ccsglbvpkihqdbp02</td>\n",
       "      <td>krtmsprdcomc10.krtms</td>\n",
       "      <td>krtmsprdcomc10.krtms.ccsglbvpkihqdbp02</td>\n",
       "      <td>krtmsprdcomc10.krtms.ccsglbvpkihqdbp</td>\n",
       "    </tr>\n",
       "  </tbody>\n",
       "</table>\n",
       "</div>"
      ],
      "text/plain": [
       "            instance                  host  \\\n",
       "0    ccsblackduckp01  krtmsprdcomd15.krtms   \n",
       "1       ccsglbkmsp01  krtmsprdcomc05.krtms   \n",
       "2       ccsglbkmsp02  krtmsprdcomd23.krtms   \n",
       "3  ccsglbvpkihqdbp01  krtmsprdcomh23.krtms   \n",
       "4  ccsglbvpkihqdbp02  krtmsprdcomc10.krtms   \n",
       "\n",
       "                            host-instance  \\\n",
       "0    krtmsprdcomd15.krtms.ccsblackduckp01   \n",
       "1       krtmsprdcomc05.krtms.ccsglbkmsp01   \n",
       "2       krtmsprdcomd23.krtms.ccsglbkmsp02   \n",
       "3  krtmsprdcomh23.krtms.ccsglbvpkihqdbp01   \n",
       "4  krtmsprdcomc10.krtms.ccsglbvpkihqdbp02   \n",
       "\n",
       "                     host-instance-trim  \n",
       "0    krtmsprdcomd15.krtms.ccsblackduckp  \n",
       "1       krtmsprdcomc05.krtms.ccsglbkmsp  \n",
       "2       krtmsprdcomd23.krtms.ccsglbkmsp  \n",
       "3  krtmsprdcomh23.krtms.ccsglbvpkihqdbp  \n",
       "4  krtmsprdcomc10.krtms.ccsglbvpkihqdbp  "
      ]
     },
     "execution_count": 15,
     "metadata": {},
     "output_type": "execute_result"
    }
   ],
   "source": [
    "df2.head()"
   ]
  },
  {
   "cell_type": "code",
   "execution_count": 16,
   "id": "575cff51-aca2-402b-a91d-21a719358388",
   "metadata": {},
   "outputs": [
    {
     "data": {
      "text/plain": [
       "count                                        524\n",
       "unique                                       491\n",
       "top       krtmsprdcomd20.krtms.ccskrlmslogstashp\n",
       "freq                                           4\n",
       "Name: host-instance-trim, dtype: object"
      ]
     },
     "execution_count": 16,
     "metadata": {},
     "output_type": "execute_result"
    }
   ],
   "source": [
    "df2['host-instance-trim'].describe()"
   ]
  },
  {
   "cell_type": "code",
   "execution_count": 17,
   "id": "7c2bfbc5-fea6-4615-8997-b501fe5f13e8",
   "metadata": {},
   "outputs": [
    {
     "data": {
      "text/plain": [
       "instance              33\n",
       "host                  33\n",
       "host-instance         33\n",
       "host-instance-trim    33\n",
       "dtype: int64"
      ]
     },
     "execution_count": 17,
     "metadata": {},
     "output_type": "execute_result"
    }
   ],
   "source": [
    "df2[df2['host-instance-trim'].duplicated()].count()"
   ]
  },
  {
   "cell_type": "code",
   "execution_count": 18,
   "id": "373f279f-0843-44ee-bbd5-4693e4578078",
   "metadata": {},
   "outputs": [],
   "source": [
    "df3 = df2[df2['host-instance-trim'].duplicated()][['host-instance-trim', 'host-instance']]"
   ]
  },
  {
   "cell_type": "code",
   "execution_count": 19,
   "id": "1762bcb5-dfb4-47b9-b024-89c51081dee9",
   "metadata": {},
   "outputs": [
    {
     "data": {
      "text/plain": [
       "host-instance-trim    33\n",
       "host-instance         33\n",
       "dtype: int64"
      ]
     },
     "execution_count": 19,
     "metadata": {},
     "output_type": "execute_result"
    }
   ],
   "source": [
    "df3.count()"
   ]
  },
  {
   "cell_type": "code",
   "execution_count": 20,
   "id": "745ec973-c52f-498f-9652-44f89218fb20",
   "metadata": {},
   "outputs": [
    {
     "data": {
      "text/html": [
       "<div>\n",
       "<style scoped>\n",
       "    .dataframe tbody tr th:only-of-type {\n",
       "        vertical-align: middle;\n",
       "    }\n",
       "\n",
       "    .dataframe tbody tr th {\n",
       "        vertical-align: top;\n",
       "    }\n",
       "\n",
       "    .dataframe thead th {\n",
       "        text-align: right;\n",
       "    }\n",
       "</style>\n",
       "<table border=\"1\" class=\"dataframe\">\n",
       "  <thead>\n",
       "    <tr style=\"text-align: right;\">\n",
       "      <th></th>\n",
       "      <th>host-instance-trim</th>\n",
       "      <th>host-instance</th>\n",
       "    </tr>\n",
       "  </thead>\n",
       "  <tbody>\n",
       "    <tr>\n",
       "      <th>56</th>\n",
       "      <td>krtmsprdcomq03.krtms.ccskrccspapigwp</td>\n",
       "      <td>krtmsprdcomq03.krtms.ccskrccspapigwp03</td>\n",
       "    </tr>\n",
       "    <tr>\n",
       "      <th>67</th>\n",
       "      <td>krtmsprdcomd21.krtms.ccskrccspdsfludentp</td>\n",
       "      <td>krtmsprdcomd21.krtms.ccskrccspdsfludentp02</td>\n",
       "    </tr>\n",
       "    <tr>\n",
       "      <th>85</th>\n",
       "      <td>krtmsprdcomh24.krtms.ccskrccspgtcwasp</td>\n",
       "      <td>krtmsprdcomh24.krtms.ccskrccspgtcwasp05</td>\n",
       "    </tr>\n",
       "    <tr>\n",
       "      <th>95</th>\n",
       "      <td>krtmsprdcomh07.krtms.ccskrccspkafkap</td>\n",
       "      <td>krtmsprdcomh07.krtms.ccskrccspkafkap04</td>\n",
       "    </tr>\n",
       "    <tr>\n",
       "      <th>96</th>\n",
       "      <td>krtmsprdcomh05.krtms.ccskrccspkafkap</td>\n",
       "      <td>krtmsprdcomh05.krtms.ccskrccspkafkap05</td>\n",
       "    </tr>\n",
       "    <tr>\n",
       "      <th>112</th>\n",
       "      <td>krtmsprdcomc05.krtms.ccskrccspredisp</td>\n",
       "      <td>krtmsprdcomc05.krtms.ccskrccspredisp03</td>\n",
       "    </tr>\n",
       "    <tr>\n",
       "      <th>141</th>\n",
       "      <td>krtmsprdcomd21.krtms.ccskrccspzoop</td>\n",
       "      <td>krtmsprdcomd21.krtms.ccskrccspzoop02</td>\n",
       "    </tr>\n",
       "    <tr>\n",
       "      <th>151</th>\n",
       "      <td>krtmsprdcomc11.krtms.ccskrdynatracemanagerp</td>\n",
       "      <td>krtmsprdcomc11.krtms.ccskrdynatracemanagerp03</td>\n",
       "    </tr>\n",
       "    <tr>\n",
       "      <th>180</th>\n",
       "      <td>krtmsprdcomq01.krtms.ccskrextissbsp</td>\n",
       "      <td>krtmsprdcomq01.krtms.ccskrextissbsp03</td>\n",
       "    </tr>\n",
       "    <tr>\n",
       "      <th>181</th>\n",
       "      <td>krtmsprdcomq02.krtms.ccskrextissbsp</td>\n",
       "      <td>krtmsprdcomq02.krtms.ccskrextissbsp04</td>\n",
       "    </tr>\n",
       "    <tr>\n",
       "      <th>184</th>\n",
       "      <td>krtmsprdcomq01.krtms.ccskrextitsbsp</td>\n",
       "      <td>krtmsprdcomq01.krtms.ccskrextitsbsp03</td>\n",
       "    </tr>\n",
       "    <tr>\n",
       "      <th>185</th>\n",
       "      <td>krtmsprdcomq02.krtms.ccskrextitsbsp</td>\n",
       "      <td>krtmsprdcomq02.krtms.ccskrextitsbsp04</td>\n",
       "    </tr>\n",
       "    <tr>\n",
       "      <th>239</th>\n",
       "      <td>krtmsprdcomh04.krtms.ccskrissp</td>\n",
       "      <td>krtmsprdcomh04.krtms.ccskrissp04</td>\n",
       "    </tr>\n",
       "    <tr>\n",
       "      <th>261</th>\n",
       "      <td>krtmsprdcomd19.krtms.ccskrlmslogstashp</td>\n",
       "      <td>krtmsprdcomd19.krtms.ccskrlmslogstashp03</td>\n",
       "    </tr>\n",
       "    <tr>\n",
       "      <th>262</th>\n",
       "      <td>krtmsprdcomd20.krtms.ccskrlmslogstashp</td>\n",
       "      <td>krtmsprdcomd20.krtms.ccskrlmslogstashp04</td>\n",
       "    </tr>\n",
       "    <tr>\n",
       "      <th>263</th>\n",
       "      <td>krtmsprdcomd19.krtms.ccskrlmslogstashp</td>\n",
       "      <td>krtmsprdcomd19.krtms.ccskrlmslogstashp05</td>\n",
       "    </tr>\n",
       "    <tr>\n",
       "      <th>264</th>\n",
       "      <td>krtmsprdcomd20.krtms.ccskrlmslogstashp</td>\n",
       "      <td>krtmsprdcomd20.krtms.ccskrlmslogstashp06</td>\n",
       "    </tr>\n",
       "    <tr>\n",
       "      <th>265</th>\n",
       "      <td>krtmsprdcomd19.krtms.ccskrlmslogstashp</td>\n",
       "      <td>krtmsprdcomd19.krtms.ccskrlmslogstashp07</td>\n",
       "    </tr>\n",
       "    <tr>\n",
       "      <th>266</th>\n",
       "      <td>krtmsprdcomd20.krtms.ccskrlmslogstashp</td>\n",
       "      <td>krtmsprdcomd20.krtms.ccskrlmslogstashp08</td>\n",
       "    </tr>\n",
       "    <tr>\n",
       "      <th>287</th>\n",
       "      <td>krtmsprdcomh15.krtms.ccskrmaasoperdbp</td>\n",
       "      <td>krtmsprdcomh15.krtms.ccskrmaasoperdbp06</td>\n",
       "    </tr>\n",
       "    <tr>\n",
       "      <th>333</th>\n",
       "      <td>krtmsprdcomc11.krtms.ccskrotadmp</td>\n",
       "      <td>krtmsprdcomc11.krtms.ccskrotadmp03</td>\n",
       "    </tr>\n",
       "    <tr>\n",
       "      <th>334</th>\n",
       "      <td>krtmsprdcomc04.krtms.ccskrotadmp</td>\n",
       "      <td>krtmsprdcomc04.krtms.ccskrotadmp04</td>\n",
       "    </tr>\n",
       "    <tr>\n",
       "      <th>362</th>\n",
       "      <td>krtmsprdcomd15.krtms.ccskrspwasp0</td>\n",
       "      <td>krtmsprdcomd15.krtms.ccskrspwasp011</td>\n",
       "    </tr>\n",
       "    <tr>\n",
       "      <th>381</th>\n",
       "      <td>krtmsprdcomh09.krtms.ccskrsrchanalysis</td>\n",
       "      <td>krtmsprdcomh09.krtms.ccskrsrchanalysis03</td>\n",
       "    </tr>\n",
       "    <tr>\n",
       "      <th>404</th>\n",
       "      <td>krtmsprdcomh19.krtms.ccskrsrchenginep0</td>\n",
       "      <td>krtmsprdcomh19.krtms.ccskrsrchenginep018</td>\n",
       "    </tr>\n",
       "    <tr>\n",
       "      <th>405</th>\n",
       "      <td>krtmsprdcomh17.krtms.ccskrsrchenginep0</td>\n",
       "      <td>krtmsprdcomh17.krtms.ccskrsrchenginep019</td>\n",
       "    </tr>\n",
       "    <tr>\n",
       "      <th>409</th>\n",
       "      <td>krtmsprdcomh20.krtms.ccskrsrchenginep0</td>\n",
       "      <td>krtmsprdcomh20.krtms.ccskrsrchenginep022</td>\n",
       "    </tr>\n",
       "    <tr>\n",
       "      <th>410</th>\n",
       "      <td>krtmsprdcomh21.krtms.ccskrsrchenginep0</td>\n",
       "      <td>krtmsprdcomh21.krtms.ccskrsrchenginep023</td>\n",
       "    </tr>\n",
       "    <tr>\n",
       "      <th>430</th>\n",
       "      <td>krtmsprdcomd04.krtms.ccskrsrchinterfacep</td>\n",
       "      <td>krtmsprdcomd04.krtms.ccskrsrchinterfacep08</td>\n",
       "    </tr>\n",
       "    <tr>\n",
       "      <th>438</th>\n",
       "      <td>krtmsprdcomh13.krtms.ccskrsvchubcoremp</td>\n",
       "      <td>krtmsprdcomh13.krtms.ccskrsvchubcoremp03</td>\n",
       "    </tr>\n",
       "    <tr>\n",
       "      <th>442</th>\n",
       "      <td>krtmsprdcomc09.krtms.ccskrsvchubcorewp</td>\n",
       "      <td>krtmsprdcomc09.krtms.ccskrsvchubcorewp04</td>\n",
       "    </tr>\n",
       "    <tr>\n",
       "      <th>452</th>\n",
       "      <td>krtmsprdcomh11.krtms.ccskrsvchubigwmp</td>\n",
       "      <td>krtmsprdcomh11.krtms.ccskrsvchubigwmp03</td>\n",
       "    </tr>\n",
       "    <tr>\n",
       "      <th>527</th>\n",
       "      <td>krtmsprdcomh03.krtms.ccskrvrsbsp</td>\n",
       "      <td>krtmsprdcomh03.krtms.ccskrvrsbsp06</td>\n",
       "    </tr>\n",
       "  </tbody>\n",
       "</table>\n",
       "</div>"
      ],
      "text/plain": [
       "                              host-instance-trim  \\\n",
       "56          krtmsprdcomq03.krtms.ccskrccspapigwp   \n",
       "67      krtmsprdcomd21.krtms.ccskrccspdsfludentp   \n",
       "85         krtmsprdcomh24.krtms.ccskrccspgtcwasp   \n",
       "95          krtmsprdcomh07.krtms.ccskrccspkafkap   \n",
       "96          krtmsprdcomh05.krtms.ccskrccspkafkap   \n",
       "112         krtmsprdcomc05.krtms.ccskrccspredisp   \n",
       "141           krtmsprdcomd21.krtms.ccskrccspzoop   \n",
       "151  krtmsprdcomc11.krtms.ccskrdynatracemanagerp   \n",
       "180          krtmsprdcomq01.krtms.ccskrextissbsp   \n",
       "181          krtmsprdcomq02.krtms.ccskrextissbsp   \n",
       "184          krtmsprdcomq01.krtms.ccskrextitsbsp   \n",
       "185          krtmsprdcomq02.krtms.ccskrextitsbsp   \n",
       "239               krtmsprdcomh04.krtms.ccskrissp   \n",
       "261       krtmsprdcomd19.krtms.ccskrlmslogstashp   \n",
       "262       krtmsprdcomd20.krtms.ccskrlmslogstashp   \n",
       "263       krtmsprdcomd19.krtms.ccskrlmslogstashp   \n",
       "264       krtmsprdcomd20.krtms.ccskrlmslogstashp   \n",
       "265       krtmsprdcomd19.krtms.ccskrlmslogstashp   \n",
       "266       krtmsprdcomd20.krtms.ccskrlmslogstashp   \n",
       "287        krtmsprdcomh15.krtms.ccskrmaasoperdbp   \n",
       "333             krtmsprdcomc11.krtms.ccskrotadmp   \n",
       "334             krtmsprdcomc04.krtms.ccskrotadmp   \n",
       "362            krtmsprdcomd15.krtms.ccskrspwasp0   \n",
       "381       krtmsprdcomh09.krtms.ccskrsrchanalysis   \n",
       "404       krtmsprdcomh19.krtms.ccskrsrchenginep0   \n",
       "405       krtmsprdcomh17.krtms.ccskrsrchenginep0   \n",
       "409       krtmsprdcomh20.krtms.ccskrsrchenginep0   \n",
       "410       krtmsprdcomh21.krtms.ccskrsrchenginep0   \n",
       "430     krtmsprdcomd04.krtms.ccskrsrchinterfacep   \n",
       "438       krtmsprdcomh13.krtms.ccskrsvchubcoremp   \n",
       "442       krtmsprdcomc09.krtms.ccskrsvchubcorewp   \n",
       "452        krtmsprdcomh11.krtms.ccskrsvchubigwmp   \n",
       "527             krtmsprdcomh03.krtms.ccskrvrsbsp   \n",
       "\n",
       "                                     host-instance  \n",
       "56          krtmsprdcomq03.krtms.ccskrccspapigwp03  \n",
       "67      krtmsprdcomd21.krtms.ccskrccspdsfludentp02  \n",
       "85         krtmsprdcomh24.krtms.ccskrccspgtcwasp05  \n",
       "95          krtmsprdcomh07.krtms.ccskrccspkafkap04  \n",
       "96          krtmsprdcomh05.krtms.ccskrccspkafkap05  \n",
       "112         krtmsprdcomc05.krtms.ccskrccspredisp03  \n",
       "141           krtmsprdcomd21.krtms.ccskrccspzoop02  \n",
       "151  krtmsprdcomc11.krtms.ccskrdynatracemanagerp03  \n",
       "180          krtmsprdcomq01.krtms.ccskrextissbsp03  \n",
       "181          krtmsprdcomq02.krtms.ccskrextissbsp04  \n",
       "184          krtmsprdcomq01.krtms.ccskrextitsbsp03  \n",
       "185          krtmsprdcomq02.krtms.ccskrextitsbsp04  \n",
       "239               krtmsprdcomh04.krtms.ccskrissp04  \n",
       "261       krtmsprdcomd19.krtms.ccskrlmslogstashp03  \n",
       "262       krtmsprdcomd20.krtms.ccskrlmslogstashp04  \n",
       "263       krtmsprdcomd19.krtms.ccskrlmslogstashp05  \n",
       "264       krtmsprdcomd20.krtms.ccskrlmslogstashp06  \n",
       "265       krtmsprdcomd19.krtms.ccskrlmslogstashp07  \n",
       "266       krtmsprdcomd20.krtms.ccskrlmslogstashp08  \n",
       "287        krtmsprdcomh15.krtms.ccskrmaasoperdbp06  \n",
       "333             krtmsprdcomc11.krtms.ccskrotadmp03  \n",
       "334             krtmsprdcomc04.krtms.ccskrotadmp04  \n",
       "362            krtmsprdcomd15.krtms.ccskrspwasp011  \n",
       "381       krtmsprdcomh09.krtms.ccskrsrchanalysis03  \n",
       "404       krtmsprdcomh19.krtms.ccskrsrchenginep018  \n",
       "405       krtmsprdcomh17.krtms.ccskrsrchenginep019  \n",
       "409       krtmsprdcomh20.krtms.ccskrsrchenginep022  \n",
       "410       krtmsprdcomh21.krtms.ccskrsrchenginep023  \n",
       "430     krtmsprdcomd04.krtms.ccskrsrchinterfacep08  \n",
       "438       krtmsprdcomh13.krtms.ccskrsvchubcoremp03  \n",
       "442       krtmsprdcomc09.krtms.ccskrsvchubcorewp04  \n",
       "452        krtmsprdcomh11.krtms.ccskrsvchubigwmp03  \n",
       "527             krtmsprdcomh03.krtms.ccskrvrsbsp06  "
      ]
     },
     "execution_count": 20,
     "metadata": {},
     "output_type": "execute_result"
    }
   ],
   "source": [
    "df3"
   ]
  },
  {
   "cell_type": "code",
   "execution_count": 21,
   "id": "8a397310-c7d2-417c-91bd-4fb2e83d3603",
   "metadata": {},
   "outputs": [
    {
     "data": {
      "text/plain": [
       "host-instance-trim    33\n",
       "host-instance         33\n",
       "dtype: int64"
      ]
     },
     "execution_count": 21,
     "metadata": {},
     "output_type": "execute_result"
    }
   ],
   "source": [
    "df3.count()"
   ]
  },
  {
   "cell_type": "code",
   "execution_count": 22,
   "id": "29a3b77b-27b5-4a7d-b790-0e54318c9d27",
   "metadata": {},
   "outputs": [],
   "source": [
    "list = df2['host-instance'].tolist()"
   ]
  },
  {
   "cell_type": "code",
   "execution_count": 23,
   "id": "3c0521ad-030a-4f4e-8577-c8a8a347ffbd",
   "metadata": {},
   "outputs": [],
   "source": [
    "searchkey = df3['host-instance-trim'].tolist()"
   ]
  },
  {
   "cell_type": "code",
   "execution_count": 24,
   "id": "085ff3ab-880b-4706-955d-8389bb5de65c",
   "metadata": {},
   "outputs": [],
   "source": [
    "collection = []\n",
    "\n",
    "for item in list:\n",
    "    if any(key in item for key in searchkey):\n",
    "        collection.append(item)"
   ]
  },
  {
   "cell_type": "code",
   "execution_count": 25,
   "id": "bbd514af-9a34-4acf-b1f0-a8b5ff2fb4fc",
   "metadata": {},
   "outputs": [
    {
     "data": {
      "text/plain": [
       "62"
      ]
     },
     "execution_count": 25,
     "metadata": {},
     "output_type": "execute_result"
    }
   ],
   "source": [
    "len(collection)"
   ]
  },
  {
   "cell_type": "code",
   "execution_count": 26,
   "id": "ded16453-d74f-4396-86bf-02e811b8a54d",
   "metadata": {},
   "outputs": [],
   "source": [
    "df_result = pd.DataFrame(collection)"
   ]
  },
  {
   "cell_type": "code",
   "execution_count": 27,
   "id": "af8353c3-225e-4df2-98c2-97ff0737e297",
   "metadata": {},
   "outputs": [],
   "source": [
    "df_result.to_csv('oldprd_2-or-more-instances-per-host.csv')"
   ]
  },
  {
   "cell_type": "code",
   "execution_count": 28,
   "id": "0f3800c0-3761-4b52-a5cf-cb008d06cd91",
   "metadata": {},
   "outputs": [
    {
     "data": {
      "text/plain": [
       "0    62\n",
       "dtype: int64"
      ]
     },
     "execution_count": 28,
     "metadata": {},
     "output_type": "execute_result"
    }
   ],
   "source": [
    "df_result.count()"
   ]
  },
  {
   "cell_type": "code",
   "execution_count": 29,
   "id": "510517ab-81f1-4c13-bb0f-0967b20af1cf",
   "metadata": {},
   "outputs": [
    {
     "data": {
      "text/html": [
       "<div>\n",
       "<style scoped>\n",
       "    .dataframe tbody tr th:only-of-type {\n",
       "        vertical-align: middle;\n",
       "    }\n",
       "\n",
       "    .dataframe tbody tr th {\n",
       "        vertical-align: top;\n",
       "    }\n",
       "\n",
       "    .dataframe thead th {\n",
       "        text-align: right;\n",
       "    }\n",
       "</style>\n",
       "<table border=\"1\" class=\"dataframe\">\n",
       "  <thead>\n",
       "    <tr style=\"text-align: right;\">\n",
       "      <th></th>\n",
       "      <th>0</th>\n",
       "    </tr>\n",
       "  </thead>\n",
       "  <tbody>\n",
       "    <tr>\n",
       "      <th>0</th>\n",
       "      <td>krtmsprdcomq03.krtms.ccskrccspapigwp01</td>\n",
       "    </tr>\n",
       "    <tr>\n",
       "      <th>1</th>\n",
       "      <td>krtmsprdcomq03.krtms.ccskrccspapigwp03</td>\n",
       "    </tr>\n",
       "    <tr>\n",
       "      <th>2</th>\n",
       "      <td>krtmsprdcomd21.krtms.ccskrccspdsfludentp01</td>\n",
       "    </tr>\n",
       "    <tr>\n",
       "      <th>3</th>\n",
       "      <td>krtmsprdcomd21.krtms.ccskrccspdsfludentp02</td>\n",
       "    </tr>\n",
       "    <tr>\n",
       "      <th>4</th>\n",
       "      <td>krtmsprdcomh24.krtms.ccskrccspgtcwasp02</td>\n",
       "    </tr>\n",
       "    <tr>\n",
       "      <th>...</th>\n",
       "      <td>...</td>\n",
       "    </tr>\n",
       "    <tr>\n",
       "      <th>57</th>\n",
       "      <td>krtmsprdcomc09.krtms.ccskrsvchubcorewp04</td>\n",
       "    </tr>\n",
       "    <tr>\n",
       "      <th>58</th>\n",
       "      <td>krtmsprdcomh11.krtms.ccskrsvchubigwmp01</td>\n",
       "    </tr>\n",
       "    <tr>\n",
       "      <th>59</th>\n",
       "      <td>krtmsprdcomh11.krtms.ccskrsvchubigwmp03</td>\n",
       "    </tr>\n",
       "    <tr>\n",
       "      <th>60</th>\n",
       "      <td>krtmsprdcomh03.krtms.ccskrvrsbsp03</td>\n",
       "    </tr>\n",
       "    <tr>\n",
       "      <th>61</th>\n",
       "      <td>krtmsprdcomh03.krtms.ccskrvrsbsp06</td>\n",
       "    </tr>\n",
       "  </tbody>\n",
       "</table>\n",
       "<p>62 rows × 1 columns</p>\n",
       "</div>"
      ],
      "text/plain": [
       "                                             0\n",
       "0       krtmsprdcomq03.krtms.ccskrccspapigwp01\n",
       "1       krtmsprdcomq03.krtms.ccskrccspapigwp03\n",
       "2   krtmsprdcomd21.krtms.ccskrccspdsfludentp01\n",
       "3   krtmsprdcomd21.krtms.ccskrccspdsfludentp02\n",
       "4      krtmsprdcomh24.krtms.ccskrccspgtcwasp02\n",
       "..                                         ...\n",
       "57    krtmsprdcomc09.krtms.ccskrsvchubcorewp04\n",
       "58     krtmsprdcomh11.krtms.ccskrsvchubigwmp01\n",
       "59     krtmsprdcomh11.krtms.ccskrsvchubigwmp03\n",
       "60          krtmsprdcomh03.krtms.ccskrvrsbsp03\n",
       "61          krtmsprdcomh03.krtms.ccskrvrsbsp06\n",
       "\n",
       "[62 rows x 1 columns]"
      ]
     },
     "execution_count": 29,
     "metadata": {},
     "output_type": "execute_result"
    }
   ],
   "source": [
    "df_result"
   ]
  },
  {
   "cell_type": "code",
   "execution_count": null,
   "id": "cbb1034b-427c-49d3-816f-adecbf045caf",
   "metadata": {},
   "outputs": [],
   "source": []
  }
 ],
 "metadata": {
  "kernelspec": {
   "display_name": "Python 3 (ipykernel)",
   "language": "python",
   "name": "python3"
  },
  "language_info": {
   "codemirror_mode": {
    "name": "ipython",
    "version": 3
   },
   "file_extension": ".py",
   "mimetype": "text/x-python",
   "name": "python",
   "nbconvert_exporter": "python",
   "pygments_lexer": "ipython3",
   "version": "3.9.6"
  }
 },
 "nbformat": 4,
 "nbformat_minor": 5
}
