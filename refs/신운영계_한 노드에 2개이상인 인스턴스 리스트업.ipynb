{
 "cells": [
  {
   "cell_type": "code",
   "execution_count": 1,
   "id": "9580a945-197c-4e47-a40e-7eabf2b5a633",
   "metadata": {},
   "outputs": [],
   "source": [
    "import pandas as pd\n",
    "from pandas_ods_reader import read_ods"
   ]
  },
  {
   "cell_type": "markdown",
   "id": "8049f0f7-f60c-45c4-92c4-256506f72b03",
   "metadata": {
    "tags": []
   },
   "source": [
    "# Data Loading"
   ]
  },
  {
   "cell_type": "code",
   "execution_count": 2,
   "id": "b82d9ed6-049a-42fa-b6d7-116bbf6440b1",
   "metadata": {},
   "outputs": [],
   "source": [
    "base_path = r\"./host_uniq/new_prd_vm.ods\"\n",
    "sheet = 'Sheet1'\n",
    "\n",
    "df = read_ods(base_path, sheet, headers=True)"
   ]
  },
  {
   "cell_type": "code",
   "execution_count": 3,
   "id": "bfb9ee98-7af4-4b78-a735-c9755632c274",
   "metadata": {},
   "outputs": [],
   "source": [
    "df = df[['Name, instance-id, uuid', 'Host']]"
   ]
  },
  {
   "cell_type": "code",
   "execution_count": 4,
   "id": "4f6f4665-c2ec-47f6-8c41-532d05ed8f84",
   "metadata": {},
   "outputs": [],
   "source": [
    "df = df.set_axis([\"instance\", \"host\"], axis=1)"
   ]
  },
  {
   "cell_type": "code",
   "execution_count": 5,
   "id": "80b4da1d-bab1-4371-9be1-a48440f4a6a4",
   "metadata": {},
   "outputs": [],
   "source": [
    "df_no_host = df[df[\"host\"] == 'null']"
   ]
  },
  {
   "cell_type": "code",
   "execution_count": 6,
   "id": "f582f4ad-89b6-4ff3-97ce-95580ebd41d8",
   "metadata": {},
   "outputs": [
    {
     "data": {
      "text/plain": [
       "instance    18\n",
       "host        18\n",
       "dtype: int64"
      ]
     },
     "execution_count": 6,
     "metadata": {},
     "output_type": "execute_result"
    }
   ],
   "source": [
    "df_no_host.count()"
   ]
  },
  {
   "cell_type": "code",
   "execution_count": 7,
   "id": "aa2ec4ee-8446-449a-8b1c-f640bc3c8459",
   "metadata": {},
   "outputs": [],
   "source": [
    "df2 = df[df[\"host\"] != 'null']"
   ]
  },
  {
   "cell_type": "code",
   "execution_count": 8,
   "id": "eddf8ccc-5861-46eb-a7f3-8984ede15438",
   "metadata": {},
   "outputs": [
    {
     "data": {
      "text/plain": [
       "instance    1464\n",
       "host        1464\n",
       "dtype: int64"
      ]
     },
     "execution_count": 8,
     "metadata": {},
     "output_type": "execute_result"
    }
   ],
   "source": [
    "df2.count()"
   ]
  },
  {
   "cell_type": "code",
   "execution_count": 9,
   "id": "48ab7dee-ba78-4fa2-88ea-aae06a9826a1",
   "metadata": {},
   "outputs": [
    {
     "data": {
      "text/html": [
       "<div>\n",
       "<style scoped>\n",
       "    .dataframe tbody tr th:only-of-type {\n",
       "        vertical-align: middle;\n",
       "    }\n",
       "\n",
       "    .dataframe tbody tr th {\n",
       "        vertical-align: top;\n",
       "    }\n",
       "\n",
       "    .dataframe thead th {\n",
       "        text-align: right;\n",
       "    }\n",
       "</style>\n",
       "<table border=\"1\" class=\"dataframe\">\n",
       "  <thead>\n",
       "    <tr style=\"text-align: right;\">\n",
       "      <th></th>\n",
       "      <th>instance</th>\n",
       "      <th>host</th>\n",
       "    </tr>\n",
       "  </thead>\n",
       "  <tbody>\n",
       "    <tr>\n",
       "      <th>0</th>\n",
       "      <td>ccskrbigps02dnp03</td>\n",
       "      <td>krcloudprdcomdr1013</td>\n",
       "    </tr>\n",
       "    <tr>\n",
       "      <th>1</th>\n",
       "      <td>ccskrbigps02dnp04</td>\n",
       "      <td>krcloudprdcomdr1014</td>\n",
       "    </tr>\n",
       "    <tr>\n",
       "      <th>2</th>\n",
       "      <td>ccskrbigps02dnp05</td>\n",
       "      <td>krcloudprdcomdr1015</td>\n",
       "    </tr>\n",
       "    <tr>\n",
       "      <th>3</th>\n",
       "      <td>ccskrccvrasrsp01</td>\n",
       "      <td>krcloudprdcomdr1201</td>\n",
       "    </tr>\n",
       "    <tr>\n",
       "      <th>4</th>\n",
       "      <td>ccskrccvrasrsp02</td>\n",
       "      <td>krcloudprdcomdr1202</td>\n",
       "    </tr>\n",
       "  </tbody>\n",
       "</table>\n",
       "</div>"
      ],
      "text/plain": [
       "            instance                 host\n",
       "0  ccskrbigps02dnp03  krcloudprdcomdr1013\n",
       "1  ccskrbigps02dnp04  krcloudprdcomdr1014\n",
       "2  ccskrbigps02dnp05  krcloudprdcomdr1015\n",
       "3   ccskrccvrasrsp01  krcloudprdcomdr1201\n",
       "4   ccskrccvrasrsp02  krcloudprdcomdr1202"
      ]
     },
     "execution_count": 9,
     "metadata": {},
     "output_type": "execute_result"
    }
   ],
   "source": [
    "df2.head()"
   ]
  },
  {
   "cell_type": "code",
   "execution_count": 10,
   "id": "0f351a2f-3fe1-46f7-88e9-9abc3bf0ac79",
   "metadata": {},
   "outputs": [
    {
     "name": "stderr",
     "output_type": "stream",
     "text": [
      "C:\\Users\\H2105067\\AppData\\Local\\Temp/ipykernel_9040/1665989558.py:1: SettingWithCopyWarning: \n",
      "A value is trying to be set on a copy of a slice from a DataFrame.\n",
      "Try using .loc[row_indexer,col_indexer] = value instead\n",
      "\n",
      "See the caveats in the documentation: https://pandas.pydata.org/pandas-docs/stable/user_guide/indexing.html#returning-a-view-versus-a-copy\n",
      "  df2['host-instance'] = df2.apply(lambda row: row.host + \".\" + row.instance, axis=1)\n"
     ]
    }
   ],
   "source": [
    "df2['host-instance'] = df2.apply(lambda row: row.host + \".\" + row.instance, axis=1)"
   ]
  },
  {
   "cell_type": "code",
   "execution_count": 11,
   "id": "9e48e25c-2f75-47b8-8b82-247780b1db2c",
   "metadata": {},
   "outputs": [
    {
     "data": {
      "text/html": [
       "<div>\n",
       "<style scoped>\n",
       "    .dataframe tbody tr th:only-of-type {\n",
       "        vertical-align: middle;\n",
       "    }\n",
       "\n",
       "    .dataframe tbody tr th {\n",
       "        vertical-align: top;\n",
       "    }\n",
       "\n",
       "    .dataframe thead th {\n",
       "        text-align: right;\n",
       "    }\n",
       "</style>\n",
       "<table border=\"1\" class=\"dataframe\">\n",
       "  <thead>\n",
       "    <tr style=\"text-align: right;\">\n",
       "      <th></th>\n",
       "      <th>instance</th>\n",
       "      <th>host</th>\n",
       "      <th>host-instance</th>\n",
       "    </tr>\n",
       "  </thead>\n",
       "  <tbody>\n",
       "    <tr>\n",
       "      <th>0</th>\n",
       "      <td>ccskrbigps02dnp03</td>\n",
       "      <td>krcloudprdcomdr1013</td>\n",
       "      <td>krcloudprdcomdr1013.ccskrbigps02dnp03</td>\n",
       "    </tr>\n",
       "    <tr>\n",
       "      <th>1</th>\n",
       "      <td>ccskrbigps02dnp04</td>\n",
       "      <td>krcloudprdcomdr1014</td>\n",
       "      <td>krcloudprdcomdr1014.ccskrbigps02dnp04</td>\n",
       "    </tr>\n",
       "    <tr>\n",
       "      <th>2</th>\n",
       "      <td>ccskrbigps02dnp05</td>\n",
       "      <td>krcloudprdcomdr1015</td>\n",
       "      <td>krcloudprdcomdr1015.ccskrbigps02dnp05</td>\n",
       "    </tr>\n",
       "    <tr>\n",
       "      <th>3</th>\n",
       "      <td>ccskrccvrasrsp01</td>\n",
       "      <td>krcloudprdcomdr1201</td>\n",
       "      <td>krcloudprdcomdr1201.ccskrccvrasrsp01</td>\n",
       "    </tr>\n",
       "    <tr>\n",
       "      <th>4</th>\n",
       "      <td>ccskrccvrasrsp02</td>\n",
       "      <td>krcloudprdcomdr1202</td>\n",
       "      <td>krcloudprdcomdr1202.ccskrccvrasrsp02</td>\n",
       "    </tr>\n",
       "  </tbody>\n",
       "</table>\n",
       "</div>"
      ],
      "text/plain": [
       "            instance                 host  \\\n",
       "0  ccskrbigps02dnp03  krcloudprdcomdr1013   \n",
       "1  ccskrbigps02dnp04  krcloudprdcomdr1014   \n",
       "2  ccskrbigps02dnp05  krcloudprdcomdr1015   \n",
       "3   ccskrccvrasrsp01  krcloudprdcomdr1201   \n",
       "4   ccskrccvrasrsp02  krcloudprdcomdr1202   \n",
       "\n",
       "                           host-instance  \n",
       "0  krcloudprdcomdr1013.ccskrbigps02dnp03  \n",
       "1  krcloudprdcomdr1014.ccskrbigps02dnp04  \n",
       "2  krcloudprdcomdr1015.ccskrbigps02dnp05  \n",
       "3   krcloudprdcomdr1201.ccskrccvrasrsp01  \n",
       "4   krcloudprdcomdr1202.ccskrccvrasrsp02  "
      ]
     },
     "execution_count": 11,
     "metadata": {},
     "output_type": "execute_result"
    }
   ],
   "source": [
    "df2.head()"
   ]
  },
  {
   "cell_type": "code",
   "execution_count": 12,
   "id": "1f779632-f786-4f40-842f-54f51e2677e5",
   "metadata": {},
   "outputs": [
    {
     "name": "stderr",
     "output_type": "stream",
     "text": [
      "C:\\Users\\H2105067\\AppData\\Local\\Temp/ipykernel_9040/965772883.py:1: SettingWithCopyWarning: \n",
      "A value is trying to be set on a copy of a slice from a DataFrame.\n",
      "Try using .loc[row_indexer,col_indexer] = value instead\n",
      "\n",
      "See the caveats in the documentation: https://pandas.pydata.org/pandas-docs/stable/user_guide/indexing.html#returning-a-view-versus-a-copy\n",
      "  df2['host-instance-trim'] = df2.apply(lambda row: row.host + \".\" + row.instance[:-2], axis=1)\n"
     ]
    }
   ],
   "source": [
    "df2['host-instance-trim'] = df2.apply(lambda row: row.host + \".\" + row.instance[:-2], axis=1)"
   ]
  },
  {
   "cell_type": "code",
   "execution_count": 13,
   "id": "96c8d97b-b9ec-4191-9824-9100474f2ae3",
   "metadata": {},
   "outputs": [
    {
     "data": {
      "text/html": [
       "<div>\n",
       "<style scoped>\n",
       "    .dataframe tbody tr th:only-of-type {\n",
       "        vertical-align: middle;\n",
       "    }\n",
       "\n",
       "    .dataframe tbody tr th {\n",
       "        vertical-align: top;\n",
       "    }\n",
       "\n",
       "    .dataframe thead th {\n",
       "        text-align: right;\n",
       "    }\n",
       "</style>\n",
       "<table border=\"1\" class=\"dataframe\">\n",
       "  <thead>\n",
       "    <tr style=\"text-align: right;\">\n",
       "      <th></th>\n",
       "      <th>instance</th>\n",
       "      <th>host</th>\n",
       "      <th>host-instance</th>\n",
       "      <th>host-instance-trim</th>\n",
       "    </tr>\n",
       "  </thead>\n",
       "  <tbody>\n",
       "    <tr>\n",
       "      <th>0</th>\n",
       "      <td>ccskrbigps02dnp03</td>\n",
       "      <td>krcloudprdcomdr1013</td>\n",
       "      <td>krcloudprdcomdr1013.ccskrbigps02dnp03</td>\n",
       "      <td>krcloudprdcomdr1013.ccskrbigps02dnp</td>\n",
       "    </tr>\n",
       "    <tr>\n",
       "      <th>1</th>\n",
       "      <td>ccskrbigps02dnp04</td>\n",
       "      <td>krcloudprdcomdr1014</td>\n",
       "      <td>krcloudprdcomdr1014.ccskrbigps02dnp04</td>\n",
       "      <td>krcloudprdcomdr1014.ccskrbigps02dnp</td>\n",
       "    </tr>\n",
       "    <tr>\n",
       "      <th>2</th>\n",
       "      <td>ccskrbigps02dnp05</td>\n",
       "      <td>krcloudprdcomdr1015</td>\n",
       "      <td>krcloudprdcomdr1015.ccskrbigps02dnp05</td>\n",
       "      <td>krcloudprdcomdr1015.ccskrbigps02dnp</td>\n",
       "    </tr>\n",
       "    <tr>\n",
       "      <th>3</th>\n",
       "      <td>ccskrccvrasrsp01</td>\n",
       "      <td>krcloudprdcomdr1201</td>\n",
       "      <td>krcloudprdcomdr1201.ccskrccvrasrsp01</td>\n",
       "      <td>krcloudprdcomdr1201.ccskrccvrasrsp</td>\n",
       "    </tr>\n",
       "    <tr>\n",
       "      <th>4</th>\n",
       "      <td>ccskrccvrasrsp02</td>\n",
       "      <td>krcloudprdcomdr1202</td>\n",
       "      <td>krcloudprdcomdr1202.ccskrccvrasrsp02</td>\n",
       "      <td>krcloudprdcomdr1202.ccskrccvrasrsp</td>\n",
       "    </tr>\n",
       "  </tbody>\n",
       "</table>\n",
       "</div>"
      ],
      "text/plain": [
       "            instance                 host  \\\n",
       "0  ccskrbigps02dnp03  krcloudprdcomdr1013   \n",
       "1  ccskrbigps02dnp04  krcloudprdcomdr1014   \n",
       "2  ccskrbigps02dnp05  krcloudprdcomdr1015   \n",
       "3   ccskrccvrasrsp01  krcloudprdcomdr1201   \n",
       "4   ccskrccvrasrsp02  krcloudprdcomdr1202   \n",
       "\n",
       "                           host-instance                   host-instance-trim  \n",
       "0  krcloudprdcomdr1013.ccskrbigps02dnp03  krcloudprdcomdr1013.ccskrbigps02dnp  \n",
       "1  krcloudprdcomdr1014.ccskrbigps02dnp04  krcloudprdcomdr1014.ccskrbigps02dnp  \n",
       "2  krcloudprdcomdr1015.ccskrbigps02dnp05  krcloudprdcomdr1015.ccskrbigps02dnp  \n",
       "3   krcloudprdcomdr1201.ccskrccvrasrsp01   krcloudprdcomdr1201.ccskrccvrasrsp  \n",
       "4   krcloudprdcomdr1202.ccskrccvrasrsp02   krcloudprdcomdr1202.ccskrccvrasrsp  "
      ]
     },
     "execution_count": 13,
     "metadata": {},
     "output_type": "execute_result"
    }
   ],
   "source": [
    "df2.head()"
   ]
  },
  {
   "cell_type": "code",
   "execution_count": 14,
   "id": "575cff51-aca2-402b-a91d-21a719358388",
   "metadata": {},
   "outputs": [
    {
     "data": {
      "text/plain": [
       "count                                   1464\n",
       "unique                                  1384\n",
       "top       krcloudprdcomhr101.ccskrtmvcrmwsp0\n",
       "freq                                       5\n",
       "Name: host-instance-trim, dtype: object"
      ]
     },
     "execution_count": 14,
     "metadata": {},
     "output_type": "execute_result"
    }
   ],
   "source": [
    "df2['host-instance-trim'].describe()"
   ]
  },
  {
   "cell_type": "code",
   "execution_count": 15,
   "id": "7c2bfbc5-fea6-4615-8997-b501fe5f13e8",
   "metadata": {},
   "outputs": [
    {
     "data": {
      "text/plain": [
       "instance              80\n",
       "host                  80\n",
       "host-instance         80\n",
       "host-instance-trim    80\n",
       "dtype: int64"
      ]
     },
     "execution_count": 15,
     "metadata": {},
     "output_type": "execute_result"
    }
   ],
   "source": [
    "df2[df2['host-instance-trim'].duplicated()].count()"
   ]
  },
  {
   "cell_type": "code",
   "execution_count": 16,
   "id": "373f279f-0843-44ee-bbd5-4693e4578078",
   "metadata": {},
   "outputs": [],
   "source": [
    "df3 = df2[df2['host-instance-trim'].duplicated()][['host-instance-trim', 'host-instance']]"
   ]
  },
  {
   "cell_type": "code",
   "execution_count": 17,
   "id": "1762bcb5-dfb4-47b9-b024-89c51081dee9",
   "metadata": {},
   "outputs": [
    {
     "data": {
      "text/plain": [
       "host-instance-trim    80\n",
       "host-instance         80\n",
       "dtype: int64"
      ]
     },
     "execution_count": 17,
     "metadata": {},
     "output_type": "execute_result"
    }
   ],
   "source": [
    "df3.count()"
   ]
  },
  {
   "cell_type": "code",
   "execution_count": 18,
   "id": "745ec973-c52f-498f-9652-44f89218fb20",
   "metadata": {},
   "outputs": [
    {
     "data": {
      "text/html": [
       "<div>\n",
       "<style scoped>\n",
       "    .dataframe tbody tr th:only-of-type {\n",
       "        vertical-align: middle;\n",
       "    }\n",
       "\n",
       "    .dataframe tbody tr th {\n",
       "        vertical-align: top;\n",
       "    }\n",
       "\n",
       "    .dataframe thead th {\n",
       "        text-align: right;\n",
       "    }\n",
       "</style>\n",
       "<table border=\"1\" class=\"dataframe\">\n",
       "  <thead>\n",
       "    <tr style=\"text-align: right;\">\n",
       "      <th></th>\n",
       "      <th>host-instance-trim</th>\n",
       "      <th>host-instance</th>\n",
       "    </tr>\n",
       "  </thead>\n",
       "  <tbody>\n",
       "    <tr>\n",
       "      <th>77</th>\n",
       "      <td>krcloudprdcomdr1405.ccskrnmcpp0</td>\n",
       "      <td>krcloudprdcomdr1405.ccskrnmcpp013</td>\n",
       "    </tr>\n",
       "    <tr>\n",
       "      <th>82</th>\n",
       "      <td>krcloudprdcomdr1406.ccskomongoshard2cfgdbp</td>\n",
       "      <td>krcloudprdcomdr1406.ccskomongoshard2cfgdbp03</td>\n",
       "    </tr>\n",
       "    <tr>\n",
       "      <th>103</th>\n",
       "      <td>krcloudprdcomdr1407.ccskrlmsdatap0</td>\n",
       "      <td>krcloudprdcomdr1407.ccskrlmsdatap019</td>\n",
       "    </tr>\n",
       "    <tr>\n",
       "      <th>155</th>\n",
       "      <td>krcloudprdcomdr1411.ccskrlmsdatap0</td>\n",
       "      <td>krcloudprdcomdr1411.ccskrlmsdatap017</td>\n",
       "    </tr>\n",
       "    <tr>\n",
       "      <th>243</th>\n",
       "      <td>krcloudprdcomdr1505.ccskrtmvcrmwsp</td>\n",
       "      <td>krcloudprdcomdr1505.ccskrtmvcrmwsp08</td>\n",
       "    </tr>\n",
       "    <tr>\n",
       "      <th>...</th>\n",
       "      <td>...</td>\n",
       "      <td>...</td>\n",
       "    </tr>\n",
       "    <tr>\n",
       "      <th>1222</th>\n",
       "      <td>krcloudprdcomhr508.ccskrrprgp</td>\n",
       "      <td>krcloudprdcomhr508.ccskrrprgp32</td>\n",
       "    </tr>\n",
       "    <tr>\n",
       "      <th>1233</th>\n",
       "      <td>krcloudprdcomhr509.ccskrtrasvcp</td>\n",
       "      <td>krcloudprdcomhr509.ccskrtrasvcp09</td>\n",
       "    </tr>\n",
       "    <tr>\n",
       "      <th>1268</th>\n",
       "      <td>krcloudprdcomhr512.ccskrtrasvcp</td>\n",
       "      <td>krcloudprdcomhr512.ccskrtrasvcp08</td>\n",
       "    </tr>\n",
       "    <tr>\n",
       "      <th>1301</th>\n",
       "      <td>krcloudprdcomhr515.ccskrtrasvcp</td>\n",
       "      <td>krcloudprdcomhr515.ccskrtrasvcp07</td>\n",
       "    </tr>\n",
       "    <tr>\n",
       "      <th>1430</th>\n",
       "      <td>krcloudprdcomhr815.ccskrevplatform2kwp</td>\n",
       "      <td>krcloudprdcomhr815.ccskrevplatform2kwp07</td>\n",
       "    </tr>\n",
       "  </tbody>\n",
       "</table>\n",
       "<p>80 rows × 2 columns</p>\n",
       "</div>"
      ],
      "text/plain": [
       "                              host-instance-trim  \\\n",
       "77               krcloudprdcomdr1405.ccskrnmcpp0   \n",
       "82    krcloudprdcomdr1406.ccskomongoshard2cfgdbp   \n",
       "103           krcloudprdcomdr1407.ccskrlmsdatap0   \n",
       "155           krcloudprdcomdr1411.ccskrlmsdatap0   \n",
       "243           krcloudprdcomdr1505.ccskrtmvcrmwsp   \n",
       "...                                          ...   \n",
       "1222               krcloudprdcomhr508.ccskrrprgp   \n",
       "1233             krcloudprdcomhr509.ccskrtrasvcp   \n",
       "1268             krcloudprdcomhr512.ccskrtrasvcp   \n",
       "1301             krcloudprdcomhr515.ccskrtrasvcp   \n",
       "1430      krcloudprdcomhr815.ccskrevplatform2kwp   \n",
       "\n",
       "                                     host-instance  \n",
       "77               krcloudprdcomdr1405.ccskrnmcpp013  \n",
       "82    krcloudprdcomdr1406.ccskomongoshard2cfgdbp03  \n",
       "103           krcloudprdcomdr1407.ccskrlmsdatap019  \n",
       "155           krcloudprdcomdr1411.ccskrlmsdatap017  \n",
       "243           krcloudprdcomdr1505.ccskrtmvcrmwsp08  \n",
       "...                                            ...  \n",
       "1222               krcloudprdcomhr508.ccskrrprgp32  \n",
       "1233             krcloudprdcomhr509.ccskrtrasvcp09  \n",
       "1268             krcloudprdcomhr512.ccskrtrasvcp08  \n",
       "1301             krcloudprdcomhr515.ccskrtrasvcp07  \n",
       "1430      krcloudprdcomhr815.ccskrevplatform2kwp07  \n",
       "\n",
       "[80 rows x 2 columns]"
      ]
     },
     "execution_count": 18,
     "metadata": {},
     "output_type": "execute_result"
    }
   ],
   "source": [
    "df3"
   ]
  },
  {
   "cell_type": "code",
   "execution_count": 19,
   "id": "8a397310-c7d2-417c-91bd-4fb2e83d3603",
   "metadata": {},
   "outputs": [
    {
     "data": {
      "text/plain": [
       "host-instance-trim    80\n",
       "host-instance         80\n",
       "dtype: int64"
      ]
     },
     "execution_count": 19,
     "metadata": {},
     "output_type": "execute_result"
    }
   ],
   "source": [
    "df3.count()"
   ]
  },
  {
   "cell_type": "code",
   "execution_count": null,
   "id": "38a089f0-b6ae-4e2a-acbc-ebe23870ffc2",
   "metadata": {},
   "outputs": [],
   "source": []
  },
  {
   "cell_type": "code",
   "execution_count": 39,
   "id": "cb343f7d-58ab-4821-b0e1-e6cc060b48ff",
   "metadata": {},
   "outputs": [],
   "source": [
    "# s = set()\n",
    "# for item in df2['host-instance']:\n",
    "#     s.add(item)\n",
    "\n",
    "# print(s)\n",
    "\n",
    "# searchfor = set()\n",
    "# for item in df3['host-instance-trim']:\n",
    "#     searchfor.add(item)\n",
    "\n",
    "# print(searchfor)"
   ]
  },
  {
   "cell_type": "code",
   "execution_count": 20,
   "id": "29a3b77b-27b5-4a7d-b790-0e54318c9d27",
   "metadata": {},
   "outputs": [],
   "source": [
    "list = df2['host-instance'].tolist()"
   ]
  },
  {
   "cell_type": "code",
   "execution_count": 21,
   "id": "3c0521ad-030a-4f4e-8577-c8a8a347ffbd",
   "metadata": {},
   "outputs": [],
   "source": [
    "searchkey = df3['host-instance-trim'].tolist()"
   ]
  },
  {
   "cell_type": "code",
   "execution_count": 24,
   "id": "085ff3ab-880b-4706-955d-8389bb5de65c",
   "metadata": {},
   "outputs": [],
   "source": [
    "collection = []\n",
    "\n",
    "for item in list:\n",
    "    if any(key in item for key in searchkey):\n",
    "        collection.append(item)"
   ]
  },
  {
   "cell_type": "code",
   "execution_count": 26,
   "id": "bbd514af-9a34-4acf-b1f0-a8b5ff2fb4fc",
   "metadata": {},
   "outputs": [
    {
     "data": {
      "text/plain": [
       "157"
      ]
     },
     "execution_count": 26,
     "metadata": {},
     "output_type": "execute_result"
    }
   ],
   "source": [
    "len(collection)"
   ]
  },
  {
   "cell_type": "code",
   "execution_count": 27,
   "id": "ded16453-d74f-4396-86bf-02e811b8a54d",
   "metadata": {},
   "outputs": [],
   "source": [
    "df_result = pd.DataFrame(collection)"
   ]
  },
  {
   "cell_type": "code",
   "execution_count": 28,
   "id": "af8353c3-225e-4df2-98c2-97ff0737e297",
   "metadata": {},
   "outputs": [],
   "source": [
    "df_result.to_csv('newprd_2-or-more-instances-per-host.csv')"
   ]
  },
  {
   "cell_type": "code",
   "execution_count": 29,
   "id": "0f3800c0-3761-4b52-a5cf-cb008d06cd91",
   "metadata": {},
   "outputs": [
    {
     "data": {
      "text/plain": [
       "0    157\n",
       "dtype: int64"
      ]
     },
     "execution_count": 29,
     "metadata": {},
     "output_type": "execute_result"
    }
   ],
   "source": [
    "df_result.count()"
   ]
  },
  {
   "cell_type": "code",
   "execution_count": null,
   "id": "510517ab-81f1-4c13-bb0f-0967b20af1cf",
   "metadata": {},
   "outputs": [],
   "source": []
  }
 ],
 "metadata": {
  "kernelspec": {
   "display_name": "Python 3 (ipykernel)",
   "language": "python",
   "name": "python3"
  },
  "language_info": {
   "codemirror_mode": {
    "name": "ipython",
    "version": 3
   },
   "file_extension": ".py",
   "mimetype": "text/x-python",
   "name": "python",
   "nbconvert_exporter": "python",
   "pygments_lexer": "ipython3",
   "version": "3.9.6"
  }
 },
 "nbformat": 4,
 "nbformat_minor": 5
}
