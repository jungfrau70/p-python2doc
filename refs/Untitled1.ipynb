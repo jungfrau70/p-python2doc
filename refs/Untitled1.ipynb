{
 "cells": [
  {
   "cell_type": "code",
   "execution_count": 1,
   "id": "5bba0cac-ec7a-4ba2-a8bd-d03d0aca65a4",
   "metadata": {},
   "outputs": [
    {
     "name": "stdout",
     "output_type": "stream",
     "text": [
      "Python 3.8.0\n"
     ]
    }
   ],
   "source": [
    "!python -V"
   ]
  },
  {
   "cell_type": "code",
   "execution_count": 2,
   "id": "b611aacf-b8bb-4d27-a703-bf10cfbcaf4a",
   "metadata": {},
   "outputs": [
    {
     "name": "stdout",
     "output_type": "stream",
     "text": [
      "# conda environments:\n",
      "#\n",
      "base                     C:\\Anaconda3\n",
      "Spark-MongoDB-Bokeh-Django-Flask     C:\\Anaconda3\\envs\\Spark-MongoDB-Bokeh-Django-Flask\n",
      "bokeh-notebooks          C:\\Anaconda3\\envs\\bokeh-notebooks\n",
      "pipeline                 C:\\Anaconda3\\envs\\pipeline\n",
      "slacksound               C:\\Anaconda3\\envs\\slacksound\n",
      "                      *  D:\\workspace\\python4excelu\\envs\n",
      "\n"
     ]
    }
   ],
   "source": [
    "!conda env list"
   ]
  },
  {
   "cell_type": "code",
   "execution_count": null,
   "id": "6a029c27-a5ff-46d7-a9ed-9dc375315010",
   "metadata": {},
   "outputs": [],
   "source": []
  }
 ],
 "metadata": {
  "kernelspec": {
   "display_name": "Python 3 (ipykernel)",
   "language": "python",
   "name": "python3"
  },
  "language_info": {
   "codemirror_mode": {
    "name": "ipython",
    "version": 3
   },
   "file_extension": ".py",
   "mimetype": "text/x-python",
   "name": "python",
   "nbconvert_exporter": "python",
   "pygments_lexer": "ipython3",
   "version": "3.8.0"
  }
 },
 "nbformat": 4,
 "nbformat_minor": 5
}
