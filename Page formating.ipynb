{
 "cells": [
  {
   "cell_type": "code",
   "execution_count": 5,
   "id": "18a85beb-a51b-4e0e-83f2-202478b8eb33",
   "metadata": {},
   "outputs": [],
   "source": [
    "from docx import Document\n",
    "from docx.shared import Inches, Cm\n",
    "from docx.text.run import *\n",
    "\n",
    "doc = Document()"
   ]
  },
  {
   "cell_type": "code",
   "execution_count": 6,
   "id": "f835d048-dc3a-4c23-8076-3626de93c151",
   "metadata": {},
   "outputs": [],
   "source": [
    "from document import *"
   ]
  },
  {
   "cell_type": "code",
   "execution_count": 7,
   "id": "17453446-580c-4077-8c2f-6c107d03737e",
   "metadata": {},
   "outputs": [],
   "source": [
    "p = doc.add_heading('Document Title', 0)\n",
    "p.add_run('bold').bold = True\n",
    "p.add_run(' and some')\n",
    "p.add_run('italic.').italic = True\n",
    "run = p.add_run()\n",
    "run.add_break(WD_BREAK.PAGE)"
   ]
  },
  {
   "cell_type": "code",
   "execution_count": 8,
   "id": "8745a3bd-93ce-46e2-a50c-f9adf0205d25",
   "metadata": {},
   "outputs": [],
   "source": [
    "doc.save('demo.docx')"
   ]
  },
  {
   "cell_type": "code",
   "execution_count": 9,
   "id": "a933c941-08a0-4d2f-8c57-c3ed428a7da9",
   "metadata": {},
   "outputs": [
    {
     "data": {
      "text/plain": [
       "<docx.text.paragraph.Paragraph at 0x259273a8670>"
      ]
     },
     "execution_count": 9,
     "metadata": {},
     "output_type": "execute_result"
    }
   ],
   "source": [
    "# Add a Title to the document \n",
    "doc.add_heading('GeeksForGeeks', 0)\n",
    "  \n",
    "# Adding list of style name 'List Number'\n",
    "doc.add_heading('Style: List Number', 3)\n",
    "# Adding points to the list named 'List Number'\n",
    "doc.add_paragraph('The first item in an ordered list.',\n",
    "                  style='List Number')\n",
    "  \n",
    "doc.add_paragraph('The second item in an ordered list.', \n",
    "                  style='List Number')\n",
    "  \n",
    "doc.add_paragraph('The third item in an ordered list.', \n",
    "                  style='List Number')\n",
    "  \n",
    "# Adding list of style name 'List Number 2'\n",
    "doc.add_heading('Style: List Number 2', 3)\n",
    "# Adding points to the list named 'List Number 2'\n",
    "doc.add_paragraph('The first item in an ordered list.',\n",
    "                  style='List Number 2')\n",
    "  \n",
    "doc.add_paragraph('The second item in an ordered list.',\n",
    "                  style='List Number 2')\n",
    "  \n",
    "doc.add_paragraph('The third item in an ordered list.', \n",
    "                  style='List Number 2')\n",
    "  \n",
    "# Adding list of style name 'List Number 3'\n",
    "doc.add_heading('Style: List Number 3', 3)\n",
    "# Adding points to the list named 'List Number 3'\n",
    "doc.add_paragraph('The first item in an ordered list.',\n",
    "                  style='List Number 3')\n",
    "  \n",
    "doc.add_paragraph('The second item in an ordered list.',\n",
    "                  style='List Number 3')\n",
    "  \n",
    "doc.add_paragraph('The third item in an ordered list.',\n",
    "                  style='List Number 3')\n",
    "  \n"
   ]
  },
  {
   "cell_type": "code",
   "execution_count": 10,
   "id": "2babf8fa-66ea-4647-91f3-595ed7fd33af",
   "metadata": {},
   "outputs": [],
   "source": [
    "p = doc.add_heading('Document Title', 0)\n",
    "p.add_run('bold').bold = True\n",
    "p.add_run(' and some')\n",
    "p.add_run('italic.').italic = True\n",
    "run = p.add_run()\n",
    "run.add_break(WD_BREAK.PAGE)"
   ]
  },
  {
   "cell_type": "code",
   "execution_count": 11,
   "id": "c5a5ed47-51fb-4d73-adf8-65be8270ad50",
   "metadata": {},
   "outputs": [],
   "source": [
    "p = doc.add_paragraph('A plain paragraph haveing some ')\n",
    "p.add_run('bold').bold = True\n",
    "p.add_run(' and some')\n",
    "p.add_run('italic.').italic = True\n",
    "run = p.add_run()\n",
    "run.add_break(WD_BREAK.LINE)"
   ]
  },
  {
   "cell_type": "code",
   "execution_count": 12,
   "id": "62ec5197-8b17-4f42-9d8f-9eb034b0dd02",
   "metadata": {},
   "outputs": [],
   "source": [
    "p = doc.add_heading('Heading, level 1', level=1)\n",
    "run = p.add_run()\n",
    "run.add_break(WD_BREAK.COLUMN)"
   ]
  },
  {
   "cell_type": "code",
   "execution_count": 13,
   "id": "b4720f06-9c87-4107-bd0c-f36855907a21",
   "metadata": {},
   "outputs": [],
   "source": [
    "p = doc.add_heading('Heading, level 2', level=2)\n",
    "run = p.add_run()\n",
    "run.add_break(WD_BREAK.LINE_CLEAR_LEFT)"
   ]
  },
  {
   "cell_type": "code",
   "execution_count": 14,
   "id": "3d2a7312-d83a-4477-98df-700f261faa55",
   "metadata": {},
   "outputs": [],
   "source": [
    "p = doc.add_heading('Heading, level 3', level=3)\n",
    "run = p.add_run()\n",
    "run.add_break(WD_BREAK.LINE_CLEAR_RIGHT)"
   ]
  },
  {
   "cell_type": "code",
   "execution_count": 15,
   "id": "7298e0e7-877e-42f8-927e-796b705ed123",
   "metadata": {},
   "outputs": [],
   "source": [
    "p = doc.add_paragraph('Intense quote', style='Intense Quote')\n",
    "run = p.add_run()\n",
    "run.add_break()"
   ]
  },
  {
   "cell_type": "code",
   "execution_count": 16,
   "id": "fee0731b-c9b0-4ae3-a5d4-a7eaa1ae4a46",
   "metadata": {},
   "outputs": [],
   "source": [
    "p = doc.add_paragraph('first item in unordered list', style='List Bullet')\n",
    "run = p.add_run()\n",
    "run.add_break(WD_BREAK.TEXT_WRAPPING)"
   ]
  },
  {
   "cell_type": "code",
   "execution_count": 17,
   "id": "1400a75c-ba0c-485e-9dd0-99ddaca1f621",
   "metadata": {},
   "outputs": [],
   "source": [
    "p = doc.add_paragraph('first item in ordered list', style='List Number')\n",
    "run = p.add_run()\n",
    "run.add_break(WD_BREAK.TEXT_WRAPPING)"
   ]
  },
  {
   "cell_type": "code",
   "execution_count": 18,
   "id": "3e090ffc-7fd2-4a7b-a1c1-e8bcdecd3c71",
   "metadata": {},
   "outputs": [],
   "source": [
    "p = doc.add_paragraph('first item in ordered list', style='List Number')\n",
    "run = p.add_run()\n",
    "run.add_break()"
   ]
  },
  {
   "cell_type": "code",
   "execution_count": 19,
   "id": "c4325ef0-14a7-4287-b2bc-eb2c5d7e49da",
   "metadata": {},
   "outputs": [
    {
     "data": {
      "text/plain": [
       "<docx.shape.InlineShape at 0x259273e07f0>"
      ]
     },
     "execution_count": 19,
     "metadata": {},
     "output_type": "execute_result"
    }
   ],
   "source": [
    "doc.add_picture('table.png', width=Inches(8))"
   ]
  },
  {
   "cell_type": "code",
   "execution_count": 20,
   "id": "0ed4ae08-e5ce-48df-817a-6992a1f40f42",
   "metadata": {},
   "outputs": [],
   "source": [
    "doc.save('demo.docx')"
   ]
  }
 ],
 "metadata": {
  "kernelspec": {
   "display_name": "Python 3 (ipykernel)",
   "language": "python",
   "name": "python3"
  },
  "language_info": {
   "codemirror_mode": {
    "name": "ipython",
    "version": 3
   },
   "file_extension": ".py",
   "mimetype": "text/x-python",
   "name": "python",
   "nbconvert_exporter": "python",
   "pygments_lexer": "ipython3",
   "version": "3.8.0"
  }
 },
 "nbformat": 4,
 "nbformat_minor": 5
}
