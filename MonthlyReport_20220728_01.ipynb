{
 "cells": [
  {
   "cell_type": "code",
   "execution_count": 1,
   "id": "032fea3d-6acb-44cd-a6ae-647ad543400b",
   "metadata": {},
   "outputs": [],
   "source": [
    "import datetime\n",
    "import pandas as pd\n",
    "import warnings\n",
    "warnings.filterwarnings('ignore')\n",
    "\n",
    "from chart import *\n",
    "from table import *\n",
    "from document import *"
   ]
  },
  {
   "cell_type": "code",
   "execution_count": 2,
   "id": "982b673b-7767-41c7-959a-c335f5c1b890",
   "metadata": {},
   "outputs": [
    {
     "name": "stdout",
     "output_type": "stream",
     "text": [
      "보고서 유형:  월간 월:  6월\n",
      "^(KR|CN|NA|EU|SG|RU|Global|All)\n"
     ]
    }
   ],
   "source": [
    "# 메타 정보\n",
    "\n",
    "today = datetime.date.today()\n",
    "\n",
    "y = today.year\n",
    "m = today.month\n",
    "d = today.day\n",
    "w = today.weekday()\n",
    "\n",
    "# report version\n",
    "type = '월간'\n",
    "month = '6월'\n",
    "region = 'All' # All/KR|CN|NA|EU|SG|RU\n",
    "v = '1'\n",
    "\n",
    "if region == 'KR':\n",
    "    regex = '^(KR|Global|All)'\n",
    "elif region == 'CN':\n",
    "    regex = '^(CN|Global|All)'\n",
    "elif region == 'NA':\n",
    "    regex = '^(NA|Global|All)'\n",
    "elif region == 'EU':\n",
    "    regex = '^(EU|Global|All)'\n",
    "elif region == 'SG':\n",
    "    regex = '^(SG|Global|All)'\n",
    "elif region == 'RU':\n",
    "    regex = '^(SG|Global|All)'\n",
    "else:\n",
    "    regex = '^(KR|CN|NA|EU|SG|RU|Global|All)'\n",
    "\n",
    "print(\"보고서 유형: \", type, \"월: \", month)\n",
    "print(regex)"
   ]
  },
  {
   "cell_type": "code",
   "execution_count": 3,
   "id": "7d3a0f23-a5c6-42bc-9a55-d96482e409e0",
   "metadata": {},
   "outputs": [],
   "source": [
    "# Document 기본 폰트\n",
    "style = document.styles['Normal']\n",
    "style.font.name = '맑은고딕'\n",
    "style.font.size = Pt(12)\n",
    "style._element.rPr.rFonts.set(qn('w:eastAsia'), '맑은고딕')"
   ]
  },
  {
   "cell_type": "code",
   "execution_count": 4,
   "id": "f19d5ed1-2b5a-4d14-ba3c-b50e9e92f4f4",
   "metadata": {},
   "outputs": [
    {
     "data": {
      "text/plain": [
       "ThemeRegistry.enable('맑은고딕')"
      ]
     },
     "execution_count": 4,
     "metadata": {},
     "output_type": "execute_result"
    }
   ],
   "source": [
    "# Chart 기본 폰트\n",
    "alt.themes.register('맑은고딕', hanfont)\n",
    "alt.themes.enable('맑은고딕')"
   ]
  },
  {
   "cell_type": "markdown",
   "id": "08a7c08b-70d4-4d04-bb48-a2c07f909527",
   "metadata": {
    "tags": []
   },
   "source": [
    "## 보고서 표지 (커버 쉬트)"
   ]
  },
  {
   "cell_type": "code",
   "execution_count": 5,
   "id": "dbb2fd08-c1e9-4bce-a96a-4fdb9898eeac",
   "metadata": {},
   "outputs": [
    {
     "data": {
      "text/plain": [
       "<docx.text.paragraph.Paragraph at 0x1d519f5ec70>"
      ]
     },
     "execution_count": 5,
     "metadata": {},
     "output_type": "execute_result"
    }
   ],
   "source": [
    "if region == 'All':\n",
    "    document.add_heading(f'[2022년.{month}] Cloud Infra 운영', level=0)\n",
    "else:\n",
    "    document.add_heading(f'[2022년.{month}] {region} Cloud Infra 운영', level=0)\n",
    "\n",
    "document.add_heading(f'{y}.{m}.{d}', level=1)\n",
    "document.add_heading(f'클라우드운영센터', level=1)\n",
    "document.add_page_break()"
   ]
  },
  {
   "cell_type": "markdown",
   "id": "a4410470-44b5-4981-b1e5-ee94cfb07350",
   "metadata": {
    "tags": []
   },
   "source": [
    "## 요약"
   ]
  },
  {
   "cell_type": "code",
   "execution_count": 6,
   "id": "91927a17-4b6d-420d-93eb-e316e575eedb",
   "metadata": {},
   "outputs": [],
   "source": [
    "# ETL\n",
    "base_path = r\"./data/요약_202206_서비스관리_0727_01.ods\"\n",
    "sheet = f'{month}집계'\n",
    "\n",
    "df = read_ods(base_path, sheet, headers=True)\n",
    "\n",
    "# 리전 & 운영계, 월간보고서용\n",
    "df_filtered = df[df['리전'].apply(lambda x: True if re.search(regex, x) else False) & (df['테넌트']== 'PRD') & (df['월간']=='O')]"
   ]
  },
  {
   "cell_type": "code",
   "execution_count": 7,
   "id": "c05834dc-5139-4625-be82-f991c56db0a1",
   "metadata": {},
   "outputs": [
    {
     "name": "stdout",
     "output_type": "stream",
     "text": [
      "56 18\n"
     ]
    }
   ],
   "source": [
    "print(len(df), len(df_filtered))"
   ]
  },
  {
   "cell_type": "code",
   "execution_count": 8,
   "id": "fd278de7-38f7-47fe-8490-7c21700fbfcb",
   "metadata": {},
   "outputs": [
    {
     "data": {
      "text/html": [
       "<div>\n",
       "<style scoped>\n",
       "    .dataframe tbody tr th:only-of-type {\n",
       "        vertical-align: middle;\n",
       "    }\n",
       "\n",
       "    .dataframe tbody tr th {\n",
       "        vertical-align: top;\n",
       "    }\n",
       "\n",
       "    .dataframe thead th {\n",
       "        text-align: right;\n",
       "    }\n",
       "</style>\n",
       "<table border=\"1\" class=\"dataframe\">\n",
       "  <thead>\n",
       "    <tr style=\"text-align: right;\">\n",
       "      <th></th>\n",
       "      <th>년도</th>\n",
       "      <th>월</th>\n",
       "      <th>리전</th>\n",
       "      <th>AZ</th>\n",
       "      <th>테넌트</th>\n",
       "      <th>진행상태</th>\n",
       "      <th>성패</th>\n",
       "      <th>작업내용</th>\n",
       "      <th>주간</th>\n",
       "      <th>월간</th>\n",
       "    </tr>\n",
       "  </thead>\n",
       "  <tbody>\n",
       "    <tr>\n",
       "      <th>24</th>\n",
       "      <td>22년</td>\n",
       "      <td>6월</td>\n",
       "      <td>KR</td>\n",
       "      <td>2센터</td>\n",
       "      <td>PRD</td>\n",
       "      <td>완료</td>\n",
       "      <td>성공</td>\n",
       "      <td>F5 BIG-IP 취약점(CVE-2022-1388) 대응 펌웨어 업그레이드\\n BI...</td>\n",
       "      <td>O</td>\n",
       "      <td>O</td>\n",
       "    </tr>\n",
       "    <tr>\n",
       "      <th>29</th>\n",
       "      <td>22년</td>\n",
       "      <td>6월</td>\n",
       "      <td>NA</td>\n",
       "      <td>1센터</td>\n",
       "      <td>PRD</td>\n",
       "      <td>완료</td>\n",
       "      <td>성공</td>\n",
       "      <td>CCS 2.0 RnR &amp; 운영 업무 이관\\n업무 인수인계 체크리스트\\n(완료) 데이...</td>\n",
       "      <td>O</td>\n",
       "      <td>O</td>\n",
       "    </tr>\n",
       "    <tr>\n",
       "      <th>30</th>\n",
       "      <td>22년</td>\n",
       "      <td>6월</td>\n",
       "      <td>SG</td>\n",
       "      <td>1센터</td>\n",
       "      <td>PRD</td>\n",
       "      <td>완료</td>\n",
       "      <td>성공</td>\n",
       "      <td>F5 펌웨어 업그레이드\\nF5 BIG-IP 제품군에 대한 iControl REST ...</td>\n",
       "      <td>O</td>\n",
       "      <td>O</td>\n",
       "    </tr>\n",
       "    <tr>\n",
       "      <th>50</th>\n",
       "      <td>22년</td>\n",
       "      <td>6월</td>\n",
       "      <td>EU</td>\n",
       "      <td>1센터</td>\n",
       "      <td>PRD</td>\n",
       "      <td>진행중</td>\n",
       "      <td>None</td>\n",
       "      <td>방화벽 IPS/FW 분리 및 IPSEC VPN 적용 요청 (→ 추가 요청 시 대응)...</td>\n",
       "      <td>O</td>\n",
       "      <td>O</td>\n",
       "    </tr>\n",
       "    <tr>\n",
       "      <th>52</th>\n",
       "      <td>22년</td>\n",
       "      <td>6월</td>\n",
       "      <td>EU</td>\n",
       "      <td>1센터</td>\n",
       "      <td>PRD</td>\n",
       "      <td>진행중</td>\n",
       "      <td>None</td>\n",
       "      <td>F5 펌웨어 업그레이드\\nF5 BIG-IP 제품군에 대한 iControl REST ...</td>\n",
       "      <td>O</td>\n",
       "      <td>O</td>\n",
       "    </tr>\n",
       "    <tr>\n",
       "      <th>54</th>\n",
       "      <td>22년</td>\n",
       "      <td>6월</td>\n",
       "      <td>CN</td>\n",
       "      <td>1센터</td>\n",
       "      <td>PRD</td>\n",
       "      <td>진행중</td>\n",
       "      <td>None</td>\n",
       "      <td>클라우드 플랫폼(opentsack) 보안 설정 현황 확인 요청\\n중국 GCS시스템에...</td>\n",
       "      <td>O</td>\n",
       "      <td>O</td>\n",
       "    </tr>\n",
       "    <tr>\n",
       "      <th>55</th>\n",
       "      <td>22년</td>\n",
       "      <td>6월</td>\n",
       "      <td>RU</td>\n",
       "      <td>1센터</td>\n",
       "      <td>PRD</td>\n",
       "      <td>진행중</td>\n",
       "      <td>None</td>\n",
       "      <td>러시아 CCS 운영계 Rescue노드 필요\\n=&gt; 러시아 CCS 운영계 Rescue...</td>\n",
       "      <td>O</td>\n",
       "      <td>O</td>\n",
       "    </tr>\n",
       "  </tbody>\n",
       "</table>\n",
       "</div>"
      ],
      "text/plain": [
       "     년도   월  리전   AZ  테넌트 진행상태    성패  \\\n",
       "24  22년  6월  KR  2센터  PRD   완료    성공   \n",
       "29  22년  6월  NA  1센터  PRD   완료    성공   \n",
       "30  22년  6월  SG  1센터  PRD   완료    성공   \n",
       "50  22년  6월  EU  1센터  PRD  진행중  None   \n",
       "52  22년  6월  EU  1센터  PRD  진행중  None   \n",
       "54  22년  6월  CN  1센터  PRD  진행중  None   \n",
       "55  22년  6월  RU  1센터  PRD  진행중  None   \n",
       "\n",
       "                                                 작업내용 주간 월간  \n",
       "24  F5 BIG-IP 취약점(CVE-2022-1388) 대응 펌웨어 업그레이드\\n BI...  O  O  \n",
       "29  CCS 2.0 RnR & 운영 업무 이관\\n업무 인수인계 체크리스트\\n(완료) 데이...  O  O  \n",
       "30  F5 펌웨어 업그레이드\\nF5 BIG-IP 제품군에 대한 iControl REST ...  O  O  \n",
       "50  방화벽 IPS/FW 분리 및 IPSEC VPN 적용 요청 (→ 추가 요청 시 대응)...  O  O  \n",
       "52  F5 펌웨어 업그레이드\\nF5 BIG-IP 제품군에 대한 iControl REST ...  O  O  \n",
       "54  클라우드 플랫폼(opentsack) 보안 설정 현황 확인 요청\\n중국 GCS시스템에...  O  O  \n",
       "55  러시아 CCS 운영계 Rescue노드 필요\\n=> 러시아 CCS 운영계 Rescue...  O  O  "
      ]
     },
     "execution_count": 8,
     "metadata": {},
     "output_type": "execute_result"
    }
   ],
   "source": [
    "df_filtered[df_filtered['월'] == month]"
   ]
  },
  {
   "cell_type": "code",
   "execution_count": 9,
   "id": "54363d71-427d-491a-9718-64aa0f6f4434",
   "metadata": {},
   "outputs": [],
   "source": [
    "# Data\n",
    "pivot, total = getPivotTable(df, month)\n",
    "source = pivot\n",
    "\n",
    "# Chart\n",
    "chart = getPieChart(source)"
   ]
  },
  {
   "cell_type": "code",
   "execution_count": 10,
   "id": "27b1d500-96d9-4dc0-a582-e0b9e71482eb",
   "metadata": {},
   "outputs": [
    {
     "data": {
      "text/html": [
       "\n",
       "<div id=\"altair-viz-8197ae384b984aa78e07d6f14677699e\"></div>\n",
       "<script type=\"text/javascript\">\n",
       "  var VEGA_DEBUG = (typeof VEGA_DEBUG == \"undefined\") ? {} : VEGA_DEBUG;\n",
       "  (function(spec, embedOpt){\n",
       "    let outputDiv = document.currentScript.previousElementSibling;\n",
       "    if (outputDiv.id !== \"altair-viz-8197ae384b984aa78e07d6f14677699e\") {\n",
       "      outputDiv = document.getElementById(\"altair-viz-8197ae384b984aa78e07d6f14677699e\");\n",
       "    }\n",
       "    const paths = {\n",
       "      \"vega\": \"https://cdn.jsdelivr.net/npm//vega@5?noext\",\n",
       "      \"vega-lib\": \"https://cdn.jsdelivr.net/npm//vega-lib?noext\",\n",
       "      \"vega-lite\": \"https://cdn.jsdelivr.net/npm//vega-lite@4.17.0?noext\",\n",
       "      \"vega-embed\": \"https://cdn.jsdelivr.net/npm//vega-embed@6?noext\",\n",
       "    };\n",
       "\n",
       "    function maybeLoadScript(lib, version) {\n",
       "      var key = `${lib.replace(\"-\", \"\")}_version`;\n",
       "      return (VEGA_DEBUG[key] == version) ?\n",
       "        Promise.resolve(paths[lib]) :\n",
       "        new Promise(function(resolve, reject) {\n",
       "          var s = document.createElement('script');\n",
       "          document.getElementsByTagName(\"head\")[0].appendChild(s);\n",
       "          s.async = true;\n",
       "          s.onload = () => {\n",
       "            VEGA_DEBUG[key] = version;\n",
       "            return resolve(paths[lib]);\n",
       "          };\n",
       "          s.onerror = () => reject(`Error loading script: ${paths[lib]}`);\n",
       "          s.src = paths[lib];\n",
       "        });\n",
       "    }\n",
       "\n",
       "    function showError(err) {\n",
       "      outputDiv.innerHTML = `<div class=\"error\" style=\"color:red;\">${err}</div>`;\n",
       "      throw err;\n",
       "    }\n",
       "\n",
       "    function displayChart(vegaEmbed) {\n",
       "      vegaEmbed(outputDiv, spec, embedOpt)\n",
       "        .catch(err => showError(`Javascript Error: ${err.message}<br>This usually means there's a typo in your chart specification. See the javascript console for the full traceback.`));\n",
       "    }\n",
       "\n",
       "    if(typeof define === \"function\" && define.amd) {\n",
       "      requirejs.config({paths});\n",
       "      require([\"vega-embed\"], displayChart, err => showError(`Error loading script: ${err.message}`));\n",
       "    } else {\n",
       "      maybeLoadScript(\"vega\", \"5\")\n",
       "        .then(() => maybeLoadScript(\"vega-lite\", \"4.17.0\"))\n",
       "        .then(() => maybeLoadScript(\"vega-embed\", \"6\"))\n",
       "        .catch(showError)\n",
       "        .then(() => displayChart(vegaEmbed));\n",
       "    }\n",
       "  })({\"config\": {\"axis\": {\"fontSize\": 12, \"font\": \"\\ub9d1\\uc740\\uace0\\ub515\", \"anchor\": \"start\", \"fontColor\": \"#000000\"}}, \"layer\": [{\"mark\": {\"type\": \"arc\", \"outerRadius\": 120}, \"encoding\": {\"color\": {\"field\": \"\\ub9ac\\uc804\", \"legend\": null, \"type\": \"nominal\"}, \"theta\": {\"field\": \"\\ud569\\uacc4\", \"stack\": true, \"type\": \"quantitative\"}}}, {\"mark\": {\"type\": \"text\", \"color\": \"black\", \"radius\": 160, \"size\": 12}, \"encoding\": {\"color\": {\"field\": \"\\ub9ac\\uc804\", \"legend\": null, \"type\": \"nominal\"}, \"text\": {\"field\": \"label\", \"type\": \"nominal\"}, \"theta\": {\"field\": \"\\ud569\\uacc4\", \"stack\": true, \"type\": \"quantitative\"}}, \"transform\": [{\"calculate\": \"(((((datum.\\ub9ac\\uc804 + ': ') + datum.\\ud569\\uacc4) + ', ') + datum.\\ube44\\uc911) + '%')\", \"as\": \"label\"}]}], \"data\": {\"name\": \"data-3244211c3ff12c2bada296671ad0e564\"}, \"height\": 360, \"width\": 360, \"$schema\": \"https://vega.github.io/schema/vega-lite/v4.17.0.json\", \"datasets\": {\"data-3244211c3ff12c2bada296671ad0e564\": [{\"\\ub9ac\\uc804\": \"CN\", \"\\ud569\\uacc4\": 2, \"\\ube44\\uc911\": 40.0}, {\"\\ub9ac\\uc804\": \"KR\", \"\\ud569\\uacc4\": 1, \"\\ube44\\uc911\": 20.0}, {\"\\ub9ac\\uc804\": \"NA\", \"\\ud569\\uacc4\": 1, \"\\ube44\\uc911\": 20.0}, {\"\\ub9ac\\uc804\": \"SG\", \"\\ud569\\uacc4\": 1, \"\\ube44\\uc911\": 20.0}]}}, {\"mode\": \"vega-lite\"});\n",
       "</script>"
      ],
      "text/plain": [
       "alt.LayerChart(...)"
      ]
     },
     "execution_count": 10,
     "metadata": {},
     "output_type": "execute_result"
    }
   ],
   "source": [
    "chart"
   ]
  },
  {
   "cell_type": "code",
   "execution_count": 11,
   "id": "f0a7e3ef-b335-4125-be00-86233e34d929",
   "metadata": {},
   "outputs": [
    {
     "name": "stderr",
     "output_type": "stream",
     "text": [
      "npm WARN config global `--global`, `--local` are deprecated. Use `--location=global` instead.\n",
      "npm WARN config global `--global`, `--local` are deprecated. Use `--location=global` instead.\n",
      "npm WARN config global `--global`, `--local` are deprecated. Use `--location=global` instead.\n"
     ]
    }
   ],
   "source": [
    "# Chart\n",
    "if region == 'All':\n",
    "    # Data\n",
    "    pivot, total = getPivotTable(df, month)\n",
    "    source = pivot\n",
    "\n",
    "    # Chart\n",
    "    chart = getPieChart(source)\n",
    "    chart.save(f'./charts/summary_{y}_{m}_{d}_{v}_1.png')\n",
    "\n",
    "    # Docx\n",
    "    document.add_paragraph('요약')    \n",
    "    document.add_paragraph(f'{month}: 총 {total}', style='List Bullet')\n",
    "    document.add_picture(f'./charts/summary_{y}_{m}_{d}_{v}_1.png')\n",
    "else:\n",
    "    pass"
   ]
  },
  {
   "cell_type": "code",
   "execution_count": 12,
   "id": "77a10c58-3b9a-4dc6-9ac4-e0f743d18c76",
   "metadata": {},
   "outputs": [
    {
     "data": {
      "text/plain": [
       "<docx.text.paragraph.Paragraph at 0x1d51a068ee0>"
      ]
     },
     "execution_count": 12,
     "metadata": {},
     "output_type": "execute_result"
    }
   ],
   "source": [
    "# Document\n",
    "addSummaryTable(df_filtered, regex, month)\n",
    "document.add_page_break()"
   ]
  },
  {
   "cell_type": "markdown",
   "id": "ddcf5ec0-e21b-4f21-90df-a00e3d4c8d8d",
   "metadata": {
    "tags": []
   },
   "source": [
    "## 1.1 모니터링(인시던트핸들링)"
   ]
  },
  {
   "cell_type": "code",
   "execution_count": 13,
   "id": "2f60368b-eff6-4615-a785-0a1e29991cdf",
   "metadata": {},
   "outputs": [
    {
     "data": {
      "text/html": [
       "<div>\n",
       "<style scoped>\n",
       "    .dataframe tbody tr th:only-of-type {\n",
       "        vertical-align: middle;\n",
       "    }\n",
       "\n",
       "    .dataframe tbody tr th {\n",
       "        vertical-align: top;\n",
       "    }\n",
       "\n",
       "    .dataframe thead th {\n",
       "        text-align: right;\n",
       "    }\n",
       "</style>\n",
       "<table border=\"1\" class=\"dataframe\">\n",
       "  <thead>\n",
       "    <tr style=\"text-align: right;\">\n",
       "      <th></th>\n",
       "      <th>날짜</th>\n",
       "      <th>조치내용</th>\n",
       "      <th>JIRA_Ticket_No</th>\n",
       "      <th>장애전파소요시간</th>\n",
       "    </tr>\n",
       "  </thead>\n",
       "  <tbody>\n",
       "    <tr>\n",
       "      <th>92</th>\n",
       "      <td>2022.06.04</td>\n",
       "      <td>Deleted old  snapshots</td>\n",
       "      <td>CNCLOUD2046</td>\n",
       "      <td>19.0</td>\n",
       "    </tr>\n",
       "    <tr>\n",
       "      <th>93</th>\n",
       "      <td>2022.06.08</td>\n",
       "      <td>Deleted old snapshots</td>\n",
       "      <td>None</td>\n",
       "      <td>30.0</td>\n",
       "    </tr>\n",
       "    <tr>\n",
       "      <th>100</th>\n",
       "      <td>2022.06.15</td>\n",
       "      <td>Its known issue, it got resolved automatically</td>\n",
       "      <td>None</td>\n",
       "      <td>17.0</td>\n",
       "    </tr>\n",
       "    <tr>\n",
       "      <th>104</th>\n",
       "      <td>2022.06.02</td>\n",
       "      <td>오래된 스냅샷 삭제 후 알람 Resolved</td>\n",
       "      <td>None</td>\n",
       "      <td>2881.0</td>\n",
       "    </tr>\n",
       "    <tr>\n",
       "      <th>113</th>\n",
       "      <td>2022.06.09</td>\n",
       "      <td>Deleted old snapshots</td>\n",
       "      <td>None</td>\n",
       "      <td>211.0</td>\n",
       "    </tr>\n",
       "    <tr>\n",
       "      <th>132</th>\n",
       "      <td>2022.06.06</td>\n",
       "      <td>After restarting the Mangodb service on ccskro...</td>\n",
       "      <td>None</td>\n",
       "      <td>27.0</td>\n",
       "    </tr>\n",
       "    <tr>\n",
       "      <th>135</th>\n",
       "      <td>2022.06.06</td>\n",
       "      <td>Created the Ticket -&gt; KRCLOUD-4994</td>\n",
       "      <td>KRCLOUD-4994</td>\n",
       "      <td>49.0</td>\n",
       "    </tr>\n",
       "    <tr>\n",
       "      <th>141</th>\n",
       "      <td>2022.06.11</td>\n",
       "      <td>Informed through kakao and owner said to ignor...</td>\n",
       "      <td>None</td>\n",
       "      <td>15.0</td>\n",
       "    </tr>\n",
       "    <tr>\n",
       "      <th>161</th>\n",
       "      <td>2022.06.30</td>\n",
       "      <td>21:12에 /postgres_data full 발생하여 DB down 발생하였습니...</td>\n",
       "      <td>KRCLOUD-5136</td>\n",
       "      <td>11.0</td>\n",
       "    </tr>\n",
       "    <tr>\n",
       "      <th>179</th>\n",
       "      <td>2022.06.21</td>\n",
       "      <td>오창민 매니저 확인, 담당자 유선 및 메신저 컨택하여 확인해보니 서비스 배포작업 중...</td>\n",
       "      <td>None</td>\n",
       "      <td>11.0</td>\n",
       "    </tr>\n",
       "    <tr>\n",
       "      <th>182</th>\n",
       "      <td>2022.06.22</td>\n",
       "      <td>이은도 매니저 확인 및 담당자 메일전달</td>\n",
       "      <td>None</td>\n",
       "      <td>11.0</td>\n",
       "    </tr>\n",
       "    <tr>\n",
       "      <th>218</th>\n",
       "      <td>2022.06.15</td>\n",
       "      <td>Informed in Kakao</td>\n",
       "      <td>ITSM-128</td>\n",
       "      <td>28.0</td>\n",
       "    </tr>\n",
       "    <tr>\n",
       "      <th>226</th>\n",
       "      <td>2022.06.06</td>\n",
       "      <td>We have not migrated any VM instance yet, sinc...</td>\n",
       "      <td>RUCLOUD-694</td>\n",
       "      <td>143.0</td>\n",
       "    </tr>\n",
       "  </tbody>\n",
       "</table>\n",
       "</div>"
      ],
      "text/plain": [
       "             날짜                                               조치내용  \\\n",
       "92   2022.06.04                             Deleted old  snapshots   \n",
       "93   2022.06.08                              Deleted old snapshots   \n",
       "100  2022.06.15     Its known issue, it got resolved automatically   \n",
       "104  2022.06.02                           오래된 스냅샷 삭제 후 알람 Resolved   \n",
       "113  2022.06.09                              Deleted old snapshots   \n",
       "132  2022.06.06  After restarting the Mangodb service on ccskro...   \n",
       "135  2022.06.06                 Created the Ticket -> KRCLOUD-4994   \n",
       "141  2022.06.11  Informed through kakao and owner said to ignor...   \n",
       "161  2022.06.30  21:12에 /postgres_data full 발생하여 DB down 발생하였습니...   \n",
       "179  2022.06.21  오창민 매니저 확인, 담당자 유선 및 메신저 컨택하여 확인해보니 서비스 배포작업 중...   \n",
       "182  2022.06.22                              이은도 매니저 확인 및 담당자 메일전달   \n",
       "218  2022.06.15                                  Informed in Kakao   \n",
       "226  2022.06.06  We have not migrated any VM instance yet, sinc...   \n",
       "\n",
       "    JIRA_Ticket_No  장애전파소요시간  \n",
       "92     CNCLOUD2046      19.0  \n",
       "93            None      30.0  \n",
       "100           None      17.0  \n",
       "104           None    2881.0  \n",
       "113           None     211.0  \n",
       "132           None      27.0  \n",
       "135   KRCLOUD-4994      49.0  \n",
       "141           None      15.0  \n",
       "161   KRCLOUD-5136      11.0  \n",
       "179           None      11.0  \n",
       "182           None      11.0  \n",
       "218       ITSM-128      28.0  \n",
       "226    RUCLOUD-694     143.0  "
      ]
     },
     "execution_count": 13,
     "metadata": {},
     "output_type": "execute_result"
    }
   ],
   "source": [
    "base_path = r\"./data/1_1_202206_모니터링_인시던트핸들링_0727_01.ods\"\n",
    "sheet = f'{month}집계'\n",
    "\n",
    "df = read_ods(base_path, sheet, headers=True)\n",
    "df['장애전파소요시간'] = (pd.to_datetime(df['장애전파시간.1'])-pd.to_datetime(df['발생인지시간'])).astype('timedelta64[m]')\n",
    "\n",
    "# Pivoting\n",
    "pivot, total = getPivotTable(df, month)\n",
    "\n",
    "# 리전 & 운영계, 월간보고서용\n",
    "df_filtered = df[df['리전'].apply(lambda x: True if re.search(regex, x) else False) & (df['테넌트']== 'PRD') & (df['진행상태']=='완료') & (df['월간']=='O')]\n",
    "df_filtered, timeslot = getTables(df_filtered, regex, month)\n",
    "    \n",
    "# SLA failed\n",
    "df_failed = df_filtered[ (df_filtered['장애전파'] > 10) & (df_filtered['월']== month)]\n",
    "df_failed[['날짜', '조치내용', 'JIRA_Ticket_No', '장애전파소요시간']]"
   ]
  },
  {
   "cell_type": "code",
   "execution_count": 14,
   "id": "485de9ce-3f3f-4b23-b013-8657f9124ca2",
   "metadata": {},
   "outputs": [],
   "source": [
    "# Chart - Pie 차트\n",
    "if region == 'All':\n",
    "    source = pivot\n",
    "    chart = getPieChart(source)\n",
    "    chart.save(f'./charts/mon_{region}_{y}_{m}_{d}_1.png')\n",
    "else:\n",
    "    pass\n",
    "\n",
    "# Chart - 스캐터 차트    \n",
    "chart = getScatterChart(timeslot, month)\n",
    "chart.save(f'./charts/mon_{region}_{y}_{m}_{d}_2.png')\n",
    "\n",
    "# Chart - 라인 차트\n",
    "chart = getLineChart(df_filtered, month)\n",
    "chart.save(f'./charts/mon_{region}_{y}_{m}_{d}_3.png')"
   ]
  },
  {
   "cell_type": "code",
   "execution_count": 15,
   "id": "39915a37-320c-4de7-9a73-30c69b91440e",
   "metadata": {},
   "outputs": [
    {
     "data": {
      "text/plain": [
       "<docx.shape.InlineShape at 0x1d51a4a4730>"
      ]
     },
     "execution_count": 15,
     "metadata": {},
     "output_type": "execute_result"
    }
   ],
   "source": [
    "# Document\n",
    "document.add_paragraph('모니터링(인시던트핸들링)', style='List Number')\n",
    "\n",
    "if region == 'All':\n",
    "    document.add_paragraph(f'{month}: 총 {total}', style='List Bullet')    \n",
    "    document.add_picture(f'./charts/mon_{region}_{y}_{m}_{d}_1.png')\n",
    "else:\n",
    "    pass\n",
    "\n",
    "document.add_paragraph(f'장애전파 소요시간(분)', style='List Bullet')\n",
    "document.add_picture(f'./charts/mon_{region}_{y}_{m}_{d}_2.png')\n",
    "## 평균 소요 시간, 최대 소요 시간\n",
    "\n",
    "document.add_paragraph(f'장애전파시간 초과 이벤트', style='List Bullet')\n",
    "addFailedTable(df_failed, regex, month)\n",
    "\n",
    "document.add_paragraph(f'월별 발생 건수 (추세)', style='List Bullet')\n",
    "document.add_picture(f'./charts/mon_{region}_{y}_{m}_{d}_3.png')   "
   ]
  },
  {
   "cell_type": "code",
   "execution_count": 16,
   "id": "24f5edcf-b586-4599-9d76-4102d2b91743",
   "metadata": {},
   "outputs": [
    {
     "data": {
      "text/plain": [
       "<docx.text.paragraph.Paragraph at 0x1d51a473b50>"
      ]
     },
     "execution_count": 16,
     "metadata": {},
     "output_type": "execute_result"
    }
   ],
   "source": [
    "# Document\n",
    "document.add_page_break()"
   ]
  },
  {
   "cell_type": "code",
   "execution_count": null,
   "id": "25c25174-5f71-4fd8-9c41-3e08b7382ec2",
   "metadata": {},
   "outputs": [],
   "source": []
  },
  {
   "cell_type": "markdown",
   "id": "51513bde-8cfd-4779-9dd4-85e3296f4085",
   "metadata": {
    "tags": []
   },
   "source": [
    "## 1.2 이슈 관리"
   ]
  },
  {
   "cell_type": "code",
   "execution_count": 17,
   "id": "0485f45d-c5f2-40fa-ba02-3bf0e77b4e2a",
   "metadata": {},
   "outputs": [],
   "source": [
    "base_path = r\"./data/1_2_202206_이슈관리_0727_01.ods\"\n",
    "sheet = f'{month}집계'\n",
    "\n",
    "df = read_ods(base_path, sheet, headers=True)\n",
    "df_filtered = df[df['리전'].apply(lambda x: True if re.search(regex, x) else False) & (df['테넌트']== 'PRD') & (df['진행상태']=='완료') & (df['월간']=='O')]\n",
    "\n",
    "# Pivoting\n",
    "pivot, total = getPivotTable(df, month)"
   ]
  },
  {
   "cell_type": "code",
   "execution_count": 18,
   "id": "c615a2b7-4296-4634-8d6e-78a7c77a1495",
   "metadata": {},
   "outputs": [],
   "source": [
    "# Chart - Pie 차트\n",
    "if region == 'All':\n",
    "    source = pivot\n",
    "    chart = getPieChart(source)\n",
    "    chart.save(f'./charts/im_{region}_{y}_{m}_{d}_1.png')\n",
    "else:\n",
    "    pass\n",
    "\n",
    "# Chart - 라인 차트\n",
    "chart = getLineChart(df_filtered, month)\n",
    "chart.save(f'./charts/im_{region}_{y}_{m}_{d}_2.png')"
   ]
  },
  {
   "cell_type": "code",
   "execution_count": 19,
   "id": "6ac3fd1b-639e-4b54-9ee3-82effd9611fd",
   "metadata": {},
   "outputs": [
    {
     "data": {
      "text/plain": [
       "<docx.shape.InlineShape at 0x1d51a4495e0>"
      ]
     },
     "execution_count": 19,
     "metadata": {},
     "output_type": "execute_result"
    }
   ],
   "source": [
    "# Document\n",
    "document.add_paragraph('이슈 관리', style='List Number')\n",
    "\n",
    "if region == 'All':\n",
    "    document.add_paragraph(f'{month}: 총 {total}', style='List Bullet')    \n",
    "    document.add_picture(f'./charts/im_{region}_{y}_{m}_{d}_1.png')\n",
    "else:\n",
    "    pass\n",
    "\n",
    "document.add_paragraph(f'월별 발생 건수 (추세)', style='List Bullet')\n",
    "document.add_picture(f'./charts/im_{region}_{y}_{m}_{d}_2.png')   "
   ]
  },
  {
   "cell_type": "code",
   "execution_count": 20,
   "id": "a9f3c40b-3337-4f1b-b4b8-13334523f270",
   "metadata": {},
   "outputs": [
    {
     "data": {
      "text/plain": [
       "<docx.text.paragraph.Paragraph at 0x1d51a0a85e0>"
      ]
     },
     "execution_count": 20,
     "metadata": {},
     "output_type": "execute_result"
    }
   ],
   "source": [
    "# Document\n",
    "addTable4(df_filtered, regex, month)\n",
    "document.add_page_break()"
   ]
  },
  {
   "cell_type": "code",
   "execution_count": null,
   "id": "2c3935f5-1696-492e-af71-096a4c6c31e5",
   "metadata": {},
   "outputs": [],
   "source": []
  },
  {
   "cell_type": "markdown",
   "id": "87b3866d-7b12-45d6-b8fa-3f090cb7cea8",
   "metadata": {
    "tags": []
   },
   "source": [
    "## 1.3 장애 관리"
   ]
  },
  {
   "cell_type": "code",
   "execution_count": 21,
   "id": "03f5d7b3-54d4-4e41-a883-f5fa1873e8f7",
   "metadata": {},
   "outputs": [],
   "source": [
    "base_path = r\"./data/1_3_202206_장애관리_0727_01.ods\"\n",
    "sheet = f'{month}집계'\n",
    "\n",
    "df = read_ods(base_path, sheet, headers=True)\n",
    "df_filtered = df[df['리전'].apply(lambda x: True if re.search(regex, x) else False) & (df['테넌트']== 'PRD') & (df['진행상태']=='완료') & (df['월간']=='O')]\n",
    "\n",
    "# Pivoting\n",
    "pivot, total = getPivotTable(df, month)"
   ]
  },
  {
   "cell_type": "code",
   "execution_count": 22,
   "id": "8e34f6d7-bfe2-4942-98f9-906fc4ea0412",
   "metadata": {},
   "outputs": [],
   "source": [
    "# Chart - Pie 차트\n",
    "if region == 'All':\n",
    "    source = pivot\n",
    "    chart = getPieChart(source)\n",
    "    chart.save(f'./charts/pm_{region}_{y}_{m}_{d}_1.png')\n",
    "else:\n",
    "    pass\n",
    "\n",
    "# Chart - 라인 차트\n",
    "chart = getLineChart(df_filtered, month)\n",
    "chart.save(f'./charts/pm_{region}_{y}_{m}_{d}_2.png')"
   ]
  },
  {
   "cell_type": "code",
   "execution_count": 23,
   "id": "16183de5-ee49-4517-9d5c-42bab37b34ad",
   "metadata": {},
   "outputs": [
    {
     "data": {
      "text/plain": [
       "<docx.shape.InlineShape at 0x1d51a3b4e50>"
      ]
     },
     "execution_count": 23,
     "metadata": {},
     "output_type": "execute_result"
    }
   ],
   "source": [
    "# Document\n",
    "document.add_paragraph('장애(RCA) 관리', style='List Number')\n",
    "\n",
    "if region == 'All':\n",
    "    document.add_paragraph(f'6월: 총 {total}', style='List Bullet')    \n",
    "    document.add_picture(f'./charts/pm_{region}_{y}_{m}_{d}_1.png')\n",
    "else:\n",
    "    pass\n",
    "\n",
    "document.add_paragraph(f'월별 발생 건수 (추세)', style='List Bullet')\n",
    "document.add_picture(f'./charts/pm_{region}_{y}_{m}_{d}_2.png')   "
   ]
  },
  {
   "cell_type": "code",
   "execution_count": 24,
   "id": "aa06816e-64c8-4f8f-91e7-345760bdb4c6",
   "metadata": {},
   "outputs": [
    {
     "data": {
      "text/plain": [
       "<docx.text.paragraph.Paragraph at 0x1d51a45d580>"
      ]
     },
     "execution_count": 24,
     "metadata": {},
     "output_type": "execute_result"
    }
   ],
   "source": [
    "# Document\n",
    "addTable4(df_filtered, regex, month)\n",
    "document.add_page_break()"
   ]
  },
  {
   "cell_type": "code",
   "execution_count": null,
   "id": "7a5150f5-130e-44fc-b584-c8f95723a998",
   "metadata": {},
   "outputs": [],
   "source": []
  },
  {
   "cell_type": "markdown",
   "id": "ea0552c0-1d40-40c6-af99-6bc1ce2572f7",
   "metadata": {
    "tags": []
   },
   "source": [
    "## 1.4 변경 관리"
   ]
  },
  {
   "cell_type": "code",
   "execution_count": 25,
   "id": "00d63c1e-bcdf-4f66-ac98-d6a43d3bf7cd",
   "metadata": {},
   "outputs": [],
   "source": [
    "base_path = r\"./data/1_4_202206_변경관리_0727_01.ods\"\n",
    "sheet = f'{month}집계'\n",
    "\n",
    "df = read_ods(base_path, sheet, headers=True)\n",
    "df_filtered = df[df['리전'].apply(lambda x: True if re.search(regex, x) else False) & (df['테넌트']== 'PRD') & (df['진행상태']=='완료') & (df['월간']=='O')]\n",
    "\n",
    "# Pivoting\n",
    "pivot, total = getPivotTable(df, month)"
   ]
  },
  {
   "cell_type": "code",
   "execution_count": 26,
   "id": "a285681b-d3a6-4dba-a409-773c0fa06149",
   "metadata": {},
   "outputs": [],
   "source": [
    "# Chart - Pie 차트\n",
    "if region == 'All':\n",
    "    source = pivot\n",
    "    chart = getPieChart(source)\n",
    "    chart.save(f'./charts/cm_{region}_{y}_{m}_{d}_1.png')\n",
    "else:\n",
    "    pass\n",
    "\n",
    "# Chart - 라인 차트\n",
    "chart = getLineChart(df_filtered, month)\n",
    "chart.save(f'./charts/cm_{region}_{y}_{m}_{d}_2.png')"
   ]
  },
  {
   "cell_type": "code",
   "execution_count": 27,
   "id": "a763d156-2ef3-4eaa-9b68-5324280b5e0d",
   "metadata": {},
   "outputs": [
    {
     "data": {
      "text/plain": [
       "<docx.shape.InlineShape at 0x1d51a412e20>"
      ]
     },
     "execution_count": 27,
     "metadata": {},
     "output_type": "execute_result"
    }
   ],
   "source": [
    "# Document\n",
    "document.add_paragraph('변경 관리', style='List Number')\n",
    "\n",
    "if region == 'All':\n",
    "    document.add_paragraph(f'{month}: 총 {total}', style='List Bullet')    \n",
    "    document.add_picture(f'./charts/cm_{region}_{y}_{m}_{d}_1.png')\n",
    "else:\n",
    "    pass\n",
    "\n",
    "document.add_paragraph(f'월별 발생 건수 (추세)', style='List Bullet')\n",
    "document.add_picture(f'./charts/cm_{region}_{y}_{m}_{d}_2.png')   "
   ]
  },
  {
   "cell_type": "code",
   "execution_count": 28,
   "id": "f74d15a7-9071-4244-a69c-1a62774e755d",
   "metadata": {},
   "outputs": [
    {
     "data": {
      "text/plain": [
       "<docx.text.paragraph.Paragraph at 0x1d51a40cd30>"
      ]
     },
     "execution_count": 28,
     "metadata": {},
     "output_type": "execute_result"
    }
   ],
   "source": [
    "# Document\n",
    "addTable3(df_filtered, regex, month)\n",
    "document.add_page_break()"
   ]
  },
  {
   "cell_type": "code",
   "execution_count": null,
   "id": "0d61f271-fbdd-4999-ba94-0257879cdcb1",
   "metadata": {},
   "outputs": [],
   "source": []
  },
  {
   "cell_type": "markdown",
   "id": "5e1fd51b-c575-40fe-9375-396fd425bf89",
   "metadata": {
    "tags": []
   },
   "source": [
    "## 1.5 요청 관리"
   ]
  },
  {
   "cell_type": "code",
   "execution_count": 29,
   "id": "b292793f-a2bc-43c7-a6dd-1679a05ddeb1",
   "metadata": {},
   "outputs": [],
   "source": [
    "base_path = r\"./data/1_5_202206_요청관리_0727_01.ods\"\n",
    "sheet = f'{month}집계'\n",
    "\n",
    "df = read_ods(base_path, sheet, headers=True)\n",
    "df_filtered = df[df['리전'].apply(lambda x: True if re.search(regex, x) else False) & (df['테넌트']== 'PRD') & (df['진행상태']=='완료') & (df['월간']=='O')]\n",
    "\n",
    "# Pivoting\n",
    "pivot, total = getPivotTable(df, month)"
   ]
  },
  {
   "cell_type": "code",
   "execution_count": 30,
   "id": "dd953946-2909-4ef0-9306-b46ce5da4909",
   "metadata": {},
   "outputs": [],
   "source": [
    "# Chart - Pie 차트\n",
    "if region == 'All':\n",
    "    source = pivot\n",
    "    chart = getPieChart(source)\n",
    "    chart.save(f'./charts/cm_{region}_{y}_{m}_{d}_1.png')\n",
    "else:\n",
    "    pass\n",
    "\n",
    "# Chart - 라인 차트\n",
    "chart = getLineChart(df_filtered, month)\n",
    "chart.save(f'./charts/cm_{region}_{y}_{m}_{d}_2.png')"
   ]
  },
  {
   "cell_type": "code",
   "execution_count": 31,
   "id": "a8ee068a-5666-40f0-8356-e3977cbcb0c1",
   "metadata": {},
   "outputs": [
    {
     "data": {
      "text/plain": [
       "<docx.shape.InlineShape at 0x1d51a5e9f70>"
      ]
     },
     "execution_count": 31,
     "metadata": {},
     "output_type": "execute_result"
    }
   ],
   "source": [
    "# Document\n",
    "document.add_paragraph('요청 관리', style='List Number')\n",
    "\n",
    "if region == 'All':\n",
    "    document.add_paragraph(f'{month}: 총 {total}', style='List Bullet')    \n",
    "    document.add_picture(f'./charts/cm_{region}_{y}_{m}_{d}_1.png')\n",
    "else:\n",
    "    pass\n",
    "\n",
    "document.add_paragraph(f'월별 발생 건수 (추세)', style='List Bullet')\n",
    "document.add_picture(f'./charts/cm_{region}_{y}_{m}_{d}_2.png')   "
   ]
  },
  {
   "cell_type": "code",
   "execution_count": 32,
   "id": "4e02e240-163b-45be-ba14-94bc963e9941",
   "metadata": {},
   "outputs": [
    {
     "data": {
      "text/plain": [
       "<docx.text.paragraph.Paragraph at 0x1d51a4193a0>"
      ]
     },
     "execution_count": 32,
     "metadata": {},
     "output_type": "execute_result"
    }
   ],
   "source": [
    "# Document\n",
    "# addTable3(df_filtered, regex, month)\n",
    "document.add_page_break()"
   ]
  },
  {
   "cell_type": "code",
   "execution_count": null,
   "id": "c9d270bf-d3a1-45cc-8be7-d22fda7d26bb",
   "metadata": {},
   "outputs": [],
   "source": []
  },
  {
   "cell_type": "markdown",
   "id": "408fb455-01a9-450e-9ae3-5a2ab40f50af",
   "metadata": {
    "tags": []
   },
   "source": [
    "## 1.6 자산 관리 - VM"
   ]
  },
  {
   "cell_type": "code",
   "execution_count": 33,
   "id": "80e0e4d7-6512-4dc0-8f5e-e63161d5114e",
   "metadata": {},
   "outputs": [],
   "source": [
    "base_path = r\"./data/1_6_202206_자산관리_VM_0727_01.ods\"\n",
    "sheet = f'{month}집계'\n",
    "\n",
    "df = read_ods(base_path, sheet, headers=True)\n",
    "df_filtered = df[df['리전'].apply(lambda x: True if re.search(regex, x) else False) & (df['테넌트']== 'PRD') & (df['월간']=='O')]\n",
    "\n",
    "# Pivoting\n",
    "pivot, total = getPivotTable(df, month)"
   ]
  },
  {
   "cell_type": "code",
   "execution_count": 34,
   "id": "345581d8-6383-4425-857f-79457d5449a0",
   "metadata": {},
   "outputs": [],
   "source": [
    "# Chart - Pie 차트\n",
    "if region == 'All':\n",
    "    source = pivot\n",
    "    chart = getPieChart(source)\n",
    "    chart.save(f'./charts/vm_{region}_{y}_{m}_{d}_1.png')\n",
    "else:\n",
    "    pass\n",
    "\n",
    "# Chart - 라인 차트\n",
    "chart = getLineChart2(df_filtered, month)\n",
    "chart.save(f'./charts/vm_{region}_{y}_{m}_{d}_2.png')"
   ]
  },
  {
   "cell_type": "code",
   "execution_count": 35,
   "id": "8995c174-9b7e-4bec-bacb-2d0c9e974549",
   "metadata": {},
   "outputs": [
    {
     "data": {
      "text/plain": [
       "<docx.shape.InlineShape at 0x1d51a5012e0>"
      ]
     },
     "execution_count": 35,
     "metadata": {},
     "output_type": "execute_result"
    }
   ],
   "source": [
    "# Document\n",
    "document.add_paragraph('자산 관리(vm)', style='List Number')\n",
    "\n",
    "if region == 'All':\n",
    "    document.add_paragraph(f'{month}: 총 {total}', style='List Bullet')    \n",
    "    document.add_picture(f'./charts/vm_{region}_{y}_{m}_{d}_1.png')\n",
    "else:\n",
    "    pass\n",
    "\n",
    "document.add_paragraph(f'월별 VM 수 (추세)', style='List Bullet')\n",
    "document.add_picture(f'./charts/vm_{region}_{y}_{m}_{d}_2.png')   "
   ]
  },
  {
   "cell_type": "code",
   "execution_count": 36,
   "id": "34474710-fb52-495f-ad04-66708d016176",
   "metadata": {},
   "outputs": [
    {
     "data": {
      "text/plain": [
       "<docx.text.paragraph.Paragraph at 0x1d51a81d730>"
      ]
     },
     "execution_count": 36,
     "metadata": {},
     "output_type": "execute_result"
    }
   ],
   "source": [
    "# Document\n",
    "# addSummaryTable(df_filtered, regex, month)\n",
    "document.add_page_break()"
   ]
  },
  {
   "cell_type": "code",
   "execution_count": null,
   "id": "5bc7bf5b-7d14-4d84-b0f4-63c46a7ad81d",
   "metadata": {},
   "outputs": [],
   "source": []
  },
  {
   "cell_type": "markdown",
   "id": "a74f917b-289e-451e-9834-1f90edb8ef2d",
   "metadata": {
    "tags": []
   },
   "source": [
    "## 1.6 자산 관리 - DB"
   ]
  },
  {
   "cell_type": "code",
   "execution_count": 37,
   "id": "93034eb6-247e-4747-ae55-db15d6d292a4",
   "metadata": {},
   "outputs": [],
   "source": [
    "base_path = r\"./data/1_6_202206_자산관리_DB_0727_01.ods\"\n",
    "sheet = f'{month}집계'\n",
    "\n",
    "df = read_ods(base_path, sheet, headers=True)\n",
    "df_filtered = df[df['리전'].apply(lambda x: True if re.search(regex, x) else False) & (df['테넌트']== 'PRD') & (df['월간']=='O')]\n",
    "\n",
    "# Pivoting\n",
    "pivot, total = getPivotTable(df_filtered, month)\n",
    "pivot2, total = getPivotTable2(df_filtered, month)\n",
    "pivot2 = pivot2.reset_index()"
   ]
  },
  {
   "cell_type": "code",
   "execution_count": 38,
   "id": "f437eab7-179d-47ed-9e6f-eab0c454b169",
   "metadata": {},
   "outputs": [],
   "source": [
    "# Chart - Pie 차트\n",
    "if region == 'All':\n",
    "    source = pivot\n",
    "    chart = getPieChart(source)\n",
    "    chart.save(f'./charts/db_{region}_{y}_{m}_{d}_1.png')\n",
    "else:\n",
    "    pass\n",
    "\n",
    "# source = pivot2\n",
    "# chart = getPieChart2(source)\n",
    "# chart.save(f'./charts/db_{region}_{y}_{m}_{d}_2.png')\n",
    "\n",
    "# Chart - 라인 차트\n",
    "chart = getLineChart2(df_filtered, month)\n",
    "chart.save(f'./charts/db_{region}_{y}_{m}_{d}_3.png')"
   ]
  },
  {
   "cell_type": "code",
   "execution_count": 39,
   "id": "280e6302-ce5c-4ed6-bac3-50f5c3f9bfaa",
   "metadata": {},
   "outputs": [
    {
     "data": {
      "text/plain": [
       "<docx.shape.InlineShape at 0x1d51a4f02e0>"
      ]
     },
     "execution_count": 39,
     "metadata": {},
     "output_type": "execute_result"
    }
   ],
   "source": [
    "# Document\n",
    "document.add_paragraph('자산 관리(db)', style='List Number')\n",
    "\n",
    "if region == 'All':\n",
    "    document.add_paragraph(f'{month}: 총 {total}', style='List Bullet')    \n",
    "    document.add_picture(f'./charts/db_{region}_{y}_{m}_{d}_1.png')\n",
    "else:\n",
    "    pass\n",
    "\n",
    "addPivot2Table(pivot2)\n",
    "# document.add_picture(f'./charts/db_{region}_{y}_{m}_{d}_2.png')\n",
    "document.add_paragraph(f'월별 추세', style='List Bullet')\n",
    "document.add_picture(f'./charts/db_{region}_{y}_{m}_{d}_3.png')   "
   ]
  },
  {
   "cell_type": "code",
   "execution_count": 40,
   "id": "b8b186aa-a6d4-4972-bd07-c7f881e2e893",
   "metadata": {},
   "outputs": [
    {
     "data": {
      "text/plain": [
       "<docx.text.paragraph.Paragraph at 0x1d518d94130>"
      ]
     },
     "execution_count": 40,
     "metadata": {},
     "output_type": "execute_result"
    }
   ],
   "source": [
    "# Document\n",
    "document.add_page_break()"
   ]
  },
  {
   "cell_type": "code",
   "execution_count": 41,
   "id": "09593ed9-e9bb-461f-b2a2-280a7b9d57d9",
   "metadata": {},
   "outputs": [],
   "source": [
    "document.save('demo.docx')"
   ]
  },
  {
   "cell_type": "code",
   "execution_count": null,
   "id": "096f7d6b-e911-4dde-819a-1922b9752743",
   "metadata": {},
   "outputs": [],
   "source": []
  },
  {
   "cell_type": "markdown",
   "id": "9fab55b5-ae5a-4aec-bc49-8f13c7bd8bf8",
   "metadata": {
    "tags": []
   },
   "source": [
    "## 1.6 자산 관리 - K8s"
   ]
  },
  {
   "cell_type": "code",
   "execution_count": null,
   "id": "b0ef7bde-3629-48cc-94bf-246ae946666d",
   "metadata": {},
   "outputs": [],
   "source": [
    "base_path = r\"./data/1_6_202206_자산관리_k8s_0720_01.ods\"\n",
    "sheet = '6월집계'\n",
    "\n",
    "df = read_ods(base_path, sheet, headers=True)\n",
    "df_filtered = df[df['리전'].apply(lambda x: True if re.search(regex, x) else False) & (df['테넌트']== 'PRD') & (df['월간']=='O')]\n",
    "\n",
    "# Pivoting\n",
    "pivot, total = getPivotTable(df)"
   ]
  },
  {
   "cell_type": "code",
   "execution_count": null,
   "id": "13ec2791-07ab-42f9-9d01-310a128fec46",
   "metadata": {},
   "outputs": [],
   "source": [
    "# Chart - Pie 차트\n",
    "if region == 'All':\n",
    "    source = pivot\n",
    "    chart = getPieChart(df_filtered, month)\n",
    "    chart.save(f'./charts/k8s_{region}_{y}_{m}_{d}_1.png')\n",
    "else:\n",
    "    pass\n",
    "\n",
    "# Chart - 라인 차트\n",
    "chart = getLineChart(df_filtered, month)\n",
    "chart.save(f'./charts/k8s_{region}_{y}_{m}_{d}_2.png')"
   ]
  },
  {
   "cell_type": "code",
   "execution_count": null,
   "id": "1862c6c3-8472-42ab-a005-be063c991e91",
   "metadata": {},
   "outputs": [],
   "source": [
    "# Document\n",
    "document.add_paragraph('자산 관리(k8s)', style='List Number')\n",
    "\n",
    "if region == 'All':\n",
    "    document.add_paragraph(f'{month}: 총 {total}', style='List Bullet')    \n",
    "    document.add_picture(f'./charts/k8s_{region}_{y}_{m}_{d}_1.png')\n",
    "else:\n",
    "    pass\n",
    "\n",
    "document.add_paragraph(f'월별 추세', style='List Bullet')\n",
    "document.add_picture(f'./charts/k8s_{region}_{y}_{m}_{d}_2.png')   "
   ]
  },
  {
   "cell_type": "code",
   "execution_count": null,
   "id": "72781628-3995-4ebe-be90-0a269f43da8d",
   "metadata": {},
   "outputs": [],
   "source": [
    "# Document\n",
    "# addSummaryTable(df_filtered, regex, month)\n",
    "document.add_page_break()"
   ]
  },
  {
   "cell_type": "markdown",
   "id": "6ba5cd55-59d5-4d8d-aa02-7a570eb67d85",
   "metadata": {
    "tags": []
   },
   "source": [
    "## 1.7 용량 관리"
   ]
  },
  {
   "cell_type": "code",
   "execution_count": null,
   "id": "80173d5a-ba4b-4c93-9a30-920d513633fe",
   "metadata": {},
   "outputs": [],
   "source": [
    "base_path = r\"./data/1_7_202206_용량관리_0720_01.ods\"\n",
    "sheet = '6월집계'\n",
    "\n",
    "df = read_ods(base_path, sheet, headers=True)\n",
    "df_filtered = df[df['리전'].apply(lambda x: True if re.search(regex, x) else False) & (df['테넌트']== 'PRD') & (df['월간']=='O')]\n",
    "\n",
    "# Pivoting\n",
    "pivot, total = getPivotTable(df)"
   ]
  },
  {
   "cell_type": "code",
   "execution_count": null,
   "id": "1fb8f723-a881-4ee4-8c87-900bcdfae909",
   "metadata": {},
   "outputs": [],
   "source": [
    "# Chart - Pie 차트\n",
    "if region == 'All':\n",
    "    source = pivot\n",
    "    chart = getPieChart(df_filtered, month)\n",
    "    chart.save(f'./charts/cpm_{region}_{y}_{m}_{d}_1.png')\n",
    "else:\n",
    "    pass\n",
    "\n",
    "# Chart - 라인 차트\n",
    "chart = getLineChart(df_filtered, month)\n",
    "chart.save(f'./charts/cpm_{region}_{y}_{m}_{d}_2.png')"
   ]
  },
  {
   "cell_type": "code",
   "execution_count": null,
   "id": "2e9d72be-b2f3-44c4-98aa-4ab80cf38c21",
   "metadata": {},
   "outputs": [],
   "source": [
    "# Document\n",
    "document.add_paragraph('용량(이슈) 관리', style='List Number')\n",
    "\n",
    "if region == 'All':\n",
    "    document.add_paragraph(f'{month}: 총 {total}', style='List Bullet')    \n",
    "    document.add_picture(f'./charts/cpm_{region}_{y}_{m}_{d}_1.png')\n",
    "else:\n",
    "    pass\n",
    "\n",
    "document.add_paragraph(f'월별 추세', style='List Bullet')\n",
    "document.add_picture(f'./charts/cpm_{region}_{y}_{m}_{d}_2.png')   "
   ]
  },
  {
   "cell_type": "code",
   "execution_count": null,
   "id": "281eb520-5c01-4e65-8b49-c856bd8209f3",
   "metadata": {},
   "outputs": [],
   "source": [
    "# Document\n",
    "addSummaryTable(df_filtered, regex, month)\n",
    "document.add_page_break()"
   ]
  },
  {
   "cell_type": "code",
   "execution_count": null,
   "id": "e121a457-e300-4bf6-a8ed-db2c7254e743",
   "metadata": {},
   "outputs": [],
   "source": [
    "document.add_paragraph(f'자원 현황표', style='List Bullet')"
   ]
  },
  {
   "cell_type": "markdown",
   "id": "4646dc19-72f8-4b7c-b39f-184cda10d628",
   "metadata": {
    "tags": []
   },
   "source": [
    "## 1.8 백업 관리"
   ]
  },
  {
   "cell_type": "code",
   "execution_count": null,
   "id": "41f9d197-9828-42b1-acb0-eb722701e44f",
   "metadata": {},
   "outputs": [],
   "source": [
    "base_path = r\"./data/1_8_202206_백업관리_0720_01.ods\"\n",
    "sheet = '6월집계'\n",
    "\n",
    "df = read_ods(base_path, sheet, headers=True)\n",
    "df_filtered = df[df['리전'].apply(lambda x: True if re.search(regex, x) else False) & (df['테넌트']== 'PRD') & (df['월간']=='O')]\n",
    "\n",
    "# Pivoting\n",
    "pivot, total = getPivotTable(df)"
   ]
  },
  {
   "cell_type": "code",
   "execution_count": null,
   "id": "2feb4422-3754-4fa0-b6d7-7dd814823bfb",
   "metadata": {},
   "outputs": [],
   "source": [
    "# Chart - Pie 차트\n",
    "if region == 'All':\n",
    "    source = pivot\n",
    "    chart = getPieChart(df_filtered, month)\n",
    "    chart.save(f'./charts/bm_{region}_{y}_{m}_{d}_1.png')\n",
    "else:\n",
    "    pass\n",
    "\n",
    "# Chart - 라인 차트\n",
    "chart = getLineChart(df_filtered, month)\n",
    "chart.save(f'./charts/bm_{region}_{y}_{m}_{d}_2.png')"
   ]
  },
  {
   "cell_type": "code",
   "execution_count": null,
   "id": "8e369d67-f65b-46d1-a50e-bece94135670",
   "metadata": {},
   "outputs": [],
   "source": [
    "# Document\n",
    "document.add_paragraph('백업 관리', style='List Number')\n",
    "\n",
    "if region == 'All':\n",
    "    document.add_paragraph(f'{month}: 총 {total}', style='List Bullet')    \n",
    "    document.add_picture(f'./charts/bm_{region}_{y}_{m}_{d}_1.png')\n",
    "else:\n",
    "    pass\n",
    "\n",
    "document.add_paragraph(f'월별 추세', style='List Bullet')\n",
    "document.add_picture(f'./charts/bm_{region}_{y}_{m}_{d}_2.png')   "
   ]
  },
  {
   "cell_type": "code",
   "execution_count": null,
   "id": "87fc4ede-321d-4324-9909-4847c2ac3205",
   "metadata": {},
   "outputs": [],
   "source": [
    "# Document\n",
    "# addSummaryTable(df_filtered, regex, month)\n",
    "document.add_page_break()"
   ]
  },
  {
   "cell_type": "markdown",
   "id": "64752b33-16b5-426e-a0a5-c4b99f9c3ae0",
   "metadata": {
    "tags": []
   },
   "source": [
    "## 1.9 보안 관리"
   ]
  },
  {
   "cell_type": "code",
   "execution_count": null,
   "id": "14abfdf7-4f38-492c-b7c0-a2ad06204885",
   "metadata": {},
   "outputs": [],
   "source": [
    "base_path = r\"./data/1_9_202206_보안관리_0720_01.ods\"\n",
    "sheet = '6월집계'\n",
    "\n",
    "df = read_ods(base_path, sheet, headers=True)\n",
    "df_filtered = df[df['리전'].apply(lambda x: True if re.search(regex, x) else False) & (df['테넌트']== 'PRD') & (df['월간']=='O')]\n",
    "\n",
    "# Pivoting\n",
    "pivot, total = getPivotTable(df)"
   ]
  },
  {
   "cell_type": "code",
   "execution_count": null,
   "id": "cae69319-c325-40c0-b301-390bd6986b0b",
   "metadata": {},
   "outputs": [],
   "source": [
    "# Chart - Pie 차트\n",
    "if region == 'All':\n",
    "    source = pivot\n",
    "    chart = getPieChart(df_filtered, month)\n",
    "    chart.save(f'./charts/sm_{region}_{y}_{m}_{d}_1.png')\n",
    "else:\n",
    "    pass\n",
    "\n",
    "# Chart - 라인 차트\n",
    "chart = getLineChart(df_filtered, month)\n",
    "chart.save(f'./charts/sm_{region}_{y}_{m}_{d}_2.png')"
   ]
  },
  {
   "cell_type": "code",
   "execution_count": null,
   "id": "cc73840e-ead6-4cb0-b2fe-ff5cbc326b6f",
   "metadata": {},
   "outputs": [],
   "source": [
    "# Document\n",
    "document.add_paragraph('보안 관리', style='List Number')\n",
    "\n",
    "if region == 'All':\n",
    "    document.add_paragraph(f'{month}: 총 {total}', style='List Bullet')    \n",
    "    document.add_picture(f'./charts/sm_{region}_{y}_{m}_{d}_1.png')\n",
    "else:\n",
    "    pass\n",
    "\n",
    "document.add_paragraph(f'월별 추세', style='List Bullet')\n",
    "document.add_picture(f'./charts/sm_{region}_{y}_{m}_{d}_2.png')   "
   ]
  },
  {
   "cell_type": "code",
   "execution_count": null,
   "id": "3e39832a-4818-4753-b921-a7be3276bdb1",
   "metadata": {},
   "outputs": [],
   "source": [
    "# Document\n",
    "addSummaryTable(df_filtered, regex, month)\n",
    "document.add_page_break()"
   ]
  },
  {
   "cell_type": "markdown",
   "id": "310c18b3-6b7f-4608-9710-68ce11496bec",
   "metadata": {
    "tags": []
   },
   "source": [
    "## 1.10 하드웨어 정기점검"
   ]
  },
  {
   "cell_type": "code",
   "execution_count": null,
   "id": "1fe8c2d7-3f15-45e7-a82a-ecb027b43eeb",
   "metadata": {},
   "outputs": [],
   "source": [
    "base_path = r\"./data/1_10_202206_정기점검_0720_01.ods\"\n",
    "sheet = '6월집계'\n",
    "\n",
    "df = read_ods(base_path, sheet, headers=True)\n",
    "df_filtered = df[df['리전'].apply(lambda x: True if re.search(regex, x) else False) & (df['테넌트']== 'PRD') & (df['월간']=='O')]\n",
    "\n",
    "# Pivoting\n",
    "pivot, total = getPivotTable(df)"
   ]
  },
  {
   "cell_type": "code",
   "execution_count": null,
   "id": "e58070ae-0a83-4f6e-87da-c416db7f9f58",
   "metadata": {},
   "outputs": [],
   "source": [
    "# Chart - Pie 차트\n",
    "if region == 'All':\n",
    "    source = pivot\n",
    "    chart = getPieChart(df_filtered, month)\n",
    "    chart.save(f'./charts/rc_{region}_{y}_{m}_{d}_1.png')\n",
    "else:\n",
    "    pass\n",
    "\n",
    "# Chart - 라인 차트\n",
    "chart = getLineChart(df_filtered, month)\n",
    "chart.save(f'./charts/rc_{region}_{y}_{m}_{d}_2.png')"
   ]
  },
  {
   "cell_type": "code",
   "execution_count": null,
   "id": "5eac84be-dfcf-4632-bd4f-d4033167228d",
   "metadata": {},
   "outputs": [],
   "source": [
    "# Document\n",
    "document.add_paragraph('정기점검', style='List Number')\n",
    "\n",
    "if region == 'All':\n",
    "    document.add_paragraph(f'{month}: 총 {total}', style='List Bullet')    \n",
    "    document.add_picture(f'./charts/rc_{region}_{y}_{m}_{d}_1.png')\n",
    "else:\n",
    "    pass\n",
    "\n",
    "document.add_paragraph(f'월별 추세', style='List Bullet')\n",
    "document.add_picture(f'./charts/rc_{region}_{y}_{m}_{d}_2.png')   "
   ]
  },
  {
   "cell_type": "code",
   "execution_count": null,
   "id": "04dd2e62-709a-4332-a65f-f7d7b76db34f",
   "metadata": {},
   "outputs": [],
   "source": [
    "# Document\n",
    "# addSummaryTable(df_filtered, regex, month)\n",
    "document.add_page_break()"
   ]
  },
  {
   "cell_type": "code",
   "execution_count": null,
   "id": "952ce704-2a79-4505-a8f2-72543a181592",
   "metadata": {},
   "outputs": [],
   "source": []
  },
  {
   "cell_type": "code",
   "execution_count": null,
   "id": "ebb0b552-41cf-457f-b5e7-0f3f4844535d",
   "metadata": {},
   "outputs": [],
   "source": [
    "import datetime\n",
    "from chart import *\n",
    "\n",
    "# Data Loading\n",
    "base_path = r\"./data/1_7_202206_용량관리_0720_01.ods\"\n",
    "sheet = '6월집계'\n",
    "\n",
    "df = read_ods(base_path, sheet, headers=True)\n",
    "df"
   ]
  },
  {
   "cell_type": "code",
   "execution_count": null,
   "id": "fabf53b4-6e56-42c1-9113-6b6f4dc8b876",
   "metadata": {},
   "outputs": [],
   "source": [
    "df.info()"
   ]
  },
  {
   "cell_type": "code",
   "execution_count": null,
   "id": "2de1dd8e-d945-4782-af66-291da230fb08",
   "metadata": {},
   "outputs": [],
   "source": [
    "df.describe()"
   ]
  },
  {
   "cell_type": "code",
   "execution_count": null,
   "id": "23f13b7f-d7a6-44f4-a0a3-9f0c2e05a52f",
   "metadata": {},
   "outputs": [],
   "source": [
    "# Pivoting - [df['월']=='6월') & (df['테넌트']== 'PRD') & (df['진행상태']=='완료')]\n",
    "pivot, total = getPivotTable(df)\n",
    "print(total)\n",
    "pivot"
   ]
  },
  {
   "cell_type": "code",
   "execution_count": null,
   "id": "99107ab2-467a-44a7-9fec-6c2a1f43af00",
   "metadata": {},
   "outputs": [],
   "source": [
    "# ETL\n",
    "total = Data.count()\n",
    "data = getdata()\n",
    "chart = getTable(data)"
   ]
  },
  {
   "cell_type": "markdown",
   "id": "14b2da10-c361-4775-8288-582603a37b81",
   "metadata": {
    "tags": []
   },
   "source": [
    "### 비중 :: Piot Table"
   ]
  },
  {
   "cell_type": "code",
   "execution_count": null,
   "id": "6e54e887-abbc-49e5-94c0-2cccbc3c903c",
   "metadata": {},
   "outputs": [],
   "source": [
    "pivot = getPivotTable(df)"
   ]
  },
  {
   "cell_type": "code",
   "execution_count": null,
   "id": "ea11990f-87ff-4ab5-bf2d-7c2024b78c3b",
   "metadata": {},
   "outputs": [],
   "source": [
    "source = pivot\n",
    "chart = get_pieChart(source)\n",
    "chart"
   ]
  },
  {
   "cell_type": "code",
   "execution_count": null,
   "id": "062fd851-c5e6-4017-9f94-596468abc687",
   "metadata": {},
   "outputs": [],
   "source": [
    "chart.save(f'./charts/mon_{y}_{m}_{d}_1.png')"
   ]
  },
  {
   "cell_type": "code",
   "execution_count": null,
   "id": "8e206d9f-4bb1-4d17-8dda-e700721dc8d4",
   "metadata": {},
   "outputs": [],
   "source": [
    "document.add_paragraph('1.1 서비스 관리', style='List Number')\n",
    "document.add_paragraph(f'6월: 총 {total}', style='List Bullet')\n",
    "document.add_picture(f'./charts/mon_{y}_{m}_{d}_1.png')"
   ]
  },
  {
   "cell_type": "markdown",
   "id": "6d1f579c-15a3-4085-a4cf-d8130453e128",
   "metadata": {
    "jp-MarkdownHeadingCollapsed": true,
    "tags": []
   },
   "source": [
    "### 시계열 :: LineChart"
   ]
  },
  {
   "cell_type": "code",
   "execution_count": null,
   "id": "331c6f5f-a1b0-4cc8-a191-6882a9fb57ad",
   "metadata": {},
   "outputs": [],
   "source": [
    "pTable"
   ]
  },
  {
   "cell_type": "code",
   "execution_count": null,
   "id": "f1000172-4d52-4fb4-aa00-65fb09524e5c",
   "metadata": {},
   "outputs": [],
   "source": [
    "regex = '^(KR|CN|NA|EU|SG|RU|Global)'\n",
    "df_filtered = df[df['리전'].apply(lambda x: True if re.search(regex, x) else False) & (df['테넌트']== 'PRD') & (df['진행상태']=='완료')]\n",
    "source = df_filtered\n",
    "chart = get_lineChart(source)\n",
    "chart"
   ]
  },
  {
   "cell_type": "code",
   "execution_count": null,
   "id": "9ec4ba1d-3758-42ee-bf84-83d3445adf64",
   "metadata": {},
   "outputs": [],
   "source": [
    "chart.save('charts/2.png')\n",
    "document.add_picture('charts/2.png')"
   ]
  },
  {
   "cell_type": "code",
   "execution_count": null,
   "id": "93bc5e94-c577-4bec-8a27-6e1604226385",
   "metadata": {},
   "outputs": [],
   "source": [
    "df_filtered[df_filtered['월'] == '6월'].sort_values(['리전']).reset_index()"
   ]
  },
  {
   "cell_type": "markdown",
   "id": "2eccb0a5-cd48-48b4-aa76-9af20c887ac9",
   "metadata": {
    "jp-MarkdownHeadingCollapsed": true,
    "tags": []
   },
   "source": [
    "### 시계열 :: BarChart"
   ]
  },
  {
   "cell_type": "code",
   "execution_count": null,
   "id": "1ac10165-9219-419d-830d-54590167842a",
   "metadata": {},
   "outputs": [],
   "source": [
    "source=pTable\n",
    "chart = get_barChart(source)\n",
    "chart"
   ]
  },
  {
   "cell_type": "code",
   "execution_count": null,
   "id": "0aee1931-4f49-4a2b-b8ff-89dd3fe6ea1a",
   "metadata": {},
   "outputs": [],
   "source": [
    "chart.save('charts/3.png')\n",
    "document.add_picture('charts/3.png')"
   ]
  },
  {
   "cell_type": "markdown",
   "id": "a4e7e756-ef39-4ece-aadf-b08084ad8d2e",
   "metadata": {
    "jp-MarkdownHeadingCollapsed": true,
    "tags": []
   },
   "source": [
    "### 시계열 - LineChart or BarChart"
   ]
  },
  {
   "cell_type": "markdown",
   "id": "05914833-d404-4726-809a-acb99ed3a7eb",
   "metadata": {
    "jp-MarkdownHeadingCollapsed": true,
    "tags": []
   },
   "source": [
    "### ALL"
   ]
  },
  {
   "cell_type": "code",
   "execution_count": null,
   "id": "3de0f398-85c7-4c08-a06a-cb714539a33e",
   "metadata": {},
   "outputs": [],
   "source": [
    "regex = '^(KR|CN|NA|EU|SG|RU|Global)'\n",
    "df_filtered = df[df['리전'].apply(lambda x: True if re.search(regex, x) else False) & (df['테넌트']== 'PRD') & (df['진행상태']=='완료')]\n",
    "source = df_filtered\n",
    "chart = get_lineChart(source)\n",
    "chart"
   ]
  },
  {
   "cell_type": "code",
   "execution_count": null,
   "id": "5232ec50-201d-4956-b2a2-a2cf4da6bb47",
   "metadata": {},
   "outputs": [],
   "source": [
    "chart.save('charts/4.png')\n",
    "document.add_picture('charts/4.png')"
   ]
  },
  {
   "cell_type": "code",
   "execution_count": null,
   "id": "477e194c-13f6-4122-97d1-db55b67c9493",
   "metadata": {},
   "outputs": [],
   "source": [
    "source"
   ]
  },
  {
   "cell_type": "code",
   "execution_count": null,
   "id": "7e245d39-e4eb-4f17-929b-87db1356d8e6",
   "metadata": {},
   "outputs": [],
   "source": [
    "# Write to Word\n",
    "document.add_paragraph('1.1 모니터링', style='List Number')\n",
    "document.add_paragraph(f'6월: 총 {total}', style='List Bullet')\n",
    "document.add_picture(f'./charts/mon_{y}_{m}_{d}_1.png')"
   ]
  },
  {
   "cell_type": "markdown",
   "id": "6ea0d342-b943-400d-99f1-34414b885bb2",
   "metadata": {
    "tags": []
   },
   "source": [
    "### by Region"
   ]
  },
  {
   "cell_type": "code",
   "execution_count": null,
   "id": "dd70428f-f280-4390-863d-96ffe52c394e",
   "metadata": {},
   "outputs": [],
   "source": []
  },
  {
   "cell_type": "code",
   "execution_count": null,
   "id": "c87149f2-94cb-4b7f-a265-fa82d770d4e4",
   "metadata": {},
   "outputs": [],
   "source": [
    "regions = df['리전'].unique()\n",
    "\n",
    "for region in regions:\n",
    "    print(region)"
   ]
  },
  {
   "cell_type": "markdown",
   "id": "cb9e5768-9db4-4be3-bcd2-1ab7fd8493c0",
   "metadata": {
    "tags": []
   },
   "source": [
    "#### KR"
   ]
  },
  {
   "cell_type": "code",
   "execution_count": null,
   "id": "cee15b8f-2b8e-4880-837d-c81dd34c1363",
   "metadata": {},
   "outputs": [],
   "source": [
    "regex = '^(KR|Global)'\n",
    "df_filtered = df[df['리전'].apply(lambda x: True if re.search(regex, x) else False) & (df['테넌트']== 'PRD') & (df['진행상태']=='완료')]\n",
    "source = df_filtered\n",
    "chart = get_lineChart(source)\n",
    "chart"
   ]
  },
  {
   "cell_type": "code",
   "execution_count": null,
   "id": "3c8fb3b0-a467-477c-a4ed-83b59a890c6b",
   "metadata": {},
   "outputs": [],
   "source": [
    "chart.save('charts/5.png')\n",
    "document.add_picture('charts/5.png')"
   ]
  },
  {
   "cell_type": "markdown",
   "id": "89223bb5-fff2-4a9a-9170-7b8e7610f053",
   "metadata": {
    "tags": []
   },
   "source": [
    "#### CN"
   ]
  },
  {
   "cell_type": "code",
   "execution_count": null,
   "id": "7f022f65-bb2f-4104-9587-8fc315549a9e",
   "metadata": {},
   "outputs": [],
   "source": [
    "regex = '^(CN|Global)'\n",
    "df_filtered = df[df['리전'].apply(lambda x: True if re.search(regex, x) else False) & (df['테넌트']== 'PRD') & (df['진행상태']=='완료')]\n",
    "source = df_filtered\n",
    "chart = get_lineChart(source)\n",
    "chart"
   ]
  },
  {
   "cell_type": "code",
   "execution_count": null,
   "id": "5784027f-f729-427a-adf7-f5e85005b027",
   "metadata": {},
   "outputs": [],
   "source": [
    "chart.save('charts/6.png')\n",
    "document.add_picture('charts/6.png')"
   ]
  },
  {
   "cell_type": "markdown",
   "id": "2e4525cc-703b-458f-bce5-3c05f0f4a028",
   "metadata": {
    "tags": []
   },
   "source": [
    "#### NA"
   ]
  },
  {
   "cell_type": "code",
   "execution_count": null,
   "id": "ca9280b7-3902-41ad-87e3-83554a8327e9",
   "metadata": {},
   "outputs": [],
   "source": [
    "regex = '^(NA|Global)'\n",
    "df_filtered = df[df['리전'].apply(lambda x: True if re.search(regex, x) else False) & (df['테넌트']== 'PRD') & (df['진행상태']=='완료')]\n",
    "source = df_filtered\n",
    "chart = get_lineChart(source)\n",
    "chart"
   ]
  },
  {
   "cell_type": "code",
   "execution_count": null,
   "id": "be4e21b6-ffdf-4ed5-90e5-de6aa628d982",
   "metadata": {},
   "outputs": [],
   "source": [
    "chart.save('charts/7.png')\n",
    "document.add_picture('charts/7.png')"
   ]
  },
  {
   "cell_type": "markdown",
   "id": "bc5939ae-9a02-43a9-99e6-8120904d5413",
   "metadata": {
    "tags": []
   },
   "source": [
    "#### EU"
   ]
  },
  {
   "cell_type": "code",
   "execution_count": null,
   "id": "7075d932-73bb-4cc7-a45c-924ffa38e216",
   "metadata": {},
   "outputs": [],
   "source": [
    "regex = '^(EU|Global)'\n",
    "df_filtered = df[df['리전'].apply(lambda x: True if re.search(regex, x) else False) & (df['테넌트']== 'PRD') & (df['진행상태']=='완료')]\n",
    "source = df_filtered\n",
    "chart = get_lineChart(source)\n",
    "chart"
   ]
  },
  {
   "cell_type": "code",
   "execution_count": null,
   "id": "7bd4565b-0dc3-473d-a8ea-ffc56ec63984",
   "metadata": {},
   "outputs": [],
   "source": [
    "chart.save('charts/8.png')\n",
    "document.add_picture('charts/8.png')"
   ]
  },
  {
   "cell_type": "markdown",
   "id": "ba74406f-076d-4f2f-95ac-9d581fb1be04",
   "metadata": {
    "tags": []
   },
   "source": [
    "#### SG"
   ]
  },
  {
   "cell_type": "code",
   "execution_count": null,
   "id": "83dcd299-18b0-473d-a6a8-d549eea13966",
   "metadata": {},
   "outputs": [],
   "source": [
    "regex = '^(SG|Global)'\n",
    "df_filtered = df[df['리전'].apply(lambda x: True if re.search(regex, x) else False) & (df['테넌트']== 'PRD') & (df['진행상태']=='완료')]\n",
    "source = df_filtered\n",
    "chart = get_lineChart(source)\n",
    "chart"
   ]
  },
  {
   "cell_type": "code",
   "execution_count": null,
   "id": "30a967f4-168e-4ef0-aa14-f57eca01b0a5",
   "metadata": {},
   "outputs": [],
   "source": [
    "chart.save('charts/9.png')\n",
    "document.add_picture('charts/9.png')"
   ]
  },
  {
   "cell_type": "markdown",
   "id": "b43a7eac-8a95-454a-a074-36710b97ea0d",
   "metadata": {},
   "source": [
    "#### RU"
   ]
  },
  {
   "cell_type": "code",
   "execution_count": null,
   "id": "36307113-ffb3-4906-a4db-4fd4eed55724",
   "metadata": {},
   "outputs": [],
   "source": [
    "regex = '^(RU|Global)'\n",
    "df_filtered = df[df['리전'].apply(lambda x: True if re.search(regex, x) else False) & (df['테넌트']== 'PRD') & (df['진행상태']=='완료')]\n",
    "source = df_filtered\n",
    "chart = get_lineChart(source)\n",
    "chart"
   ]
  },
  {
   "cell_type": "code",
   "execution_count": null,
   "id": "464fb1fd-eecf-486a-8f98-9b25b1174db7",
   "metadata": {},
   "outputs": [],
   "source": [
    "chart.save('charts/10.png')\n",
    "document.add_picture('charts/10.png')"
   ]
  },
  {
   "cell_type": "code",
   "execution_count": null,
   "id": "1b18c41e-ffbe-49b5-acfc-7a8ef53dc373",
   "metadata": {},
   "outputs": [],
   "source": [
    "document.save('word.docx')"
   ]
  },
  {
   "cell_type": "code",
   "execution_count": null,
   "id": "dc0f1fc4-e7ac-47e4-ab34-9e76ab19ac08",
   "metadata": {},
   "outputs": [],
   "source": []
  },
  {
   "cell_type": "code",
   "execution_count": null,
   "id": "15ffed24-ecb7-450b-ad15-5fa94259f951",
   "metadata": {},
   "outputs": [],
   "source": []
  },
  {
   "cell_type": "code",
   "execution_count": null,
   "id": "8aa84148-7c89-40f5-ba63-b19bcdc6d7d0",
   "metadata": {},
   "outputs": [],
   "source": []
  },
  {
   "cell_type": "code",
   "execution_count": null,
   "id": "58663475-5028-4382-a666-2ed95526861b",
   "metadata": {},
   "outputs": [],
   "source": []
  },
  {
   "cell_type": "code",
   "execution_count": null,
   "id": "0702fcde-847f-4cfa-9c4b-d156af2038e1",
   "metadata": {},
   "outputs": [],
   "source": []
  },
  {
   "cell_type": "code",
   "execution_count": null,
   "id": "13212345-ab39-463d-873b-326cc14b2e27",
   "metadata": {},
   "outputs": [],
   "source": [
    "import datetime\n",
    "from chart import *\n",
    "\n",
    "# Data Loading\n",
    "base_path = r\"./data/1_8_202206_백업관리_0720_01.ods\"\n",
    "sheet = '6월집계'\n",
    "\n",
    "df = read_ods(base_path, sheet, headers=True)"
   ]
  },
  {
   "cell_type": "code",
   "execution_count": null,
   "id": "8a6738b9-7931-4360-8b94-9af5208b4110",
   "metadata": {},
   "outputs": [],
   "source": [
    "df"
   ]
  },
  {
   "cell_type": "code",
   "execution_count": null,
   "id": "0b8b3813-0c71-4f9e-85fd-30d82103c486",
   "metadata": {},
   "outputs": [],
   "source": [
    "df.info()"
   ]
  },
  {
   "cell_type": "code",
   "execution_count": null,
   "id": "87c1647d-5cc9-4aec-be04-596bcd629ac6",
   "metadata": {},
   "outputs": [],
   "source": [
    "df.describe()"
   ]
  },
  {
   "cell_type": "code",
   "execution_count": null,
   "id": "dbfa63ac-c631-4e93-ae7e-6d54dc177c21",
   "metadata": {},
   "outputs": [],
   "source": [
    "# Pivoting - [df['월']=='6월') & (df['테넌트']== 'PRD') & (df['진행상태']=='완료')]\n",
    "pivot, total = getPivotTable(df)\n",
    "print(total)\n",
    "pivot"
   ]
  },
  {
   "cell_type": "code",
   "execution_count": null,
   "id": "fca66d50-4192-4c02-a860-e43aa4c30202",
   "metadata": {},
   "outputs": [],
   "source": [
    "# ETL\n",
    "total = Data.count()\n",
    "data = getdata()\n",
    "chart = getTable(data)"
   ]
  },
  {
   "cell_type": "markdown",
   "id": "7ae748f9-17ed-4943-ba12-637f1720f4fc",
   "metadata": {
    "tags": []
   },
   "source": [
    "### 비중 :: Piot Table"
   ]
  },
  {
   "cell_type": "code",
   "execution_count": null,
   "id": "fc9c3732-7923-4a60-8388-b6781844bccf",
   "metadata": {},
   "outputs": [],
   "source": [
    "pivot = getPivotTable(df)"
   ]
  },
  {
   "cell_type": "code",
   "execution_count": null,
   "id": "d1efc941-9340-405c-95e7-4a3ca2c6e726",
   "metadata": {},
   "outputs": [],
   "source": [
    "source = pivot\n",
    "chart = get_pieChart(source)\n",
    "chart"
   ]
  },
  {
   "cell_type": "code",
   "execution_count": null,
   "id": "5e044417-2e8a-4469-b4b3-fc8ef54bdef5",
   "metadata": {},
   "outputs": [],
   "source": [
    "chart.save(f'./charts/mon_{y}_{m}_{d}_1.png')"
   ]
  },
  {
   "cell_type": "code",
   "execution_count": null,
   "id": "835be7f8-8c15-4c8e-b6ed-969d552c4629",
   "metadata": {},
   "outputs": [],
   "source": [
    "document.add_paragraph('1.1 서비스 관리', style='List Number')\n",
    "document.add_paragraph(f'6월: 총 {total}', style='List Bullet')\n",
    "document.add_picture(f'./charts/mon_{y}_{m}_{d}_1.png')"
   ]
  },
  {
   "cell_type": "markdown",
   "id": "5a8de849-fb21-4ba1-9695-661a3d1b10da",
   "metadata": {
    "jp-MarkdownHeadingCollapsed": true,
    "tags": []
   },
   "source": [
    "### 시계열 :: LineChart"
   ]
  },
  {
   "cell_type": "code",
   "execution_count": null,
   "id": "f5a1b53f-dd52-4ae7-bc41-70cf17f8524d",
   "metadata": {},
   "outputs": [],
   "source": [
    "pTable"
   ]
  },
  {
   "cell_type": "code",
   "execution_count": null,
   "id": "ebd152e4-c7df-423f-8a1a-0aa433fe4560",
   "metadata": {},
   "outputs": [],
   "source": [
    "regex = '^(KR|CN|NA|EU|SG|RU|Global)'\n",
    "df_filtered = df[df['리전'].apply(lambda x: True if re.search(regex, x) else False) & (df['테넌트']== 'PRD') & (df['진행상태']=='완료')]\n",
    "source = df_filtered\n",
    "chart = get_lineChart(source)\n",
    "chart"
   ]
  },
  {
   "cell_type": "code",
   "execution_count": null,
   "id": "9d72509d-fb56-4d04-9c33-3b03e794024c",
   "metadata": {},
   "outputs": [],
   "source": [
    "chart.save('charts/2.png')\n",
    "document.add_picture('charts/2.png')"
   ]
  },
  {
   "cell_type": "code",
   "execution_count": null,
   "id": "407920e4-9ce1-4776-9e3a-661b04b1257b",
   "metadata": {},
   "outputs": [],
   "source": [
    "df_filtered[df_filtered['월'] == '6월'].sort_values(['리전']).reset_index()"
   ]
  },
  {
   "cell_type": "markdown",
   "id": "c84e3c47-3d34-40cc-834f-d84ef9af9c8a",
   "metadata": {
    "jp-MarkdownHeadingCollapsed": true,
    "tags": []
   },
   "source": [
    "### 시계열 :: BarChart"
   ]
  },
  {
   "cell_type": "code",
   "execution_count": null,
   "id": "20ad71be-81e0-4cfb-9767-26ef81726e18",
   "metadata": {},
   "outputs": [],
   "source": [
    "source=pTable\n",
    "chart = get_barChart(source)\n",
    "chart"
   ]
  },
  {
   "cell_type": "code",
   "execution_count": null,
   "id": "5e4f575b-7d24-401e-a2df-e3e2eb9a9b1a",
   "metadata": {},
   "outputs": [],
   "source": [
    "chart.save('charts/3.png')\n",
    "document.add_picture('charts/3.png')"
   ]
  },
  {
   "cell_type": "markdown",
   "id": "d33a8108-71ae-4961-b235-2acae4e2283a",
   "metadata": {
    "jp-MarkdownHeadingCollapsed": true,
    "tags": []
   },
   "source": [
    "### 시계열 - LineChart or BarChart"
   ]
  },
  {
   "cell_type": "markdown",
   "id": "ef455a7d-f864-4ad6-ba38-b886c02d40a8",
   "metadata": {
    "jp-MarkdownHeadingCollapsed": true,
    "tags": []
   },
   "source": [
    "### ALL"
   ]
  },
  {
   "cell_type": "code",
   "execution_count": null,
   "id": "37f19480-bbd0-42ee-9e12-153ad9249699",
   "metadata": {},
   "outputs": [],
   "source": [
    "regex = '^(KR|CN|NA|EU|SG|RU|Global)'\n",
    "df_filtered = df[df['리전'].apply(lambda x: True if re.search(regex, x) else False) & (df['테넌트']== 'PRD') & (df['진행상태']=='완료')]\n",
    "source = df_filtered\n",
    "chart = get_lineChart(source)\n",
    "chart"
   ]
  },
  {
   "cell_type": "code",
   "execution_count": null,
   "id": "a6374663-111d-4dd4-9f6d-30c08abe4cac",
   "metadata": {},
   "outputs": [],
   "source": [
    "chart.save('charts/4.png')\n",
    "document.add_picture('charts/4.png')"
   ]
  },
  {
   "cell_type": "code",
   "execution_count": null,
   "id": "29c449dc-c963-4285-b7b5-0b9130d6e82b",
   "metadata": {},
   "outputs": [],
   "source": [
    "source"
   ]
  },
  {
   "cell_type": "code",
   "execution_count": null,
   "id": "55deb06f-0ccb-465e-87d5-abc5c924d627",
   "metadata": {},
   "outputs": [],
   "source": [
    "# Write to Word\n",
    "document.add_paragraph('1.1 모니터링', style='List Number')\n",
    "document.add_paragraph(f'6월: 총 {total}', style='List Bullet')\n",
    "document.add_picture(f'./charts/mon_{y}_{m}_{d}_1.png')"
   ]
  },
  {
   "cell_type": "markdown",
   "id": "0362866b-2684-4b02-a9cc-2a538e2b2ce0",
   "metadata": {
    "tags": []
   },
   "source": [
    "### by Region"
   ]
  },
  {
   "cell_type": "code",
   "execution_count": null,
   "id": "8ba49dce-4293-458c-8b27-87d95e27005e",
   "metadata": {},
   "outputs": [],
   "source": []
  },
  {
   "cell_type": "code",
   "execution_count": null,
   "id": "b7770ad1-93ea-486a-8990-170b846a86ab",
   "metadata": {},
   "outputs": [],
   "source": [
    "regions = df['리전'].unique()\n",
    "\n",
    "for region in regions:\n",
    "    print(region)"
   ]
  },
  {
   "cell_type": "markdown",
   "id": "acaa3b96-3e06-4225-924e-43df0bd67b3f",
   "metadata": {
    "tags": []
   },
   "source": [
    "#### KR"
   ]
  },
  {
   "cell_type": "code",
   "execution_count": null,
   "id": "fe6b2fab-a2a5-4977-811a-e5f06502e4b6",
   "metadata": {},
   "outputs": [],
   "source": [
    "regex = '^(KR|Global)'\n",
    "df_filtered = df[df['리전'].apply(lambda x: True if re.search(regex, x) else False) & (df['테넌트']== 'PRD') & (df['진행상태']=='완료')]\n",
    "source = df_filtered\n",
    "chart = get_lineChart(source)\n",
    "chart"
   ]
  },
  {
   "cell_type": "code",
   "execution_count": null,
   "id": "6148d790-f1c0-45ea-a950-08bfc5d6b3e7",
   "metadata": {},
   "outputs": [],
   "source": [
    "chart.save('charts/5.png')\n",
    "document.add_picture('charts/5.png')"
   ]
  },
  {
   "cell_type": "markdown",
   "id": "8d5ed320-ef9b-4554-8e2b-8bdf6e8cb693",
   "metadata": {
    "tags": []
   },
   "source": [
    "#### CN"
   ]
  },
  {
   "cell_type": "code",
   "execution_count": null,
   "id": "6f157bb8-88c6-45bf-bfa0-95b7262ce161",
   "metadata": {},
   "outputs": [],
   "source": [
    "regex = '^(CN|Global)'\n",
    "df_filtered = df[df['리전'].apply(lambda x: True if re.search(regex, x) else False) & (df['테넌트']== 'PRD') & (df['진행상태']=='완료')]\n",
    "source = df_filtered\n",
    "chart = get_lineChart(source)\n",
    "chart"
   ]
  },
  {
   "cell_type": "code",
   "execution_count": null,
   "id": "23d3aa5d-06f9-40eb-bd5e-bc49e99a9ca4",
   "metadata": {},
   "outputs": [],
   "source": [
    "chart.save('charts/6.png')\n",
    "document.add_picture('charts/6.png')"
   ]
  },
  {
   "cell_type": "markdown",
   "id": "8b70ef91-d150-4945-a28b-0b0db1132795",
   "metadata": {
    "tags": []
   },
   "source": [
    "#### NA"
   ]
  },
  {
   "cell_type": "code",
   "execution_count": null,
   "id": "def4c9a8-b464-435a-bead-28fdf3c9f756",
   "metadata": {},
   "outputs": [],
   "source": [
    "regex = '^(NA|Global)'\n",
    "df_filtered = df[df['리전'].apply(lambda x: True if re.search(regex, x) else False) & (df['테넌트']== 'PRD') & (df['진행상태']=='완료')]\n",
    "source = df_filtered\n",
    "chart = get_lineChart(source)\n",
    "chart"
   ]
  },
  {
   "cell_type": "code",
   "execution_count": null,
   "id": "94784ff6-cd32-4532-92fa-2015e9cd7833",
   "metadata": {},
   "outputs": [],
   "source": [
    "chart.save('charts/7.png')\n",
    "document.add_picture('charts/7.png')"
   ]
  },
  {
   "cell_type": "markdown",
   "id": "fb979969-5ae2-4dcd-bb90-becfebd4fdef",
   "metadata": {
    "tags": []
   },
   "source": [
    "#### EU"
   ]
  },
  {
   "cell_type": "code",
   "execution_count": null,
   "id": "1bf92268-67e2-467e-8798-bb94f1c69f5e",
   "metadata": {},
   "outputs": [],
   "source": [
    "regex = '^(EU|Global)'\n",
    "df_filtered = df[df['리전'].apply(lambda x: True if re.search(regex, x) else False) & (df['테넌트']== 'PRD') & (df['진행상태']=='완료')]\n",
    "source = df_filtered\n",
    "chart = get_lineChart(source)\n",
    "chart"
   ]
  },
  {
   "cell_type": "code",
   "execution_count": null,
   "id": "1054f9dd-b4f4-4400-8fd7-001be1091a05",
   "metadata": {},
   "outputs": [],
   "source": [
    "chart.save('charts/8.png')\n",
    "document.add_picture('charts/8.png')"
   ]
  },
  {
   "cell_type": "markdown",
   "id": "c5533c37-a2af-439b-ac52-0178d64e343f",
   "metadata": {
    "tags": []
   },
   "source": [
    "#### SG"
   ]
  },
  {
   "cell_type": "code",
   "execution_count": null,
   "id": "502b0f71-8d7e-4d60-8648-6a47aa6fd1db",
   "metadata": {},
   "outputs": [],
   "source": [
    "regex = '^(SG|Global)'\n",
    "df_filtered = df[df['리전'].apply(lambda x: True if re.search(regex, x) else False) & (df['테넌트']== 'PRD') & (df['진행상태']=='완료')]\n",
    "source = df_filtered\n",
    "chart = get_lineChart(source)\n",
    "chart"
   ]
  },
  {
   "cell_type": "code",
   "execution_count": null,
   "id": "14d29127-fbea-47c5-800d-0cde801abf1a",
   "metadata": {},
   "outputs": [],
   "source": [
    "chart.save('charts/9.png')\n",
    "document.add_picture('charts/9.png')"
   ]
  },
  {
   "cell_type": "markdown",
   "id": "ae8c9705-e786-427e-8157-02bed48982d4",
   "metadata": {},
   "source": [
    "#### RU"
   ]
  },
  {
   "cell_type": "code",
   "execution_count": null,
   "id": "08d05a7e-1442-4e53-a98b-870ac9e44a86",
   "metadata": {},
   "outputs": [],
   "source": [
    "regex = '^(RU|Global)'\n",
    "df_filtered = df[df['리전'].apply(lambda x: True if re.search(regex, x) else False) & (df['테넌트']== 'PRD') & (df['진행상태']=='완료')]\n",
    "source = df_filtered\n",
    "chart = get_lineChart(source)\n",
    "chart"
   ]
  },
  {
   "cell_type": "code",
   "execution_count": null,
   "id": "10e3d273-a244-49af-85e2-e7919105c3f3",
   "metadata": {},
   "outputs": [],
   "source": [
    "chart.save('charts/10.png')\n",
    "document.add_picture('charts/10.png')"
   ]
  },
  {
   "cell_type": "code",
   "execution_count": null,
   "id": "2934614e-098a-46bd-8dc2-c1f723742dcf",
   "metadata": {},
   "outputs": [],
   "source": [
    "document.save('word.docx')"
   ]
  },
  {
   "cell_type": "code",
   "execution_count": null,
   "id": "daad9ae3-7e8a-4c35-9c6c-7e8323529752",
   "metadata": {},
   "outputs": [],
   "source": []
  },
  {
   "cell_type": "code",
   "execution_count": null,
   "id": "ce64866c-b5dd-4970-b70d-86ccd12befeb",
   "metadata": {},
   "outputs": [],
   "source": []
  },
  {
   "cell_type": "code",
   "execution_count": null,
   "id": "66aac2a9-58ad-4c46-ad85-a25b877ace00",
   "metadata": {},
   "outputs": [],
   "source": []
  },
  {
   "cell_type": "code",
   "execution_count": null,
   "id": "7eb17a01-2663-46c4-b07a-9979be855c0a",
   "metadata": {},
   "outputs": [],
   "source": []
  },
  {
   "cell_type": "code",
   "execution_count": null,
   "id": "5fdfe31a-c763-47ce-bc09-4d07223c217e",
   "metadata": {},
   "outputs": [],
   "source": []
  },
  {
   "cell_type": "code",
   "execution_count": null,
   "id": "762eb012-49b7-45bd-bc70-f98d1cf25c01",
   "metadata": {},
   "outputs": [],
   "source": [
    "# Data Loading\n",
    "base_path = r\"./data/1_9_202206_보안관리_0720_01.ods\"\n",
    "sheet = '6월집계'\n",
    "\n",
    "df = read_ods(base_path, sheet, headers=True)"
   ]
  },
  {
   "cell_type": "code",
   "execution_count": null,
   "id": "819a1743-b931-4b54-8be6-254c771de62c",
   "metadata": {},
   "outputs": [],
   "source": [
    "df"
   ]
  },
  {
   "cell_type": "code",
   "execution_count": null,
   "id": "21b11be5-2019-4bd9-a6b8-c267e0f17f4b",
   "metadata": {},
   "outputs": [],
   "source": [
    "df.describe()"
   ]
  },
  {
   "cell_type": "code",
   "execution_count": null,
   "id": "44700d2e-cc6e-4cd3-97bd-1f52ec129ab7",
   "metadata": {},
   "outputs": [],
   "source": [
    "df.info()"
   ]
  },
  {
   "cell_type": "code",
   "execution_count": null,
   "id": "ea075d7b-c0d9-4c13-ac7e-356ee894339c",
   "metadata": {},
   "outputs": [],
   "source": []
  },
  {
   "cell_type": "code",
   "execution_count": null,
   "id": "03bfb772-9ca6-4a86-a206-74a2c1880ee2",
   "metadata": {},
   "outputs": [],
   "source": []
  },
  {
   "cell_type": "code",
   "execution_count": null,
   "id": "909ffc01-21ff-4162-9a8b-4d7a5eba168d",
   "metadata": {},
   "outputs": [],
   "source": [
    "df.info()"
   ]
  },
  {
   "cell_type": "code",
   "execution_count": null,
   "id": "68eb1fa7-2f22-499b-a00e-38c14f4d10fc",
   "metadata": {},
   "outputs": [],
   "source": [
    "df.info()"
   ]
  },
  {
   "cell_type": "code",
   "execution_count": null,
   "id": "353a81a4-5dbb-43b8-9e4c-62e43e87f3b0",
   "metadata": {},
   "outputs": [],
   "source": [
    "# Pivoting - [df['월']=='6월') & (df['테넌트']== 'PRD') & (df['진행상태']=='완료')]\n",
    "pivot, total = getPivotTable(df)\n",
    "print(total)\n",
    "pivot"
   ]
  },
  {
   "cell_type": "code",
   "execution_count": null,
   "id": "d58fcc51-2672-4547-8eb2-842b138b017d",
   "metadata": {},
   "outputs": [],
   "source": []
  },
  {
   "cell_type": "code",
   "execution_count": null,
   "id": "12cb8e4f-6523-4f35-89c1-ed76c7caaab7",
   "metadata": {},
   "outputs": [],
   "source": [
    "# ETL\n",
    "total = Data.count()\n",
    "data = getdata()\n",
    "chart = getTable(data)"
   ]
  },
  {
   "cell_type": "markdown",
   "id": "4fbe5552-d2c4-46d6-8730-4062421acd1f",
   "metadata": {
    "tags": []
   },
   "source": [
    "### 비중 :: Piot Table"
   ]
  },
  {
   "cell_type": "code",
   "execution_count": null,
   "id": "c0ed3c94-3881-4f0b-be53-8ba528ddf6a3",
   "metadata": {},
   "outputs": [],
   "source": [
    "pivot = getPivotTable(df)"
   ]
  },
  {
   "cell_type": "code",
   "execution_count": null,
   "id": "f19613ba-ca19-46d6-975b-134293d57172",
   "metadata": {},
   "outputs": [],
   "source": [
    "source = pivot\n",
    "chart = get_pieChart(source)\n",
    "chart"
   ]
  },
  {
   "cell_type": "code",
   "execution_count": null,
   "id": "0220c6ab-eecf-40e9-88be-6e645b9084e8",
   "metadata": {},
   "outputs": [],
   "source": [
    "chart.save(f'./charts/mon_{y}_{m}_{d}_1.png')"
   ]
  },
  {
   "cell_type": "code",
   "execution_count": null,
   "id": "ded7a295-7c32-4d5c-a27e-4bc917886e35",
   "metadata": {},
   "outputs": [],
   "source": [
    "document.add_paragraph('1.1 서비스 관리', style='List Number')\n",
    "document.add_paragraph(f'6월: 총 {total}', style='List Bullet')\n",
    "document.add_picture(f'./charts/mon_{y}_{m}_{d}_1.png')"
   ]
  },
  {
   "cell_type": "markdown",
   "id": "30436bb4-2469-4125-abc5-bc403e88c679",
   "metadata": {
    "jp-MarkdownHeadingCollapsed": true,
    "tags": []
   },
   "source": [
    "### 시계열 :: LineChart"
   ]
  },
  {
   "cell_type": "code",
   "execution_count": null,
   "id": "1a19d841-ea43-4a87-8195-90ea7064f989",
   "metadata": {},
   "outputs": [],
   "source": [
    "pTable"
   ]
  },
  {
   "cell_type": "code",
   "execution_count": null,
   "id": "924ea5be-8a0f-4f5a-a486-2feade64dbde",
   "metadata": {},
   "outputs": [],
   "source": [
    "regex = '^(KR|CN|NA|EU|SG|RU|Global)'\n",
    "df_filtered = df[df['리전'].apply(lambda x: True if re.search(regex, x) else False) & (df['테넌트']== 'PRD') & (df['진행상태']=='완료')]\n",
    "source = df_filtered\n",
    "chart = get_lineChart(source)\n",
    "chart"
   ]
  },
  {
   "cell_type": "code",
   "execution_count": null,
   "id": "ae6efa00-aa89-4a11-8741-b4941c4dfa07",
   "metadata": {},
   "outputs": [],
   "source": [
    "chart.save('charts/2.png')\n",
    "document.add_picture('charts/2.png')"
   ]
  },
  {
   "cell_type": "code",
   "execution_count": null,
   "id": "b531326b-55af-43dc-a189-234149664ff7",
   "metadata": {},
   "outputs": [],
   "source": [
    "df_filtered[df_filtered['월'] == '6월'].sort_values(['리전']).reset_index()"
   ]
  },
  {
   "cell_type": "markdown",
   "id": "bebfaa00-913c-4db3-ba0e-82cd2e902a2f",
   "metadata": {
    "jp-MarkdownHeadingCollapsed": true,
    "tags": []
   },
   "source": [
    "### 시계열 :: BarChart"
   ]
  },
  {
   "cell_type": "code",
   "execution_count": null,
   "id": "23e3f321-a474-486b-85da-2dfccd3804bc",
   "metadata": {},
   "outputs": [],
   "source": [
    "source=pTable\n",
    "chart = get_barChart(source)\n",
    "chart"
   ]
  },
  {
   "cell_type": "code",
   "execution_count": null,
   "id": "1d0231d8-4285-4429-8f76-b94daf5e994f",
   "metadata": {},
   "outputs": [],
   "source": [
    "chart.save('charts/3.png')\n",
    "document.add_picture('charts/3.png')"
   ]
  },
  {
   "cell_type": "markdown",
   "id": "59faf72d-e7dd-4b45-b388-43957f6f5c8c",
   "metadata": {
    "jp-MarkdownHeadingCollapsed": true,
    "tags": []
   },
   "source": [
    "### 시계열 - LineChart or BarChart"
   ]
  },
  {
   "cell_type": "markdown",
   "id": "8e6d987d-b5df-4bab-b2ef-5a7c4337e112",
   "metadata": {
    "jp-MarkdownHeadingCollapsed": true,
    "tags": []
   },
   "source": [
    "### ALL"
   ]
  },
  {
   "cell_type": "code",
   "execution_count": null,
   "id": "c28f499e-95eb-4ff3-a1a3-3fdc790c595a",
   "metadata": {},
   "outputs": [],
   "source": [
    "regex = '^(KR|CN|NA|EU|SG|RU|Global)'\n",
    "df_filtered = df[df['리전'].apply(lambda x: True if re.search(regex, x) else False) & (df['테넌트']== 'PRD') & (df['진행상태']=='완료')]\n",
    "source = df_filtered\n",
    "chart = get_lineChart(source)\n",
    "chart"
   ]
  },
  {
   "cell_type": "code",
   "execution_count": null,
   "id": "edc9ed4e-6661-4979-9f4f-3358d736b34a",
   "metadata": {},
   "outputs": [],
   "source": [
    "chart.save('charts/4.png')\n",
    "document.add_picture('charts/4.png')"
   ]
  },
  {
   "cell_type": "code",
   "execution_count": null,
   "id": "502d4ca5-704b-4f73-9d5c-c0db91030ad7",
   "metadata": {},
   "outputs": [],
   "source": [
    "source"
   ]
  },
  {
   "cell_type": "code",
   "execution_count": null,
   "id": "6cbf1e76-10fc-469f-8d0f-f322b535dde6",
   "metadata": {},
   "outputs": [],
   "source": [
    "# Write to Word\n",
    "document.add_paragraph('1.1 모니터링', style='List Number')\n",
    "document.add_paragraph(f'6월: 총 {total}', style='List Bullet')\n",
    "document.add_picture(f'./charts/mon_{y}_{m}_{d}_1.png')"
   ]
  },
  {
   "cell_type": "markdown",
   "id": "3e392f15-dab6-4428-9f0a-fcceade3416b",
   "metadata": {
    "tags": []
   },
   "source": [
    "### by Region"
   ]
  },
  {
   "cell_type": "code",
   "execution_count": null,
   "id": "e619b624-1b00-4cfd-ac55-7c2dadac2498",
   "metadata": {},
   "outputs": [],
   "source": []
  },
  {
   "cell_type": "code",
   "execution_count": null,
   "id": "c8dd2c7e-ae1b-4663-a91b-2e58143ce613",
   "metadata": {},
   "outputs": [],
   "source": [
    "regions = df['리전'].unique()\n",
    "\n",
    "for region in regions:\n",
    "    print(region)"
   ]
  },
  {
   "cell_type": "markdown",
   "id": "6e25ca3e-f34b-4ab6-a431-4bbcfed0b221",
   "metadata": {
    "tags": []
   },
   "source": [
    "#### KR"
   ]
  },
  {
   "cell_type": "code",
   "execution_count": null,
   "id": "4544ef6d-25b4-48fd-acfb-45bbc10f2fdf",
   "metadata": {},
   "outputs": [],
   "source": [
    "regex = '^(KR|Global)'\n",
    "df_filtered = df[df['리전'].apply(lambda x: True if re.search(regex, x) else False) & (df['테넌트']== 'PRD') & (df['진행상태']=='완료')]\n",
    "source = df_filtered\n",
    "chart = get_lineChart(source)\n",
    "chart"
   ]
  },
  {
   "cell_type": "code",
   "execution_count": null,
   "id": "c2f6c5b9-d9b9-40fd-988c-509984c9cc55",
   "metadata": {},
   "outputs": [],
   "source": [
    "chart.save('charts/5.png')\n",
    "document.add_picture('charts/5.png')"
   ]
  },
  {
   "cell_type": "markdown",
   "id": "0ba8154f-cff5-4e1d-b418-187c02850d33",
   "metadata": {
    "tags": []
   },
   "source": [
    "#### CN"
   ]
  },
  {
   "cell_type": "code",
   "execution_count": null,
   "id": "a24232b6-ba39-48a6-9bce-d89343c8a0cd",
   "metadata": {},
   "outputs": [],
   "source": [
    "regex = '^(CN|Global)'\n",
    "df_filtered = df[df['리전'].apply(lambda x: True if re.search(regex, x) else False) & (df['테넌트']== 'PRD') & (df['진행상태']=='완료')]\n",
    "source = df_filtered\n",
    "chart = get_lineChart(source)\n",
    "chart"
   ]
  },
  {
   "cell_type": "code",
   "execution_count": null,
   "id": "f3bf70af-5c68-4eeb-8de9-bb977cafca7a",
   "metadata": {},
   "outputs": [],
   "source": [
    "chart.save('charts/6.png')\n",
    "document.add_picture('charts/6.png')"
   ]
  },
  {
   "cell_type": "markdown",
   "id": "b261c35a-0466-4f7e-b62e-ed72ad83cf37",
   "metadata": {
    "tags": []
   },
   "source": [
    "#### NA"
   ]
  },
  {
   "cell_type": "code",
   "execution_count": null,
   "id": "f0eeb708-6a65-416f-9885-5cb2b4512fdf",
   "metadata": {},
   "outputs": [],
   "source": [
    "regex = '^(NA|Global)'\n",
    "df_filtered = df[df['리전'].apply(lambda x: True if re.search(regex, x) else False) & (df['테넌트']== 'PRD') & (df['진행상태']=='완료')]\n",
    "source = df_filtered\n",
    "chart = get_lineChart(source)\n",
    "chart"
   ]
  },
  {
   "cell_type": "code",
   "execution_count": null,
   "id": "2dd5e5ab-235c-460c-b390-50cf46608798",
   "metadata": {},
   "outputs": [],
   "source": [
    "chart.save('charts/7.png')\n",
    "document.add_picture('charts/7.png')"
   ]
  },
  {
   "cell_type": "markdown",
   "id": "d78fd032-9fe2-465e-b1f5-4558a187909e",
   "metadata": {
    "tags": []
   },
   "source": [
    "#### EU"
   ]
  },
  {
   "cell_type": "code",
   "execution_count": null,
   "id": "af3e0248-feda-412b-96cb-54047108df73",
   "metadata": {},
   "outputs": [],
   "source": [
    "regex = '^(EU|Global)'\n",
    "df_filtered = df[df['리전'].apply(lambda x: True if re.search(regex, x) else False) & (df['테넌트']== 'PRD') & (df['진행상태']=='완료')]\n",
    "source = df_filtered\n",
    "chart = get_lineChart(source)\n",
    "chart"
   ]
  },
  {
   "cell_type": "code",
   "execution_count": null,
   "id": "de5f89c3-acef-4db3-877b-fabb64fe4816",
   "metadata": {},
   "outputs": [],
   "source": [
    "chart.save('charts/8.png')\n",
    "document.add_picture('charts/8.png')"
   ]
  },
  {
   "cell_type": "markdown",
   "id": "624e1904-91b0-478c-90fb-6d677541bc74",
   "metadata": {
    "tags": []
   },
   "source": [
    "#### SG"
   ]
  },
  {
   "cell_type": "code",
   "execution_count": null,
   "id": "0f8d53b8-2b3e-472f-8614-64dfbb5d1f2f",
   "metadata": {},
   "outputs": [],
   "source": [
    "regex = '^(SG|Global)'\n",
    "df_filtered = df[df['리전'].apply(lambda x: True if re.search(regex, x) else False) & (df['테넌트']== 'PRD') & (df['진행상태']=='완료')]\n",
    "source = df_filtered\n",
    "chart = get_lineChart(source)\n",
    "chart"
   ]
  },
  {
   "cell_type": "code",
   "execution_count": null,
   "id": "b8766ad4-6c39-45c6-99e4-2b56b5d3025f",
   "metadata": {},
   "outputs": [],
   "source": [
    "chart.save('charts/9.png')\n",
    "document.add_picture('charts/9.png')"
   ]
  },
  {
   "cell_type": "markdown",
   "id": "57b75097-c082-4b8a-bb94-1b086c1459be",
   "metadata": {},
   "source": [
    "#### RU"
   ]
  },
  {
   "cell_type": "code",
   "execution_count": null,
   "id": "f89c1553-b409-41d2-b063-a7bfb04d687c",
   "metadata": {},
   "outputs": [],
   "source": [
    "regex = '^(RU|Global)'\n",
    "df_filtered = df[df['리전'].apply(lambda x: True if re.search(regex, x) else False) & (df['테넌트']== 'PRD') & (df['진행상태']=='완료')]\n",
    "source = df_filtered\n",
    "chart = get_lineChart(source)\n",
    "chart"
   ]
  },
  {
   "cell_type": "code",
   "execution_count": null,
   "id": "34a0594b-66de-4ce9-95a7-66f061e44637",
   "metadata": {},
   "outputs": [],
   "source": [
    "chart.save('charts/10.png')\n",
    "document.add_picture('charts/10.png')"
   ]
  },
  {
   "cell_type": "code",
   "execution_count": null,
   "id": "2aab2892-84fd-4ad4-b19c-ef2356819185",
   "metadata": {},
   "outputs": [],
   "source": [
    "document.save('word.docx')"
   ]
  },
  {
   "cell_type": "code",
   "execution_count": null,
   "id": "198afbd3-6932-4843-af2a-0e0431257306",
   "metadata": {},
   "outputs": [],
   "source": []
  },
  {
   "cell_type": "code",
   "execution_count": null,
   "id": "ea3b021b-8293-468c-ae04-5893a60af118",
   "metadata": {},
   "outputs": [],
   "source": []
  },
  {
   "cell_type": "code",
   "execution_count": null,
   "id": "15a4da60-acf1-494b-935d-201970dc5fa9",
   "metadata": {},
   "outputs": [],
   "source": []
  },
  {
   "cell_type": "code",
   "execution_count": null,
   "id": "645f0437-ec40-4ced-bd1f-d7bf7166cf6b",
   "metadata": {},
   "outputs": [],
   "source": []
  },
  {
   "cell_type": "code",
   "execution_count": null,
   "id": "0ca8a588-5689-4e24-b831-8dee0609788f",
   "metadata": {},
   "outputs": [],
   "source": []
  },
  {
   "cell_type": "code",
   "execution_count": null,
   "id": "7de9f6cf-8670-4cff-bc77-1fc5a1c3853f",
   "metadata": {},
   "outputs": [],
   "source": [
    "# Data Loading\n",
    "base_path = r\"./data/1_10_202206_정기점검_0720_01.ods\"\n",
    "sheet = '6월집계'\n",
    "\n",
    "df = read_ods(base_path, sheet, headers=True)"
   ]
  },
  {
   "cell_type": "code",
   "execution_count": null,
   "id": "98c1d903-cd88-4787-b22b-06e58dbabc96",
   "metadata": {},
   "outputs": [],
   "source": [
    "df"
   ]
  },
  {
   "cell_type": "code",
   "execution_count": null,
   "id": "d4910ced-a7a8-4fb2-b05a-32649012af64",
   "metadata": {},
   "outputs": [],
   "source": [
    "df.describe()"
   ]
  },
  {
   "cell_type": "code",
   "execution_count": null,
   "id": "aeae99e7-f742-4150-b2be-bdca529a5ccb",
   "metadata": {},
   "outputs": [],
   "source": [
    "df.info()"
   ]
  },
  {
   "cell_type": "code",
   "execution_count": null,
   "id": "10b396b0-844f-4db5-9993-729718deab3f",
   "metadata": {},
   "outputs": [],
   "source": [
    "# Pivoting - [df['월']=='6월') & (df['테넌트']== 'PRD') & (df['진행상태']=='완료')]\n",
    "pivot, total = getPivotTable(df)\n",
    "print(total)\n",
    "pivot"
   ]
  },
  {
   "cell_type": "code",
   "execution_count": null,
   "id": "4e7840e4-f5ae-4fd7-a3c4-376aab7cdd98",
   "metadata": {},
   "outputs": [],
   "source": []
  },
  {
   "cell_type": "code",
   "execution_count": null,
   "id": "e498c5b8-8c03-457d-a086-25a925eea0fe",
   "metadata": {},
   "outputs": [],
   "source": [
    "# ETL\n",
    "total = Data.count()\n",
    "data = getdata()\n",
    "chart = getTable(data)"
   ]
  },
  {
   "cell_type": "markdown",
   "id": "7bb5f00f-3489-4f0b-9f1e-122dc84421a7",
   "metadata": {
    "tags": []
   },
   "source": [
    "### 비중 :: Piot Table"
   ]
  },
  {
   "cell_type": "code",
   "execution_count": null,
   "id": "13c9ae86-8ed4-443e-84ef-5ce7900fd740",
   "metadata": {},
   "outputs": [],
   "source": [
    "pivot = getPivotTable(df)"
   ]
  },
  {
   "cell_type": "code",
   "execution_count": null,
   "id": "65687f21-1f89-4782-8da3-e3724a9aad51",
   "metadata": {},
   "outputs": [],
   "source": [
    "source = pivot\n",
    "chart = get_pieChart(source)\n",
    "chart"
   ]
  },
  {
   "cell_type": "code",
   "execution_count": null,
   "id": "0b6fa067-1999-4748-b2d5-4f755ecb0071",
   "metadata": {},
   "outputs": [],
   "source": [
    "chart.save(f'./charts/mon_{y}_{m}_{d}_1.png')"
   ]
  },
  {
   "cell_type": "code",
   "execution_count": null,
   "id": "b56af6cd-f25f-4813-90a3-21417afc46b4",
   "metadata": {},
   "outputs": [],
   "source": [
    "document.add_paragraph('1.1 서비스 관리', style='List Number')\n",
    "document.add_paragraph(f'6월: 총 {total}', style='List Bullet')\n",
    "document.add_picture(f'./charts/mon_{y}_{m}_{d}_1.png')"
   ]
  },
  {
   "cell_type": "markdown",
   "id": "e655d6b3-dad4-48b4-84b5-3dfae5c275db",
   "metadata": {
    "jp-MarkdownHeadingCollapsed": true,
    "tags": []
   },
   "source": [
    "### 시계열 :: LineChart"
   ]
  },
  {
   "cell_type": "code",
   "execution_count": null,
   "id": "39d49ba9-9cf6-415d-ad19-d21f2708c8f5",
   "metadata": {},
   "outputs": [],
   "source": [
    "pTable"
   ]
  },
  {
   "cell_type": "code",
   "execution_count": null,
   "id": "1a48d693-a515-4a18-ac8b-7600f835ba00",
   "metadata": {},
   "outputs": [],
   "source": [
    "regex = '^(KR|CN|NA|EU|SG|RU|Global)'\n",
    "df_filtered = df[df['리전'].apply(lambda x: True if re.search(regex, x) else False) & (df['테넌트']== 'PRD') & (df['진행상태']=='완료')]\n",
    "source = df_filtered\n",
    "chart = get_lineChart(source)\n",
    "chart"
   ]
  },
  {
   "cell_type": "code",
   "execution_count": null,
   "id": "955cb590-2f08-4a71-b02c-34b60ba12b1d",
   "metadata": {},
   "outputs": [],
   "source": [
    "chart.save('charts/2.png')\n",
    "document.add_picture('charts/2.png')"
   ]
  },
  {
   "cell_type": "code",
   "execution_count": null,
   "id": "96ede737-d1ee-4033-a80d-c634d75d6bec",
   "metadata": {},
   "outputs": [],
   "source": [
    "df_filtered[df_filtered['월'] == '6월'].sort_values(['리전']).reset_index()"
   ]
  },
  {
   "cell_type": "markdown",
   "id": "3b1dcf2e-234a-40a1-b8af-cd0da6cdd305",
   "metadata": {
    "jp-MarkdownHeadingCollapsed": true,
    "tags": []
   },
   "source": [
    "### 시계열 :: BarChart"
   ]
  },
  {
   "cell_type": "code",
   "execution_count": null,
   "id": "b76c8808-0e01-4e5a-9ff6-b2857dfc0f19",
   "metadata": {},
   "outputs": [],
   "source": [
    "source=pTable\n",
    "chart = get_barChart(source)\n",
    "chart"
   ]
  },
  {
   "cell_type": "code",
   "execution_count": null,
   "id": "de75b5d1-1540-4d21-8038-bd7bb7b7c762",
   "metadata": {},
   "outputs": [],
   "source": [
    "chart.save('charts/3.png')\n",
    "document.add_picture('charts/3.png')"
   ]
  },
  {
   "cell_type": "markdown",
   "id": "67356886-ade5-4c5f-a5a8-aace622e7ff3",
   "metadata": {
    "jp-MarkdownHeadingCollapsed": true,
    "tags": []
   },
   "source": [
    "### 시계열 - LineChart or BarChart"
   ]
  },
  {
   "cell_type": "markdown",
   "id": "42745692-0baf-4c80-a197-0db40da36a44",
   "metadata": {
    "jp-MarkdownHeadingCollapsed": true,
    "tags": []
   },
   "source": [
    "### ALL"
   ]
  },
  {
   "cell_type": "code",
   "execution_count": null,
   "id": "348734a2-3d19-4a9a-a742-61b0033e9673",
   "metadata": {},
   "outputs": [],
   "source": [
    "regex = '^(KR|CN|NA|EU|SG|RU|Global)'\n",
    "df_filtered = df[df['리전'].apply(lambda x: True if re.search(regex, x) else False) & (df['테넌트']== 'PRD') & (df['진행상태']=='완료')]\n",
    "source = df_filtered\n",
    "chart = get_lineChart(source)\n",
    "chart"
   ]
  },
  {
   "cell_type": "code",
   "execution_count": null,
   "id": "5c63a00c-9207-41c4-b260-577c71086569",
   "metadata": {},
   "outputs": [],
   "source": [
    "chart.save('charts/4.png')\n",
    "document.add_picture('charts/4.png')"
   ]
  },
  {
   "cell_type": "code",
   "execution_count": null,
   "id": "9d3952c7-36b5-4152-aab4-6010e366706e",
   "metadata": {},
   "outputs": [],
   "source": [
    "source"
   ]
  },
  {
   "cell_type": "code",
   "execution_count": null,
   "id": "f70bdb05-7c9f-4191-9162-0e0747331bd6",
   "metadata": {},
   "outputs": [],
   "source": [
    "# Write to Word\n",
    "document.add_paragraph('1.1 모니터링', style='List Number')\n",
    "document.add_paragraph(f'6월: 총 {total}', style='List Bullet')\n",
    "document.add_picture(f'./charts/mon_{y}_{m}_{d}_1.png')"
   ]
  },
  {
   "cell_type": "markdown",
   "id": "fd37314e-82cb-45ac-9849-33b00d8cd35f",
   "metadata": {
    "tags": []
   },
   "source": [
    "### by Region"
   ]
  },
  {
   "cell_type": "code",
   "execution_count": null,
   "id": "80ed6acf-3f28-4557-894c-cfcdbb625083",
   "metadata": {},
   "outputs": [],
   "source": []
  },
  {
   "cell_type": "code",
   "execution_count": null,
   "id": "af4409db-8ab3-43b2-8d19-bd83eb1b735e",
   "metadata": {},
   "outputs": [],
   "source": [
    "regions = df['리전'].unique()\n",
    "\n",
    "for region in regions:\n",
    "    print(region)"
   ]
  },
  {
   "cell_type": "markdown",
   "id": "cb20f4d7-14d5-4f90-a6ed-ecd8a379a0f4",
   "metadata": {
    "tags": []
   },
   "source": [
    "#### KR"
   ]
  },
  {
   "cell_type": "code",
   "execution_count": null,
   "id": "8f49c1a1-68de-4da9-9ca3-32298b00e97c",
   "metadata": {},
   "outputs": [],
   "source": [
    "regex = '^(KR|Global)'\n",
    "df_filtered = df[df['리전'].apply(lambda x: True if re.search(regex, x) else False) & (df['테넌트']== 'PRD') & (df['진행상태']=='완료')]\n",
    "source = df_filtered\n",
    "chart = get_lineChart(source)\n",
    "chart"
   ]
  },
  {
   "cell_type": "code",
   "execution_count": null,
   "id": "50cfa031-424d-4f93-b417-079c8e0f6de4",
   "metadata": {},
   "outputs": [],
   "source": [
    "chart.save('charts/5.png')\n",
    "document.add_picture('charts/5.png')"
   ]
  },
  {
   "cell_type": "markdown",
   "id": "55f14bbd-869d-4465-a968-5c8255e50490",
   "metadata": {
    "tags": []
   },
   "source": [
    "#### CN"
   ]
  },
  {
   "cell_type": "code",
   "execution_count": null,
   "id": "5a8c8a92-88c8-451c-b11b-5ad958ab4a72",
   "metadata": {},
   "outputs": [],
   "source": [
    "regex = '^(CN|Global)'\n",
    "df_filtered = df[df['리전'].apply(lambda x: True if re.search(regex, x) else False) & (df['테넌트']== 'PRD') & (df['진행상태']=='완료')]\n",
    "source = df_filtered\n",
    "chart = get_lineChart(source)\n",
    "chart"
   ]
  },
  {
   "cell_type": "code",
   "execution_count": null,
   "id": "156c86a3-75c5-456d-86e1-1ecb859cf822",
   "metadata": {},
   "outputs": [],
   "source": [
    "chart.save('charts/6.png')\n",
    "document.add_picture('charts/6.png')"
   ]
  },
  {
   "cell_type": "markdown",
   "id": "f2674fd6-f0f5-4d57-9ca2-c4aa90b0655d",
   "metadata": {
    "tags": []
   },
   "source": [
    "#### NA"
   ]
  },
  {
   "cell_type": "code",
   "execution_count": null,
   "id": "2ec0aaf8-d0f1-4754-9127-7af4826bbda6",
   "metadata": {},
   "outputs": [],
   "source": [
    "regex = '^(NA|Global)'\n",
    "df_filtered = df[df['리전'].apply(lambda x: True if re.search(regex, x) else False) & (df['테넌트']== 'PRD') & (df['진행상태']=='완료')]\n",
    "source = df_filtered\n",
    "chart = get_lineChart(source)\n",
    "chart"
   ]
  },
  {
   "cell_type": "code",
   "execution_count": null,
   "id": "85de40c0-b9cc-4475-8ae0-a375cab6b566",
   "metadata": {},
   "outputs": [],
   "source": [
    "chart.save('charts/7.png')\n",
    "document.add_picture('charts/7.png')"
   ]
  },
  {
   "cell_type": "markdown",
   "id": "99699996-7025-4fbe-8fb0-c0d8c521e039",
   "metadata": {
    "tags": []
   },
   "source": [
    "#### EU"
   ]
  },
  {
   "cell_type": "code",
   "execution_count": null,
   "id": "89617160-962b-4421-aa22-c8cc34208c2c",
   "metadata": {},
   "outputs": [],
   "source": [
    "regex = '^(EU|Global)'\n",
    "df_filtered = df[df['리전'].apply(lambda x: True if re.search(regex, x) else False) & (df['테넌트']== 'PRD') & (df['진행상태']=='완료')]\n",
    "source = df_filtered\n",
    "chart = get_lineChart(source)\n",
    "chart"
   ]
  },
  {
   "cell_type": "code",
   "execution_count": null,
   "id": "8a61b608-754a-45d5-a2ab-cd404534633c",
   "metadata": {},
   "outputs": [],
   "source": [
    "chart.save('charts/8.png')\n",
    "document.add_picture('charts/8.png')"
   ]
  },
  {
   "cell_type": "markdown",
   "id": "559f2146-5170-4d36-a67f-39de02a534c7",
   "metadata": {
    "tags": []
   },
   "source": [
    "#### SG"
   ]
  },
  {
   "cell_type": "code",
   "execution_count": null,
   "id": "91a0133b-eb3d-41c5-b93a-d43b77cfa081",
   "metadata": {},
   "outputs": [],
   "source": [
    "regex = '^(SG|Global)'\n",
    "df_filtered = df[df['리전'].apply(lambda x: True if re.search(regex, x) else False) & (df['테넌트']== 'PRD') & (df['진행상태']=='완료')]\n",
    "source = df_filtered\n",
    "chart = get_lineChart(source)\n",
    "chart"
   ]
  },
  {
   "cell_type": "code",
   "execution_count": null,
   "id": "0851748e-49ff-4bd0-8722-620ebaeb767a",
   "metadata": {},
   "outputs": [],
   "source": [
    "chart.save('charts/9.png')\n",
    "document.add_picture('charts/9.png')"
   ]
  },
  {
   "cell_type": "markdown",
   "id": "8b3c9af5-300a-4dcc-9402-9a5201396215",
   "metadata": {},
   "source": [
    "#### RU"
   ]
  },
  {
   "cell_type": "code",
   "execution_count": null,
   "id": "fe63e49b-7d75-4b4c-85bc-0fe56404b650",
   "metadata": {},
   "outputs": [],
   "source": [
    "regex = '^(RU|Global)'\n",
    "df_filtered = df[df['리전'].apply(lambda x: True if re.search(regex, x) else False) & (df['테넌트']== 'PRD') & (df['진행상태']=='완료')]\n",
    "source = df_filtered\n",
    "chart = get_lineChart(source)\n",
    "chart"
   ]
  },
  {
   "cell_type": "code",
   "execution_count": null,
   "id": "1d0d58a7-a3d1-4ddd-a28a-68e58c3ccbf2",
   "metadata": {},
   "outputs": [],
   "source": [
    "chart.save('charts/10.png')\n",
    "document.add_picture('charts/10.png')"
   ]
  },
  {
   "cell_type": "code",
   "execution_count": null,
   "id": "849ec807-0254-496f-83c7-bcf8ed4f815f",
   "metadata": {},
   "outputs": [],
   "source": [
    "document.save('word.docx')"
   ]
  },
  {
   "cell_type": "markdown",
   "id": "ffd0d1b0-e76a-49dc-a3ac-da373436ad7b",
   "metadata": {
    "tags": []
   },
   "source": [
    "## Save Document"
   ]
  },
  {
   "cell_type": "code",
   "execution_count": null,
   "id": "aa4d0514-a153-4d72-a019-38db7a8923ac",
   "metadata": {},
   "outputs": [],
   "source": [
    "document.save(f'{month}_{region}_월간보고서_{y}_{m}_{d}.docx')"
   ]
  },
  {
   "cell_type": "code",
   "execution_count": null,
   "id": "643f756c-52c8-4ac5-8e45-c084843b5739",
   "metadata": {},
   "outputs": [],
   "source": []
  }
 ],
 "metadata": {
  "kernelspec": {
   "display_name": "Python 3 (ipykernel)",
   "language": "python",
   "name": "python3"
  },
  "language_info": {
   "codemirror_mode": {
    "name": "ipython",
    "version": 3
   },
   "file_extension": ".py",
   "mimetype": "text/x-python",
   "name": "python",
   "nbconvert_exporter": "python",
   "pygments_lexer": "ipython3",
   "version": "3.9.13"
  }
 },
 "nbformat": 4,
 "nbformat_minor": 5
}
