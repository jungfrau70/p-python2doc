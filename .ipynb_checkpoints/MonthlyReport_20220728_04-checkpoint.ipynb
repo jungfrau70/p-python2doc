{
 "cells": [
  {
   "cell_type": "code",
   "execution_count": 1,
   "id": "032fea3d-6acb-44cd-a6ae-647ad543400b",
   "metadata": {},
   "outputs": [],
   "source": [
    "import datetime\n",
    "import pandas as pd\n",
    "import warnings\n",
    "warnings.filterwarnings('ignore')\n",
    "\n",
    "from chart import *\n",
    "from table import *\n",
    "from document import *"
   ]
  },
  {
   "cell_type": "code",
   "execution_count": 2,
   "id": "982b673b-7767-41c7-959a-c335f5c1b890",
   "metadata": {},
   "outputs": [
    {
     "name": "stdout",
     "output_type": "stream",
     "text": [
      "보고서 유형:  월간 월:  6월\n",
      "^(KR|CN|NA|EU|SG|RU|Global|All)\n"
     ]
    }
   ],
   "source": [
    "# 메타 정보\n",
    "\n",
    "today = datetime.date.today()\n",
    "\n",
    "y = today.year\n",
    "m = today.month\n",
    "d = today.day\n",
    "w = today.weekday()\n",
    "\n",
    "# report version\n",
    "rtype = '월간' # 연간, 반기\n",
    "month = '6월' # 7월\n",
    "region = 'All' # All|KR|CN|NA|EU|SG|RU\n",
    "v = '1'\n",
    "\n",
    "if region == 'KR':\n",
    "    regex = '^(KR|Global|All)' #' KR'\n",
    "elif region == 'CN':\n",
    "    regex = '^(CN|Global|All)'\n",
    "elif region == 'NA':\n",
    "    regex = '^(NA|Global|All)'\n",
    "elif region == 'EU':\n",
    "    regex = '^(EU|Global|All)'\n",
    "elif region == 'SG':\n",
    "    regex = '^(SG|Global|All)'\n",
    "elif region == 'RU':\n",
    "    regex = '^(SG|Global|All)'\n",
    "else:\n",
    "    regex = '^(KR|CN|NA|EU|SG|RU|Global|All)'\n",
    "\n",
    "print(\"보고서 유형: \", rtype, \"월: \", month)\n",
    "print(regex)"
   ]
  },
  {
   "cell_type": "code",
   "execution_count": 3,
   "id": "7d3a0f23-a5c6-42bc-9a55-d96482e409e0",
   "metadata": {},
   "outputs": [],
   "source": [
    "# Document 기본 폰트\n",
    "style = document.styles['Normal']\n",
    "style.font.name = '맑은고딕'\n",
    "style.font.size = Pt(12)\n",
    "style._element.rPr.rFonts.set(qn('w:eastAsia'), '맑은고딕')"
   ]
  },
  {
   "cell_type": "code",
   "execution_count": 4,
   "id": "f19d5ed1-2b5a-4d14-ba3c-b50e9e92f4f4",
   "metadata": {},
   "outputs": [
    {
     "data": {
      "text/plain": [
       "ThemeRegistry.enable('맑은고딕')"
      ]
     },
     "execution_count": 4,
     "metadata": {},
     "output_type": "execute_result"
    }
   ],
   "source": [
    "# Chart 기본 폰트\n",
    "alt.themes.register('맑은고딕', hanfont)\n",
    "alt.themes.enable('맑은고딕')"
   ]
  },
  {
   "cell_type": "markdown",
   "id": "a4410470-44b5-4981-b1e5-ee94cfb07350",
   "metadata": {
    "tags": []
   },
   "source": [
    "## 요약"
   ]
  },
  {
   "cell_type": "code",
   "execution_count": 5,
   "id": "91927a17-4b6d-420d-93eb-e316e575eedb",
   "metadata": {},
   "outputs": [],
   "source": [
    "# ETL\n",
    "base_path = r\"./data/요약_202206_서비스관리_0727_01.ods\"\n",
    "sheet = f'{month}집계'\n",
    "\n",
    "df = read_ods(base_path, sheet, headers=True)\n",
    "\n",
    "# 리전 & 운영계, 월간보고서용\n",
    "df_filtered = df[df['리전'].apply(lambda x: True if re.search(regex, x) else False) & (df['테넌트']== 'PRD') & (df['월간']=='O')]"
   ]
  },
  {
   "cell_type": "code",
   "execution_count": 6,
   "id": "f990c3a0-9625-4871-be23-cc0b5cdc2bb6",
   "metadata": {},
   "outputs": [
    {
     "data": {
      "text/html": [
       "<div>\n",
       "<style scoped>\n",
       "    .dataframe tbody tr th:only-of-type {\n",
       "        vertical-align: middle;\n",
       "    }\n",
       "\n",
       "    .dataframe tbody tr th {\n",
       "        vertical-align: top;\n",
       "    }\n",
       "\n",
       "    .dataframe thead th {\n",
       "        text-align: right;\n",
       "    }\n",
       "</style>\n",
       "<table border=\"1\" class=\"dataframe\">\n",
       "  <thead>\n",
       "    <tr style=\"text-align: right;\">\n",
       "      <th></th>\n",
       "      <th>년도</th>\n",
       "      <th>월</th>\n",
       "      <th>리전</th>\n",
       "      <th>AZ</th>\n",
       "      <th>테넌트</th>\n",
       "      <th>진행상태</th>\n",
       "      <th>성패</th>\n",
       "      <th>작업내용</th>\n",
       "      <th>주간</th>\n",
       "      <th>월간</th>\n",
       "      <th>연간</th>\n",
       "    </tr>\n",
       "  </thead>\n",
       "  <tbody>\n",
       "    <tr>\n",
       "      <th>count</th>\n",
       "      <td>56</td>\n",
       "      <td>56</td>\n",
       "      <td>56</td>\n",
       "      <td>56</td>\n",
       "      <td>56</td>\n",
       "      <td>56</td>\n",
       "      <td>33</td>\n",
       "      <td>56</td>\n",
       "      <td>56</td>\n",
       "      <td>27</td>\n",
       "      <td>56</td>\n",
       "    </tr>\n",
       "    <tr>\n",
       "      <th>unique</th>\n",
       "      <td>1</td>\n",
       "      <td>6</td>\n",
       "      <td>8</td>\n",
       "      <td>2</td>\n",
       "      <td>4</td>\n",
       "      <td>2</td>\n",
       "      <td>1</td>\n",
       "      <td>49</td>\n",
       "      <td>1</td>\n",
       "      <td>1</td>\n",
       "      <td>1</td>\n",
       "    </tr>\n",
       "    <tr>\n",
       "      <th>top</th>\n",
       "      <td>22년</td>\n",
       "      <td>6월</td>\n",
       "      <td>KR</td>\n",
       "      <td>1센터</td>\n",
       "      <td>PRD</td>\n",
       "      <td>완료</td>\n",
       "      <td>성공</td>\n",
       "      <td>클라우드 플랫폼(opentsack) 보안 설정 현황 확인 요청\\n중국 GCS시스템에...</td>\n",
       "      <td>O</td>\n",
       "      <td>O</td>\n",
       "      <td>O</td>\n",
       "    </tr>\n",
       "    <tr>\n",
       "      <th>freq</th>\n",
       "      <td>56</td>\n",
       "      <td>32</td>\n",
       "      <td>12</td>\n",
       "      <td>50</td>\n",
       "      <td>36</td>\n",
       "      <td>33</td>\n",
       "      <td>33</td>\n",
       "      <td>2</td>\n",
       "      <td>56</td>\n",
       "      <td>27</td>\n",
       "      <td>56</td>\n",
       "    </tr>\n",
       "  </tbody>\n",
       "</table>\n",
       "</div>"
      ],
      "text/plain": [
       "         년도   월  리전   AZ  테넌트 진행상태  성패  \\\n",
       "count    56  56  56   56   56   56  33   \n",
       "unique    1   6   8    2    4    2   1   \n",
       "top     22년  6월  KR  1센터  PRD   완료  성공   \n",
       "freq     56  32  12   50   36   33  33   \n",
       "\n",
       "                                                     작업내용  주간  월간  연간  \n",
       "count                                                  56  56  27  56  \n",
       "unique                                                 49   1   1   1  \n",
       "top     클라우드 플랫폼(opentsack) 보안 설정 현황 확인 요청\\n중국 GCS시스템에...   O   O   O  \n",
       "freq                                                    2  56  27  56  "
      ]
     },
     "execution_count": 6,
     "metadata": {},
     "output_type": "execute_result"
    }
   ],
   "source": [
    "df.describe()"
   ]
  },
  {
   "cell_type": "code",
   "execution_count": 7,
   "id": "21308e0e-e0ea-4e9d-a50c-b17c8fa70d46",
   "metadata": {},
   "outputs": [
    {
     "data": {
      "text/html": [
       "<div>\n",
       "<style scoped>\n",
       "    .dataframe tbody tr th:only-of-type {\n",
       "        vertical-align: middle;\n",
       "    }\n",
       "\n",
       "    .dataframe tbody tr th {\n",
       "        vertical-align: top;\n",
       "    }\n",
       "\n",
       "    .dataframe thead th {\n",
       "        text-align: right;\n",
       "    }\n",
       "</style>\n",
       "<table border=\"1\" class=\"dataframe\">\n",
       "  <thead>\n",
       "    <tr style=\"text-align: right;\">\n",
       "      <th></th>\n",
       "      <th>년도</th>\n",
       "      <th>월</th>\n",
       "      <th>리전</th>\n",
       "      <th>AZ</th>\n",
       "      <th>테넌트</th>\n",
       "      <th>진행상태</th>\n",
       "      <th>성패</th>\n",
       "      <th>작업내용</th>\n",
       "      <th>주간</th>\n",
       "      <th>월간</th>\n",
       "      <th>연간</th>\n",
       "    </tr>\n",
       "  </thead>\n",
       "  <tbody>\n",
       "    <tr>\n",
       "      <th>0</th>\n",
       "      <td>22년</td>\n",
       "      <td>1월</td>\n",
       "      <td>SG</td>\n",
       "      <td>1센터</td>\n",
       "      <td>PRD</td>\n",
       "      <td>완료</td>\n",
       "      <td>성공</td>\n",
       "      <td>(SG 리전) H53 모니터링 이관 (2021.10.03)\\n==&gt; 메뉴일 갱신 본...</td>\n",
       "      <td>O</td>\n",
       "      <td>O</td>\n",
       "      <td>O</td>\n",
       "    </tr>\n",
       "    <tr>\n",
       "      <th>2</th>\n",
       "      <td>22년</td>\n",
       "      <td>1월</td>\n",
       "      <td>SG</td>\n",
       "      <td>1센터</td>\n",
       "      <td>PRD</td>\n",
       "      <td>완료</td>\n",
       "      <td>성공</td>\n",
       "      <td>(SG) DB 이중화 미구성\\n이중화 구성 위한 Heartbeat 전용 네트워크 구...</td>\n",
       "      <td>O</td>\n",
       "      <td>O</td>\n",
       "      <td>O</td>\n",
       "    </tr>\n",
       "    <tr>\n",
       "      <th>4</th>\n",
       "      <td>22년</td>\n",
       "      <td>2월</td>\n",
       "      <td>EU</td>\n",
       "      <td>1센터</td>\n",
       "      <td>PRD</td>\n",
       "      <td>완료</td>\n",
       "      <td>성공</td>\n",
       "      <td>(EU) 방화벽 Capa 부족으로 인한 방화벽 장비 교체\\n(방화벽) 출퇴근 시간 ...</td>\n",
       "      <td>O</td>\n",
       "      <td>O</td>\n",
       "      <td>O</td>\n",
       "    </tr>\n",
       "    <tr>\n",
       "      <th>9</th>\n",
       "      <td>22년</td>\n",
       "      <td>3월</td>\n",
       "      <td>EU</td>\n",
       "      <td>1센터</td>\n",
       "      <td>PRD</td>\n",
       "      <td>완료</td>\n",
       "      <td>성공</td>\n",
       "      <td>(EU) 방화벽 이슈로 예외 처리된(제외되었던) 기능 원상 복구 (적용)\\n(완료)...</td>\n",
       "      <td>O</td>\n",
       "      <td>O</td>\n",
       "      <td>O</td>\n",
       "    </tr>\n",
       "    <tr>\n",
       "      <th>10</th>\n",
       "      <td>22년</td>\n",
       "      <td>4월</td>\n",
       "      <td>Global</td>\n",
       "      <td>1센터</td>\n",
       "      <td>PRD</td>\n",
       "      <td>완료</td>\n",
       "      <td>성공</td>\n",
       "      <td>(모니터링) Zabbix 모니터링 항목 조정\\n(이슈) 중요도 무관하게 너무 많은 ...</td>\n",
       "      <td>O</td>\n",
       "      <td>O</td>\n",
       "      <td>O</td>\n",
       "    </tr>\n",
       "  </tbody>\n",
       "</table>\n",
       "</div>"
      ],
      "text/plain": [
       "     년도   월      리전   AZ  테넌트 진행상태  성패  \\\n",
       "0   22년  1월      SG  1센터  PRD   완료  성공   \n",
       "2   22년  1월      SG  1센터  PRD   완료  성공   \n",
       "4   22년  2월      EU  1센터  PRD   완료  성공   \n",
       "9   22년  3월      EU  1센터  PRD   완료  성공   \n",
       "10  22년  4월  Global  1센터  PRD   완료  성공   \n",
       "\n",
       "                                                 작업내용 주간 월간 연간  \n",
       "0   (SG 리전) H53 모니터링 이관 (2021.10.03)\\n==> 메뉴일 갱신 본...  O  O  O  \n",
       "2   (SG) DB 이중화 미구성\\n이중화 구성 위한 Heartbeat 전용 네트워크 구...  O  O  O  \n",
       "4   (EU) 방화벽 Capa 부족으로 인한 방화벽 장비 교체\\n(방화벽) 출퇴근 시간 ...  O  O  O  \n",
       "9   (EU) 방화벽 이슈로 예외 처리된(제외되었던) 기능 원상 복구 (적용)\\n(완료)...  O  O  O  \n",
       "10  (모니터링) Zabbix 모니터링 항목 조정\\n(이슈) 중요도 무관하게 너무 많은 ...  O  O  O  "
      ]
     },
     "execution_count": 7,
     "metadata": {},
     "output_type": "execute_result"
    }
   ],
   "source": [
    "df_filtered.head()"
   ]
  },
  {
   "cell_type": "code",
   "execution_count": 8,
   "id": "f0a7e3ef-b335-4125-be00-86233e34d929",
   "metadata": {},
   "outputs": [
    {
     "name": "stderr",
     "output_type": "stream",
     "text": [
      "npm WARN config global `--global`, `--local` are deprecated. Use `--location=global` instead.\n",
      "npm WARN config global `--global`, `--local` are deprecated. Use `--location=global` instead.\n",
      "npm WARN config global `--global`, `--local` are deprecated. Use `--location=global` instead.\n",
      "WARN Infinite extent for field \"합계_start\": [Infinity, -Infinity]\n",
      "WARN Infinite extent for field \"합계_end\": [Infinity, -Infinity]\n",
      "WARN Infinite extent for field \"합계_start\": [Infinity, -Infinity]\n",
      "WARN Infinite extent for field \"합계_end\": [Infinity, -Infinity]\n"
     ]
    }
   ],
   "source": [
    "# Chart\n",
    "if region == 'All':\n",
    "    # Data\n",
    "    pivot, total = getPivotTable(df, month)\n",
    "    source = pivot\n",
    "\n",
    "    # Chart\n",
    "    chart = getPieChart(source)\n",
    "    chart.save(f'./charts/summary_{y}_{m}_{d}_{v}_1.png')\n",
    "\n",
    "    # Docx\n",
    "    document.add_paragraph('요약')    \n",
    "    document.add_paragraph(f'{month}: 총 {total}', style='List Bullet')\n",
    "    document.add_picture(f'./charts/summary_{y}_{m}_{d}_{v}_1.png')\n",
    "else:\n",
    "    pass"
   ]
  },
  {
   "cell_type": "code",
   "execution_count": 9,
   "id": "77a10c58-3b9a-4dc6-9ac4-e0f743d18c76",
   "metadata": {},
   "outputs": [
    {
     "data": {
      "text/plain": [
       "<docx.text.paragraph.Paragraph at 0x22fbcddae50>"
      ]
     },
     "execution_count": 9,
     "metadata": {},
     "output_type": "execute_result"
    }
   ],
   "source": [
    "# Document\n",
    "addSummaryTable(df_filtered, regex, month)\n",
    "document.add_page_break()"
   ]
  },
  {
   "cell_type": "code",
   "execution_count": null,
   "id": "d1a79e5a-7e38-4e24-8c80-6c52cde6f5cc",
   "metadata": {},
   "outputs": [],
   "source": []
  },
  {
   "cell_type": "markdown",
   "id": "ddcf5ec0-e21b-4f21-90df-a00e3d4c8d8d",
   "metadata": {
    "tags": []
   },
   "source": [
    "## 1.1 모니터링(인시던트핸들링)"
   ]
  },
  {
   "cell_type": "code",
   "execution_count": 10,
   "id": "2f60368b-eff6-4615-a785-0a1e29991cdf",
   "metadata": {},
   "outputs": [
    {
     "data": {
      "text/html": [
       "<div>\n",
       "<style scoped>\n",
       "    .dataframe tbody tr th:only-of-type {\n",
       "        vertical-align: middle;\n",
       "    }\n",
       "\n",
       "    .dataframe tbody tr th {\n",
       "        vertical-align: top;\n",
       "    }\n",
       "\n",
       "    .dataframe thead th {\n",
       "        text-align: right;\n",
       "    }\n",
       "</style>\n",
       "<table border=\"1\" class=\"dataframe\">\n",
       "  <thead>\n",
       "    <tr style=\"text-align: right;\">\n",
       "      <th></th>\n",
       "      <th>날짜</th>\n",
       "      <th>조치내용</th>\n",
       "      <th>JIRA_Ticket_No</th>\n",
       "      <th>장애전파소요시간</th>\n",
       "    </tr>\n",
       "  </thead>\n",
       "  <tbody>\n",
       "    <tr>\n",
       "      <th>92</th>\n",
       "      <td>2022.06.04</td>\n",
       "      <td>Deleted old  snapshots</td>\n",
       "      <td>CNCLOUD2046</td>\n",
       "      <td>19.0</td>\n",
       "    </tr>\n",
       "    <tr>\n",
       "      <th>93</th>\n",
       "      <td>2022.06.08</td>\n",
       "      <td>Deleted old snapshots</td>\n",
       "      <td>None</td>\n",
       "      <td>30.0</td>\n",
       "    </tr>\n",
       "    <tr>\n",
       "      <th>100</th>\n",
       "      <td>2022.06.15</td>\n",
       "      <td>Its known issue, it got resolved automatically</td>\n",
       "      <td>None</td>\n",
       "      <td>17.0</td>\n",
       "    </tr>\n",
       "    <tr>\n",
       "      <th>104</th>\n",
       "      <td>2022.06.02</td>\n",
       "      <td>오래된 스냅샷 삭제 후 알람 Resolved</td>\n",
       "      <td>None</td>\n",
       "      <td>2881.0</td>\n",
       "    </tr>\n",
       "    <tr>\n",
       "      <th>113</th>\n",
       "      <td>2022.06.09</td>\n",
       "      <td>Deleted old snapshots</td>\n",
       "      <td>None</td>\n",
       "      <td>211.0</td>\n",
       "    </tr>\n",
       "    <tr>\n",
       "      <th>132</th>\n",
       "      <td>2022.06.06</td>\n",
       "      <td>After restarting the Mangodb service on ccskro...</td>\n",
       "      <td>None</td>\n",
       "      <td>27.0</td>\n",
       "    </tr>\n",
       "    <tr>\n",
       "      <th>135</th>\n",
       "      <td>2022.06.06</td>\n",
       "      <td>Created the Ticket -&gt; KRCLOUD-4994</td>\n",
       "      <td>KRCLOUD-4994</td>\n",
       "      <td>49.0</td>\n",
       "    </tr>\n",
       "    <tr>\n",
       "      <th>141</th>\n",
       "      <td>2022.06.11</td>\n",
       "      <td>Informed through kakao and owner said to ignor...</td>\n",
       "      <td>None</td>\n",
       "      <td>15.0</td>\n",
       "    </tr>\n",
       "    <tr>\n",
       "      <th>161</th>\n",
       "      <td>2022.06.30</td>\n",
       "      <td>21:12에 /postgres_data full 발생하여 DB down 발생하였습니...</td>\n",
       "      <td>KRCLOUD-5136</td>\n",
       "      <td>11.0</td>\n",
       "    </tr>\n",
       "    <tr>\n",
       "      <th>179</th>\n",
       "      <td>2022.06.21</td>\n",
       "      <td>오창민 매니저 확인, 담당자 유선 및 메신저 컨택하여 확인해보니 서비스 배포작업 중...</td>\n",
       "      <td>None</td>\n",
       "      <td>11.0</td>\n",
       "    </tr>\n",
       "    <tr>\n",
       "      <th>182</th>\n",
       "      <td>2022.06.22</td>\n",
       "      <td>이은도 매니저 확인 및 담당자 메일전달</td>\n",
       "      <td>None</td>\n",
       "      <td>11.0</td>\n",
       "    </tr>\n",
       "    <tr>\n",
       "      <th>218</th>\n",
       "      <td>2022.06.15</td>\n",
       "      <td>Informed in Kakao</td>\n",
       "      <td>ITSM-128</td>\n",
       "      <td>28.0</td>\n",
       "    </tr>\n",
       "    <tr>\n",
       "      <th>226</th>\n",
       "      <td>2022.06.06</td>\n",
       "      <td>We have not migrated any VM instance yet, sinc...</td>\n",
       "      <td>RUCLOUD-694</td>\n",
       "      <td>143.0</td>\n",
       "    </tr>\n",
       "  </tbody>\n",
       "</table>\n",
       "</div>"
      ],
      "text/plain": [
       "             날짜                                               조치내용  \\\n",
       "92   2022.06.04                             Deleted old  snapshots   \n",
       "93   2022.06.08                              Deleted old snapshots   \n",
       "100  2022.06.15     Its known issue, it got resolved automatically   \n",
       "104  2022.06.02                           오래된 스냅샷 삭제 후 알람 Resolved   \n",
       "113  2022.06.09                              Deleted old snapshots   \n",
       "132  2022.06.06  After restarting the Mangodb service on ccskro...   \n",
       "135  2022.06.06                 Created the Ticket -> KRCLOUD-4994   \n",
       "141  2022.06.11  Informed through kakao and owner said to ignor...   \n",
       "161  2022.06.30  21:12에 /postgres_data full 발생하여 DB down 발생하였습니...   \n",
       "179  2022.06.21  오창민 매니저 확인, 담당자 유선 및 메신저 컨택하여 확인해보니 서비스 배포작업 중...   \n",
       "182  2022.06.22                              이은도 매니저 확인 및 담당자 메일전달   \n",
       "218  2022.06.15                                  Informed in Kakao   \n",
       "226  2022.06.06  We have not migrated any VM instance yet, sinc...   \n",
       "\n",
       "    JIRA_Ticket_No  장애전파소요시간  \n",
       "92     CNCLOUD2046      19.0  \n",
       "93            None      30.0  \n",
       "100           None      17.0  \n",
       "104           None    2881.0  \n",
       "113           None     211.0  \n",
       "132           None      27.0  \n",
       "135   KRCLOUD-4994      49.0  \n",
       "141           None      15.0  \n",
       "161   KRCLOUD-5136      11.0  \n",
       "179           None      11.0  \n",
       "182           None      11.0  \n",
       "218       ITSM-128      28.0  \n",
       "226    RUCLOUD-694     143.0  "
      ]
     },
     "execution_count": 10,
     "metadata": {},
     "output_type": "execute_result"
    }
   ],
   "source": [
    "base_path = r\"./data/1_1_202206_모니터링_인시던트핸들링_0727_01.ods\"\n",
    "sheet = f'{month}집계'\n",
    "\n",
    "df = read_ods(base_path, sheet, headers=True)\n",
    "df['장애전파소요시간'] = (pd.to_datetime(df['장애전파시간.1'])-pd.to_datetime(df['발생인지시간'])).astype('timedelta64[m]')\n",
    "\n",
    "# Pivoting\n",
    "pivot, total = getPivotTable(df, month)\n",
    "\n",
    "# 리전 & 운영계, 월간보고서용\n",
    "df_filtered = df[df['리전'].apply(lambda x: True if re.search(regex, x) else False) & (df['테넌트']== 'PRD') & (df['진행상태']=='완료') & (df['월간']=='O')]\n",
    "df_filtered, timeslot = getTables(df_filtered, regex, month)\n",
    "    \n",
    "# SLA failed\n",
    "df_failed = df_filtered[ (df_filtered['장애전파'] > 10) & (df_filtered['월']== month)]\n",
    "df_failed[['날짜', '조치내용', 'JIRA_Ticket_No', '장애전파소요시간']]"
   ]
  },
  {
   "cell_type": "code",
   "execution_count": 11,
   "id": "485de9ce-3f3f-4b23-b013-8657f9124ca2",
   "metadata": {},
   "outputs": [
    {
     "name": "stderr",
     "output_type": "stream",
     "text": [
      "WARN Infinite extent for field \"합계_start\": [Infinity, -Infinity]\n",
      "WARN Infinite extent for field \"합계_end\": [Infinity, -Infinity]\n",
      "WARN Infinite extent for field \"합계_start\": [Infinity, -Infinity]\n",
      "WARN Infinite extent for field \"합계_end\": [Infinity, -Infinity]\n"
     ]
    }
   ],
   "source": [
    "# Chart - Pie 차트\n",
    "if region == 'All':\n",
    "    source = pivot\n",
    "    chart = getPieChart(source)\n",
    "    chart.save(f'./charts/mon_{region}_{y}_{m}_{d}_1.png')\n",
    "else:\n",
    "    pass\n",
    "\n",
    "# Chart - 스캐터 차트    \n",
    "chart = getScatterChart(timeslot, month)\n",
    "chart.save(f'./charts/mon_{region}_{y}_{m}_{d}_2.png')\n",
    "\n",
    "# Chart - 라인 차트\n",
    "chart = getLineChart(df_filtered, month)\n",
    "chart.save(f'./charts/mon_{region}_{y}_{m}_{d}_3.png')"
   ]
  },
  {
   "cell_type": "code",
   "execution_count": 14,
   "id": "39915a37-320c-4de7-9a73-30c69b91440e",
   "metadata": {},
   "outputs": [
    {
     "data": {
      "text/plain": [
       "<docx.shape.InlineShape at 0x22fbceb73a0>"
      ]
     },
     "execution_count": 14,
     "metadata": {},
     "output_type": "execute_result"
    }
   ],
   "source": [
    "# Document\n",
    "document.add_paragraph('모니터링(인시던트핸들링)', style='List Number')\n",
    "\n",
    "if region == 'All':\n",
    "    document.add_paragraph(f'{month}: 총 {total}', style='List Bullet')    \n",
    "    document.add_picture(f'./charts/mon_{region}_{y}_{m}_{d}_1.png')\n",
    "else:\n",
    "    pass\n",
    "\n",
    "from docx.text.run import *\n",
    "# from document import *\n",
    "p = document.add_paragraph(f'장애전파 소요시간(분)', style='List Bullet')\n",
    "document.add_picture(f'./charts/mon_{region}_{y}_{m}_{d}_2.png')\n",
    "run = p.add_run()\n",
    "run.add_break(WD_BREAK.LINE)\n",
    "\n",
    "##  (향후) 평균 소요 시간, 최대 소요 시간 추가 하자!!!\n",
    "\n",
    "document.add_paragraph(f'장애전파시간 초과 이벤트', style='List Bullet')\n",
    "addFailedTable(df_failed, regex, month)\n",
    "\n",
    "document.add_paragraph(f'월별 발생 건수 (추세)', style='List Bullet')\n",
    "document.add_picture(f'./charts/mon_{region}_{y}_{m}_{d}_3.png')   "
   ]
  },
  {
   "cell_type": "code",
   "execution_count": 11,
   "id": "24f5edcf-b586-4599-9d76-4102d2b91743",
   "metadata": {},
   "outputs": [
    {
     "data": {
      "text/plain": [
       "<docx.text.paragraph.Paragraph at 0x14d4b3a6250>"
      ]
     },
     "execution_count": 11,
     "metadata": {},
     "output_type": "execute_result"
    }
   ],
   "source": [
    "# Document\n",
    "document.add_page_break()"
   ]
  },
  {
   "cell_type": "code",
   "execution_count": null,
   "id": "25c25174-5f71-4fd8-9c41-3e08b7382ec2",
   "metadata": {},
   "outputs": [],
   "source": []
  },
  {
   "cell_type": "markdown",
   "id": "51513bde-8cfd-4779-9dd4-85e3296f4085",
   "metadata": {
    "tags": []
   },
   "source": [
    "## 1.2 이슈 관리"
   ]
  },
  {
   "cell_type": "code",
   "execution_count": 12,
   "id": "0485f45d-c5f2-40fa-ba02-3bf0e77b4e2a",
   "metadata": {},
   "outputs": [],
   "source": [
    "base_path = r\"./data/1_2_202206_이슈관리_0727_01.ods\"\n",
    "sheet = f'{month}집계'\n",
    "\n",
    "df = read_ods(base_path, sheet, headers=True)\n",
    "df_filtered = df[df['리전'].apply(lambda x: True if re.search(regex, x) else False) & (df['테넌트']== 'PRD') & (df['진행상태']=='완료') & (df['월간']=='O')]\n",
    "\n",
    "# Pivoting\n",
    "pivot, total = getPivotTable(df, month)"
   ]
  },
  {
   "cell_type": "code",
   "execution_count": 13,
   "id": "c615a2b7-4296-4634-8d6e-78a7c77a1495",
   "metadata": {},
   "outputs": [
    {
     "name": "stderr",
     "output_type": "stream",
     "text": [
      "WARN Infinite extent for field \"합계_start\": [Infinity, -Infinity]\n",
      "WARN Infinite extent for field \"합계_end\": [Infinity, -Infinity]\n",
      "WARN Infinite extent for field \"합계_start\": [Infinity, -Infinity]\n",
      "WARN Infinite extent for field \"합계_end\": [Infinity, -Infinity]\n"
     ]
    }
   ],
   "source": [
    "# Chart - Pie 차트\n",
    "if region == 'All':\n",
    "    source = pivot\n",
    "    chart = getPieChart(source)\n",
    "    chart.save(f'./charts/im_{region}_{y}_{m}_{d}_1.png')\n",
    "else:\n",
    "    pass\n",
    "\n",
    "# Chart - 라인 차트\n",
    "chart = getLineChart(df_filtered, month)\n",
    "chart.save(f'./charts/im_{region}_{y}_{m}_{d}_2.png')"
   ]
  },
  {
   "cell_type": "code",
   "execution_count": 14,
   "id": "6ac3fd1b-639e-4b54-9ee3-82effd9611fd",
   "metadata": {},
   "outputs": [
    {
     "data": {
      "text/plain": [
       "<docx.shape.InlineShape at 0x14d4b3a6160>"
      ]
     },
     "execution_count": 14,
     "metadata": {},
     "output_type": "execute_result"
    }
   ],
   "source": [
    "# Document\n",
    "document.add_paragraph('이슈 관리', style='List Number')\n",
    "\n",
    "if region == 'All':\n",
    "    document.add_paragraph(f'{month}: 총 {total}', style='List Bullet')    \n",
    "    document.add_picture(f'./charts/im_{region}_{y}_{m}_{d}_1.png')\n",
    "else:\n",
    "    pass\n",
    "\n",
    "document.add_paragraph(f'월별 발생 건수 (추세)', style='List Bullet')\n",
    "document.add_picture(f'./charts/im_{region}_{y}_{m}_{d}_2.png')   "
   ]
  },
  {
   "cell_type": "code",
   "execution_count": 15,
   "id": "a9f3c40b-3337-4f1b-b4b8-13334523f270",
   "metadata": {},
   "outputs": [
    {
     "data": {
      "text/plain": [
       "<docx.text.paragraph.Paragraph at 0x14d4b28ec10>"
      ]
     },
     "execution_count": 15,
     "metadata": {},
     "output_type": "execute_result"
    }
   ],
   "source": [
    "# Document\n",
    "addTable4(df_filtered, regex, month)\n",
    "document.add_page_break()"
   ]
  },
  {
   "cell_type": "code",
   "execution_count": null,
   "id": "2c3935f5-1696-492e-af71-096a4c6c31e5",
   "metadata": {},
   "outputs": [],
   "source": []
  },
  {
   "cell_type": "markdown",
   "id": "87b3866d-7b12-45d6-b8fa-3f090cb7cea8",
   "metadata": {
    "tags": []
   },
   "source": [
    "## 1.3 장애 관리"
   ]
  },
  {
   "cell_type": "code",
   "execution_count": 16,
   "id": "03f5d7b3-54d4-4e41-a883-f5fa1873e8f7",
   "metadata": {},
   "outputs": [],
   "source": [
    "base_path = r\"./data/1_3_202206_장애관리_0727_01.ods\"\n",
    "sheet = f'{month}집계'\n",
    "\n",
    "df = read_ods(base_path, sheet, headers=True)\n",
    "df_filtered = df[df['리전'].apply(lambda x: True if re.search(regex, x) else False) & (df['테넌트']== 'PRD') & (df['진행상태']=='완료') & (df['월간']=='O')]\n",
    "\n",
    "# Pivoting\n",
    "pivot, total = getPivotTable(df, month)"
   ]
  },
  {
   "cell_type": "code",
   "execution_count": 17,
   "id": "8e34f6d7-bfe2-4942-98f9-906fc4ea0412",
   "metadata": {},
   "outputs": [
    {
     "name": "stderr",
     "output_type": "stream",
     "text": [
      "WARN Infinite extent for field \"합계_start\": [Infinity, -Infinity]\n",
      "WARN Infinite extent for field \"합계_end\": [Infinity, -Infinity]\n",
      "WARN Infinite extent for field \"합계_start\": [Infinity, -Infinity]\n",
      "WARN Infinite extent for field \"합계_end\": [Infinity, -Infinity]\n"
     ]
    }
   ],
   "source": [
    "# Chart - Pie 차트\n",
    "if region == 'All':\n",
    "    source = pivot\n",
    "    chart = getPieChart(source)\n",
    "    chart.save(f'./charts/pm_{region}_{y}_{m}_{d}_1.png')\n",
    "else:\n",
    "    pass\n",
    "\n",
    "# Chart - 라인 차트\n",
    "chart = getLineChart(df_filtered, month)\n",
    "chart.save(f'./charts/pm_{region}_{y}_{m}_{d}_2.png')"
   ]
  },
  {
   "cell_type": "code",
   "execution_count": 18,
   "id": "16183de5-ee49-4517-9d5c-42bab37b34ad",
   "metadata": {},
   "outputs": [
    {
     "data": {
      "text/plain": [
       "<docx.shape.InlineShape at 0x14d4b304250>"
      ]
     },
     "execution_count": 18,
     "metadata": {},
     "output_type": "execute_result"
    }
   ],
   "source": [
    "# Document\n",
    "document.add_paragraph('장애(RCA) 관리', style='List Number')\n",
    "\n",
    "if region == 'All':\n",
    "    document.add_paragraph(f'6월: 총 {total}', style='List Bullet')    \n",
    "    document.add_picture(f'./charts/pm_{region}_{y}_{m}_{d}_1.png')\n",
    "else:\n",
    "    pass\n",
    "\n",
    "document.add_paragraph(f'월별 발생 건수 (추세)', style='List Bullet')\n",
    "document.add_picture(f'./charts/pm_{region}_{y}_{m}_{d}_2.png')   "
   ]
  },
  {
   "cell_type": "code",
   "execution_count": 19,
   "id": "aa06816e-64c8-4f8f-91e7-345760bdb4c6",
   "metadata": {},
   "outputs": [
    {
     "data": {
      "text/plain": [
       "<docx.text.paragraph.Paragraph at 0x14d4b3fc430>"
      ]
     },
     "execution_count": 19,
     "metadata": {},
     "output_type": "execute_result"
    }
   ],
   "source": [
    "# Document\n",
    "addTable4(df_filtered, regex, month)\n",
    "document.add_page_break()"
   ]
  },
  {
   "cell_type": "code",
   "execution_count": null,
   "id": "7a5150f5-130e-44fc-b584-c8f95723a998",
   "metadata": {},
   "outputs": [],
   "source": []
  },
  {
   "cell_type": "markdown",
   "id": "ea0552c0-1d40-40c6-af99-6bc1ce2572f7",
   "metadata": {
    "tags": []
   },
   "source": [
    "## 1.4 변경 관리"
   ]
  },
  {
   "cell_type": "code",
   "execution_count": 20,
   "id": "00d63c1e-bcdf-4f66-ac98-d6a43d3bf7cd",
   "metadata": {},
   "outputs": [],
   "source": [
    "base_path = r\"./data/1_4_202206_변경관리_0727_01.ods\"\n",
    "sheet = f'{month}집계'\n",
    "\n",
    "df = read_ods(base_path, sheet, headers=True)\n",
    "df_filtered = df[df['리전'].apply(lambda x: True if re.search(regex, x) else False) & (df['테넌트']== 'PRD') & (df['진행상태']=='완료') & (df['월간']=='O')]\n",
    "\n",
    "# Pivoting\n",
    "pivot, total = getPivotTable(df, month)"
   ]
  },
  {
   "cell_type": "code",
   "execution_count": 21,
   "id": "a285681b-d3a6-4dba-a409-773c0fa06149",
   "metadata": {},
   "outputs": [
    {
     "name": "stderr",
     "output_type": "stream",
     "text": [
      "WARN Infinite extent for field \"합계_start\": [Infinity, -Infinity]\n",
      "WARN Infinite extent for field \"합계_end\": [Infinity, -Infinity]\n",
      "WARN Infinite extent for field \"합계_start\": [Infinity, -Infinity]\n",
      "WARN Infinite extent for field \"합계_end\": [Infinity, -Infinity]\n"
     ]
    }
   ],
   "source": [
    "# Chart - Pie 차트\n",
    "if region == 'All':\n",
    "    source = pivot\n",
    "    chart = getPieChart(source)\n",
    "    chart.save(f'./charts/cm_{region}_{y}_{m}_{d}_1.png')\n",
    "else:\n",
    "    pass\n",
    "\n",
    "# Chart - 라인 차트\n",
    "chart = getLineChart(df_filtered, month)\n",
    "chart.save(f'./charts/cm_{region}_{y}_{m}_{d}_2.png')"
   ]
  },
  {
   "cell_type": "code",
   "execution_count": 22,
   "id": "a763d156-2ef3-4eaa-9b68-5324280b5e0d",
   "metadata": {},
   "outputs": [
    {
     "data": {
      "text/plain": [
       "<docx.shape.InlineShape at 0x14d4b304e20>"
      ]
     },
     "execution_count": 22,
     "metadata": {},
     "output_type": "execute_result"
    }
   ],
   "source": [
    "# Document\n",
    "document.add_paragraph('변경 관리', style='List Number')\n",
    "\n",
    "if region == 'All':\n",
    "    document.add_paragraph(f'{month}: 총 {total}', style='List Bullet')    \n",
    "    document.add_picture(f'./charts/cm_{region}_{y}_{m}_{d}_1.png')\n",
    "else:\n",
    "    pass\n",
    "\n",
    "document.add_paragraph(f'월별 발생 건수 (추세)', style='List Bullet')\n",
    "document.add_picture(f'./charts/cm_{region}_{y}_{m}_{d}_2.png')   "
   ]
  },
  {
   "cell_type": "code",
   "execution_count": 23,
   "id": "f74d15a7-9071-4244-a69c-1a62774e755d",
   "metadata": {},
   "outputs": [
    {
     "data": {
      "text/plain": [
       "<docx.text.paragraph.Paragraph at 0x14d4b30ce20>"
      ]
     },
     "execution_count": 23,
     "metadata": {},
     "output_type": "execute_result"
    }
   ],
   "source": [
    "# Document\n",
    "addTable3(df_filtered, regex, month)\n",
    "document.add_page_break()"
   ]
  },
  {
   "cell_type": "code",
   "execution_count": null,
   "id": "0d61f271-fbdd-4999-ba94-0257879cdcb1",
   "metadata": {},
   "outputs": [],
   "source": []
  },
  {
   "cell_type": "markdown",
   "id": "5e1fd51b-c575-40fe-9375-396fd425bf89",
   "metadata": {
    "tags": []
   },
   "source": [
    "## 1.5 요청 관리"
   ]
  },
  {
   "cell_type": "code",
   "execution_count": 24,
   "id": "b292793f-a2bc-43c7-a6dd-1679a05ddeb1",
   "metadata": {},
   "outputs": [],
   "source": [
    "base_path = r\"./data/1_5_202206_요청관리_0727_01.ods\"\n",
    "sheet = f'{month}집계'\n",
    "\n",
    "df = read_ods(base_path, sheet, headers=True)\n",
    "df_filtered = df[df['리전'].apply(lambda x: True if re.search(regex, x) else False) & (df['테넌트']== 'PRD') & (df['진행상태']=='완료') & (df['월간']=='O')]\n",
    "\n",
    "# Pivoting\n",
    "pivot, total = getPivotTable(df, month)"
   ]
  },
  {
   "cell_type": "code",
   "execution_count": 25,
   "id": "dd953946-2909-4ef0-9306-b46ce5da4909",
   "metadata": {},
   "outputs": [
    {
     "name": "stderr",
     "output_type": "stream",
     "text": [
      "WARN Infinite extent for field \"합계_start\": [Infinity, -Infinity]\n",
      "WARN Infinite extent for field \"합계_end\": [Infinity, -Infinity]\n",
      "WARN Infinite extent for field \"합계_start\": [Infinity, -Infinity]\n",
      "WARN Infinite extent for field \"합계_end\": [Infinity, -Infinity]\n"
     ]
    }
   ],
   "source": [
    "# Chart - Pie 차트\n",
    "if region == 'All':\n",
    "    source = pivot\n",
    "    chart = getPieChart(source)\n",
    "    chart.save(f'./charts/cm_{region}_{y}_{m}_{d}_1.png')\n",
    "else:\n",
    "    pass\n",
    "\n",
    "# Chart - 라인 차트\n",
    "chart = getLineChart(df_filtered, month)\n",
    "chart.save(f'./charts/cm_{region}_{y}_{m}_{d}_2.png')"
   ]
  },
  {
   "cell_type": "code",
   "execution_count": 26,
   "id": "a8ee068a-5666-40f0-8356-e3977cbcb0c1",
   "metadata": {},
   "outputs": [
    {
     "data": {
      "text/plain": [
       "<docx.shape.InlineShape at 0x14d4b479970>"
      ]
     },
     "execution_count": 26,
     "metadata": {},
     "output_type": "execute_result"
    }
   ],
   "source": [
    "# Document\n",
    "document.add_paragraph('요청 관리', style='List Number')\n",
    "\n",
    "if region == 'All':\n",
    "    document.add_paragraph(f'{month}: 총 {total}', style='List Bullet')    \n",
    "    document.add_picture(f'./charts/cm_{region}_{y}_{m}_{d}_1.png')\n",
    "else:\n",
    "    pass\n",
    "\n",
    "document.add_paragraph(f'월별 발생 건수 (추세)', style='List Bullet')\n",
    "document.add_picture(f'./charts/cm_{region}_{y}_{m}_{d}_2.png')   "
   ]
  },
  {
   "cell_type": "code",
   "execution_count": 27,
   "id": "4e02e240-163b-45be-ba14-94bc963e9941",
   "metadata": {},
   "outputs": [
    {
     "data": {
      "text/plain": [
       "<docx.text.paragraph.Paragraph at 0x14d4b4722b0>"
      ]
     },
     "execution_count": 27,
     "metadata": {},
     "output_type": "execute_result"
    }
   ],
   "source": [
    "# Document\n",
    "# addTable3(df_filtered, regex, month)\n",
    "document.add_page_break()"
   ]
  },
  {
   "cell_type": "code",
   "execution_count": null,
   "id": "c9d270bf-d3a1-45cc-8be7-d22fda7d26bb",
   "metadata": {},
   "outputs": [],
   "source": []
  },
  {
   "cell_type": "markdown",
   "id": "408fb455-01a9-450e-9ae3-5a2ab40f50af",
   "metadata": {
    "tags": []
   },
   "source": [
    "## 1.6 자산 관리 - VM"
   ]
  },
  {
   "cell_type": "code",
   "execution_count": 28,
   "id": "80e0e4d7-6512-4dc0-8f5e-e63161d5114e",
   "metadata": {},
   "outputs": [],
   "source": [
    "base_path = r\"./data/1_6_202206_자산관리_VM_0727_01.ods\"\n",
    "sheet = f'{month}집계'\n",
    "\n",
    "df = read_ods(base_path, sheet, headers=True)\n",
    "df_filtered = df[df['리전'].apply(lambda x: True if re.search(regex, x) else False) & (df['테넌트']== 'PRD') & (df['월간']=='O')]\n",
    "\n",
    "# Pivoting\n",
    "pivot, total = getPivotTable(df, month)"
   ]
  },
  {
   "cell_type": "code",
   "execution_count": 29,
   "id": "345581d8-6383-4425-857f-79457d5449a0",
   "metadata": {},
   "outputs": [],
   "source": [
    "# Chart - Pie 차트\n",
    "if region == 'All':\n",
    "    source = pivot\n",
    "    chart = getPieChart(source)\n",
    "    chart.save(f'./charts/vm_{region}_{y}_{m}_{d}_1.png')\n",
    "else:\n",
    "    pass\n",
    "\n",
    "# Chart - 라인 차트\n",
    "chart = getLineChart2(df_filtered, month)\n",
    "chart.save(f'./charts/vm_{region}_{y}_{m}_{d}_2.png')"
   ]
  },
  {
   "cell_type": "code",
   "execution_count": 30,
   "id": "8995c174-9b7e-4bec-bacb-2d0c9e974549",
   "metadata": {},
   "outputs": [
    {
     "data": {
      "text/plain": [
       "<docx.shape.InlineShape at 0x14d4b305370>"
      ]
     },
     "execution_count": 30,
     "metadata": {},
     "output_type": "execute_result"
    }
   ],
   "source": [
    "# Document\n",
    "document.add_paragraph('자산 관리(vm)', style='List Number')\n",
    "\n",
    "if region == 'All':\n",
    "    document.add_paragraph(f'{month}: 총 {total}', style='List Bullet')    \n",
    "    document.add_picture(f'./charts/vm_{region}_{y}_{m}_{d}_1.png')\n",
    "else:\n",
    "    pass\n",
    "\n",
    "document.add_paragraph(f'월별 VM 수 (추세)', style='List Bullet')\n",
    "document.add_picture(f'./charts/vm_{region}_{y}_{m}_{d}_2.png')   "
   ]
  },
  {
   "cell_type": "code",
   "execution_count": 31,
   "id": "34474710-fb52-495f-ad04-66708d016176",
   "metadata": {},
   "outputs": [
    {
     "data": {
      "text/plain": [
       "<docx.text.paragraph.Paragraph at 0x14d4b74f760>"
      ]
     },
     "execution_count": 31,
     "metadata": {},
     "output_type": "execute_result"
    }
   ],
   "source": [
    "# Document\n",
    "# addSummaryTable(df_filtered, regex, month)\n",
    "document.add_page_break()"
   ]
  },
  {
   "cell_type": "code",
   "execution_count": null,
   "id": "5bc7bf5b-7d14-4d84-b0f4-63c46a7ad81d",
   "metadata": {},
   "outputs": [],
   "source": []
  },
  {
   "cell_type": "markdown",
   "id": "a74f917b-289e-451e-9834-1f90edb8ef2d",
   "metadata": {
    "tags": []
   },
   "source": [
    "## 1.6 자산 관리 - DB"
   ]
  },
  {
   "cell_type": "code",
   "execution_count": 32,
   "id": "93034eb6-247e-4747-ae55-db15d6d292a4",
   "metadata": {},
   "outputs": [],
   "source": [
    "base_path = r\"./data/1_6_202206_자산관리_DB_0727_01.ods\"\n",
    "sheet = f'{month}집계'\n",
    "\n",
    "df = read_ods(base_path, sheet, headers=True)\n",
    "df_filtered = df[df['리전'].apply(lambda x: True if re.search(regex, x) else False) & (df['테넌트']== 'PRD') & (df['월간']=='O')]\n",
    "\n",
    "# Pivoting\n",
    "pivot, total = getPivotTable(df_filtered, month)\n",
    "pivot2, total = getPivotTable2(df_filtered, month)\n",
    "pivot2 = pivot2.reset_index()"
   ]
  },
  {
   "cell_type": "code",
   "execution_count": 33,
   "id": "f437eab7-179d-47ed-9e6f-eab0c454b169",
   "metadata": {},
   "outputs": [],
   "source": [
    "# Chart - Pie 차트\n",
    "if region == 'All':\n",
    "    source = pivot\n",
    "    chart = getPieChart(source)\n",
    "    chart.save(f'./charts/db_{region}_{y}_{m}_{d}_1.png')\n",
    "else:\n",
    "    pass\n",
    "\n",
    "# source = pivot2\n",
    "# chart = getPieChart2(source)\n",
    "# chart.save(f'./charts/db_{region}_{y}_{m}_{d}_2.png')\n",
    "\n",
    "# Chart - 라인 차트\n",
    "chart = getLineChart2(df_filtered, month)\n",
    "chart.save(f'./charts/db_{region}_{y}_{m}_{d}_3.png')"
   ]
  },
  {
   "cell_type": "code",
   "execution_count": 34,
   "id": "280e6302-ce5c-4ed6-bac3-50f5c3f9bfaa",
   "metadata": {},
   "outputs": [
    {
     "data": {
      "text/plain": [
       "<docx.shape.InlineShape at 0x14d4b719550>"
      ]
     },
     "execution_count": 34,
     "metadata": {},
     "output_type": "execute_result"
    }
   ],
   "source": [
    "# Document\n",
    "document.add_paragraph('자산 관리(db)', style='List Number')\n",
    "\n",
    "if region == 'All':\n",
    "    document.add_paragraph(f'{month}: 총 {total}', style='List Bullet')    \n",
    "    document.add_picture(f'./charts/db_{region}_{y}_{m}_{d}_1.png')\n",
    "else:\n",
    "    pass\n",
    "\n",
    "addPivot2Table(pivot2)\n",
    "# document.add_picture(f'./charts/db_{region}_{y}_{m}_{d}_2.png')\n",
    "document.add_paragraph(f'월별 추세', style='List Bullet')\n",
    "document.add_picture(f'./charts/db_{region}_{y}_{m}_{d}_3.png')   "
   ]
  },
  {
   "cell_type": "code",
   "execution_count": 35,
   "id": "b8b186aa-a6d4-4972-bd07-c7f881e2e893",
   "metadata": {},
   "outputs": [
    {
     "data": {
      "text/plain": [
       "<docx.text.paragraph.Paragraph at 0x14d4b749760>"
      ]
     },
     "execution_count": 35,
     "metadata": {},
     "output_type": "execute_result"
    }
   ],
   "source": [
    "# Document\n",
    "document.add_page_break()"
   ]
  },
  {
   "cell_type": "code",
   "execution_count": null,
   "id": "096f7d6b-e911-4dde-819a-1922b9752743",
   "metadata": {},
   "outputs": [],
   "source": []
  },
  {
   "cell_type": "markdown",
   "id": "9fab55b5-ae5a-4aec-bc49-8f13c7bd8bf8",
   "metadata": {
    "tags": []
   },
   "source": [
    "## 1.6 자산 관리 - K8s"
   ]
  },
  {
   "cell_type": "code",
   "execution_count": 36,
   "id": "b0ef7bde-3629-48cc-94bf-246ae946666d",
   "metadata": {},
   "outputs": [],
   "source": [
    "base_path = r\"./data/1_6_202206_자산관리_k8s_0727_01.ods\"\n",
    "sheet = f'{month}집계'\n",
    "\n",
    "df = read_ods(base_path, sheet, headers=True)\n",
    "df_filtered = df[df['리전'].apply(lambda x: True if re.search(regex, x) else False) & (df['테넌트']== 'PRD') & (df['월간']=='O')]\n",
    "\n",
    "# Pivoting\n",
    "pivot, total = getPivotTable(df, month)"
   ]
  },
  {
   "cell_type": "code",
   "execution_count": 37,
   "id": "13ec2791-07ab-42f9-9d01-310a128fec46",
   "metadata": {},
   "outputs": [],
   "source": [
    "# Chart - Bar 차트\n",
    "if region == 'All':\n",
    "    source = pivot\n",
    "    chart = getBarChart(df_filtered)\n",
    "    chart.save(f'./charts/k8s_{region}_{y}_{m}_{d}_1.png')\n",
    "else:\n",
    "    pass\n",
    "\n",
    "# Chart - Line 차트\n",
    "# chart = getLineChart2(df_filtered, month)\n",
    "# chart.save(f'./charts/k8s_{region}_{y}_{m}_{d}_2.png')"
   ]
  },
  {
   "cell_type": "code",
   "execution_count": 38,
   "id": "1862c6c3-8472-42ab-a005-be063c991e91",
   "metadata": {},
   "outputs": [],
   "source": [
    "# Document\n",
    "document.add_paragraph('자산 관리(k8s)', style='List Number')\n",
    "\n",
    "# Chart - Bar 차트\n",
    "if region == 'All':\n",
    "    document.add_paragraph(f'{month}: 총 {total}', style='List Bullet')    \n",
    "    document.add_picture(f'./charts/k8s_{region}_{y}_{m}_{d}_1.png')\n",
    "else:\n",
    "    pass\n",
    "\n",
    "# Chart - Line 차트\n",
    "# document.add_paragraph(f'월별 추세', style='List Bullet')\n",
    "# document.add_picture(f'./charts/k8s_{region}_{y}_{m}_{d}_2.png')   "
   ]
  },
  {
   "cell_type": "code",
   "execution_count": 39,
   "id": "72781628-3995-4ebe-be90-0a269f43da8d",
   "metadata": {},
   "outputs": [
    {
     "data": {
      "text/plain": [
       "<docx.text.paragraph.Paragraph at 0x14d4b6d8670>"
      ]
     },
     "execution_count": 39,
     "metadata": {},
     "output_type": "execute_result"
    }
   ],
   "source": [
    "# Document\n",
    "# addSummaryTable(df_filtered, regex, month)\n",
    "document.add_page_break()"
   ]
  },
  {
   "cell_type": "code",
   "execution_count": 40,
   "id": "ce44af2a-2d4a-4aa1-982b-605c9ba49966",
   "metadata": {},
   "outputs": [],
   "source": [
    "document.save('demo.docx')"
   ]
  },
  {
   "cell_type": "markdown",
   "id": "6ba5cd55-59d5-4d8d-aa02-7a570eb67d85",
   "metadata": {
    "tags": []
   },
   "source": [
    "## 1.7 용량 관리"
   ]
  },
  {
   "cell_type": "code",
   "execution_count": 43,
   "id": "80173d5a-ba4b-4c93-9a30-920d513633fe",
   "metadata": {},
   "outputs": [],
   "source": [
    "base_path = r\"./data/1_7_202206_용량관리_0727_01.ods\"\n",
    "sheet = f'{month}집계'\n",
    "\n",
    "df = read_ods(base_path, sheet, headers=True)\n",
    "df_filtered = df[df['리전'].apply(lambda x: True if re.search(regex, x) else False) & (df['테넌트']== 'PRD') & (df['월간']=='O')]\n",
    "\n",
    "# Pivoting\n",
    "pivot, total = getPivotTable(df, month)"
   ]
  },
  {
   "cell_type": "code",
   "execution_count": 45,
   "id": "1fb8f723-a881-4ee4-8c87-900bcdfae909",
   "metadata": {},
   "outputs": [
    {
     "name": "stderr",
     "output_type": "stream",
     "text": [
      "WARN Infinite extent for field \"합계_start\": [Infinity, -Infinity]\n",
      "WARN Infinite extent for field \"합계_end\": [Infinity, -Infinity]\n",
      "WARN Infinite extent for field \"합계_start\": [Infinity, -Infinity]\n",
      "WARN Infinite extent for field \"합계_end\": [Infinity, -Infinity]\n"
     ]
    }
   ],
   "source": [
    "# Chart - Pie 차트\n",
    "if region == 'All':\n",
    "    source = pivot\n",
    "    chart = getPieChart(df_filtered)\n",
    "    chart.save(f'./charts/cpm_{region}_{y}_{m}_{d}_1.png')\n",
    "else:\n",
    "    pass\n",
    "\n",
    "# Chart - 라인 차트\n",
    "chart = getLineChart(df_filtered, month)\n",
    "chart.save(f'./charts/cpm_{region}_{y}_{m}_{d}_2.png')"
   ]
  },
  {
   "cell_type": "code",
   "execution_count": 46,
   "id": "2e9d72be-b2f3-44c4-98aa-4ab80cf38c21",
   "metadata": {},
   "outputs": [
    {
     "data": {
      "text/plain": [
       "<docx.shape.InlineShape at 0x14d4b305bb0>"
      ]
     },
     "execution_count": 46,
     "metadata": {},
     "output_type": "execute_result"
    }
   ],
   "source": [
    "# Document\n",
    "document.add_paragraph('용량(이슈) 관리', style='List Number')\n",
    "\n",
    "if region == 'All':\n",
    "    document.add_paragraph(f'{month}: 총 {total}', style='List Bullet')    \n",
    "    document.add_picture(f'./charts/cpm_{region}_{y}_{m}_{d}_1.png')\n",
    "else:\n",
    "    pass\n",
    "\n",
    "document.add_paragraph(f'월별 추세', style='List Bullet')\n",
    "document.add_picture(f'./charts/cpm_{region}_{y}_{m}_{d}_2.png')   "
   ]
  },
  {
   "cell_type": "code",
   "execution_count": 49,
   "id": "281eb520-5c01-4e65-8b49-c856bd8209f3",
   "metadata": {},
   "outputs": [
    {
     "data": {
      "text/plain": [
       "<docx.text.paragraph.Paragraph at 0x14d4b7196d0>"
      ]
     },
     "execution_count": 49,
     "metadata": {},
     "output_type": "execute_result"
    }
   ],
   "source": [
    "# Document\n",
    "addTable3(df_filtered, regex, month)\n",
    "document.add_page_break()"
   ]
  },
  {
   "cell_type": "code",
   "execution_count": 50,
   "id": "e121a457-e300-4bf6-a8ed-db2c7254e743",
   "metadata": {},
   "outputs": [
    {
     "data": {
      "text/plain": [
       "<docx.text.paragraph.Paragraph at 0x14d57b9a070>"
      ]
     },
     "execution_count": 50,
     "metadata": {},
     "output_type": "execute_result"
    }
   ],
   "source": [
    "document.add_paragraph(f'자원 현황표', style='List Bullet')"
   ]
  },
  {
   "cell_type": "markdown",
   "id": "4646dc19-72f8-4b7c-b39f-184cda10d628",
   "metadata": {
    "tags": []
   },
   "source": [
    "## 1.8 백업 관리"
   ]
  },
  {
   "cell_type": "code",
   "execution_count": 52,
   "id": "41f9d197-9828-42b1-acb0-eb722701e44f",
   "metadata": {},
   "outputs": [],
   "source": [
    "base_path = r\"./data/1_8_202206_백업관리_0727_01.ods\"\n",
    "sheet = f'{month}집계'\n",
    "\n",
    "df = read_ods(base_path, sheet, headers=True)\n",
    "df_filtered = df[df['리전'].apply(lambda x: True if re.search(regex, x) else False) & (df['테넌트']== 'PRD') & (df['월간']=='O')]\n",
    "\n",
    "# Pivoting\n",
    "pivot, total = getPivotTable(df, month)"
   ]
  },
  {
   "cell_type": "code",
   "execution_count": 53,
   "id": "2feb4422-3754-4fa0-b6d7-7dd814823bfb",
   "metadata": {},
   "outputs": [
    {
     "name": "stderr",
     "output_type": "stream",
     "text": [
      "WARN Infinite extent for field \"합계_start\": [Infinity, -Infinity]\n",
      "WARN Infinite extent for field \"합계_end\": [Infinity, -Infinity]\n",
      "WARN Infinite extent for field \"합계_start\": [Infinity, -Infinity]\n",
      "WARN Infinite extent for field \"합계_end\": [Infinity, -Infinity]\n"
     ]
    }
   ],
   "source": [
    "# Chart - Pie 차트\n",
    "if region == 'All':\n",
    "    source = pivot\n",
    "    chart = getPieChart(df_filtered)\n",
    "    chart.save(f'./charts/bm_{region}_{y}_{m}_{d}_1.png')\n",
    "else:\n",
    "    pass\n",
    "\n",
    "# Chart - 라인 차트\n",
    "chart = getLineChart(df_filtered, month)\n",
    "chart.save(f'./charts/bm_{region}_{y}_{m}_{d}_2.png')"
   ]
  },
  {
   "cell_type": "code",
   "execution_count": 54,
   "id": "8e369d67-f65b-46d1-a50e-bece94135670",
   "metadata": {},
   "outputs": [
    {
     "data": {
      "text/plain": [
       "<docx.shape.InlineShape at 0x14d57b95f10>"
      ]
     },
     "execution_count": 54,
     "metadata": {},
     "output_type": "execute_result"
    }
   ],
   "source": [
    "# Document\n",
    "document.add_paragraph('백업 관리', style='List Number')\n",
    "\n",
    "if region == 'All':\n",
    "    document.add_paragraph(f'{month}: 총 {total}', style='List Bullet')    \n",
    "    document.add_picture(f'./charts/bm_{region}_{y}_{m}_{d}_1.png')\n",
    "else:\n",
    "    pass\n",
    "\n",
    "document.add_paragraph(f'월별 추세', style='List Bullet')\n",
    "document.add_picture(f'./charts/bm_{region}_{y}_{m}_{d}_2.png')   "
   ]
  },
  {
   "cell_type": "code",
   "execution_count": 55,
   "id": "87fc4ede-321d-4324-9909-4847c2ac3205",
   "metadata": {},
   "outputs": [
    {
     "data": {
      "text/plain": [
       "<docx.text.paragraph.Paragraph at 0x14d57bce640>"
      ]
     },
     "execution_count": 55,
     "metadata": {},
     "output_type": "execute_result"
    }
   ],
   "source": [
    "# Document\n",
    "# addSummaryTable(df_filtered, regex, month)\n",
    "document.add_page_break()"
   ]
  },
  {
   "cell_type": "markdown",
   "id": "64752b33-16b5-426e-a0a5-c4b99f9c3ae0",
   "metadata": {
    "tags": []
   },
   "source": [
    "## 1.9 보안 관리"
   ]
  },
  {
   "cell_type": "code",
   "execution_count": 56,
   "id": "14abfdf7-4f38-492c-b7c0-a2ad06204885",
   "metadata": {},
   "outputs": [],
   "source": [
    "base_path = r\"./data/1_9_202206_보안관리_0727_01.ods\"\n",
    "sheet = f'{month}집계'\n",
    "\n",
    "df = read_ods(base_path, sheet, headers=True)\n",
    "df_filtered = df[df['리전'].apply(lambda x: True if re.search(regex, x) else False) & (df['테넌트']== 'PRD') & (df['월간']=='O')]\n",
    "\n",
    "# Pivoting\n",
    "pivot, total = getPivotTable(df, month)"
   ]
  },
  {
   "cell_type": "code",
   "execution_count": 57,
   "id": "cae69319-c325-40c0-b301-390bd6986b0b",
   "metadata": {},
   "outputs": [
    {
     "name": "stderr",
     "output_type": "stream",
     "text": [
      "WARN Infinite extent for field \"합계_start\": [Infinity, -Infinity]\n",
      "WARN Infinite extent for field \"합계_end\": [Infinity, -Infinity]\n",
      "WARN Infinite extent for field \"합계_start\": [Infinity, -Infinity]\n",
      "WARN Infinite extent for field \"합계_end\": [Infinity, -Infinity]\n"
     ]
    }
   ],
   "source": [
    "# Chart - Pie 차트\n",
    "if region == 'All':\n",
    "    source = pivot\n",
    "    chart = getPieChart(df_filtered)\n",
    "    chart.save(f'./charts/sm_{region}_{y}_{m}_{d}_1.png')\n",
    "else:\n",
    "    pass\n",
    "\n",
    "# Chart - 라인 차트\n",
    "chart = getLineChart(df_filtered, month)\n",
    "chart.save(f'./charts/sm_{region}_{y}_{m}_{d}_2.png')"
   ]
  },
  {
   "cell_type": "code",
   "execution_count": 58,
   "id": "cc73840e-ead6-4cb0-b2fe-ff5cbc326b6f",
   "metadata": {},
   "outputs": [
    {
     "data": {
      "text/plain": [
       "<docx.shape.InlineShape at 0x14d57bcec10>"
      ]
     },
     "execution_count": 58,
     "metadata": {},
     "output_type": "execute_result"
    }
   ],
   "source": [
    "# Document\n",
    "document.add_paragraph('보안 관리', style='List Number')\n",
    "\n",
    "if region == 'All':\n",
    "    document.add_paragraph(f'{month}: 총 {total}', style='List Bullet')    \n",
    "    document.add_picture(f'./charts/sm_{region}_{y}_{m}_{d}_1.png')\n",
    "else:\n",
    "    pass\n",
    "\n",
    "document.add_paragraph(f'월별 추세', style='List Bullet')\n",
    "document.add_picture(f'./charts/sm_{region}_{y}_{m}_{d}_2.png')   "
   ]
  },
  {
   "cell_type": "code",
   "execution_count": 59,
   "id": "3e39832a-4818-4753-b921-a7be3276bdb1",
   "metadata": {},
   "outputs": [
    {
     "data": {
      "text/plain": [
       "<docx.text.paragraph.Paragraph at 0x14d53f5c8b0>"
      ]
     },
     "execution_count": 59,
     "metadata": {},
     "output_type": "execute_result"
    }
   ],
   "source": [
    "# Document\n",
    "addTable3(df_filtered, regex, month)\n",
    "document.add_page_break()"
   ]
  },
  {
   "cell_type": "code",
   "execution_count": null,
   "id": "15fa3770-806a-4912-a8e1-127fbc4a1a91",
   "metadata": {},
   "outputs": [],
   "source": []
  },
  {
   "cell_type": "markdown",
   "id": "310c18b3-6b7f-4608-9710-68ce11496bec",
   "metadata": {
    "tags": []
   },
   "source": [
    "## 1.10 하드웨어 정기점검"
   ]
  },
  {
   "cell_type": "code",
   "execution_count": 60,
   "id": "1fe8c2d7-3f15-45e7-a82a-ecb027b43eeb",
   "metadata": {},
   "outputs": [],
   "source": [
    "base_path = r\"./data/1_10_202206_정기점검_0727_01.ods\"\n",
    "sheet = f'{month}집계'\n",
    "\n",
    "df = read_ods(base_path, sheet, headers=True)\n",
    "df_filtered = df[df['리전'].apply(lambda x: True if re.search(regex, x) else False) & (df['테넌트']== 'PRD') & (df['월간']=='O')]\n",
    "\n",
    "# Pivoting\n",
    "pivot, total = getPivotTable(df, month)"
   ]
  },
  {
   "cell_type": "code",
   "execution_count": 61,
   "id": "e58070ae-0a83-4f6e-87da-c416db7f9f58",
   "metadata": {},
   "outputs": [
    {
     "name": "stderr",
     "output_type": "stream",
     "text": [
      "WARN Infinite extent for field \"합계_start\": [Infinity, -Infinity]\n",
      "WARN Infinite extent for field \"합계_end\": [Infinity, -Infinity]\n",
      "WARN Infinite extent for field \"합계_start\": [Infinity, -Infinity]\n",
      "WARN Infinite extent for field \"합계_end\": [Infinity, -Infinity]\n"
     ]
    }
   ],
   "source": [
    "# Chart - Pie 차트\n",
    "if region == 'All':\n",
    "    source = pivot\n",
    "    chart = getPieChart(df_filtered)\n",
    "    chart.save(f'./charts/rc_{region}_{y}_{m}_{d}_1.png')\n",
    "else:\n",
    "    pass\n",
    "\n",
    "# Chart - 라인 차트\n",
    "chart = getLineChart(df_filtered, month)\n",
    "chart.save(f'./charts/rc_{region}_{y}_{m}_{d}_2.png')"
   ]
  },
  {
   "cell_type": "code",
   "execution_count": 62,
   "id": "5eac84be-dfcf-4632-bd4f-d4033167228d",
   "metadata": {},
   "outputs": [
    {
     "data": {
      "text/plain": [
       "<docx.shape.InlineShape at 0x14d57c8abb0>"
      ]
     },
     "execution_count": 62,
     "metadata": {},
     "output_type": "execute_result"
    }
   ],
   "source": [
    "# Document\n",
    "document.add_paragraph('정기점검', style='List Number')\n",
    "\n",
    "if region == 'All':\n",
    "    document.add_paragraph(f'{month}: 총 {total}', style='List Bullet')    \n",
    "    document.add_picture(f'./charts/rc_{region}_{y}_{m}_{d}_1.png')\n",
    "else:\n",
    "    pass\n",
    "\n",
    "document.add_paragraph(f'월별 추세', style='List Bullet')\n",
    "document.add_picture(f'./charts/rc_{region}_{y}_{m}_{d}_2.png')   "
   ]
  },
  {
   "cell_type": "code",
   "execution_count": 63,
   "id": "04dd2e62-709a-4332-a65f-f7d7b76db34f",
   "metadata": {},
   "outputs": [
    {
     "data": {
      "text/plain": [
       "<docx.text.paragraph.Paragraph at 0x14d53f5ce80>"
      ]
     },
     "execution_count": 63,
     "metadata": {},
     "output_type": "execute_result"
    }
   ],
   "source": [
    "# Document\n",
    "addTable3(df_filtered, regex, month)\n",
    "document.add_page_break()"
   ]
  },
  {
   "cell_type": "code",
   "execution_count": null,
   "id": "e14fded8-722c-44fa-a880-69bf19981e87",
   "metadata": {},
   "outputs": [],
   "source": []
  },
  {
   "cell_type": "markdown",
   "id": "ffd0d1b0-e76a-49dc-a3ac-da373436ad7b",
   "metadata": {
    "tags": []
   },
   "source": [
    "## Save Document"
   ]
  },
  {
   "cell_type": "code",
   "execution_count": 65,
   "id": "aa4d0514-a153-4d72-a019-38db7a8923ac",
   "metadata": {},
   "outputs": [],
   "source": [
    "if region == 'All':\n",
    "    document.save(f'월간보고서_{y}_{m}_{d}.docx' )\n",
    "else:\n",
    "    document.save(f'월간보고서_{region}_{y}_{m}_{d}.docx')"
   ]
  },
  {
   "cell_type": "markdown",
   "id": "bc53cf14-e35d-41bf-a8f3-4cde30a3fffe",
   "metadata": {
    "tags": []
   },
   "source": [
    "## 보고서 표지 (커버 쉬트)"
   ]
  },
  {
   "cell_type": "code",
   "execution_count": 66,
   "id": "15ac4f8b-4156-46a3-86d9-df9d258906dc",
   "metadata": {},
   "outputs": [],
   "source": [
    "# Cover Page\n",
    "from docxtpl import DocxTemplate\n",
    "\n",
    "doc = DocxTemplate(\"cover-page-template.docx\")\n",
    "context = { \n",
    "    'Service' : \"HMC CCS Infra 운영/관리\",      \n",
    "    'Title' : \"Monthly Report\",    \n",
    "    'Region' : \"Global\",        \n",
    "    'Year' : \"2022\",\n",
    "    'Month' : \"6\",\n",
    "    'Department' : \"클라우드운영센터\",\n",
    "    'Author' : \"정인환\"\n",
    "}\n",
    "doc.render(context)\n",
    "year = 2022\n",
    "mon = 6\n",
    "doc.save(f\"MR-{year}-{mon}.docx\")"
   ]
  },
  {
   "cell_type": "code",
   "execution_count": 68,
   "id": "2138a594-4c23-432a-b464-ebd218c67a3b",
   "metadata": {},
   "outputs": [],
   "source": [
    "# Merged Doc\n",
    "\n",
    "from docx import Document\n",
    "\n",
    "merged_document = Document()\n",
    "\n",
    "if region == 'All':\n",
    "    files = [f\"MR-{year}-{mon}.docx\", f'월간보고서_{y}_{m}_{d}.docx' ]\n",
    "else:\n",
    "    files = [f\"MR-{year}-{mon}.docx\", f'월간보고서_{region}_{y}_{m}_{d}.docx' ]\n"
   ]
  },
  {
   "cell_type": "code",
   "execution_count": null,
   "id": "d240bfcd-39b9-410f-b367-2e0bc5e6a486",
   "metadata": {},
   "outputs": [],
   "source": []
  }
 ],
 "metadata": {
  "kernelspec": {
   "display_name": "Python 3 (ipykernel)",
   "language": "python",
   "name": "python3"
  },
  "language_info": {
   "codemirror_mode": {
    "name": "ipython",
    "version": 3
   },
   "file_extension": ".py",
   "mimetype": "text/x-python",
   "name": "python",
   "nbconvert_exporter": "python",
   "pygments_lexer": "ipython3",
   "version": "3.9.13"
  }
 },
 "nbformat": 4,
 "nbformat_minor": 5
}
