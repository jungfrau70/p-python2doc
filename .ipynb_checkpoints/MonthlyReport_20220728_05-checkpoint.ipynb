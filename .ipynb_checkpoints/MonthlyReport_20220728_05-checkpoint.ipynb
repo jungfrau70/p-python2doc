{
 "cells": [
  {
   "cell_type": "code",
   "execution_count": 1,
   "id": "032fea3d-6acb-44cd-a6ae-647ad543400b",
   "metadata": {},
   "outputs": [],
   "source": [
    "import datetime\n",
    "import pandas as pd\n",
    "import warnings\n",
    "warnings.filterwarnings('ignore')\n",
    "\n",
    "from chart import *\n",
    "from table import *\n",
    "from document import *\n",
    "from docx.text.run import *"
   ]
  },
  {
   "cell_type": "code",
   "execution_count": 2,
   "id": "f4e46f3d-1602-480a-880b-09c916fc9090",
   "metadata": {},
   "outputs": [],
   "source": [
    "# report version\n",
    "rtype = '월간' # 연간, 반기"
   ]
  },
  {
   "cell_type": "code",
   "execution_count": 3,
   "id": "a1a6651e-42fb-452e-aa31-b44fe1582fea",
   "metadata": {},
   "outputs": [],
   "source": [
    "#region = 'All' \n",
    "#region = 'KR' # All|KR|CN|NA|EU|SG|RU\n",
    "#region = 'CN'\n",
    "#region = 'NA'\n",
    "#region = 'EU'\n",
    "#region = 'SG'\n",
    "region = 'RU'"
   ]
  },
  {
   "cell_type": "code",
   "execution_count": 4,
   "id": "0bf092a6-bcfd-4ffc-84a5-4e3b781bdf4e",
   "metadata": {},
   "outputs": [],
   "source": [
    "month = '6월' # 7월"
   ]
  },
  {
   "cell_type": "code",
   "execution_count": 5,
   "id": "982b673b-7767-41c7-959a-c335f5c1b890",
   "metadata": {},
   "outputs": [],
   "source": [
    "# 메타 정보\n",
    "\n",
    "today = datetime.date.today()\n",
    "\n",
    "y = today.year\n",
    "m = today.month\n",
    "d = today.day\n",
    "w = today.weekday()\n",
    "\n",
    "v = '1'\n",
    "\n",
    "if region == 'KR':\n",
    "    regex = '^(KR|Global|All)' #' KR'\n",
    "elif region == 'CN':\n",
    "    regex = '^(CN|Global|All)'\n",
    "elif region == 'NA':\n",
    "    regex = '^(NA|Global|All)'\n",
    "elif region == 'EU':\n",
    "    regex = '^(EU|Global|All)'\n",
    "elif region == 'SG':\n",
    "    regex = '^(SG|Global|All)'\n",
    "elif region == 'RU':\n",
    "    regex = '^(SG|Global|All)'\n",
    "else:\n",
    "    regex = '^(KR|CN|NA|EU|SG|RU|Global|All)'"
   ]
  },
  {
   "cell_type": "code",
   "execution_count": 6,
   "id": "7d3a0f23-a5c6-42bc-9a55-d96482e409e0",
   "metadata": {},
   "outputs": [],
   "source": [
    "# Document 기본 폰트\n",
    "style = document.styles['Normal']\n",
    "style.font.name = '맑은고딕'\n",
    "style.font.size = Pt(12)\n",
    "style._element.rPr.rFonts.set(qn('w:eastAsia'), '맑은고딕')"
   ]
  },
  {
   "cell_type": "code",
   "execution_count": 7,
   "id": "f19d5ed1-2b5a-4d14-ba3c-b50e9e92f4f4",
   "metadata": {},
   "outputs": [
    {
     "data": {
      "text/plain": [
       "ThemeRegistry.enable('맑은고딕')"
      ]
     },
     "execution_count": 7,
     "metadata": {},
     "output_type": "execute_result"
    }
   ],
   "source": [
    "# Chart 기본 폰트\n",
    "alt.themes.register('맑은고딕', hanfont)\n",
    "alt.themes.enable('맑은고딕')"
   ]
  },
  {
   "cell_type": "markdown",
   "id": "a4410470-44b5-4981-b1e5-ee94cfb07350",
   "metadata": {
    "tags": []
   },
   "source": [
    "## 요약"
   ]
  },
  {
   "cell_type": "code",
   "execution_count": 8,
   "id": "91927a17-4b6d-420d-93eb-e316e575eedb",
   "metadata": {},
   "outputs": [],
   "source": [
    "# ETL\n",
    "base_path = r\"./data/요약_202206_서비스관리_0727_01.ods\"\n",
    "sheet = f'{month}집계'\n",
    "\n",
    "df = read_ods(base_path, sheet, headers=True)\n",
    "\n",
    "# 리전 & 운영계, 월간보고서용\n",
    "df_filtered = df[df['리전'].apply(lambda x: True if re.search(regex, x) else False) & (df['테넌트']== 'PRD') & (df['월간']=='O')]\n",
    "\n",
    "df_completed = df_filtered[ (df_filtered['월']==month) & (df_filtered['진행상태']=='완료') ]\n",
    "completed = len(df_completed)\n",
    "\n",
    "incompleted = len (df_filtered[(df_filtered['진행상태']!='완료')])"
   ]
  },
  {
   "cell_type": "code",
   "execution_count": 9,
   "id": "f990c3a0-9625-4871-be23-cc0b5cdc2bb6",
   "metadata": {},
   "outputs": [
    {
     "data": {
      "text/html": [
       "<div>\n",
       "<style scoped>\n",
       "    .dataframe tbody tr th:only-of-type {\n",
       "        vertical-align: middle;\n",
       "    }\n",
       "\n",
       "    .dataframe tbody tr th {\n",
       "        vertical-align: top;\n",
       "    }\n",
       "\n",
       "    .dataframe thead th {\n",
       "        text-align: right;\n",
       "    }\n",
       "</style>\n",
       "<table border=\"1\" class=\"dataframe\">\n",
       "  <thead>\n",
       "    <tr style=\"text-align: right;\">\n",
       "      <th></th>\n",
       "      <th>년도</th>\n",
       "      <th>월</th>\n",
       "      <th>리전</th>\n",
       "      <th>AZ</th>\n",
       "      <th>테넌트</th>\n",
       "      <th>진행상태</th>\n",
       "      <th>성패</th>\n",
       "      <th>작업내용</th>\n",
       "      <th>주간</th>\n",
       "      <th>월간</th>\n",
       "      <th>연간</th>\n",
       "    </tr>\n",
       "  </thead>\n",
       "  <tbody>\n",
       "    <tr>\n",
       "      <th>count</th>\n",
       "      <td>56</td>\n",
       "      <td>56</td>\n",
       "      <td>56</td>\n",
       "      <td>56</td>\n",
       "      <td>56</td>\n",
       "      <td>56</td>\n",
       "      <td>33</td>\n",
       "      <td>56</td>\n",
       "      <td>56</td>\n",
       "      <td>27</td>\n",
       "      <td>56</td>\n",
       "    </tr>\n",
       "    <tr>\n",
       "      <th>unique</th>\n",
       "      <td>1</td>\n",
       "      <td>6</td>\n",
       "      <td>8</td>\n",
       "      <td>2</td>\n",
       "      <td>4</td>\n",
       "      <td>2</td>\n",
       "      <td>1</td>\n",
       "      <td>49</td>\n",
       "      <td>1</td>\n",
       "      <td>1</td>\n",
       "      <td>1</td>\n",
       "    </tr>\n",
       "    <tr>\n",
       "      <th>top</th>\n",
       "      <td>22년</td>\n",
       "      <td>6월</td>\n",
       "      <td>KR</td>\n",
       "      <td>1센터</td>\n",
       "      <td>PRD</td>\n",
       "      <td>완료</td>\n",
       "      <td>성공</td>\n",
       "      <td>클라우드 플랫폼(opentsack) 보안 설정 현황 확인 요청\\n중국 GCS시스템에...</td>\n",
       "      <td>O</td>\n",
       "      <td>O</td>\n",
       "      <td>O</td>\n",
       "    </tr>\n",
       "    <tr>\n",
       "      <th>freq</th>\n",
       "      <td>56</td>\n",
       "      <td>32</td>\n",
       "      <td>12</td>\n",
       "      <td>50</td>\n",
       "      <td>36</td>\n",
       "      <td>33</td>\n",
       "      <td>33</td>\n",
       "      <td>2</td>\n",
       "      <td>56</td>\n",
       "      <td>27</td>\n",
       "      <td>56</td>\n",
       "    </tr>\n",
       "  </tbody>\n",
       "</table>\n",
       "</div>"
      ],
      "text/plain": [
       "         년도   월  리전   AZ  테넌트 진행상태  성패  \\\n",
       "count    56  56  56   56   56   56  33   \n",
       "unique    1   6   8    2    4    2   1   \n",
       "top     22년  6월  KR  1센터  PRD   완료  성공   \n",
       "freq     56  32  12   50   36   33  33   \n",
       "\n",
       "                                                     작업내용  주간  월간  연간  \n",
       "count                                                  56  56  27  56  \n",
       "unique                                                 49   1   1   1  \n",
       "top     클라우드 플랫폼(opentsack) 보안 설정 현황 확인 요청\\n중국 GCS시스템에...   O   O   O  \n",
       "freq                                                    2  56  27  56  "
      ]
     },
     "execution_count": 9,
     "metadata": {},
     "output_type": "execute_result"
    }
   ],
   "source": [
    "df.describe()"
   ]
  },
  {
   "cell_type": "code",
   "execution_count": 10,
   "id": "f0a7e3ef-b335-4125-be00-86233e34d929",
   "metadata": {},
   "outputs": [],
   "source": [
    "# Chart\n",
    "if region == 'All':\n",
    "    # Data\n",
    "    pivot, total = getPivotTable(df_filtered, month)\n",
    "    source = pivot\n",
    "\n",
    "    # Chart\n",
    "    chart = getPieChart(source)\n",
    "    chart.save(f'./charts/summary_{y}_{m}_{d}_{v}_1.png')\n",
    "\n",
    "    document.add_picture(f'./charts/summary_{y}_{m}_{d}_{v}_1.png')\n",
    "else:\n",
    "    pass"
   ]
  },
  {
   "cell_type": "code",
   "execution_count": 11,
   "id": "77a10c58-3b9a-4dc6-9ac4-e0f743d18c76",
   "metadata": {},
   "outputs": [
    {
     "data": {
      "text/plain": [
       "<docx.text.paragraph.Paragraph at 0x26e3bbbbbe0>"
      ]
     },
     "execution_count": 11,
     "metadata": {},
     "output_type": "execute_result"
    }
   ],
   "source": [
    "# Document\n",
    "document.add_paragraph('요약')    \n",
    "document.add_paragraph(f'완료: {completed} 건 / 이슈: {incompleted} 건', style='List Bullet')\n",
    "\n",
    "addSummaryTable(df_filtered, regex, month)\n",
    "document.add_page_break()"
   ]
  },
  {
   "cell_type": "code",
   "execution_count": null,
   "id": "d1a79e5a-7e38-4e24-8c80-6c52cde6f5cc",
   "metadata": {},
   "outputs": [],
   "source": []
  },
  {
   "cell_type": "markdown",
   "id": "ddcf5ec0-e21b-4f21-90df-a00e3d4c8d8d",
   "metadata": {
    "tags": []
   },
   "source": [
    "## 1.1 모니터링(인시던트핸들링)"
   ]
  },
  {
   "cell_type": "code",
   "execution_count": 12,
   "id": "2f60368b-eff6-4615-a785-0a1e29991cdf",
   "metadata": {},
   "outputs": [],
   "source": [
    "base_path = r\"./data/1_1_202206_모니터링_인시던트핸들링_0727_01.ods\"\n",
    "sheet = f'{month}집계'\n",
    "\n",
    "df = read_ods(base_path, sheet, headers=True)\n",
    "df['장애전파소요시간'] = (pd.to_datetime(df['장애전파시간.1'])-pd.to_datetime(df['발생인지시간'])).astype('timedelta64[m]')\n",
    "\n",
    "# Pivoting\n",
    "pivot, total = getPivotTable(df, month)\n",
    "\n",
    "# 리전 & 운영계, 월간보고서용\n",
    "df_filtered = df[df['리전'].apply(lambda x: True if re.search(regex, x) else False) & (df['테넌트']== 'PRD') & (df['진행상태']=='완료') & (df['월간']=='O')]\n",
    "df_filtered, timeslot = getTables(df_filtered, regex, month)\n",
    "    \n",
    "# SLA failed\n",
    "df_failed = df_filtered[ (df_filtered['장애전파'] > 15) & (df_filtered['월']== month)]\n",
    "df_failed[['날짜', '장애이벤트', '조치내용', 'JIRA_Ticket_No', '장애전파소요시간']]\n",
    "\n",
    "df_completed = df_filtered[ (df_filtered['월']==month) & (df_filtered['진행상태']=='완료') ]\n",
    "completed = len(df_completed)\n",
    "\n",
    "incompleted = len (df_filtered[(df_filtered['진행상태']!='완료')])"
   ]
  },
  {
   "cell_type": "code",
   "execution_count": 13,
   "id": "485de9ce-3f3f-4b23-b013-8657f9124ca2",
   "metadata": {},
   "outputs": [
    {
     "name": "stderr",
     "output_type": "stream",
     "text": [
      "npm WARN config global `--global`, `--local` are deprecated. Use `--location=global` instead.\n",
      "npm WARN config global `--global`, `--local` are deprecated. Use `--location=global` instead.\n",
      "npm WARN config global `--global`, `--local` are deprecated. Use `--location=global` instead.\n"
     ]
    }
   ],
   "source": [
    "# Chart - Pie 차트\n",
    "if region == 'All':\n",
    "    source = pivot\n",
    "    chart = getPieChart(source)\n",
    "    chart.save(f'./charts/mon_{region}_{y}_{m}_{d}_1.png')\n",
    "else:\n",
    "    pass\n",
    "\n",
    "# Chart - 스캐터 차트    \n",
    "chart = getScatterChart(timeslot, month)\n",
    "chart.save(f'./charts/mon_{region}_{y}_{m}_{d}_2.png')\n",
    "\n",
    "# Chart - 라인 차트\n",
    "chart = getLineChart2(df_filtered, month)\n",
    "chart.save(f'./charts/mon_{region}_{y}_{m}_{d}_3.png')"
   ]
  },
  {
   "cell_type": "code",
   "execution_count": 14,
   "id": "39915a37-320c-4de7-9a73-30c69b91440e",
   "metadata": {},
   "outputs": [
    {
     "data": {
      "text/plain": [
       "<docx.text.paragraph.Paragraph at 0x26e3c052430>"
      ]
     },
     "execution_count": 14,
     "metadata": {},
     "output_type": "execute_result"
    }
   ],
   "source": [
    "# Document\n",
    "document.add_paragraph('모니터링(인시던트핸들링)', style='List Number')\n",
    "document.add_paragraph(f'완료: {completed} 건 / 진행: {incompleted} 건', style='List Bullet')\n",
    "\n",
    "if region == 'All':\n",
    "    document.add_picture(f'./charts/mon_{region}_{y}_{m}_{d}_1.png')\n",
    "else:\n",
    "    pass\n",
    "\n",
    "# Document\n",
    "document.add_paragraph(f'일별 장애전파 소요시간(분) 현황', style='List Bullet')\n",
    "document.add_picture(f'./charts/mon_{region}_{y}_{m}_{d}_2.png')\n",
    "\n",
    "##  (향후) 평균 소요 시간, 최대 소요 시간 추가 하자!!!\n",
    "document.add_paragraph(f'장애전파SLA(15분) 초과: {len(df_failed)} 건', style='List Bullet')\n",
    "addFailedTable(df_failed, regex, month)\n",
    "\n",
    "p = document.add_paragraph('')\n",
    "run = p.add_run()\n",
    "run.add_break(WD_BREAK.LINE)\n",
    "\n",
    "document.add_paragraph(f'월별 추세', style='List Bullet')\n",
    "document.add_picture(f'./charts/mon_{region}_{y}_{m}_{d}_3.png')\n",
    "document.add_page_break()"
   ]
  },
  {
   "cell_type": "code",
   "execution_count": null,
   "id": "25c25174-5f71-4fd8-9c41-3e08b7382ec2",
   "metadata": {},
   "outputs": [],
   "source": []
  },
  {
   "cell_type": "markdown",
   "id": "51513bde-8cfd-4779-9dd4-85e3296f4085",
   "metadata": {
    "tags": []
   },
   "source": [
    "## 1.2 이슈 관리"
   ]
  },
  {
   "cell_type": "code",
   "execution_count": 15,
   "id": "0485f45d-c5f2-40fa-ba02-3bf0e77b4e2a",
   "metadata": {},
   "outputs": [],
   "source": [
    "base_path = r\"./data/1_2_202206_이슈관리_0727_01.ods\"\n",
    "sheet = f'{month}집계'\n",
    "\n",
    "df = read_ods(base_path, sheet, headers=True)\n",
    "df_filtered = df[df['리전'].apply(lambda x: True if re.search(regex, x) else False) & (df['테넌트']== 'PRD') & (df['진행상태']=='완료') & (df['월간']=='O')]\n",
    "\n",
    "# Pivoting\n",
    "pivot, total = getPivotTable(df, month)\n",
    "\n",
    "df_completed = df_filtered[ (df_filtered['월']==month) & (df_filtered['진행상태']=='완료') ]\n",
    "completed = len(df_completed)\n",
    "\n",
    "incompleted = len (df_filtered[(df_filtered['진행상태']!='완료')])"
   ]
  },
  {
   "cell_type": "code",
   "execution_count": 16,
   "id": "c615a2b7-4296-4634-8d6e-78a7c77a1495",
   "metadata": {},
   "outputs": [],
   "source": [
    "# Chart - Pie 차트\n",
    "if region == 'All':\n",
    "    source = pivot\n",
    "    chart = getPieChart(source)\n",
    "    chart.save(f'./charts/im_{region}_{y}_{m}_{d}_1.png')\n",
    "else:\n",
    "    pass\n",
    "\n",
    "# Chart - 라인 차트\n",
    "chart = getLineChart2(df_filtered, month)\n",
    "chart.save(f'./charts/im_{region}_{y}_{m}_{d}_2.png')"
   ]
  },
  {
   "cell_type": "code",
   "execution_count": 17,
   "id": "6ac3fd1b-639e-4b54-9ee3-82effd9611fd",
   "metadata": {},
   "outputs": [
    {
     "data": {
      "text/plain": [
       "<docx.text.paragraph.Paragraph at 0x26e3c052580>"
      ]
     },
     "execution_count": 17,
     "metadata": {},
     "output_type": "execute_result"
    }
   ],
   "source": [
    "# Document\n",
    "document.add_paragraph('이슈 관리', style='List Number')\n",
    "document.add_paragraph(f'완료: {completed} 건 / 진행: {incompleted} 건', style='List Bullet')\n",
    "\n",
    "if region == 'All':\n",
    "    document.add_picture(f'./charts/im_{region}_{y}_{m}_{d}_1.png')\n",
    "else:\n",
    "    pass\n",
    "\n",
    "# Document\n",
    "addTable4(df_filtered, regex, month)\n",
    "\n",
    "p = document.add_paragraph('')\n",
    "run = p.add_run()\n",
    "run.add_break(WD_BREAK.LINE)\n",
    "\n",
    "document.add_paragraph(f'월별 추세', style='List Bullet')\n",
    "document.add_picture(f'./charts/im_{region}_{y}_{m}_{d}_2.png')\n",
    "document.add_page_break()"
   ]
  },
  {
   "cell_type": "code",
   "execution_count": null,
   "id": "2c3935f5-1696-492e-af71-096a4c6c31e5",
   "metadata": {},
   "outputs": [],
   "source": []
  },
  {
   "cell_type": "markdown",
   "id": "87b3866d-7b12-45d6-b8fa-3f090cb7cea8",
   "metadata": {
    "tags": []
   },
   "source": [
    "## 1.3 장애 관리"
   ]
  },
  {
   "cell_type": "code",
   "execution_count": 18,
   "id": "03f5d7b3-54d4-4e41-a883-f5fa1873e8f7",
   "metadata": {},
   "outputs": [],
   "source": [
    "base_path = r\"./data/1_3_202206_장애관리_0727_01.ods\"\n",
    "sheet = f'{month}집계'\n",
    "\n",
    "df = read_ods(base_path, sheet, headers=True)\n",
    "df_filtered = df[df['리전'].apply(lambda x: True if re.search(regex, x) else False) & (df['테넌트']== 'PRD') & (df['진행상태']=='완료') & (df['월간']=='O')]\n",
    "\n",
    "# Pivoting\n",
    "pivot, total = getPivotTable(df, month)\n",
    "\n",
    "df_completed = df_filtered[ (df_filtered['월']==month) & (df_filtered['진행상태']=='완료') ]\n",
    "completed = len(df_completed)\n",
    "\n",
    "incompleted = len (df_filtered[(df_filtered['진행상태']!='완료')])"
   ]
  },
  {
   "cell_type": "code",
   "execution_count": 19,
   "id": "8e34f6d7-bfe2-4942-98f9-906fc4ea0412",
   "metadata": {},
   "outputs": [
    {
     "name": "stderr",
     "output_type": "stream",
     "text": [
      "WARN Infinite extent for field \"__count\": [Infinity, -Infinity]\n",
      "WARN Infinite extent for field \"__count\": [Infinity, -Infinity]\n"
     ]
    }
   ],
   "source": [
    "# Chart - Pie 차트\n",
    "if region == 'All':\n",
    "    source = pivot\n",
    "    chart = getPieChart(source)\n",
    "    chart.save(f'./charts/pm_{region}_{y}_{m}_{d}_1.png')\n",
    "else:\n",
    "    pass\n",
    "\n",
    "# Chart - 라인 차트\n",
    "chart = getLineChart2(df_filtered, month)\n",
    "chart.save(f'./charts/pm_{region}_{y}_{m}_{d}_2.png')"
   ]
  },
  {
   "cell_type": "code",
   "execution_count": 20,
   "id": "16183de5-ee49-4517-9d5c-42bab37b34ad",
   "metadata": {},
   "outputs": [
    {
     "data": {
      "text/plain": [
       "<docx.text.paragraph.Paragraph at 0x26e3bbe45b0>"
      ]
     },
     "execution_count": 20,
     "metadata": {},
     "output_type": "execute_result"
    }
   ],
   "source": [
    "# Document\n",
    "document.add_paragraph('장애(RCA) 관리', style='List Number')\n",
    "document.add_paragraph(f'완료: {completed} 건 / 진행: {incompleted} 건', style='List Bullet')\n",
    "\n",
    "if region == 'All':\n",
    "    document.add_picture(f'./charts/pm_{region}_{y}_{m}_{d}_1.png')\n",
    "else:\n",
    "    pass\n",
    "\n",
    "# Document\n",
    "addTable4(df_filtered, regex, month)\n",
    "\n",
    "p = document.add_paragraph('')\n",
    "run = p.add_run()\n",
    "run.add_break(WD_BREAK.LINE)\n",
    "\n",
    "document.add_paragraph(f'월별 추세', style='List Bullet')\n",
    "document.add_picture(f'./charts/pm_{region}_{y}_{m}_{d}_2.png')\n",
    "document.add_page_break()"
   ]
  },
  {
   "cell_type": "code",
   "execution_count": null,
   "id": "7a5150f5-130e-44fc-b584-c8f95723a998",
   "metadata": {},
   "outputs": [],
   "source": []
  },
  {
   "cell_type": "markdown",
   "id": "ea0552c0-1d40-40c6-af99-6bc1ce2572f7",
   "metadata": {
    "tags": []
   },
   "source": [
    "## 1.4 변경 관리"
   ]
  },
  {
   "cell_type": "code",
   "execution_count": 21,
   "id": "00d63c1e-bcdf-4f66-ac98-d6a43d3bf7cd",
   "metadata": {},
   "outputs": [],
   "source": [
    "base_path = r\"./data/1_4_202206_변경관리_0727_01.ods\"\n",
    "sheet = f'{month}집계'\n",
    "\n",
    "df = read_ods(base_path, sheet, headers=True)\n",
    "df_filtered = df[df['리전'].apply(lambda x: True if re.search(regex, x) else False) & (df['테넌트']== 'PRD') & (df['진행상태']=='완료') & (df['월간']=='O')]\n",
    "\n",
    "# Pivoting\n",
    "pivot, total = getPivotTable(df, month)\n",
    "\n",
    "df_completed = df_filtered[ (df_filtered['월']==month) & (df_filtered['진행상태']=='완료') ]\n",
    "completed = len(df_completed)\n",
    "\n",
    "incompleted = len (df_filtered[(df_filtered['진행상태']!='완료')])"
   ]
  },
  {
   "cell_type": "code",
   "execution_count": 22,
   "id": "a285681b-d3a6-4dba-a409-773c0fa06149",
   "metadata": {},
   "outputs": [],
   "source": [
    "# Chart - Pie 차트\n",
    "if region == 'All':\n",
    "    source = pivot\n",
    "    chart = getPieChart(source)\n",
    "    chart.save(f'./charts/cm_{region}_{y}_{m}_{d}_1.png')\n",
    "else:\n",
    "    pass\n",
    "\n",
    "# Chart - 라인 차트\n",
    "chart = getLineChart2(df_filtered, month)\n",
    "chart.save(f'./charts/cm_{region}_{y}_{m}_{d}_2.png')"
   ]
  },
  {
   "cell_type": "code",
   "execution_count": 23,
   "id": "b232e489-442b-4447-802f-d353c64c9955",
   "metadata": {},
   "outputs": [],
   "source": [
    "df_filtered = df_filtered[ (df_filtered['월']==month) & (df_filtered['진행상태']=='완료') ]\n",
    "total = len(df_filtered)"
   ]
  },
  {
   "cell_type": "code",
   "execution_count": 24,
   "id": "a763d156-2ef3-4eaa-9b68-5324280b5e0d",
   "metadata": {},
   "outputs": [
    {
     "data": {
      "text/plain": [
       "<docx.text.paragraph.Paragraph at 0x26e37c58340>"
      ]
     },
     "execution_count": 24,
     "metadata": {},
     "output_type": "execute_result"
    }
   ],
   "source": [
    "# Document\n",
    "document.add_paragraph('변경 관리', style='List Number')\n",
    "document.add_paragraph(f'완료: {completed} 건 / 진행: {incompleted} 건', style='List Bullet')\n",
    "    \n",
    "if region == 'All':\n",
    "    document.add_picture(f'./charts/cm_{region}_{y}_{m}_{d}_1.png')\n",
    "else:\n",
    "    pass\n",
    "\n",
    "# Document\n",
    "addTable3(df_filtered, regex, month)\n",
    "\n",
    "p = document.add_paragraph('')\n",
    "run = p.add_run()\n",
    "run.add_break(WD_BREAK.LINE)\n",
    "\n",
    "document.add_paragraph(f'월별 추세', style='List Bullet')\n",
    "document.add_picture(f'./charts/cm_{region}_{y}_{m}_{d}_2.png')\n",
    "document.add_page_break()"
   ]
  },
  {
   "cell_type": "code",
   "execution_count": null,
   "id": "0d61f271-fbdd-4999-ba94-0257879cdcb1",
   "metadata": {},
   "outputs": [],
   "source": []
  },
  {
   "cell_type": "markdown",
   "id": "5e1fd51b-c575-40fe-9375-396fd425bf89",
   "metadata": {
    "tags": []
   },
   "source": [
    "## 1.5 요청 관리"
   ]
  },
  {
   "cell_type": "code",
   "execution_count": 25,
   "id": "b292793f-a2bc-43c7-a6dd-1679a05ddeb1",
   "metadata": {},
   "outputs": [],
   "source": [
    "base_path = r\"./data/1_5_202206_요청관리_0727_01.ods\"\n",
    "sheet = f'{month}집계'\n",
    "\n",
    "df = read_ods(base_path, sheet, headers=True)\n",
    "df_filtered = df[df['리전'].apply(lambda x: True if re.search(regex, x) else False) & (df['테넌트']== 'PRD') & (df['진행상태']=='완료') & (df['월간']=='O')]\n",
    "\n",
    "# Pivoting\n",
    "pivot, total = getPivotTable(df, month)\n",
    "\n",
    "df_ = df_filtered[ (df_filtered['월']==month) ]\n",
    "total = len(df_)"
   ]
  },
  {
   "cell_type": "code",
   "execution_count": 26,
   "id": "dd953946-2909-4ef0-9306-b46ce5da4909",
   "metadata": {},
   "outputs": [],
   "source": [
    "# Chart - Pie 차트\n",
    "if region == 'All':\n",
    "    source = pivot\n",
    "    chart = getPieChart(source)\n",
    "    chart.save(f'./charts/cm_{region}_{y}_{m}_{d}_1.png')\n",
    "else:\n",
    "    pass\n",
    "\n",
    "# Chart - 라인 차트\n",
    "chart = getLineChart2(df_filtered, month)\n",
    "chart.save(f'./charts/cm_{region}_{y}_{m}_{d}_2.png')"
   ]
  },
  {
   "cell_type": "code",
   "execution_count": 27,
   "id": "a8ee068a-5666-40f0-8356-e3977cbcb0c1",
   "metadata": {},
   "outputs": [
    {
     "data": {
      "text/plain": [
       "<docx.text.paragraph.Paragraph at 0x26e3bc58c70>"
      ]
     },
     "execution_count": 27,
     "metadata": {},
     "output_type": "execute_result"
    }
   ],
   "source": [
    "# Document\n",
    "document.add_paragraph('요청 관리', style='List Number')\n",
    "document.add_paragraph(f'완료: 총 {total} 건', style='List Bullet')\n",
    "\n",
    "if region == 'All':\n",
    "    document.add_picture(f'./charts/cm_{region}_{y}_{m}_{d}_1.png')\n",
    "else:\n",
    "    pass\n",
    "\n",
    "# Document\n",
    "# addTable3(df_filtered, regex, month)\n",
    "document.add_paragraph(f'월별 추세', style='List Bullet')\n",
    "document.add_picture(f'./charts/cm_{region}_{y}_{m}_{d}_2.png')\n",
    "document.add_page_break()"
   ]
  },
  {
   "cell_type": "code",
   "execution_count": null,
   "id": "c9d270bf-d3a1-45cc-8be7-d22fda7d26bb",
   "metadata": {},
   "outputs": [],
   "source": []
  },
  {
   "cell_type": "markdown",
   "id": "408fb455-01a9-450e-9ae3-5a2ab40f50af",
   "metadata": {
    "tags": []
   },
   "source": [
    "## 1.6 자산 관리 - VM"
   ]
  },
  {
   "cell_type": "code",
   "execution_count": 28,
   "id": "80e0e4d7-6512-4dc0-8f5e-e63161d5114e",
   "metadata": {},
   "outputs": [],
   "source": [
    "base_path = r\"./data/1_6_202206_자산관리_VM_0727_01.ods\"\n",
    "sheet = f'{month}집계'\n",
    "\n",
    "df = read_ods(base_path, sheet, headers=True)\n",
    "df_filtered = df[df['리전'].apply(lambda x: True if re.search(regex, x) else False) & (df['테넌트']== 'PRD') & (df['월간']=='O')]\n",
    "\n",
    "# Pivoting\n",
    "pivot, total = getPivotTable(df, month)\n",
    "\n",
    "df_ = df_filtered[ (df_filtered['월']==month) ]\n",
    "#total = len(df_)\n",
    "total = df_['count'].sum()"
   ]
  },
  {
   "cell_type": "code",
   "execution_count": 29,
   "id": "345581d8-6383-4425-857f-79457d5449a0",
   "metadata": {},
   "outputs": [
    {
     "name": "stderr",
     "output_type": "stream",
     "text": [
      "WARN text dropped as it is incompatible with \"point\".\n"
     ]
    }
   ],
   "source": [
    "# Chart - Pie 차트\n",
    "if region == 'All':\n",
    "    source = pivot\n",
    "    chart = getPieChart(source)\n",
    "    chart.save(f'./charts/vm_{region}_{y}_{m}_{d}_1.png')\n",
    "else:\n",
    "    pass\n",
    "\n",
    "# Chart - 라인 차트\n",
    "chart = getLineChart2s(df_filtered, month)\n",
    "chart.save(f'./charts/vm_{region}_{y}_{m}_{d}_2.png')"
   ]
  },
  {
   "cell_type": "code",
   "execution_count": 30,
   "id": "1a39aab8-a7a8-49f4-89e9-b9c1dae82194",
   "metadata": {},
   "outputs": [
    {
     "data": {
      "text/html": [
       "\n",
       "<div id=\"altair-viz-00780f91a0fd4fa9a21a79d8dead6923\"></div>\n",
       "<script type=\"text/javascript\">\n",
       "  var VEGA_DEBUG = (typeof VEGA_DEBUG == \"undefined\") ? {} : VEGA_DEBUG;\n",
       "  (function(spec, embedOpt){\n",
       "    let outputDiv = document.currentScript.previousElementSibling;\n",
       "    if (outputDiv.id !== \"altair-viz-00780f91a0fd4fa9a21a79d8dead6923\") {\n",
       "      outputDiv = document.getElementById(\"altair-viz-00780f91a0fd4fa9a21a79d8dead6923\");\n",
       "    }\n",
       "    const paths = {\n",
       "      \"vega\": \"https://cdn.jsdelivr.net/npm//vega@5?noext\",\n",
       "      \"vega-lib\": \"https://cdn.jsdelivr.net/npm//vega-lib?noext\",\n",
       "      \"vega-lite\": \"https://cdn.jsdelivr.net/npm//vega-lite@4.17.0?noext\",\n",
       "      \"vega-embed\": \"https://cdn.jsdelivr.net/npm//vega-embed@6?noext\",\n",
       "    };\n",
       "\n",
       "    function maybeLoadScript(lib, version) {\n",
       "      var key = `${lib.replace(\"-\", \"\")}_version`;\n",
       "      return (VEGA_DEBUG[key] == version) ?\n",
       "        Promise.resolve(paths[lib]) :\n",
       "        new Promise(function(resolve, reject) {\n",
       "          var s = document.createElement('script');\n",
       "          document.getElementsByTagName(\"head\")[0].appendChild(s);\n",
       "          s.async = true;\n",
       "          s.onload = () => {\n",
       "            VEGA_DEBUG[key] = version;\n",
       "            return resolve(paths[lib]);\n",
       "          };\n",
       "          s.onerror = () => reject(`Error loading script: ${paths[lib]}`);\n",
       "          s.src = paths[lib];\n",
       "        });\n",
       "    }\n",
       "\n",
       "    function showError(err) {\n",
       "      outputDiv.innerHTML = `<div class=\"error\" style=\"color:red;\">${err}</div>`;\n",
       "      throw err;\n",
       "    }\n",
       "\n",
       "    function displayChart(vegaEmbed) {\n",
       "      vegaEmbed(outputDiv, spec, embedOpt)\n",
       "        .catch(err => showError(`Javascript Error: ${err.message}<br>This usually means there's a typo in your chart specification. See the javascript console for the full traceback.`));\n",
       "    }\n",
       "\n",
       "    if(typeof define === \"function\" && define.amd) {\n",
       "      requirejs.config({paths});\n",
       "      require([\"vega-embed\"], displayChart, err => showError(`Error loading script: ${err.message}`));\n",
       "    } else {\n",
       "      maybeLoadScript(\"vega\", \"5\")\n",
       "        .then(() => maybeLoadScript(\"vega-lite\", \"4.17.0\"))\n",
       "        .then(() => maybeLoadScript(\"vega-embed\", \"6\"))\n",
       "        .catch(showError)\n",
       "        .then(() => displayChart(vegaEmbed));\n",
       "    }\n",
       "  })({\"config\": {\"axis\": {\"fontSize\": 12, \"font\": \"\\ub9d1\\uc740\\uace0\\ub515\", \"anchor\": \"start\", \"fontColor\": \"#000000\"}}, \"layer\": [{\"mark\": \"point\", \"encoding\": {\"text\": {\"field\": \"\\uc131\\ud328\", \"type\": \"nominal\"}, \"x\": {\"field\": \"\\uc6d4\", \"scale\": {\"padding\": 15}, \"title\": \"\\uc6d4\\ubcc4 \\ucd94\\uc138\", \"type\": \"nominal\"}, \"y\": {\"aggregate\": \"sum\", \"field\": \"count\", \"title\": \"\\uc218\\ub7c9\", \"type\": \"quantitative\"}}}, {\"mark\": {\"type\": \"line\", \"color\": \"red\"}, \"encoding\": {\"x\": {\"field\": \"\\uc6d4\", \"title\": \"\\uc6d4\\ubcc4 \\ucd94\\uc138\", \"type\": \"nominal\"}, \"y\": {\"aggregate\": \"sum\", \"field\": \"count\", \"title\": \"\", \"type\": \"quantitative\"}}}, {\"mark\": {\"type\": \"text\", \"align\": \"center\", \"baseline\": \"line-top\", \"color\": \"black\", \"dy\": -20, \"fontSize\": 12, \"size\": 12}, \"encoding\": {\"text\": {\"aggregate\": \"sum\", \"field\": \"count\", \"type\": \"quantitative\"}, \"x\": {\"field\": \"\\uc6d4\", \"scale\": {\"padding\": 15}, \"title\": \"\\uc6d4\\ubcc4 \\ucd94\\uc138\", \"type\": \"nominal\"}, \"y\": {\"aggregate\": \"sum\", \"field\": \"count\", \"title\": \"\\uc218\\ub7c9\", \"type\": \"quantitative\"}}}], \"data\": {\"name\": \"data-166a5a0e079b72f54e1aff08917c6e81\"}, \"height\": 200, \"width\": 360, \"$schema\": \"https://vega.github.io/schema/vega-lite/v4.17.0.json\", \"datasets\": {\"data-166a5a0e079b72f54e1aff08917c6e81\": [{\"\\ub144\\ub3c4\": \"22\\ub144\", \"\\uc6d4\": \"1\\uc6d4\", \"\\ub9ac\\uc804\": \"SG\", \"AZ\": \"1\\uc13c\\ud130\", \"\\ud14c\\ub10c\\ud2b8\": \"PRD\", \"count\": 269.0, \"\\uc8fc\\uac04\": \"O\", \"\\uc6d4\\uac04\": \"O\", \"\\uc5f0\\uac04\": \"O\"}, {\"\\ub144\\ub3c4\": \"22\\ub144\", \"\\uc6d4\": \"2\\uc6d4\", \"\\ub9ac\\uc804\": \"SG\", \"AZ\": \"1\\uc13c\\ud130\", \"\\ud14c\\ub10c\\ud2b8\": \"PRD\", \"count\": 269.0, \"\\uc8fc\\uac04\": \"O\", \"\\uc6d4\\uac04\": \"O\", \"\\uc5f0\\uac04\": \"O\"}, {\"\\ub144\\ub3c4\": \"22\\ub144\", \"\\uc6d4\": \"3\\uc6d4\", \"\\ub9ac\\uc804\": \"SG\", \"AZ\": \"1\\uc13c\\ud130\", \"\\ud14c\\ub10c\\ud2b8\": \"PRD\", \"count\": 269.0, \"\\uc8fc\\uac04\": \"O\", \"\\uc6d4\\uac04\": \"O\", \"\\uc5f0\\uac04\": \"O\"}, {\"\\ub144\\ub3c4\": \"22\\ub144\", \"\\uc6d4\": \"4\\uc6d4\", \"\\ub9ac\\uc804\": \"SG\", \"AZ\": \"1\\uc13c\\ud130\", \"\\ud14c\\ub10c\\ud2b8\": \"PRD\", \"count\": 269.0, \"\\uc8fc\\uac04\": \"O\", \"\\uc6d4\\uac04\": \"O\", \"\\uc5f0\\uac04\": \"O\"}, {\"\\ub144\\ub3c4\": \"22\\ub144\", \"\\uc6d4\": \"5\\uc6d4\", \"\\ub9ac\\uc804\": \"SG\", \"AZ\": \"1\\uc13c\\ud130\", \"\\ud14c\\ub10c\\ud2b8\": \"PRD\", \"count\": 265.0, \"\\uc8fc\\uac04\": \"O\", \"\\uc6d4\\uac04\": \"O\", \"\\uc5f0\\uac04\": \"O\"}, {\"\\ub144\\ub3c4\": \"22\\ub144\", \"\\uc6d4\": \"6\\uc6d4\", \"\\ub9ac\\uc804\": \"SG\", \"AZ\": \"1\\uc13c\\ud130\", \"\\ud14c\\ub10c\\ud2b8\": \"PRD\", \"count\": 243.0, \"\\uc8fc\\uac04\": \"O\", \"\\uc6d4\\uac04\": \"O\", \"\\uc5f0\\uac04\": \"O\"}]}}, {\"mode\": \"vega-lite\"});\n",
       "</script>"
      ],
      "text/plain": [
       "alt.LayerChart(...)"
      ]
     },
     "execution_count": 30,
     "metadata": {},
     "output_type": "execute_result"
    }
   ],
   "source": [
    "chart"
   ]
  },
  {
   "cell_type": "code",
   "execution_count": 31,
   "id": "8995c174-9b7e-4bec-bacb-2d0c9e974549",
   "metadata": {},
   "outputs": [
    {
     "data": {
      "text/plain": [
       "<docx.text.paragraph.Paragraph at 0x26e3bc52c40>"
      ]
     },
     "execution_count": 31,
     "metadata": {},
     "output_type": "execute_result"
    }
   ],
   "source": [
    "# Document\n",
    "document.add_paragraph('자산 관리(vm)', style='List Number')\n",
    "document.add_paragraph(f'총 {total} 건', style='List Bullet')\n",
    "\n",
    "if region == 'All':\n",
    "    document.add_picture(f'./charts/vm_{region}_{y}_{m}_{d}_1.png')\n",
    "else:\n",
    "    pass\n",
    "\n",
    "# Document\n",
    "# addTable(df_filtered, regex, month)\n",
    "document.add_paragraph(f'월별 추세', style='List Bullet')\n",
    "document.add_picture(f'./charts/vm_{region}_{y}_{m}_{d}_2.png')\n",
    "document.add_page_break()"
   ]
  },
  {
   "cell_type": "code",
   "execution_count": null,
   "id": "5bc7bf5b-7d14-4d84-b0f4-63c46a7ad81d",
   "metadata": {},
   "outputs": [],
   "source": []
  },
  {
   "cell_type": "markdown",
   "id": "a74f917b-289e-451e-9834-1f90edb8ef2d",
   "metadata": {
    "tags": []
   },
   "source": [
    "## 1.6 자산 관리 - DB"
   ]
  },
  {
   "cell_type": "code",
   "execution_count": 32,
   "id": "93034eb6-247e-4747-ae55-db15d6d292a4",
   "metadata": {},
   "outputs": [],
   "source": [
    "base_path = r\"./data/1_6_202206_자산관리_DB_0727_01.ods\"\n",
    "sheet = f'{month}집계'\n",
    "\n",
    "df = read_ods(base_path, sheet, headers=True)\n",
    "df_filtered = df[df['리전'].apply(lambda x: True if re.search(regex, x) else False) & (df['테넌트']== 'PRD') & (df['월간']=='O')]\n",
    "\n",
    "# Pivoting\n",
    "pivot, total = getPivotTable(df_filtered, month)\n",
    "pivot2, total = getPivotTable2(df_filtered, month)\n",
    "pivot2 = pivot2.reset_index()\n",
    "\n",
    "df_ = df_filtered[ (df_filtered['월']==month) ]\n",
    "#total = len(df_)\n",
    "total = df_['count'].sum()"
   ]
  },
  {
   "cell_type": "code",
   "execution_count": 33,
   "id": "302414c1-6c15-42b4-8da0-8b661b3bf753",
   "metadata": {},
   "outputs": [
    {
     "data": {
      "text/html": [
       "<div>\n",
       "<style scoped>\n",
       "    .dataframe tbody tr th:only-of-type {\n",
       "        vertical-align: middle;\n",
       "    }\n",
       "\n",
       "    .dataframe tbody tr th {\n",
       "        vertical-align: top;\n",
       "    }\n",
       "\n",
       "    .dataframe thead th {\n",
       "        text-align: right;\n",
       "    }\n",
       "</style>\n",
       "<table border=\"1\" class=\"dataframe\">\n",
       "  <thead>\n",
       "    <tr style=\"text-align: right;\">\n",
       "      <th></th>\n",
       "      <th>리전</th>\n",
       "      <th>count</th>\n",
       "      <th>합계</th>\n",
       "      <th>비중</th>\n",
       "    </tr>\n",
       "  </thead>\n",
       "  <tbody>\n",
       "    <tr>\n",
       "      <th>0</th>\n",
       "      <td>SG</td>\n",
       "      <td>57.0</td>\n",
       "      <td>57.0</td>\n",
       "      <td>100.0</td>\n",
       "    </tr>\n",
       "  </tbody>\n",
       "</table>\n",
       "</div>"
      ],
      "text/plain": [
       "   리전  count    합계     비중\n",
       "0  SG   57.0  57.0  100.0"
      ]
     },
     "execution_count": 33,
     "metadata": {},
     "output_type": "execute_result"
    }
   ],
   "source": [
    "pivot"
   ]
  },
  {
   "cell_type": "code",
   "execution_count": 34,
   "id": "f437eab7-179d-47ed-9e6f-eab0c454b169",
   "metadata": {},
   "outputs": [
    {
     "name": "stderr",
     "output_type": "stream",
     "text": [
      "WARN text dropped as it is incompatible with \"point\".\n"
     ]
    }
   ],
   "source": [
    "# Chart - Pie 차트\n",
    "if region == 'All':\n",
    "    source = pivot\n",
    "    chart = getPieChart(source)\n",
    "    chart.save(f'./charts/db_{region}_{y}_{m}_{d}_1.png')\n",
    "else:\n",
    "    pass\n",
    "\n",
    "source = df_filtered\n",
    "chart = getBarChart2s(source, month)\n",
    "chart.save(f'./charts/db_{region}_{y}_{m}_{d}_2.png')\n",
    "\n",
    "# Chart - 라인 차트\n",
    "chart = getLineChart2s(source, month)\n",
    "chart.save(f'./charts/db_{region}_{y}_{m}_{d}_3.png')"
   ]
  },
  {
   "cell_type": "code",
   "execution_count": 35,
   "id": "b7d7312b-cfd2-4c1e-82d0-31437a6a6f43",
   "metadata": {},
   "outputs": [
    {
     "data": {
      "text/html": [
       "<div>\n",
       "<style scoped>\n",
       "    .dataframe tbody tr th:only-of-type {\n",
       "        vertical-align: middle;\n",
       "    }\n",
       "\n",
       "    .dataframe tbody tr th {\n",
       "        vertical-align: top;\n",
       "    }\n",
       "\n",
       "    .dataframe thead th {\n",
       "        text-align: right;\n",
       "    }\n",
       "</style>\n",
       "<table border=\"1\" class=\"dataframe\">\n",
       "  <thead>\n",
       "    <tr style=\"text-align: right;\">\n",
       "      <th></th>\n",
       "      <th>년도</th>\n",
       "      <th>월</th>\n",
       "      <th>리전</th>\n",
       "      <th>AZ</th>\n",
       "      <th>테넌트</th>\n",
       "      <th>유형</th>\n",
       "      <th>count</th>\n",
       "      <th>주간</th>\n",
       "      <th>월간</th>\n",
       "      <th>연간</th>\n",
       "    </tr>\n",
       "  </thead>\n",
       "  <tbody>\n",
       "    <tr>\n",
       "      <th>90</th>\n",
       "      <td>22년</td>\n",
       "      <td>1월</td>\n",
       "      <td>SG</td>\n",
       "      <td>1센터</td>\n",
       "      <td>PRD</td>\n",
       "      <td>PostgreSQL</td>\n",
       "      <td>20.0</td>\n",
       "      <td>O</td>\n",
       "      <td>O</td>\n",
       "      <td>O</td>\n",
       "    </tr>\n",
       "    <tr>\n",
       "      <th>91</th>\n",
       "      <td>22년</td>\n",
       "      <td>1월</td>\n",
       "      <td>SG</td>\n",
       "      <td>1센터</td>\n",
       "      <td>PRD</td>\n",
       "      <td>Tibero</td>\n",
       "      <td>0.0</td>\n",
       "      <td>O</td>\n",
       "      <td>O</td>\n",
       "      <td>O</td>\n",
       "    </tr>\n",
       "    <tr>\n",
       "      <th>92</th>\n",
       "      <td>22년</td>\n",
       "      <td>1월</td>\n",
       "      <td>SG</td>\n",
       "      <td>1센터</td>\n",
       "      <td>PRD</td>\n",
       "      <td>Maria</td>\n",
       "      <td>0.0</td>\n",
       "      <td>O</td>\n",
       "      <td>O</td>\n",
       "      <td>O</td>\n",
       "    </tr>\n",
       "    <tr>\n",
       "      <th>93</th>\n",
       "      <td>22년</td>\n",
       "      <td>1월</td>\n",
       "      <td>SG</td>\n",
       "      <td>1센터</td>\n",
       "      <td>PRD</td>\n",
       "      <td>Redis</td>\n",
       "      <td>18.0</td>\n",
       "      <td>O</td>\n",
       "      <td>O</td>\n",
       "      <td>O</td>\n",
       "    </tr>\n",
       "    <tr>\n",
       "      <th>94</th>\n",
       "      <td>22년</td>\n",
       "      <td>1월</td>\n",
       "      <td>SG</td>\n",
       "      <td>1센터</td>\n",
       "      <td>PRD</td>\n",
       "      <td>Mongo</td>\n",
       "      <td>4.0</td>\n",
       "      <td>O</td>\n",
       "      <td>O</td>\n",
       "      <td>O</td>\n",
       "    </tr>\n",
       "  </tbody>\n",
       "</table>\n",
       "</div>"
      ],
      "text/plain": [
       "     년도   월  리전   AZ  테넌트          유형  count 주간 월간 연간\n",
       "90  22년  1월  SG  1센터  PRD  PostgreSQL   20.0  O  O  O\n",
       "91  22년  1월  SG  1센터  PRD      Tibero    0.0  O  O  O\n",
       "92  22년  1월  SG  1센터  PRD       Maria    0.0  O  O  O\n",
       "93  22년  1월  SG  1센터  PRD       Redis   18.0  O  O  O\n",
       "94  22년  1월  SG  1센터  PRD       Mongo    4.0  O  O  O"
      ]
     },
     "execution_count": 35,
     "metadata": {},
     "output_type": "execute_result"
    }
   ],
   "source": [
    "df_filtered.head()"
   ]
  },
  {
   "cell_type": "code",
   "execution_count": 37,
   "id": "5d0996f5-3180-4185-a8cc-cb7db0bf79b4",
   "metadata": {},
   "outputs": [],
   "source": [
    "source = df_filtered\n",
    "bar = alt.Chart(source).mark_bar().encode(\n",
    "    x=alt.X('월:N'),\n",
    "    y=alt.Y('sum(count)', title=''),\n",
    "    color=alt.Color(\"유형:N\", legend=None)\n",
    ")\n",
    "line = alt.Chart(source).mark_line(color=\"red\").encode(\n",
    "    x=alt.X('월', title='월별 추세'),\n",
    "    y=alt.Y('sum(count)', title='')\n",
    ")\n",
    "text = bar.mark_text(\n",
    "    size=12,\n",
    "    align='center',\n",
    "    baseline='line-top',\n",
    "    color='black',\n",
    "    dy=-20,\n",
    "    fontSize=12,\n",
    ").encode(\n",
    "    text = 'sum(count):Q'\n",
    ")"
   ]
  },
  {
   "cell_type": "code",
   "execution_count": 39,
   "id": "0595cad3-0a1e-466e-bea2-de22bc9c02b9",
   "metadata": {},
   "outputs": [
    {
     "data": {
      "text/html": [
       "\n",
       "<div id=\"altair-viz-97a359a8579e496489dc1d30c2d8e1b3\"></div>\n",
       "<script type=\"text/javascript\">\n",
       "  var VEGA_DEBUG = (typeof VEGA_DEBUG == \"undefined\") ? {} : VEGA_DEBUG;\n",
       "  (function(spec, embedOpt){\n",
       "    let outputDiv = document.currentScript.previousElementSibling;\n",
       "    if (outputDiv.id !== \"altair-viz-97a359a8579e496489dc1d30c2d8e1b3\") {\n",
       "      outputDiv = document.getElementById(\"altair-viz-97a359a8579e496489dc1d30c2d8e1b3\");\n",
       "    }\n",
       "    const paths = {\n",
       "      \"vega\": \"https://cdn.jsdelivr.net/npm//vega@5?noext\",\n",
       "      \"vega-lib\": \"https://cdn.jsdelivr.net/npm//vega-lib?noext\",\n",
       "      \"vega-lite\": \"https://cdn.jsdelivr.net/npm//vega-lite@4.17.0?noext\",\n",
       "      \"vega-embed\": \"https://cdn.jsdelivr.net/npm//vega-embed@6?noext\",\n",
       "    };\n",
       "\n",
       "    function maybeLoadScript(lib, version) {\n",
       "      var key = `${lib.replace(\"-\", \"\")}_version`;\n",
       "      return (VEGA_DEBUG[key] == version) ?\n",
       "        Promise.resolve(paths[lib]) :\n",
       "        new Promise(function(resolve, reject) {\n",
       "          var s = document.createElement('script');\n",
       "          document.getElementsByTagName(\"head\")[0].appendChild(s);\n",
       "          s.async = true;\n",
       "          s.onload = () => {\n",
       "            VEGA_DEBUG[key] = version;\n",
       "            return resolve(paths[lib]);\n",
       "          };\n",
       "          s.onerror = () => reject(`Error loading script: ${paths[lib]}`);\n",
       "          s.src = paths[lib];\n",
       "        });\n",
       "    }\n",
       "\n",
       "    function showError(err) {\n",
       "      outputDiv.innerHTML = `<div class=\"error\" style=\"color:red;\">${err}</div>`;\n",
       "      throw err;\n",
       "    }\n",
       "\n",
       "    function displayChart(vegaEmbed) {\n",
       "      vegaEmbed(outputDiv, spec, embedOpt)\n",
       "        .catch(err => showError(`Javascript Error: ${err.message}<br>This usually means there's a typo in your chart specification. See the javascript console for the full traceback.`));\n",
       "    }\n",
       "\n",
       "    if(typeof define === \"function\" && define.amd) {\n",
       "      requirejs.config({paths});\n",
       "      require([\"vega-embed\"], displayChart, err => showError(`Error loading script: ${err.message}`));\n",
       "    } else {\n",
       "      maybeLoadScript(\"vega\", \"5\")\n",
       "        .then(() => maybeLoadScript(\"vega-lite\", \"4.17.0\"))\n",
       "        .then(() => maybeLoadScript(\"vega-embed\", \"6\"))\n",
       "        .catch(showError)\n",
       "        .then(() => displayChart(vegaEmbed));\n",
       "    }\n",
       "  })({\"config\": {\"axis\": {\"fontSize\": 12, \"font\": \"\\ub9d1\\uc740\\uace0\\ub515\", \"anchor\": \"start\", \"fontColor\": \"#000000\"}}, \"layer\": [{\"mark\": \"bar\", \"encoding\": {\"color\": {\"field\": \"\\uc720\\ud615\", \"legend\": null, \"type\": \"nominal\"}, \"x\": {\"field\": \"\\uc6d4\", \"type\": \"nominal\"}, \"y\": {\"aggregate\": \"sum\", \"field\": \"count\", \"title\": \"\", \"type\": \"quantitative\"}}}, {\"mark\": {\"type\": \"line\", \"color\": \"red\"}, \"encoding\": {\"x\": {\"field\": \"\\uc6d4\", \"title\": \"\\uc6d4\\ubcc4 \\ucd94\\uc138\", \"type\": \"nominal\"}, \"y\": {\"aggregate\": \"sum\", \"field\": \"count\", \"title\": \"\", \"type\": \"quantitative\"}}}], \"data\": {\"name\": \"data-919b5e6494735836b6fdce94d9b4b256\"}, \"$schema\": \"https://vega.github.io/schema/vega-lite/v4.17.0.json\", \"datasets\": {\"data-919b5e6494735836b6fdce94d9b4b256\": [{\"\\ub144\\ub3c4\": \"22\\ub144\", \"\\uc6d4\": \"1\\uc6d4\", \"\\ub9ac\\uc804\": \"SG\", \"AZ\": \"1\\uc13c\\ud130\", \"\\ud14c\\ub10c\\ud2b8\": \"PRD\", \"\\uc720\\ud615\": \"PostgreSQL\", \"count\": 20.0, \"\\uc8fc\\uac04\": \"O\", \"\\uc6d4\\uac04\": \"O\", \"\\uc5f0\\uac04\": \"O\"}, {\"\\ub144\\ub3c4\": \"22\\ub144\", \"\\uc6d4\": \"1\\uc6d4\", \"\\ub9ac\\uc804\": \"SG\", \"AZ\": \"1\\uc13c\\ud130\", \"\\ud14c\\ub10c\\ud2b8\": \"PRD\", \"\\uc720\\ud615\": \"Tibero\", \"count\": 0.0, \"\\uc8fc\\uac04\": \"O\", \"\\uc6d4\\uac04\": \"O\", \"\\uc5f0\\uac04\": \"O\"}, {\"\\ub144\\ub3c4\": \"22\\ub144\", \"\\uc6d4\": \"1\\uc6d4\", \"\\ub9ac\\uc804\": \"SG\", \"AZ\": \"1\\uc13c\\ud130\", \"\\ud14c\\ub10c\\ud2b8\": \"PRD\", \"\\uc720\\ud615\": \"Maria\", \"count\": 0.0, \"\\uc8fc\\uac04\": \"O\", \"\\uc6d4\\uac04\": \"O\", \"\\uc5f0\\uac04\": \"O\"}, {\"\\ub144\\ub3c4\": \"22\\ub144\", \"\\uc6d4\": \"1\\uc6d4\", \"\\ub9ac\\uc804\": \"SG\", \"AZ\": \"1\\uc13c\\ud130\", \"\\ud14c\\ub10c\\ud2b8\": \"PRD\", \"\\uc720\\ud615\": \"Redis\", \"count\": 18.0, \"\\uc8fc\\uac04\": \"O\", \"\\uc6d4\\uac04\": \"O\", \"\\uc5f0\\uac04\": \"O\"}, {\"\\ub144\\ub3c4\": \"22\\ub144\", \"\\uc6d4\": \"1\\uc6d4\", \"\\ub9ac\\uc804\": \"SG\", \"AZ\": \"1\\uc13c\\ud130\", \"\\ud14c\\ub10c\\ud2b8\": \"PRD\", \"\\uc720\\ud615\": \"Mongo\", \"count\": 4.0, \"\\uc8fc\\uac04\": \"O\", \"\\uc6d4\\uac04\": \"O\", \"\\uc5f0\\uac04\": \"O\"}, {\"\\ub144\\ub3c4\": \"22\\ub144\", \"\\uc6d4\": \"2\\uc6d4\", \"\\ub9ac\\uc804\": \"SG\", \"AZ\": \"1\\uc13c\\ud130\", \"\\ud14c\\ub10c\\ud2b8\": \"PRD\", \"\\uc720\\ud615\": \"PostgreSQL\", \"count\": 24.0, \"\\uc8fc\\uac04\": \"O\", \"\\uc6d4\\uac04\": \"O\", \"\\uc5f0\\uac04\": \"O\"}, {\"\\ub144\\ub3c4\": \"22\\ub144\", \"\\uc6d4\": \"2\\uc6d4\", \"\\ub9ac\\uc804\": \"SG\", \"AZ\": \"1\\uc13c\\ud130\", \"\\ud14c\\ub10c\\ud2b8\": \"PRD\", \"\\uc720\\ud615\": \"Tibero\", \"count\": 0.0, \"\\uc8fc\\uac04\": \"O\", \"\\uc6d4\\uac04\": \"O\", \"\\uc5f0\\uac04\": \"O\"}, {\"\\ub144\\ub3c4\": \"22\\ub144\", \"\\uc6d4\": \"2\\uc6d4\", \"\\ub9ac\\uc804\": \"SG\", \"AZ\": \"1\\uc13c\\ud130\", \"\\ud14c\\ub10c\\ud2b8\": \"PRD\", \"\\uc720\\ud615\": \"Maria\", \"count\": 0.0, \"\\uc8fc\\uac04\": \"O\", \"\\uc6d4\\uac04\": \"O\", \"\\uc5f0\\uac04\": \"O\"}, {\"\\ub144\\ub3c4\": \"22\\ub144\", \"\\uc6d4\": \"2\\uc6d4\", \"\\ub9ac\\uc804\": \"SG\", \"AZ\": \"1\\uc13c\\ud130\", \"\\ud14c\\ub10c\\ud2b8\": \"PRD\", \"\\uc720\\ud615\": \"Redis\", \"count\": 18.0, \"\\uc8fc\\uac04\": \"O\", \"\\uc6d4\\uac04\": \"O\", \"\\uc5f0\\uac04\": \"O\"}, {\"\\ub144\\ub3c4\": \"22\\ub144\", \"\\uc6d4\": \"2\\uc6d4\", \"\\ub9ac\\uc804\": \"SG\", \"AZ\": \"1\\uc13c\\ud130\", \"\\ud14c\\ub10c\\ud2b8\": \"PRD\", \"\\uc720\\ud615\": \"Mongo\", \"count\": 4.0, \"\\uc8fc\\uac04\": \"O\", \"\\uc6d4\\uac04\": \"O\", \"\\uc5f0\\uac04\": \"O\"}, {\"\\ub144\\ub3c4\": \"22\\ub144\", \"\\uc6d4\": \"3\\uc6d4\", \"\\ub9ac\\uc804\": \"SG\", \"AZ\": \"1\\uc13c\\ud130\", \"\\ud14c\\ub10c\\ud2b8\": \"PRD\", \"\\uc720\\ud615\": \"PostgreSQL\", \"count\": 24.0, \"\\uc8fc\\uac04\": \"O\", \"\\uc6d4\\uac04\": \"O\", \"\\uc5f0\\uac04\": \"O\"}, {\"\\ub144\\ub3c4\": \"22\\ub144\", \"\\uc6d4\": \"3\\uc6d4\", \"\\ub9ac\\uc804\": \"SG\", \"AZ\": \"1\\uc13c\\ud130\", \"\\ud14c\\ub10c\\ud2b8\": \"PRD\", \"\\uc720\\ud615\": \"Tibero\", \"count\": 0.0, \"\\uc8fc\\uac04\": \"O\", \"\\uc6d4\\uac04\": \"O\", \"\\uc5f0\\uac04\": \"O\"}, {\"\\ub144\\ub3c4\": \"22\\ub144\", \"\\uc6d4\": \"3\\uc6d4\", \"\\ub9ac\\uc804\": \"SG\", \"AZ\": \"1\\uc13c\\ud130\", \"\\ud14c\\ub10c\\ud2b8\": \"PRD\", \"\\uc720\\ud615\": \"Maria\", \"count\": 0.0, \"\\uc8fc\\uac04\": \"O\", \"\\uc6d4\\uac04\": \"O\", \"\\uc5f0\\uac04\": \"O\"}, {\"\\ub144\\ub3c4\": \"22\\ub144\", \"\\uc6d4\": \"3\\uc6d4\", \"\\ub9ac\\uc804\": \"SG\", \"AZ\": \"1\\uc13c\\ud130\", \"\\ud14c\\ub10c\\ud2b8\": \"PRD\", \"\\uc720\\ud615\": \"Redis\", \"count\": 24.0, \"\\uc8fc\\uac04\": \"O\", \"\\uc6d4\\uac04\": \"O\", \"\\uc5f0\\uac04\": \"O\"}, {\"\\ub144\\ub3c4\": \"22\\ub144\", \"\\uc6d4\": \"3\\uc6d4\", \"\\ub9ac\\uc804\": \"SG\", \"AZ\": \"1\\uc13c\\ud130\", \"\\ud14c\\ub10c\\ud2b8\": \"PRD\", \"\\uc720\\ud615\": \"Mongo\", \"count\": 7.0, \"\\uc8fc\\uac04\": \"O\", \"\\uc6d4\\uac04\": \"O\", \"\\uc5f0\\uac04\": \"O\"}, {\"\\ub144\\ub3c4\": \"22\\ub144\", \"\\uc6d4\": \"4\\uc6d4\", \"\\ub9ac\\uc804\": \"SG\", \"AZ\": \"1\\uc13c\\ud130\", \"\\ud14c\\ub10c\\ud2b8\": \"PRD\", \"\\uc720\\ud615\": \"PostgreSQL\", \"count\": 24.0, \"\\uc8fc\\uac04\": \"O\", \"\\uc6d4\\uac04\": \"O\", \"\\uc5f0\\uac04\": \"O\"}, {\"\\ub144\\ub3c4\": \"22\\ub144\", \"\\uc6d4\": \"4\\uc6d4\", \"\\ub9ac\\uc804\": \"SG\", \"AZ\": \"1\\uc13c\\ud130\", \"\\ud14c\\ub10c\\ud2b8\": \"PRD\", \"\\uc720\\ud615\": \"Tibero\", \"count\": 0.0, \"\\uc8fc\\uac04\": \"O\", \"\\uc6d4\\uac04\": \"O\", \"\\uc5f0\\uac04\": \"O\"}, {\"\\ub144\\ub3c4\": \"22\\ub144\", \"\\uc6d4\": \"4\\uc6d4\", \"\\ub9ac\\uc804\": \"SG\", \"AZ\": \"1\\uc13c\\ud130\", \"\\ud14c\\ub10c\\ud2b8\": \"PRD\", \"\\uc720\\ud615\": \"Maria\", \"count\": 0.0, \"\\uc8fc\\uac04\": \"O\", \"\\uc6d4\\uac04\": \"O\", \"\\uc5f0\\uac04\": \"O\"}, {\"\\ub144\\ub3c4\": \"22\\ub144\", \"\\uc6d4\": \"4\\uc6d4\", \"\\ub9ac\\uc804\": \"SG\", \"AZ\": \"1\\uc13c\\ud130\", \"\\ud14c\\ub10c\\ud2b8\": \"PRD\", \"\\uc720\\ud615\": \"Redis\", \"count\": 26.0, \"\\uc8fc\\uac04\": \"O\", \"\\uc6d4\\uac04\": \"O\", \"\\uc5f0\\uac04\": \"O\"}, {\"\\ub144\\ub3c4\": \"22\\ub144\", \"\\uc6d4\": \"4\\uc6d4\", \"\\ub9ac\\uc804\": \"SG\", \"AZ\": \"1\\uc13c\\ud130\", \"\\ud14c\\ub10c\\ud2b8\": \"PRD\", \"\\uc720\\ud615\": \"Mongo\", \"count\": 7.0, \"\\uc8fc\\uac04\": \"O\", \"\\uc6d4\\uac04\": \"O\", \"\\uc5f0\\uac04\": \"O\"}, {\"\\ub144\\ub3c4\": \"22\\ub144\", \"\\uc6d4\": \"5\\uc6d4\", \"\\ub9ac\\uc804\": \"SG\", \"AZ\": \"1\\uc13c\\ud130\", \"\\ud14c\\ub10c\\ud2b8\": \"PRD\", \"\\uc720\\ud615\": \"PostgreSQL\", \"count\": 24.0, \"\\uc8fc\\uac04\": \"O\", \"\\uc6d4\\uac04\": \"O\", \"\\uc5f0\\uac04\": \"O\"}, {\"\\ub144\\ub3c4\": \"22\\ub144\", \"\\uc6d4\": \"5\\uc6d4\", \"\\ub9ac\\uc804\": \"SG\", \"AZ\": \"1\\uc13c\\ud130\", \"\\ud14c\\ub10c\\ud2b8\": \"PRD\", \"\\uc720\\ud615\": \"Tibero\", \"count\": 0.0, \"\\uc8fc\\uac04\": \"O\", \"\\uc6d4\\uac04\": \"O\", \"\\uc5f0\\uac04\": \"O\"}, {\"\\ub144\\ub3c4\": \"22\\ub144\", \"\\uc6d4\": \"5\\uc6d4\", \"\\ub9ac\\uc804\": \"SG\", \"AZ\": \"1\\uc13c\\ud130\", \"\\ud14c\\ub10c\\ud2b8\": \"PRD\", \"\\uc720\\ud615\": \"Maria\", \"count\": 0.0, \"\\uc8fc\\uac04\": \"O\", \"\\uc6d4\\uac04\": \"O\", \"\\uc5f0\\uac04\": \"O\"}, {\"\\ub144\\ub3c4\": \"22\\ub144\", \"\\uc6d4\": \"5\\uc6d4\", \"\\ub9ac\\uc804\": \"SG\", \"AZ\": \"1\\uc13c\\ud130\", \"\\ud14c\\ub10c\\ud2b8\": \"PRD\", \"\\uc720\\ud615\": \"Redis\", \"count\": 26.0, \"\\uc8fc\\uac04\": \"O\", \"\\uc6d4\\uac04\": \"O\", \"\\uc5f0\\uac04\": \"O\"}, {\"\\ub144\\ub3c4\": \"22\\ub144\", \"\\uc6d4\": \"5\\uc6d4\", \"\\ub9ac\\uc804\": \"SG\", \"AZ\": \"1\\uc13c\\ud130\", \"\\ud14c\\ub10c\\ud2b8\": \"PRD\", \"\\uc720\\ud615\": \"Mongo\", \"count\": 7.0, \"\\uc8fc\\uac04\": \"O\", \"\\uc6d4\\uac04\": \"O\", \"\\uc5f0\\uac04\": \"O\"}, {\"\\ub144\\ub3c4\": \"22\\ub144\", \"\\uc6d4\": \"6\\uc6d4\", \"\\ub9ac\\uc804\": \"SG\", \"AZ\": \"1\\uc13c\\ud130\", \"\\ud14c\\ub10c\\ud2b8\": \"PRD\", \"\\uc720\\ud615\": \"PostgreSQL\", \"count\": 24.0, \"\\uc8fc\\uac04\": \"O\", \"\\uc6d4\\uac04\": \"O\", \"\\uc5f0\\uac04\": \"O\"}, {\"\\ub144\\ub3c4\": \"22\\ub144\", \"\\uc6d4\": \"6\\uc6d4\", \"\\ub9ac\\uc804\": \"SG\", \"AZ\": \"1\\uc13c\\ud130\", \"\\ud14c\\ub10c\\ud2b8\": \"PRD\", \"\\uc720\\ud615\": \"Tibero\", \"count\": 0.0, \"\\uc8fc\\uac04\": \"O\", \"\\uc6d4\\uac04\": \"O\", \"\\uc5f0\\uac04\": \"O\"}, {\"\\ub144\\ub3c4\": \"22\\ub144\", \"\\uc6d4\": \"6\\uc6d4\", \"\\ub9ac\\uc804\": \"SG\", \"AZ\": \"1\\uc13c\\ud130\", \"\\ud14c\\ub10c\\ud2b8\": \"PRD\", \"\\uc720\\ud615\": \"Maria\", \"count\": 0.0, \"\\uc8fc\\uac04\": \"O\", \"\\uc6d4\\uac04\": \"O\", \"\\uc5f0\\uac04\": \"O\"}, {\"\\ub144\\ub3c4\": \"22\\ub144\", \"\\uc6d4\": \"6\\uc6d4\", \"\\ub9ac\\uc804\": \"SG\", \"AZ\": \"1\\uc13c\\ud130\", \"\\ud14c\\ub10c\\ud2b8\": \"PRD\", \"\\uc720\\ud615\": \"Redis\", \"count\": 26.0, \"\\uc8fc\\uac04\": \"O\", \"\\uc6d4\\uac04\": \"O\", \"\\uc5f0\\uac04\": \"O\"}, {\"\\ub144\\ub3c4\": \"22\\ub144\", \"\\uc6d4\": \"6\\uc6d4\", \"\\ub9ac\\uc804\": \"SG\", \"AZ\": \"1\\uc13c\\ud130\", \"\\ud14c\\ub10c\\ud2b8\": \"PRD\", \"\\uc720\\ud615\": \"Mongo\", \"count\": 7.0, \"\\uc8fc\\uac04\": \"O\", \"\\uc6d4\\uac04\": \"O\", \"\\uc5f0\\uac04\": \"O\"}]}}, {\"mode\": \"vega-lite\"});\n",
       "</script>"
      ],
      "text/plain": [
       "alt.LayerChart(...)"
      ]
     },
     "execution_count": 39,
     "metadata": {},
     "output_type": "execute_result"
    }
   ],
   "source": [
    "bar + line "
   ]
  },
  {
   "cell_type": "code",
   "execution_count": null,
   "id": "46572a2f-e36a-4c36-a53b-81bcda9050e8",
   "metadata": {},
   "outputs": [],
   "source": [
    "chart"
   ]
  },
  {
   "cell_type": "code",
   "execution_count": 40,
   "id": "280e6302-ce5c-4ed6-bac3-50f5c3f9bfaa",
   "metadata": {},
   "outputs": [
    {
     "data": {
      "text/plain": [
       "<docx.text.paragraph.Paragraph at 0x26e3c075e80>"
      ]
     },
     "execution_count": 40,
     "metadata": {},
     "output_type": "execute_result"
    }
   ],
   "source": [
    "document.add_paragraph('자산 관리(db)', style='List Number')\n",
    "document.add_paragraph(f'총 {total} 건', style='List Bullet')\n",
    "\n",
    "if region == 'All':\n",
    "    document.add_picture(f'./charts/db_{region}_{y}_{m}_{d}_1.png')\n",
    "    \n",
    "    # Document\n",
    "    addPivot2Table(pivot2)\n",
    "else:\n",
    "    pass\n",
    "\n",
    "document.add_picture(f'./charts/db_{region}_{y}_{m}_{d}_2.png')\n",
    "p = document.add_paragraph('')\n",
    "run = p.add_run()\n",
    "run.add_break(WD_BREAK.LINE)\n",
    "\n",
    "# document.add_picture(f'./charts/db_{region}_{y}_{m}_{d}_2.png')\n",
    "document.add_paragraph(f'월별 추세', style='List Bullet')\n",
    "document.add_picture(f'./charts/db_{region}_{y}_{m}_{d}_3.png')\n",
    "document.add_page_break()"
   ]
  },
  {
   "cell_type": "code",
   "execution_count": null,
   "id": "096f7d6b-e911-4dde-819a-1922b9752743",
   "metadata": {},
   "outputs": [],
   "source": []
  },
  {
   "cell_type": "markdown",
   "id": "9fab55b5-ae5a-4aec-bc49-8f13c7bd8bf8",
   "metadata": {
    "tags": []
   },
   "source": [
    "## 1.6 자산 관리 - K8s"
   ]
  },
  {
   "cell_type": "code",
   "execution_count": 41,
   "id": "b0ef7bde-3629-48cc-94bf-246ae946666d",
   "metadata": {},
   "outputs": [],
   "source": [
    "base_path = r\"./data/1_6_202206_자산관리_k8s_0727_01.ods\"\n",
    "sheet = f'{month}집계'\n",
    "\n",
    "df = read_ods(base_path, sheet, headers=True)\n",
    "df_filtered = df[df['리전'].apply(lambda x: True if re.search(regex, x) else False) & (df['테넌트']== 'PRD') & (df['월간']=='O')]\n",
    "\n",
    "# Pivoting\n",
    "pivot, total = getPivotTable(df, month)\n",
    "\n",
    "df_ = df_filtered[ (df_filtered['월']==month) ]\n",
    "total = len(df_)"
   ]
  },
  {
   "cell_type": "code",
   "execution_count": 42,
   "id": "13ec2791-07ab-42f9-9d01-310a128fec46",
   "metadata": {},
   "outputs": [],
   "source": [
    "# Chart - Bar 차트\n",
    "if region == 'All':\n",
    "    source = pivot\n",
    "    chart = getPieChart(source)\n",
    "    chart.save(f'./charts/k8s_{region}_{y}_{m}_{d}_1.png')\n",
    "else:\n",
    "    pass\n",
    "\n",
    "# source = df_\n",
    "# chart = getBarChart(source)\n",
    "# chart.save(f'./charts/k8s_{region}_{y}_{m}_{d}_2.png')\n",
    "    \n",
    "# Chart - Line 차트\n",
    "chart = getLineChart2(df_filtered, month)\n",
    "chart.save(f'./charts/k8s_{region}_{y}_{m}_{d}_3.png')"
   ]
  },
  {
   "cell_type": "code",
   "execution_count": 43,
   "id": "741c73f1-7446-4d60-8ab1-3b6f09677eaf",
   "metadata": {},
   "outputs": [
    {
     "data": {
      "text/html": [
       "\n",
       "<div id=\"altair-viz-d61e4dd3f65b4bb39371cee9a99fddc4\"></div>\n",
       "<script type=\"text/javascript\">\n",
       "  var VEGA_DEBUG = (typeof VEGA_DEBUG == \"undefined\") ? {} : VEGA_DEBUG;\n",
       "  (function(spec, embedOpt){\n",
       "    let outputDiv = document.currentScript.previousElementSibling;\n",
       "    if (outputDiv.id !== \"altair-viz-d61e4dd3f65b4bb39371cee9a99fddc4\") {\n",
       "      outputDiv = document.getElementById(\"altair-viz-d61e4dd3f65b4bb39371cee9a99fddc4\");\n",
       "    }\n",
       "    const paths = {\n",
       "      \"vega\": \"https://cdn.jsdelivr.net/npm//vega@5?noext\",\n",
       "      \"vega-lib\": \"https://cdn.jsdelivr.net/npm//vega-lib?noext\",\n",
       "      \"vega-lite\": \"https://cdn.jsdelivr.net/npm//vega-lite@4.17.0?noext\",\n",
       "      \"vega-embed\": \"https://cdn.jsdelivr.net/npm//vega-embed@6?noext\",\n",
       "    };\n",
       "\n",
       "    function maybeLoadScript(lib, version) {\n",
       "      var key = `${lib.replace(\"-\", \"\")}_version`;\n",
       "      return (VEGA_DEBUG[key] == version) ?\n",
       "        Promise.resolve(paths[lib]) :\n",
       "        new Promise(function(resolve, reject) {\n",
       "          var s = document.createElement('script');\n",
       "          document.getElementsByTagName(\"head\")[0].appendChild(s);\n",
       "          s.async = true;\n",
       "          s.onload = () => {\n",
       "            VEGA_DEBUG[key] = version;\n",
       "            return resolve(paths[lib]);\n",
       "          };\n",
       "          s.onerror = () => reject(`Error loading script: ${paths[lib]}`);\n",
       "          s.src = paths[lib];\n",
       "        });\n",
       "    }\n",
       "\n",
       "    function showError(err) {\n",
       "      outputDiv.innerHTML = `<div class=\"error\" style=\"color:red;\">${err}</div>`;\n",
       "      throw err;\n",
       "    }\n",
       "\n",
       "    function displayChart(vegaEmbed) {\n",
       "      vegaEmbed(outputDiv, spec, embedOpt)\n",
       "        .catch(err => showError(`Javascript Error: ${err.message}<br>This usually means there's a typo in your chart specification. See the javascript console for the full traceback.`));\n",
       "    }\n",
       "\n",
       "    if(typeof define === \"function\" && define.amd) {\n",
       "      requirejs.config({paths});\n",
       "      require([\"vega-embed\"], displayChart, err => showError(`Error loading script: ${err.message}`));\n",
       "    } else {\n",
       "      maybeLoadScript(\"vega\", \"5\")\n",
       "        .then(() => maybeLoadScript(\"vega-lite\", \"4.17.0\"))\n",
       "        .then(() => maybeLoadScript(\"vega-embed\", \"6\"))\n",
       "        .catch(showError)\n",
       "        .then(() => displayChart(vegaEmbed));\n",
       "    }\n",
       "  })({\"config\": {\"axis\": {\"fontSize\": 12, \"font\": \"\\ub9d1\\uc740\\uace0\\ub515\", \"anchor\": \"start\", \"fontColor\": \"#000000\"}}, \"layer\": [{\"mark\": \"point\", \"encoding\": {\"color\": {\"field\": \"\\ub9ac\\uc804\", \"type\": \"nominal\"}, \"x\": {\"field\": \"\\uc6d4\", \"scale\": {\"padding\": 15}, \"title\": \"\\uc6d4\\ubcc4 \\ucd94\\uc138\", \"type\": \"nominal\"}, \"y\": {\"aggregate\": \"count\", \"title\": \"\\ubc1c\\uc0dd \\uac74\\uc218\", \"type\": \"quantitative\"}}}, {\"mark\": {\"type\": \"line\", \"color\": \"red\"}, \"encoding\": {\"x\": {\"field\": \"\\uc6d4\", \"title\": \"\\uc6d4\\ubcc4 \\ucd94\\uc138\", \"type\": \"nominal\"}, \"y\": {\"aggregate\": \"count\", \"title\": \"\", \"type\": \"quantitative\"}}}, {\"mark\": {\"type\": \"text\", \"align\": \"center\", \"baseline\": \"line-top\", \"color\": \"black\", \"dy\": -20, \"fontSize\": 12, \"size\": 12}, \"encoding\": {\"color\": {\"field\": \"\\ub9ac\\uc804\", \"type\": \"nominal\"}, \"text\": {\"aggregate\": \"count\", \"field\": \"\\uc131\\ud328\", \"type\": \"quantitative\"}, \"x\": {\"field\": \"\\uc6d4\", \"scale\": {\"padding\": 15}, \"title\": \"\\uc6d4\\ubcc4 \\ucd94\\uc138\", \"type\": \"nominal\"}, \"y\": {\"aggregate\": \"count\", \"title\": \"\\ubc1c\\uc0dd \\uac74\\uc218\", \"type\": \"quantitative\"}}}], \"data\": {\"name\": \"data-69ea1bcd81875e3497794c0726d85d0b\"}, \"height\": 200, \"width\": 360, \"$schema\": \"https://vega.github.io/schema/vega-lite/v4.17.0.json\", \"datasets\": {\"data-69ea1bcd81875e3497794c0726d85d0b\": [{\"\\ub144\\ub3c4\": \"22\\ub144\", \"\\uc6d4\": \"6\\uc6d4\", \"\\ub9ac\\uc804\": \"SG\", \"AZ\": \"1\\uc13c\\ud130\", \"\\ud14c\\ub10c\\ud2b8\": \"PRD\", \"\\uad6c\\ubd84\": \"VM\", \"\\ud074\\ub7ec\\uc2a4\\ud130\\uba85\": \"local\", \"K8S Version\": \"v1.19.6\", \"\\ub178\\ub4dc\\uc218\": 3.0, \"CPU_\\ud560\\ub2f9\\uc728_Cores\": 12.0, \"CPU_\\uc0ac\\uc6a9\\ub960_Cores\": 3.5, \"CPU_\\uc0ac\\uc6a9\\uc728\": 0.2916666666666667, \"RAM_\\ud560\\ub2f9\\uc728_GB\": 46.2, \"RAM_\\uc0ac\\uc6a9\\ub960_GB\": 5.1, \"RAM_\\uc0ac\\uc6a9\\uc728\": 0.11038961038961037, \"\\ub2f4\\ub2f9\\ud300\": null, \"\\ubc30\\ud3ec\\ubc29\\uc2dd\": \"Rancher\", \"\\ub80c\\ucc98 \\ubaa8\\ub2c8\\ud130\\ub9c1 \\uc124\\uce58 \\uc720\\ubb34\": null, \"\\ubaa8\\ub2c8\\ud130\\ub9c1\\ud234\\uc124\\uce58_\\uc720\\ubb34\": \"X\", \"\\uc8fc\\uac04\": \"O\", \"\\uc5f0\\uac04\": \"O\", \"\\uc6d4\\uac04\": \"O\"}, {\"\\ub144\\ub3c4\": \"22\\ub144\", \"\\uc6d4\": \"6\\uc6d4\", \"\\ub9ac\\uc804\": \"SG\", \"AZ\": \"1\\uc13c\\ud130\", \"\\ud14c\\ub10c\\ud2b8\": \"PRD\", \"\\uad6c\\ubd84\": \"VM\", \"\\ud074\\ub7ec\\uc2a4\\ud130\\uba85\": \"hubble-prd\", \"K8S Version\": \"v1.19.6\", \"\\ub178\\ub4dc\\uc218\": 7.0, \"CPU_\\ud560\\ub2f9\\uc728_Cores\": 32.0, \"CPU_\\uc0ac\\uc6a9\\ub960_Cores\": 15.3, \"CPU_\\uc0ac\\uc6a9\\uc728\": 0.478125, \"RAM_\\ud560\\ub2f9\\uc728_GB\": 61.7, \"RAM_\\uc0ac\\uc6a9\\ub960_GB\": 20.8, \"RAM_\\uc0ac\\uc6a9\\uc728\": 0.3371150729335494, \"\\ub2f4\\ub2f9\\ud300\": null, \"\\ubc30\\ud3ec\\ubc29\\uc2dd\": \"Rancher\", \"\\ub80c\\ucc98 \\ubaa8\\ub2c8\\ud130\\ub9c1 \\uc124\\uce58 \\uc720\\ubb34\": null, \"\\ubaa8\\ub2c8\\ud130\\ub9c1\\ud234\\uc124\\uce58_\\uc720\\ubb34\": \"X\", \"\\uc8fc\\uac04\": \"O\", \"\\uc5f0\\uac04\": \"O\", \"\\uc6d4\\uac04\": \"O\"}, {\"\\ub144\\ub3c4\": \"22\\ub144\", \"\\uc6d4\": \"6\\uc6d4\", \"\\ub9ac\\uc804\": \"SG\", \"AZ\": \"1\\uc13c\\ud130\", \"\\ud14c\\ub10c\\ud2b8\": \"PRD\", \"\\uad6c\\ubd84\": \"VM\", \"\\ud074\\ub7ec\\uc2a4\\ud130\\uba85\": \"hclouddemo-prd\", \"K8S Version\": \"v1.19.6\", \"\\ub178\\ub4dc\\uc218\": 4.0, \"CPU_\\ud560\\ub2f9\\uc728_Cores\": 4.0, \"CPU_\\uc0ac\\uc6a9\\ub960_Cores\": 0.4, \"CPU_\\uc0ac\\uc6a9\\uc728\": 0.1, \"RAM_\\ud560\\ub2f9\\uc728_GB\": 15.4, \"RAM_\\uc0ac\\uc6a9\\ub960_GB\": 0.1, \"RAM_\\uc0ac\\uc6a9\\uc728\": 0.006493506493506494, \"\\ub2f4\\ub2f9\\ud300\": null, \"\\ubc30\\ud3ec\\ubc29\\uc2dd\": \"Rancher\", \"\\ub80c\\ucc98 \\ubaa8\\ub2c8\\ud130\\ub9c1 \\uc124\\uce58 \\uc720\\ubb34\": null, \"\\ubaa8\\ub2c8\\ud130\\ub9c1\\ud234\\uc124\\uce58_\\uc720\\ubb34\": \"X\", \"\\uc8fc\\uac04\": \"O\", \"\\uc5f0\\uac04\": \"O\", \"\\uc6d4\\uac04\": \"O\"}, {\"\\ub144\\ub3c4\": \"22\\ub144\", \"\\uc6d4\": \"6\\uc6d4\", \"\\ub9ac\\uc804\": \"SG\", \"AZ\": \"1\\uc13c\\ud130\", \"\\ud14c\\ub10c\\ud2b8\": \"PRD\", \"\\uad6c\\ubd84\": \"VM\", \"\\ud074\\ub7ec\\uc2a4\\ud130\\uba85\": \"ccsau-svchubcore-prd\", \"K8S Version\": \"v1.19.6\", \"\\ub178\\ub4dc\\uc218\": 14.0, \"CPU_\\ud560\\ub2f9\\uc728_Cores\": 88.0, \"CPU_\\uc0ac\\uc6a9\\ub960_Cores\": 81.8, \"CPU_\\uc0ac\\uc6a9\\uc728\": 0.9295454545454546, \"RAM_\\ud560\\ub2f9\\uc728_GB\": 343.0, \"RAM_\\uc0ac\\uc6a9\\ub960_GB\": 183.0, \"RAM_\\uc0ac\\uc6a9\\uc728\": 0.5335276967930029, \"\\ub2f4\\ub2f9\\ud300\": null, \"\\ubc30\\ud3ec\\ubc29\\uc2dd\": \"Rancher\", \"\\ub80c\\ucc98 \\ubaa8\\ub2c8\\ud130\\ub9c1 \\uc124\\uce58 \\uc720\\ubb34\": null, \"\\ubaa8\\ub2c8\\ud130\\ub9c1\\ud234\\uc124\\uce58_\\uc720\\ubb34\": \"X\", \"\\uc8fc\\uac04\": \"O\", \"\\uc5f0\\uac04\": \"O\", \"\\uc6d4\\uac04\": \"O\"}, {\"\\ub144\\ub3c4\": \"22\\ub144\", \"\\uc6d4\": \"6\\uc6d4\", \"\\ub9ac\\uc804\": \"SG\", \"AZ\": \"1\\uc13c\\ud130\", \"\\ud14c\\ub10c\\ud2b8\": \"PRD\", \"\\uad6c\\ubd84\": \"VM\", \"\\ud074\\ub7ec\\uc2a4\\ud130\\uba85\": \"ccsau-svchub-prd\", \"K8S Version\": \"v1.19.6\", \"\\ub178\\ub4dc\\uc218\": 14.0, \"CPU_\\ud560\\ub2f9\\uc728_Cores\": 88.0, \"CPU_\\uc0ac\\uc6a9\\ub960_Cores\": 81.8, \"CPU_\\uc0ac\\uc6a9\\uc728\": 0.9295454545454546, \"RAM_\\ud560\\ub2f9\\uc728_GB\": 343.0, \"RAM_\\uc0ac\\uc6a9\\ub960_GB\": 199.0, \"RAM_\\uc0ac\\uc6a9\\uc728\": 0.5801749271137027, \"\\ub2f4\\ub2f9\\ud300\": null, \"\\ubc30\\ud3ec\\ubc29\\uc2dd\": \"Rancher\", \"\\ub80c\\ucc98 \\ubaa8\\ub2c8\\ud130\\ub9c1 \\uc124\\uce58 \\uc720\\ubb34\": null, \"\\ubaa8\\ub2c8\\ud130\\ub9c1\\ud234\\uc124\\uce58_\\uc720\\ubb34\": \"X\", \"\\uc8fc\\uac04\": \"O\", \"\\uc5f0\\uac04\": \"O\", \"\\uc6d4\\uac04\": \"O\"}, {\"\\ub144\\ub3c4\": \"22\\ub144\", \"\\uc6d4\": \"6\\uc6d4\", \"\\ub9ac\\uc804\": \"SG\", \"AZ\": \"1\\uc13c\\ud130\", \"\\ud14c\\ub10c\\ud2b8\": \"PRD\", \"\\uad6c\\ubd84\": \"VM\", \"\\ud074\\ub7ec\\uc2a4\\ud130\\uba85\": \"au8vdmztst1\", \"K8S Version\": \"v1.19.6\", \"\\ub178\\ub4dc\\uc218\": 1.0, \"CPU_\\ud560\\ub2f9\\uc728_Cores\": 8.0, \"CPU_\\uc0ac\\uc6a9\\ub960_Cores\": 0.4, \"CPU_\\uc0ac\\uc6a9\\uc728\": 0.05, \"RAM_\\ud560\\ub2f9\\uc728_GB\": 31.2, \"RAM_\\uc0ac\\uc6a9\\ub960_GB\": 0.1, \"RAM_\\uc0ac\\uc6a9\\uc728\": 0.0032051282051282055, \"\\ub2f4\\ub2f9\\ud300\": null, \"\\ubc30\\ud3ec\\ubc29\\uc2dd\": \"Rancher\", \"\\ub80c\\ucc98 \\ubaa8\\ub2c8\\ud130\\ub9c1 \\uc124\\uce58 \\uc720\\ubb34\": null, \"\\ubaa8\\ub2c8\\ud130\\ub9c1\\ud234\\uc124\\uce58_\\uc720\\ubb34\": \"X\", \"\\uc8fc\\uac04\": \"O\", \"\\uc5f0\\uac04\": \"O\", \"\\uc6d4\\uac04\": \"O\"}, {\"\\ub144\\ub3c4\": \"22\\ub144\", \"\\uc6d4\": \"6\\uc6d4\", \"\\ub9ac\\uc804\": \"SG\", \"AZ\": \"1\\uc13c\\ud130\", \"\\ud14c\\ub10c\\ud2b8\": \"PRD\", \"\\uad6c\\ubd84\": \"VM\", \"\\ud074\\ub7ec\\uc2a4\\ud130\\uba85\": \"au2vintaztst11\", \"K8S Version\": \"v1.19.6\", \"\\ub178\\ub4dc\\uc218\": 1.0, \"CPU_\\ud560\\ub2f9\\uc728_Cores\": 2.0, \"CPU_\\uc0ac\\uc6a9\\ub960_Cores\": 0.4, \"CPU_\\uc0ac\\uc6a9\\uc728\": 0.2, \"RAM_\\ud560\\ub2f9\\uc728_GB\": 7.5, \"RAM_\\uc0ac\\uc6a9\\ub960_GB\": 0.1, \"RAM_\\uc0ac\\uc6a9\\uc728\": 0.013333333333333334, \"\\ub2f4\\ub2f9\\ud300\": null, \"\\ubc30\\ud3ec\\ubc29\\uc2dd\": \"Rancher\", \"\\ub80c\\ucc98 \\ubaa8\\ub2c8\\ud130\\ub9c1 \\uc124\\uce58 \\uc720\\ubb34\": null, \"\\ubaa8\\ub2c8\\ud130\\ub9c1\\ud234\\uc124\\uce58_\\uc720\\ubb34\": \"X\", \"\\uc8fc\\uac04\": \"O\", \"\\uc5f0\\uac04\": \"O\", \"\\uc6d4\\uac04\": \"O\"}]}}, {\"mode\": \"vega-lite\"});\n",
       "</script>"
      ],
      "text/plain": [
       "alt.LayerChart(...)"
      ]
     },
     "execution_count": 43,
     "metadata": {},
     "output_type": "execute_result"
    }
   ],
   "source": [
    "chart"
   ]
  },
  {
   "cell_type": "code",
   "execution_count": 44,
   "id": "1862c6c3-8472-42ab-a005-be063c991e91",
   "metadata": {},
   "outputs": [
    {
     "data": {
      "text/plain": [
       "<docx.text.paragraph.Paragraph at 0x26e3c28f670>"
      ]
     },
     "execution_count": 44,
     "metadata": {},
     "output_type": "execute_result"
    }
   ],
   "source": [
    "# Document\n",
    "document.add_paragraph('자산 관리(k8s)', style='List Number')\n",
    "document.add_paragraph(f'총 {total} 건', style='List Bullet')\n",
    "\n",
    "# Chart - Bar 차트\n",
    "if region == 'All':\n",
    "    document.add_picture(f'./charts/k8s_{region}_{y}_{m}_{d}_1.png')\n",
    "else:\n",
    "    pass\n",
    "\n",
    "# Document\n",
    "addTablek8s(df_filtered, regex, month)\n",
    "#document.add_picture(f'./charts/k8s_{region}_{y}_{m}_{d}_2.png')\n",
    "\n",
    "p = document.add_paragraph('')\n",
    "run = p.add_run()\n",
    "run.add_break(WD_BREAK.LINE)\n",
    "\n",
    "document.add_paragraph(f'월별 추세', style='List Bullet')\n",
    "document.add_picture(f'./charts/k8s_{region}_{y}_{m}_{d}_3.png')   \n",
    "document.add_page_break()"
   ]
  },
  {
   "cell_type": "code",
   "execution_count": null,
   "id": "7dc6bd31-f29e-409f-ac13-06e53606377e",
   "metadata": {},
   "outputs": [],
   "source": []
  },
  {
   "cell_type": "markdown",
   "id": "6ba5cd55-59d5-4d8d-aa02-7a570eb67d85",
   "metadata": {
    "tags": []
   },
   "source": [
    "## 1.7 용량 관리"
   ]
  },
  {
   "cell_type": "code",
   "execution_count": 45,
   "id": "80173d5a-ba4b-4c93-9a30-920d513633fe",
   "metadata": {},
   "outputs": [],
   "source": [
    "base_path = r\"./data/1_7_202206_용량관리_0727_01.ods\"\n",
    "sheet = f'{month}집계'\n",
    "\n",
    "df = read_ods(base_path, sheet, headers=True)\n",
    "df_filtered = df[df['리전'].apply(lambda x: True if re.search(regex, x) else False) & (df['테넌트']== 'PRD') & (df['월간']=='O')]\n",
    "\n",
    "# Pivoting\n",
    "pivot, total = getPivotTable(df, month)\n",
    "\n",
    "df_completed = df_filtered[ (df_filtered['월']==month) & (df_filtered['진행상태']=='완료') ]\n",
    "completed = len(df_completed)\n",
    "\n",
    "incompleted = len (df_filtered[(df_filtered['진행상태']!='완료')])"
   ]
  },
  {
   "cell_type": "code",
   "execution_count": 47,
   "id": "1fb8f723-a881-4ee4-8c87-900bcdfae909",
   "metadata": {},
   "outputs": [],
   "source": [
    "# Chart - Pie 차트\n",
    "if region == 'All':\n",
    "    source = pivot\n",
    "    chart = getPieChart(source)\n",
    "    chart.save(f'./charts/cpm_{region}_{y}_{m}_{d}_1.png')\n",
    "else:\n",
    "    pass\n",
    "\n",
    "# Chart - 라인 차트\n",
    "chart = getLineChart2(df_filtered, month)\n",
    "chart.save(f'./charts/cpm_{region}_{y}_{m}_{d}_2.png')"
   ]
  },
  {
   "cell_type": "code",
   "execution_count": 48,
   "id": "2e9d72be-b2f3-44c4-98aa-4ab80cf38c21",
   "metadata": {},
   "outputs": [
    {
     "data": {
      "text/plain": [
       "<docx.text.paragraph.Paragraph at 0x26e37c3e9d0>"
      ]
     },
     "execution_count": 48,
     "metadata": {},
     "output_type": "execute_result"
    }
   ],
   "source": [
    "# Document\n",
    "document.add_paragraph('용량 관리', style='List Number')\n",
    "document.add_paragraph(f'완료: {completed} 건 / 이슈: {incompleted} 건', style='List Bullet')\n",
    "\n",
    "if region == 'All':\n",
    "    document.add_picture(f'./charts/cpm_{region}_{y}_{m}_{d}_1.png')\n",
    "else:\n",
    "    pass\n",
    "\n",
    "# Document\n",
    "document.add_paragraph(f'자원 이슈 현황', style='List Bullet')\n",
    "addTable3(df_filtered, regex, month)\n",
    "\n",
    "p = document.add_paragraph('')\n",
    "run = p.add_run()\n",
    "run.add_break(WD_BREAK.LINE)\n",
    "\n",
    "document.add_paragraph(f'월별 추세', style='List Bullet')\n",
    "document.add_picture(f'./charts/cpm_{region}_{y}_{m}_{d}_2.png')   \n",
    "document.add_page_break()"
   ]
  },
  {
   "cell_type": "code",
   "execution_count": null,
   "id": "0a2c8b38-0be0-4dff-90f9-8809ca25b3e6",
   "metadata": {},
   "outputs": [],
   "source": []
  },
  {
   "cell_type": "markdown",
   "id": "4646dc19-72f8-4b7c-b39f-184cda10d628",
   "metadata": {
    "tags": []
   },
   "source": [
    "## 1.8 백업 관리"
   ]
  },
  {
   "cell_type": "code",
   "execution_count": 49,
   "id": "41f9d197-9828-42b1-acb0-eb722701e44f",
   "metadata": {},
   "outputs": [],
   "source": [
    "base_path = r\"./data/1_8_202206_백업관리_0727_01.ods\"\n",
    "sheet = f'{month}집계'\n",
    "\n",
    "df = read_ods(base_path, sheet, headers=True)\n",
    "df_filtered = df[df['리전'].apply(lambda x: True if re.search(regex, x) else False) & (df['테넌트']== 'PRD') & (df['월간']=='O')]\n",
    "\n",
    "# Pivoting\n",
    "pivot, total = getPivotTable(df, month)\n",
    "\n",
    "df_completed = df_filtered[ (df_filtered['월']==month) & (df_filtered['성패']=='O') ]\n",
    "completed = len(df_completed)\n",
    "\n",
    "incompleted = len (df_filtered[(df_filtered['성패']!='O')])"
   ]
  },
  {
   "cell_type": "code",
   "execution_count": 50,
   "id": "2feb4422-3754-4fa0-b6d7-7dd814823bfb",
   "metadata": {},
   "outputs": [],
   "source": [
    "# Chart - Pie 차트\n",
    "if region == 'All':\n",
    "    source = pivot\n",
    "    chart = getPieChart(df_filtered)\n",
    "    chart.save(f'./charts/bm_{region}_{y}_{m}_{d}_1.png')\n",
    "else:\n",
    "    pass\n",
    "\n",
    "# Chart - 라인 차트\n",
    "chart = getLineChart3(df_filtered, month)\n",
    "#chart = getBarChart2(df_filtered, month)\n",
    "chart.save(f'./charts/bm_{region}_{y}_{m}_{d}_2.png')"
   ]
  },
  {
   "cell_type": "code",
   "execution_count": 51,
   "id": "89ff994d-af16-42d5-9793-e035f6fe33db",
   "metadata": {},
   "outputs": [
    {
     "data": {
      "text/html": [
       "\n",
       "<div id=\"altair-viz-7f9705c0ba834d158dc6fb08053544b0\"></div>\n",
       "<script type=\"text/javascript\">\n",
       "  var VEGA_DEBUG = (typeof VEGA_DEBUG == \"undefined\") ? {} : VEGA_DEBUG;\n",
       "  (function(spec, embedOpt){\n",
       "    let outputDiv = document.currentScript.previousElementSibling;\n",
       "    if (outputDiv.id !== \"altair-viz-7f9705c0ba834d158dc6fb08053544b0\") {\n",
       "      outputDiv = document.getElementById(\"altair-viz-7f9705c0ba834d158dc6fb08053544b0\");\n",
       "    }\n",
       "    const paths = {\n",
       "      \"vega\": \"https://cdn.jsdelivr.net/npm//vega@5?noext\",\n",
       "      \"vega-lib\": \"https://cdn.jsdelivr.net/npm//vega-lib?noext\",\n",
       "      \"vega-lite\": \"https://cdn.jsdelivr.net/npm//vega-lite@4.17.0?noext\",\n",
       "      \"vega-embed\": \"https://cdn.jsdelivr.net/npm//vega-embed@6?noext\",\n",
       "    };\n",
       "\n",
       "    function maybeLoadScript(lib, version) {\n",
       "      var key = `${lib.replace(\"-\", \"\")}_version`;\n",
       "      return (VEGA_DEBUG[key] == version) ?\n",
       "        Promise.resolve(paths[lib]) :\n",
       "        new Promise(function(resolve, reject) {\n",
       "          var s = document.createElement('script');\n",
       "          document.getElementsByTagName(\"head\")[0].appendChild(s);\n",
       "          s.async = true;\n",
       "          s.onload = () => {\n",
       "            VEGA_DEBUG[key] = version;\n",
       "            return resolve(paths[lib]);\n",
       "          };\n",
       "          s.onerror = () => reject(`Error loading script: ${paths[lib]}`);\n",
       "          s.src = paths[lib];\n",
       "        });\n",
       "    }\n",
       "\n",
       "    function showError(err) {\n",
       "      outputDiv.innerHTML = `<div class=\"error\" style=\"color:red;\">${err}</div>`;\n",
       "      throw err;\n",
       "    }\n",
       "\n",
       "    function displayChart(vegaEmbed) {\n",
       "      vegaEmbed(outputDiv, spec, embedOpt)\n",
       "        .catch(err => showError(`Javascript Error: ${err.message}<br>This usually means there's a typo in your chart specification. See the javascript console for the full traceback.`));\n",
       "    }\n",
       "\n",
       "    if(typeof define === \"function\" && define.amd) {\n",
       "      requirejs.config({paths});\n",
       "      require([\"vega-embed\"], displayChart, err => showError(`Error loading script: ${err.message}`));\n",
       "    } else {\n",
       "      maybeLoadScript(\"vega\", \"5\")\n",
       "        .then(() => maybeLoadScript(\"vega-lite\", \"4.17.0\"))\n",
       "        .then(() => maybeLoadScript(\"vega-embed\", \"6\"))\n",
       "        .catch(showError)\n",
       "        .then(() => displayChart(vegaEmbed));\n",
       "    }\n",
       "  })({\"config\": {\"axis\": {\"fontSize\": 12, \"font\": \"\\ub9d1\\uc740\\uace0\\ub515\", \"anchor\": \"start\", \"fontColor\": \"#000000\"}}, \"layer\": [{\"mark\": \"point\", \"encoding\": {\"color\": {\"field\": \"\\uc131\\ud328\", \"type\": \"nominal\"}, \"x\": {\"field\": \"\\uc6d4\", \"scale\": {\"padding\": 15}, \"title\": \"\\uc6d4\\ubcc4 \\ucd94\\uc138\", \"type\": \"nominal\"}, \"y\": {\"aggregate\": \"count\", \"title\": \"\\ubc1c\\uc0dd \\uac74\\uc218\", \"type\": \"quantitative\"}}}, {\"mark\": {\"type\": \"line\", \"color\": \"red\"}, \"encoding\": {\"x\": {\"field\": \"\\uc6d4\", \"title\": \"\\uc6d4\\ubcc4 \\ucd94\\uc138\", \"type\": \"nominal\"}, \"y\": {\"aggregate\": \"count\", \"title\": \"\", \"type\": \"quantitative\"}}}, {\"mark\": {\"type\": \"text\", \"align\": \"center\", \"baseline\": \"line-top\", \"color\": \"black\", \"dy\": -20, \"fontSize\": 12, \"size\": 12}, \"encoding\": {\"color\": {\"field\": \"\\uc131\\ud328\", \"type\": \"nominal\"}, \"text\": {\"aggregate\": \"count\", \"field\": \"\\uc131\\ud328\", \"type\": \"quantitative\"}, \"x\": {\"field\": \"\\uc6d4\", \"scale\": {\"padding\": 15}, \"title\": \"\\uc6d4\\ubcc4 \\ucd94\\uc138\", \"type\": \"nominal\"}, \"y\": {\"aggregate\": \"count\", \"title\": \"\\ubc1c\\uc0dd \\uac74\\uc218\", \"type\": \"quantitative\"}}}], \"data\": {\"name\": \"data-b56fcc6b8e4f821fda85c1dd26466b93\"}, \"height\": 200, \"width\": 360, \"$schema\": \"https://vega.github.io/schema/vega-lite/v4.17.0.json\", \"datasets\": {\"data-b56fcc6b8e4f821fda85c1dd26466b93\": [{\"\\uc5f0\\ub3c4\": \"2022\\ub144\", \"\\uc6d4\": \"6\\uc6d4\", \"\\ub9ac\\uc804\": \"SG\", \"AZ\": \"1\\uc13c\\ud130\", \"\\ud14c\\ub10c\\ud2b8\": \"PRD\", \"\\uc720\\ud615\": \"postgreSQL\", \"\\uc131\\ud328\": \"O\", \"Instance\": \"ccspiddbp01\", \"IP\": \"10.107.61.52\", \"\\ubc31\\uc5c5_\\uc8fc\\uae30_full_archive\": \"\\uc8fc1\\ud68c/\\ub9e410\\ubd84\", \"\\ube44\\uace0\": null, \"\\uc8fc\\uac04\": \"O\", \"\\uc6d4\\uac04\": \"O\", \"\\uc5f0\\uac04\": \"O\"}, {\"\\uc5f0\\ub3c4\": \"2022\\ub144\", \"\\uc6d4\": \"6\\uc6d4\", \"\\ub9ac\\uc804\": \"SG\", \"AZ\": \"1\\uc13c\\ud130\", \"\\ud14c\\ub10c\\ud2b8\": \"PRD\", \"\\uc720\\ud615\": \"postgreSQL\", \"\\uc131\\ud328\": \"O\", \"Instance\": \"ccspiddbp02\", \"IP\": \"10.107.62.115\", \"\\ubc31\\uc5c5_\\uc8fc\\uae30_full_archive\": null, \"\\ube44\\uace0\": null, \"\\uc8fc\\uac04\": \"O\", \"\\uc6d4\\uac04\": \"O\", \"\\uc5f0\\uac04\": \"O\"}, {\"\\uc5f0\\ub3c4\": \"2022\\ub144\", \"\\uc6d4\": \"6\\uc6d4\", \"\\ub9ac\\uc804\": \"SG\", \"AZ\": \"1\\uc13c\\ud130\", \"\\ud14c\\ub10c\\ud2b8\": \"PRD\", \"\\uc720\\ud615\": \"postgreSQL\", \"\\uc131\\ud328\": \"O\", \"Instance\": \"ccsiddbp01\", \"IP\": \"10.107.62.38\", \"\\ubc31\\uc5c5_\\uc8fc\\uae30_full_archive\": \"\\uc8fc1\\ud68c/\\ub9e410\\ubd84\", \"\\ube44\\uace0\": null, \"\\uc8fc\\uac04\": \"O\", \"\\uc6d4\\uac04\": \"O\", \"\\uc5f0\\uac04\": \"O\"}, {\"\\uc5f0\\ub3c4\": \"2022\\ub144\", \"\\uc6d4\": \"6\\uc6d4\", \"\\ub9ac\\uc804\": \"SG\", \"AZ\": \"1\\uc13c\\ud130\", \"\\ud14c\\ub10c\\ud2b8\": \"PRD\", \"\\uc720\\ud615\": \"postgreSQL\", \"\\uc131\\ud328\": \"O\", \"Instance\": \"ccsiddbp02\", \"IP\": \"10.107.61.93\", \"\\ubc31\\uc5c5_\\uc8fc\\uae30_full_archive\": null, \"\\ube44\\uace0\": null, \"\\uc8fc\\uac04\": \"O\", \"\\uc6d4\\uac04\": \"O\", \"\\uc5f0\\uac04\": \"O\"}, {\"\\uc5f0\\ub3c4\": \"2022\\ub144\", \"\\uc6d4\": \"6\\uc6d4\", \"\\ub9ac\\uc804\": \"SG\", \"AZ\": \"1\\uc13c\\ud130\", \"\\ud14c\\ub10c\\ud2b8\": \"PRD\", \"\\uc720\\ud615\": \"postgreSQL\", \"\\uc131\\ud328\": \"O\", \"Instance\": \"ccsidifdbp01\", \"IP\": \"10.107.62.49\", \"\\ubc31\\uc5c5_\\uc8fc\\uae30_full_archive\": \"\\uc8fc1\\ud68c/\\ub9e410\\ubd84\", \"\\ube44\\uace0\": null, \"\\uc8fc\\uac04\": \"O\", \"\\uc6d4\\uac04\": \"O\", \"\\uc5f0\\uac04\": \"O\"}, {\"\\uc5f0\\ub3c4\": \"2022\\ub144\", \"\\uc6d4\": \"6\\uc6d4\", \"\\ub9ac\\uc804\": \"SG\", \"AZ\": \"1\\uc13c\\ud130\", \"\\ud14c\\ub10c\\ud2b8\": \"PRD\", \"\\uc720\\ud615\": \"postgreSQL\", \"\\uc131\\ud328\": \"O\", \"Instance\": \"ccsidifdbp02\", \"IP\": \"10.107.61.155\", \"\\ubc31\\uc5c5_\\uc8fc\\uae30_full_archive\": null, \"\\ube44\\uace0\": null, \"\\uc8fc\\uac04\": \"O\", \"\\uc6d4\\uac04\": \"O\", \"\\uc5f0\\uac04\": \"O\"}, {\"\\uc5f0\\ub3c4\": \"2022\\ub144\", \"\\uc6d4\": \"6\\uc6d4\", \"\\ub9ac\\uc804\": \"SG\", \"AZ\": \"1\\uc13c\\ud130\", \"\\ud14c\\ub10c\\ud2b8\": \"PRD\", \"\\uc720\\ud615\": \"postgreSQL\", \"\\uc131\\ud328\": \"O\", \"Instance\": \"ccspidlmsdbp01\", \"IP\": \"10.107.62.54\", \"\\ubc31\\uc5c5_\\uc8fc\\uae30_full_archive\": \"\\uc8fc1\\ud68c/\\ub9e410\\ubd84\", \"\\ube44\\uace0\": null, \"\\uc8fc\\uac04\": \"O\", \"\\uc6d4\\uac04\": \"O\", \"\\uc5f0\\uac04\": \"O\"}, {\"\\uc5f0\\ub3c4\": \"2022\\ub144\", \"\\uc6d4\": \"6\\uc6d4\", \"\\ub9ac\\uc804\": \"SG\", \"AZ\": \"1\\uc13c\\ud130\", \"\\ud14c\\ub10c\\ud2b8\": \"PRD\", \"\\uc720\\ud615\": \"postgreSQL\", \"\\uc131\\ud328\": \"O\", \"Instance\": \"ccspidlmsdbp02\", \"IP\": \"10.107.61.239\", \"\\ubc31\\uc5c5_\\uc8fc\\uae30_full_archive\": null, \"\\ube44\\uace0\": null, \"\\uc8fc\\uac04\": \"O\", \"\\uc6d4\\uac04\": \"O\", \"\\uc5f0\\uac04\": \"O\"}, {\"\\uc5f0\\ub3c4\": \"2022\\ub144\", \"\\uc6d4\": \"6\\uc6d4\", \"\\ub9ac\\uc804\": \"SG\", \"AZ\": \"1\\uc13c\\ud130\", \"\\ud14c\\ub10c\\ud2b8\": \"PRD\", \"\\uc720\\ud615\": \"postgreSQL\", \"\\uc131\\ud328\": \"O\", \"Instance\": \"ccssghcrdbp01\", \"IP\": \"10.107.52.208\", \"\\ubc31\\uc5c5_\\uc8fc\\uae30_full_archive\": \"\\uc8fc1\\ud68c/\\ub9e410\\ubd84\", \"\\ube44\\uace0\": null, \"\\uc8fc\\uac04\": \"O\", \"\\uc6d4\\uac04\": \"O\", \"\\uc5f0\\uac04\": \"O\"}, {\"\\uc5f0\\ub3c4\": \"2022\\ub144\", \"\\uc6d4\": \"6\\uc6d4\", \"\\ub9ac\\uc804\": \"SG\", \"AZ\": \"1\\uc13c\\ud130\", \"\\ud14c\\ub10c\\ud2b8\": \"PRD\", \"\\uc720\\ud615\": \"postgreSQL\", \"\\uc131\\ud328\": \"O\", \"Instance\": \"ccssghcrdbp02\", \"IP\": \"10.107.52.233\", \"\\ubc31\\uc5c5_\\uc8fc\\uae30_full_archive\": null, \"\\ube44\\uace0\": null, \"\\uc8fc\\uac04\": \"O\", \"\\uc6d4\\uac04\": \"O\", \"\\uc5f0\\uac04\": \"O\"}, {\"\\uc5f0\\ub3c4\": \"2022\\ub144\", \"\\uc6d4\": \"6\\uc6d4\", \"\\ub9ac\\uc804\": \"SG\", \"AZ\": \"1\\uc13c\\ud130\", \"\\ud14c\\ub10c\\ud2b8\": \"PRD\", \"\\uc720\\ud615\": \"postgreSQL\", \"\\uc131\\ud328\": \"O\", \"Instance\": \"ccsidmcpdbp01\", \"IP\": \"10.107.61.78\", \"\\ubc31\\uc5c5_\\uc8fc\\uae30_full_archive\": \"\\uc8fc1\\ud68c/\\ub9e410\\ubd84\", \"\\ube44\\uace0\": null, \"\\uc8fc\\uac04\": \"O\", \"\\uc6d4\\uac04\": \"O\", \"\\uc5f0\\uac04\": \"O\"}, {\"\\uc5f0\\ub3c4\": \"2022\\ub144\", \"\\uc6d4\": \"6\\uc6d4\", \"\\ub9ac\\uc804\": \"SG\", \"AZ\": \"1\\uc13c\\ud130\", \"\\ud14c\\ub10c\\ud2b8\": \"PRD\", \"\\uc720\\ud615\": \"postgreSQL\", \"\\uc131\\ud328\": \"O\", \"Instance\": \"ccsidmcpdbp02\", \"IP\": \"10.107.61.109\", \"\\ubc31\\uc5c5_\\uc8fc\\uae30_full_archive\": null, \"\\ube44\\uace0\": null, \"\\uc8fc\\uac04\": \"O\", \"\\uc6d4\\uac04\": \"O\", \"\\uc5f0\\uac04\": \"O\"}, {\"\\uc5f0\\ub3c4\": \"2022\\ub144\", \"\\uc6d4\": \"6\\uc6d4\", \"\\ub9ac\\uc804\": \"SG\", \"AZ\": \"1\\uc13c\\ud130\", \"\\ud14c\\ub10c\\ud2b8\": \"PRD\", \"\\uc720\\ud615\": \"postgreSQL\", \"\\uc131\\ud328\": \"O\", \"Instance\": \"ccsauccsdbp01\", \"IP\": \"10.107.70.196\", \"\\ubc31\\uc5c5_\\uc8fc\\uae30_full_archive\": \"\\uc8fc1\\ud68c/\\ub9e410\\ubd84\", \"\\ube44\\uace0\": null, \"\\uc8fc\\uac04\": \"O\", \"\\uc6d4\\uac04\": \"O\", \"\\uc5f0\\uac04\": \"O\"}, {\"\\uc5f0\\ub3c4\": \"2022\\ub144\", \"\\uc6d4\": \"6\\uc6d4\", \"\\ub9ac\\uc804\": \"SG\", \"AZ\": \"1\\uc13c\\ud130\", \"\\ud14c\\ub10c\\ud2b8\": \"PRD\", \"\\uc720\\ud615\": \"postgreSQL\", \"\\uc131\\ud328\": \"O\", \"Instance\": \"ccsauccsdbp02\", \"IP\": \"10.107.71.72\", \"\\ubc31\\uc5c5_\\uc8fc\\uae30_full_archive\": null, \"\\ube44\\uace0\": null, \"\\uc8fc\\uac04\": \"O\", \"\\uc6d4\\uac04\": \"O\", \"\\uc5f0\\uac04\": \"O\"}, {\"\\uc5f0\\ub3c4\": \"2022\\ub144\", \"\\uc6d4\": \"6\\uc6d4\", \"\\ub9ac\\uc804\": \"SG\", \"AZ\": \"1\\uc13c\\ud130\", \"\\ud14c\\ub10c\\ud2b8\": \"PRD\", \"\\uc720\\ud615\": \"postgreSQL\", \"\\uc131\\ud328\": \"O\", \"Instance\": \"ccsauccsdbp03\", \"IP\": \"10.107.70.99\", \"\\ubc31\\uc5c5_\\uc8fc\\uae30_full_archive\": \"\\uc8fc1\\ud68c/\\ub9e410\\ubd84\", \"\\ube44\\uace0\": null, \"\\uc8fc\\uac04\": \"O\", \"\\uc6d4\\uac04\": \"O\", \"\\uc5f0\\uac04\": \"O\"}, {\"\\uc5f0\\ub3c4\": \"2022\\ub144\", \"\\uc6d4\": \"6\\uc6d4\", \"\\ub9ac\\uc804\": \"SG\", \"AZ\": \"1\\uc13c\\ud130\", \"\\ud14c\\ub10c\\ud2b8\": \"PRD\", \"\\uc720\\ud615\": \"postgreSQL\", \"\\uc131\\ud328\": \"O\", \"Instance\": \"ccsauccsdbp04\", \"IP\": \"10.107.70.102\", \"\\ubc31\\uc5c5_\\uc8fc\\uae30_full_archive\": null, \"\\ube44\\uace0\": null, \"\\uc8fc\\uac04\": \"O\", \"\\uc6d4\\uac04\": \"O\", \"\\uc5f0\\uac04\": \"O\"}, {\"\\uc5f0\\ub3c4\": \"2022\\ub144\", \"\\uc6d4\": \"6\\uc6d4\", \"\\ub9ac\\uc804\": \"SG\", \"AZ\": \"1\\uc13c\\ud130\", \"\\ud14c\\ub10c\\ud2b8\": \"PRD\", \"\\uc720\\ud615\": \"postgreSQL\", \"\\uc131\\ud328\": \"O\", \"Instance\": \"ccsauccsdbp05\", \"IP\": \"10.107.70.141\", \"\\ubc31\\uc5c5_\\uc8fc\\uae30_full_archive\": \"\\uc8fc1\\ud68c/\\ub9e410\\ubd84\", \"\\ube44\\uace0\": null, \"\\uc8fc\\uac04\": \"O\", \"\\uc6d4\\uac04\": \"O\", \"\\uc5f0\\uac04\": \"O\"}, {\"\\uc5f0\\ub3c4\": \"2022\\ub144\", \"\\uc6d4\": \"6\\uc6d4\", \"\\ub9ac\\uc804\": \"SG\", \"AZ\": \"1\\uc13c\\ud130\", \"\\ud14c\\ub10c\\ud2b8\": \"PRD\", \"\\uc720\\ud615\": \"postgreSQL\", \"\\uc131\\ud328\": \"O\", \"Instance\": \"ccsauccsdbp06\", \"IP\": \"10.107.70.143\", \"\\ubc31\\uc5c5_\\uc8fc\\uae30_full_archive\": null, \"\\ube44\\uace0\": null, \"\\uc8fc\\uac04\": \"O\", \"\\uc6d4\\uac04\": \"O\", \"\\uc5f0\\uac04\": \"O\"}, {\"\\uc5f0\\ub3c4\": \"2022\\ub144\", \"\\uc6d4\": \"6\\uc6d4\", \"\\ub9ac\\uc804\": \"SG\", \"AZ\": \"1\\uc13c\\ud130\", \"\\ud14c\\ub10c\\ud2b8\": \"PRD\", \"\\uc720\\ud615\": \"postgreSQL\", \"\\uc131\\ud328\": \"O\", \"Instance\": \"ccsauccspdbp01\", \"IP\": \"10.107.70.186\", \"\\ubc31\\uc5c5_\\uc8fc\\uae30_full_archive\": \"\\uc8fc1\\ud68c/\\ub9e410\\ubd84\", \"\\ube44\\uace0\": null, \"\\uc8fc\\uac04\": \"O\", \"\\uc6d4\\uac04\": \"O\", \"\\uc5f0\\uac04\": \"O\"}, {\"\\uc5f0\\ub3c4\": \"2022\\ub144\", \"\\uc6d4\": \"6\\uc6d4\", \"\\ub9ac\\uc804\": \"SG\", \"AZ\": \"1\\uc13c\\ud130\", \"\\ud14c\\ub10c\\ud2b8\": \"PRD\", \"\\uc720\\ud615\": \"postgreSQL\", \"\\uc131\\ud328\": \"O\", \"Instance\": \"ccsauccspdbp02\", \"IP\": \"10.107.71.43\", \"\\ubc31\\uc5c5_\\uc8fc\\uae30_full_archive\": null, \"\\ube44\\uace0\": null, \"\\uc8fc\\uac04\": \"O\", \"\\uc6d4\\uac04\": \"O\", \"\\uc5f0\\uac04\": \"O\"}, {\"\\uc5f0\\ub3c4\": \"2022\\ub144\", \"\\uc6d4\": \"6\\uc6d4\", \"\\ub9ac\\uc804\": \"SG\", \"AZ\": \"1\\uc13c\\ud130\", \"\\ud14c\\ub10c\\ud2b8\": \"PRD\", \"\\uc720\\ud615\": \"postgreSQL\", \"\\uc131\\ud328\": \"O\", \"Instance\": \"ccsauccsifdbp01\", \"IP\": \"10.107.70.205\", \"\\ubc31\\uc5c5_\\uc8fc\\uae30_full_archive\": \"\\uc8fc1\\ud68c/\\ub9e410\\ubd84\", \"\\ube44\\uace0\": null, \"\\uc8fc\\uac04\": \"O\", \"\\uc6d4\\uac04\": \"O\", \"\\uc5f0\\uac04\": \"O\"}, {\"\\uc5f0\\ub3c4\": \"2022\\ub144\", \"\\uc6d4\": \"6\\uc6d4\", \"\\ub9ac\\uc804\": \"SG\", \"AZ\": \"1\\uc13c\\ud130\", \"\\ud14c\\ub10c\\ud2b8\": \"PRD\", \"\\uc720\\ud615\": \"postgreSQL\", \"\\uc131\\ud328\": \"O\", \"Instance\": \"ccsauccsifdbp02\", \"IP\": \"10.107.71.203\", \"\\ubc31\\uc5c5_\\uc8fc\\uae30_full_archive\": null, \"\\ube44\\uace0\": null, \"\\uc8fc\\uac04\": \"O\", \"\\uc6d4\\uac04\": \"O\", \"\\uc5f0\\uac04\": \"O\"}, {\"\\uc5f0\\ub3c4\": \"2022\\ub144\", \"\\uc6d4\": \"6\\uc6d4\", \"\\ub9ac\\uc804\": \"SG\", \"AZ\": \"1\\uc13c\\ud130\", \"\\ud14c\\ub10c\\ud2b8\": \"PRD\", \"\\uc720\\ud615\": \"postgreSQL\", \"\\uc131\\ud328\": \"O\", \"Instance\": \"ccsaulmsdbp01\", \"IP\": \"10.107.70.127\", \"\\ubc31\\uc5c5_\\uc8fc\\uae30_full_archive\": \"\\uc8fc1\\ud68c/\\ub9e410\\ubd84\", \"\\ube44\\uace0\": null, \"\\uc8fc\\uac04\": \"O\", \"\\uc6d4\\uac04\": \"O\", \"\\uc5f0\\uac04\": \"O\"}, {\"\\uc5f0\\ub3c4\": \"2022\\ub144\", \"\\uc6d4\": \"6\\uc6d4\", \"\\ub9ac\\uc804\": \"SG\", \"AZ\": \"1\\uc13c\\ud130\", \"\\ud14c\\ub10c\\ud2b8\": \"PRD\", \"\\uc720\\ud615\": \"postgreSQL\", \"\\uc131\\ud328\": \"O\", \"Instance\": \"ccsaulmsdbp02\", \"IP\": \"10.107.71.45\", \"\\ubc31\\uc5c5_\\uc8fc\\uae30_full_archive\": null, \"\\ube44\\uace0\": null, \"\\uc8fc\\uac04\": \"O\", \"\\uc6d4\\uac04\": \"O\", \"\\uc5f0\\uac04\": \"O\"}, {\"\\uc5f0\\ub3c4\": \"2022\\ub144\", \"\\uc6d4\": \"6\\uc6d4\", \"\\ub9ac\\uc804\": \"SG\", \"AZ\": \"1\\uc13c\\ud130\", \"\\ud14c\\ub10c\\ud2b8\": \"PRD\", \"\\uc720\\ud615\": \"redis\", \"\\uc131\\ud328\": \"X\", \"Instance\": \"ccspidredisp01\", \"IP\": \"10.107.62.92\", \"\\ubc31\\uc5c5_\\uc8fc\\uae30_full_archive\": null, \"\\ube44\\uace0\": null, \"\\uc8fc\\uac04\": \"O\", \"\\uc6d4\\uac04\": \"O\", \"\\uc5f0\\uac04\": \"O\"}, {\"\\uc5f0\\ub3c4\": \"2022\\ub144\", \"\\uc6d4\": \"6\\uc6d4\", \"\\ub9ac\\uc804\": \"SG\", \"AZ\": \"1\\uc13c\\ud130\", \"\\ud14c\\ub10c\\ud2b8\": \"PRD\", \"\\uc720\\ud615\": \"redis\", \"\\uc131\\ud328\": \"X\", \"Instance\": \"ccspidredisp02\", \"IP\": \"10.107.61.198\", \"\\ubc31\\uc5c5_\\uc8fc\\uae30_full_archive\": null, \"\\ube44\\uace0\": null, \"\\uc8fc\\uac04\": \"O\", \"\\uc6d4\\uac04\": \"O\", \"\\uc5f0\\uac04\": \"O\"}, {\"\\uc5f0\\ub3c4\": \"2022\\ub144\", \"\\uc6d4\": \"6\\uc6d4\", \"\\ub9ac\\uc804\": \"SG\", \"AZ\": \"1\\uc13c\\ud130\", \"\\ud14c\\ub10c\\ud2b8\": \"PRD\", \"\\uc720\\ud615\": \"redis\", \"\\uc131\\ud328\": \"X\", \"Instance\": \"ccspidredisp03\", \"IP\": \"10.107.61.116\", \"\\ubc31\\uc5c5_\\uc8fc\\uae30_full_archive\": null, \"\\ube44\\uace0\": null, \"\\uc8fc\\uac04\": \"O\", \"\\uc6d4\\uac04\": \"O\", \"\\uc5f0\\uac04\": \"O\"}, {\"\\uc5f0\\ub3c4\": \"2022\\ub144\", \"\\uc6d4\": \"6\\uc6d4\", \"\\ub9ac\\uc804\": \"SG\", \"AZ\": \"1\\uc13c\\ud130\", \"\\ud14c\\ub10c\\ud2b8\": \"PRD\", \"\\uc720\\ud615\": \"redis\", \"\\uc131\\ud328\": \"X\", \"Instance\": \"ccsidmcpredisp01\", \"IP\": \"10.107.61.111\", \"\\ubc31\\uc5c5_\\uc8fc\\uae30_full_archive\": null, \"\\ube44\\uace0\": null, \"\\uc8fc\\uac04\": \"O\", \"\\uc6d4\\uac04\": \"O\", \"\\uc5f0\\uac04\": \"O\"}, {\"\\uc5f0\\ub3c4\": \"2022\\ub144\", \"\\uc6d4\": \"6\\uc6d4\", \"\\ub9ac\\uc804\": \"SG\", \"AZ\": \"1\\uc13c\\ud130\", \"\\ud14c\\ub10c\\ud2b8\": \"PRD\", \"\\uc720\\ud615\": \"redis\", \"\\uc131\\ud328\": \"X\", \"Instance\": \"ccsidmcpredisp02\", \"IP\": \"10.107.61.74\", \"\\ubc31\\uc5c5_\\uc8fc\\uae30_full_archive\": null, \"\\ube44\\uace0\": null, \"\\uc8fc\\uac04\": \"O\", \"\\uc6d4\\uac04\": \"O\", \"\\uc5f0\\uac04\": \"O\"}, {\"\\uc5f0\\ub3c4\": \"2022\\ub144\", \"\\uc6d4\": \"6\\uc6d4\", \"\\ub9ac\\uc804\": \"SG\", \"AZ\": \"1\\uc13c\\ud130\", \"\\ud14c\\ub10c\\ud2b8\": \"PRD\", \"\\uc720\\ud615\": \"redis\", \"\\uc131\\ud328\": \"X\", \"Instance\": \"ccsidmcpredisp03\", \"IP\": \"10.107.61.131\", \"\\ubc31\\uc5c5_\\uc8fc\\uae30_full_archive\": null, \"\\ube44\\uace0\": null, \"\\uc8fc\\uac04\": \"O\", \"\\uc6d4\\uac04\": \"O\", \"\\uc5f0\\uac04\": \"O\"}, {\"\\uc5f0\\ub3c4\": \"2022\\ub144\", \"\\uc6d4\": \"6\\uc6d4\", \"\\ub9ac\\uc804\": \"SG\", \"AZ\": \"1\\uc13c\\ud130\", \"\\ud14c\\ub10c\\ud2b8\": \"PRD\", \"\\uc720\\ud615\": \"redis\", \"\\uc131\\ud328\": \"X\", \"Instance\": \"ccspidapigatewwayp01\", \"IP\": \"10.107.61.23\", \"\\ubc31\\uc5c5_\\uc8fc\\uae30_full_archive\": null, \"\\ube44\\uace0\": null, \"\\uc8fc\\uac04\": \"O\", \"\\uc6d4\\uac04\": \"O\", \"\\uc5f0\\uac04\": \"O\"}, {\"\\uc5f0\\ub3c4\": \"2022\\ub144\", \"\\uc6d4\": \"6\\uc6d4\", \"\\ub9ac\\uc804\": \"SG\", \"AZ\": \"1\\uc13c\\ud130\", \"\\ud14c\\ub10c\\ud2b8\": \"PRD\", \"\\uc720\\ud615\": \"redis\", \"\\uc131\\ud328\": \"X\", \"Instance\": \"ccspidapigatewwayp02\", \"IP\": \"10.107.62.30\", \"\\ubc31\\uc5c5_\\uc8fc\\uae30_full_archive\": null, \"\\ube44\\uace0\": null, \"\\uc8fc\\uac04\": \"O\", \"\\uc6d4\\uac04\": \"O\", \"\\uc5f0\\uac04\": \"O\"}, {\"\\uc5f0\\ub3c4\": \"2022\\ub144\", \"\\uc6d4\": \"6\\uc6d4\", \"\\ub9ac\\uc804\": \"SG\", \"AZ\": \"1\\uc13c\\ud130\", \"\\ud14c\\ub10c\\ud2b8\": \"PRD\", \"\\uc720\\ud615\": \"redis\", \"\\uc131\\ud328\": \"X\", \"Instance\": \"ccssghcrapp01\", \"IP\": \"10.107.52.229\", \"\\ubc31\\uc5c5_\\uc8fc\\uae30_full_archive\": null, \"\\ube44\\uace0\": null, \"\\uc8fc\\uac04\": \"O\", \"\\uc6d4\\uac04\": \"O\", \"\\uc5f0\\uac04\": \"O\"}, {\"\\uc5f0\\ub3c4\": \"2022\\ub144\", \"\\uc6d4\": \"6\\uc6d4\", \"\\ub9ac\\uc804\": \"SG\", \"AZ\": \"1\\uc13c\\ud130\", \"\\ud14c\\ub10c\\ud2b8\": \"PRD\", \"\\uc720\\ud615\": \"redis\", \"\\uc131\\ud328\": \"X\", \"Instance\": \"ccspidapigwp01\", \"IP\": \"10.107.59.184\", \"\\ubc31\\uc5c5_\\uc8fc\\uae30_full_archive\": null, \"\\ube44\\uace0\": null, \"\\uc8fc\\uac04\": \"O\", \"\\uc6d4\\uac04\": \"O\", \"\\uc5f0\\uac04\": \"O\"}, {\"\\uc5f0\\ub3c4\": \"2022\\ub144\", \"\\uc6d4\": \"6\\uc6d4\", \"\\ub9ac\\uc804\": \"SG\", \"AZ\": \"1\\uc13c\\ud130\", \"\\ud14c\\ub10c\\ud2b8\": \"PRD\", \"\\uc720\\ud615\": \"redis\", \"\\uc131\\ud328\": \"X\", \"Instance\": \"ccspidapigwp02\", \"IP\": \"10.107.59.82\", \"\\ubc31\\uc5c5_\\uc8fc\\uae30_full_archive\": null, \"\\ube44\\uace0\": null, \"\\uc8fc\\uac04\": \"O\", \"\\uc6d4\\uac04\": \"O\", \"\\uc5f0\\uac04\": \"O\"}, {\"\\uc5f0\\ub3c4\": \"2022\\ub144\", \"\\uc6d4\": \"6\\uc6d4\", \"\\ub9ac\\uc804\": \"SG\", \"AZ\": \"1\\uc13c\\ud130\", \"\\ud14c\\ub10c\\ud2b8\": \"PRD\", \"\\uc720\\ud615\": \"redis\", \"\\uc131\\ud328\": \"X\", \"Instance\": \"ccsidchefbackp02\", \"IP\": \"10.107.61.35\", \"\\ubc31\\uc5c5_\\uc8fc\\uae30_full_archive\": null, \"\\ube44\\uace0\": null, \"\\uc8fc\\uac04\": \"O\", \"\\uc6d4\\uac04\": \"O\", \"\\uc5f0\\uac04\": \"O\"}, {\"\\uc5f0\\ub3c4\": \"2022\\ub144\", \"\\uc6d4\": \"6\\uc6d4\", \"\\ub9ac\\uc804\": \"SG\", \"AZ\": \"1\\uc13c\\ud130\", \"\\ud14c\\ub10c\\ud2b8\": \"PRD\", \"\\uc720\\ud615\": \"redis\", \"\\uc131\\ud328\": \"X\", \"Instance\": \"ccsauredisp01\", \"IP\": \"10.107.70.250\", \"\\ubc31\\uc5c5_\\uc8fc\\uae30_full_archive\": null, \"\\ube44\\uace0\": null, \"\\uc8fc\\uac04\": \"O\", \"\\uc6d4\\uac04\": \"O\", \"\\uc5f0\\uac04\": \"O\"}, {\"\\uc5f0\\ub3c4\": \"2022\\ub144\", \"\\uc6d4\": \"6\\uc6d4\", \"\\ub9ac\\uc804\": \"SG\", \"AZ\": \"1\\uc13c\\ud130\", \"\\ud14c\\ub10c\\ud2b8\": \"PRD\", \"\\uc720\\ud615\": \"redis\", \"\\uc131\\ud328\": \"X\", \"Instance\": \"ccsauredisp02\", \"IP\": \"10.107.71.78\", \"\\ubc31\\uc5c5_\\uc8fc\\uae30_full_archive\": null, \"\\ube44\\uace0\": null, \"\\uc8fc\\uac04\": \"O\", \"\\uc6d4\\uac04\": \"O\", \"\\uc5f0\\uac04\": \"O\"}, {\"\\uc5f0\\ub3c4\": \"2022\\ub144\", \"\\uc6d4\": \"6\\uc6d4\", \"\\ub9ac\\uc804\": \"SG\", \"AZ\": \"1\\uc13c\\ud130\", \"\\ud14c\\ub10c\\ud2b8\": \"PRD\", \"\\uc720\\ud615\": \"redis\", \"\\uc131\\ud328\": \"X\", \"Instance\": \"ccsauredisp03\", \"IP\": \"10.107.70.245\", \"\\ubc31\\uc5c5_\\uc8fc\\uae30_full_archive\": null, \"\\ube44\\uace0\": null, \"\\uc8fc\\uac04\": \"O\", \"\\uc6d4\\uac04\": \"O\", \"\\uc5f0\\uac04\": \"O\"}, {\"\\uc5f0\\ub3c4\": \"2022\\ub144\", \"\\uc6d4\": \"6\\uc6d4\", \"\\ub9ac\\uc804\": \"SG\", \"AZ\": \"1\\uc13c\\ud130\", \"\\ud14c\\ub10c\\ud2b8\": \"PRD\", \"\\uc720\\ud615\": \"redis\", \"\\uc131\\ud328\": \"X\", \"Instance\": \"ccsaumcpredisp01\", \"IP\": \"10.107.70.145\", \"\\ubc31\\uc5c5_\\uc8fc\\uae30_full_archive\": null, \"\\ube44\\uace0\": null, \"\\uc8fc\\uac04\": \"O\", \"\\uc6d4\\uac04\": \"O\", \"\\uc5f0\\uac04\": \"O\"}, {\"\\uc5f0\\ub3c4\": \"2022\\ub144\", \"\\uc6d4\": \"6\\uc6d4\", \"\\ub9ac\\uc804\": \"SG\", \"AZ\": \"1\\uc13c\\ud130\", \"\\ud14c\\ub10c\\ud2b8\": \"PRD\", \"\\uc720\\ud615\": \"redis\", \"\\uc131\\ud328\": \"X\", \"Instance\": \"ccsaumcpredisp02\", \"IP\": \"10.107.71.126\", \"\\ubc31\\uc5c5_\\uc8fc\\uae30_full_archive\": null, \"\\ube44\\uace0\": null, \"\\uc8fc\\uac04\": \"O\", \"\\uc6d4\\uac04\": \"O\", \"\\uc5f0\\uac04\": \"O\"}, {\"\\uc5f0\\ub3c4\": \"2022\\ub144\", \"\\uc6d4\": \"6\\uc6d4\", \"\\ub9ac\\uc804\": \"SG\", \"AZ\": \"1\\uc13c\\ud130\", \"\\ud14c\\ub10c\\ud2b8\": \"PRD\", \"\\uc720\\ud615\": \"redis\", \"\\uc131\\ud328\": \"X\", \"Instance\": \"ccsaumcpredisp03\", \"IP\": \"10.107.70.236\", \"\\ubc31\\uc5c5_\\uc8fc\\uae30_full_archive\": null, \"\\ube44\\uace0\": null, \"\\uc8fc\\uac04\": \"O\", \"\\uc6d4\\uac04\": \"O\", \"\\uc5f0\\uac04\": \"O\"}, {\"\\uc5f0\\ub3c4\": \"2022\\ub144\", \"\\uc6d4\": \"6\\uc6d4\", \"\\ub9ac\\uc804\": \"SG\", \"AZ\": \"1\\uc13c\\ud130\", \"\\ud14c\\ub10c\\ud2b8\": \"PRD\", \"\\uc720\\ud615\": \"redis\", \"\\uc131\\ud328\": \"X\", \"Instance\": \"ccsausvchubredisp01\", \"IP\": \"10.107.70.78\", \"\\ubc31\\uc5c5_\\uc8fc\\uae30_full_archive\": null, \"\\ube44\\uace0\": null, \"\\uc8fc\\uac04\": \"O\", \"\\uc6d4\\uac04\": \"O\", \"\\uc5f0\\uac04\": \"O\"}, {\"\\uc5f0\\ub3c4\": \"2022\\ub144\", \"\\uc6d4\": \"6\\uc6d4\", \"\\ub9ac\\uc804\": \"SG\", \"AZ\": \"1\\uc13c\\ud130\", \"\\ud14c\\ub10c\\ud2b8\": \"PRD\", \"\\uc720\\ud615\": \"redis\", \"\\uc131\\ud328\": \"X\", \"Instance\": \"ccsausvchubredisp02\", \"IP\": \"10.107.71.31\", \"\\ubc31\\uc5c5_\\uc8fc\\uae30_full_archive\": null, \"\\ube44\\uace0\": null, \"\\uc8fc\\uac04\": \"O\", \"\\uc6d4\\uac04\": \"O\", \"\\uc5f0\\uac04\": \"O\"}, {\"\\uc5f0\\ub3c4\": \"2022\\ub144\", \"\\uc6d4\": \"6\\uc6d4\", \"\\ub9ac\\uc804\": \"SG\", \"AZ\": \"1\\uc13c\\ud130\", \"\\ud14c\\ub10c\\ud2b8\": \"PRD\", \"\\uc720\\ud615\": \"redis\", \"\\uc131\\ud328\": \"X\", \"Instance\": \"ccsausvchubredisp03\", \"IP\": \"10.107.70.69\", \"\\ubc31\\uc5c5_\\uc8fc\\uae30_full_archive\": null, \"\\ube44\\uace0\": null, \"\\uc8fc\\uac04\": \"O\", \"\\uc6d4\\uac04\": \"O\", \"\\uc5f0\\uac04\": \"O\"}, {\"\\uc5f0\\ub3c4\": \"2022\\ub144\", \"\\uc6d4\": \"6\\uc6d4\", \"\\ub9ac\\uc804\": \"SG\", \"AZ\": \"1\\uc13c\\ud130\", \"\\ud14c\\ub10c\\ud2b8\": \"PRD\", \"\\uc720\\ud615\": \"redis\", \"\\uc131\\ud328\": \"X\", \"Instance\": \"ccsausvchubredisp04\", \"IP\": \"10.107.71.130\", \"\\ubc31\\uc5c5_\\uc8fc\\uae30_full_archive\": null, \"\\ube44\\uace0\": null, \"\\uc8fc\\uac04\": \"O\", \"\\uc6d4\\uac04\": \"O\", \"\\uc5f0\\uac04\": \"O\"}, {\"\\uc5f0\\ub3c4\": \"2022\\ub144\", \"\\uc6d4\": \"6\\uc6d4\", \"\\ub9ac\\uc804\": \"SG\", \"AZ\": \"1\\uc13c\\ud130\", \"\\ud14c\\ub10c\\ud2b8\": \"PRD\", \"\\uc720\\ud615\": \"redis\", \"\\uc131\\ud328\": \"X\", \"Instance\": \"ccsausvchubredisp05\", \"IP\": \"10.107.70.217\", \"\\ubc31\\uc5c5_\\uc8fc\\uae30_full_archive\": null, \"\\ube44\\uace0\": null, \"\\uc8fc\\uac04\": \"O\", \"\\uc6d4\\uac04\": \"O\", \"\\uc5f0\\uac04\": \"O\"}, {\"\\uc5f0\\ub3c4\": \"2022\\ub144\", \"\\uc6d4\": \"6\\uc6d4\", \"\\ub9ac\\uc804\": \"SG\", \"AZ\": \"1\\uc13c\\ud130\", \"\\ud14c\\ub10c\\ud2b8\": \"PRD\", \"\\uc720\\ud615\": \"redis\", \"\\uc131\\ud328\": \"X\", \"Instance\": \"ccsausvchubredisp06\", \"IP\": \"10.107.71.57\", \"\\ubc31\\uc5c5_\\uc8fc\\uae30_full_archive\": null, \"\\ube44\\uace0\": null, \"\\uc8fc\\uac04\": \"O\", \"\\uc6d4\\uac04\": \"O\", \"\\uc5f0\\uac04\": \"O\"}, {\"\\uc5f0\\ub3c4\": \"2022\\ub144\", \"\\uc6d4\": \"6\\uc6d4\", \"\\ub9ac\\uc804\": \"SG\", \"AZ\": \"1\\uc13c\\ud130\", \"\\ud14c\\ub10c\\ud2b8\": \"PRD\", \"\\uc720\\ud615\": \"redis\", \"\\uc131\\ud328\": \"X\", \"Instance\": \"ccsauapigwp01\", \"IP\": \"10.107.70.90\", \"\\ubc31\\uc5c5_\\uc8fc\\uae30_full_archive\": null, \"\\ube44\\uace0\": null, \"\\uc8fc\\uac04\": \"O\", \"\\uc6d4\\uac04\": \"O\", \"\\uc5f0\\uac04\": \"O\"}, {\"\\uc5f0\\ub3c4\": \"2022\\ub144\", \"\\uc6d4\": \"6\\uc6d4\", \"\\ub9ac\\uc804\": \"SG\", \"AZ\": \"1\\uc13c\\ud130\", \"\\ud14c\\ub10c\\ud2b8\": \"PRD\", \"\\uc720\\ud615\": \"redis\", \"\\uc131\\ud328\": \"X\", \"Instance\": \"ccsauapigwp02\", \"IP\": \"10.107.71.176\", \"\\ubc31\\uc5c5_\\uc8fc\\uae30_full_archive\": null, \"\\ube44\\uace0\": null, \"\\uc8fc\\uac04\": \"O\", \"\\uc6d4\\uac04\": \"O\", \"\\uc5f0\\uac04\": \"O\"}, {\"\\uc5f0\\ub3c4\": \"2022\\ub144\", \"\\uc6d4\": \"6\\uc6d4\", \"\\ub9ac\\uc804\": \"SG\", \"AZ\": \"1\\uc13c\\ud130\", \"\\ud14c\\ub10c\\ud2b8\": \"PRD\", \"\\uc720\\ud615\": \"Mongo\", \"\\uc131\\ud328\": \"X\", \"Instance\": \"ccspidmongodbp01\", \"IP\": \"10.107.61.96\", \"\\ubc31\\uc5c5_\\uc8fc\\uae30_full_archive\": null, \"\\ube44\\uace0\": \"\\ud574\\uc678\\ub9ac\\uc804\\uc740 \\ubc31\\uc5c5 \\uc2a4\\ud1a0\\ub9ac\\uc9c0 \\uad6c\\uc131 \\ud6c4 \\uc791\\uc5c5 \\uc608\\uc815\", \"\\uc8fc\\uac04\": \"O\", \"\\uc6d4\\uac04\": \"O\", \"\\uc5f0\\uac04\": \"O\"}, {\"\\uc5f0\\ub3c4\": \"2022\\ub144\", \"\\uc6d4\": \"6\\uc6d4\", \"\\ub9ac\\uc804\": \"SG\", \"AZ\": \"1\\uc13c\\ud130\", \"\\ud14c\\ub10c\\ud2b8\": \"PRD\", \"\\uc720\\ud615\": \"Mongo\", \"\\uc131\\ud328\": \"X\", \"Instance\": \"ccspidmongodbp02\", \"IP\": \"10.107.62.130\", \"\\ubc31\\uc5c5_\\uc8fc\\uae30_full_archive\": null, \"\\ube44\\uace0\": \"\\ud574\\uc678\\ub9ac\\uc804\\uc740 \\ubc31\\uc5c5 \\uc2a4\\ud1a0\\ub9ac\\uc9c0 \\uad6c\\uc131 \\ud6c4 \\uc791\\uc5c5 \\uc608\\uc815\", \"\\uc8fc\\uac04\": \"O\", \"\\uc6d4\\uac04\": \"O\", \"\\uc5f0\\uac04\": \"O\"}, {\"\\uc5f0\\ub3c4\": \"2022\\ub144\", \"\\uc6d4\": \"6\\uc6d4\", \"\\ub9ac\\uc804\": \"SG\", \"AZ\": \"1\\uc13c\\ud130\", \"\\ud14c\\ub10c\\ud2b8\": \"PRD\", \"\\uc720\\ud615\": \"Mongo\", \"\\uc131\\ud328\": \"X\", \"Instance\": \"ccspidmongodbp03\", \"IP\": \"10.107.61.83\", \"\\ubc31\\uc5c5_\\uc8fc\\uae30_full_archive\": null, \"\\ube44\\uace0\": \"\\ud574\\uc678\\ub9ac\\uc804\\uc740 \\ubc31\\uc5c5 \\uc2a4\\ud1a0\\ub9ac\\uc9c0 \\uad6c\\uc131 \\ud6c4 \\uc791\\uc5c5 \\uc608\\uc815\", \"\\uc8fc\\uac04\": \"O\", \"\\uc6d4\\uac04\": \"O\", \"\\uc5f0\\uac04\": \"O\"}, {\"\\uc5f0\\ub3c4\": \"2022\\ub144\", \"\\uc6d4\": \"6\\uc6d4\", \"\\ub9ac\\uc804\": \"SG\", \"AZ\": \"1\\uc13c\\ud130\", \"\\ud14c\\ub10c\\ud2b8\": \"PRD\", \"\\uc720\\ud615\": \"Mongo\", \"\\uc131\\ud328\": \"X\", \"Instance\": \"ccsidbatchp01\", \"IP\": \"10.107.62.180\", \"\\ubc31\\uc5c5_\\uc8fc\\uae30_full_archive\": null, \"\\ube44\\uace0\": \"\\ub2f4\\ub2f9\\uc790\\uac00 \\uc124\\uce58 \\ud615\\uc0c1\\uc774 \\ub2e4\\ub984\", \"\\uc8fc\\uac04\": \"O\", \"\\uc6d4\\uac04\": \"O\", \"\\uc5f0\\uac04\": \"O\"}, {\"\\uc5f0\\ub3c4\": \"2022\\ub144\", \"\\uc6d4\": \"6\\uc6d4\", \"\\ub9ac\\uc804\": \"SG\", \"AZ\": \"1\\uc13c\\ud130\", \"\\ud14c\\ub10c\\ud2b8\": \"PRD\", \"\\uc720\\ud615\": \"Mongo\", \"\\uc131\\ud328\": \"X\", \"Instance\": \"ccsaumongodbp01\", \"IP\": \"10.107.70.46\", \"\\ubc31\\uc5c5_\\uc8fc\\uae30_full_archive\": null, \"\\ube44\\uace0\": \"\\ud574\\uc678\\ub9ac\\uc804\\uc740 \\ubc31\\uc5c5 \\uc2a4\\ud1a0\\ub9ac\\uc9c0 \\uad6c\\uc131 \\ud6c4 \\uc791\\uc5c5 \\uc608\\uc815\", \"\\uc8fc\\uac04\": \"O\", \"\\uc6d4\\uac04\": \"O\", \"\\uc5f0\\uac04\": \"O\"}, {\"\\uc5f0\\ub3c4\": \"2022\\ub144\", \"\\uc6d4\": \"6\\uc6d4\", \"\\ub9ac\\uc804\": \"SG\", \"AZ\": \"1\\uc13c\\ud130\", \"\\ud14c\\ub10c\\ud2b8\": \"PRD\", \"\\uc720\\ud615\": \"Mongo\", \"\\uc131\\ud328\": \"X\", \"Instance\": \"ccsaumongodbp02\", \"IP\": \"10.107.71.73 \", \"\\ubc31\\uc5c5_\\uc8fc\\uae30_full_archive\": null, \"\\ube44\\uace0\": \"\\ud574\\uc678\\ub9ac\\uc804\\uc740 \\ubc31\\uc5c5 \\uc2a4\\ud1a0\\ub9ac\\uc9c0 \\uad6c\\uc131 \\ud6c4 \\uc791\\uc5c5 \\uc608\\uc815\", \"\\uc8fc\\uac04\": \"O\", \"\\uc6d4\\uac04\": \"O\", \"\\uc5f0\\uac04\": \"O\"}, {\"\\uc5f0\\ub3c4\": \"2022\\ub144\", \"\\uc6d4\": \"6\\uc6d4\", \"\\ub9ac\\uc804\": \"SG\", \"AZ\": \"1\\uc13c\\ud130\", \"\\ud14c\\ub10c\\ud2b8\": \"PRD\", \"\\uc720\\ud615\": \"Mongo\", \"\\uc131\\ud328\": \"X\", \"Instance\": \"ccsaumongodbp03\", \"IP\": \"10.107.70.87 \", \"\\ubc31\\uc5c5_\\uc8fc\\uae30_full_archive\": null, \"\\ube44\\uace0\": \"\\ud574\\uc678\\ub9ac\\uc804\\uc740 \\ubc31\\uc5c5 \\uc2a4\\ud1a0\\ub9ac\\uc9c0 \\uad6c\\uc131 \\ud6c4 \\uc791\\uc5c5 \\uc608\\uc815\", \"\\uc8fc\\uac04\": \"O\", \"\\uc6d4\\uac04\": \"O\", \"\\uc5f0\\uac04\": \"O\"}]}}, {\"mode\": \"vega-lite\"});\n",
       "</script>"
      ],
      "text/plain": [
       "alt.LayerChart(...)"
      ]
     },
     "execution_count": 51,
     "metadata": {},
     "output_type": "execute_result"
    }
   ],
   "source": [
    "chart"
   ]
  },
  {
   "cell_type": "code",
   "execution_count": 52,
   "id": "8e369d67-f65b-46d1-a50e-bece94135670",
   "metadata": {},
   "outputs": [
    {
     "data": {
      "text/plain": [
       "<docx.text.paragraph.Paragraph at 0x26e3c1026d0>"
      ]
     },
     "execution_count": 52,
     "metadata": {},
     "output_type": "execute_result"
    }
   ],
   "source": [
    "# Document\n",
    "document.add_paragraph('백업 관리', style='List Number')\n",
    "document.add_paragraph(f'완료: {completed} 건 / 이슈: {incompleted} 건', style='List Bullet')\n",
    "\n",
    "if region == 'All':\n",
    "    document.add_picture(f'./charts/bm_{region}_{y}_{m}_{d}_1.png')\n",
    "else:\n",
    "    pass\n",
    "\n",
    "# Document\n",
    "document.add_paragraph(f'월별 추세', style='List Bullet')\n",
    "document.add_picture(f'./charts/bm_{region}_{y}_{m}_{d}_2.png')\n",
    "document.add_page_break()"
   ]
  },
  {
   "cell_type": "code",
   "execution_count": null,
   "id": "2aba9ae9-1367-4b0c-8e82-727b3a62d9cb",
   "metadata": {},
   "outputs": [],
   "source": []
  },
  {
   "cell_type": "markdown",
   "id": "64752b33-16b5-426e-a0a5-c4b99f9c3ae0",
   "metadata": {
    "tags": []
   },
   "source": [
    "## 1.9 보안 관리"
   ]
  },
  {
   "cell_type": "code",
   "execution_count": 53,
   "id": "14abfdf7-4f38-492c-b7c0-a2ad06204885",
   "metadata": {},
   "outputs": [],
   "source": [
    "base_path = r\"./data/1_9_202206_보안관리_0727_01.ods\"\n",
    "sheet = f'{month}집계'\n",
    "\n",
    "df = read_ods(base_path, sheet, headers=True)\n",
    "df_filtered = df[df['리전'].apply(lambda x: True if re.search(regex, x) else False) & (df['테넌트']== 'PRD') & (df['월간']=='O')]\n",
    "\n",
    "# Pivoting\n",
    "pivot, total = getPivotTable(df, month)\n",
    "\n",
    "df_completed = df_filtered[ (df_filtered['월']==month) & (df_filtered['진행상태']=='완료') ]\n",
    "completed = len(df_completed)\n",
    "\n",
    "incompleted = len (df_filtered[(df_filtered['진행상태']!='완료')])"
   ]
  },
  {
   "cell_type": "code",
   "execution_count": 55,
   "id": "cae69319-c325-40c0-b301-390bd6986b0b",
   "metadata": {},
   "outputs": [],
   "source": [
    "# Chart - Pie 차트\n",
    "if region == 'All':\n",
    "    source = pivot\n",
    "    chart = getPieChart(source)\n",
    "    chart.save(f'./charts/sm_{region}_{y}_{m}_{d}_1.png')\n",
    "else:\n",
    "    pass\n",
    "\n",
    "# Chart - 라인 차트\n",
    "chart = getLineChart2(df_filtered, month)\n",
    "chart.save(f'./charts/sm_{region}_{y}_{m}_{d}_2.png')"
   ]
  },
  {
   "cell_type": "code",
   "execution_count": 56,
   "id": "cc73840e-ead6-4cb0-b2fe-ff5cbc326b6f",
   "metadata": {},
   "outputs": [
    {
     "data": {
      "text/plain": [
       "<docx.text.paragraph.Paragraph at 0x26e3c53ba30>"
      ]
     },
     "execution_count": 56,
     "metadata": {},
     "output_type": "execute_result"
    }
   ],
   "source": [
    "# Document\n",
    "document.add_paragraph('보안 관리', style='List Number')\n",
    "document.add_paragraph(f'완료: {completed} 건 / 진행: {incompleted} 건', style='List Bullet')\n",
    "\n",
    "if region == 'All':\n",
    "    document.add_picture(f'./charts/sm_{region}_{y}_{m}_{d}_1.png')\n",
    "else:\n",
    "    pass\n",
    "\n",
    "# Document\n",
    "addTable3(df_filtered, regex, month)\n",
    "\n",
    "p = document.add_paragraph('')\n",
    "run = p.add_run()\n",
    "run.add_break(WD_BREAK.LINE)\n",
    "\n",
    "document.add_paragraph(f'월별 추세', style='List Bullet')\n",
    "document.add_picture(f'./charts/sm_{region}_{y}_{m}_{d}_2.png')\n",
    "document.add_page_break()"
   ]
  },
  {
   "cell_type": "code",
   "execution_count": null,
   "id": "15fa3770-806a-4912-a8e1-127fbc4a1a91",
   "metadata": {},
   "outputs": [],
   "source": []
  },
  {
   "cell_type": "markdown",
   "id": "310c18b3-6b7f-4608-9710-68ce11496bec",
   "metadata": {
    "tags": []
   },
   "source": [
    "## 1.10 하드웨어 정기점검"
   ]
  },
  {
   "cell_type": "code",
   "execution_count": 57,
   "id": "ca7ac570-8cd0-4c33-ba09-51bff2a45a90",
   "metadata": {},
   "outputs": [],
   "source": [
    "base_path = r\"./data/1_10_202206_정기점검_0727_01.ods\"\n",
    "sheet = f'{month}집계'\n",
    "\n",
    "df = read_ods(base_path, sheet, headers=True)\n",
    "df_filtered = df[df['리전'].apply(lambda x: True if re.search(regex, x) else False) & (df['테넌트']== 'PRD') & (df['월간']=='O')]\n",
    "\n",
    "# Pivoting\n",
    "pivot, total = getPivotTable(df, month)\n",
    "\n",
    "df_completed = df_filtered[ (df_filtered['월']==month) & (df_filtered['진행상태']=='완료') ]\n",
    "completed = len(df_completed)\n",
    "\n",
    "incompleted = len (df_filtered[(df_filtered['진행상태']!='완료')])"
   ]
  },
  {
   "cell_type": "code",
   "execution_count": 59,
   "id": "e58070ae-0a83-4f6e-87da-c416db7f9f58",
   "metadata": {},
   "outputs": [],
   "source": [
    "# Chart - Pie 차트\n",
    "if region == 'All':\n",
    "    source = pivot\n",
    "    chart = getPieChart(source)\n",
    "    chart.save(f'./charts/rc_{region}_{y}_{m}_{d}_1.png')\n",
    "else:\n",
    "    pass\n",
    "\n",
    "# Chart - 라인 차트\n",
    "chart = getLineChart2(df_filtered, month)\n",
    "chart.save(f'./charts/rc_{region}_{y}_{m}_{d}_2.png')"
   ]
  },
  {
   "cell_type": "code",
   "execution_count": 60,
   "id": "5eac84be-dfcf-4632-bd4f-d4033167228d",
   "metadata": {},
   "outputs": [
    {
     "data": {
      "text/plain": [
       "<docx.text.paragraph.Paragraph at 0x26e3c50dbe0>"
      ]
     },
     "execution_count": 60,
     "metadata": {},
     "output_type": "execute_result"
    }
   ],
   "source": [
    "# Document\n",
    "document.add_paragraph('정기점검', style='List Number')\n",
    "document.add_paragraph(f'완료: {completed} 건 / 예정: {incompleted} 건', style='List Bullet')\n",
    "\n",
    "if region == 'All':\n",
    "    document.add_picture(f'./charts/rc_{region}_{y}_{m}_{d}_1.png')\n",
    "else:\n",
    "    pass\n",
    "\n",
    "# Document\n",
    "addTable3(df_filtered, regex, month)\n",
    "\n",
    "p = document.add_paragraph('')\n",
    "run = p.add_run()\n",
    "run.add_break(WD_BREAK.LINE)\n",
    "\n",
    "document.add_paragraph(f'월별 추세', style='List Bullet')\n",
    "document.add_picture(f'./charts/rc_{region}_{y}_{m}_{d}_2.png')   \n",
    "document.add_page_break()"
   ]
  },
  {
   "cell_type": "code",
   "execution_count": 61,
   "id": "e14fded8-722c-44fa-a880-69bf19981e87",
   "metadata": {},
   "outputs": [],
   "source": [
    "document.save('demo.docx')"
   ]
  },
  {
   "cell_type": "markdown",
   "id": "ffd0d1b0-e76a-49dc-a3ac-da373436ad7b",
   "metadata": {
    "tags": []
   },
   "source": [
    "## Save Document"
   ]
  },
  {
   "cell_type": "code",
   "execution_count": 63,
   "id": "aa4d0514-a153-4d72-a019-38db7a8923ac",
   "metadata": {},
   "outputs": [],
   "source": [
    "document.save(f'월간보고서_{region}_contents_{y}_{m}_{d}.docx')"
   ]
  },
  {
   "cell_type": "markdown",
   "id": "bc53cf14-e35d-41bf-a8f3-4cde30a3fffe",
   "metadata": {
    "tags": []
   },
   "source": [
    "## 보고서 표지 (커버 쉬트)"
   ]
  },
  {
   "cell_type": "code",
   "execution_count": 64,
   "id": "15ac4f8b-4156-46a3-86d9-df9d258906dc",
   "metadata": {},
   "outputs": [],
   "source": [
    "# Cover Page\n",
    "from docxtpl import DocxTemplate\n",
    "\n",
    "doc = DocxTemplate(\"cover-page-template.docx\")\n",
    "\n",
    "context = { \n",
    "    'Service' : \"HMC CCS Infra 운영/관리\",      \n",
    "    'Title' : \"Monthly Report\",    \n",
    "    'Region' : region,        \n",
    "    'Year' : \"2022\",\n",
    "    'Month' : \"6\",\n",
    "    'Department' : \"클라우드운영센터\",\n",
    "    'Author' : \"정인환\"\n",
    "}\n",
    "doc.render(context)\n",
    "\n",
    "doc.save(f'월간보고서_cover_{region}.docx')"
   ]
  },
  {
   "cell_type": "code",
   "execution_count": 65,
   "id": "2138a594-4c23-432a-b464-ebd218c67a3b",
   "metadata": {},
   "outputs": [],
   "source": [
    "# Merged Doc\n",
    "\n",
    "from docx import Document\n",
    "\n",
    "merged_document = Document()\n",
    "\n",
    "files = [f'월간보고서_cover_{region}.docx', f'월간보고서_{region}_contents_{y}_{m}_{d}.docx' ]\n",
    "\n",
    "def combine_word_documents(files):\n",
    "    merged_document = Document()\n",
    "\n",
    "    for index, file in enumerate(files):\n",
    "        sub_doc = Document(file)\n",
    "\n",
    "        # Don't add a page break if you've reached the last file.\n",
    "        if index < len(files)-1:\n",
    "           sub_doc.add_page_break()\n",
    "\n",
    "        for element in sub_doc.element.body:\n",
    "            merged_document.element.body.append(element)\n",
    "\n",
    "    merged_document.save( f'월간보고서_{region}_{y}_{m}_{d}.docx')\n",
    "\n",
    "combine_word_documents(files)"
   ]
  },
  {
   "cell_type": "code",
   "execution_count": null,
   "id": "d240bfcd-39b9-410f-b367-2e0bc5e6a486",
   "metadata": {},
   "outputs": [],
   "source": []
  }
 ],
 "metadata": {
  "kernelspec": {
   "display_name": "Python 3 (ipykernel)",
   "language": "python",
   "name": "python3"
  },
  "language_info": {
   "codemirror_mode": {
    "name": "ipython",
    "version": 3
   },
   "file_extension": ".py",
   "mimetype": "text/x-python",
   "name": "python",
   "nbconvert_exporter": "python",
   "pygments_lexer": "ipython3",
   "version": "3.8.0"
  }
 },
 "nbformat": 4,
 "nbformat_minor": 5
}
