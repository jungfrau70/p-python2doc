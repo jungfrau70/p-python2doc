{
 "cells": [
  {
   "cell_type": "code",
   "execution_count": 1,
   "id": "032fea3d-6acb-44cd-a6ae-647ad543400b",
   "metadata": {},
   "outputs": [],
   "source": [
    "import datetime\n",
    "import pandas as pd\n",
    "import warnings\n",
    "warnings.filterwarnings('ignore')\n",
    "\n",
    "from chart import *\n",
    "from document import *"
   ]
  },
  {
   "cell_type": "code",
   "execution_count": 2,
   "id": "982b673b-7767-41c7-959a-c335f5c1b890",
   "metadata": {},
   "outputs": [
    {
     "name": "stdout",
     "output_type": "stream",
     "text": [
      "보고서 유형:  월간 월:  6월\n",
      "^(NA|Global|All)\n"
     ]
    }
   ],
   "source": [
    "# 메타 정보\n",
    "\n",
    "today = datetime.date.today()\n",
    "\n",
    "y = today.year\n",
    "m = today.month\n",
    "d = today.day\n",
    "w = today.weekday()\n",
    "\n",
    "# report version\n",
    "type = '월간'\n",
    "month = '6월'\n",
    "region = 'NA' # KR|CN|NA|EU|SG|RU\n",
    "v = '1'\n",
    "\n",
    "if region == 'KR':\n",
    "    regex = '^(KR|Global|All)'\n",
    "elif region == 'CN':\n",
    "    regex = '^(CN|Global|All)'\n",
    "elif region == 'NA':\n",
    "    regex = '^(NA|Global|All)'\n",
    "elif region == 'EU':\n",
    "    regex = '^(EU|Global|All)'\n",
    "elif region == 'SG':\n",
    "    regex = '^(SG|Global|All)'\n",
    "elif region == 'RU':\n",
    "    regex = '^(SG|Global|All)'\n",
    "else:\n",
    "    regex = '^(KR|CN|NA|EU|SG|RU|Global|All)'\n",
    "\n",
    "print(\"보고서 유형: \", type, \"월: \", month)\n",
    "print(regex)"
   ]
  },
  {
   "cell_type": "markdown",
   "id": "08a7c08b-70d4-4d04-bb48-a2c07f909527",
   "metadata": {
    "tags": []
   },
   "source": [
    "## 보고서 표지 (커버 쉬트)"
   ]
  },
  {
   "cell_type": "code",
   "execution_count": 3,
   "id": "dbb2fd08-c1e9-4bce-a96a-4fdb9898eeac",
   "metadata": {},
   "outputs": [
    {
     "data": {
      "text/plain": [
       "<docx.text.paragraph.Paragraph at 0x170a119a9a0>"
      ]
     },
     "execution_count": 3,
     "metadata": {},
     "output_type": "execute_result"
    }
   ],
   "source": [
    "document.add_heading(f'[2022.06] {region} Cloud Infra 운영', level=0)\n",
    "document.add_heading(f'{y}.{m}.{d}', level=1)\n",
    "document.add_heading(f'클라우드운영센터', level=1)\n",
    "document.add_page_break()"
   ]
  },
  {
   "cell_type": "markdown",
   "id": "a4410470-44b5-4981-b1e5-ee94cfb07350",
   "metadata": {
    "jp-MarkdownHeadingCollapsed": true,
    "tags": []
   },
   "source": [
    "## 요약"
   ]
  },
  {
   "cell_type": "code",
   "execution_count": 4,
   "id": "1de74f3a-88ec-4cef-982e-2550a60cc9b5",
   "metadata": {},
   "outputs": [
    {
     "data": {
      "text/plain": [
       "<docx.text.paragraph.Paragraph at 0x170a119a460>"
      ]
     },
     "execution_count": 4,
     "metadata": {},
     "output_type": "execute_result"
    }
   ],
   "source": [
    "# Document\n",
    "document.add_paragraph('요약', style='Intense Quote')"
   ]
  },
  {
   "cell_type": "code",
   "execution_count": 5,
   "id": "91927a17-4b6d-420d-93eb-e316e575eedb",
   "metadata": {},
   "outputs": [],
   "source": [
    "# ETL\n",
    "base_path = r\"./data/요약_202206_서비스관리_0720_01.ods\"\n",
    "sheet = '6월집계'\n",
    "\n",
    "df = read_ods(base_path, sheet, headers=True)\n",
    "\n",
    "# 리전 & 운영계, 월간보고서용\n",
    "df_filtered = df[df['리전'].apply(lambda x: True if re.search(regex, x) else False) & (df['테넌트']== 'PRD') & (df['월간']=='O')]"
   ]
  },
  {
   "cell_type": "code",
   "execution_count": 6,
   "id": "c05834dc-5139-4625-be82-f991c56db0a1",
   "metadata": {},
   "outputs": [
    {
     "name": "stdout",
     "output_type": "stream",
     "text": [
      "56 4\n"
     ]
    }
   ],
   "source": [
    "print(len(df), len(df_filtered))"
   ]
  },
  {
   "cell_type": "code",
   "execution_count": 7,
   "id": "fd278de7-38f7-47fe-8490-7c21700fbfcb",
   "metadata": {},
   "outputs": [
    {
     "data": {
      "text/html": [
       "<div>\n",
       "<style scoped>\n",
       "    .dataframe tbody tr th:only-of-type {\n",
       "        vertical-align: middle;\n",
       "    }\n",
       "\n",
       "    .dataframe tbody tr th {\n",
       "        vertical-align: top;\n",
       "    }\n",
       "\n",
       "    .dataframe thead th {\n",
       "        text-align: right;\n",
       "    }\n",
       "</style>\n",
       "<table border=\"1\" class=\"dataframe\">\n",
       "  <thead>\n",
       "    <tr style=\"text-align: right;\">\n",
       "      <th></th>\n",
       "      <th>년도</th>\n",
       "      <th>월</th>\n",
       "      <th>리전</th>\n",
       "      <th>AZ</th>\n",
       "      <th>테넌트</th>\n",
       "      <th>진행상태</th>\n",
       "      <th>성패</th>\n",
       "      <th>Description</th>\n",
       "      <th>주간</th>\n",
       "      <th>월간</th>\n",
       "    </tr>\n",
       "  </thead>\n",
       "  <tbody>\n",
       "    <tr>\n",
       "      <th>29</th>\n",
       "      <td>22년</td>\n",
       "      <td>6월</td>\n",
       "      <td>NA</td>\n",
       "      <td>1센터</td>\n",
       "      <td>PRD</td>\n",
       "      <td>완료</td>\n",
       "      <td>성공</td>\n",
       "      <td>CCS 2.0 RnR &amp; 운영 업무 이관\\n업무 인수인계 체크리스트\\n(완료) 데이...</td>\n",
       "      <td>O</td>\n",
       "      <td>O</td>\n",
       "    </tr>\n",
       "  </tbody>\n",
       "</table>\n",
       "</div>"
      ],
      "text/plain": [
       "     년도   월  리전   AZ  테넌트 진행상태  성패  \\\n",
       "29  22년  6월  NA  1센터  PRD   완료  성공   \n",
       "\n",
       "                                          Description 주간 월간  \n",
       "29  CCS 2.0 RnR & 운영 업무 이관\\n업무 인수인계 체크리스트\\n(완료) 데이...  O  O  "
      ]
     },
     "execution_count": 7,
     "metadata": {},
     "output_type": "execute_result"
    }
   ],
   "source": [
    "df_filtered[df_filtered['월'] == '6월']"
   ]
  },
  {
   "cell_type": "code",
   "execution_count": 8,
   "id": "f0a7e3ef-b335-4125-be00-86233e34d929",
   "metadata": {},
   "outputs": [],
   "source": [
    "# Chart\n",
    "if region == 'All':\n",
    "    # Pivoting\n",
    "    pivot, total = getPivotTable(df)\n",
    "    source = pivot\n",
    "    chart = getPieChart(source)\n",
    "    \n",
    "    chart.save(f'./charts/summary_{y}_{m}_{d}_{v}_1.png')\n",
    "    document.add_picture(f'./charts/summary_{y}_{m}_{d}_{v}_1.png')\n",
    "else:\n",
    "    pass"
   ]
  },
  {
   "cell_type": "code",
   "execution_count": 9,
   "id": "77a10c58-3b9a-4dc6-9ac4-e0f743d18c76",
   "metadata": {},
   "outputs": [
    {
     "data": {
      "text/plain": [
       "<docx.text.paragraph.Paragraph at 0x170a1265a00>"
      ]
     },
     "execution_count": 9,
     "metadata": {},
     "output_type": "execute_result"
    }
   ],
   "source": [
    "# Document\n",
    "addSummaryTable(df_filtered, regex, month)\n",
    "document.add_page_break()"
   ]
  },
  {
   "cell_type": "markdown",
   "id": "ddcf5ec0-e21b-4f21-90df-a00e3d4c8d8d",
   "metadata": {
    "jp-MarkdownHeadingCollapsed": true,
    "tags": []
   },
   "source": [
    "## 1.1 모니터링(인시던트핸들링)"
   ]
  },
  {
   "cell_type": "code",
   "execution_count": 10,
   "id": "2f60368b-eff6-4615-a785-0a1e29991cdf",
   "metadata": {},
   "outputs": [
    {
     "data": {
      "text/html": [
       "<div>\n",
       "<style scoped>\n",
       "    .dataframe tbody tr th:only-of-type {\n",
       "        vertical-align: middle;\n",
       "    }\n",
       "\n",
       "    .dataframe tbody tr th {\n",
       "        vertical-align: top;\n",
       "    }\n",
       "\n",
       "    .dataframe thead th {\n",
       "        text-align: right;\n",
       "    }\n",
       "</style>\n",
       "<table border=\"1\" class=\"dataframe\">\n",
       "  <thead>\n",
       "    <tr style=\"text-align: right;\">\n",
       "      <th></th>\n",
       "      <th>날짜</th>\n",
       "      <th>장애대응조치내용</th>\n",
       "      <th>JIRA_Ticket_No</th>\n",
       "      <th>장애전파</th>\n",
       "    </tr>\n",
       "  </thead>\n",
       "  <tbody>\n",
       "    <tr>\n",
       "      <th>218</th>\n",
       "      <td>2022.06.15</td>\n",
       "      <td>Informed in Kakao</td>\n",
       "      <td>ITSM-128</td>\n",
       "      <td>28.0</td>\n",
       "    </tr>\n",
       "  </tbody>\n",
       "</table>\n",
       "</div>"
      ],
      "text/plain": [
       "             날짜           장애대응조치내용 JIRA_Ticket_No  장애전파\n",
       "218  2022.06.15  Informed in Kakao       ITSM-128  28.0"
      ]
     },
     "execution_count": 10,
     "metadata": {},
     "output_type": "execute_result"
    }
   ],
   "source": [
    "base_path = r\"./data/1_1_202206_모니터링_인시던트핸들링_0720_01.ods\"\n",
    "sheet = '6월집계'\n",
    "\n",
    "df = read_ods(base_path, sheet, headers=True)\n",
    "df['장애전파'] = (pd.to_datetime(df['장애전파시간.1'])-pd.to_datetime(df['발생인지시간'])).astype('timedelta64[m]')\n",
    "\n",
    "# Pivoting\n",
    "pivot, total = getPivotTable(df)\n",
    "\n",
    "# 리전 & 운영계, 월간보고서용\n",
    "df_filtered = df[df['리전'].apply(lambda x: True if re.search(regex, x) else False) & (df['테넌트']== 'PRD') & (df['진행상태']=='완료') & (df['월간']=='O')]\n",
    "df_filtered, timeslot = getTables(df_filtered, regex, month)\n",
    "    \n",
    "# SLA failed\n",
    "df_failed = df_filtered[ (df_filtered['장애전파'] > 10) & (df_filtered['월']== month)]\n",
    "df_failed[['날짜', '장애대응조치내용', 'JIRA_Ticket_No', '장애전파']]"
   ]
  },
  {
   "cell_type": "code",
   "execution_count": 11,
   "id": "485de9ce-3f3f-4b23-b013-8657f9124ca2",
   "metadata": {},
   "outputs": [
    {
     "name": "stderr",
     "output_type": "stream",
     "text": [
      "npm WARN config global `--global`, `--local` are deprecated. Use `--location=global` instead.\n",
      "npm WARN config global `--global`, `--local` are deprecated. Use `--location=global` instead.\n",
      "npm WARN config global `--global`, `--local` are deprecated. Use `--location=global` instead.\n"
     ]
    }
   ],
   "source": [
    "# Chart - Pie 차트\n",
    "if region == 'All':\n",
    "    source = pivot\n",
    "    chart = getPieChart(source)\n",
    "    chart.save(f'./charts/mon_{region}_{y}_{m}_{d}_1.png')\n",
    "else:\n",
    "    pass\n",
    "\n",
    "# Chart - 스캐터 차트    \n",
    "chart = getScatterChart(timeslot, month)\n",
    "chart.save(f'./charts/mon_{region}_{y}_{m}_{d}_2.png')\n",
    "\n",
    "# Chart - 라인 차트\n",
    "chart = getLineChart(df_filtered, month)\n",
    "chart.save(f'./charts/mon_{region}_{y}_{m}_{d}_3.png')"
   ]
  },
  {
   "cell_type": "code",
   "execution_count": 12,
   "id": "39915a37-320c-4de7-9a73-30c69b91440e",
   "metadata": {},
   "outputs": [
    {
     "data": {
      "text/plain": [
       "<docx.shape.InlineShape at 0x170a1678220>"
      ]
     },
     "execution_count": 12,
     "metadata": {},
     "output_type": "execute_result"
    }
   ],
   "source": [
    "# Document\n",
    "document.add_paragraph('모니터링(인시던트핸들링)', style='List Number')\n",
    "\n",
    "if region == 'All':\n",
    "    document.add_paragraph(f'6월: 총 {total}', style='List Bullet')    \n",
    "    document.add_picture(f'./charts/mon_{region}_{y}_{m}_{d}_1.png')\n",
    "else:\n",
    "    pass\n",
    "\n",
    "document.add_paragraph(f'장애전파 소요시간(분)', style='List Bullet')\n",
    "document.add_picture(f'./charts/mon_{region}_{y}_{m}_{d}_2.png')\n",
    "## 평균 소요 시간, 최대 소요 시간\n",
    "\n",
    "document.add_paragraph(f'장애전파시간 초과 이벤트', style='List Bullet')\n",
    "addFailedTable(df_failed, regex, month)\n",
    "    \n",
    "document.add_paragraph(f'월별 발생 건수 (추세)', style='List Bullet')\n",
    "document.add_picture(f'./charts/mon_{region}_{y}_{m}_{d}_3.png')   "
   ]
  },
  {
   "cell_type": "code",
   "execution_count": 13,
   "id": "24f5edcf-b586-4599-9d76-4102d2b91743",
   "metadata": {},
   "outputs": [
    {
     "data": {
      "text/plain": [
       "<docx.text.paragraph.Paragraph at 0x170a126e8e0>"
      ]
     },
     "execution_count": 13,
     "metadata": {},
     "output_type": "execute_result"
    }
   ],
   "source": [
    "# Document\n",
    "document.add_page_break()"
   ]
  },
  {
   "cell_type": "markdown",
   "id": "51513bde-8cfd-4779-9dd4-85e3296f4085",
   "metadata": {
    "jp-MarkdownHeadingCollapsed": true,
    "tags": []
   },
   "source": [
    "## 1.2 이슈 관리"
   ]
  },
  {
   "cell_type": "code",
   "execution_count": 14,
   "id": "0485f45d-c5f2-40fa-ba02-3bf0e77b4e2a",
   "metadata": {},
   "outputs": [],
   "source": [
    "base_path = r\"./data/1_2_202206_이슈관리_0720_01.ods\"\n",
    "sheet = '6월집계'\n",
    "\n",
    "df = read_ods(base_path, sheet, headers=True)\n",
    "df_filtered = df[df['리전'].apply(lambda x: True if re.search(regex, x) else False) & (df['테넌트']== 'PRD') & (df['진행상태']=='완료') & (df['월간']=='O')]\n",
    "\n",
    "# Pivoting\n",
    "pivot, total = getPivotTable(df)"
   ]
  },
  {
   "cell_type": "code",
   "execution_count": 15,
   "id": "c615a2b7-4296-4634-8d6e-78a7c77a1495",
   "metadata": {},
   "outputs": [],
   "source": [
    "# Chart - Pie 차트\n",
    "if region == 'All':\n",
    "    source = pivot\n",
    "    chart = getPieChart(source)\n",
    "    chart.save(f'./charts/im_{region}_{y}_{m}_{d}_1.png')\n",
    "else:\n",
    "    pass\n",
    "\n",
    "# Chart - 라인 차트\n",
    "chart = getLineChart(df_filtered, month)\n",
    "chart.save(f'./charts/im_{region}_{y}_{m}_{d}_2.png')"
   ]
  },
  {
   "cell_type": "code",
   "execution_count": 16,
   "id": "6ac3fd1b-639e-4b54-9ee3-82effd9611fd",
   "metadata": {},
   "outputs": [
    {
     "data": {
      "text/plain": [
       "<docx.shape.InlineShape at 0x170a127b820>"
      ]
     },
     "execution_count": 16,
     "metadata": {},
     "output_type": "execute_result"
    }
   ],
   "source": [
    "# Document\n",
    "document.add_paragraph('이슈 관리', style='List Number')\n",
    "\n",
    "if region == 'All':\n",
    "    document.add_paragraph(f'6월: 총 {total}', style='List Bullet')    \n",
    "    document.add_picture(f'./charts/im_{region}_{y}_{m}_{d}_1.png')\n",
    "else:\n",
    "    pass\n",
    "\n",
    "document.add_paragraph(f'월별 발생 건수 (추세)', style='List Bullet')\n",
    "document.add_picture(f'./charts/im_{region}_{y}_{m}_{d}_2.png')   "
   ]
  },
  {
   "cell_type": "code",
   "execution_count": 17,
   "id": "a9f3c40b-3337-4f1b-b4b8-13334523f270",
   "metadata": {},
   "outputs": [
    {
     "data": {
      "text/plain": [
       "<docx.text.paragraph.Paragraph at 0x170a1665fd0>"
      ]
     },
     "execution_count": 17,
     "metadata": {},
     "output_type": "execute_result"
    }
   ],
   "source": [
    "# Document\n",
    "addSummaryTable(df_filtered, regex, month)\n",
    "document.add_page_break()"
   ]
  },
  {
   "cell_type": "markdown",
   "id": "87b3866d-7b12-45d6-b8fa-3f090cb7cea8",
   "metadata": {
    "jp-MarkdownHeadingCollapsed": true,
    "tags": []
   },
   "source": [
    "## 1.3 장애 관리"
   ]
  },
  {
   "cell_type": "code",
   "execution_count": 18,
   "id": "03f5d7b3-54d4-4e41-a883-f5fa1873e8f7",
   "metadata": {},
   "outputs": [],
   "source": [
    "base_path = r\"./data/1_3_202206_장애관리_0720_01.ods\"\n",
    "sheet = '6월집계'\n",
    "\n",
    "df = read_ods(base_path, sheet, headers=True)\n",
    "df_filtered = df[df['리전'].apply(lambda x: True if re.search(regex, x) else False) & (df['테넌트']== 'PRD') & (df['진행상태']=='완료') & (df['월간']=='O')]\n",
    "\n",
    "# Pivoting\n",
    "pivot, total = getPivotTable(df)"
   ]
  },
  {
   "cell_type": "code",
   "execution_count": 19,
   "id": "8e34f6d7-bfe2-4942-98f9-906fc4ea0412",
   "metadata": {},
   "outputs": [],
   "source": [
    "# Chart - Pie 차트\n",
    "if region == 'All':\n",
    "    source = pivot\n",
    "    chart = getPieChart(source)\n",
    "    chart.save(f'./charts/pm_{region}_{y}_{m}_{d}_1.png')\n",
    "else:\n",
    "    pass\n",
    "\n",
    "# Chart - 라인 차트\n",
    "chart = getLineChart(df_filtered, month)\n",
    "chart.save(f'./charts/pm_{region}_{y}_{m}_{d}_2.png')"
   ]
  },
  {
   "cell_type": "code",
   "execution_count": 20,
   "id": "16183de5-ee49-4517-9d5c-42bab37b34ad",
   "metadata": {},
   "outputs": [
    {
     "data": {
      "text/plain": [
       "<docx.shape.InlineShape at 0x170a12aaa30>"
      ]
     },
     "execution_count": 20,
     "metadata": {},
     "output_type": "execute_result"
    }
   ],
   "source": [
    "# Document\n",
    "document.add_paragraph('장애(RCA) 관리', style='List Number')\n",
    "\n",
    "if region == 'All':\n",
    "    document.add_paragraph(f'6월: 총 {total}', style='List Bullet')    \n",
    "    document.add_picture(f'./charts/pm_{region}_{y}_{m}_{d}_1.png')\n",
    "else:\n",
    "    pass\n",
    "\n",
    "document.add_paragraph(f'월별 발생 건수 (추세)', style='List Bullet')\n",
    "document.add_picture(f'./charts/pm_{region}_{y}_{m}_{d}_2.png')   "
   ]
  },
  {
   "cell_type": "code",
   "execution_count": 21,
   "id": "aa06816e-64c8-4f8f-91e7-345760bdb4c6",
   "metadata": {},
   "outputs": [
    {
     "data": {
      "text/plain": [
       "<docx.text.paragraph.Paragraph at 0x170a129f580>"
      ]
     },
     "execution_count": 21,
     "metadata": {},
     "output_type": "execute_result"
    }
   ],
   "source": [
    "# Document\n",
    "addSummaryTable(df_filtered, regex, month)\n",
    "document.add_page_break()"
   ]
  },
  {
   "cell_type": "markdown",
   "id": "ea0552c0-1d40-40c6-af99-6bc1ce2572f7",
   "metadata": {
    "jp-MarkdownHeadingCollapsed": true,
    "tags": []
   },
   "source": [
    "## 1.4 변경 관리"
   ]
  },
  {
   "cell_type": "code",
   "execution_count": 22,
   "id": "00d63c1e-bcdf-4f66-ac98-d6a43d3bf7cd",
   "metadata": {},
   "outputs": [],
   "source": [
    "base_path = r\"./data/1_4_202206_변경관리_0720_01.ods\"\n",
    "sheet = '6월집계'\n",
    "\n",
    "df = read_ods(base_path, sheet, headers=True)\n",
    "df_filtered = df[df['리전'].apply(lambda x: True if re.search(regex, x) else False) & (df['테넌트']== 'PRD') & (df['진행상태']=='완료') & (df['월간']=='O')]\n",
    "\n",
    "# Pivoting\n",
    "pivot, total = getPivotTable(df)"
   ]
  },
  {
   "cell_type": "code",
   "execution_count": 23,
   "id": "a285681b-d3a6-4dba-a409-773c0fa06149",
   "metadata": {},
   "outputs": [],
   "source": [
    "# Chart - Pie 차트\n",
    "if region == 'All':\n",
    "    source = pivot\n",
    "    chart = getPieChart(source)\n",
    "    chart.save(f'./charts/cm_{region}_{y}_{m}_{d}_1.png')\n",
    "else:\n",
    "    pass\n",
    "\n",
    "# Chart - 라인 차트\n",
    "chart = getLineChart(df_filtered, month)\n",
    "chart.save(f'./charts/cm_{region}_{y}_{m}_{d}_2.png')"
   ]
  },
  {
   "cell_type": "code",
   "execution_count": 24,
   "id": "a763d156-2ef3-4eaa-9b68-5324280b5e0d",
   "metadata": {},
   "outputs": [
    {
     "data": {
      "text/plain": [
       "<docx.shape.InlineShape at 0x170a127b550>"
      ]
     },
     "execution_count": 24,
     "metadata": {},
     "output_type": "execute_result"
    }
   ],
   "source": [
    "# Document\n",
    "document.add_paragraph('변경 관리', style='List Number')\n",
    "\n",
    "if region == 'All':\n",
    "    document.add_paragraph(f'6월: 총 {total}', style='List Bullet')    \n",
    "    document.add_picture(f'./charts/cm_{region}_{y}_{m}_{d}_1.png')\n",
    "else:\n",
    "    pass\n",
    "\n",
    "document.add_paragraph(f'월별 발생 건수 (추세)', style='List Bullet')\n",
    "document.add_picture(f'./charts/cm_{region}_{y}_{m}_{d}_2.png')   "
   ]
  },
  {
   "cell_type": "code",
   "execution_count": 25,
   "id": "f74d15a7-9071-4244-a69c-1a62774e755d",
   "metadata": {},
   "outputs": [
    {
     "data": {
      "text/plain": [
       "<docx.text.paragraph.Paragraph at 0x170a127b2e0>"
      ]
     },
     "execution_count": 25,
     "metadata": {},
     "output_type": "execute_result"
    }
   ],
   "source": [
    "# Document\n",
    "addSummaryTable(df_filtered, regex, month)\n",
    "document.add_page_break()"
   ]
  },
  {
   "cell_type": "markdown",
   "id": "5e1fd51b-c575-40fe-9375-396fd425bf89",
   "metadata": {
    "jp-MarkdownHeadingCollapsed": true,
    "tags": []
   },
   "source": [
    "## 1.5 요청 관리"
   ]
  },
  {
   "cell_type": "code",
   "execution_count": 26,
   "id": "b292793f-a2bc-43c7-a6dd-1679a05ddeb1",
   "metadata": {},
   "outputs": [],
   "source": [
    "base_path = r\"./data/1_5_202206_요청관리_0720_01.ods\"\n",
    "sheet = '6월집계'\n",
    "\n",
    "df = read_ods(base_path, sheet, headers=True)\n",
    "df_filtered = df[df['리전'].apply(lambda x: True if re.search(regex, x) else False) & (df['테넌트']== 'PRD') & (df['진행상태']=='완료') & (df['월간']=='O')]\n",
    "\n",
    "# Pivoting\n",
    "pivot, total = getPivotTable(df)"
   ]
  },
  {
   "cell_type": "code",
   "execution_count": 27,
   "id": "dd953946-2909-4ef0-9306-b46ce5da4909",
   "metadata": {},
   "outputs": [],
   "source": [
    "# Chart - Pie 차트\n",
    "if region == 'All':\n",
    "    source = pivot\n",
    "    chart = getPieChart(source)\n",
    "    chart.save(f'./charts/cm_{region}_{y}_{m}_{d}_1.png')\n",
    "else:\n",
    "    pass\n",
    "\n",
    "# Chart - 라인 차트\n",
    "chart = getLineChart(df_filtered, month)\n",
    "chart.save(f'./charts/cm_{region}_{y}_{m}_{d}_2.png')"
   ]
  },
  {
   "cell_type": "code",
   "execution_count": 28,
   "id": "a8ee068a-5666-40f0-8356-e3977cbcb0c1",
   "metadata": {},
   "outputs": [
    {
     "data": {
      "text/plain": [
       "<docx.shape.InlineShape at 0x170a12bac10>"
      ]
     },
     "execution_count": 28,
     "metadata": {},
     "output_type": "execute_result"
    }
   ],
   "source": [
    "# Document\n",
    "document.add_paragraph('요청 관리', style='List Number')\n",
    "\n",
    "if region == 'All':\n",
    "    document.add_paragraph(f'6월: 총 {total}', style='List Bullet')    \n",
    "    document.add_picture(f'./charts/cm_{region}_{y}_{m}_{d}_1.png')\n",
    "else:\n",
    "    pass\n",
    "\n",
    "document.add_paragraph(f'월별 발생 건수 (추세)', style='List Bullet')\n",
    "document.add_picture(f'./charts/cm_{region}_{y}_{m}_{d}_2.png')   "
   ]
  },
  {
   "cell_type": "code",
   "execution_count": 29,
   "id": "4e02e240-163b-45be-ba14-94bc963e9941",
   "metadata": {},
   "outputs": [
    {
     "data": {
      "text/plain": [
       "<docx.text.paragraph.Paragraph at 0x170a1724bb0>"
      ]
     },
     "execution_count": 29,
     "metadata": {},
     "output_type": "execute_result"
    }
   ],
   "source": [
    "# Document\n",
    "# addSummaryTable(df_filtered, regex, month)\n",
    "document.add_page_break()"
   ]
  },
  {
   "cell_type": "markdown",
   "id": "408fb455-01a9-450e-9ae3-5a2ab40f50af",
   "metadata": {
    "jp-MarkdownHeadingCollapsed": true,
    "tags": []
   },
   "source": [
    "## 1.6 자산 관리 - VM"
   ]
  },
  {
   "cell_type": "code",
   "execution_count": 30,
   "id": "80e0e4d7-6512-4dc0-8f5e-e63161d5114e",
   "metadata": {},
   "outputs": [],
   "source": [
    "base_path = r\"./data/1_6_202206_자산관리_VM_0720_01.ods\"\n",
    "sheet = '6월집계'\n",
    "\n",
    "df = read_ods(base_path, sheet, headers=True)\n",
    "df_filtered = df[df['리전'].apply(lambda x: True if re.search(regex, x) else False) & (df['테넌트']== 'PRD') & (df['월간']=='O')]\n",
    "\n",
    "# Pivoting\n",
    "pivot, total = getPivotTable(df)"
   ]
  },
  {
   "cell_type": "code",
   "execution_count": 31,
   "id": "345581d8-6383-4425-857f-79457d5449a0",
   "metadata": {},
   "outputs": [],
   "source": [
    "# Chart - Pie 차트\n",
    "if region == 'All':\n",
    "    source = pivot\n",
    "    chart = getPieChart2(df_filtered, month)\n",
    "    chart.save(f'./charts/vm_{region}_{y}_{m}_{d}_1.png')\n",
    "else:\n",
    "    pass\n",
    "\n",
    "# Chart - 라인 차트\n",
    "chart = getLineChart2(df_filtered, month)\n",
    "chart.save(f'./charts/vm_{region}_{y}_{m}_{d}_2.png')"
   ]
  },
  {
   "cell_type": "code",
   "execution_count": 32,
   "id": "8995c174-9b7e-4bec-bacb-2d0c9e974549",
   "metadata": {},
   "outputs": [
    {
     "data": {
      "text/plain": [
       "<docx.shape.InlineShape at 0x170a16deb50>"
      ]
     },
     "execution_count": 32,
     "metadata": {},
     "output_type": "execute_result"
    }
   ],
   "source": [
    "# Document\n",
    "document.add_paragraph('자산 관리(vm)', style='List Number')\n",
    "\n",
    "if region == 'All':\n",
    "    document.add_paragraph(f'6월: 총 {total}', style='List Bullet')    \n",
    "    document.add_picture(f'./charts/vm_{region}_{y}_{m}_{d}_1.png')\n",
    "else:\n",
    "    pass\n",
    "\n",
    "document.add_paragraph(f'월별 VM 수 (추세)', style='List Bullet')\n",
    "document.add_picture(f'./charts/vm_{region}_{y}_{m}_{d}_2.png')   "
   ]
  },
  {
   "cell_type": "code",
   "execution_count": 33,
   "id": "34474710-fb52-495f-ad04-66708d016176",
   "metadata": {},
   "outputs": [
    {
     "data": {
      "text/plain": [
       "<docx.text.paragraph.Paragraph at 0x170a12c5190>"
      ]
     },
     "execution_count": 33,
     "metadata": {},
     "output_type": "execute_result"
    }
   ],
   "source": [
    "# Document\n",
    "# addSummaryTable(df_filtered, regex, month)\n",
    "document.add_page_break()"
   ]
  },
  {
   "cell_type": "markdown",
   "id": "a74f917b-289e-451e-9834-1f90edb8ef2d",
   "metadata": {
    "jp-MarkdownHeadingCollapsed": true,
    "tags": []
   },
   "source": [
    "## 1.6 자산 관리 - DB"
   ]
  },
  {
   "cell_type": "code",
   "execution_count": 34,
   "id": "93034eb6-247e-4747-ae55-db15d6d292a4",
   "metadata": {},
   "outputs": [],
   "source": [
    "base_path = r\"./data/1_6_202206_자산관리_DB_0720_01.ods\"\n",
    "sheet = '6월집계'\n",
    "\n",
    "df = read_ods(base_path, sheet, headers=True)\n",
    "df_filtered = df[df['리전'].apply(lambda x: True if re.search(regex, x) else False) & (df['테넌트']== 'PRD') & (df['월간']=='O')]\n",
    "\n",
    "# Pivoting\n",
    "pivot, total = getPivotTable(df)"
   ]
  },
  {
   "cell_type": "code",
   "execution_count": 35,
   "id": "f437eab7-179d-47ed-9e6f-eab0c454b169",
   "metadata": {},
   "outputs": [],
   "source": [
    "# Chart - Pie 차트\n",
    "if region == 'All':\n",
    "    source = pivot\n",
    "    chart = getPieChart2(df_filtered, month)\n",
    "    chart.save(f'./charts/db_{region}_{y}_{m}_{d}_1.png')\n",
    "else:\n",
    "    pass\n",
    "\n",
    "# Chart - 라인 차트\n",
    "chart = getLineChart2(df_filtered, month)\n",
    "chart.save(f'./charts/db_{region}_{y}_{m}_{d}_2.png')"
   ]
  },
  {
   "cell_type": "code",
   "execution_count": 36,
   "id": "280e6302-ce5c-4ed6-bac3-50f5c3f9bfaa",
   "metadata": {},
   "outputs": [
    {
     "data": {
      "text/plain": [
       "<docx.shape.InlineShape at 0x170a12d0550>"
      ]
     },
     "execution_count": 36,
     "metadata": {},
     "output_type": "execute_result"
    }
   ],
   "source": [
    "# Document\n",
    "document.add_paragraph('자산 관리(db)', style='List Number')\n",
    "\n",
    "if region == 'All':\n",
    "    document.add_paragraph(f'6월: 총 {total}', style='List Bullet')    \n",
    "    document.add_picture(f'./charts/db_{region}_{y}_{m}_{d}_1.png')\n",
    "else:\n",
    "    pass\n",
    "\n",
    "document.add_paragraph(f'월별 추세', style='List Bullet')\n",
    "document.add_picture(f'./charts/db_{region}_{y}_{m}_{d}_2.png')   "
   ]
  },
  {
   "cell_type": "code",
   "execution_count": 37,
   "id": "b8b186aa-a6d4-4972-bd07-c7f881e2e893",
   "metadata": {},
   "outputs": [
    {
     "data": {
      "text/plain": [
       "<docx.text.paragraph.Paragraph at 0x170a172ec10>"
      ]
     },
     "execution_count": 37,
     "metadata": {},
     "output_type": "execute_result"
    }
   ],
   "source": [
    "# Document\n",
    "# addSummaryTable(df_filtered, regex, month)\n",
    "document.add_page_break()"
   ]
  },
  {
   "cell_type": "markdown",
   "id": "9fab55b5-ae5a-4aec-bc49-8f13c7bd8bf8",
   "metadata": {
    "jp-MarkdownHeadingCollapsed": true,
    "tags": []
   },
   "source": [
    "## 1.6 자산 관리 - K8s"
   ]
  },
  {
   "cell_type": "code",
   "execution_count": 38,
   "id": "b0ef7bde-3629-48cc-94bf-246ae946666d",
   "metadata": {},
   "outputs": [],
   "source": [
    "base_path = r\"./data/1_6_202206_자산관리_k8s_0720_01.ods\"\n",
    "sheet = '6월집계'\n",
    "\n",
    "df = read_ods(base_path, sheet, headers=True)\n",
    "df_filtered = df[df['리전'].apply(lambda x: True if re.search(regex, x) else False) & (df['테넌트']== 'PRD') & (df['월간']=='O')]\n",
    "\n",
    "# Pivoting\n",
    "pivot, total = getPivotTable(df)"
   ]
  },
  {
   "cell_type": "code",
   "execution_count": 39,
   "id": "13ec2791-07ab-42f9-9d01-310a128fec46",
   "metadata": {},
   "outputs": [],
   "source": [
    "# Chart - Pie 차트\n",
    "if region == 'All':\n",
    "    source = pivot\n",
    "    chart = getPieChart(df_filtered, month)\n",
    "    chart.save(f'./charts/k8s_{region}_{y}_{m}_{d}_1.png')\n",
    "else:\n",
    "    pass\n",
    "\n",
    "# Chart - 라인 차트\n",
    "chart = getLineChart(df_filtered, month)\n",
    "chart.save(f'./charts/k8s_{region}_{y}_{m}_{d}_2.png')"
   ]
  },
  {
   "cell_type": "code",
   "execution_count": 40,
   "id": "1862c6c3-8472-42ab-a005-be063c991e91",
   "metadata": {},
   "outputs": [
    {
     "data": {
      "text/plain": [
       "<docx.shape.InlineShape at 0x170a1686850>"
      ]
     },
     "execution_count": 40,
     "metadata": {},
     "output_type": "execute_result"
    }
   ],
   "source": [
    "# Document\n",
    "document.add_paragraph('자산 관리(k8s)', style='List Number')\n",
    "\n",
    "if region == 'All':\n",
    "    document.add_paragraph(f'{month}: 총 {total}', style='List Bullet')    \n",
    "    document.add_picture(f'./charts/k8s_{region}_{y}_{m}_{d}_1.png')\n",
    "else:\n",
    "    pass\n",
    "\n",
    "document.add_paragraph(f'월별 추세', style='List Bullet')\n",
    "document.add_picture(f'./charts/k8s_{region}_{y}_{m}_{d}_2.png')   "
   ]
  },
  {
   "cell_type": "code",
   "execution_count": 41,
   "id": "72781628-3995-4ebe-be90-0a269f43da8d",
   "metadata": {},
   "outputs": [
    {
     "data": {
      "text/plain": [
       "<docx.text.paragraph.Paragraph at 0x170a198b7c0>"
      ]
     },
     "execution_count": 41,
     "metadata": {},
     "output_type": "execute_result"
    }
   ],
   "source": [
    "# Document\n",
    "# addSummaryTable(df_filtered, regex, month)\n",
    "document.add_page_break()"
   ]
  },
  {
   "cell_type": "markdown",
   "id": "6ba5cd55-59d5-4d8d-aa02-7a570eb67d85",
   "metadata": {
    "jp-MarkdownHeadingCollapsed": true,
    "tags": []
   },
   "source": [
    "## 1.7 용량 관리"
   ]
  },
  {
   "cell_type": "code",
   "execution_count": 42,
   "id": "80173d5a-ba4b-4c93-9a30-920d513633fe",
   "metadata": {},
   "outputs": [],
   "source": [
    "base_path = r\"./data/1_7_202206_용량관리_0720_01.ods\"\n",
    "sheet = '6월집계'\n",
    "\n",
    "df = read_ods(base_path, sheet, headers=True)\n",
    "df_filtered = df[df['리전'].apply(lambda x: True if re.search(regex, x) else False) & (df['테넌트']== 'PRD') & (df['월간']=='O')]\n",
    "\n",
    "# Pivoting\n",
    "pivot, total = getPivotTable(df)"
   ]
  },
  {
   "cell_type": "code",
   "execution_count": 43,
   "id": "1fb8f723-a881-4ee4-8c87-900bcdfae909",
   "metadata": {},
   "outputs": [],
   "source": [
    "# Chart - Pie 차트\n",
    "if region == 'All':\n",
    "    source = pivot\n",
    "    chart = getPieChart(df_filtered, month)\n",
    "    chart.save(f'./charts/cpm_{region}_{y}_{m}_{d}_1.png')\n",
    "else:\n",
    "    pass\n",
    "\n",
    "# Chart - 라인 차트\n",
    "chart = getLineChart(df_filtered, month)\n",
    "chart.save(f'./charts/cpm_{region}_{y}_{m}_{d}_2.png')"
   ]
  },
  {
   "cell_type": "code",
   "execution_count": 44,
   "id": "2e9d72be-b2f3-44c4-98aa-4ab80cf38c21",
   "metadata": {},
   "outputs": [
    {
     "data": {
      "text/plain": [
       "<docx.shape.InlineShape at 0x170a1980c40>"
      ]
     },
     "execution_count": 44,
     "metadata": {},
     "output_type": "execute_result"
    }
   ],
   "source": [
    "# Document\n",
    "document.add_paragraph('용량(이슈) 관리', style='List Number')\n",
    "\n",
    "if region == 'All':\n",
    "    document.add_paragraph(f'{month}: 총 {total}', style='List Bullet')    \n",
    "    document.add_picture(f'./charts/cpm_{region}_{y}_{m}_{d}_1.png')\n",
    "else:\n",
    "    pass\n",
    "\n",
    "document.add_paragraph(f'월별 추세', style='List Bullet')\n",
    "document.add_picture(f'./charts/cpm_{region}_{y}_{m}_{d}_2.png')   "
   ]
  },
  {
   "cell_type": "code",
   "execution_count": 45,
   "id": "281eb520-5c01-4e65-8b49-c856bd8209f3",
   "metadata": {},
   "outputs": [
    {
     "data": {
      "text/plain": [
       "<docx.text.paragraph.Paragraph at 0x170a1948c10>"
      ]
     },
     "execution_count": 45,
     "metadata": {},
     "output_type": "execute_result"
    }
   ],
   "source": [
    "# Document\n",
    "addSummaryTable(df_filtered, regex, month)\n",
    "document.add_page_break()"
   ]
  },
  {
   "cell_type": "code",
   "execution_count": 46,
   "id": "e121a457-e300-4bf6-a8ed-db2c7254e743",
   "metadata": {},
   "outputs": [
    {
     "data": {
      "text/plain": [
       "<docx.text.paragraph.Paragraph at 0x170a1980580>"
      ]
     },
     "execution_count": 46,
     "metadata": {},
     "output_type": "execute_result"
    }
   ],
   "source": [
    "document.add_paragraph(f'자원 현황표', style='List Bullet')"
   ]
  },
  {
   "cell_type": "markdown",
   "id": "4646dc19-72f8-4b7c-b39f-184cda10d628",
   "metadata": {
    "jp-MarkdownHeadingCollapsed": true,
    "tags": []
   },
   "source": [
    "## 1.8 백업 관리"
   ]
  },
  {
   "cell_type": "code",
   "execution_count": 47,
   "id": "41f9d197-9828-42b1-acb0-eb722701e44f",
   "metadata": {},
   "outputs": [],
   "source": [
    "base_path = r\"./data/1_8_202206_백업관리_0720_01.ods\"\n",
    "sheet = '6월집계'\n",
    "\n",
    "df = read_ods(base_path, sheet, headers=True)\n",
    "df_filtered = df[df['리전'].apply(lambda x: True if re.search(regex, x) else False) & (df['테넌트']== 'PRD') & (df['월간']=='O')]\n",
    "\n",
    "# Pivoting\n",
    "pivot, total = getPivotTable(df)"
   ]
  },
  {
   "cell_type": "code",
   "execution_count": 48,
   "id": "2feb4422-3754-4fa0-b6d7-7dd814823bfb",
   "metadata": {},
   "outputs": [],
   "source": [
    "# Chart - Pie 차트\n",
    "if region == 'All':\n",
    "    source = pivot\n",
    "    chart = getPieChart(df_filtered, month)\n",
    "    chart.save(f'./charts/bm_{region}_{y}_{m}_{d}_1.png')\n",
    "else:\n",
    "    pass\n",
    "\n",
    "# Chart - 라인 차트\n",
    "chart = getLineChart(df_filtered, month)\n",
    "chart.save(f'./charts/bm_{region}_{y}_{m}_{d}_2.png')"
   ]
  },
  {
   "cell_type": "code",
   "execution_count": 49,
   "id": "8e369d67-f65b-46d1-a50e-bece94135670",
   "metadata": {},
   "outputs": [
    {
     "data": {
      "text/plain": [
       "<docx.shape.InlineShape at 0x170a19481c0>"
      ]
     },
     "execution_count": 49,
     "metadata": {},
     "output_type": "execute_result"
    }
   ],
   "source": [
    "# Document\n",
    "document.add_paragraph('백업 관리', style='List Number')\n",
    "\n",
    "if region == 'All':\n",
    "    document.add_paragraph(f'{month}: 총 {total}', style='List Bullet')    \n",
    "    document.add_picture(f'./charts/bm_{region}_{y}_{m}_{d}_1.png')\n",
    "else:\n",
    "    pass\n",
    "\n",
    "document.add_paragraph(f'월별 추세', style='List Bullet')\n",
    "document.add_picture(f'./charts/bm_{region}_{y}_{m}_{d}_2.png')   "
   ]
  },
  {
   "cell_type": "code",
   "execution_count": 50,
   "id": "87fc4ede-321d-4324-9909-4847c2ac3205",
   "metadata": {},
   "outputs": [
    {
     "data": {
      "text/plain": [
       "<docx.text.paragraph.Paragraph at 0x170a19d1b80>"
      ]
     },
     "execution_count": 50,
     "metadata": {},
     "output_type": "execute_result"
    }
   ],
   "source": [
    "# Document\n",
    "# addSummaryTable(df_filtered, regex, month)\n",
    "document.add_page_break()"
   ]
  },
  {
   "cell_type": "markdown",
   "id": "64752b33-16b5-426e-a0a5-c4b99f9c3ae0",
   "metadata": {
    "jp-MarkdownHeadingCollapsed": true,
    "tags": []
   },
   "source": [
    "## 1.9 보안 관리"
   ]
  },
  {
   "cell_type": "code",
   "execution_count": 51,
   "id": "14abfdf7-4f38-492c-b7c0-a2ad06204885",
   "metadata": {},
   "outputs": [],
   "source": [
    "base_path = r\"./data/1_9_202206_보안관리_0720_01.ods\"\n",
    "sheet = '6월집계'\n",
    "\n",
    "df = read_ods(base_path, sheet, headers=True)\n",
    "df_filtered = df[df['리전'].apply(lambda x: True if re.search(regex, x) else False) & (df['테넌트']== 'PRD') & (df['월간']=='O')]\n",
    "\n",
    "# Pivoting\n",
    "pivot, total = getPivotTable(df)"
   ]
  },
  {
   "cell_type": "code",
   "execution_count": 52,
   "id": "cae69319-c325-40c0-b301-390bd6986b0b",
   "metadata": {},
   "outputs": [],
   "source": [
    "# Chart - Pie 차트\n",
    "if region == 'All':\n",
    "    source = pivot\n",
    "    chart = getPieChart(df_filtered, month)\n",
    "    chart.save(f'./charts/sm_{region}_{y}_{m}_{d}_1.png')\n",
    "else:\n",
    "    pass\n",
    "\n",
    "# Chart - 라인 차트\n",
    "chart = getLineChart(df_filtered, month)\n",
    "chart.save(f'./charts/sm_{region}_{y}_{m}_{d}_2.png')"
   ]
  },
  {
   "cell_type": "code",
   "execution_count": 53,
   "id": "cc73840e-ead6-4cb0-b2fe-ff5cbc326b6f",
   "metadata": {},
   "outputs": [
    {
     "data": {
      "text/plain": [
       "<docx.shape.InlineShape at 0x170a18c6580>"
      ]
     },
     "execution_count": 53,
     "metadata": {},
     "output_type": "execute_result"
    }
   ],
   "source": [
    "# Document\n",
    "document.add_paragraph('보안 관리', style='List Number')\n",
    "\n",
    "if region == 'All':\n",
    "    document.add_paragraph(f'{month}: 총 {total}', style='List Bullet')    \n",
    "    document.add_picture(f'./charts/sm_{region}_{y}_{m}_{d}_1.png')\n",
    "else:\n",
    "    pass\n",
    "\n",
    "document.add_paragraph(f'월별 추세', style='List Bullet')\n",
    "document.add_picture(f'./charts/sm_{region}_{y}_{m}_{d}_2.png')   "
   ]
  },
  {
   "cell_type": "code",
   "execution_count": 54,
   "id": "3e39832a-4818-4753-b921-a7be3276bdb1",
   "metadata": {},
   "outputs": [
    {
     "data": {
      "text/plain": [
       "<docx.text.paragraph.Paragraph at 0x170a18ea0d0>"
      ]
     },
     "execution_count": 54,
     "metadata": {},
     "output_type": "execute_result"
    }
   ],
   "source": [
    "# Document\n",
    "addSummaryTable(df_filtered, regex, month)\n",
    "document.add_page_break()"
   ]
  },
  {
   "cell_type": "markdown",
   "id": "310c18b3-6b7f-4608-9710-68ce11496bec",
   "metadata": {
    "tags": []
   },
   "source": [
    "## 1.10 하드웨어 정기점검"
   ]
  },
  {
   "cell_type": "code",
   "execution_count": 55,
   "id": "1fe8c2d7-3f15-45e7-a82a-ecb027b43eeb",
   "metadata": {},
   "outputs": [],
   "source": [
    "base_path = r\"./data/1_10_202206_정기점검_0720_01.ods\"\n",
    "sheet = '6월집계'\n",
    "\n",
    "df = read_ods(base_path, sheet, headers=True)\n",
    "df_filtered = df[df['리전'].apply(lambda x: True if re.search(regex, x) else False) & (df['테넌트']== 'PRD') & (df['월간']=='O')]\n",
    "\n",
    "# Pivoting\n",
    "pivot, total = getPivotTable(df)"
   ]
  },
  {
   "cell_type": "code",
   "execution_count": 56,
   "id": "e58070ae-0a83-4f6e-87da-c416db7f9f58",
   "metadata": {},
   "outputs": [],
   "source": [
    "# Chart - Pie 차트\n",
    "if region == 'All':\n",
    "    source = pivot\n",
    "    chart = getPieChart(df_filtered, month)\n",
    "    chart.save(f'./charts/rc_{region}_{y}_{m}_{d}_1.png')\n",
    "else:\n",
    "    pass\n",
    "\n",
    "# Chart - 라인 차트\n",
    "chart = getLineChart(df_filtered, month)\n",
    "chart.save(f'./charts/rc_{region}_{y}_{m}_{d}_2.png')"
   ]
  },
  {
   "cell_type": "code",
   "execution_count": 57,
   "id": "5eac84be-dfcf-4632-bd4f-d4033167228d",
   "metadata": {},
   "outputs": [
    {
     "data": {
      "text/plain": [
       "<docx.shape.InlineShape at 0x170a1960040>"
      ]
     },
     "execution_count": 57,
     "metadata": {},
     "output_type": "execute_result"
    }
   ],
   "source": [
    "# Document\n",
    "document.add_paragraph('정기점검', style='List Number')\n",
    "\n",
    "if region == 'All':\n",
    "    document.add_paragraph(f'{month}: 총 {total}', style='List Bullet')    \n",
    "    document.add_picture(f'./charts/rc_{region}_{y}_{m}_{d}_1.png')\n",
    "else:\n",
    "    pass\n",
    "\n",
    "document.add_paragraph(f'월별 추세', style='List Bullet')\n",
    "document.add_picture(f'./charts/rc_{region}_{y}_{m}_{d}_2.png')   "
   ]
  },
  {
   "cell_type": "code",
   "execution_count": 58,
   "id": "04dd2e62-709a-4332-a65f-f7d7b76db34f",
   "metadata": {},
   "outputs": [],
   "source": [
    "# Document\n",
    "# addSummaryTable(df_filtered, regex, month)\n",
    "document.add_page_break()\n",
    "document.save(f'{month}_{region}_월간보고서_{y}_{m}_{d}.docx')"
   ]
  },
  {
   "cell_type": "code",
   "execution_count": null,
   "id": "eca495c3-4a34-4411-bbfc-4dcbc8b83681",
   "metadata": {},
   "outputs": [],
   "source": []
  }
 ],
 "metadata": {
  "kernelspec": {
   "display_name": "Python 3 (ipykernel)",
   "language": "python",
   "name": "python3"
  },
  "language_info": {
   "codemirror_mode": {
    "name": "ipython",
    "version": 3
   },
   "file_extension": ".py",
   "mimetype": "text/x-python",
   "name": "python",
   "nbconvert_exporter": "python",
   "pygments_lexer": "ipython3",
   "version": "3.9.13"
  }
 },
 "nbformat": 4,
 "nbformat_minor": 5
}
