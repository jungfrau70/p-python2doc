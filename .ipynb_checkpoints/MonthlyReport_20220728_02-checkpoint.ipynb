{
 "cells": [
  {
   "cell_type": "code",
   "execution_count": 7,
   "id": "032fea3d-6acb-44cd-a6ae-647ad543400b",
   "metadata": {},
   "outputs": [],
   "source": [
    "import datetime\n",
    "import pandas as pd\n",
    "import warnings\n",
    "warnings.filterwarnings('ignore')\n",
    "\n",
    "from chart import *\n",
    "from table import *\n",
    "from document import *"
   ]
  },
  {
   "cell_type": "code",
   "execution_count": 8,
   "id": "982b673b-7767-41c7-959a-c335f5c1b890",
   "metadata": {},
   "outputs": [
    {
     "name": "stdout",
     "output_type": "stream",
     "text": [
      "보고서 유형:  월간 월:  6월\n",
      "^(KR|CN|NA|EU|SG|RU|Global|All)\n"
     ]
    }
   ],
   "source": [
    "# 메타 정보\n",
    "\n",
    "today = datetime.date.today()\n",
    "\n",
    "y = today.year\n",
    "m = today.month\n",
    "d = today.day\n",
    "w = today.weekday()\n",
    "\n",
    "# report version\n",
    "rtype = '월간' # 연간, 반기\n",
    "month = '6월' # 7월\n",
    "region = 'All' # All|KR|CN|NA|EU|SG|RU\n",
    "v = '1'\n",
    "\n",
    "if region == 'KR':\n",
    "    regex = '^(KR|Global|All)' #' KR'\n",
    "elif region == 'CN':\n",
    "    regex = '^(CN|Global|All)'\n",
    "elif region == 'NA':\n",
    "    regex = '^(NA|Global|All)'\n",
    "elif region == 'EU':\n",
    "    regex = '^(EU|Global|All)'\n",
    "elif region == 'SG':\n",
    "    regex = '^(SG|Global|All)'\n",
    "elif region == 'RU':\n",
    "    regex = '^(SG|Global|All)'\n",
    "else:\n",
    "    regex = '^(KR|CN|NA|EU|SG|RU|Global|All)'\n",
    "\n",
    "print(\"보고서 유형: \", rtype, \"월: \", month)\n",
    "print(regex)"
   ]
  },
  {
   "cell_type": "code",
   "execution_count": 9,
   "id": "7d3a0f23-a5c6-42bc-9a55-d96482e409e0",
   "metadata": {},
   "outputs": [],
   "source": [
    "# Document 기본 폰트\n",
    "style = document.styles['Normal']\n",
    "style.font.name = '맑은고딕'\n",
    "style.font.size = Pt(12)\n",
    "style._element.rPr.rFonts.set(qn('w:eastAsia'), '맑은고딕')"
   ]
  },
  {
   "cell_type": "code",
   "execution_count": 10,
   "id": "f19d5ed1-2b5a-4d14-ba3c-b50e9e92f4f4",
   "metadata": {},
   "outputs": [
    {
     "data": {
      "text/plain": [
       "ThemeRegistry.enable('맑은고딕')"
      ]
     },
     "execution_count": 10,
     "metadata": {},
     "output_type": "execute_result"
    }
   ],
   "source": [
    "# Chart 기본 폰트\n",
    "alt.themes.register('맑은고딕', hanfont)\n",
    "alt.themes.enable('맑은고딕')"
   ]
  },
  {
   "cell_type": "code",
   "execution_count": 11,
   "id": "dbb2fd08-c1e9-4bce-a96a-4fdb9898eeac",
   "metadata": {},
   "outputs": [
    {
     "data": {
      "text/plain": [
       "<docx.text.paragraph.Paragraph at 0x247b8fd4490>"
      ]
     },
     "execution_count": 11,
     "metadata": {},
     "output_type": "execute_result"
    }
   ],
   "source": [
    "# Cover Page\n",
    "from docxtpl import DocxTemplate\n",
    "\n",
    "doc = DocxTemplate(\"cover-page-template.docx\")\n",
    "context = { \n",
    "    'Service' : \"HMC CCS Infra 운영/관리\",      \n",
    "    'Title' : \"Monthly Report\",    \n",
    "    'Region' : \"Global\",        \n",
    "    'Year' : \"2022\",\n",
    "    'Month' : \"6\",\n",
    "    'Department' : \"클라우드운영센터\",\n",
    "    'Author' : \"정인환\"\n",
    "}\n",
    "doc.render(context)\n",
    "year = 2022\n",
    "month = 6\n",
    "doc.save(f\"MR-{year}-{month}.docx\")\n",
    "\n",
    "if region == 'All':\n",
    "    document.add_heading(f'[2022년.{month}] Cloud Infra 운영', level=0)\n",
    "else:\n",
    "    document.add_heading(f'[2022년.{month}] {region} Cloud Infra 운영', level=0)\n",
    "\n",
    "document.add_heading(f'{y}.{m}.{d}', level=1)\n",
    "document.add_heading(f'클라우드운영센터', level=1)\n",
    "document.add_page_break()\n"
   ]
  },
  {
   "cell_type": "markdown",
   "id": "a4410470-44b5-4981-b1e5-ee94cfb07350",
   "metadata": {
    "tags": []
   },
   "source": [
    "## 요약"
   ]
  },
  {
   "cell_type": "code",
   "execution_count": 12,
   "id": "91927a17-4b6d-420d-93eb-e316e575eedb",
   "metadata": {},
   "outputs": [
    {
     "ename": "KeyError",
     "evalue": "'There is no sheet named 6집계'",
     "output_type": "error",
     "traceback": [
      "\u001b[1;31m---------------------------------------------------------------------------\u001b[0m",
      "\u001b[1;31mKeyError\u001b[0m                                  Traceback (most recent call last)",
      "Input \u001b[1;32mIn [12]\u001b[0m, in \u001b[0;36m<cell line: 5>\u001b[1;34m()\u001b[0m\n\u001b[0;32m      2\u001b[0m base_path \u001b[38;5;241m=\u001b[39m \u001b[38;5;124mr\u001b[39m\u001b[38;5;124m\"\u001b[39m\u001b[38;5;124m./data/요약_202206_서비스관리_0727_01.ods\u001b[39m\u001b[38;5;124m\"\u001b[39m\n\u001b[0;32m      3\u001b[0m sheet \u001b[38;5;241m=\u001b[39m \u001b[38;5;124mf\u001b[39m\u001b[38;5;124m'\u001b[39m\u001b[38;5;132;01m{\u001b[39;00mmonth\u001b[38;5;132;01m}\u001b[39;00m\u001b[38;5;124m집계\u001b[39m\u001b[38;5;124m'\u001b[39m\n\u001b[1;32m----> 5\u001b[0m df \u001b[38;5;241m=\u001b[39m \u001b[43mread_ods\u001b[49m\u001b[43m(\u001b[49m\u001b[43mbase_path\u001b[49m\u001b[43m,\u001b[49m\u001b[43m \u001b[49m\u001b[43msheet\u001b[49m\u001b[43m,\u001b[49m\u001b[43m \u001b[49m\u001b[43mheaders\u001b[49m\u001b[38;5;241;43m=\u001b[39;49m\u001b[38;5;28;43;01mTrue\u001b[39;49;00m\u001b[43m)\u001b[49m\n\u001b[0;32m      7\u001b[0m \u001b[38;5;66;03m# 리전 & 운영계, 월간보고서용\u001b[39;00m\n\u001b[0;32m      8\u001b[0m df_filtered \u001b[38;5;241m=\u001b[39m df[df[\u001b[38;5;124m'\u001b[39m\u001b[38;5;124m리전\u001b[39m\u001b[38;5;124m'\u001b[39m]\u001b[38;5;241m.\u001b[39mapply(\u001b[38;5;28;01mlambda\u001b[39;00m x: \u001b[38;5;28;01mTrue\u001b[39;00m \u001b[38;5;28;01mif\u001b[39;00m re\u001b[38;5;241m.\u001b[39msearch(regex, x) \u001b[38;5;28;01melse\u001b[39;00m \u001b[38;5;28;01mFalse\u001b[39;00m) \u001b[38;5;241m&\u001b[39m (df[\u001b[38;5;124m'\u001b[39m\u001b[38;5;124m테넌트\u001b[39m\u001b[38;5;124m'\u001b[39m]\u001b[38;5;241m==\u001b[39m \u001b[38;5;124m'\u001b[39m\u001b[38;5;124mPRD\u001b[39m\u001b[38;5;124m'\u001b[39m) \u001b[38;5;241m&\u001b[39m (df[\u001b[38;5;124m'\u001b[39m\u001b[38;5;124m월간\u001b[39m\u001b[38;5;124m'\u001b[39m]\u001b[38;5;241m==\u001b[39m\u001b[38;5;124m'\u001b[39m\u001b[38;5;124mO\u001b[39m\u001b[38;5;124m'\u001b[39m)]\n",
      "File \u001b[1;32mC:\\Workspace\\p-python2doc\\venv\\lib\\site-packages\\pandas_ods_reader\\main.py:35\u001b[0m, in \u001b[0;36mread_ods\u001b[1;34m(file_or_path, sheet, headers, columns)\u001b[0m\n\u001b[0;32m     12\u001b[0m \u001b[38;5;124;03m\"\"\"\u001b[39;00m\n\u001b[0;32m     13\u001b[0m \u001b[38;5;124;03mRead in the provided ods or .ods file and convert it to `pandas.DataFrame`.\u001b[39;00m\n\u001b[0;32m     14\u001b[0m \u001b[38;5;124;03mWill detect the filetype based on the file's extension or fall back to\u001b[39;00m\n\u001b[1;32m   (...)\u001b[0m\n\u001b[0;32m     32\u001b[0m \u001b[38;5;124;03m    The content of the specified sheet as a DataFrame.\u001b[39;00m\n\u001b[0;32m     33\u001b[0m \u001b[38;5;124;03m\"\"\"\u001b[39;00m\n\u001b[0;32m     34\u001b[0m backend \u001b[38;5;241m=\u001b[39m EXT_MAP\u001b[38;5;241m.\u001b[39mget(Path(file_or_path)\u001b[38;5;241m.\u001b[39msuffix, ods)\n\u001b[1;32m---> 35\u001b[0m \u001b[38;5;28;01mreturn\u001b[39;00m \u001b[43malgo\u001b[49m\u001b[38;5;241;43m.\u001b[39;49m\u001b[43mread_data\u001b[49m\u001b[43m(\u001b[49m\n\u001b[0;32m     36\u001b[0m \u001b[43m    \u001b[49m\u001b[43mbackend\u001b[49m\u001b[43m,\u001b[49m\u001b[43m \u001b[49m\u001b[43mfile_or_path\u001b[49m\u001b[43m,\u001b[49m\u001b[43m \u001b[49m\u001b[43msheet\u001b[49m\u001b[43m,\u001b[49m\u001b[43m \u001b[49m\u001b[43mheaders\u001b[49m\u001b[38;5;241;43m=\u001b[39;49m\u001b[43mheaders\u001b[49m\u001b[43m,\u001b[49m\u001b[43m \u001b[49m\u001b[43mcolumns\u001b[49m\u001b[38;5;241;43m=\u001b[39;49m\u001b[43mcolumns\u001b[49m\n\u001b[0;32m     37\u001b[0m \u001b[43m\u001b[49m\u001b[43m)\u001b[49m\n",
      "File \u001b[1;32mC:\\Workspace\\p-python2doc\\venv\\lib\\site-packages\\pandas_ods_reader\\algo.py:64\u001b[0m, in \u001b[0;36mread_data\u001b[1;34m(backend, file_or_path, sheet_id, headers, columns)\u001b[0m\n\u001b[0;32m     62\u001b[0m \u001b[38;5;28;01mdef\u001b[39;00m \u001b[38;5;21mread_data\u001b[39m(backend, file_or_path, sheet_id, headers\u001b[38;5;241m=\u001b[39m\u001b[38;5;28;01mTrue\u001b[39;00m, columns\u001b[38;5;241m=\u001b[39m\u001b[38;5;28;01mNone\u001b[39;00m):\n\u001b[0;32m     63\u001b[0m     doc \u001b[38;5;241m=\u001b[39m backend\u001b[38;5;241m.\u001b[39mget_doc(file_or_path)\n\u001b[1;32m---> 64\u001b[0m     rows \u001b[38;5;241m=\u001b[39m \u001b[43mbackend\u001b[49m\u001b[38;5;241;43m.\u001b[39;49m\u001b[43mget_rows\u001b[49m\u001b[43m(\u001b[49m\u001b[43mdoc\u001b[49m\u001b[43m,\u001b[49m\u001b[43m \u001b[49m\u001b[43msheet_id\u001b[49m\u001b[43m)\u001b[49m\n\u001b[0;32m     65\u001b[0m     df \u001b[38;5;241m=\u001b[39m parse_data(backend, rows, headers\u001b[38;5;241m=\u001b[39mheaders, columns\u001b[38;5;241m=\u001b[39mcolumns)\n\u001b[0;32m     66\u001b[0m     \u001b[38;5;28;01mreturn\u001b[39;00m sanitize_df(df)\n",
      "File \u001b[1;32mC:\\Workspace\\p-python2doc\\venv\\lib\\site-packages\\pandas_ods_reader\\parsers\\ods.py:14\u001b[0m, in \u001b[0;36mget_rows\u001b[1;34m(doc, sheet_id)\u001b[0m\n\u001b[0;32m     12\u001b[0m     sheets \u001b[38;5;241m=\u001b[39m [sheet\u001b[38;5;241m.\u001b[39mname \u001b[38;5;28;01mfor\u001b[39;00m sheet \u001b[38;5;129;01min\u001b[39;00m doc\u001b[38;5;241m.\u001b[39msheets]\n\u001b[0;32m     13\u001b[0m     \u001b[38;5;28;01mif\u001b[39;00m sheet_id \u001b[38;5;129;01mnot\u001b[39;00m \u001b[38;5;129;01min\u001b[39;00m sheets:\n\u001b[1;32m---> 14\u001b[0m         \u001b[38;5;28;01mraise\u001b[39;00m \u001b[38;5;167;01mKeyError\u001b[39;00m(\u001b[38;5;124m\"\u001b[39m\u001b[38;5;124mThere is no sheet named \u001b[39m\u001b[38;5;132;01m{}\u001b[39;00m\u001b[38;5;124m\"\u001b[39m\u001b[38;5;241m.\u001b[39mformat(sheet_id))\n\u001b[0;32m     15\u001b[0m     sheet_id \u001b[38;5;241m=\u001b[39m sheets\u001b[38;5;241m.\u001b[39mindex(sheet_id) \u001b[38;5;241m+\u001b[39m \u001b[38;5;241m1\u001b[39m\n\u001b[0;32m     16\u001b[0m sheet \u001b[38;5;241m=\u001b[39m doc\u001b[38;5;241m.\u001b[39msheets[sheet_id \u001b[38;5;241m-\u001b[39m \u001b[38;5;241m1\u001b[39m]\n",
      "\u001b[1;31mKeyError\u001b[0m: 'There is no sheet named 6집계'"
     ]
    }
   ],
   "source": [
    "# ETL\n",
    "base_path = r\"./data/요약_202206_서비스관리_0727_01.ods\"\n",
    "sheet = f'{month}집계'\n",
    "\n",
    "df = read_ods(base_path, sheet, headers=True)\n",
    "\n",
    "# 리전 & 운영계, 월간보고서용\n",
    "df_filtered = df[df['리전'].apply(lambda x: True if re.search(regex, x) else False) & (df['테넌트']== 'PRD') & (df['월간']=='O')]"
   ]
  },
  {
   "cell_type": "code",
   "execution_count": null,
   "id": "f0a7e3ef-b335-4125-be00-86233e34d929",
   "metadata": {},
   "outputs": [],
   "source": [
    "# Chart\n",
    "if region == 'All':\n",
    "    # Data\n",
    "    pivot, total = getPivotTable(df, month)\n",
    "    source = pivot\n",
    "\n",
    "    # Chart\n",
    "    chart = getPieChart(source)\n",
    "    chart.save(f'./charts/summary_{y}_{m}_{d}_{v}_1.png')\n",
    "\n",
    "    # Docx\n",
    "    document.add_paragraph('요약')    \n",
    "    document.add_paragraph(f'{month}: 총 {total}', style='List Bullet')\n",
    "    document.add_picture(f'./charts/summary_{y}_{m}_{d}_{v}_1.png')\n",
    "else:\n",
    "    pass"
   ]
  },
  {
   "cell_type": "code",
   "execution_count": null,
   "id": "77a10c58-3b9a-4dc6-9ac4-e0f743d18c76",
   "metadata": {},
   "outputs": [],
   "source": [
    "# Document\n",
    "addSummaryTable(df_filtered, regex, month)\n",
    "document.add_page_break()"
   ]
  },
  {
   "cell_type": "code",
   "execution_count": null,
   "id": "d1a79e5a-7e38-4e24-8c80-6c52cde6f5cc",
   "metadata": {},
   "outputs": [],
   "source": []
  },
  {
   "cell_type": "markdown",
   "id": "ddcf5ec0-e21b-4f21-90df-a00e3d4c8d8d",
   "metadata": {
    "tags": []
   },
   "source": [
    "## 1.1 모니터링(인시던트핸들링)"
   ]
  },
  {
   "cell_type": "code",
   "execution_count": null,
   "id": "2f60368b-eff6-4615-a785-0a1e29991cdf",
   "metadata": {},
   "outputs": [],
   "source": [
    "base_path = r\"./data/1_1_202206_모니터링_인시던트핸들링_0727_01.ods\"\n",
    "sheet = f'{month}집계'\n",
    "\n",
    "df = read_ods(base_path, sheet, headers=True)\n",
    "df['장애전파소요시간'] = (pd.to_datetime(df['장애전파시간.1'])-pd.to_datetime(df['발생인지시간'])).astype('timedelta64[m]')\n",
    "\n",
    "# Pivoting\n",
    "pivot, total = getPivotTable(df, month)\n",
    "\n",
    "# 리전 & 운영계, 월간보고서용\n",
    "df_filtered = df[df['리전'].apply(lambda x: True if re.search(regex, x) else False) & (df['테넌트']== 'PRD') & (df['진행상태']=='완료') & (df['월간']=='O')]\n",
    "df_filtered, timeslot = getTables(df_filtered, regex, month)\n",
    "    \n",
    "# SLA failed\n",
    "df_failed = df_filtered[ (df_filtered['장애전파'] > 10) & (df_filtered['월']== month)]\n",
    "df_failed[['날짜', '조치내용', 'JIRA_Ticket_No', '장애전파소요시간']]"
   ]
  },
  {
   "cell_type": "code",
   "execution_count": null,
   "id": "485de9ce-3f3f-4b23-b013-8657f9124ca2",
   "metadata": {},
   "outputs": [],
   "source": [
    "# Chart - Pie 차트\n",
    "if region == 'All':\n",
    "    source = pivot\n",
    "    chart = getPieChart(source)\n",
    "    chart.save(f'./charts/mon_{region}_{y}_{m}_{d}_1.png')\n",
    "else:\n",
    "    pass\n",
    "\n",
    "# Chart - 스캐터 차트    \n",
    "chart = getScatterChart(timeslot, month)\n",
    "chart.save(f'./charts/mon_{region}_{y}_{m}_{d}_2.png')\n",
    "\n",
    "# Chart - 라인 차트\n",
    "chart = getLineChart(df_filtered, month)\n",
    "chart.save(f'./charts/mon_{region}_{y}_{m}_{d}_3.png')"
   ]
  },
  {
   "cell_type": "code",
   "execution_count": null,
   "id": "39915a37-320c-4de7-9a73-30c69b91440e",
   "metadata": {},
   "outputs": [],
   "source": [
    "# Document\n",
    "document.add_paragraph('모니터링(인시던트핸들링)', style='List Number')\n",
    "\n",
    "if region == 'All':\n",
    "    document.add_paragraph(f'{month}: 총 {total}', style='List Bullet')    \n",
    "    document.add_picture(f'./charts/mon_{region}_{y}_{m}_{d}_1.png')\n",
    "else:\n",
    "    pass\n",
    "\n",
    "document.add_paragraph(f'장애전파 소요시간(분)', style='List Bullet')\n",
    "document.add_picture(f'./charts/mon_{region}_{y}_{m}_{d}_2.png')\n",
    "## 평균 소요 시간, 최대 소요 시간\n",
    "\n",
    "document.add_paragraph(f'장애전파시간 초과 이벤트', style='List Bullet')\n",
    "addFailedTable(df_failed, regex, month)\n",
    "\n",
    "document.add_paragraph(f'월별 발생 건수 (추세)', style='List Bullet')\n",
    "document.add_picture(f'./charts/mon_{region}_{y}_{m}_{d}_3.png')   "
   ]
  },
  {
   "cell_type": "code",
   "execution_count": null,
   "id": "24f5edcf-b586-4599-9d76-4102d2b91743",
   "metadata": {},
   "outputs": [],
   "source": [
    "# Document\n",
    "document.add_page_break()"
   ]
  },
  {
   "cell_type": "code",
   "execution_count": null,
   "id": "25c25174-5f71-4fd8-9c41-3e08b7382ec2",
   "metadata": {},
   "outputs": [],
   "source": []
  },
  {
   "cell_type": "markdown",
   "id": "51513bde-8cfd-4779-9dd4-85e3296f4085",
   "metadata": {
    "tags": []
   },
   "source": [
    "## 1.2 이슈 관리"
   ]
  },
  {
   "cell_type": "code",
   "execution_count": null,
   "id": "0485f45d-c5f2-40fa-ba02-3bf0e77b4e2a",
   "metadata": {},
   "outputs": [],
   "source": [
    "base_path = r\"./data/1_2_202206_이슈관리_0727_01.ods\"\n",
    "sheet = f'{month}집계'\n",
    "\n",
    "df = read_ods(base_path, sheet, headers=True)\n",
    "df_filtered = df[df['리전'].apply(lambda x: True if re.search(regex, x) else False) & (df['테넌트']== 'PRD') & (df['진행상태']=='완료') & (df['월간']=='O')]\n",
    "\n",
    "# Pivoting\n",
    "pivot, total = getPivotTable(df, month)"
   ]
  },
  {
   "cell_type": "code",
   "execution_count": null,
   "id": "c615a2b7-4296-4634-8d6e-78a7c77a1495",
   "metadata": {},
   "outputs": [],
   "source": [
    "# Chart - Pie 차트\n",
    "if region == 'All':\n",
    "    source = pivot\n",
    "    chart = getPieChart(source)\n",
    "    chart.save(f'./charts/im_{region}_{y}_{m}_{d}_1.png')\n",
    "else:\n",
    "    pass\n",
    "\n",
    "# Chart - 라인 차트\n",
    "chart = getLineChart(df_filtered, month)\n",
    "chart.save(f'./charts/im_{region}_{y}_{m}_{d}_2.png')"
   ]
  },
  {
   "cell_type": "code",
   "execution_count": null,
   "id": "6ac3fd1b-639e-4b54-9ee3-82effd9611fd",
   "metadata": {},
   "outputs": [],
   "source": [
    "# Document\n",
    "document.add_paragraph('이슈 관리', style='List Number')\n",
    "\n",
    "if region == 'All':\n",
    "    document.add_paragraph(f'{month}: 총 {total}', style='List Bullet')    \n",
    "    document.add_picture(f'./charts/im_{region}_{y}_{m}_{d}_1.png')\n",
    "else:\n",
    "    pass\n",
    "\n",
    "document.add_paragraph(f'월별 발생 건수 (추세)', style='List Bullet')\n",
    "document.add_picture(f'./charts/im_{region}_{y}_{m}_{d}_2.png')   "
   ]
  },
  {
   "cell_type": "code",
   "execution_count": null,
   "id": "a9f3c40b-3337-4f1b-b4b8-13334523f270",
   "metadata": {},
   "outputs": [],
   "source": [
    "# Document\n",
    "addTable4(df_filtered, regex, month)\n",
    "document.add_page_break()"
   ]
  },
  {
   "cell_type": "code",
   "execution_count": null,
   "id": "2c3935f5-1696-492e-af71-096a4c6c31e5",
   "metadata": {},
   "outputs": [],
   "source": []
  },
  {
   "cell_type": "markdown",
   "id": "87b3866d-7b12-45d6-b8fa-3f090cb7cea8",
   "metadata": {
    "tags": []
   },
   "source": [
    "## 1.3 장애 관리"
   ]
  },
  {
   "cell_type": "code",
   "execution_count": null,
   "id": "03f5d7b3-54d4-4e41-a883-f5fa1873e8f7",
   "metadata": {},
   "outputs": [],
   "source": [
    "base_path = r\"./data/1_3_202206_장애관리_0727_01.ods\"\n",
    "sheet = f'{month}집계'\n",
    "\n",
    "df = read_ods(base_path, sheet, headers=True)\n",
    "df_filtered = df[df['리전'].apply(lambda x: True if re.search(regex, x) else False) & (df['테넌트']== 'PRD') & (df['진행상태']=='완료') & (df['월간']=='O')]\n",
    "\n",
    "# Pivoting\n",
    "pivot, total = getPivotTable(df, month)"
   ]
  },
  {
   "cell_type": "code",
   "execution_count": null,
   "id": "8e34f6d7-bfe2-4942-98f9-906fc4ea0412",
   "metadata": {},
   "outputs": [],
   "source": [
    "# Chart - Pie 차트\n",
    "if region == 'All':\n",
    "    source = pivot\n",
    "    chart = getPieChart(source)\n",
    "    chart.save(f'./charts/pm_{region}_{y}_{m}_{d}_1.png')\n",
    "else:\n",
    "    pass\n",
    "\n",
    "# Chart - 라인 차트\n",
    "chart = getLineChart(df_filtered, month)\n",
    "chart.save(f'./charts/pm_{region}_{y}_{m}_{d}_2.png')"
   ]
  },
  {
   "cell_type": "code",
   "execution_count": null,
   "id": "16183de5-ee49-4517-9d5c-42bab37b34ad",
   "metadata": {},
   "outputs": [],
   "source": [
    "# Document\n",
    "document.add_paragraph('장애(RCA) 관리', style='List Number')\n",
    "\n",
    "if region == 'All':\n",
    "    document.add_paragraph(f'6월: 총 {total}', style='List Bullet')    \n",
    "    document.add_picture(f'./charts/pm_{region}_{y}_{m}_{d}_1.png')\n",
    "else:\n",
    "    pass\n",
    "\n",
    "document.add_paragraph(f'월별 발생 건수 (추세)', style='List Bullet')\n",
    "document.add_picture(f'./charts/pm_{region}_{y}_{m}_{d}_2.png')   "
   ]
  },
  {
   "cell_type": "code",
   "execution_count": null,
   "id": "aa06816e-64c8-4f8f-91e7-345760bdb4c6",
   "metadata": {},
   "outputs": [],
   "source": [
    "# Document\n",
    "addTable4(df_filtered, regex, month)\n",
    "document.add_page_break()"
   ]
  },
  {
   "cell_type": "code",
   "execution_count": null,
   "id": "7a5150f5-130e-44fc-b584-c8f95723a998",
   "metadata": {},
   "outputs": [],
   "source": []
  },
  {
   "cell_type": "markdown",
   "id": "ea0552c0-1d40-40c6-af99-6bc1ce2572f7",
   "metadata": {
    "tags": []
   },
   "source": [
    "## 1.4 변경 관리"
   ]
  },
  {
   "cell_type": "code",
   "execution_count": null,
   "id": "00d63c1e-bcdf-4f66-ac98-d6a43d3bf7cd",
   "metadata": {},
   "outputs": [],
   "source": [
    "base_path = r\"./data/1_4_202206_변경관리_0727_01.ods\"\n",
    "sheet = f'{month}집계'\n",
    "\n",
    "df = read_ods(base_path, sheet, headers=True)\n",
    "df_filtered = df[df['리전'].apply(lambda x: True if re.search(regex, x) else False) & (df['테넌트']== 'PRD') & (df['진행상태']=='완료') & (df['월간']=='O')]\n",
    "\n",
    "# Pivoting\n",
    "pivot, total = getPivotTable(df, month)"
   ]
  },
  {
   "cell_type": "code",
   "execution_count": null,
   "id": "a285681b-d3a6-4dba-a409-773c0fa06149",
   "metadata": {},
   "outputs": [],
   "source": [
    "# Chart - Pie 차트\n",
    "if region == 'All':\n",
    "    source = pivot\n",
    "    chart = getPieChart(source)\n",
    "    chart.save(f'./charts/cm_{region}_{y}_{m}_{d}_1.png')\n",
    "else:\n",
    "    pass\n",
    "\n",
    "# Chart - 라인 차트\n",
    "chart = getLineChart(df_filtered, month)\n",
    "chart.save(f'./charts/cm_{region}_{y}_{m}_{d}_2.png')"
   ]
  },
  {
   "cell_type": "code",
   "execution_count": null,
   "id": "a763d156-2ef3-4eaa-9b68-5324280b5e0d",
   "metadata": {},
   "outputs": [],
   "source": [
    "# Document\n",
    "document.add_paragraph('변경 관리', style='List Number')\n",
    "\n",
    "if region == 'All':\n",
    "    document.add_paragraph(f'{month}: 총 {total}', style='List Bullet')    \n",
    "    document.add_picture(f'./charts/cm_{region}_{y}_{m}_{d}_1.png')\n",
    "else:\n",
    "    pass\n",
    "\n",
    "document.add_paragraph(f'월별 발생 건수 (추세)', style='List Bullet')\n",
    "document.add_picture(f'./charts/cm_{region}_{y}_{m}_{d}_2.png')   "
   ]
  },
  {
   "cell_type": "code",
   "execution_count": null,
   "id": "f74d15a7-9071-4244-a69c-1a62774e755d",
   "metadata": {},
   "outputs": [],
   "source": [
    "# Document\n",
    "addTable3(df_filtered, regex, month)\n",
    "document.add_page_break()"
   ]
  },
  {
   "cell_type": "code",
   "execution_count": null,
   "id": "0d61f271-fbdd-4999-ba94-0257879cdcb1",
   "metadata": {},
   "outputs": [],
   "source": []
  },
  {
   "cell_type": "markdown",
   "id": "5e1fd51b-c575-40fe-9375-396fd425bf89",
   "metadata": {
    "tags": []
   },
   "source": [
    "## 1.5 요청 관리"
   ]
  },
  {
   "cell_type": "code",
   "execution_count": null,
   "id": "b292793f-a2bc-43c7-a6dd-1679a05ddeb1",
   "metadata": {},
   "outputs": [],
   "source": [
    "base_path = r\"./data/1_5_202206_요청관리_0727_01.ods\"\n",
    "sheet = f'{month}집계'\n",
    "\n",
    "df = read_ods(base_path, sheet, headers=True)\n",
    "df_filtered = df[df['리전'].apply(lambda x: True if re.search(regex, x) else False) & (df['테넌트']== 'PRD') & (df['진행상태']=='완료') & (df['월간']=='O')]\n",
    "\n",
    "# Pivoting\n",
    "pivot, total = getPivotTable(df, month)"
   ]
  },
  {
   "cell_type": "code",
   "execution_count": null,
   "id": "dd953946-2909-4ef0-9306-b46ce5da4909",
   "metadata": {},
   "outputs": [],
   "source": [
    "# Chart - Pie 차트\n",
    "if region == 'All':\n",
    "    source = pivot\n",
    "    chart = getPieChart(source)\n",
    "    chart.save(f'./charts/cm_{region}_{y}_{m}_{d}_1.png')\n",
    "else:\n",
    "    pass\n",
    "\n",
    "# Chart - 라인 차트\n",
    "chart = getLineChart(df_filtered, month)\n",
    "chart.save(f'./charts/cm_{region}_{y}_{m}_{d}_2.png')"
   ]
  },
  {
   "cell_type": "code",
   "execution_count": null,
   "id": "a8ee068a-5666-40f0-8356-e3977cbcb0c1",
   "metadata": {},
   "outputs": [],
   "source": [
    "# Document\n",
    "document.add_paragraph('요청 관리', style='List Number')\n",
    "\n",
    "if region == 'All':\n",
    "    document.add_paragraph(f'{month}: 총 {total}', style='List Bullet')    \n",
    "    document.add_picture(f'./charts/cm_{region}_{y}_{m}_{d}_1.png')\n",
    "else:\n",
    "    pass\n",
    "\n",
    "document.add_paragraph(f'월별 발생 건수 (추세)', style='List Bullet')\n",
    "document.add_picture(f'./charts/cm_{region}_{y}_{m}_{d}_2.png')   "
   ]
  },
  {
   "cell_type": "code",
   "execution_count": null,
   "id": "4e02e240-163b-45be-ba14-94bc963e9941",
   "metadata": {},
   "outputs": [],
   "source": [
    "# Document\n",
    "# addTable3(df_filtered, regex, month)\n",
    "document.add_page_break()"
   ]
  },
  {
   "cell_type": "code",
   "execution_count": null,
   "id": "c9d270bf-d3a1-45cc-8be7-d22fda7d26bb",
   "metadata": {},
   "outputs": [],
   "source": []
  },
  {
   "cell_type": "markdown",
   "id": "408fb455-01a9-450e-9ae3-5a2ab40f50af",
   "metadata": {
    "tags": []
   },
   "source": [
    "## 1.6 자산 관리 - VM"
   ]
  },
  {
   "cell_type": "code",
   "execution_count": null,
   "id": "80e0e4d7-6512-4dc0-8f5e-e63161d5114e",
   "metadata": {},
   "outputs": [],
   "source": [
    "base_path = r\"./data/1_6_202206_자산관리_VM_0727_01.ods\"\n",
    "sheet = f'{month}집계'\n",
    "\n",
    "df = read_ods(base_path, sheet, headers=True)\n",
    "df_filtered = df[df['리전'].apply(lambda x: True if re.search(regex, x) else False) & (df['테넌트']== 'PRD') & (df['월간']=='O')]\n",
    "\n",
    "# Pivoting\n",
    "pivot, total = getPivotTable(df, month)"
   ]
  },
  {
   "cell_type": "code",
   "execution_count": null,
   "id": "345581d8-6383-4425-857f-79457d5449a0",
   "metadata": {},
   "outputs": [],
   "source": [
    "# Chart - Pie 차트\n",
    "if region == 'All':\n",
    "    source = pivot\n",
    "    chart = getPieChart(source)\n",
    "    chart.save(f'./charts/vm_{region}_{y}_{m}_{d}_1.png')\n",
    "else:\n",
    "    pass\n",
    "\n",
    "# Chart - 라인 차트\n",
    "chart = getLineChart2(df_filtered, month)\n",
    "chart.save(f'./charts/vm_{region}_{y}_{m}_{d}_2.png')"
   ]
  },
  {
   "cell_type": "code",
   "execution_count": null,
   "id": "8995c174-9b7e-4bec-bacb-2d0c9e974549",
   "metadata": {},
   "outputs": [],
   "source": [
    "# Document\n",
    "document.add_paragraph('자산 관리(vm)', style='List Number')\n",
    "\n",
    "if region == 'All':\n",
    "    document.add_paragraph(f'{month}: 총 {total}', style='List Bullet')    \n",
    "    document.add_picture(f'./charts/vm_{region}_{y}_{m}_{d}_1.png')\n",
    "else:\n",
    "    pass\n",
    "\n",
    "document.add_paragraph(f'월별 VM 수 (추세)', style='List Bullet')\n",
    "document.add_picture(f'./charts/vm_{region}_{y}_{m}_{d}_2.png')   "
   ]
  },
  {
   "cell_type": "code",
   "execution_count": null,
   "id": "34474710-fb52-495f-ad04-66708d016176",
   "metadata": {},
   "outputs": [],
   "source": [
    "# Document\n",
    "# addSummaryTable(df_filtered, regex, month)\n",
    "document.add_page_break()"
   ]
  },
  {
   "cell_type": "code",
   "execution_count": null,
   "id": "5bc7bf5b-7d14-4d84-b0f4-63c46a7ad81d",
   "metadata": {},
   "outputs": [],
   "source": []
  },
  {
   "cell_type": "markdown",
   "id": "a74f917b-289e-451e-9834-1f90edb8ef2d",
   "metadata": {
    "tags": []
   },
   "source": [
    "## 1.6 자산 관리 - DB"
   ]
  },
  {
   "cell_type": "code",
   "execution_count": null,
   "id": "93034eb6-247e-4747-ae55-db15d6d292a4",
   "metadata": {},
   "outputs": [],
   "source": [
    "base_path = r\"./data/1_6_202206_자산관리_DB_0727_01.ods\"\n",
    "sheet = f'{month}집계'\n",
    "\n",
    "df = read_ods(base_path, sheet, headers=True)\n",
    "df_filtered = df[df['리전'].apply(lambda x: True if re.search(regex, x) else False) & (df['테넌트']== 'PRD') & (df['월간']=='O')]\n",
    "\n",
    "# Pivoting\n",
    "pivot, total = getPivotTable(df_filtered, month)\n",
    "pivot2, total = getPivotTable2(df_filtered, month)\n",
    "pivot2 = pivot2.reset_index()"
   ]
  },
  {
   "cell_type": "code",
   "execution_count": null,
   "id": "f437eab7-179d-47ed-9e6f-eab0c454b169",
   "metadata": {},
   "outputs": [],
   "source": [
    "# Chart - Pie 차트\n",
    "if region == 'All':\n",
    "    source = pivot\n",
    "    chart = getPieChart(source)\n",
    "    chart.save(f'./charts/db_{region}_{y}_{m}_{d}_1.png')\n",
    "else:\n",
    "    pass\n",
    "\n",
    "# source = pivot2\n",
    "# chart = getPieChart2(source)\n",
    "# chart.save(f'./charts/db_{region}_{y}_{m}_{d}_2.png')\n",
    "\n",
    "# Chart - 라인 차트\n",
    "chart = getLineChart2(df_filtered, month)\n",
    "chart.save(f'./charts/db_{region}_{y}_{m}_{d}_3.png')"
   ]
  },
  {
   "cell_type": "code",
   "execution_count": null,
   "id": "280e6302-ce5c-4ed6-bac3-50f5c3f9bfaa",
   "metadata": {},
   "outputs": [],
   "source": [
    "# Document\n",
    "document.add_paragraph('자산 관리(db)', style='List Number')\n",
    "\n",
    "if region == 'All':\n",
    "    document.add_paragraph(f'{month}: 총 {total}', style='List Bullet')    \n",
    "    document.add_picture(f'./charts/db_{region}_{y}_{m}_{d}_1.png')\n",
    "else:\n",
    "    pass\n",
    "\n",
    "addPivot2Table(pivot2)\n",
    "# document.add_picture(f'./charts/db_{region}_{y}_{m}_{d}_2.png')\n",
    "document.add_paragraph(f'월별 추세', style='List Bullet')\n",
    "document.add_picture(f'./charts/db_{region}_{y}_{m}_{d}_3.png')   "
   ]
  },
  {
   "cell_type": "code",
   "execution_count": null,
   "id": "b8b186aa-a6d4-4972-bd07-c7f881e2e893",
   "metadata": {},
   "outputs": [],
   "source": [
    "# Document\n",
    "document.add_page_break()"
   ]
  },
  {
   "cell_type": "code",
   "execution_count": null,
   "id": "096f7d6b-e911-4dde-819a-1922b9752743",
   "metadata": {},
   "outputs": [],
   "source": []
  },
  {
   "cell_type": "markdown",
   "id": "9fab55b5-ae5a-4aec-bc49-8f13c7bd8bf8",
   "metadata": {
    "tags": []
   },
   "source": [
    "## 1.6 자산 관리 - K8s"
   ]
  },
  {
   "cell_type": "code",
   "execution_count": null,
   "id": "b0ef7bde-3629-48cc-94bf-246ae946666d",
   "metadata": {},
   "outputs": [],
   "source": [
    "base_path = r\"./data/1_6_202206_자산관리_k8s_0727_01.ods\"\n",
    "sheet = f'{month}집계'\n",
    "\n",
    "df = read_ods(base_path, sheet, headers=True)\n",
    "df_filtered = df[df['리전'].apply(lambda x: True if re.search(regex, x) else False) & (df['테넌트']== 'PRD') & (df['월간']=='O')]\n",
    "\n",
    "# Pivoting\n",
    "pivot, total = getPivotTable(df, month)"
   ]
  },
  {
   "cell_type": "code",
   "execution_count": 44,
   "id": "13ec2791-07ab-42f9-9d01-310a128fec46",
   "metadata": {},
   "outputs": [
    {
     "name": "stderr",
     "output_type": "stream",
     "text": [
      "WARN Infinite extent for field \"합계_start\": [Infinity, -Infinity]\n",
      "WARN Infinite extent for field \"합계_end\": [Infinity, -Infinity]\n",
      "WARN Infinite extent for field \"합계_start\": [Infinity, -Infinity]\n",
      "WARN Infinite extent for field \"합계_end\": [Infinity, -Infinity]\n"
     ]
    },
    {
     "ename": "TypeError",
     "evalue": "getBarChart() takes 1 positional argument but 2 were given",
     "output_type": "error",
     "traceback": [
      "\u001b[1;31m---------------------------------------------------------------------------\u001b[0m",
      "\u001b[1;31mTypeError\u001b[0m                                 Traceback (most recent call last)",
      "Input \u001b[1;32mIn [44]\u001b[0m, in \u001b[0;36m<cell line: 10>\u001b[1;34m()\u001b[0m\n\u001b[0;32m      7\u001b[0m     \u001b[38;5;28;01mpass\u001b[39;00m\n\u001b[0;32m      9\u001b[0m \u001b[38;5;66;03m# Chart - Bar 차트\u001b[39;00m\n\u001b[1;32m---> 10\u001b[0m chart \u001b[38;5;241m=\u001b[39m \u001b[43mgetBarChart\u001b[49m\u001b[43m(\u001b[49m\u001b[43mdf_filtered\u001b[49m\u001b[43m,\u001b[49m\u001b[43m \u001b[49m\u001b[43mmonth\u001b[49m\u001b[43m)\u001b[49m\n\u001b[0;32m     11\u001b[0m chart\u001b[38;5;241m.\u001b[39msave(\u001b[38;5;124mf\u001b[39m\u001b[38;5;124m'\u001b[39m\u001b[38;5;124m./charts/k8s_\u001b[39m\u001b[38;5;132;01m{\u001b[39;00mregion\u001b[38;5;132;01m}\u001b[39;00m\u001b[38;5;124m_\u001b[39m\u001b[38;5;132;01m{\u001b[39;00my\u001b[38;5;132;01m}\u001b[39;00m\u001b[38;5;124m_\u001b[39m\u001b[38;5;132;01m{\u001b[39;00mm\u001b[38;5;132;01m}\u001b[39;00m\u001b[38;5;124m_\u001b[39m\u001b[38;5;132;01m{\u001b[39;00md\u001b[38;5;132;01m}\u001b[39;00m\u001b[38;5;124m_2.png\u001b[39m\u001b[38;5;124m'\u001b[39m)\n",
      "\u001b[1;31mTypeError\u001b[0m: getBarChart() takes 1 positional argument but 2 were given"
     ]
    }
   ],
   "source": [
    "# Chart - Pie 차트\n",
    "if region == 'All':\n",
    "    source = pivot\n",
    "    chart = getPieChart(df_filtered)\n",
    "    chart.save(f'./charts/k8s_{region}_{y}_{m}_{d}_1.png')\n",
    "else:\n",
    "    pass\n",
    "\n",
    "# Chart - Bar 차트\n",
    "chart = getBarChart(df_filtered, month)\n",
    "chart.save(f'./charts/k8s_{region}_{y}_{m}_{d}_2.png')"
   ]
  },
  {
   "cell_type": "code",
   "execution_count": 41,
   "id": "1862c6c3-8472-42ab-a005-be063c991e91",
   "metadata": {},
   "outputs": [
    {
     "data": {
      "text/plain": [
       "<docx.shape.InlineShape at 0x19b319ed460>"
      ]
     },
     "execution_count": 41,
     "metadata": {},
     "output_type": "execute_result"
    }
   ],
   "source": [
    "# Document\n",
    "document.add_paragraph('자산 관리(k8s)', style='List Number')\n",
    "\n",
    "if region == 'All':\n",
    "    document.add_paragraph(f'{month}: 총 {total}', style='List Bullet')    \n",
    "    document.add_picture(f'./charts/k8s_{region}_{y}_{m}_{d}_1.png')\n",
    "else:\n",
    "    pass\n",
    "\n",
    "document.add_paragraph(f'월별 추세', style='List Bullet')\n",
    "document.add_picture(f'./charts/k8s_{region}_{y}_{m}_{d}_2.png')   "
   ]
  },
  {
   "cell_type": "code",
   "execution_count": 42,
   "id": "72781628-3995-4ebe-be90-0a269f43da8d",
   "metadata": {},
   "outputs": [
    {
     "data": {
      "text/plain": [
       "<docx.text.paragraph.Paragraph at 0x19b319f7610>"
      ]
     },
     "execution_count": 42,
     "metadata": {},
     "output_type": "execute_result"
    }
   ],
   "source": [
    "# Document\n",
    "# addSummaryTable(df_filtered, regex, month)\n",
    "document.add_page_break()"
   ]
  },
  {
   "cell_type": "code",
   "execution_count": 43,
   "id": "ce44af2a-2d4a-4aa1-982b-605c9ba49966",
   "metadata": {},
   "outputs": [],
   "source": [
    "document.save('demo.docx')"
   ]
  },
  {
   "cell_type": "markdown",
   "id": "6ba5cd55-59d5-4d8d-aa02-7a570eb67d85",
   "metadata": {
    "tags": []
   },
   "source": [
    "## 1.7 용량 관리"
   ]
  },
  {
   "cell_type": "code",
   "execution_count": 49,
   "id": "80173d5a-ba4b-4c93-9a30-920d513633fe",
   "metadata": {},
   "outputs": [],
   "source": [
    "base_path = r\"./data/1_7_202206_용량관리_0720_01.ods\"\n",
    "sheet = f'{month}집계'\n",
    "\n",
    "df = read_ods(base_path, sheet, headers=True)\n",
    "df_filtered = df[df['리전'].apply(lambda x: True if re.search(regex, x) else False) & (df['테넌트']== 'PRD') & (df['월간']=='O')]\n",
    "\n",
    "# Pivoting\n",
    "pivot, total = getPivotTable(df, month)"
   ]
  },
  {
   "cell_type": "code",
   "execution_count": null,
   "id": "ed8887ce-4c1f-4168-879f-bd866d2805ab",
   "metadata": {},
   "outputs": [],
   "source": []
  },
  {
   "cell_type": "code",
   "execution_count": 50,
   "id": "1fb8f723-a881-4ee4-8c87-900bcdfae909",
   "metadata": {},
   "outputs": [
    {
     "name": "stderr",
     "output_type": "stream",
     "text": [
      "WARN Infinite extent for field \"합계_start\": [Infinity, -Infinity]\n",
      "WARN Infinite extent for field \"합계_end\": [Infinity, -Infinity]\n",
      "WARN Infinite extent for field \"합계_start\": [Infinity, -Infinity]\n",
      "WARN Infinite extent for field \"합계_end\": [Infinity, -Infinity]\n"
     ]
    },
    {
     "ename": "ValueError",
     "evalue": "sum(count) encoding field is specified without a type; the type cannot be inferred because it does not match any column in the data.",
     "output_type": "error",
     "traceback": [
      "\u001b[1;31m---------------------------------------------------------------------------\u001b[0m",
      "\u001b[1;31mValueError\u001b[0m                                Traceback (most recent call last)",
      "Input \u001b[1;32mIn [50]\u001b[0m, in \u001b[0;36m<cell line: 11>\u001b[1;34m()\u001b[0m\n\u001b[0;32m      9\u001b[0m \u001b[38;5;66;03m# Chart - 라인 차트\u001b[39;00m\n\u001b[0;32m     10\u001b[0m chart \u001b[38;5;241m=\u001b[39m getLineChart2(df_filtered, month)\n\u001b[1;32m---> 11\u001b[0m \u001b[43mchart\u001b[49m\u001b[38;5;241;43m.\u001b[39;49m\u001b[43msave\u001b[49m\u001b[43m(\u001b[49m\u001b[38;5;124;43mf\u001b[39;49m\u001b[38;5;124;43m'\u001b[39;49m\u001b[38;5;124;43m./charts/cpm_\u001b[39;49m\u001b[38;5;132;43;01m{\u001b[39;49;00m\u001b[43mregion\u001b[49m\u001b[38;5;132;43;01m}\u001b[39;49;00m\u001b[38;5;124;43m_\u001b[39;49m\u001b[38;5;132;43;01m{\u001b[39;49;00m\u001b[43my\u001b[49m\u001b[38;5;132;43;01m}\u001b[39;49;00m\u001b[38;5;124;43m_\u001b[39;49m\u001b[38;5;132;43;01m{\u001b[39;49;00m\u001b[43mm\u001b[49m\u001b[38;5;132;43;01m}\u001b[39;49;00m\u001b[38;5;124;43m_\u001b[39;49m\u001b[38;5;132;43;01m{\u001b[39;49;00m\u001b[43md\u001b[49m\u001b[38;5;132;43;01m}\u001b[39;49;00m\u001b[38;5;124;43m_2.png\u001b[39;49m\u001b[38;5;124;43m'\u001b[39;49m\u001b[43m)\u001b[49m\n",
      "File \u001b[1;32mC:\\Workspace\\p-python2doc\\venv\\lib\\site-packages\\altair\\vegalite\\v4\\api.py:488\u001b[0m, in \u001b[0;36mTopLevelMixin.save\u001b[1;34m(self, fp, format, override_data_transformer, scale_factor, vegalite_version, vega_version, vegaembed_version, **kwargs)\u001b[0m\n\u001b[0;32m    486\u001b[0m \u001b[38;5;28;01mif\u001b[39;00m override_data_transformer:\n\u001b[0;32m    487\u001b[0m     \u001b[38;5;28;01mwith\u001b[39;00m data_transformers\u001b[38;5;241m.\u001b[39mdisable_max_rows():\n\u001b[1;32m--> 488\u001b[0m         result \u001b[38;5;241m=\u001b[39m save(\u001b[38;5;241m*\u001b[39m\u001b[38;5;241m*\u001b[39mkwds)\n\u001b[0;32m    489\u001b[0m \u001b[38;5;28;01melse\u001b[39;00m:\n\u001b[0;32m    490\u001b[0m     result \u001b[38;5;241m=\u001b[39m save(\u001b[38;5;241m*\u001b[39m\u001b[38;5;241m*\u001b[39mkwds)\n",
      "File \u001b[1;32mC:\\Workspace\\p-python2doc\\venv\\lib\\site-packages\\altair\\utils\\save.py:83\u001b[0m, in \u001b[0;36msave\u001b[1;34m(chart, fp, vega_version, vegaembed_version, format, mode, vegalite_version, embed_options, json_kwds, webdriver, scale_factor, **kwargs)\u001b[0m\n\u001b[0;32m     78\u001b[0m     \u001b[38;5;28;01melse\u001b[39;00m:\n\u001b[0;32m     79\u001b[0m         \u001b[38;5;28;01mraise\u001b[39;00m \u001b[38;5;167;01mValueError\u001b[39;00m(\n\u001b[0;32m     80\u001b[0m             \u001b[38;5;124m\"\u001b[39m\u001b[38;5;124mmust specify file format: \u001b[39m\u001b[38;5;124m\"\u001b[39m \u001b[38;5;124m\"\u001b[39m\u001b[38;5;124m[\u001b[39m\u001b[38;5;124m'\u001b[39m\u001b[38;5;124mpng\u001b[39m\u001b[38;5;124m'\u001b[39m\u001b[38;5;124m, \u001b[39m\u001b[38;5;124m'\u001b[39m\u001b[38;5;124msvg\u001b[39m\u001b[38;5;124m'\u001b[39m\u001b[38;5;124m, \u001b[39m\u001b[38;5;124m'\u001b[39m\u001b[38;5;124mpdf\u001b[39m\u001b[38;5;124m'\u001b[39m\u001b[38;5;124m, \u001b[39m\u001b[38;5;124m'\u001b[39m\u001b[38;5;124mhtml\u001b[39m\u001b[38;5;124m'\u001b[39m\u001b[38;5;124m, \u001b[39m\u001b[38;5;124m'\u001b[39m\u001b[38;5;124mjson\u001b[39m\u001b[38;5;124m'\u001b[39m\u001b[38;5;124m]\u001b[39m\u001b[38;5;124m\"\u001b[39m\n\u001b[0;32m     81\u001b[0m         )\n\u001b[1;32m---> 83\u001b[0m spec \u001b[38;5;241m=\u001b[39m \u001b[43mchart\u001b[49m\u001b[38;5;241;43m.\u001b[39;49m\u001b[43mto_dict\u001b[49m\u001b[43m(\u001b[49m\u001b[43m)\u001b[49m\n\u001b[0;32m     85\u001b[0m \u001b[38;5;28;01mif\u001b[39;00m mode \u001b[38;5;129;01mis\u001b[39;00m \u001b[38;5;28;01mNone\u001b[39;00m:\n\u001b[0;32m     86\u001b[0m     \u001b[38;5;28;01mif\u001b[39;00m \u001b[38;5;124m\"\u001b[39m\u001b[38;5;124mmode\u001b[39m\u001b[38;5;124m\"\u001b[39m \u001b[38;5;129;01min\u001b[39;00m embed_options:\n",
      "File \u001b[1;32mC:\\Workspace\\p-python2doc\\venv\\lib\\site-packages\\altair\\vegalite\\v4\\api.py:384\u001b[0m, in \u001b[0;36mTopLevelMixin.to_dict\u001b[1;34m(self, *args, **kwargs)\u001b[0m\n\u001b[0;32m    381\u001b[0m kwargs[\u001b[38;5;124m\"\u001b[39m\u001b[38;5;124mcontext\u001b[39m\u001b[38;5;124m\"\u001b[39m] \u001b[38;5;241m=\u001b[39m context\n\u001b[0;32m    383\u001b[0m \u001b[38;5;28;01mtry\u001b[39;00m:\n\u001b[1;32m--> 384\u001b[0m     dct \u001b[38;5;241m=\u001b[39m \u001b[38;5;28msuper\u001b[39m(TopLevelMixin, copy)\u001b[38;5;241m.\u001b[39mto_dict(\u001b[38;5;241m*\u001b[39margs, \u001b[38;5;241m*\u001b[39m\u001b[38;5;241m*\u001b[39mkwargs)\n\u001b[0;32m    385\u001b[0m \u001b[38;5;28;01mexcept\u001b[39;00m jsonschema\u001b[38;5;241m.\u001b[39mValidationError:\n\u001b[0;32m    386\u001b[0m     dct \u001b[38;5;241m=\u001b[39m \u001b[38;5;28;01mNone\u001b[39;00m\n",
      "File \u001b[1;32mC:\\Workspace\\p-python2doc\\venv\\lib\\site-packages\\altair\\utils\\schemapi.py:326\u001b[0m, in \u001b[0;36mSchemaBase.to_dict\u001b[1;34m(self, validate, ignore, context)\u001b[0m\n\u001b[0;32m    324\u001b[0m     result \u001b[38;5;241m=\u001b[39m _todict(\u001b[38;5;28mself\u001b[39m\u001b[38;5;241m.\u001b[39m_args[\u001b[38;5;241m0\u001b[39m], validate\u001b[38;5;241m=\u001b[39msub_validate, context\u001b[38;5;241m=\u001b[39mcontext)\n\u001b[0;32m    325\u001b[0m \u001b[38;5;28;01melif\u001b[39;00m \u001b[38;5;129;01mnot\u001b[39;00m \u001b[38;5;28mself\u001b[39m\u001b[38;5;241m.\u001b[39m_args:\n\u001b[1;32m--> 326\u001b[0m     result \u001b[38;5;241m=\u001b[39m \u001b[43m_todict\u001b[49m\u001b[43m(\u001b[49m\n\u001b[0;32m    327\u001b[0m \u001b[43m        \u001b[49m\u001b[43m{\u001b[49m\u001b[43mk\u001b[49m\u001b[43m:\u001b[49m\u001b[43m \u001b[49m\u001b[43mv\u001b[49m\u001b[43m \u001b[49m\u001b[38;5;28;43;01mfor\u001b[39;49;00m\u001b[43m \u001b[49m\u001b[43mk\u001b[49m\u001b[43m,\u001b[49m\u001b[43m \u001b[49m\u001b[43mv\u001b[49m\u001b[43m \u001b[49m\u001b[38;5;129;43;01min\u001b[39;49;00m\u001b[43m \u001b[49m\u001b[38;5;28;43mself\u001b[39;49m\u001b[38;5;241;43m.\u001b[39;49m\u001b[43m_kwds\u001b[49m\u001b[38;5;241;43m.\u001b[39;49m\u001b[43mitems\u001b[49m\u001b[43m(\u001b[49m\u001b[43m)\u001b[49m\u001b[43m \u001b[49m\u001b[38;5;28;43;01mif\u001b[39;49;00m\u001b[43m \u001b[49m\u001b[43mk\u001b[49m\u001b[43m \u001b[49m\u001b[38;5;129;43;01mnot\u001b[39;49;00m\u001b[43m \u001b[49m\u001b[38;5;129;43;01min\u001b[39;49;00m\u001b[43m \u001b[49m\u001b[43mignore\u001b[49m\u001b[43m}\u001b[49m\u001b[43m,\u001b[49m\n\u001b[0;32m    328\u001b[0m \u001b[43m        \u001b[49m\u001b[43mvalidate\u001b[49m\u001b[38;5;241;43m=\u001b[39;49m\u001b[43msub_validate\u001b[49m\u001b[43m,\u001b[49m\n\u001b[0;32m    329\u001b[0m \u001b[43m        \u001b[49m\u001b[43mcontext\u001b[49m\u001b[38;5;241;43m=\u001b[39;49m\u001b[43mcontext\u001b[49m\u001b[43m,\u001b[49m\n\u001b[0;32m    330\u001b[0m \u001b[43m    \u001b[49m\u001b[43m)\u001b[49m\n\u001b[0;32m    331\u001b[0m \u001b[38;5;28;01melse\u001b[39;00m:\n\u001b[0;32m    332\u001b[0m     \u001b[38;5;28;01mraise\u001b[39;00m \u001b[38;5;167;01mValueError\u001b[39;00m(\n\u001b[0;32m    333\u001b[0m         \u001b[38;5;124m\"\u001b[39m\u001b[38;5;132;01m{}\u001b[39;00m\u001b[38;5;124m instance has both a value and properties : \u001b[39m\u001b[38;5;124m\"\u001b[39m\n\u001b[0;32m    334\u001b[0m         \u001b[38;5;124m\"\u001b[39m\u001b[38;5;124mcannot serialize to dict\u001b[39m\u001b[38;5;124m\"\u001b[39m\u001b[38;5;241m.\u001b[39mformat(\u001b[38;5;28mself\u001b[39m\u001b[38;5;241m.\u001b[39m\u001b[38;5;18m__class__\u001b[39m)\n\u001b[0;32m    335\u001b[0m     )\n",
      "File \u001b[1;32mC:\\Workspace\\p-python2doc\\venv\\lib\\site-packages\\altair\\utils\\schemapi.py:60\u001b[0m, in \u001b[0;36m_todict\u001b[1;34m(obj, validate, context)\u001b[0m\n\u001b[0;32m     58\u001b[0m     \u001b[38;5;28;01mreturn\u001b[39;00m [_todict(v, validate, context) \u001b[38;5;28;01mfor\u001b[39;00m v \u001b[38;5;129;01min\u001b[39;00m obj]\n\u001b[0;32m     59\u001b[0m \u001b[38;5;28;01melif\u001b[39;00m \u001b[38;5;28misinstance\u001b[39m(obj, \u001b[38;5;28mdict\u001b[39m):\n\u001b[1;32m---> 60\u001b[0m     \u001b[38;5;28;01mreturn\u001b[39;00m {\n\u001b[0;32m     61\u001b[0m         k: _todict(v, validate, context)\n\u001b[0;32m     62\u001b[0m         \u001b[38;5;28;01mfor\u001b[39;00m k, v \u001b[38;5;129;01min\u001b[39;00m obj\u001b[38;5;241m.\u001b[39mitems()\n\u001b[0;32m     63\u001b[0m         \u001b[38;5;28;01mif\u001b[39;00m v \u001b[38;5;129;01mis\u001b[39;00m \u001b[38;5;129;01mnot\u001b[39;00m Undefined\n\u001b[0;32m     64\u001b[0m     }\n\u001b[0;32m     65\u001b[0m \u001b[38;5;28;01melif\u001b[39;00m \u001b[38;5;28mhasattr\u001b[39m(obj, \u001b[38;5;124m\"\u001b[39m\u001b[38;5;124mto_dict\u001b[39m\u001b[38;5;124m\"\u001b[39m):\n\u001b[0;32m     66\u001b[0m     \u001b[38;5;28;01mreturn\u001b[39;00m obj\u001b[38;5;241m.\u001b[39mto_dict()\n",
      "File \u001b[1;32mC:\\Workspace\\p-python2doc\\venv\\lib\\site-packages\\altair\\utils\\schemapi.py:61\u001b[0m, in \u001b[0;36m<dictcomp>\u001b[1;34m(.0)\u001b[0m\n\u001b[0;32m     58\u001b[0m     \u001b[38;5;28;01mreturn\u001b[39;00m [_todict(v, validate, context) \u001b[38;5;28;01mfor\u001b[39;00m v \u001b[38;5;129;01min\u001b[39;00m obj]\n\u001b[0;32m     59\u001b[0m \u001b[38;5;28;01melif\u001b[39;00m \u001b[38;5;28misinstance\u001b[39m(obj, \u001b[38;5;28mdict\u001b[39m):\n\u001b[0;32m     60\u001b[0m     \u001b[38;5;28;01mreturn\u001b[39;00m {\n\u001b[1;32m---> 61\u001b[0m         k: \u001b[43m_todict\u001b[49m\u001b[43m(\u001b[49m\u001b[43mv\u001b[49m\u001b[43m,\u001b[49m\u001b[43m \u001b[49m\u001b[43mvalidate\u001b[49m\u001b[43m,\u001b[49m\u001b[43m \u001b[49m\u001b[43mcontext\u001b[49m\u001b[43m)\u001b[49m\n\u001b[0;32m     62\u001b[0m         \u001b[38;5;28;01mfor\u001b[39;00m k, v \u001b[38;5;129;01min\u001b[39;00m obj\u001b[38;5;241m.\u001b[39mitems()\n\u001b[0;32m     63\u001b[0m         \u001b[38;5;28;01mif\u001b[39;00m v \u001b[38;5;129;01mis\u001b[39;00m \u001b[38;5;129;01mnot\u001b[39;00m Undefined\n\u001b[0;32m     64\u001b[0m     }\n\u001b[0;32m     65\u001b[0m \u001b[38;5;28;01melif\u001b[39;00m \u001b[38;5;28mhasattr\u001b[39m(obj, \u001b[38;5;124m\"\u001b[39m\u001b[38;5;124mto_dict\u001b[39m\u001b[38;5;124m\"\u001b[39m):\n\u001b[0;32m     66\u001b[0m     \u001b[38;5;28;01mreturn\u001b[39;00m obj\u001b[38;5;241m.\u001b[39mto_dict()\n",
      "File \u001b[1;32mC:\\Workspace\\p-python2doc\\venv\\lib\\site-packages\\altair\\utils\\schemapi.py:58\u001b[0m, in \u001b[0;36m_todict\u001b[1;34m(obj, validate, context)\u001b[0m\n\u001b[0;32m     56\u001b[0m     \u001b[38;5;28;01mreturn\u001b[39;00m obj\u001b[38;5;241m.\u001b[39mto_dict(validate\u001b[38;5;241m=\u001b[39mvalidate, context\u001b[38;5;241m=\u001b[39mcontext)\n\u001b[0;32m     57\u001b[0m \u001b[38;5;28;01melif\u001b[39;00m \u001b[38;5;28misinstance\u001b[39m(obj, (\u001b[38;5;28mlist\u001b[39m, \u001b[38;5;28mtuple\u001b[39m, np\u001b[38;5;241m.\u001b[39mndarray)):\n\u001b[1;32m---> 58\u001b[0m     \u001b[38;5;28;01mreturn\u001b[39;00m [_todict(v, validate, context) \u001b[38;5;28;01mfor\u001b[39;00m v \u001b[38;5;129;01min\u001b[39;00m obj]\n\u001b[0;32m     59\u001b[0m \u001b[38;5;28;01melif\u001b[39;00m \u001b[38;5;28misinstance\u001b[39m(obj, \u001b[38;5;28mdict\u001b[39m):\n\u001b[0;32m     60\u001b[0m     \u001b[38;5;28;01mreturn\u001b[39;00m {\n\u001b[0;32m     61\u001b[0m         k: _todict(v, validate, context)\n\u001b[0;32m     62\u001b[0m         \u001b[38;5;28;01mfor\u001b[39;00m k, v \u001b[38;5;129;01min\u001b[39;00m obj\u001b[38;5;241m.\u001b[39mitems()\n\u001b[0;32m     63\u001b[0m         \u001b[38;5;28;01mif\u001b[39;00m v \u001b[38;5;129;01mis\u001b[39;00m \u001b[38;5;129;01mnot\u001b[39;00m Undefined\n\u001b[0;32m     64\u001b[0m     }\n",
      "File \u001b[1;32mC:\\Workspace\\p-python2doc\\venv\\lib\\site-packages\\altair\\utils\\schemapi.py:58\u001b[0m, in \u001b[0;36m<listcomp>\u001b[1;34m(.0)\u001b[0m\n\u001b[0;32m     56\u001b[0m     \u001b[38;5;28;01mreturn\u001b[39;00m obj\u001b[38;5;241m.\u001b[39mto_dict(validate\u001b[38;5;241m=\u001b[39mvalidate, context\u001b[38;5;241m=\u001b[39mcontext)\n\u001b[0;32m     57\u001b[0m \u001b[38;5;28;01melif\u001b[39;00m \u001b[38;5;28misinstance\u001b[39m(obj, (\u001b[38;5;28mlist\u001b[39m, \u001b[38;5;28mtuple\u001b[39m, np\u001b[38;5;241m.\u001b[39mndarray)):\n\u001b[1;32m---> 58\u001b[0m     \u001b[38;5;28;01mreturn\u001b[39;00m [\u001b[43m_todict\u001b[49m\u001b[43m(\u001b[49m\u001b[43mv\u001b[49m\u001b[43m,\u001b[49m\u001b[43m \u001b[49m\u001b[43mvalidate\u001b[49m\u001b[43m,\u001b[49m\u001b[43m \u001b[49m\u001b[43mcontext\u001b[49m\u001b[43m)\u001b[49m \u001b[38;5;28;01mfor\u001b[39;00m v \u001b[38;5;129;01min\u001b[39;00m obj]\n\u001b[0;32m     59\u001b[0m \u001b[38;5;28;01melif\u001b[39;00m \u001b[38;5;28misinstance\u001b[39m(obj, \u001b[38;5;28mdict\u001b[39m):\n\u001b[0;32m     60\u001b[0m     \u001b[38;5;28;01mreturn\u001b[39;00m {\n\u001b[0;32m     61\u001b[0m         k: _todict(v, validate, context)\n\u001b[0;32m     62\u001b[0m         \u001b[38;5;28;01mfor\u001b[39;00m k, v \u001b[38;5;129;01min\u001b[39;00m obj\u001b[38;5;241m.\u001b[39mitems()\n\u001b[0;32m     63\u001b[0m         \u001b[38;5;28;01mif\u001b[39;00m v \u001b[38;5;129;01mis\u001b[39;00m \u001b[38;5;129;01mnot\u001b[39;00m Undefined\n\u001b[0;32m     64\u001b[0m     }\n",
      "File \u001b[1;32mC:\\Workspace\\p-python2doc\\venv\\lib\\site-packages\\altair\\utils\\schemapi.py:56\u001b[0m, in \u001b[0;36m_todict\u001b[1;34m(obj, validate, context)\u001b[0m\n\u001b[0;32m     54\u001b[0m \u001b[38;5;124;03m\"\"\"Convert an object to a dict representation.\"\"\"\u001b[39;00m\n\u001b[0;32m     55\u001b[0m \u001b[38;5;28;01mif\u001b[39;00m \u001b[38;5;28misinstance\u001b[39m(obj, SchemaBase):\n\u001b[1;32m---> 56\u001b[0m     \u001b[38;5;28;01mreturn\u001b[39;00m \u001b[43mobj\u001b[49m\u001b[38;5;241;43m.\u001b[39;49m\u001b[43mto_dict\u001b[49m\u001b[43m(\u001b[49m\u001b[43mvalidate\u001b[49m\u001b[38;5;241;43m=\u001b[39;49m\u001b[43mvalidate\u001b[49m\u001b[43m,\u001b[49m\u001b[43m \u001b[49m\u001b[43mcontext\u001b[49m\u001b[38;5;241;43m=\u001b[39;49m\u001b[43mcontext\u001b[49m\u001b[43m)\u001b[49m\n\u001b[0;32m     57\u001b[0m \u001b[38;5;28;01melif\u001b[39;00m \u001b[38;5;28misinstance\u001b[39m(obj, (\u001b[38;5;28mlist\u001b[39m, \u001b[38;5;28mtuple\u001b[39m, np\u001b[38;5;241m.\u001b[39mndarray)):\n\u001b[0;32m     58\u001b[0m     \u001b[38;5;28;01mreturn\u001b[39;00m [_todict(v, validate, context) \u001b[38;5;28;01mfor\u001b[39;00m v \u001b[38;5;129;01min\u001b[39;00m obj]\n",
      "File \u001b[1;32mC:\\Workspace\\p-python2doc\\venv\\lib\\site-packages\\altair\\vegalite\\v4\\api.py:2020\u001b[0m, in \u001b[0;36mChart.to_dict\u001b[1;34m(self, *args, **kwargs)\u001b[0m\n\u001b[0;32m   2018\u001b[0m     copy\u001b[38;5;241m.\u001b[39mdata \u001b[38;5;241m=\u001b[39m core\u001b[38;5;241m.\u001b[39mInlineData(values\u001b[38;5;241m=\u001b[39m[{}])\n\u001b[0;32m   2019\u001b[0m     \u001b[38;5;28;01mreturn\u001b[39;00m \u001b[38;5;28msuper\u001b[39m(Chart, copy)\u001b[38;5;241m.\u001b[39mto_dict(\u001b[38;5;241m*\u001b[39margs, \u001b[38;5;241m*\u001b[39m\u001b[38;5;241m*\u001b[39mkwargs)\n\u001b[1;32m-> 2020\u001b[0m \u001b[38;5;28;01mreturn\u001b[39;00m \u001b[38;5;28msuper\u001b[39m()\u001b[38;5;241m.\u001b[39mto_dict(\u001b[38;5;241m*\u001b[39margs, \u001b[38;5;241m*\u001b[39m\u001b[38;5;241m*\u001b[39mkwargs)\n",
      "File \u001b[1;32mC:\\Workspace\\p-python2doc\\venv\\lib\\site-packages\\altair\\vegalite\\v4\\api.py:384\u001b[0m, in \u001b[0;36mTopLevelMixin.to_dict\u001b[1;34m(self, *args, **kwargs)\u001b[0m\n\u001b[0;32m    381\u001b[0m kwargs[\u001b[38;5;124m\"\u001b[39m\u001b[38;5;124mcontext\u001b[39m\u001b[38;5;124m\"\u001b[39m] \u001b[38;5;241m=\u001b[39m context\n\u001b[0;32m    383\u001b[0m \u001b[38;5;28;01mtry\u001b[39;00m:\n\u001b[1;32m--> 384\u001b[0m     dct \u001b[38;5;241m=\u001b[39m \u001b[38;5;28msuper\u001b[39m(TopLevelMixin, copy)\u001b[38;5;241m.\u001b[39mto_dict(\u001b[38;5;241m*\u001b[39margs, \u001b[38;5;241m*\u001b[39m\u001b[38;5;241m*\u001b[39mkwargs)\n\u001b[0;32m    385\u001b[0m \u001b[38;5;28;01mexcept\u001b[39;00m jsonschema\u001b[38;5;241m.\u001b[39mValidationError:\n\u001b[0;32m    386\u001b[0m     dct \u001b[38;5;241m=\u001b[39m \u001b[38;5;28;01mNone\u001b[39;00m\n",
      "File \u001b[1;32mC:\\Workspace\\p-python2doc\\venv\\lib\\site-packages\\altair\\utils\\schemapi.py:326\u001b[0m, in \u001b[0;36mSchemaBase.to_dict\u001b[1;34m(self, validate, ignore, context)\u001b[0m\n\u001b[0;32m    324\u001b[0m     result \u001b[38;5;241m=\u001b[39m _todict(\u001b[38;5;28mself\u001b[39m\u001b[38;5;241m.\u001b[39m_args[\u001b[38;5;241m0\u001b[39m], validate\u001b[38;5;241m=\u001b[39msub_validate, context\u001b[38;5;241m=\u001b[39mcontext)\n\u001b[0;32m    325\u001b[0m \u001b[38;5;28;01melif\u001b[39;00m \u001b[38;5;129;01mnot\u001b[39;00m \u001b[38;5;28mself\u001b[39m\u001b[38;5;241m.\u001b[39m_args:\n\u001b[1;32m--> 326\u001b[0m     result \u001b[38;5;241m=\u001b[39m \u001b[43m_todict\u001b[49m\u001b[43m(\u001b[49m\n\u001b[0;32m    327\u001b[0m \u001b[43m        \u001b[49m\u001b[43m{\u001b[49m\u001b[43mk\u001b[49m\u001b[43m:\u001b[49m\u001b[43m \u001b[49m\u001b[43mv\u001b[49m\u001b[43m \u001b[49m\u001b[38;5;28;43;01mfor\u001b[39;49;00m\u001b[43m \u001b[49m\u001b[43mk\u001b[49m\u001b[43m,\u001b[49m\u001b[43m \u001b[49m\u001b[43mv\u001b[49m\u001b[43m \u001b[49m\u001b[38;5;129;43;01min\u001b[39;49;00m\u001b[43m \u001b[49m\u001b[38;5;28;43mself\u001b[39;49m\u001b[38;5;241;43m.\u001b[39;49m\u001b[43m_kwds\u001b[49m\u001b[38;5;241;43m.\u001b[39;49m\u001b[43mitems\u001b[49m\u001b[43m(\u001b[49m\u001b[43m)\u001b[49m\u001b[43m \u001b[49m\u001b[38;5;28;43;01mif\u001b[39;49;00m\u001b[43m \u001b[49m\u001b[43mk\u001b[49m\u001b[43m \u001b[49m\u001b[38;5;129;43;01mnot\u001b[39;49;00m\u001b[43m \u001b[49m\u001b[38;5;129;43;01min\u001b[39;49;00m\u001b[43m \u001b[49m\u001b[43mignore\u001b[49m\u001b[43m}\u001b[49m\u001b[43m,\u001b[49m\n\u001b[0;32m    328\u001b[0m \u001b[43m        \u001b[49m\u001b[43mvalidate\u001b[49m\u001b[38;5;241;43m=\u001b[39;49m\u001b[43msub_validate\u001b[49m\u001b[43m,\u001b[49m\n\u001b[0;32m    329\u001b[0m \u001b[43m        \u001b[49m\u001b[43mcontext\u001b[49m\u001b[38;5;241;43m=\u001b[39;49m\u001b[43mcontext\u001b[49m\u001b[43m,\u001b[49m\n\u001b[0;32m    330\u001b[0m \u001b[43m    \u001b[49m\u001b[43m)\u001b[49m\n\u001b[0;32m    331\u001b[0m \u001b[38;5;28;01melse\u001b[39;00m:\n\u001b[0;32m    332\u001b[0m     \u001b[38;5;28;01mraise\u001b[39;00m \u001b[38;5;167;01mValueError\u001b[39;00m(\n\u001b[0;32m    333\u001b[0m         \u001b[38;5;124m\"\u001b[39m\u001b[38;5;132;01m{}\u001b[39;00m\u001b[38;5;124m instance has both a value and properties : \u001b[39m\u001b[38;5;124m\"\u001b[39m\n\u001b[0;32m    334\u001b[0m         \u001b[38;5;124m\"\u001b[39m\u001b[38;5;124mcannot serialize to dict\u001b[39m\u001b[38;5;124m\"\u001b[39m\u001b[38;5;241m.\u001b[39mformat(\u001b[38;5;28mself\u001b[39m\u001b[38;5;241m.\u001b[39m\u001b[38;5;18m__class__\u001b[39m)\n\u001b[0;32m    335\u001b[0m     )\n",
      "File \u001b[1;32mC:\\Workspace\\p-python2doc\\venv\\lib\\site-packages\\altair\\utils\\schemapi.py:60\u001b[0m, in \u001b[0;36m_todict\u001b[1;34m(obj, validate, context)\u001b[0m\n\u001b[0;32m     58\u001b[0m     \u001b[38;5;28;01mreturn\u001b[39;00m [_todict(v, validate, context) \u001b[38;5;28;01mfor\u001b[39;00m v \u001b[38;5;129;01min\u001b[39;00m obj]\n\u001b[0;32m     59\u001b[0m \u001b[38;5;28;01melif\u001b[39;00m \u001b[38;5;28misinstance\u001b[39m(obj, \u001b[38;5;28mdict\u001b[39m):\n\u001b[1;32m---> 60\u001b[0m     \u001b[38;5;28;01mreturn\u001b[39;00m {\n\u001b[0;32m     61\u001b[0m         k: _todict(v, validate, context)\n\u001b[0;32m     62\u001b[0m         \u001b[38;5;28;01mfor\u001b[39;00m k, v \u001b[38;5;129;01min\u001b[39;00m obj\u001b[38;5;241m.\u001b[39mitems()\n\u001b[0;32m     63\u001b[0m         \u001b[38;5;28;01mif\u001b[39;00m v \u001b[38;5;129;01mis\u001b[39;00m \u001b[38;5;129;01mnot\u001b[39;00m Undefined\n\u001b[0;32m     64\u001b[0m     }\n\u001b[0;32m     65\u001b[0m \u001b[38;5;28;01melif\u001b[39;00m \u001b[38;5;28mhasattr\u001b[39m(obj, \u001b[38;5;124m\"\u001b[39m\u001b[38;5;124mto_dict\u001b[39m\u001b[38;5;124m\"\u001b[39m):\n\u001b[0;32m     66\u001b[0m     \u001b[38;5;28;01mreturn\u001b[39;00m obj\u001b[38;5;241m.\u001b[39mto_dict()\n",
      "File \u001b[1;32mC:\\Workspace\\p-python2doc\\venv\\lib\\site-packages\\altair\\utils\\schemapi.py:61\u001b[0m, in \u001b[0;36m<dictcomp>\u001b[1;34m(.0)\u001b[0m\n\u001b[0;32m     58\u001b[0m     \u001b[38;5;28;01mreturn\u001b[39;00m [_todict(v, validate, context) \u001b[38;5;28;01mfor\u001b[39;00m v \u001b[38;5;129;01min\u001b[39;00m obj]\n\u001b[0;32m     59\u001b[0m \u001b[38;5;28;01melif\u001b[39;00m \u001b[38;5;28misinstance\u001b[39m(obj, \u001b[38;5;28mdict\u001b[39m):\n\u001b[0;32m     60\u001b[0m     \u001b[38;5;28;01mreturn\u001b[39;00m {\n\u001b[1;32m---> 61\u001b[0m         k: \u001b[43m_todict\u001b[49m\u001b[43m(\u001b[49m\u001b[43mv\u001b[49m\u001b[43m,\u001b[49m\u001b[43m \u001b[49m\u001b[43mvalidate\u001b[49m\u001b[43m,\u001b[49m\u001b[43m \u001b[49m\u001b[43mcontext\u001b[49m\u001b[43m)\u001b[49m\n\u001b[0;32m     62\u001b[0m         \u001b[38;5;28;01mfor\u001b[39;00m k, v \u001b[38;5;129;01min\u001b[39;00m obj\u001b[38;5;241m.\u001b[39mitems()\n\u001b[0;32m     63\u001b[0m         \u001b[38;5;28;01mif\u001b[39;00m v \u001b[38;5;129;01mis\u001b[39;00m \u001b[38;5;129;01mnot\u001b[39;00m Undefined\n\u001b[0;32m     64\u001b[0m     }\n\u001b[0;32m     65\u001b[0m \u001b[38;5;28;01melif\u001b[39;00m \u001b[38;5;28mhasattr\u001b[39m(obj, \u001b[38;5;124m\"\u001b[39m\u001b[38;5;124mto_dict\u001b[39m\u001b[38;5;124m\"\u001b[39m):\n\u001b[0;32m     66\u001b[0m     \u001b[38;5;28;01mreturn\u001b[39;00m obj\u001b[38;5;241m.\u001b[39mto_dict()\n",
      "File \u001b[1;32mC:\\Workspace\\p-python2doc\\venv\\lib\\site-packages\\altair\\utils\\schemapi.py:56\u001b[0m, in \u001b[0;36m_todict\u001b[1;34m(obj, validate, context)\u001b[0m\n\u001b[0;32m     54\u001b[0m \u001b[38;5;124;03m\"\"\"Convert an object to a dict representation.\"\"\"\u001b[39;00m\n\u001b[0;32m     55\u001b[0m \u001b[38;5;28;01mif\u001b[39;00m \u001b[38;5;28misinstance\u001b[39m(obj, SchemaBase):\n\u001b[1;32m---> 56\u001b[0m     \u001b[38;5;28;01mreturn\u001b[39;00m \u001b[43mobj\u001b[49m\u001b[38;5;241;43m.\u001b[39;49m\u001b[43mto_dict\u001b[49m\u001b[43m(\u001b[49m\u001b[43mvalidate\u001b[49m\u001b[38;5;241;43m=\u001b[39;49m\u001b[43mvalidate\u001b[49m\u001b[43m,\u001b[49m\u001b[43m \u001b[49m\u001b[43mcontext\u001b[49m\u001b[38;5;241;43m=\u001b[39;49m\u001b[43mcontext\u001b[49m\u001b[43m)\u001b[49m\n\u001b[0;32m     57\u001b[0m \u001b[38;5;28;01melif\u001b[39;00m \u001b[38;5;28misinstance\u001b[39m(obj, (\u001b[38;5;28mlist\u001b[39m, \u001b[38;5;28mtuple\u001b[39m, np\u001b[38;5;241m.\u001b[39mndarray)):\n\u001b[0;32m     58\u001b[0m     \u001b[38;5;28;01mreturn\u001b[39;00m [_todict(v, validate, context) \u001b[38;5;28;01mfor\u001b[39;00m v \u001b[38;5;129;01min\u001b[39;00m obj]\n",
      "File \u001b[1;32mC:\\Workspace\\p-python2doc\\venv\\lib\\site-packages\\altair\\utils\\schemapi.py:326\u001b[0m, in \u001b[0;36mSchemaBase.to_dict\u001b[1;34m(self, validate, ignore, context)\u001b[0m\n\u001b[0;32m    324\u001b[0m     result \u001b[38;5;241m=\u001b[39m _todict(\u001b[38;5;28mself\u001b[39m\u001b[38;5;241m.\u001b[39m_args[\u001b[38;5;241m0\u001b[39m], validate\u001b[38;5;241m=\u001b[39msub_validate, context\u001b[38;5;241m=\u001b[39mcontext)\n\u001b[0;32m    325\u001b[0m \u001b[38;5;28;01melif\u001b[39;00m \u001b[38;5;129;01mnot\u001b[39;00m \u001b[38;5;28mself\u001b[39m\u001b[38;5;241m.\u001b[39m_args:\n\u001b[1;32m--> 326\u001b[0m     result \u001b[38;5;241m=\u001b[39m \u001b[43m_todict\u001b[49m\u001b[43m(\u001b[49m\n\u001b[0;32m    327\u001b[0m \u001b[43m        \u001b[49m\u001b[43m{\u001b[49m\u001b[43mk\u001b[49m\u001b[43m:\u001b[49m\u001b[43m \u001b[49m\u001b[43mv\u001b[49m\u001b[43m \u001b[49m\u001b[38;5;28;43;01mfor\u001b[39;49;00m\u001b[43m \u001b[49m\u001b[43mk\u001b[49m\u001b[43m,\u001b[49m\u001b[43m \u001b[49m\u001b[43mv\u001b[49m\u001b[43m \u001b[49m\u001b[38;5;129;43;01min\u001b[39;49;00m\u001b[43m \u001b[49m\u001b[38;5;28;43mself\u001b[39;49m\u001b[38;5;241;43m.\u001b[39;49m\u001b[43m_kwds\u001b[49m\u001b[38;5;241;43m.\u001b[39;49m\u001b[43mitems\u001b[49m\u001b[43m(\u001b[49m\u001b[43m)\u001b[49m\u001b[43m \u001b[49m\u001b[38;5;28;43;01mif\u001b[39;49;00m\u001b[43m \u001b[49m\u001b[43mk\u001b[49m\u001b[43m \u001b[49m\u001b[38;5;129;43;01mnot\u001b[39;49;00m\u001b[43m \u001b[49m\u001b[38;5;129;43;01min\u001b[39;49;00m\u001b[43m \u001b[49m\u001b[43mignore\u001b[49m\u001b[43m}\u001b[49m\u001b[43m,\u001b[49m\n\u001b[0;32m    328\u001b[0m \u001b[43m        \u001b[49m\u001b[43mvalidate\u001b[49m\u001b[38;5;241;43m=\u001b[39;49m\u001b[43msub_validate\u001b[49m\u001b[43m,\u001b[49m\n\u001b[0;32m    329\u001b[0m \u001b[43m        \u001b[49m\u001b[43mcontext\u001b[49m\u001b[38;5;241;43m=\u001b[39;49m\u001b[43mcontext\u001b[49m\u001b[43m,\u001b[49m\n\u001b[0;32m    330\u001b[0m \u001b[43m    \u001b[49m\u001b[43m)\u001b[49m\n\u001b[0;32m    331\u001b[0m \u001b[38;5;28;01melse\u001b[39;00m:\n\u001b[0;32m    332\u001b[0m     \u001b[38;5;28;01mraise\u001b[39;00m \u001b[38;5;167;01mValueError\u001b[39;00m(\n\u001b[0;32m    333\u001b[0m         \u001b[38;5;124m\"\u001b[39m\u001b[38;5;132;01m{}\u001b[39;00m\u001b[38;5;124m instance has both a value and properties : \u001b[39m\u001b[38;5;124m\"\u001b[39m\n\u001b[0;32m    334\u001b[0m         \u001b[38;5;124m\"\u001b[39m\u001b[38;5;124mcannot serialize to dict\u001b[39m\u001b[38;5;124m\"\u001b[39m\u001b[38;5;241m.\u001b[39mformat(\u001b[38;5;28mself\u001b[39m\u001b[38;5;241m.\u001b[39m\u001b[38;5;18m__class__\u001b[39m)\n\u001b[0;32m    335\u001b[0m     )\n",
      "File \u001b[1;32mC:\\Workspace\\p-python2doc\\venv\\lib\\site-packages\\altair\\utils\\schemapi.py:60\u001b[0m, in \u001b[0;36m_todict\u001b[1;34m(obj, validate, context)\u001b[0m\n\u001b[0;32m     58\u001b[0m     \u001b[38;5;28;01mreturn\u001b[39;00m [_todict(v, validate, context) \u001b[38;5;28;01mfor\u001b[39;00m v \u001b[38;5;129;01min\u001b[39;00m obj]\n\u001b[0;32m     59\u001b[0m \u001b[38;5;28;01melif\u001b[39;00m \u001b[38;5;28misinstance\u001b[39m(obj, \u001b[38;5;28mdict\u001b[39m):\n\u001b[1;32m---> 60\u001b[0m     \u001b[38;5;28;01mreturn\u001b[39;00m {\n\u001b[0;32m     61\u001b[0m         k: _todict(v, validate, context)\n\u001b[0;32m     62\u001b[0m         \u001b[38;5;28;01mfor\u001b[39;00m k, v \u001b[38;5;129;01min\u001b[39;00m obj\u001b[38;5;241m.\u001b[39mitems()\n\u001b[0;32m     63\u001b[0m         \u001b[38;5;28;01mif\u001b[39;00m v \u001b[38;5;129;01mis\u001b[39;00m \u001b[38;5;129;01mnot\u001b[39;00m Undefined\n\u001b[0;32m     64\u001b[0m     }\n\u001b[0;32m     65\u001b[0m \u001b[38;5;28;01melif\u001b[39;00m \u001b[38;5;28mhasattr\u001b[39m(obj, \u001b[38;5;124m\"\u001b[39m\u001b[38;5;124mto_dict\u001b[39m\u001b[38;5;124m\"\u001b[39m):\n\u001b[0;32m     66\u001b[0m     \u001b[38;5;28;01mreturn\u001b[39;00m obj\u001b[38;5;241m.\u001b[39mto_dict()\n",
      "File \u001b[1;32mC:\\Workspace\\p-python2doc\\venv\\lib\\site-packages\\altair\\utils\\schemapi.py:61\u001b[0m, in \u001b[0;36m<dictcomp>\u001b[1;34m(.0)\u001b[0m\n\u001b[0;32m     58\u001b[0m     \u001b[38;5;28;01mreturn\u001b[39;00m [_todict(v, validate, context) \u001b[38;5;28;01mfor\u001b[39;00m v \u001b[38;5;129;01min\u001b[39;00m obj]\n\u001b[0;32m     59\u001b[0m \u001b[38;5;28;01melif\u001b[39;00m \u001b[38;5;28misinstance\u001b[39m(obj, \u001b[38;5;28mdict\u001b[39m):\n\u001b[0;32m     60\u001b[0m     \u001b[38;5;28;01mreturn\u001b[39;00m {\n\u001b[1;32m---> 61\u001b[0m         k: \u001b[43m_todict\u001b[49m\u001b[43m(\u001b[49m\u001b[43mv\u001b[49m\u001b[43m,\u001b[49m\u001b[43m \u001b[49m\u001b[43mvalidate\u001b[49m\u001b[43m,\u001b[49m\u001b[43m \u001b[49m\u001b[43mcontext\u001b[49m\u001b[43m)\u001b[49m\n\u001b[0;32m     62\u001b[0m         \u001b[38;5;28;01mfor\u001b[39;00m k, v \u001b[38;5;129;01min\u001b[39;00m obj\u001b[38;5;241m.\u001b[39mitems()\n\u001b[0;32m     63\u001b[0m         \u001b[38;5;28;01mif\u001b[39;00m v \u001b[38;5;129;01mis\u001b[39;00m \u001b[38;5;129;01mnot\u001b[39;00m Undefined\n\u001b[0;32m     64\u001b[0m     }\n\u001b[0;32m     65\u001b[0m \u001b[38;5;28;01melif\u001b[39;00m \u001b[38;5;28mhasattr\u001b[39m(obj, \u001b[38;5;124m\"\u001b[39m\u001b[38;5;124mto_dict\u001b[39m\u001b[38;5;124m\"\u001b[39m):\n\u001b[0;32m     66\u001b[0m     \u001b[38;5;28;01mreturn\u001b[39;00m obj\u001b[38;5;241m.\u001b[39mto_dict()\n",
      "File \u001b[1;32mC:\\Workspace\\p-python2doc\\venv\\lib\\site-packages\\altair\\utils\\schemapi.py:56\u001b[0m, in \u001b[0;36m_todict\u001b[1;34m(obj, validate, context)\u001b[0m\n\u001b[0;32m     54\u001b[0m \u001b[38;5;124;03m\"\"\"Convert an object to a dict representation.\"\"\"\u001b[39;00m\n\u001b[0;32m     55\u001b[0m \u001b[38;5;28;01mif\u001b[39;00m \u001b[38;5;28misinstance\u001b[39m(obj, SchemaBase):\n\u001b[1;32m---> 56\u001b[0m     \u001b[38;5;28;01mreturn\u001b[39;00m \u001b[43mobj\u001b[49m\u001b[38;5;241;43m.\u001b[39;49m\u001b[43mto_dict\u001b[49m\u001b[43m(\u001b[49m\u001b[43mvalidate\u001b[49m\u001b[38;5;241;43m=\u001b[39;49m\u001b[43mvalidate\u001b[49m\u001b[43m,\u001b[49m\u001b[43m \u001b[49m\u001b[43mcontext\u001b[49m\u001b[38;5;241;43m=\u001b[39;49m\u001b[43mcontext\u001b[49m\u001b[43m)\u001b[49m\n\u001b[0;32m     57\u001b[0m \u001b[38;5;28;01melif\u001b[39;00m \u001b[38;5;28misinstance\u001b[39m(obj, (\u001b[38;5;28mlist\u001b[39m, \u001b[38;5;28mtuple\u001b[39m, np\u001b[38;5;241m.\u001b[39mndarray)):\n\u001b[0;32m     58\u001b[0m     \u001b[38;5;28;01mreturn\u001b[39;00m [_todict(v, validate, context) \u001b[38;5;28;01mfor\u001b[39;00m v \u001b[38;5;129;01min\u001b[39;00m obj]\n",
      "File \u001b[1;32mC:\\Workspace\\p-python2doc\\venv\\lib\\site-packages\\altair\\vegalite\\v4\\schema\\channels.py:40\u001b[0m, in \u001b[0;36mFieldChannelMixin.to_dict\u001b[1;34m(self, validate, ignore, context)\u001b[0m\n\u001b[0;32m     38\u001b[0m \u001b[38;5;28;01melif\u001b[39;00m \u001b[38;5;129;01mnot\u001b[39;00m (type_in_shorthand \u001b[38;5;129;01mor\u001b[39;00m type_defined_explicitly):\n\u001b[0;32m     39\u001b[0m     \u001b[38;5;28;01mif\u001b[39;00m \u001b[38;5;28misinstance\u001b[39m(context\u001b[38;5;241m.\u001b[39mget(\u001b[38;5;124m'\u001b[39m\u001b[38;5;124mdata\u001b[39m\u001b[38;5;124m'\u001b[39m, \u001b[38;5;28;01mNone\u001b[39;00m), pd\u001b[38;5;241m.\u001b[39mDataFrame):\n\u001b[1;32m---> 40\u001b[0m         \u001b[38;5;28;01mraise\u001b[39;00m \u001b[38;5;167;01mValueError\u001b[39;00m(\u001b[38;5;124m\"\u001b[39m\u001b[38;5;132;01m{}\u001b[39;00m\u001b[38;5;124m encoding field is specified without a type; \u001b[39m\u001b[38;5;124m\"\u001b[39m\n\u001b[0;32m     41\u001b[0m                          \u001b[38;5;124m\"\u001b[39m\u001b[38;5;124mthe type cannot be inferred because it does not \u001b[39m\u001b[38;5;124m\"\u001b[39m\n\u001b[0;32m     42\u001b[0m                          \u001b[38;5;124m\"\u001b[39m\u001b[38;5;124mmatch any column in the data.\u001b[39m\u001b[38;5;124m\"\u001b[39m\u001b[38;5;241m.\u001b[39mformat(shorthand))\n\u001b[0;32m     43\u001b[0m     \u001b[38;5;28;01melse\u001b[39;00m:\n\u001b[0;32m     44\u001b[0m         \u001b[38;5;28;01mraise\u001b[39;00m \u001b[38;5;167;01mValueError\u001b[39;00m(\u001b[38;5;124m\"\u001b[39m\u001b[38;5;132;01m{}\u001b[39;00m\u001b[38;5;124m encoding field is specified without a type; \u001b[39m\u001b[38;5;124m\"\u001b[39m\n\u001b[0;32m     45\u001b[0m                          \u001b[38;5;124m\"\u001b[39m\u001b[38;5;124mthe type cannot be automatically inferred because \u001b[39m\u001b[38;5;124m\"\u001b[39m\n\u001b[0;32m     46\u001b[0m                          \u001b[38;5;124m\"\u001b[39m\u001b[38;5;124mthe data is not specified as a pandas.DataFrame.\u001b[39m\u001b[38;5;124m\"\u001b[39m\n\u001b[0;32m     47\u001b[0m                          \u001b[38;5;124m\"\u001b[39m\u001b[38;5;124m\"\u001b[39m\u001b[38;5;241m.\u001b[39mformat(shorthand))\n",
      "\u001b[1;31mValueError\u001b[0m: sum(count) encoding field is specified without a type; the type cannot be inferred because it does not match any column in the data."
     ]
    }
   ],
   "source": [
    "# Chart - Pie 차트\n",
    "if region == 'All':\n",
    "    source = pivot\n",
    "    chart = getPieChart(df_filtered)\n",
    "    chart.save(f'./charts/cpm_{region}_{y}_{m}_{d}_1.png')\n",
    "else:\n",
    "    pass\n",
    "\n",
    "# Chart - 라인 차트\n",
    "chart = getLineChart2(df_filtered, month)\n",
    "chart.save(f'./charts/cpm_{region}_{y}_{m}_{d}_2.png')"
   ]
  },
  {
   "cell_type": "code",
   "execution_count": null,
   "id": "2e9d72be-b2f3-44c4-98aa-4ab80cf38c21",
   "metadata": {},
   "outputs": [],
   "source": [
    "# Document\n",
    "document.add_paragraph('용량(이슈) 관리', style='List Number')\n",
    "\n",
    "if region == 'All':\n",
    "    document.add_paragraph(f'{month}: 총 {total}', style='List Bullet')    \n",
    "    document.add_picture(f'./charts/cpm_{region}_{y}_{m}_{d}_1.png')\n",
    "else:\n",
    "    pass\n",
    "\n",
    "document.add_paragraph(f'월별 추세', style='List Bullet')\n",
    "document.add_picture(f'./charts/cpm_{region}_{y}_{m}_{d}_2.png')   "
   ]
  },
  {
   "cell_type": "code",
   "execution_count": null,
   "id": "281eb520-5c01-4e65-8b49-c856bd8209f3",
   "metadata": {},
   "outputs": [],
   "source": [
    "# Document\n",
    "addSummaryTable(df_filtered, regex, month)\n",
    "document.add_page_break()"
   ]
  },
  {
   "cell_type": "code",
   "execution_count": null,
   "id": "e121a457-e300-4bf6-a8ed-db2c7254e743",
   "metadata": {},
   "outputs": [],
   "source": [
    "document.add_paragraph(f'자원 현황표', style='List Bullet')"
   ]
  },
  {
   "cell_type": "markdown",
   "id": "4646dc19-72f8-4b7c-b39f-184cda10d628",
   "metadata": {
    "jp-MarkdownHeadingCollapsed": true,
    "tags": []
   },
   "source": [
    "## 1.8 백업 관리"
   ]
  },
  {
   "cell_type": "code",
   "execution_count": null,
   "id": "41f9d197-9828-42b1-acb0-eb722701e44f",
   "metadata": {},
   "outputs": [],
   "source": [
    "base_path = r\"./data/1_8_202206_백업관리_0720_01.ods\"\n",
    "sheet = '6월집계'\n",
    "\n",
    "df = read_ods(base_path, sheet, headers=True)\n",
    "df_filtered = df[df['리전'].apply(lambda x: True if re.search(regex, x) else False) & (df['테넌트']== 'PRD') & (df['월간']=='O')]\n",
    "\n",
    "# Pivoting\n",
    "pivot, total = getPivotTable(df)"
   ]
  },
  {
   "cell_type": "code",
   "execution_count": null,
   "id": "2feb4422-3754-4fa0-b6d7-7dd814823bfb",
   "metadata": {},
   "outputs": [],
   "source": [
    "# Chart - Pie 차트\n",
    "if region == 'All':\n",
    "    source = pivot\n",
    "    chart = getPieChart(df_filtered, month)\n",
    "    chart.save(f'./charts/bm_{region}_{y}_{m}_{d}_1.png')\n",
    "else:\n",
    "    pass\n",
    "\n",
    "# Chart - 라인 차트\n",
    "chart = getLineChart(df_filtered, month)\n",
    "chart.save(f'./charts/bm_{region}_{y}_{m}_{d}_2.png')"
   ]
  },
  {
   "cell_type": "code",
   "execution_count": null,
   "id": "8e369d67-f65b-46d1-a50e-bece94135670",
   "metadata": {},
   "outputs": [],
   "source": [
    "# Document\n",
    "document.add_paragraph('백업 관리', style='List Number')\n",
    "\n",
    "if region == 'All':\n",
    "    document.add_paragraph(f'{month}: 총 {total}', style='List Bullet')    \n",
    "    document.add_picture(f'./charts/bm_{region}_{y}_{m}_{d}_1.png')\n",
    "else:\n",
    "    pass\n",
    "\n",
    "document.add_paragraph(f'월별 추세', style='List Bullet')\n",
    "document.add_picture(f'./charts/bm_{region}_{y}_{m}_{d}_2.png')   "
   ]
  },
  {
   "cell_type": "code",
   "execution_count": null,
   "id": "87fc4ede-321d-4324-9909-4847c2ac3205",
   "metadata": {},
   "outputs": [],
   "source": [
    "# Document\n",
    "# addSummaryTable(df_filtered, regex, month)\n",
    "document.add_page_break()"
   ]
  },
  {
   "cell_type": "markdown",
   "id": "64752b33-16b5-426e-a0a5-c4b99f9c3ae0",
   "metadata": {
    "jp-MarkdownHeadingCollapsed": true,
    "tags": []
   },
   "source": [
    "## 1.9 보안 관리"
   ]
  },
  {
   "cell_type": "code",
   "execution_count": null,
   "id": "14abfdf7-4f38-492c-b7c0-a2ad06204885",
   "metadata": {},
   "outputs": [],
   "source": [
    "base_path = r\"./data/1_9_202206_보안관리_0720_01.ods\"\n",
    "sheet = '6월집계'\n",
    "\n",
    "df = read_ods(base_path, sheet, headers=True)\n",
    "df_filtered = df[df['리전'].apply(lambda x: True if re.search(regex, x) else False) & (df['테넌트']== 'PRD') & (df['월간']=='O')]\n",
    "\n",
    "# Pivoting\n",
    "pivot, total = getPivotTable(df)"
   ]
  },
  {
   "cell_type": "code",
   "execution_count": null,
   "id": "cae69319-c325-40c0-b301-390bd6986b0b",
   "metadata": {},
   "outputs": [],
   "source": [
    "# Chart - Pie 차트\n",
    "if region == 'All':\n",
    "    source = pivot\n",
    "    chart = getPieChart(df_filtered, month)\n",
    "    chart.save(f'./charts/sm_{region}_{y}_{m}_{d}_1.png')\n",
    "else:\n",
    "    pass\n",
    "\n",
    "# Chart - 라인 차트\n",
    "chart = getLineChart(df_filtered, month)\n",
    "chart.save(f'./charts/sm_{region}_{y}_{m}_{d}_2.png')"
   ]
  },
  {
   "cell_type": "code",
   "execution_count": null,
   "id": "cc73840e-ead6-4cb0-b2fe-ff5cbc326b6f",
   "metadata": {},
   "outputs": [],
   "source": [
    "# Document\n",
    "document.add_paragraph('보안 관리', style='List Number')\n",
    "\n",
    "if region == 'All':\n",
    "    document.add_paragraph(f'{month}: 총 {total}', style='List Bullet')    \n",
    "    document.add_picture(f'./charts/sm_{region}_{y}_{m}_{d}_1.png')\n",
    "else:\n",
    "    pass\n",
    "\n",
    "document.add_paragraph(f'월별 추세', style='List Bullet')\n",
    "document.add_picture(f'./charts/sm_{region}_{y}_{m}_{d}_2.png')   "
   ]
  },
  {
   "cell_type": "code",
   "execution_count": null,
   "id": "3e39832a-4818-4753-b921-a7be3276bdb1",
   "metadata": {},
   "outputs": [],
   "source": [
    "# Document\n",
    "addSummaryTable(df_filtered, regex, month)\n",
    "document.add_page_break()"
   ]
  },
  {
   "cell_type": "markdown",
   "id": "310c18b3-6b7f-4608-9710-68ce11496bec",
   "metadata": {
    "jp-MarkdownHeadingCollapsed": true,
    "tags": []
   },
   "source": [
    "## 1.10 하드웨어 정기점검"
   ]
  },
  {
   "cell_type": "code",
   "execution_count": null,
   "id": "1fe8c2d7-3f15-45e7-a82a-ecb027b43eeb",
   "metadata": {},
   "outputs": [],
   "source": [
    "base_path = r\"./data/1_10_202206_정기점검_0720_01.ods\"\n",
    "sheet = '6월집계'\n",
    "\n",
    "df = read_ods(base_path, sheet, headers=True)\n",
    "df_filtered = df[df['리전'].apply(lambda x: True if re.search(regex, x) else False) & (df['테넌트']== 'PRD') & (df['월간']=='O')]\n",
    "\n",
    "# Pivoting\n",
    "pivot, total = getPivotTable(df)"
   ]
  },
  {
   "cell_type": "code",
   "execution_count": null,
   "id": "e58070ae-0a83-4f6e-87da-c416db7f9f58",
   "metadata": {},
   "outputs": [],
   "source": [
    "# Chart - Pie 차트\n",
    "if region == 'All':\n",
    "    source = pivot\n",
    "    chart = getPieChart(df_filtered, month)\n",
    "    chart.save(f'./charts/rc_{region}_{y}_{m}_{d}_1.png')\n",
    "else:\n",
    "    pass\n",
    "\n",
    "# Chart - 라인 차트\n",
    "chart = getLineChart(df_filtered, month)\n",
    "chart.save(f'./charts/rc_{region}_{y}_{m}_{d}_2.png')"
   ]
  },
  {
   "cell_type": "code",
   "execution_count": null,
   "id": "5eac84be-dfcf-4632-bd4f-d4033167228d",
   "metadata": {},
   "outputs": [],
   "source": [
    "# Document\n",
    "document.add_paragraph('정기점검', style='List Number')\n",
    "\n",
    "if region == 'All':\n",
    "    document.add_paragraph(f'{month}: 총 {total}', style='List Bullet')    \n",
    "    document.add_picture(f'./charts/rc_{region}_{y}_{m}_{d}_1.png')\n",
    "else:\n",
    "    pass\n",
    "\n",
    "document.add_paragraph(f'월별 추세', style='List Bullet')\n",
    "document.add_picture(f'./charts/rc_{region}_{y}_{m}_{d}_2.png')   "
   ]
  },
  {
   "cell_type": "code",
   "execution_count": null,
   "id": "04dd2e62-709a-4332-a65f-f7d7b76db34f",
   "metadata": {},
   "outputs": [],
   "source": [
    "# Document\n",
    "# addSummaryTable(df_filtered, regex, month)\n",
    "document.add_page_break()"
   ]
  },
  {
   "cell_type": "code",
   "execution_count": null,
   "id": "e14fded8-722c-44fa-a880-69bf19981e87",
   "metadata": {},
   "outputs": [],
   "source": []
  },
  {
   "cell_type": "markdown",
   "id": "ffd0d1b0-e76a-49dc-a3ac-da373436ad7b",
   "metadata": {
    "tags": []
   },
   "source": [
    "## Save Document"
   ]
  },
  {
   "cell_type": "code",
   "execution_count": 52,
   "id": "aa4d0514-a153-4d72-a019-38db7a8923ac",
   "metadata": {},
   "outputs": [],
   "source": [
    "document.save(f'{month}_{region}_월간보고서_{y}_{m}_{d}.docx')"
   ]
  },
  {
   "cell_type": "markdown",
   "id": "bc53cf14-e35d-41bf-a8f3-4cde30a3fffe",
   "metadata": {
    "tags": []
   },
   "source": [
    "## 보고서 표지 (커버 쉬트)"
   ]
  },
  {
   "cell_type": "code",
   "execution_count": 51,
   "id": "15ac4f8b-4156-46a3-86d9-df9d258906dc",
   "metadata": {},
   "outputs": [],
   "source": [
    "# Cover Page\n",
    "from docxtpl import DocxTemplate\n",
    "\n",
    "doc = DocxTemplate(\"cover-page-template.docx\")\n",
    "context = { \n",
    "    'Service' : \"HMC CCS Infra 운영/관리\",      \n",
    "    'Title' : \"Monthly Report\",    \n",
    "    'Region' : \"Global\",        \n",
    "    'Year' : \"2022\",\n",
    "    'Month' : \"6\",\n",
    "    'Department' : \"클라우드운영센터\",\n",
    "    'Author' : \"정인환\"\n",
    "}\n",
    "doc.render(context)\n",
    "year = 2022\n",
    "mon = 6\n",
    "doc.save(f\"MR-{year}-{mon}.docx\")"
   ]
  },
  {
   "cell_type": "code",
   "execution_count": 53,
   "id": "2138a594-4c23-432a-b464-ebd218c67a3b",
   "metadata": {},
   "outputs": [],
   "source": [
    "# Merged Doc\n",
    "\n",
    "from docx import Document\n",
    "\n",
    "files = [f\"MR-{year}-{mon}.docx\", f'{month}_{region}_월간보고서_{y}_{m}_{d}.docx' ]\n",
    "\n",
    "def combine_word_documents(files):\n",
    "    merged_document = Document()\n",
    "\n",
    "    for index, file in enumerate(files):\n",
    "        sub_doc = Document(file)\n",
    "\n",
    "        # Don't add a page break if you've reached the last file.\n",
    "        if index < len(files)-1:\n",
    "           sub_doc.add_page_break()\n",
    "\n",
    "        for element in sub_doc.element.body:\n",
    "            merged_document.element.body.append(element)\n",
    "\n",
    "    merged_document.save(f'merged_{month}_{region}_월간보고서_{y}_{m}_{d}.docx')\n",
    "\n",
    "combine_word_documents(files)"
   ]
  },
  {
   "cell_type": "code",
   "execution_count": null,
   "id": "d240bfcd-39b9-410f-b367-2e0bc5e6a486",
   "metadata": {},
   "outputs": [],
   "source": []
  }
 ],
 "metadata": {
  "kernelspec": {
   "display_name": "Python 3 (ipykernel)",
   "language": "python",
   "name": "python3"
  },
  "language_info": {
   "codemirror_mode": {
    "name": "ipython",
    "version": 3
   },
   "file_extension": ".py",
   "mimetype": "text/x-python",
   "name": "python",
   "nbconvert_exporter": "python",
   "pygments_lexer": "ipython3",
   "version": "3.9.13"
  }
 },
 "nbformat": 4,
 "nbformat_minor": 5
}
